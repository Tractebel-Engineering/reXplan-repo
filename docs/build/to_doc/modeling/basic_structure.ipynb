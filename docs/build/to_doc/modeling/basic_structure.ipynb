{
 "cells": [
  {
   "cell_type": "markdown",
   "id": "7e254525",
   "metadata": {},
   "source": [
    "# Basic Structure\n",
    "\n",
    "The main branch of the [repository](https://github.com/Tractebel-TEG/reXplan-repo) (in the following \"repo\") contains the reXplan module, notebook folders and metadata."
   ]
  },
  {
   "cell_type": "markdown",
   "id": "2b6b5fb9",
   "metadata": {},
   "source": [
    "## reXplan Module\n",
    "\n",
    "The module primarily consists of multiple python files, which are the backbone of reXplan. Here, all the functions and classes that can be accessed by the notebooks, are stored. Any changes can result in unexpected behaviour."
   ]
  },
  {
   "cell_type": "markdown",
   "id": "2ff26f91",
   "metadata": {},
   "source": [
    "## Notebook Folders\n",
    "\n",
    "The utilization of Jupyter & Pluto Notebook significantly enhances the learning curve for programming and data analysis. These interactive environments offer a hands-on and intuitive approach to learning by allowing learners to write, visualize, and execute code in real time. "
   ]
  },
  {
   "cell_type": "markdown",
   "id": "a822b064",
   "metadata": {},
   "source": [
    "### Jupyter Notebook\n",
    "\n",
    "Jupyter Notebooks is based on [Python](https://www.python.org/) and provide a seamless integration of code, text explanations, and visualizations, fostering a holistic understanding of concepts. In the repo, there are multiple notebooks ready for usage. Refer to [**(I/0) - Input Data**](../modeling/input_data.md) for usage information."
   ]
  },
  {
   "cell_type": "markdown",
   "id": "7313d793",
   "metadata": {},
   "source": [
    "### Pluto Notebook\n",
    "\n",
    "Pluto Notebooks is based on [Julia](https://julialang.org/) and adds reactive programming, enabling learners to experiment with code blocks and immediately observe the effects on visualizations, thereby reinforcing comprehension through immediate feedback. In the current state of the repo, there is a single file available to explore. "
   ]
  },
  {
   "cell_type": "markdown",
   "id": "52a78ca8",
   "metadata": {},
   "source": [
    "## Metadata\n",
    "\n",
    "The metadata specifications will not be covered in this documentation. Information upon request via mail at [rexplan@tractebel.engie.com](rexplan@tractebel.engie.com)"
   ]
  }
 ],
 "metadata": {
  "kernelspec": {
   "display_name": "Python 3",
   "language": "python",
   "name": "python3"
  },
  "language_info": {
   "codemirror_mode": {
    "name": "ipython",
    "version": 3
   },
   "file_extension": ".py",
   "mimetype": "text/x-python",
   "name": "python",
   "nbconvert_exporter": "python",
   "pygments_lexer": "ipython3",
   "version": "3.10.10"
  }
 },
 "nbformat": 4,
 "nbformat_minor": 5
}
