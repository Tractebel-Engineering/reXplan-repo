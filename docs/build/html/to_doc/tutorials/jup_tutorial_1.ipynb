{
 "cells": [
  {
   "cell_type": "markdown",
   "metadata": {},
   "source": [
    "# Tutorial I: PLACEHOLDER I"
   ]
  },
  {
   "cell_type": "markdown",
   "metadata": {},
   "source": [
    "Space for an introductory Tutorial to understand reXplan learning by doing."
   ]
  },
  {
   "cell_type": "markdown",
   "metadata": {},
   "source": [
    "Ideas:"
   ]
  },
  {
   "cell_type": "markdown",
   "metadata": {},
   "source": [
    "- build small network from scratch (~ 4 bus)\n",
    "- create fragility curves\n",
    "- create return period (based on real data?)"
   ]
  }
 ],
 "metadata": {
  "language_info": {
   "name": "python"
  }
 },
 "nbformat": 4,
 "nbformat_minor": 2
}
