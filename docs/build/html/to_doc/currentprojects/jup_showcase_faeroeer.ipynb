{
 "cells": [
  {
   "cell_type": "markdown",
   "id": "c0e9f2a9",
   "metadata": {},
   "source": [
    "# Showcase Faröer: PLACEHOLDER III"
   ]
  },
  {
   "cell_type": "markdown",
   "id": "d69f2775",
   "metadata": {},
   "source": [
    "Space for extensive showcase project - Färöer islands (2nd tutorial should have similar results to showcase)"
   ]
  }
 ],
 "metadata": {
  "kernelspec": {
   "display_name": "Python 3",
   "language": "python",
   "name": "python3"
  },
  "language_info": {
   "codemirror_mode": {
    "name": "ipython",
    "version": 3
   },
   "file_extension": ".py",
   "mimetype": "text/x-python",
   "name": "python",
   "nbconvert_exporter": "python",
   "pygments_lexer": "ipython3",
   "version": "3.10.10"
  }
 },
 "nbformat": 4,
 "nbformat_minor": 5
}
