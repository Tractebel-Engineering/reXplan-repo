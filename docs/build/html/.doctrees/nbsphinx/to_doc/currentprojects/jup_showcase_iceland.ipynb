{
 "cells": [
  {
   "cell_type": "markdown",
   "id": "c0e9f2a9",
   "metadata": {},
   "source": [
    "# Showcase Iceland: PLACEHOLDER IV"
   ]
  },
  {
   "cell_type": "markdown",
   "id": "17586c73",
   "metadata": {},
   "source": [
    "Master Topic: Building the Power Grid of Iceland"
   ]
  }
 ],
 "metadata": {
  "kernelspec": {
   "display_name": "Python 3",
   "language": "python",
   "name": "python3"
  },
  "language_info": {
   "codemirror_mode": {
    "name": "ipython",
    "version": 3
   },
   "file_extension": ".py",
   "mimetype": "text/x-python",
   "name": "python",
   "nbconvert_exporter": "python",
   "pygments_lexer": "ipython3",
   "version": "3.10.10"
  }
 },
 "nbformat": 4,
 "nbformat_minor": 5
}
