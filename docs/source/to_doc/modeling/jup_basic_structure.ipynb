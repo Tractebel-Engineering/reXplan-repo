{
 "cells": [
  {
   "cell_type": "markdown",
   "id": "0899e3c2",
   "metadata": {},
   "source": [
    "# Basic Structure Overview"
   ]
  },
  {
   "cell_type": "markdown",
   "id": "fef45e7f",
   "metadata": {},
   "source": [
    "**Short Introduction to resilience modelling.**\n",
    "\n",
    "\n",
    "Working primarily with [**Jupyter Notebook**](https://docs.jupyter.org/en/latest/).<br>\n",
    "See Folder Structure of reXplan.<br>\n",
    "If new file created, rexplan/jupyternotebooks/file/.. new files need to be created manually.<br>\n",
    "For more information, see [Input](../modeling/input_data.md) & [Output Data](../modeling/output_data.md)."
   ]
  },
  {
   "cell_type": "markdown",
   "id": "d8d8fec0",
   "metadata": {},
   "source": [
    "Necessary imports depend on scope of Project.<br>\n",
    "Command `import resiliencyTool as rt` recommended."
   ]
  },
  {
   "cell_type": "markdown",
   "id": "f7c360bd",
   "metadata": {},
   "source": [
    "Intoductory text to\n",
    "[Input Data](input_data.md) with topics Grid, Fragility Curves, Hazard\n",
    "\n",
    "[Grid Modeling](grid_modeling.md) with topic The network data can be imported from PowerFactory/PandaPower with model_port, build from scratch with network.xlsx.\n",
    "\n",
    "[Fragility Curves](fragility_curve.md) with topic A fragility curve is a graphical representation that depicts the relationship between a intensity measure of a hazard and the corresponding probability of failure for a specific element.\n",
    "Fragility curves are developed based on empirical data collected from past hazard events. They provide valuable information for risk assessment, loss estimation, and decision-making processes related to hazard mitigation and emergency preparedness.\n",
    "\n",
    "[Hazard Modeling](hazard_modeling.md) with topic Different methodologies, based on provided dataset. Epicenter, trajectory, return period or NetCDF data\n",
    "\n",
    "[Output Data](output_data.md) with topic Monte Carlo Database (outage schedule), engine database with opf"
   ]
  }
 ],
 "metadata": {
  "kernelspec": {
   "display_name": "Python 3",
   "language": "python",
   "name": "python3"
  },
  "language_info": {
   "codemirror_mode": {
    "name": "ipython",
    "version": 3
   },
   "file_extension": ".py",
   "mimetype": "text/x-python",
   "name": "python",
   "nbconvert_exporter": "python",
   "pygments_lexer": "ipython3",
   "version": "3.10.10"
  }
 },
 "nbformat": 4,
 "nbformat_minor": 5
}
