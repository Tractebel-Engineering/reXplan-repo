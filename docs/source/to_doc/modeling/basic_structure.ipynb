{
 "cells": [
  {
   "cell_type": "markdown",
   "id": "0899e3c2",
   "metadata": {},
   "source": [
    "# Basic Structure Overview"
   ]
  },
  {
   "cell_type": "markdown",
   "id": "7e254525",
   "metadata": {},
   "source": [
    "## Repository Structure\n",
    "\n",
    "The main branch of the [repository](https://github.com/Tractebel-TEG/reXplan-repo) (in the following \"repo\") contains the reXplan module, notebook folders and metadata."
   ]
  },
  {
   "cell_type": "markdown",
   "id": "2b6b5fb9",
   "metadata": {},
   "source": [
    "### reXplan Module\n",
    "\n",
    "The module primarily consists of multiple python files, which are the backbone of reXplan. Here, all the functions and classes that can be accessed by the notebooks, are stored. Any changes can result in unexpected behaviour."
   ]
  },
  {
   "cell_type": "markdown",
   "id": "2ff26f91",
   "metadata": {},
   "source": [
    "### Notebook Folders\n",
    "\n",
    "The utilization of Jupyter & Pluto Notebook significantly enhances the learning curve for programming and data analysis. These interactive environments offer a hands-on and intuitive approach to learning by allowing learners to write, visualize, and execute code in real time. "
   ]
  },
  {
   "cell_type": "markdown",
   "id": "a822b064",
   "metadata": {},
   "source": [
    "#### Jupyter Notebook\n",
    "\n",
    "Jupyter Notebooks is based on [Python](https://www.python.org/) and provide a seamless integration of code, text explanations, and visualizations, fostering a holistic understanding of concepts. In the repo, there are multiple notebooks ready for usage."
   ]
  },
  {
   "cell_type": "markdown",
   "id": "7313d793",
   "metadata": {},
   "source": [
    "#### Pluto Notebook\n",
    "\n",
    "Pluto Notebooks is based on [Julia](https://julialang.org/) and adds reactive programming, enabling learners to experiment with code blocks and immediately observe the effects on visualizations, thereby reinforcing comprehension through immediate feedback. In the current state of the repo, there is a single file available to explore. "
   ]
  },
  {
   "cell_type": "markdown",
   "id": "52a78ca8",
   "metadata": {},
   "source": [
    "### Metadata\n",
    "\n",
    "The metadata specifications will not be covered in this documentation. Information upon request via [LINK]"
   ]
  },
  {
   "cell_type": "markdown",
   "id": "af6cea0c",
   "metadata": {},
   "source": [
    "## Usage Structure\n",
    "\n",
    "Mainly working with Juypter"
   ]
  },
  {
   "cell_type": "markdown",
   "id": "6e06535a",
   "metadata": {},
   "source": [
    "### Folder Structure"
   ]
  },
  {
   "cell_type": "markdown",
   "id": "f6089595",
   "metadata": {},
   "source": [
    "### Inputs"
   ]
  },
  {
   "cell_type": "markdown",
   "id": "6cb62896",
   "metadata": {},
   "source": [
    "### Outputs"
   ]
  },
  {
   "cell_type": "markdown",
   "id": "fef45e7f",
   "metadata": {},
   "source": [
    "\n",
    "If new file created, rexplan/jupyternotebooks/file/.. new files need to be created manually.<br>\n",
    "For more information, see [Input](../modeling/input_data.md) & [Output Data](../modeling/output_data.md)."
   ]
  },
  {
   "cell_type": "markdown",
   "id": "d8d8fec0",
   "metadata": {},
   "source": [
    "Necessary imports depend on scope of Project.<br>\n",
    "Command `import resiliencyTool as rt` recommended."
   ]
  },
  {
   "cell_type": "markdown",
   "id": "a3c2806c",
   "metadata": {},
   "source": [
    "Intoductory text to\n",
    "[Input Data](input_data.md) with topics Grid, Fragility Curves, Hazard\n",
    "\n",
    "[Grid Modeling](grid_modeling.md) with topic The network data can be imported from PowerFactory/PandaPower with model_port, build from scratch with network.xlsx.\n",
    "\n",
    "[Fragility Curves](fragility_curve.md) with topic A fragility curve is a graphical representation that depicts the relationship between a intensity measure of a hazard and the corresponding probability of failure for a specific element.\n",
    "Fragility curves are developed based on empirical data collected from past hazard events. They provide valuable information for risk assessment, loss estimation, and decision-making processes related to hazard mitigation and emergency preparedness.\n",
    "\n",
    "[Hazard Modeling](hazard_modeling.md) with topic Different methodologies, based on provided dataset. Epicenter, trajectory, return period or NetCDF data\n",
    "\n",
    "[Output Data](output_data.md) with topic Monte Carlo Database (outage schedule), engine database with opf"
   ]
  }
 ],
 "metadata": {
  "kernelspec": {
   "display_name": "Python 3",
   "language": "python",
   "name": "python3"
  },
  "language_info": {
   "codemirror_mode": {
    "name": "ipython",
    "version": 3
   },
   "file_extension": ".py",
   "mimetype": "text/x-python",
   "name": "python",
   "nbconvert_exporter": "python",
   "pygments_lexer": "ipython3",
   "version": "3.10.10"
  }
 },
 "nbformat": 4,
 "nbformat_minor": 5
}
