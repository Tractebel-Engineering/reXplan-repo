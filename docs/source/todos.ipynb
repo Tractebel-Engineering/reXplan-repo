{
 "cells": [
  {
   "cell_type": "markdown",
   "metadata": {},
   "source": [
    "# TIMS TO DO'S"
   ]
  },
  {
   "cell_type": "markdown",
   "metadata": {},
   "source": [
    "- WRITE DOCSTRINGS"
   ]
  },
  {
   "cell_type": "markdown",
   "metadata": {},
   "source": [
    "## Getting Started\n",
    "- Add Text to Landing-Page, explaining reXplan as Module/Library\n",
    "- Create Super Basic Example to visualize capabalitities"
   ]
  },
  {
   "cell_type": "markdown",
   "metadata": {},
   "source": [
    "## Modeling\n",
    "\n",
    "- OPF (AC/DC)\n",
    "- Stratification\n",
    "- insert Graph from Paper (\"Activity diagram, calculation of pof\")\n",
    "\n",
    "- Excel Explanation\n",
    "- Elements\n",
    "\n",
    "- Pandas\n",
    "- Visualization\n"
   ]
  },
  {
   "cell_type": "markdown",
   "metadata": {},
   "source": [
    "## Tutorial\n",
    "- Tutorial for Methods 1-4 each, different networks (?)"
   ]
  },
  {
   "cell_type": "markdown",
   "metadata": {},
   "source": [
    "## Current Projects\n",
    "- Information on how to contribute\n",
    "- upcoming changes\n",
    "- issues on GitHub\n",
    "- Plans with Showcase Färöer/ Iceland"
   ]
  },
  {
   "cell_type": "markdown",
   "metadata": {},
   "source": [
    "## Misc\n",
    "\n",
    "`initialize` -> engine_database <br>\n",
    "`run` -> montecarlo_database\n",
    "\n",
    "The `initialize_model_rp` function initializes a model for reliability analysis using fragility curves and return periods.\n",
    "\n",
    "The `run` function takes in a network and a set of iterations, updates the grid with Monte Carlo data, runs the network simulation for each iteration, and saves the results to a database."
   ]
  }
 ],
 "metadata": {
  "kernelspec": {
   "display_name": "venv",
   "language": "python",
   "name": "python3"
  },
  "language_info": {
   "codemirror_mode": {
    "name": "ipython",
    "version": 3
   },
   "file_extension": ".py",
   "mimetype": "text/x-python",
   "name": "python",
   "nbconvert_exporter": "python",
   "pygments_lexer": "ipython3",
   "version": "3.10.10"
  },
  "orig_nbformat": 4
 },
 "nbformat": 4,
 "nbformat_minor": 2
}
