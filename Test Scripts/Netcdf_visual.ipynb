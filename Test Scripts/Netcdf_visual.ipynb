{
 "cells": [
  {
   "cell_type": "code",
   "execution_count": 4,
   "id": "117c4b93-a610-4394-996f-027f67503cc4",
   "metadata": {},
   "outputs": [],
   "source": [
    "import pandas as pd"
   ]
  },
  {
   "cell_type": "code",
   "execution_count": 7,
   "id": "3138de7e-466c-401d-a28f-f1d6463aaaf1",
   "metadata": {},
   "outputs": [],
   "source": [
    "import netCDF4 as nc\n",
    "import numpy as np\n",
    "import matplotlib.pyplot as plt\n",
    "import datetime"
   ]
  },
  {
   "cell_type": "code",
   "execution_count": 8,
   "id": "e7616470-93c9-418d-957b-7495d5aa9815",
   "metadata": {},
   "outputs": [],
   "source": [
    "fn = r'D:\\Documents\\R&D\\RnD_Resiliency\\Test Scripts\\LKA.nc'"
   ]
  },
  {
   "cell_type": "code",
   "execution_count": 9,
   "id": "68b2dc0d-be6b-4f19-921d-0d264f9d44e9",
   "metadata": {},
   "outputs": [],
   "source": [
    "ds = nc.Dataset(fn)"
   ]
  },
  {
   "cell_type": "code",
   "execution_count": 10,
   "id": "e0c81040-f1b4-4fd1-8ff8-73ca698c01b7",
   "metadata": {},
   "outputs": [
    {
     "data": {
      "text/plain": [
       "<class 'netCDF4._netCDF4.Dataset'>\n",
       "root group (NETCDF4 data model, file format HDF5):\n",
       "    CDI: Climate Data Interface version 1.6.9 (http://mpimet.mpg.de/cdi)\n",
       "    history: Thu May 19 11:25:30 2016: cdo -f nc4 sellonlatbox,79,83,5.5,10.5 pr_day_BCSD_rcp45_r1i1p1_CanESM2_rimes.nc LKA.nc\n",
       "Fri Feb 19 12:38:11 2016: cdo -f nc4 mergetime pr_day_BCSD_rcp45_r1i1p1_CanESM2_2006.nc pr_day_BCSD_rcp45_r1i1p1_CanESM2_2007.nc pr_day_BCSD_rcp45_r1i1p1_CanESM2_2008.nc pr_day_BCSD_rcp45_r1i1p1_CanESM2_2009.nc pr_day_BCSD_rcp45_r1i1p1_CanESM2_2010.nc pr_day_BCSD_rcp45_r1i1p1_CanESM2_2011.nc pr_day_BCSD_rcp45_r1i1p1_CanESM2_2012.nc pr_day_BCSD_rcp45_r1i1p1_CanESM2_2013.nc pr_day_BCSD_rcp45_r1i1p1_CanESM2_2014.nc pr_day_BCSD_rcp45_r1i1p1_CanESM2_2015.nc pr_day_BCSD_rcp45_r1i1p1_CanESM2_2016.nc pr_day_BCSD_rcp45_r1i1p1_CanESM2_2017.nc pr_day_BCSD_rcp45_r1i1p1_CanESM2_2018.nc pr_day_BCSD_rcp45_r1i1p1_CanESM2_2019.nc pr_day_BCSD_rcp45_r1i1p1_CanESM2_2020.nc pr_day_BCSD_rcp45_r1i1p1_CanESM2_2021.nc pr_day_BCSD_rcp45_r1i1p1_CanESM2_2022.nc pr_day_BCSD_rcp45_r1i1p1_CanESM2_2023.nc pr_day_BCSD_rcp45_r1i1p1_CanESM2_2024.nc pr_day_BCSD_rcp45_r1i1p1_CanESM2_2025.nc pr_day_BCSD_rcp45_r1i1p1_CanESM2_2026.nc pr_day_BCSD_rcp45_r1i1p1_CanESM2_2027.nc pr_day_BCSD_rcp45_r1i1p1_CanESM2_2028.nc pr_day_BCSD_rcp45_r1i1p1_CanESM2_2029.nc\n",
       "Sat Nov 07 20:51:17 2015: cdo sellonlatbox,20,150,-35,55 /Volumes/JothiDrive/Data/CANESM2/pr/rcp45/pr_day_BCSD_rcp45_r1i1p1_CanESM2_2100.nc /Volumes/RIMES/DAILY/CANESM2/pr/rcp45/2006-2100/pr_day_BCSD_rcp45_r1i1p1_CanESM2_2100.nc\n",
       "    source: BCSD 2014\n",
       "    institution: NASA Earth Exchange, NASA Ames Research Center, Moffett Field, CA 94035\n",
       "    Conventions: CF-1.4\n",
       "    parent_experiment: historical\n",
       "    parent_experiment_id: historical\n",
       "    parent_experiment_rip: r1i1p1\n",
       "    institute_id: NASA-Ames\n",
       "    realm: atmos\n",
       "    modeling_realm: atmos\n",
       "    version: 1.0\n",
       "    downscalingModel: BCSD\n",
       "    experiment_id: rcp45\n",
       "    frequency: day\n",
       "    realization: 1\n",
       "    initialization_method: 1\n",
       "    physics_version: 1\n",
       "    tracking_id: d9064646-7aa0-402a-9547-0d1a915d3f03\n",
       "    driving_data_tracking_ids: N/A\n",
       "    driving_model_ensemble_member: r1i1p1\n",
       "    driving_experiment_name: historical\n",
       "    driving_experiment: historical\n",
       "    model_id: BCSD\n",
       "    references: BCSD method: Thrasher et al., 2012, Hydrol. Earth Syst. Sci.,16, 3309-3314. \n",
       "Ref period obs: latest version of the Princeton Global Meteorological Forcings (http://hydrology.princeton.edu/data.php), \n",
       "based on Sheffield et al., 2006, J. Climate, 19 (13), 3088-3111.\n",
       "    DOI: http://dx.doi.org/10.7292/W0MW2F2G\n",
       "    experiment: RCP4.5\n",
       "    title: CANESM2 global downscaled NEX CMIP5 Climate Projection, r1i1p1, RCP4.5\n",
       "    contact: Dr. Rama Nemani: rama.nemani@nasa.gov, Dr. Bridget Thrasher: bridget@climateanalyticsgroup.org\n",
       "    disclaimer: This data is considered provisional and subject to change. This data is provided as is without any warranty of any kind, either express or implied, arising by law or otherwise, including but not limited to warranties of completeness, non-infringement, accuracy, merchantability, or fitness for a particular purpose. The user assumes all risk associated with the use of, or inability to use, this data.\n",
       "    resolution_id: 0.25 degree\n",
       "    project_id: NEXGDDP\n",
       "    table_id: Table day (12 November 2010)\n",
       "    creation_date: 2015-01-07T21:20:38Z\n",
       "    forcing: N/A\n",
       "    product: output\n",
       "    CDO: Climate Data Operators version 1.6.9 (http://mpimet.mpg.de/cdo)\n",
       "    dimensions(sizes): lon(16), lat(20), time(34675)\n",
       "    variables(dimensions): float32 lon(lon), float32 lat(lat), float64 time(time), float32 pr(time, lat, lon)\n",
       "    groups: "
      ]
     },
     "execution_count": 10,
     "metadata": {},
     "output_type": "execute_result"
    }
   ],
   "source": [
    "ds"
   ]
  },
  {
   "cell_type": "code",
   "execution_count": 11,
   "id": "4de6fa5d-4de5-478b-830f-b614babab227",
   "metadata": {},
   "outputs": [],
   "source": [
    "# This convert data in numpy Masked Array. (Masked Arrais can deal with missing data)\n",
    "pr = ds['pr'][:]\n",
    "lon = ds['lon'][:]\n",
    "lat = ds['lat'][:]\n",
    "time = ds['time'][:]"
   ]
  },
  {
   "cell_type": "code",
   "execution_count": 12,
   "id": "fafda758-bb29-44ff-83b7-be7cd97bb522",
   "metadata": {},
   "outputs": [
    {
     "data": {
      "text/plain": [
       "masked_array(data=[79.125, 79.375, 79.625, 79.875, 80.125, 80.375, 80.625,\n",
       "                   80.875, 81.125, 81.375, 81.625, 81.875, 82.125, 82.375,\n",
       "                   82.625, 82.875],\n",
       "             mask=False,\n",
       "       fill_value=1e+20,\n",
       "            dtype=float32)"
      ]
     },
     "execution_count": 12,
     "metadata": {},
     "output_type": "execute_result"
    }
   ],
   "source": [
    "# example of masked array\n",
    "lon"
   ]
  },
  {
   "cell_type": "code",
   "execution_count": 16,
   "id": "caring-nothing",
   "metadata": {},
   "outputs": [
    {
     "data": {
      "text/plain": [
       "masked_array(data=[cftime.DatetimeGregorian(2005, 11, 24, 12, 0, 0, 0, has_year_zero=False),\n",
       "                   cftime.DatetimeGregorian(2005, 11, 25, 12, 0, 0, 0, has_year_zero=False),\n",
       "                   cftime.DatetimeGregorian(2005, 11, 26, 12, 0, 0, 0, has_year_zero=False),\n",
       "                   ...,\n",
       "                   cftime.DatetimeGregorian(2100, 10, 29, 12, 0, 0, 0, has_year_zero=False),\n",
       "                   cftime.DatetimeGregorian(2100, 10, 30, 12, 0, 0, 0, has_year_zero=False),\n",
       "                   cftime.DatetimeGregorian(2100, 10, 31, 12, 0, 0, 0, has_year_zero=False)],\n",
       "             mask=False,\n",
       "       fill_value='?',\n",
       "            dtype=object)"
      ]
     },
     "execution_count": 16,
     "metadata": {},
     "output_type": "execute_result"
    }
   ],
   "source": [
    "time_var = ds.variables['time']\n",
    "dtime = nc.num2date(time_var[:],time_var.units)\n",
    "dtime"
   ]
  },
  {
   "cell_type": "code",
   "execution_count": 8,
   "id": "09bdd611-6ffa-4445-a0f7-796807575f1d",
   "metadata": {},
   "outputs": [],
   "source": [
    "# pip install basemap to install Basemap\n",
    "from mpl_toolkits.basemap import Basemap\n",
    "mp = Basemap(llcrnrlon=79,   # lower longitude\n",
    "             llcrnrlat=5.7,    # lower latitude\n",
    "             urcrnrlon=83,   # uppper longitude\n",
    "             urcrnrlat=10.4)"
   ]
  },
  {
   "cell_type": "code",
   "execution_count": 10,
   "id": "76dc1a5b-f686-4332-a649-a31d197bc04a",
   "metadata": {},
   "outputs": [
    {
     "name": "stderr",
     "output_type": "stream",
     "text": [
      "<ipython-input-10-a1efddb65d53>:5: MatplotlibDeprecationWarning: shading='flat' when X and Y have the same dimensions as C is deprecated since 3.3.  Either specify the corners of the quadrilaterals with X and Y, or pass shading='auto', 'nearest' or 'gouraud', or set rcParams['pcolor.shading'].  This will become an error two minor releases later.\n",
      "  c_scheme = mp.pcolor(x,y,np.squeeze(pr[0,:,:]),cmap = 'jet') # [0,:,:] is for the first day of the year\n"
     ]
    },
    {
     "data": {
      "image/png": "[encoded data removed]",
      "text/plain": [
       "<Figure size 432x576 with 2 Axes>"
      ]
     },
     "metadata": {
      "needs_background": "light"
     },
     "output_type": "display_data"
    }
   ],
   "source": [
    "# Here you can plot the intensity over the map for a specific time\n",
    "long, lats = np.meshgrid(lon,lat)  #this converts coordinates into 2D arrray\n",
    "x,y = mp(long, lats) #mapping them together \n",
    "plt.figure(figsize=(6,8)) #figure size \n",
    "c_scheme = mp.pcolor(x,y,np.squeeze(pr[0,:,:]),cmap = 'jet') # [0,:,:] is for the first day of the year\n",
    "\n",
    "# consider this as the outline for the map that is to be created \n",
    "mp.drawcoastlines()\n",
    "mp.drawstates()\n",
    "mp.drawcountries()\n",
    "\n",
    "cbar = mp.colorbar(c_scheme,location='right',pad = '10%') # map information\n",
    "plt.title('Precipitations')\n",
    "plt.show()\n",
    "\n",
    "#plt.savefig('tave.jpg',dpi=300) #saves the image generated\n"
   ]
  },
  {
   "cell_type": "code",
   "execution_count": 12,
   "id": "793ae9fa-68a8-4ec2-be86-5f4689887a42",
   "metadata": {},
   "outputs": [
    {
     "name": "stderr",
     "output_type": "stream",
     "text": [
      "<ipython-input-12-c2d028b592b8>:11: MatplotlibDeprecationWarning: shading='flat' when X and Y have the same dimensions as C is deprecated since 3.3.  Either specify the corners of the quadrilaterals with X and Y, or pass shading='auto', 'nearest' or 'gouraud', or set rcParams['pcolor.shading'].  This will become an error two minor releases later.\n",
      "  c_scheme = mp.pcolor(x,y,np.squeeze(pr[i,:,:]),cmap = 'jet')\n"
     ]
    },
    {
     "data": {
      "text/plain": [
       "<Figure size 432x576 with 0 Axes>"
      ]
     },
     "metadata": {},
     "output_type": "display_data"
    }
   ],
   "source": [
    "# this will create 365 images in the path given \n",
    "# please set the path before executing \n",
    "long, lats = np.meshgrid(lon,lat)\n",
    "x,y = mp(long, lats)\n",
    "plt.figure(figsize=(6,8))\n",
    "\n",
    "# loop for all the days \n",
    "time_steps = np.arange(0,100)  # for considering a number of time steps\n",
    "\n",
    "for i in time_steps:\n",
    "    c_scheme = mp.pcolor(x,y,np.squeeze(pr[i,:,:]),cmap = 'jet')\n",
    "    mp.drawcoastlines()\n",
    "    mp.drawstates()\n",
    "    mp.drawcountries()\n",
    "\n",
    "    cbar = mp.colorbar(c_scheme,location='right',pad = '10%')\n",
    "    i = i+1\n",
    "\n",
    "    plt.title('Precipitation ' + str(i) +  ' time')\n",
    "    plt.clim(0.00004,0.0002)\n",
    "    plt.savefig(r'D:\\Documents\\R&D\\RnD_Resiliency\\Test Scripts\\img'+ '\\\\' + str(i)+'.jpg')\n",
    "     \n",
    "    plt.clf()"
   ]
  },
  {
   "cell_type": "code",
   "execution_count": 14,
   "id": "542ba6de-502f-4b31-ad2b-ba82e53b459c",
   "metadata": {},
   "outputs": [],
   "source": [
    "import PIL\n",
    "\n",
    "image_frames = [] # creating a empty list to be appended later on\n",
    "time_steps = np.arange(1,100)\n",
    "\n",
    "for k in time_steps:\n",
    "    new_fram = PIL.Image.open(r'D:\\Documents\\R&D\\RnD_Resiliency\\Test Scripts\\img' + '\\\\' + str(k) + '.jpg') \n",
    "    image_frames.append(new_fram)\n",
    "\n",
    "image_frames[0].save(r'D:\\Documents\\R&D\\RnD_Resiliency\\Test Scripts\\img\\pr_timelapse.gif',format='GIF',\n",
    "                    append_images = image_frames[1: ],\n",
    "                    save_all = True, duration = 100,\n",
    "                    loop = 0)"
   ]
  },
  {
   "cell_type": "code",
   "execution_count": 15,
   "id": "00dfe4a2-bb44-42f9-b18f-5f1657a5d1f7",
   "metadata": {},
   "outputs": [
    {
     "data": {
      "image/png": "[encoded data removed]",
      "text/plain": [
       "<Figure size 432x288 with 1 Axes>"
      ]
     },
     "metadata": {},
     "output_type": "display_data"
    }
   ],
   "source": [
    "# just for fun\n",
    "from mpl_toolkits.basemap import Basemap\n",
    "import matplotlib.pyplot as plt\n",
    "\n",
    "map = Basemap()\n",
    "\n",
    "map.drawcoastlines()\n",
    "\n",
    "plt.show()"
   ]
  },
  {
   "cell_type": "code",
   "execution_count": null,
   "id": "d3c3fc1a-8322-4a43-9d7c-3a8792318563",
   "metadata": {},
   "outputs": [],
   "source": []
  }
 ],
 "metadata": {
  "kernelspec": {
   "display_name": "Python 3",
   "language": "python",
   "name": "python3"
  },
  "language_info": {
   "codemirror_mode": {
    "name": "ipython",
    "version": 3
   },
   "file_extension": ".py",
   "mimetype": "text/x-python",
   "name": "python",
   "nbconvert_exporter": "python",
   "pygments_lexer": "ipython3",
   "version": "3.8.6rc1"
  }
 },
 "nbformat": 4,
 "nbformat_minor": 5
}
