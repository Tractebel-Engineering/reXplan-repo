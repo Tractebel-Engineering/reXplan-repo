{
 "cells": [
  {
   "cell_type": "markdown",
   "metadata": {},
   "source": [
    "## Network from PandaPower Import"
   ]
  },
  {
   "cell_type": "code",
   "execution_count": null,
   "metadata": {},
   "outputs": [],
   "source": [
    "import reXplan as rx\n",
    "import pandapower.networks as pn\n",
    "\n",
    "net = pn.case24_ieee_rts()\n",
    "rx.network.from_pp(net, rename=True)"
   ]
  },
  {
   "cell_type": "code",
   "execution_count": null,
   "metadata": {},
   "outputs": [],
   "source": [
    "import pandapower as pp\n",
    "pp.runpp(net)"
   ]
  },
  {
   "cell_type": "code",
   "execution_count": null,
   "metadata": {},
   "outputs": [],
   "source": [
    "import reXplan as rx\n",
    "rx.config.get_pandapower_sheetname('Bus')"
   ]
  },
  {
   "cell_type": "markdown",
   "metadata": {},
   "source": [
    "## Import"
   ]
  },
  {
   "cell_type": "code",
   "execution_count": null,
   "metadata": {},
   "outputs": [],
   "source": [
    "import reXplan as rx\n",
    "import warnings\n",
    "def custom_warning_format(message, category, filename, lineno, file=None, line=None):\n",
    "    return f\"{filename}:{lineno}: {category.__name__}: {message}\\n\"\n",
    "warnings.formatwarning = custom_warning_format\n",
    "simulationName = 'basic_example_tim';\n",
    "network = rx.network.Network(simulationName);\n",
    "simulation = rx.simulation.Sim(simulationName);"
   ]
  },
  {
   "cell_type": "markdown",
   "metadata": {},
   "source": [
    "## Montecarlo"
   ]
  },
  {
   "cell_type": "code",
   "execution_count": null,
   "metadata": {},
   "outputs": [],
   "source": [
    "simulation.initialize_model_rp(\n",
    "                        network=network,\n",
    "                        ref_return_period=\"rp1\",\n",
    "                        mc_iteration_factor=1,\n",
    "                        max_mc_iterations=100,\n",
    "                        cv=0.1,\n",
    "                        nStrataSamples=10000)"
   ]
  },
  {
   "cell_type": "markdown",
   "metadata": {},
   "source": [
    "## Engine Database"
   ]
  },
  {
   "cell_type": "code",
   "execution_count": null,
   "metadata": {},
   "outputs": [],
   "source": [
    "time = rx.simulation.Time(start = 4, duration = 20)\n",
    "simulation.run(network, iterationSet = None, time = time, run_type = 'dc_opf', delta = 1e-16, saveOutput = True)"
   ]
  },
  {
   "cell_type": "markdown",
   "metadata": {},
   "source": [
    "## MC & ED"
   ]
  },
  {
   "cell_type": "code",
   "execution_count": null,
   "metadata": {},
   "outputs": [],
   "source": [
    "import reXplan as rx\n",
    "import warnings\n",
    "def custom_warning_format(message, category, filename, lineno, file=None, line=None):\n",
    "    return f\"{filename}:{lineno}: {category.__name__}: {message}\\n\"\n",
    "warnings.formatwarning = custom_warning_format\n",
    "simulationName = 'basic_example_tim';\n",
    "network = rx.network.Network(simulationName);\n",
    "simulation = rx.simulation.Sim(simulationName);\n",
    "simulation.initialize_model_rp(\n",
    "                        network=network,\n",
    "                        ref_return_period=\"rp1\",\n",
    "                        mc_iteration_factor=1,\n",
    "                        max_mc_iterations=100,\n",
    "                        cv=0.1,\n",
    "                        nStrataSamples=10000)\n",
    "time = rx.simulation.Time(start = 1, duration = 20)\n",
    "simulation.run(network, iterationSet = None, time = time, run_type = 'dc_opf', delta = 1e-16, saveOutput = True)"
   ]
  }
 ],
 "metadata": {
  "kernelspec": {
   "display_name": "venv",
   "language": "python",
   "name": "python3"
  },
  "language_info": {
   "codemirror_mode": {
    "name": "ipython",
    "version": 3
   },
   "file_extension": ".py",
   "mimetype": "text/x-python",
   "name": "python",
   "nbconvert_exporter": "python",
   "pygments_lexer": "ipython3",
   "version": "3.10.10"
  }
 },
 "nbformat": 4,
 "nbformat_minor": 2
}
