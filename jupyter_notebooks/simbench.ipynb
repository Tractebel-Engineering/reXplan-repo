{
 "cells": [
  {
   "cell_type": "code",
   "execution_count": 5,
   "metadata": {},
   "outputs": [
    {
     "name": "stderr",
     "output_type": "stream",
     "text": [
      "c:\\Users\\MN6461\\OneDrive - ENGIE\\Dokumente\\GitHub\\reXplan-repo\\venv\\lib\\site-packages\\simbench\\converter\\auxiliary.py:119: FutureWarning: In a future version, object-dtype columns with all-bool values will not be included in reductions with bool_only=True. Explicitly cast to bool dtype instead.\n",
      "  df = pd.concat(dfs, axis=0, **kwargs)\n"
     ]
    }
   ],
   "source": [
    "from numba import *\n",
    "import simbench as sb\n",
    "\n",
    "import reXplan as rx\n",
    "import pandapower as pp\n",
    "import pandapower.networks as pn\n",
    "import pandas as pd\n",
    "\n",
    "grid_code = \"1-HV-urban--0-sw\"\n",
    "net = sb.get_simbench_net(grid_code)\n",
    "profiles = sb.get_absolute_values(net, profiles_instead_of_study_cases=True)"
   ]
  },
  {
   "cell_type": "code",
   "execution_count": 6,
   "metadata": {},
   "outputs": [
    {
     "data": {
      "text/plain": [
       "dict"
      ]
     },
     "execution_count": 6,
     "metadata": {},
     "output_type": "execute_result"
    }
   ],
   "source": [
    "type(profiles)"
   ]
  },
  {
   "cell_type": "code",
   "execution_count": 7,
   "metadata": {},
   "outputs": [],
   "source": [
    "profiles['load','p_mw'] = profiles['load','p_mw'].head(10)\n",
    "profiles['load','q_mvar'] = profiles['load','q_mvar'].head(10)\n",
    "profiles['sgen','p_mw'] = profiles['sgen','p_mw'].head(10)\n",
    "profiles['gen','p_mw'] = profiles['gen','p_mw'].head(10)\n",
    "profiles['storage','p_mw'] = profiles['storage','p_mw'].head(10)"
   ]
  },
  {
   "cell_type": "code",
   "execution_count": 8,
   "metadata": {},
   "outputs": [
    {
     "name": "stdout",
     "output_type": "stream",
     "text": [
      "\n",
      "- network.xlsx created successfully! - \n"
     ]
    }
   ],
   "source": [
    "rx.convert.from_pp(net, profiles)"
   ]
  },
  {
   "cell_type": "code",
   "execution_count": null,
   "metadata": {},
   "outputs": [],
   "source": [
    "profiles"
   ]
  },
  {
   "cell_type": "markdown",
   "metadata": {},
   "source": [
    "### profile.keys()\n",
    "dict_keys([('load', 'p_mw'), ('load', 'q_mvar'), ('sgen', 'p_mw'), ('gen', 'p_mw'), ('storage', 'p_mw')])"
   ]
  },
  {
   "cell_type": "code",
   "execution_count": null,
   "metadata": {},
   "outputs": [],
   "source": [
    "profiles_df = pd.DataFrame()\n",
    "columns_list = pd.DataFrame()\n",
    "for profile_keys in profiles.keys():\n",
    "    if not profiles[profile_keys].empty:\n",
    "        df = profiles[profile_keys] #.head(10) # clip data?\n",
    "        value = getattr(net, profile_keys[0])['name']\n",
    "        #df = df.head(10)\n",
    "        columns_list = pd.concat([columns_list, value], ignore_index=True)\n",
    "        profiles_df = pd.concat([profiles_df, df], ignore_index=True, axis=1)\n",
    "if columns_list.T.shape[1] == profiles_df.shape[1]:\n",
    "    profiles_df.columns = columns_list.squeeze().tolist()\n",
    "else:\n",
    "    raise ValueError (\"Length of column name list do not match profile entries.\")"
   ]
  },
  {
   "cell_type": "code",
   "execution_count": null,
   "metadata": {},
   "outputs": [],
   "source": [
    "profiles_df = pd.DataFrame()\n",
    "df = profiles['load', 'p_mw']\n",
    "df = df.head(50)\n",
    "value = getattr(net, 'load')['name']\n",
    "df.columns = value\n",
    "#profiles_df = pd.concat([profiles_df, df], ignore_index=True)"
   ]
  },
  {
   "cell_type": "code",
   "execution_count": null,
   "metadata": {},
   "outputs": [],
   "source": [
    "temp_df = {}\n",
    "for profile_keys in profiles.keys():\n",
    "    temp_df = pd.concat(temp_df + profiles[profile_keys].values(), axis=1)"
   ]
  },
  {
   "cell_type": "code",
   "execution_count": null,
   "metadata": {},
   "outputs": [],
   "source": [
    "concatenated_df = pd.concat(profiles.values(), axis=1)"
   ]
  },
  {
   "cell_type": "code",
   "execution_count": null,
   "metadata": {},
   "outputs": [],
   "source": [
    "for profile_keys in profiles.keys():\n",
    "    if not profiles[profile_keys].empty:\n",
    "        df = profiles[profile_keys]\n",
    "        value = getattr(net, profile_keys[0])['name']\n",
    "        df.columns = value"
   ]
  },
  {
   "cell_type": "code",
   "execution_count": null,
   "metadata": {},
   "outputs": [],
   "source": [
    "import os\n",
    "import pandas as pd\n",
    "\n",
    "df = profiles['storage', 'p_mw']\n",
    "file_path = os.path.join(os.getcwd(), 'storage_profiles.xls')\n",
    "\n",
    "df.to_excel(file_path, index=True, engine='openpyxl')\n"
   ]
  },
  {
   "cell_type": "code",
   "execution_count": null,
   "metadata": {},
   "outputs": [],
   "source": [
    "import pandas as pd\n",
    "\n",
    "# Example DataFrame\n",
    "data = {'A': [1, 2, 3],\n",
    "        'B': [4, 5, 6],\n",
    "        'C': [7, 8, 9]}\n",
    "\n",
    "df = pd.DataFrame(data)\n",
    "\n",
    "# Insert an empty row at the beginning\n",
    "df.loc[-1] = pd.Series()\n",
    "df.index = df.index + 1\n",
    "df = df.sort_index()\n",
    "\n",
    "# Insert an empty column at the beginning\n",
    "df.insert(0, 'Empty', '')\n",
    "\n",
    "print(df)"
   ]
  },
  {
   "cell_type": "code",
   "execution_count": null,
   "metadata": {},
   "outputs": [],
   "source": [
    "import pandas as pd\n",
    "pd.Series(['field'] + ['max_p_mw'] * (4 - 1))"
   ]
  },
  {
   "cell_type": "code",
   "execution_count": null,
   "metadata": {},
   "outputs": [],
   "source": [
    "import pandas as pd\n",
    "\n",
    "# Create a DataFrame\n",
    "df = pd.DataFrame({'A': [1, 2, 3], 'B': [4, 5, 6]})\n",
    "\n",
    "# Drop a column without using inplace\n",
    "new_df = df.drop(columns='B')  # Returns a new DataFrame with 'B' column dropped\n",
    "print(new_df)  # New DataFrame without 'B' column\n",
    "print(df)      # Original DataFrame still has 'B' column\n",
    "\n",
    "# Drop a column using inplace\n",
    "df.drop(columns='B', inplace=True)  # Modifies the original DataFrame by dropping 'B' column\n",
    "print(df)  # Original DataFrame modified, 'B' column dropped\n"
   ]
  }
 ],
 "metadata": {
  "kernelspec": {
   "display_name": "venv",
   "language": "python",
   "name": "python3"
  },
  "language_info": {
   "codemirror_mode": {
    "name": "ipython",
    "version": 3
   },
   "file_extension": ".py",
   "mimetype": "text/x-python",
   "name": "python",
   "nbconvert_exporter": "python",
   "pygments_lexer": "ipython3",
   "version": "3.10.10"
  }
 },
 "nbformat": 4,
 "nbformat_minor": 2
}
