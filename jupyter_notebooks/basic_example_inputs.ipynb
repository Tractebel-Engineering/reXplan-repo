{
 "cells": [
  {
   "cell_type": "markdown",
   "id": "filled-forty",
   "metadata": {},
   "source": [
    "# Resiliency tool"
   ]
  },
  {
   "cell_type": "code",
   "execution_count": null,
   "id": "suited-humidity",
   "metadata": {},
   "outputs": [],
   "source": [
    "import reXplan as rx\n",
    "import pandas as pd\n",
    "import numpy as np\n",
    "from datetime import date as dt_date\n",
    "\n",
    "from pandapower.plotting.plotly import simple_plotly, vlevel_plotly, pf_res_plotly\n",
    "import seaborn as sns\n",
    "import matplotlib.pyplot as plt\n",
    "\n",
    "import plotly.express as px\n",
    "import plotly.graph_objects as go\n",
    "from plotly.subplots import make_subplots\n",
    "\n",
    "from pandapower.plotting.plotly import simple_plotly, vlevel_plotly, pf_res_plotly\n",
    "from utils import * # pplotting functions\n",
    "\n",
    "import warnings\n",
    "warnings.simplefilter(\"ignore\") # warning are ignored for now"
   ]
  },
  {
   "cell_type": "markdown",
   "id": "valid-preference",
   "metadata": {},
   "source": [
    "\n",
    "## Network initialization"
   ]
  },
  {
   "cell_type": "code",
   "execution_count": 3,
   "id": "entire-canyon",
   "metadata": {
    "tags": []
   },
   "outputs": [
    {
     "name": "stderr",
     "output_type": "stream",
     "text": [
      "  0% (0 of 11) |                         | Elapsed Time: 0:00:00 ETA:  --:--:--\n",
      " 72% (8 of 11) |##################       | Elapsed Time: 0:00:00 ETA:  00:00:00\n",
      "100% (11 of 11) |########################| Elapsed Time: 0:00:00 Time:  0:00:00\n",
      "  0% (0 of 11) |                         | Elapsed Time: 0:00:00 ETA:  --:--:--\n",
      "100% (11 of 11) |########################| Elapsed Time: 0:00:00 Time:  0:00:00\n"
     ]
    },
    {
     "name": "stdout",
     "output_type": "stream",
     "text": [
      "Simulation: First timestep = 1, last timestep= 51\n",
      "Simulation: First timestep = 2, last timestep= 7\n"
     ]
    }
   ],
   "source": [
    "simulationName = 'Simbench';\n",
    "network = rx.network.Network(simulationName);\n",
    "simulation = rx.simulation.Sim(simulationName);"
   ]
  },
  {
   "cell_type": "markdown",
   "id": "d7f92aa7",
   "metadata": {},
   "source": [
    "## CLOSE"
   ]
  },
  {
   "cell_type": "markdown",
   "id": "competitive-bloom",
   "metadata": {},
   "source": [
    "#### Fragility Curves are automatically generated once the network object is created"
   ]
  },
  {
   "cell_type": "markdown",
   "id": "demographic-geography",
   "metadata": {},
   "source": [
    "### Plot a specific fragility curve:"
   ]
  },
  {
   "cell_type": "code",
   "execution_count": null,
   "id": "fifth-fitting",
   "metadata": {},
   "outputs": [],
   "source": [
    "xnew = np.linspace(0, 80, num=1000, endpoint=True)\n",
    "fig, ax = network.fragilityCurves['towers_1'].plot_fc(xnew)"
   ]
  },
  {
   "cell_type": "markdown",
   "id": "hindu-northeast",
   "metadata": {},
   "source": [
    "### Or Plot all the fragility curves in the database"
   ]
  },
  {
   "cell_type": "code",
   "execution_count": null,
   "id": "asian-glenn",
   "metadata": {},
   "outputs": [],
   "source": [
    "fig, ax = rx.fragilitycurve.plotFragilityCurves(network.fragilityCurves, xnew)"
   ]
  },
  {
   "cell_type": "markdown",
   "id": "intermediate-burst",
   "metadata": {},
   "source": [
    "### Method 1: Generate a hazard element by reading a .nc file"
   ]
  },
  {
   "cell_type": "code",
   "execution_count": null,
   "id": "prospective-ethics",
   "metadata": {},
   "outputs": [],
   "source": [
    "network.event.hazardFromNC('sythetic_data.nc')\n",
    "fig, ax = network.event.plot(10, projection='cyl', edge_pad=0)"
   ]
  },
  {
   "cell_type": "code",
   "execution_count": null,
   "id": "atmospheric-mainland",
   "metadata": {},
   "outputs": [],
   "source": [
    "network.event.plot_gif('sythetic_data.gif', speed=3, projection='cyl', edge_pad=0)"
   ]
  },
  {
   "cell_type": "markdown",
   "id": "christian-harvey",
   "metadata": {},
   "source": [
    "![method1](file/input/basic_example/hazards/gif/sythetic_data.gif \"method1\")"
   ]
  },
  {
   "cell_type": "markdown",
   "id": "unexpected-prior",
   "metadata": {},
   "source": [
    "### Method 2: Generate a hazard element by reading a trajectory csv file"
   ]
  },
  {
   "cell_type": "code",
   "execution_count": null,
   "id": "identical-attribute",
   "metadata": {},
   "outputs": [],
   "source": [
    "network.event.hazardFromTrajectory('trajectory.csv', \n",
    "                                   max_intensity=60., max_radius=50., \n",
    "                                   sdate = dt_date(2022,4,1), edate = dt_date(2022,4,3), \n",
    "                                   geodata1 = rx.network.GeoData(47.4,5.8), geodata2 = rx.network.GeoData(54.9,15.0),\n",
    "                                   delta_km=10, frequency='1H')\n",
    "\n",
    "fig, ax = network.event.plot(10, projection='cyl', edge_pad=0)"
   ]
  },
  {
   "cell_type": "code",
   "execution_count": null,
   "id": "statewide-microwave",
   "metadata": {},
   "outputs": [],
   "source": [
    "network.event.plot_gif('trajectory.gif', speed=3, projection='cyl', edge_pad=0)"
   ]
  },
  {
   "cell_type": "markdown",
   "id": "dependent-thousand",
   "metadata": {},
   "source": [
    "![method2](file/input/basic_example/hazards/gif/trajectory.gif \"method2\")"
   ]
  },
  {
   "cell_type": "markdown",
   "id": "meaning-dress",
   "metadata": {},
   "source": [
    "### Method 3: Generate a static hazard element by providing the location of the epicenter"
   ]
  },
  {
   "cell_type": "code",
   "execution_count": null,
   "id": "comparable-calendar",
   "metadata": {},
   "outputs": [],
   "source": [
    "network.event.hazardFromStaticInput('static_event.nc',\n",
    "                                    max_intensity=90, max_radius=100,\n",
    "                                    sdate = dt_date(2022,4,1), edate = dt_date(2022,4,3),\n",
    "                                    geodata1 = rx.network.GeoData(47.4,5.8), geodata2 = rx.network.GeoData(54.9,15.0),\n",
    "                                    delta_km=10,\n",
    "                                    epicenter_lat=50, epicenter_lon=9,\n",
    "                                    frequency='1H', epicenter_radius=1, epicenter_intensity=1)\n",
    "\n",
    "fig, ax = network.event.plot(10, projection='cyl', edge_pad=0)"
   ]
  },
  {
   "cell_type": "code",
   "execution_count": null,
   "id": "underlying-detail",
   "metadata": {},
   "outputs": [],
   "source": [
    "network.event.plot_gif('static_event.gif', speed=3, projection='cyl', edge_pad=0)"
   ]
  },
  {
   "cell_type": "markdown",
   "id": "controlling-diversity",
   "metadata": {},
   "source": [
    "![method3](file/input/basic_example/hazards/gif/static_event.gif \"method3\")"
   ]
  },
  {
   "cell_type": "markdown",
   "id": "restricted-marshall",
   "metadata": {},
   "source": [
    "### For Methods 1-3: Use simulation.initialize_model_sh to generate outage schedule"
   ]
  },
  {
   "cell_type": "code",
   "execution_count": null,
   "id": "opening-inclusion",
   "metadata": {},
   "outputs": [],
   "source": [
    "simulation.initialize_model_sh(network, iterationNumber=10)\n",
    "simulation.run(network,\n",
    "                #iterationSet = [1],\n",
    "                run_type = 'pm_ac_opf', \n",
    "                delta = 1e-16, \n",
    "                saveOutput = True)"
   ]
  },
  {
   "cell_type": "code",
   "execution_count": null,
   "id": "wrong-invalid",
   "metadata": {},
   "outputs": [],
   "source": [
    "pf_res_plotly(network.pp_network);"
   ]
  },
  {
   "cell_type": "code",
   "execution_count": null,
   "id": "supreme-zimbabwe",
   "metadata": {},
   "outputs": [],
   "source": [
    "simulation.results.loc[:,:,:,'network',:]"
   ]
  },
  {
   "cell_type": "markdown",
   "id": "helpful-boutique",
   "metadata": {},
   "source": [
    "## Method 4: Simulate multiple events according a given return period"
   ]
  },
  {
   "cell_type": "code",
   "execution_count": 4,
   "id": "least-somalia",
   "metadata": {},
   "outputs": [
    {
     "name": "stdout",
     "output_type": "stream",
     "text": [
      "x_min = 10\n",
      "x_max = 70\n",
      "\n",
      "Strata  3\n",
      "Sample size  168\n",
      "Strata  4\n",
      "Sample size  89\n",
      "Strata  5\n",
      "Sample size  51\n",
      "Strata  6\n",
      "Sample size  33\n",
      "Strata  7\n",
      "Sample size  27\n",
      "Strata  8\n",
      "Sample size  23\n",
      "Strata  9\n",
      "Sample size  23\n",
      "Strata  10\n",
      "Sample size  23\n",
      "-----------------\n",
      " Kmeans solution \n",
      "-----------------\n",
      " *** Domain:  1  ***\n",
      " Number of strata:  10\n",
      " Sample size     :  23\n",
      "Computations are being done on population data\n",
      "\n",
      "Number of strata:  10\n",
      "... of which with only one unit:  0\n",
      "Input data have been checked and are compliant with requirements\n",
      "\n",
      " *** Domain :  1   1\n",
      " Number of strata :  10000\n",
      " *** Sample cost:  15.11226\n",
      " *** Number of strata:  7\n",
      " *** Sample size :  15\n",
      " *** Number of strata :  7\n",
      "---------------------------\n",
      "Strata = 0\n",
      "Number of samples = 4.0\n",
      "Intensity samples between 9.315312296042517 and 37.556706832852896\n",
      "\n",
      "Strata = 1\n",
      "Number of samples = 4.0\n",
      "Intensity samples between 37.56199177762471 and 46.511994452085084\n",
      "\n",
      "Strata = 2\n",
      "Number of samples = 6.0\n",
      "Intensity samples between 46.51755326557219 and 53.594101075896205\n",
      "\n",
      "Strata = 3\n",
      "Number of samples = 4.0\n",
      "Intensity samples between 53.604343260684495 and 59.550208676748625\n",
      "\n",
      "Strata = 4\n",
      "Number of samples = 4.0\n",
      "Intensity samples between 59.58008399390718 and 61.070109350637765\n",
      "\n",
      "Strata = 5\n",
      "Number of samples = 4.0\n",
      "Intensity samples between 61.108682310951 and 65.81519385773403\n",
      "\n",
      "Strata = 6\n",
      "Number of samples = 4.0\n",
      "Intensity samples between 65.8981539147423 and 70.23517409004538\n"
     ]
    }
   ],
   "source": [
    "simulation.initialize_model_rp(network=network, ref_return_period=\"rp1\", iterationNumber=2, maxTotalIteration=1000, cv=0.1, nStrataSamples=10000)\n"
   ]
  },
  {
   "cell_type": "markdown",
   "id": "47d82edd",
   "metadata": {},
   "source": [
    "### CLOSE"
   ]
  },
  {
   "cell_type": "code",
   "execution_count": null,
   "id": "athletic-accent",
   "metadata": {},
   "outputs": [],
   "source": [
    "sns.set(rc={'figure.figsize':(11.7,8.27)})\n",
    "for rp in network.returnPeriods.keys():\n",
    "    sns.lineplot(x=network.returnPeriods[rp].x_data, y=network.returnPeriods[rp].y_data)"
   ]
  },
  {
   "cell_type": "code",
   "execution_count": null,
   "id": "nominated-blogger",
   "metadata": {},
   "outputs": [],
   "source": [
    "simulation.stratResults"
   ]
  },
  {
   "cell_type": "code",
   "execution_count": null,
   "id": "embedded-prince",
   "metadata": {},
   "outputs": [],
   "source": [
    "plt.hist(simulation.samples, density=True, bins=20)\n",
    "for b in np.append(simulation.stratResults[\"Upper_X1\"].values, simulation.stratResults[\"Lower_X1\"].values[0]):\n",
    "    plt.axvline(x = b, color = 'r')"
   ]
  },
  {
   "cell_type": "code",
   "execution_count": null,
   "id": "little-watch",
   "metadata": {},
   "outputs": [],
   "source": [
    "sns.set(rc={'figure.figsize':(11.7,8.27)})\n",
    "\n",
    "df = simulation.failureProbs[simulation.failureProbs['element type']=='Line']\n",
    "sns.lineplot(data=df, x='event intensity', y='failure probability', hue='power element')\n",
    "plt.legend(bbox_to_anchor=(1.02, 1), loc='upper left', borderaxespad=0)"
   ]
  },
  {
   "cell_type": "code",
   "execution_count": null,
   "id": "accepting-message",
   "metadata": {},
   "outputs": [],
   "source": [
    "simulation.failureProbs[(simulation.failureProbs['element type']=='Generator') & (simulation.failureProbs['iteration']==4)]"
   ]
  },
  {
   "cell_type": "markdown",
   "id": "sweet-special",
   "metadata": {},
   "source": [
    "## Launching montecarlo simulations\n",
    "Optimal power flow (40 steps) over 8 montercalo iterations divided into 4 stratas."
   ]
  },
  {
   "cell_type": "code",
   "execution_count": 1,
   "id": "ca32e662",
   "metadata": {},
   "outputs": [
    {
     "name": "stderr",
     "output_type": "stream",
     "text": [
      "  0% (0 of 11) |                         | Elapsed Time: 0:00:00 ETA:  --:--:--\n",
      "100% (11 of 11) |########################| Elapsed Time: 0:00:00 Time:  0:00:00\n",
      "  0% (0 of 11) |                         | Elapsed Time: 0:00:00 ETA:  --:--:--\n",
      "100% (11 of 11) |########################| Elapsed Time: 0:00:00 Time:  0:00:00\n"
     ]
    },
    {
     "name": "stdout",
     "output_type": "stream",
     "text": [
      "Simulation: First timestep = 1, last timestep= 51\n",
      "Simulation: First timestep = 2, last timestep= 7\n"
     ]
    }
   ],
   "source": [
    "import reXplan as rx\n",
    "import pandas as pd\n",
    "import numpy as np\n",
    "from datetime import date as dt_date\n",
    "\n",
    "from pandapower.plotting.plotly import simple_plotly, vlevel_plotly, pf_res_plotly\n",
    "import seaborn as sns\n",
    "import matplotlib.pyplot as plt\n",
    "\n",
    "import plotly.express as px\n",
    "import plotly.graph_objects as go\n",
    "from plotly.subplots import make_subplots\n",
    "\n",
    "from pandapower.plotting.plotly import simple_plotly, vlevel_plotly, pf_res_plotly\n",
    "from utils import * # pplotting functions\n",
    "\n",
    "import warnings\n",
    "warnings.simplefilter(\"ignore\") # warning are ignored for now\n",
    "simulationName = 'Simbench';\n",
    "network = rx.network.Network(simulationName);\n",
    "simulation = rx.simulation.Sim(simulationName);"
   ]
  },
  {
   "cell_type": "code",
   "execution_count": 2,
   "id": "ebc06d4a",
   "metadata": {},
   "outputs": [
    {
     "name": "stdout",
     "output_type": "stream",
     "text": [
      "Strata = 0; Iteration = 0\n"
     ]
    },
    {
     "name": "stderr",
     "output_type": "stream",
     "text": [
      "  0%|          | 0/2 [00:00<?, ?it/s]PowerModels.jl does not consider reactive power cost - costs are ignored\n",
      "100%|██████████| 2/2 [00:30<00:00, 15.42s/it]PowerModels.jl does not consider reactive power cost - costs are ignored\n",
      "100%|██████████| 2/2 [00:31<00:00, 15.65s/it]\n"
     ]
    },
    {
     "name": "stdout",
     "output_type": "stream",
     "text": [
      "No output database found.\n",
      "Saving output database...\n",
      "done!\n",
      "Strata = 0; Iteration = 1\n"
     ]
    },
    {
     "name": "stderr",
     "output_type": "stream",
     "text": [
      "  0%|          | 0/2 [00:00<?, ?it/s]PowerModels.jl does not consider reactive power cost - costs are ignored\n",
      "100%|██████████| 2/2 [00:00<00:00,  3.41it/s]PowerModels.jl does not consider reactive power cost - costs are ignored\n",
      "100%|██████████| 2/2 [00:01<00:00,  1.93it/s]\n"
     ]
    },
    {
     "name": "stdout",
     "output_type": "stream",
     "text": [
      "Appending to output database...\n",
      "Strata = 0; Iteration = 1\n"
     ]
    },
    {
     "name": "stderr",
     "output_type": "stream",
     "text": [
      "  0%|          | 0/2 [00:00<?, ?it/s]PowerModels.jl does not consider reactive power cost - costs are ignored\n",
      "100%|██████████| 2/2 [00:00<00:00,  3.87it/s]PowerModels.jl does not consider reactive power cost - costs are ignored\n",
      "100%|██████████| 2/2 [00:00<00:00,  2.18it/s]\n"
     ]
    },
    {
     "name": "stdout",
     "output_type": "stream",
     "text": [
      "Appending to output database...\n",
      "Strata = 0; Iteration = 2\n"
     ]
    },
    {
     "name": "stderr",
     "output_type": "stream",
     "text": [
      "  0%|          | 0/4 [00:00<?, ?it/s]PowerModels.jl does not consider reactive power cost - costs are ignored\n",
      " 50%|█████     | 2/4 [00:00<00:00,  7.05it/s]PowerModels.jl does not consider reactive power cost - costs are ignored\n",
      " 75%|███████▌  | 3/4 [00:00<00:00,  5.15it/s]PowerModels.jl does not consider reactive power cost - costs are ignored\n",
      "100%|██████████| 4/4 [00:00<00:00,  3.69it/s]PowerModels.jl does not consider reactive power cost - costs are ignored\n",
      "100%|██████████| 4/4 [00:01<00:00,  2.96it/s]\n"
     ]
    },
    {
     "name": "stdout",
     "output_type": "stream",
     "text": [
      "Appending to output database...\n",
      "Strata = 0; Iteration = 3\n"
     ]
    },
    {
     "name": "stderr",
     "output_type": "stream",
     "text": [
      "  0%|          | 0/3 [00:00<?, ?it/s]PowerModels.jl does not consider reactive power cost - costs are ignored\n",
      " 67%|██████▋   | 2/3 [00:00<00:00,  3.33it/s]PowerModels.jl does not consider reactive power cost - costs are ignored\n",
      "100%|██████████| 3/3 [00:00<00:00,  2.98it/s]PowerModels.jl does not consider reactive power cost - costs are ignored\n",
      "100%|██████████| 3/3 [00:01<00:00,  2.12it/s]\n"
     ]
    },
    {
     "name": "stdout",
     "output_type": "stream",
     "text": [
      "Appending to output database...\n"
     ]
    }
   ],
   "source": [
    "time = rx.simulation.Time(timepoints = [1,2])\n",
    "simulation.run(network, iterationSet = [0], time = time,  run_type = 'pm_ac_opf', delta = 1e-16, appendOutput=True)\n",
    "time = rx.simulation.Time(timepoints = [1,2])\n",
    "simulation.run(network, iterationSet = [1], time = time,  run_type = 'pm_ac_opf', delta = 1e-16, appendOutput=True)\n",
    "time = rx.simulation.Time(timepoints = [3,4])\n",
    "simulation.run(network, iterationSet = [1], time = time,  run_type = 'pm_ac_opf', delta = 1e-16, appendOutput=True)\n",
    "time = rx.simulation.Time(timepoints = [5,6,7,8])\n",
    "simulation.run(network, iterationSet = [2], time = time,  run_type = 'pm_ac_opf', delta = 1e-16, appendOutput=True)\n",
    "time = rx.simulation.Time(timepoints = [1,7,8])\n",
    "df = simulation.run(network, iterationSet = [3], time = time,  run_type = 'pm_ac_opf', delta = 1e-16, appendOutput=True)"
   ]
  },
  {
   "cell_type": "code",
   "execution_count": 3,
   "id": "1211ff69",
   "metadata": {},
   "outputs": [
    {
     "data": {
      "text/html": [
       "<div>\n",
       "<style scoped>\n",
       "    .dataframe tbody tr th:only-of-type {\n",
       "        vertical-align: middle;\n",
       "    }\n",
       "\n",
       "    .dataframe tbody tr th {\n",
       "        vertical-align: top;\n",
       "    }\n",
       "\n",
       "    .dataframe thead th {\n",
       "        text-align: right;\n",
       "    }\n",
       "</style>\n",
       "<table border=\"1\" class=\"dataframe\">\n",
       "  <thead>\n",
       "    <tr style=\"text-align: right;\">\n",
       "      <th></th>\n",
       "      <th>strata</th>\n",
       "      <th>iteration</th>\n",
       "      <th>field</th>\n",
       "      <th>type</th>\n",
       "      <th>id</th>\n",
       "      <th>2022-01-01 01:00:00</th>\n",
       "      <th>2022-01-01 02:00:00</th>\n",
       "      <th>2022-01-01 03:00:00</th>\n",
       "      <th>2022-01-01 04:00:00</th>\n",
       "      <th>2022-01-01 05:00:00</th>\n",
       "      <th>2022-01-01 06:00:00</th>\n",
       "      <th>2022-01-01 07:00:00</th>\n",
       "      <th>2022-01-01 08:00:00</th>\n",
       "    </tr>\n",
       "  </thead>\n",
       "  <tbody>\n",
       "    <tr>\n",
       "      <th>0</th>\n",
       "      <td>0</td>\n",
       "      <td>0</td>\n",
       "      <td>in_service</td>\n",
       "      <td>bus</td>\n",
       "      <td>EHV Bus 1865</td>\n",
       "      <td>1.0</td>\n",
       "      <td>1.0</td>\n",
       "      <td>NaN</td>\n",
       "      <td>NaN</td>\n",
       "      <td>NaN</td>\n",
       "      <td>NaN</td>\n",
       "      <td>NaN</td>\n",
       "      <td>NaN</td>\n",
       "    </tr>\n",
       "    <tr>\n",
       "      <th>1</th>\n",
       "      <td>0</td>\n",
       "      <td>0</td>\n",
       "      <td>in_service</td>\n",
       "      <td>bus</td>\n",
       "      <td>EHV Bus 1866</td>\n",
       "      <td>1.0</td>\n",
       "      <td>1.0</td>\n",
       "      <td>NaN</td>\n",
       "      <td>NaN</td>\n",
       "      <td>NaN</td>\n",
       "      <td>NaN</td>\n",
       "      <td>NaN</td>\n",
       "      <td>NaN</td>\n",
       "    </tr>\n",
       "    <tr>\n",
       "      <th>2</th>\n",
       "      <td>0</td>\n",
       "      <td>0</td>\n",
       "      <td>in_service</td>\n",
       "      <td>bus</td>\n",
       "      <td>EHV Bus 3092</td>\n",
       "      <td>1.0</td>\n",
       "      <td>1.0</td>\n",
       "      <td>NaN</td>\n",
       "      <td>NaN</td>\n",
       "      <td>NaN</td>\n",
       "      <td>NaN</td>\n",
       "      <td>NaN</td>\n",
       "      <td>NaN</td>\n",
       "    </tr>\n",
       "    <tr>\n",
       "      <th>3</th>\n",
       "      <td>0</td>\n",
       "      <td>0</td>\n",
       "      <td>in_service</td>\n",
       "      <td>bus</td>\n",
       "      <td>EHV Bus 3093</td>\n",
       "      <td>1.0</td>\n",
       "      <td>1.0</td>\n",
       "      <td>NaN</td>\n",
       "      <td>NaN</td>\n",
       "      <td>NaN</td>\n",
       "      <td>NaN</td>\n",
       "      <td>NaN</td>\n",
       "      <td>NaN</td>\n",
       "    </tr>\n",
       "    <tr>\n",
       "      <th>4</th>\n",
       "      <td>0</td>\n",
       "      <td>0</td>\n",
       "      <td>in_service</td>\n",
       "      <td>bus</td>\n",
       "      <td>EHV Bus 3094</td>\n",
       "      <td>1.0</td>\n",
       "      <td>1.0</td>\n",
       "      <td>NaN</td>\n",
       "      <td>NaN</td>\n",
       "      <td>NaN</td>\n",
       "      <td>NaN</td>\n",
       "      <td>NaN</td>\n",
       "      <td>NaN</td>\n",
       "    </tr>\n",
       "    <tr>\n",
       "      <th>5</th>\n",
       "      <td>0</td>\n",
       "      <td>0</td>\n",
       "      <td>in_service</td>\n",
       "      <td>bus</td>\n",
       "      <td>HV2 Bus 1</td>\n",
       "      <td>1.0</td>\n",
       "      <td>1.0</td>\n",
       "      <td>NaN</td>\n",
       "      <td>NaN</td>\n",
       "      <td>NaN</td>\n",
       "      <td>NaN</td>\n",
       "      <td>NaN</td>\n",
       "      <td>NaN</td>\n",
       "    </tr>\n",
       "    <tr>\n",
       "      <th>6</th>\n",
       "      <td>0</td>\n",
       "      <td>0</td>\n",
       "      <td>in_service</td>\n",
       "      <td>bus</td>\n",
       "      <td>HV2 Bus 10</td>\n",
       "      <td>1.0</td>\n",
       "      <td>1.0</td>\n",
       "      <td>NaN</td>\n",
       "      <td>NaN</td>\n",
       "      <td>NaN</td>\n",
       "      <td>NaN</td>\n",
       "      <td>NaN</td>\n",
       "      <td>NaN</td>\n",
       "    </tr>\n",
       "    <tr>\n",
       "      <th>7</th>\n",
       "      <td>0</td>\n",
       "      <td>0</td>\n",
       "      <td>in_service</td>\n",
       "      <td>bus</td>\n",
       "      <td>HV2 Bus 100</td>\n",
       "      <td>1.0</td>\n",
       "      <td>1.0</td>\n",
       "      <td>NaN</td>\n",
       "      <td>NaN</td>\n",
       "      <td>NaN</td>\n",
       "      <td>NaN</td>\n",
       "      <td>NaN</td>\n",
       "      <td>NaN</td>\n",
       "    </tr>\n",
       "    <tr>\n",
       "      <th>8</th>\n",
       "      <td>0</td>\n",
       "      <td>0</td>\n",
       "      <td>in_service</td>\n",
       "      <td>bus</td>\n",
       "      <td>HV2 Bus 101</td>\n",
       "      <td>1.0</td>\n",
       "      <td>1.0</td>\n",
       "      <td>NaN</td>\n",
       "      <td>NaN</td>\n",
       "      <td>NaN</td>\n",
       "      <td>NaN</td>\n",
       "      <td>NaN</td>\n",
       "      <td>NaN</td>\n",
       "    </tr>\n",
       "    <tr>\n",
       "      <th>9</th>\n",
       "      <td>0</td>\n",
       "      <td>0</td>\n",
       "      <td>in_service</td>\n",
       "      <td>bus</td>\n",
       "      <td>HV2 Bus 102</td>\n",
       "      <td>1.0</td>\n",
       "      <td>1.0</td>\n",
       "      <td>NaN</td>\n",
       "      <td>NaN</td>\n",
       "      <td>NaN</td>\n",
       "      <td>NaN</td>\n",
       "      <td>NaN</td>\n",
       "      <td>NaN</td>\n",
       "    </tr>\n",
       "  </tbody>\n",
       "</table>\n",
       "</div>"
      ],
      "text/plain": [
       "   strata  iteration       field type            id  2022-01-01 01:00:00  \\\n",
       "0       0          0  in_service  bus  EHV Bus 1865                  1.0   \n",
       "1       0          0  in_service  bus  EHV Bus 1866                  1.0   \n",
       "2       0          0  in_service  bus  EHV Bus 3092                  1.0   \n",
       "3       0          0  in_service  bus  EHV Bus 3093                  1.0   \n",
       "4       0          0  in_service  bus  EHV Bus 3094                  1.0   \n",
       "5       0          0  in_service  bus     HV2 Bus 1                  1.0   \n",
       "6       0          0  in_service  bus    HV2 Bus 10                  1.0   \n",
       "7       0          0  in_service  bus   HV2 Bus 100                  1.0   \n",
       "8       0          0  in_service  bus   HV2 Bus 101                  1.0   \n",
       "9       0          0  in_service  bus   HV2 Bus 102                  1.0   \n",
       "\n",
       "   2022-01-01 02:00:00  2022-01-01 03:00:00  2022-01-01 04:00:00  \\\n",
       "0                  1.0                  NaN                  NaN   \n",
       "1                  1.0                  NaN                  NaN   \n",
       "2                  1.0                  NaN                  NaN   \n",
       "3                  1.0                  NaN                  NaN   \n",
       "4                  1.0                  NaN                  NaN   \n",
       "5                  1.0                  NaN                  NaN   \n",
       "6                  1.0                  NaN                  NaN   \n",
       "7                  1.0                  NaN                  NaN   \n",
       "8                  1.0                  NaN                  NaN   \n",
       "9                  1.0                  NaN                  NaN   \n",
       "\n",
       "   2022-01-01 05:00:00  2022-01-01 06:00:00  2022-01-01 07:00:00  \\\n",
       "0                  NaN                  NaN                  NaN   \n",
       "1                  NaN                  NaN                  NaN   \n",
       "2                  NaN                  NaN                  NaN   \n",
       "3                  NaN                  NaN                  NaN   \n",
       "4                  NaN                  NaN                  NaN   \n",
       "5                  NaN                  NaN                  NaN   \n",
       "6                  NaN                  NaN                  NaN   \n",
       "7                  NaN                  NaN                  NaN   \n",
       "8                  NaN                  NaN                  NaN   \n",
       "9                  NaN                  NaN                  NaN   \n",
       "\n",
       "   2022-01-01 08:00:00  \n",
       "0                  NaN  \n",
       "1                  NaN  \n",
       "2                  NaN  \n",
       "3                  NaN  \n",
       "4                  NaN  \n",
       "5                  NaN  \n",
       "6                  NaN  \n",
       "7                  NaN  \n",
       "8                  NaN  \n",
       "9                  NaN  "
      ]
     },
     "execution_count": 3,
     "metadata": {},
     "output_type": "execute_result"
    }
   ],
   "source": [
    "df.head(10)"
   ]
  },
  {
   "cell_type": "code",
   "execution_count": null,
   "id": "controlling-rebel",
   "metadata": {},
   "outputs": [],
   "source": [
    "# time = rx.simulation.Time(start = 16, duration = 5)\n",
    "#time = rx.simulation.Time(interval = [1,2,4,7,9,13])\n",
    "simulation.run_prediction(network, run_type = 'pm_ac_opf', delta = 1e-16)"
   ]
  },
  {
   "cell_type": "code",
   "execution_count": null,
   "id": "flying-commerce",
   "metadata": {},
   "outputs": [],
   "source": [
    "simulation.results.loc[:,:,:,'network',:]"
   ]
  },
  {
   "cell_type": "markdown",
   "id": "found-calculator",
   "metadata": {},
   "source": [
    "## Iterations metrics"
   ]
  },
  {
   "cell_type": "code",
   "execution_count": null,
   "id": "fossil-weekend",
   "metadata": {},
   "outputs": [],
   "source": [
    "df = pd.read_csv(rx.config.path.engineDatabaseFile(simulationName), index_col = [0, 1, 2, 3, 4]) # read database with results\n",
    "df = filter_non_converged_iterations(df) # filterining non-converged iterations\n"
   ]
  },
  {
   "cell_type": "code",
   "execution_count": null,
   "id": "classical-sellers",
   "metadata": {},
   "outputs": [],
   "source": [
    "df_line = group_by(df.loc[3], 'sum', 'iteration', 'field', 'type').loc[:,:,'line']\n",
    "df_line_quantiles = invert(get_quantiles_on_iterations(df_line, [0.05,0.5,0.95]))\n",
    "df_line = invert(df_line)"
   ]
  },
  {
   "cell_type": "code",
   "execution_count": null,
   "id": "adverse-finnish",
   "metadata": {},
   "outputs": [],
   "source": [
    "df_montecarlo = pd.read_csv(rx.config.path.engineDatabaseFile(simulationName), index_col = [0, 1, 2, 3, 4])"
   ]
  },
  {
   "cell_type": "markdown",
   "id": "normal-battle",
   "metadata": {},
   "source": [
    "### Number of lines in service"
   ]
  },
  {
   "cell_type": "code",
   "execution_count": null,
   "id": "floral-payday",
   "metadata": {},
   "outputs": [],
   "source": [
    "px.line(df_line, x=df_line.index, y = 'in_service', color = 'iteration')"
   ]
  },
  {
   "cell_type": "code",
   "execution_count": null,
   "id": "annual-sustainability",
   "metadata": {},
   "outputs": [],
   "source": [
    "px.line(df_line_quantiles, x=df_line_quantiles.index, y = 'in_service', color = 'quantile')"
   ]
  },
  {
   "cell_type": "code",
   "execution_count": null,
   "id": "spatial-trouble",
   "metadata": {},
   "outputs": [],
   "source": [
    "df_load = group_by(filter(df, type = 'load'), 'sum', 'iteration', 'field', 'type')\n",
    "df_load_quantiles = invert(get_quantiles_on_iterations(df_load, [0.05, 0.25, 0.5, 0.75, 0.95]))\n",
    "# df_load = invert(df_load) \n",
    "# df_load['loss_of_load_p_percentage'] = (df_load['loss_of_load_p_mw'])/df_load['max_p_mw'] *100\n",
    "df_load_quantiles['loss_of_load_p_percentage'] = (df_load_quantiles['loss_of_load_p_mw'])/df_load_quantiles['max_p_mw'] *100"
   ]
  },
  {
   "cell_type": "code",
   "execution_count": null,
   "id": "agricultural-filter",
   "metadata": {},
   "outputs": [],
   "source": [
    "px.line(df_load_quantiles, x=df_load_quantiles.index, y = 'loss_of_load_p_percentage', color = 'quantile')"
   ]
  },
  {
   "cell_type": "code",
   "execution_count": null,
   "id": "surface-wrong",
   "metadata": {},
   "outputs": [],
   "source": [
    "df_network = invert(filter(df, type = 'network')) # filter network fields and invert for plotting\n",
    "px.scatter(df_network, x=df_network.index, y= 'energy_not_served_mwh' )"
   ]
  },
  {
   "cell_type": "markdown",
   "id": "electoral-treasurer",
   "metadata": {},
   "source": [
    "## Montercalo metrics"
   ]
  },
  {
   "cell_type": "code",
   "execution_count": null,
   "id": "structural-superior",
   "metadata": {},
   "outputs": [],
   "source": [
    "df_network_condensed = filter(df, type = 'network').sum(axis = 1) # sum over timesteps"
   ]
  },
  {
   "cell_type": "code",
   "execution_count": null,
   "id": "incredible-reunion",
   "metadata": {},
   "outputs": [],
   "source": [
    "df_network_condensed_ = invert(df_network_condensed)\n",
    "px.histogram(df_network_condensed_, x='energy_not_served_mwh', histnorm='probability')"
   ]
  },
  {
   "cell_type": "code",
   "execution_count": null,
   "id": "amino-gentleman",
   "metadata": {},
   "outputs": [],
   "source": [
    "statistics= df_network_condensed.groupby('field').mean() # average over iterations\n",
    "EENS = statistics['energy_not_served_mwh']\n",
    "LOLE = statistics['loss_of_load_p_duration_h']\n",
    "print(f'EENS : {EENS.round(2)} MWh, LOLE : {LOLE.round(2)} h')"
   ]
  },
  {
   "cell_type": "markdown",
   "id": "nonprofit-distance",
   "metadata": {},
   "source": [
    "## Survivability\n",
    "Probability of supplying at minimum percentage of the load."
   ]
  },
  {
   "cell_type": "code",
   "execution_count": null,
   "id": "located-cover",
   "metadata": {},
   "outputs": [],
   "source": [
    "crt_loss_of_load = 30 \n",
    "df_loss_of_load = df.loc[:,:,\"loss_of_load_p_percentage\",\"network\"]\n",
    "Survivability = pd.DataFrame(1 - (df_loss_of_load > crt_loss_of_load).sum() / df_loss_of_load.index.levels[0].size, columns = ['base case'])\n",
    "\n",
    "#df_aux = pd.read_csv(rx.config.path.engineDatabaseFile('basic_example_v1'), index_col = [0, 1, 2, 3, 4])\n",
    "#df_loss_of_load_aux = df_aux.loc[:,\"loss_of_load_p_percentage\",\"network\"]\n",
    "#Survivability['line 10 reinforced'] = 1 - (df_loss_of_load_aux > crt_loss_of_load).sum() / df_loss_of_load_aux.index.levels[0].size\n",
    "\n",
    "#df_aux = pd.read_csv(rx.config.path.engineDatabaseFile('basic_example_v2'), index_col = [0, 1, 2, 3, 4])\n",
    "#df_loss_of_load_aux = df_aux.loc[:,\"loss_of_load_p_percentage\",\"network\"]\n",
    "#Survivability['line 2 reparing time improved'] = 1 - (df_loss_of_load_aux > crt_loss_of_load).sum() / df_loss_of_load_aux.index.levels[0].size"
   ]
  },
  {
   "cell_type": "code",
   "execution_count": null,
   "id": "hearing-implement",
   "metadata": {},
   "outputs": [],
   "source": [
    "px.line(Survivability).update_layout(xaxis_title=\"time\", yaxis_title=\"Survivability\")"
   ]
  },
  {
   "cell_type": "code",
   "execution_count": null,
   "id": "confirmed-hayes",
   "metadata": {},
   "outputs": [],
   "source": [
    "df_line = group_by(filter(df, type = 'line'), 'mean','strata', 'iteration', 'field','id') # mean in this case does not have any effect as the groupying levels are the initial ones\n",
    "df_line = invert(df_line)\n",
    "# df_line = df_line.loc[df_line.index > '2022-01-01 12:00:00']\n",
    "\n",
    "fig = go.Figure() # --> put in a function (?)\n",
    "\n",
    "ids = df_line['id'].drop_duplicates().to_list()\n",
    "\n",
    "for id in ids:\n",
    "    fig.add_trace(go.Violin(x=df_line['id'][df_line['id'] == id],\n",
    "                            y=df_line['loading_percent'][df_line['id'] == id],\n",
    "                            name=id,\n",
    "                            box_visible=False,\n",
    "                            meanline_visible=True,\n",
    "                            side='positive',\n",
    "                            orientation = 'v'\n",
    "                           )\n",
    "                 )\n",
    "fig.update_layout(width=1000, height=500)\n",
    "fig.show()"
   ]
  },
  {
   "cell_type": "code",
   "execution_count": null,
   "id": "convertible-creation",
   "metadata": {},
   "outputs": [],
   "source": [
    "df_bus =invert(filter(df, type = 'bus'))\n",
    "fig = go.Figure()\n",
    "\n",
    "ids = df_bus['id'].drop_duplicates().to_list()\n",
    "\n",
    "for id in ids:\n",
    "    fig.add_trace(go.Violin(x=df_bus['id'][df_bus['id'] == id],\n",
    "                            y=df_bus['vm_pu'][df_bus['id'] == id],\n",
    "                            name=id,\n",
    "                            #box_visible=True,\n",
    "                            meanline_visible=True,\n",
    "                            side='positive',\n",
    "                            orientation = 'v'\n",
    "                           )     \n",
    "                 )\n",
    "fig.update_layout(width=1000, height = 500)\n",
    "fig.show()"
   ]
  }
 ],
 "metadata": {
  "kernelspec": {
   "display_name": "Python 3",
   "language": "python",
   "name": "python3"
  },
  "language_info": {
   "codemirror_mode": {
    "name": "ipython",
    "version": 3
   },
   "file_extension": ".py",
   "mimetype": "text/x-python",
   "name": "python",
   "nbconvert_exporter": "python",
   "pygments_lexer": "ipython3",
   "version": "3.10.10"
  }
 },
 "nbformat": 4,
 "nbformat_minor": 5
}
