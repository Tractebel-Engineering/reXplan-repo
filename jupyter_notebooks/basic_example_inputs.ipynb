{
 "cells": [
  {
   "cell_type": "markdown",
   "id": "filled-forty",
   "metadata": {},
   "source": [
    "# Resiliency tool"
   ]
  },
  {
   "cell_type": "code",
   "execution_count": null,
   "id": "suited-humidity",
   "metadata": {},
   "outputs": [],
   "source": [
    "import reXplan as rx\n",
    "import pandas as pd\n",
    "import numpy as np\n",
    "from datetime import date as dt_date\n",
    "\n",
    "from pandapower.plotting.plotly import simple_plotly, vlevel_plotly, pf_res_plotly\n",
    "import seaborn as sns\n",
    "import matplotlib.pyplot as plt\n",
    "\n",
    "import plotly.express as px\n",
    "import plotly.graph_objects as go\n",
    "from plotly.subplots import make_subplots\n",
    "\n",
    "from pandapower.plotting.plotly import simple_plotly, vlevel_plotly, pf_res_plotly\n",
    "from utils import * # pplotting functions\n",
    "\n",
    "import warnings\n",
    "warnings.simplefilter(\"ignore\") # warning are ignored for now"
   ]
  },
  {
   "cell_type": "markdown",
   "id": "valid-preference",
   "metadata": {},
   "source": [
    "\n",
    "## Network initialization"
   ]
  },
  {
   "cell_type": "code",
   "execution_count": null,
   "id": "entire-canyon",
   "metadata": {
    "tags": []
   },
   "outputs": [],
   "source": [
    "simulationName = 'Simbench';\n",
    "network = rx.network.Network(simulationName);\n",
    "simulation = rx.simulation.Sim(simulationName);"
   ]
  },
  {
   "cell_type": "markdown",
   "id": "d7f92aa7",
   "metadata": {},
   "source": [
    "## CLOSE"
   ]
  },
  {
   "cell_type": "markdown",
   "id": "competitive-bloom",
   "metadata": {},
   "source": [
    "#### Fragility Curves are automatically generated once the network object is created"
   ]
  },
  {
   "cell_type": "markdown",
   "id": "demographic-geography",
   "metadata": {},
   "source": [
    "### Plot a specific fragility curve:"
   ]
  },
  {
   "cell_type": "code",
   "execution_count": null,
   "id": "fifth-fitting",
   "metadata": {},
   "outputs": [],
   "source": [
    "xnew = np.linspace(0, 80, num=1000, endpoint=True)\n",
    "fig, ax = network.fragilityCurves['towers_1'].plot_fc(xnew)"
   ]
  },
  {
   "cell_type": "markdown",
   "id": "hindu-northeast",
   "metadata": {},
   "source": [
    "### Or Plot all the fragility curves in the database"
   ]
  },
  {
   "cell_type": "code",
   "execution_count": null,
   "id": "asian-glenn",
   "metadata": {},
   "outputs": [],
   "source": [
    "fig, ax = rx.fragilitycurve.plotFragilityCurves(network.fragilityCurves, xnew)"
   ]
  },
  {
   "cell_type": "markdown",
   "id": "intermediate-burst",
   "metadata": {},
   "source": [
    "### Method 1: Generate a hazard element by reading a .nc file"
   ]
  },
  {
   "cell_type": "code",
   "execution_count": null,
   "id": "prospective-ethics",
   "metadata": {},
   "outputs": [],
   "source": [
    "network.event.hazardFromNC('sythetic_data.nc')\n",
    "fig, ax = network.event.plot(10, projection='cyl', edge_pad=0)"
   ]
  },
  {
   "cell_type": "code",
   "execution_count": null,
   "id": "atmospheric-mainland",
   "metadata": {},
   "outputs": [],
   "source": [
    "network.event.plot_gif('sythetic_data.gif', speed=3, projection='cyl', edge_pad=0)"
   ]
  },
  {
   "cell_type": "markdown",
   "id": "christian-harvey",
   "metadata": {},
   "source": [
    "![method1](file/input/basic_example/hazards/gif/sythetic_data.gif \"method1\")"
   ]
  },
  {
   "cell_type": "markdown",
   "id": "unexpected-prior",
   "metadata": {},
   "source": [
    "### Method 2: Generate a hazard element by reading a trajectory csv file"
   ]
  },
  {
   "cell_type": "code",
   "execution_count": null,
   "id": "identical-attribute",
   "metadata": {},
   "outputs": [],
   "source": [
    "network.event.hazardFromTrajectory('trajectory.csv', \n",
    "                                   max_intensity=60., max_radius=50., \n",
    "                                   sdate = dt_date(2022,4,1), edate = dt_date(2022,4,3), \n",
    "                                   geodata1 = rx.network.GeoData(47.4,5.8), geodata2 = rx.network.GeoData(54.9,15.0),\n",
    "                                   delta_km=10, frequency='1H')\n",
    "\n",
    "fig, ax = network.event.plot(10, projection='cyl', edge_pad=0)"
   ]
  },
  {
   "cell_type": "code",
   "execution_count": null,
   "id": "statewide-microwave",
   "metadata": {},
   "outputs": [],
   "source": [
    "network.event.plot_gif('trajectory.gif', speed=3, projection='cyl', edge_pad=0)"
   ]
  },
  {
   "cell_type": "markdown",
   "id": "dependent-thousand",
   "metadata": {},
   "source": [
    "![method2](file/input/basic_example/hazards/gif/trajectory.gif \"method2\")"
   ]
  },
  {
   "cell_type": "markdown",
   "id": "meaning-dress",
   "metadata": {},
   "source": [
    "### Method 3: Generate a static hazard element by providing the location of the epicenter"
   ]
  },
  {
   "cell_type": "code",
   "execution_count": null,
   "id": "comparable-calendar",
   "metadata": {},
   "outputs": [],
   "source": [
    "network.event.hazardFromStaticInput('static_event.nc',\n",
    "                                    max_intensity=90, max_radius=100,\n",
    "                                    sdate = dt_date(2022,4,1), edate = dt_date(2022,4,3),\n",
    "                                    geodata1 = rx.network.GeoData(47.4,5.8), geodata2 = rx.network.GeoData(54.9,15.0),\n",
    "                                    delta_km=10,\n",
    "                                    epicenter_lat=50, epicenter_lon=9,\n",
    "                                    frequency='1H', epicenter_radius=1, epicenter_intensity=1)\n",
    "\n",
    "fig, ax = network.event.plot(10, projection='cyl', edge_pad=0)"
   ]
  },
  {
   "cell_type": "code",
   "execution_count": null,
   "id": "underlying-detail",
   "metadata": {},
   "outputs": [],
   "source": [
    "network.event.plot_gif('static_event.gif', speed=3, projection='cyl', edge_pad=0)"
   ]
  },
  {
   "cell_type": "markdown",
   "id": "controlling-diversity",
   "metadata": {},
   "source": [
    "![method3](file/input/basic_example/hazards/gif/static_event.gif \"method3\")"
   ]
  },
  {
   "cell_type": "markdown",
   "id": "restricted-marshall",
   "metadata": {},
   "source": [
    "### For Methods 1-3: Use simulation.initialize_model_sh to generate outage schedule"
   ]
  },
  {
   "cell_type": "code",
   "execution_count": null,
   "id": "opening-inclusion",
   "metadata": {},
   "outputs": [],
   "source": [
    "simulation.initialize_model_sh(network, iterationNumber=10)\n",
    "simulation.run(network,\n",
    "                #iterationSet = [1],\n",
    "                run_type = 'pm_ac_opf', \n",
    "                delta = 1e-16, \n",
    "                saveOutput = True)"
   ]
  },
  {
   "cell_type": "code",
   "execution_count": null,
   "id": "wrong-invalid",
   "metadata": {},
   "outputs": [],
   "source": [
    "pf_res_plotly(network.pp_network);"
   ]
  },
  {
   "cell_type": "code",
   "execution_count": null,
   "id": "supreme-zimbabwe",
   "metadata": {},
   "outputs": [],
   "source": [
    "simulation.results.loc[:,:,:,'network',:]"
   ]
  },
  {
   "cell_type": "markdown",
   "id": "helpful-boutique",
   "metadata": {},
   "source": [
    "## Method 4: Simulate multiple events according a given return period"
   ]
  },
  {
   "cell_type": "code",
   "execution_count": null,
   "id": "least-somalia",
   "metadata": {},
   "outputs": [],
   "source": [
    "simulation.initialize_model_rp(network=network, ref_return_period=\"rp1\", iterationNumber=2, maxTotalIteration=1000, cv=0.1, nStrataSamples=10000)\n"
   ]
  },
  {
   "cell_type": "markdown",
   "id": "47d82edd",
   "metadata": {},
   "source": [
    "### CLOSE"
   ]
  },
  {
   "cell_type": "code",
   "execution_count": null,
   "id": "athletic-accent",
   "metadata": {},
   "outputs": [],
   "source": [
    "sns.set(rc={'figure.figsize':(11.7,8.27)})\n",
    "for rp in network.returnPeriods.keys():\n",
    "    sns.lineplot(x=network.returnPeriods[rp].x_data, y=network.returnPeriods[rp].y_data)"
   ]
  },
  {
   "cell_type": "code",
   "execution_count": null,
   "id": "nominated-blogger",
   "metadata": {},
   "outputs": [],
   "source": [
    "simulation.stratResults"
   ]
  },
  {
   "cell_type": "code",
   "execution_count": null,
   "id": "embedded-prince",
   "metadata": {},
   "outputs": [],
   "source": [
    "plt.hist(simulation.samples, density=True, bins=20)\n",
    "for b in np.append(simulation.stratResults[\"Upper_X1\"].values, simulation.stratResults[\"Lower_X1\"].values[0]):\n",
    "    plt.axvline(x = b, color = 'r')"
   ]
  },
  {
   "cell_type": "code",
   "execution_count": null,
   "id": "little-watch",
   "metadata": {},
   "outputs": [],
   "source": [
    "sns.set(rc={'figure.figsize':(11.7,8.27)})\n",
    "\n",
    "df = simulation.failureProbs[simulation.failureProbs['element type']=='Line']\n",
    "sns.lineplot(data=df, x='event intensity', y='failure probability', hue='power element')\n",
    "plt.legend(bbox_to_anchor=(1.02, 1), loc='upper left', borderaxespad=0)"
   ]
  },
  {
   "cell_type": "code",
   "execution_count": null,
   "id": "accepting-message",
   "metadata": {},
   "outputs": [],
   "source": [
    "simulation.failureProbs[(simulation.failureProbs['element type']=='Generator') & (simulation.failureProbs['iteration']==4)]"
   ]
  },
  {
   "cell_type": "markdown",
   "id": "sweet-special",
   "metadata": {},
   "source": [
    "## Launching montecarlo simulations\n",
    "Optimal power flow (40 steps) over 8 montercalo iterations divided into 4 stratas."
   ]
  },
  {
   "cell_type": "code",
   "execution_count": 5,
   "id": "ca32e662",
   "metadata": {},
   "outputs": [
    {
     "name": "stderr",
     "output_type": "stream",
     "text": [
      "  0% (0 of 11) |                         | Elapsed Time: 0:00:00 ETA:  --:--:--\n",
      " 90% (10 of 11) |#####################   | Elapsed Time: 0:00:00 ETA:  00:00:00\n",
      "100% (11 of 11) |########################| Elapsed Time: 0:00:00 Time:  0:00:00\n",
      "  0% (0 of 11) |                         | Elapsed Time: 0:00:00 ETA:  --:--:--\n",
      " 72% (8 of 11) |##################       | Elapsed Time: 0:00:00 ETA:  00:00:00\n",
      "100% (11 of 11) |########################| Elapsed Time: 0:00:00 Time:  0:00:00\n",
      "  9%|▉         | 1/11 [06:37<1:06:16, 397.61s/it]\n"
     ]
    },
    {
     "name": "stdout",
     "output_type": "stream",
     "text": [
      "Simulation: First timestep = 0, last timestep= 50\n",
      "Simulation: First timestep = 1, last timestep= 6\n"
     ]
    }
   ],
   "source": [
    "import reXplan as rx\n",
    "import pandas as pd\n",
    "import numpy as np\n",
    "from datetime import date as dt_date\n",
    "\n",
    "from pandapower.plotting.plotly import simple_plotly, vlevel_plotly, pf_res_plotly\n",
    "import seaborn as sns\n",
    "import matplotlib.pyplot as plt\n",
    "\n",
    "import plotly.express as px\n",
    "import plotly.graph_objects as go\n",
    "from plotly.subplots import make_subplots\n",
    "\n",
    "from pandapower.plotting.plotly import simple_plotly, vlevel_plotly, pf_res_plotly\n",
    "from utils import * # pplotting functions\n",
    "\n",
    "import warnings\n",
    "warnings.simplefilter(\"ignore\") # warning are ignored for now\n",
    "simulationName = 'Simbench';\n",
    "network = rx.network.Network(simulationName);\n",
    "simulation = rx.simulation.Sim(simulationName);"
   ]
  },
  {
   "cell_type": "code",
   "execution_count": 9,
   "id": "78d63ab4",
   "metadata": {},
   "outputs": [
    {
     "name": "stdout",
     "output_type": "stream",
     "text": [
      "x_min = 10\n",
      "x_max = 70\n",
      "\n",
      "Strata  3\n",
      "Sample size  168\n",
      "Strata  4\n",
      "Sample size  89\n",
      "Strata  5\n",
      "Sample size  51\n",
      "Strata  6\n",
      "Sample size  33\n",
      "Strata  7\n",
      "Sample size  27\n",
      "Strata  8\n",
      "Sample size  23\n",
      "Strata  9\n",
      "Sample size  23\n",
      "Strata  10\n",
      "Sample size  23\n",
      "-----------------\n",
      " Kmeans solution \n",
      "-----------------\n",
      " *** Domain:  1  ***\n",
      " Number of strata:  10\n",
      " Sample size     :  23\n",
      "Computations are being done on population data\n",
      "\n",
      "Number of strata:  10\n",
      "... of which with only one unit:  0\n",
      "Input data have been checked and are compliant with requirements\n",
      "\n",
      " *** Domain :  1   1\n",
      " Number of strata :  10000\n",
      " *** Sample cost:  14.90066\n",
      " *** Number of strata:  7\n",
      " *** Sample size :  15\n",
      " *** Number of strata :  7\n",
      "---------------------------\n",
      "Strata = 0\n",
      "Number of samples = 4.0\n",
      "Intensity samples between 9.315312296042517 and 32.07628758960655\n",
      "\n",
      "Strata = 1\n",
      "Number of samples = 4.0\n",
      "Intensity samples between 32.08117383675161 and 46.511994452085084\n",
      "\n",
      "Strata = 2\n",
      "Number of samples = 4.0\n",
      "Intensity samples between 46.51755326557219 and 52.642689078757726\n",
      "\n",
      "Strata = 3\n",
      "Number of samples = 4.0\n",
      "Intensity samples between 52.65121735753833 and 55.76069738486463\n",
      "\n",
      "Strata = 4\n",
      "Number of samples = 6.0\n",
      "Intensity samples between 55.776031841188875 and 62.02609420277642\n",
      "\n",
      "Strata = 5\n",
      "Number of samples = 4.0\n",
      "Intensity samples between 62.0712706988228 and 65.8981539147423\n",
      "\n",
      "Strata = 6\n",
      "Number of samples = 4.0\n",
      "Intensity samples between 65.98219767945064 and 70.23517409004538\n"
     ]
    }
   ],
   "source": [
    "simulation.initialize_model_rp(network=network, ref_return_period=\"rp1\", iterationNumber=2, maxTotalIteration=1000, cv=0.1, nStrataSamples=10000)"
   ]
  },
  {
   "cell_type": "code",
   "execution_count": 7,
   "id": "97d857a3",
   "metadata": {},
   "outputs": [
    {
     "name": "stdout",
     "output_type": "stream",
     "text": [
      "Simulation: First timestep = 0, last timestep= 7\n",
      "Strata = 0; Iteration = 0\n"
     ]
    },
    {
     "name": "stderr",
     "output_type": "stream",
     "text": [
      "  0%|          | 0/50 [00:00<?, ?it/s]PowerModels.jl does not consider reactive power cost - costs are ignored\n",
      "  4%|▍         | 2/50 [00:00<00:13,  3.68it/s]PowerModels.jl does not consider reactive power cost - costs are ignored\n",
      "  6%|▌         | 3/50 [00:01<00:19,  2.43it/s]PowerModels.jl does not consider reactive power cost - costs are ignored\n",
      "  8%|▊         | 4/50 [00:01<00:19,  2.31it/s]PowerModels.jl does not consider reactive power cost - costs are ignored\n",
      " 10%|█         | 5/50 [00:02<00:20,  2.17it/s]PowerModels.jl does not consider reactive power cost - costs are ignored\n",
      " 12%|█▏        | 6/50 [00:02<00:19,  2.24it/s]PowerModels.jl does not consider reactive power cost - costs are ignored\n",
      " 14%|█▍        | 7/50 [00:02<00:16,  2.54it/s]PowerModels.jl does not consider reactive power cost - costs are ignored\n",
      " 16%|█▌        | 8/50 [00:03<00:15,  2.67it/s]PowerModels.jl does not consider reactive power cost - costs are ignored\n",
      " 18%|█▊        | 9/50 [00:03<00:15,  2.58it/s]PowerModels.jl does not consider reactive power cost - costs are ignored\n",
      " 20%|██        | 10/50 [00:04<00:16,  2.45it/s]PowerModels.jl does not consider reactive power cost - costs are ignored\n",
      " 22%|██▏       | 11/50 [00:04<00:16,  2.33it/s]PowerModels.jl does not consider reactive power cost - costs are ignored\n",
      " 24%|██▍       | 12/50 [00:04<00:14,  2.53it/s]PowerModels.jl does not consider reactive power cost - costs are ignored\n",
      " 26%|██▌       | 13/50 [00:05<00:15,  2.33it/s]PowerModels.jl does not consider reactive power cost - costs are ignored\n",
      " 28%|██▊       | 14/50 [00:05<00:15,  2.28it/s]PowerModels.jl does not consider reactive power cost - costs are ignored\n",
      " 30%|███       | 15/50 [00:06<00:16,  2.13it/s]PowerModels.jl does not consider reactive power cost - costs are ignored\n",
      " 32%|███▏      | 16/50 [00:06<00:15,  2.14it/s]PowerModels.jl does not consider reactive power cost - costs are ignored\n",
      " 34%|███▍      | 17/50 [00:07<00:15,  2.09it/s]PowerModels.jl does not consider reactive power cost - costs are ignored\n",
      " 36%|███▌      | 18/50 [00:08<00:18,  1.76it/s]PowerModels.jl does not consider reactive power cost - costs are ignored\n",
      " 38%|███▊      | 19/50 [00:08<00:16,  1.91it/s]PowerModels.jl does not consider reactive power cost - costs are ignored\n",
      " 40%|████      | 20/50 [00:08<00:15,  1.95it/s]PowerModels.jl does not consider reactive power cost - costs are ignored\n",
      " 42%|████▏     | 21/50 [00:09<00:15,  1.93it/s]PowerModels.jl does not consider reactive power cost - costs are ignored\n",
      " 44%|████▍     | 22/50 [00:10<00:14,  1.97it/s]PowerModels.jl does not consider reactive power cost - costs are ignored\n",
      " 46%|████▌     | 23/50 [00:10<00:13,  2.00it/s]PowerModels.jl does not consider reactive power cost - costs are ignored\n",
      " 48%|████▊     | 24/50 [00:11<00:13,  1.96it/s]PowerModels.jl does not consider reactive power cost - costs are ignored\n",
      " 50%|█████     | 25/50 [00:11<00:11,  2.19it/s]PowerModels.jl does not consider reactive power cost - costs are ignored\n",
      " 52%|█████▏    | 26/50 [00:11<00:09,  2.47it/s]PowerModels.jl does not consider reactive power cost - costs are ignored\n",
      " 54%|█████▍    | 27/50 [00:12<00:10,  2.25it/s]PowerModels.jl does not consider reactive power cost - costs are ignored\n",
      " 56%|█████▌    | 28/50 [00:12<00:08,  2.49it/s]PowerModels.jl does not consider reactive power cost - costs are ignored\n",
      " 58%|█████▊    | 29/50 [00:12<00:07,  2.70it/s]PowerModels.jl does not consider reactive power cost - costs are ignored\n",
      " 60%|██████    | 30/50 [00:13<00:07,  2.82it/s]PowerModels.jl does not consider reactive power cost - costs are ignored\n",
      " 62%|██████▏   | 31/50 [00:13<00:06,  2.95it/s]PowerModels.jl does not consider reactive power cost - costs are ignored\n",
      " 64%|██████▍   | 32/50 [00:13<00:05,  3.11it/s]PowerModels.jl does not consider reactive power cost - costs are ignored\n",
      " 66%|██████▌   | 33/50 [00:14<00:05,  3.07it/s]PowerModels.jl does not consider reactive power cost - costs are ignored\n",
      " 68%|██████▊   | 34/50 [00:14<00:05,  2.88it/s]PowerModels.jl does not consider reactive power cost - costs are ignored\n",
      " 70%|███████   | 35/50 [00:14<00:05,  2.96it/s]PowerModels.jl does not consider reactive power cost - costs are ignored\n",
      " 72%|███████▏  | 36/50 [00:15<00:04,  3.06it/s]PowerModels.jl does not consider reactive power cost - costs are ignored\n",
      " 74%|███████▍  | 37/50 [00:15<00:04,  2.60it/s]PowerModels.jl does not consider reactive power cost - costs are ignored\n",
      " 76%|███████▌  | 38/50 [00:16<00:07,  1.59it/s]PowerModels.jl does not consider reactive power cost - costs are ignored\n",
      " 78%|███████▊  | 39/50 [00:17<00:07,  1.56it/s]PowerModels.jl does not consider reactive power cost - costs are ignored\n",
      " 80%|████████  | 40/50 [00:17<00:06,  1.62it/s]PowerModels.jl does not consider reactive power cost - costs are ignored\n",
      " 82%|████████▏ | 41/50 [00:19<00:07,  1.21it/s]PowerModels.jl does not consider reactive power cost - costs are ignored\n",
      " 84%|████████▍ | 42/50 [00:19<00:05,  1.40it/s]PowerModels.jl does not consider reactive power cost - costs are ignored\n",
      " 86%|████████▌ | 43/50 [00:20<00:04,  1.57it/s]PowerModels.jl does not consider reactive power cost - costs are ignored\n",
      " 88%|████████▊ | 44/50 [00:20<00:03,  1.69it/s]PowerModels.jl does not consider reactive power cost - costs are ignored\n",
      " 90%|█████████ | 45/50 [00:21<00:02,  1.82it/s]PowerModels.jl does not consider reactive power cost - costs are ignored\n",
      " 92%|█████████▏| 46/50 [00:21<00:02,  1.81it/s]PowerModels.jl does not consider reactive power cost - costs are ignored\n",
      " 94%|█████████▍| 47/50 [00:22<00:01,  1.73it/s]PowerModels.jl does not consider reactive power cost - costs are ignored\n",
      " 96%|█████████▌| 48/50 [00:22<00:01,  1.80it/s]PowerModels.jl does not consider reactive power cost - costs are ignored\n",
      " 98%|█████████▊| 49/50 [00:24<00:00,  1.32it/s]PowerModels.jl does not consider reactive power cost - costs are ignored\n",
      "100%|██████████| 50/50 [00:24<00:00,  1.51it/s]PowerModels.jl does not consider reactive power cost - costs are ignored\n",
      "100%|██████████| 50/50 [00:24<00:00,  2.01it/s]\n"
     ]
    },
    {
     "name": "stdout",
     "output_type": "stream",
     "text": [
      "Strata = 0; Iteration = 1\n"
     ]
    },
    {
     "name": "stderr",
     "output_type": "stream",
     "text": [
      "  0%|          | 0/50 [00:00<?, ?it/s]PowerModels.jl does not consider reactive power cost - costs are ignored\n",
      "  4%|▍         | 2/50 [00:00<00:12,  3.87it/s]PowerModels.jl does not consider reactive power cost - costs are ignored\n",
      "  6%|▌         | 3/50 [00:01<00:18,  2.49it/s]PowerModels.jl does not consider reactive power cost - costs are ignored\n",
      "  8%|▊         | 4/50 [00:01<00:20,  2.29it/s]PowerModels.jl does not consider reactive power cost - costs are ignored\n",
      " 10%|█         | 5/50 [00:02<00:21,  2.07it/s]PowerModels.jl does not consider reactive power cost - costs are ignored\n",
      " 12%|█▏        | 6/50 [00:02<00:20,  2.14it/s]PowerModels.jl does not consider reactive power cost - costs are ignored\n",
      " 14%|█▍        | 7/50 [00:02<00:17,  2.45it/s]PowerModels.jl does not consider reactive power cost - costs are ignored\n",
      " 16%|█▌        | 8/50 [00:03<00:15,  2.63it/s]PowerModels.jl does not consider reactive power cost - costs are ignored\n",
      " 18%|█▊        | 9/50 [00:03<00:16,  2.52it/s]PowerModels.jl does not consider reactive power cost - costs are ignored\n",
      " 20%|██        | 10/50 [00:04<00:16,  2.49it/s]PowerModels.jl does not consider reactive power cost - costs are ignored\n",
      " 22%|██▏       | 11/50 [00:04<00:16,  2.43it/s]PowerModels.jl does not consider reactive power cost - costs are ignored\n",
      " 24%|██▍       | 12/50 [00:04<00:14,  2.55it/s]PowerModels.jl does not consider reactive power cost - costs are ignored\n",
      " 26%|██▌       | 13/50 [00:05<00:16,  2.29it/s]PowerModels.jl does not consider reactive power cost - costs are ignored\n",
      " 28%|██▊       | 14/50 [00:05<00:16,  2.24it/s]PowerModels.jl does not consider reactive power cost - costs are ignored\n",
      " 30%|███       | 15/50 [00:06<00:16,  2.08it/s]PowerModels.jl does not consider reactive power cost - costs are ignored\n",
      " 32%|███▏      | 16/50 [00:06<00:17,  1.98it/s]PowerModels.jl does not consider reactive power cost - costs are ignored\n",
      " 34%|███▍      | 17/50 [00:07<00:16,  1.95it/s]PowerModels.jl does not consider reactive power cost - costs are ignored\n",
      " 36%|███▌      | 18/50 [00:08<00:19,  1.64it/s]PowerModels.jl does not consider reactive power cost - costs are ignored\n",
      " 38%|███▊      | 19/50 [00:08<00:16,  1.83it/s]PowerModels.jl does not consider reactive power cost - costs are ignored\n",
      " 40%|████      | 20/50 [00:09<00:15,  1.90it/s]PowerModels.jl does not consider reactive power cost - costs are ignored\n",
      " 42%|████▏     | 21/50 [00:09<00:15,  1.89it/s]PowerModels.jl does not consider reactive power cost - costs are ignored\n",
      " 44%|████▍     | 22/50 [00:10<00:14,  1.95it/s]PowerModels.jl does not consider reactive power cost - costs are ignored\n",
      " 46%|████▌     | 23/50 [00:10<00:13,  1.99it/s]PowerModels.jl does not consider reactive power cost - costs are ignored\n",
      " 48%|████▊     | 24/50 [00:11<00:13,  1.95it/s]PowerModels.jl does not consider reactive power cost - costs are ignored\n",
      " 50%|█████     | 25/50 [00:11<00:11,  2.18it/s]PowerModels.jl does not consider reactive power cost - costs are ignored\n",
      " 52%|█████▏    | 26/50 [00:11<00:09,  2.47it/s]PowerModels.jl does not consider reactive power cost - costs are ignored\n",
      " 54%|█████▍    | 27/50 [00:12<00:10,  2.29it/s]PowerModels.jl does not consider reactive power cost - costs are ignored\n",
      " 56%|█████▌    | 28/50 [00:12<00:08,  2.55it/s]PowerModels.jl does not consider reactive power cost - costs are ignored\n",
      " 58%|█████▊    | 29/50 [00:12<00:07,  2.71it/s]PowerModels.jl does not consider reactive power cost - costs are ignored\n",
      " 60%|██████    | 30/50 [00:13<00:07,  2.78it/s]PowerModels.jl does not consider reactive power cost - costs are ignored\n",
      " 62%|██████▏   | 31/50 [00:13<00:06,  2.73it/s]PowerModels.jl does not consider reactive power cost - costs are ignored\n",
      " 64%|██████▍   | 32/50 [00:14<00:06,  2.69it/s]PowerModels.jl does not consider reactive power cost - costs are ignored\n",
      " 66%|██████▌   | 33/50 [00:14<00:06,  2.70it/s]PowerModels.jl does not consider reactive power cost - costs are ignored\n",
      " 68%|██████▊   | 34/50 [00:14<00:06,  2.61it/s]PowerModels.jl does not consider reactive power cost - costs are ignored\n",
      " 70%|███████   | 35/50 [00:15<00:05,  2.79it/s]PowerModels.jl does not consider reactive power cost - costs are ignored\n",
      " 72%|███████▏  | 36/50 [00:15<00:04,  2.92it/s]PowerModels.jl does not consider reactive power cost - costs are ignored\n",
      " 74%|███████▍  | 37/50 [00:15<00:04,  2.60it/s]PowerModels.jl does not consider reactive power cost - costs are ignored\n",
      " 76%|███████▌  | 38/50 [00:17<00:08,  1.47it/s]PowerModels.jl does not consider reactive power cost - costs are ignored\n",
      " 78%|███████▊  | 39/50 [00:18<00:07,  1.46it/s]PowerModels.jl does not consider reactive power cost - costs are ignored\n",
      " 80%|████████  | 40/50 [00:18<00:06,  1.49it/s]PowerModels.jl does not consider reactive power cost - costs are ignored\n",
      " 82%|████████▏ | 41/50 [00:19<00:07,  1.16it/s]PowerModels.jl does not consider reactive power cost - costs are ignored\n",
      " 84%|████████▍ | 42/50 [00:20<00:05,  1.38it/s]PowerModels.jl does not consider reactive power cost - costs are ignored\n",
      " 86%|████████▌ | 43/50 [00:20<00:04,  1.56it/s]PowerModels.jl does not consider reactive power cost - costs are ignored\n",
      " 88%|████████▊ | 44/50 [00:21<00:03,  1.71it/s]PowerModels.jl does not consider reactive power cost - costs are ignored\n",
      " 90%|█████████ | 45/50 [00:21<00:02,  1.87it/s]PowerModels.jl does not consider reactive power cost - costs are ignored\n",
      " 92%|█████████▏| 46/50 [00:22<00:02,  1.84it/s]PowerModels.jl does not consider reactive power cost - costs are ignored\n",
      " 94%|█████████▍| 47/50 [00:22<00:01,  1.76it/s]PowerModels.jl does not consider reactive power cost - costs are ignored\n",
      " 96%|█████████▌| 48/50 [00:23<00:01,  1.78it/s]PowerModels.jl does not consider reactive power cost - costs are ignored\n",
      " 98%|█████████▊| 49/50 [00:24<00:00,  1.24it/s]PowerModels.jl does not consider reactive power cost - costs are ignored\n",
      "100%|██████████| 50/50 [00:25<00:00,  1.43it/s]PowerModels.jl does not consider reactive power cost - costs are ignored\n",
      "100%|██████████| 50/50 [00:25<00:00,  1.96it/s]\n"
     ]
    },
    {
     "name": "stdout",
     "output_type": "stream",
     "text": [
      "Strata = 0; Iteration = 2\n"
     ]
    },
    {
     "name": "stderr",
     "output_type": "stream",
     "text": [
      "  0%|          | 0/50 [00:00<?, ?it/s]PowerModels.jl does not consider reactive power cost - costs are ignored\n",
      "  4%|▍         | 2/50 [00:00<00:11,  4.09it/s]PowerModels.jl does not consider reactive power cost - costs are ignored\n",
      "  6%|▌         | 3/50 [00:01<00:19,  2.39it/s]PowerModels.jl does not consider reactive power cost - costs are ignored\n",
      "  8%|▊         | 4/50 [00:01<00:20,  2.23it/s]PowerModels.jl does not consider reactive power cost - costs are ignored\n",
      " 10%|█         | 5/50 [00:02<00:21,  2.13it/s]PowerModels.jl does not consider reactive power cost - costs are ignored\n",
      " 12%|█▏        | 6/50 [00:02<00:20,  2.12it/s]PowerModels.jl does not consider reactive power cost - costs are ignored\n",
      " 14%|█▍        | 7/50 [00:02<00:17,  2.40it/s]PowerModels.jl does not consider reactive power cost - costs are ignored\n",
      " 16%|█▌        | 8/50 [00:03<00:16,  2.57it/s]PowerModels.jl does not consider reactive power cost - costs are ignored\n",
      " 18%|█▊        | 9/50 [00:03<00:17,  2.30it/s]PowerModels.jl does not consider reactive power cost - costs are ignored\n",
      " 20%|██        | 10/50 [00:04<00:17,  2.28it/s]PowerModels.jl does not consider reactive power cost - costs are ignored\n",
      " 22%|██▏       | 11/50 [00:04<00:17,  2.23it/s]PowerModels.jl does not consider reactive power cost - costs are ignored\n",
      " 24%|██▍       | 12/50 [00:05<00:15,  2.38it/s]PowerModels.jl does not consider reactive power cost - costs are ignored\n",
      " 26%|██▌       | 13/50 [00:05<00:17,  2.16it/s]PowerModels.jl does not consider reactive power cost - costs are ignored\n",
      " 28%|██▊       | 14/50 [00:06<00:16,  2.18it/s]PowerModels.jl does not consider reactive power cost - costs are ignored\n",
      " 30%|███       | 15/50 [00:06<00:17,  2.06it/s]PowerModels.jl does not consider reactive power cost - costs are ignored\n",
      " 32%|███▏      | 16/50 [00:07<00:16,  2.08it/s]PowerModels.jl does not consider reactive power cost - costs are ignored\n",
      " 34%|███▍      | 17/50 [00:07<00:16,  2.04it/s]PowerModels.jl does not consider reactive power cost - costs are ignored\n",
      " 36%|███▌      | 18/50 [00:08<00:18,  1.71it/s]PowerModels.jl does not consider reactive power cost - costs are ignored\n",
      " 38%|███▊      | 19/50 [00:08<00:16,  1.85it/s]PowerModels.jl does not consider reactive power cost - costs are ignored\n",
      " 40%|████      | 20/50 [00:09<00:15,  1.88it/s]PowerModels.jl does not consider reactive power cost - costs are ignored\n",
      " 42%|████▏     | 21/50 [00:09<00:14,  1.96it/s]PowerModels.jl does not consider reactive power cost - costs are ignored\n",
      " 44%|████▍     | 22/50 [00:10<00:14,  1.95it/s]PowerModels.jl does not consider reactive power cost - costs are ignored\n",
      " 46%|████▌     | 23/50 [00:10<00:13,  1.99it/s]PowerModels.jl does not consider reactive power cost - costs are ignored\n",
      " 48%|████▊     | 24/50 [00:11<00:12,  2.03it/s]PowerModels.jl does not consider reactive power cost - costs are ignored\n",
      " 50%|█████     | 25/50 [00:11<00:11,  2.18it/s]PowerModels.jl does not consider reactive power cost - costs are ignored\n",
      " 52%|█████▏    | 26/50 [00:11<00:09,  2.44it/s]PowerModels.jl does not consider reactive power cost - costs are ignored\n",
      " 54%|█████▍    | 27/50 [00:12<00:10,  2.24it/s]PowerModels.jl does not consider reactive power cost - costs are ignored\n",
      " 56%|█████▌    | 28/50 [00:12<00:09,  2.41it/s]PowerModels.jl does not consider reactive power cost - costs are ignored\n",
      " 58%|█████▊    | 29/50 [00:13<00:08,  2.57it/s]PowerModels.jl does not consider reactive power cost - costs are ignored\n",
      " 60%|██████    | 30/50 [00:13<00:07,  2.75it/s]PowerModels.jl does not consider reactive power cost - costs are ignored\n",
      " 62%|██████▏   | 31/50 [00:13<00:06,  2.96it/s]PowerModels.jl does not consider reactive power cost - costs are ignored\n",
      " 64%|██████▍   | 32/50 [00:14<00:06,  2.98it/s]PowerModels.jl does not consider reactive power cost - costs are ignored\n",
      " 66%|██████▌   | 33/50 [00:14<00:05,  3.03it/s]PowerModels.jl does not consider reactive power cost - costs are ignored\n",
      " 68%|██████▊   | 34/50 [00:14<00:05,  2.98it/s]PowerModels.jl does not consider reactive power cost - costs are ignored\n",
      " 70%|███████   | 35/50 [00:15<00:04,  3.03it/s]PowerModels.jl does not consider reactive power cost - costs are ignored\n",
      " 72%|███████▏  | 36/50 [00:15<00:04,  3.11it/s]PowerModels.jl does not consider reactive power cost - costs are ignored\n",
      " 74%|███████▍  | 37/50 [00:15<00:04,  2.73it/s]PowerModels.jl does not consider reactive power cost - costs are ignored\n",
      " 76%|███████▌  | 38/50 [00:17<00:07,  1.57it/s]PowerModels.jl does not consider reactive power cost - costs are ignored\n",
      " 78%|███████▊  | 39/50 [00:17<00:07,  1.54it/s]PowerModels.jl does not consider reactive power cost - costs are ignored\n",
      " 80%|████████  | 40/50 [00:18<00:06,  1.61it/s]PowerModels.jl does not consider reactive power cost - costs are ignored\n",
      " 82%|████████▏ | 41/50 [00:19<00:07,  1.19it/s]PowerModels.jl does not consider reactive power cost - costs are ignored\n",
      " 84%|████████▍ | 42/50 [00:20<00:05,  1.38it/s]PowerModels.jl does not consider reactive power cost - costs are ignored\n",
      " 86%|████████▌ | 43/50 [00:20<00:04,  1.54it/s]PowerModels.jl does not consider reactive power cost - costs are ignored\n",
      " 88%|████████▊ | 44/50 [00:21<00:03,  1.64it/s]PowerModels.jl does not consider reactive power cost - costs are ignored\n",
      " 90%|█████████ | 45/50 [00:21<00:02,  1.75it/s]PowerModels.jl does not consider reactive power cost - costs are ignored\n",
      " 92%|█████████▏| 46/50 [00:22<00:02,  1.76it/s]PowerModels.jl does not consider reactive power cost - costs are ignored\n",
      " 94%|█████████▍| 47/50 [00:22<00:01,  1.69it/s]PowerModels.jl does not consider reactive power cost - costs are ignored\n",
      " 96%|█████████▌| 48/50 [00:23<00:01,  1.72it/s]PowerModels.jl does not consider reactive power cost - costs are ignored\n",
      " 98%|█████████▊| 49/50 [00:24<00:00,  1.34it/s]PowerModels.jl does not consider reactive power cost - costs are ignored\n",
      "100%|██████████| 50/50 [00:24<00:00,  1.53it/s]PowerModels.jl does not consider reactive power cost - costs are ignored\n",
      "100%|██████████| 50/50 [00:25<00:00,  1.98it/s]\n"
     ]
    },
    {
     "name": "stdout",
     "output_type": "stream",
     "text": [
      "Strata = 0; Iteration = 3\n"
     ]
    },
    {
     "name": "stderr",
     "output_type": "stream",
     "text": [
      "  0%|          | 0/50 [00:00<?, ?it/s]PowerModels.jl does not consider reactive power cost - costs are ignored\n",
      "  4%|▍         | 2/50 [00:00<00:10,  4.41it/s]PowerModels.jl does not consider reactive power cost - costs are ignored\n",
      "  6%|▌         | 3/50 [00:01<00:17,  2.71it/s]PowerModels.jl does not consider reactive power cost - costs are ignored\n",
      "  8%|▊         | 4/50 [00:01<00:19,  2.39it/s]PowerModels.jl does not consider reactive power cost - costs are ignored\n",
      " 10%|█         | 5/50 [00:01<00:19,  2.29it/s]PowerModels.jl does not consider reactive power cost - costs are ignored\n",
      " 12%|█▏        | 6/50 [00:02<00:19,  2.26it/s]PowerModels.jl does not consider reactive power cost - costs are ignored\n",
      " 14%|█▍        | 7/50 [00:02<00:17,  2.49it/s]PowerModels.jl does not consider reactive power cost - costs are ignored\n",
      " 16%|█▌        | 8/50 [00:03<00:15,  2.71it/s]PowerModels.jl does not consider reactive power cost - costs are ignored\n",
      " 18%|█▊        | 9/50 [00:03<00:15,  2.61it/s]PowerModels.jl does not consider reactive power cost - costs are ignored\n",
      " 20%|██        | 10/50 [00:03<00:16,  2.49it/s]PowerModels.jl does not consider reactive power cost - costs are ignored\n",
      " 22%|██▏       | 11/50 [00:04<00:16,  2.43it/s]PowerModels.jl does not consider reactive power cost - costs are ignored\n",
      " 24%|██▍       | 12/50 [00:04<00:14,  2.60it/s]PowerModels.jl does not consider reactive power cost - costs are ignored\n",
      " 26%|██▌       | 13/50 [00:05<00:15,  2.33it/s]PowerModels.jl does not consider reactive power cost - costs are ignored\n",
      " 28%|██▊       | 14/50 [00:05<00:15,  2.28it/s]PowerModels.jl does not consider reactive power cost - costs are ignored\n",
      " 30%|███       | 15/50 [00:06<00:16,  2.13it/s]PowerModels.jl does not consider reactive power cost - costs are ignored\n",
      " 32%|███▏      | 16/50 [00:06<00:15,  2.15it/s]PowerModels.jl does not consider reactive power cost - costs are ignored\n",
      " 34%|███▍      | 17/50 [00:07<00:16,  2.05it/s]PowerModels.jl does not consider reactive power cost - costs are ignored\n",
      " 36%|███▌      | 18/50 [00:07<00:18,  1.74it/s]PowerModels.jl does not consider reactive power cost - costs are ignored\n",
      " 38%|███▊      | 19/50 [00:08<00:16,  1.91it/s]PowerModels.jl does not consider reactive power cost - costs are ignored\n",
      " 40%|████      | 20/50 [00:08<00:16,  1.86it/s]PowerModels.jl does not consider reactive power cost - costs are ignored\n",
      " 42%|████▏     | 21/50 [00:09<00:15,  1.88it/s]PowerModels.jl does not consider reactive power cost - costs are ignored\n",
      " 44%|████▍     | 22/50 [00:09<00:14,  1.91it/s]PowerModels.jl does not consider reactive power cost - costs are ignored\n",
      " 46%|████▌     | 23/50 [00:10<00:14,  1.89it/s]PowerModels.jl does not consider reactive power cost - costs are ignored\n",
      " 48%|████▊     | 24/50 [00:10<00:13,  1.95it/s]PowerModels.jl does not consider reactive power cost - costs are ignored\n",
      " 50%|█████     | 25/50 [00:11<00:11,  2.19it/s]PowerModels.jl does not consider reactive power cost - costs are ignored\n",
      " 52%|█████▏    | 26/50 [00:11<00:10,  2.39it/s]PowerModels.jl does not consider reactive power cost - costs are ignored\n",
      " 54%|█████▍    | 27/50 [00:12<00:10,  2.26it/s]PowerModels.jl does not consider reactive power cost - costs are ignored\n",
      " 56%|█████▌    | 28/50 [00:12<00:08,  2.52it/s]PowerModels.jl does not consider reactive power cost - costs are ignored\n",
      " 58%|█████▊    | 29/50 [00:12<00:07,  2.66it/s]PowerModels.jl does not consider reactive power cost - costs are ignored\n",
      " 60%|██████    | 30/50 [00:13<00:06,  2.86it/s]PowerModels.jl does not consider reactive power cost - costs are ignored\n",
      " 62%|██████▏   | 31/50 [00:13<00:06,  3.00it/s]PowerModels.jl does not consider reactive power cost - costs are ignored\n",
      " 64%|██████▍   | 32/50 [00:13<00:05,  3.14it/s]PowerModels.jl does not consider reactive power cost - costs are ignored\n",
      " 66%|██████▌   | 33/50 [00:13<00:05,  3.03it/s]PowerModels.jl does not consider reactive power cost - costs are ignored\n",
      " 68%|██████▊   | 34/50 [00:14<00:05,  2.99it/s]PowerModels.jl does not consider reactive power cost - costs are ignored\n",
      " 70%|███████   | 35/50 [00:14<00:04,  3.09it/s]PowerModels.jl does not consider reactive power cost - costs are ignored\n",
      " 72%|███████▏  | 36/50 [00:14<00:04,  3.09it/s]PowerModels.jl does not consider reactive power cost - costs are ignored\n",
      " 74%|███████▍  | 37/50 [00:15<00:04,  2.72it/s]PowerModels.jl does not consider reactive power cost - costs are ignored\n",
      " 76%|███████▌  | 38/50 [00:16<00:07,  1.65it/s]PowerModels.jl does not consider reactive power cost - costs are ignored\n",
      " 78%|███████▊  | 39/50 [00:17<00:06,  1.59it/s]PowerModels.jl does not consider reactive power cost - costs are ignored\n",
      " 80%|████████  | 40/50 [00:17<00:05,  1.68it/s]PowerModels.jl does not consider reactive power cost - costs are ignored\n",
      " 82%|████████▏ | 41/50 [00:19<00:07,  1.26it/s]PowerModels.jl does not consider reactive power cost - costs are ignored\n",
      " 84%|████████▍ | 42/50 [00:19<00:05,  1.44it/s]PowerModels.jl does not consider reactive power cost - costs are ignored\n",
      " 86%|████████▌ | 43/50 [00:19<00:04,  1.62it/s]PowerModels.jl does not consider reactive power cost - costs are ignored\n",
      " 88%|████████▊ | 44/50 [00:20<00:03,  1.75it/s]PowerModels.jl does not consider reactive power cost - costs are ignored\n",
      " 90%|█████████ | 45/50 [00:20<00:02,  1.89it/s]PowerModels.jl does not consider reactive power cost - costs are ignored\n",
      " 92%|█████████▏| 46/50 [00:21<00:02,  1.80it/s]PowerModels.jl does not consider reactive power cost - costs are ignored\n",
      " 94%|█████████▍| 47/50 [00:22<00:01,  1.75it/s]PowerModels.jl does not consider reactive power cost - costs are ignored\n",
      " 96%|█████████▌| 48/50 [00:22<00:01,  1.82it/s]PowerModels.jl does not consider reactive power cost - costs are ignored\n",
      " 98%|█████████▊| 49/50 [00:23<00:00,  1.34it/s]PowerModels.jl does not consider reactive power cost - costs are ignored\n",
      "100%|██████████| 50/50 [00:24<00:00,  1.53it/s]PowerModels.jl does not consider reactive power cost - costs are ignored\n",
      "100%|██████████| 50/50 [00:24<00:00,  2.04it/s]\n"
     ]
    },
    {
     "name": "stdout",
     "output_type": "stream",
     "text": [
      "Strata = 1; Iteration = 4\n"
     ]
    },
    {
     "name": "stderr",
     "output_type": "stream",
     "text": [
      "  0%|          | 0/50 [00:00<?, ?it/s]PowerModels.jl does not consider reactive power cost - costs are ignored\n",
      "  4%|▍         | 2/50 [00:00<00:13,  3.57it/s]PowerModels.jl does not consider reactive power cost - costs are ignored\n",
      "  6%|▌         | 3/50 [00:01<00:19,  2.43it/s]PowerModels.jl does not consider reactive power cost - costs are ignored\n",
      "  8%|▊         | 4/50 [00:01<00:21,  2.12it/s]PowerModels.jl does not consider reactive power cost - costs are ignored\n",
      " 10%|█         | 5/50 [00:02<00:21,  2.07it/s]PowerModels.jl does not consider reactive power cost - costs are ignored\n",
      " 12%|█▏        | 6/50 [00:02<00:19,  2.21it/s]PowerModels.jl does not consider reactive power cost - costs are ignored\n",
      " 14%|█▍        | 7/50 [00:02<00:17,  2.51it/s]PowerModels.jl does not consider reactive power cost - costs are ignored\n",
      " 16%|█▌        | 8/50 [00:03<00:16,  2.49it/s]PowerModels.jl does not consider reactive power cost - costs are ignored\n",
      " 18%|█▊        | 9/50 [00:03<00:17,  2.38it/s]PowerModels.jl does not consider reactive power cost - costs are ignored\n",
      " 20%|██        | 10/50 [00:04<00:17,  2.35it/s]PowerModels.jl does not consider reactive power cost - costs are ignored\n",
      " 22%|██▏       | 11/50 [00:04<00:17,  2.28it/s]PowerModels.jl does not consider reactive power cost - costs are ignored\n",
      " 24%|██▍       | 12/50 [00:05<00:15,  2.48it/s]PowerModels.jl does not consider reactive power cost - costs are ignored\n",
      " 26%|██▌       | 13/50 [00:05<00:16,  2.24it/s]PowerModels.jl does not consider reactive power cost - costs are ignored\n",
      " 28%|██▊       | 14/50 [00:05<00:16,  2.25it/s]PowerModels.jl does not consider reactive power cost - costs are ignored\n",
      " 30%|███       | 15/50 [00:06<00:16,  2.07it/s]PowerModels.jl does not consider reactive power cost - costs are ignored\n",
      " 32%|███▏      | 16/50 [00:07<00:16,  2.06it/s]PowerModels.jl does not consider reactive power cost - costs are ignored\n",
      " 34%|███▍      | 17/50 [00:07<00:15,  2.07it/s]PowerModels.jl does not consider reactive power cost - costs are ignored\n",
      " 36%|███▌      | 18/50 [00:08<00:18,  1.72it/s]PowerModels.jl does not consider reactive power cost - costs are ignored\n",
      " 38%|███▊      | 19/50 [00:08<00:16,  1.86it/s]PowerModels.jl does not consider reactive power cost - costs are ignored\n",
      " 40%|████      | 20/50 [00:09<00:15,  1.89it/s]PowerModels.jl does not consider reactive power cost - costs are ignored\n",
      " 42%|████▏     | 21/50 [00:09<00:15,  1.84it/s]PowerModels.jl does not consider reactive power cost - costs are ignored\n",
      " 44%|████▍     | 22/50 [00:10<00:14,  1.92it/s]PowerModels.jl does not consider reactive power cost - costs are ignored\n",
      " 46%|████▌     | 23/50 [00:10<00:13,  1.94it/s]PowerModels.jl does not consider reactive power cost - costs are ignored\n",
      " 48%|████▊     | 24/50 [00:11<00:13,  1.94it/s]PowerModels.jl does not consider reactive power cost - costs are ignored\n",
      " 50%|█████     | 25/50 [00:11<00:11,  2.15it/s]PowerModels.jl does not consider reactive power cost - costs are ignored\n",
      " 52%|█████▏    | 26/50 [00:12<00:10,  2.39it/s]PowerModels.jl does not consider reactive power cost - costs are ignored\n",
      " 54%|█████▍    | 27/50 [00:12<00:10,  2.25it/s]PowerModels.jl does not consider reactive power cost - costs are ignored\n",
      " 56%|█████▌    | 28/50 [00:12<00:09,  2.40it/s]PowerModels.jl does not consider reactive power cost - costs are ignored\n",
      " 58%|█████▊    | 29/50 [00:13<00:08,  2.61it/s]PowerModels.jl does not consider reactive power cost - costs are ignored\n",
      " 60%|██████    | 30/50 [00:13<00:07,  2.76it/s]PowerModels.jl does not consider reactive power cost - costs are ignored\n",
      " 62%|██████▏   | 31/50 [00:13<00:06,  2.79it/s]PowerModels.jl does not consider reactive power cost - costs are ignored\n",
      " 64%|██████▍   | 32/50 [00:14<00:06,  2.80it/s]PowerModels.jl does not consider reactive power cost - costs are ignored\n",
      " 66%|██████▌   | 33/50 [00:14<00:06,  2.72it/s]PowerModels.jl does not consider reactive power cost - costs are ignored\n",
      " 68%|██████▊   | 34/50 [00:14<00:05,  2.70it/s]PowerModels.jl does not consider reactive power cost - costs are ignored\n",
      " 70%|███████   | 35/50 [00:15<00:05,  2.60it/s]PowerModels.jl does not consider reactive power cost - costs are ignored\n",
      " 72%|███████▏  | 36/50 [00:15<00:05,  2.72it/s]PowerModels.jl does not consider reactive power cost - costs are ignored\n",
      " 74%|███████▍  | 37/50 [00:16<00:05,  2.46it/s]PowerModels.jl does not consider reactive power cost - costs are ignored\n",
      " 76%|███████▌  | 38/50 [00:17<00:08,  1.41it/s]PowerModels.jl does not consider reactive power cost - costs are ignored\n",
      " 78%|███████▊  | 39/50 [00:18<00:07,  1.44it/s]PowerModels.jl does not consider reactive power cost - costs are ignored\n",
      " 80%|████████  | 40/50 [00:18<00:06,  1.54it/s]PowerModels.jl does not consider reactive power cost - costs are ignored\n",
      " 82%|████████▏ | 41/50 [00:20<00:07,  1.18it/s]PowerModels.jl does not consider reactive power cost - costs are ignored\n",
      " 84%|████████▍ | 42/50 [00:20<00:05,  1.36it/s]PowerModels.jl does not consider reactive power cost - costs are ignored\n",
      " 86%|████████▌ | 43/50 [00:21<00:04,  1.57it/s]PowerModels.jl does not consider reactive power cost - costs are ignored\n",
      " 88%|████████▊ | 44/50 [00:21<00:03,  1.69it/s]PowerModels.jl does not consider reactive power cost - costs are ignored\n",
      " 90%|█████████ | 45/50 [00:21<00:02,  1.85it/s]PowerModels.jl does not consider reactive power cost - costs are ignored\n",
      " 92%|█████████▏| 46/50 [00:22<00:02,  1.84it/s]PowerModels.jl does not consider reactive power cost - costs are ignored\n",
      " 94%|█████████▍| 47/50 [00:23<00:01,  1.76it/s]PowerModels.jl does not consider reactive power cost - costs are ignored\n",
      " 96%|█████████▌| 48/50 [00:23<00:01,  1.80it/s]PowerModels.jl does not consider reactive power cost - costs are ignored\n",
      " 98%|█████████▊| 49/50 [00:24<00:00,  1.37it/s]PowerModels.jl does not consider reactive power cost - costs are ignored\n",
      "100%|██████████| 50/50 [00:25<00:00,  1.55it/s]PowerModels.jl does not consider reactive power cost - costs are ignored\n",
      "100%|██████████| 50/50 [00:25<00:00,  1.96it/s]\n"
     ]
    },
    {
     "name": "stdout",
     "output_type": "stream",
     "text": [
      "Strata = 1; Iteration = 5\n"
     ]
    },
    {
     "name": "stderr",
     "output_type": "stream",
     "text": [
      "  0%|          | 0/50 [00:00<?, ?it/s]PowerModels.jl does not consider reactive power cost - costs are ignored\n",
      "  4%|▍         | 2/50 [00:00<00:11,  4.24it/s]PowerModels.jl does not consider reactive power cost - costs are ignored\n",
      "  6%|▌         | 3/50 [00:00<00:13,  3.55it/s]PowerModels.jl does not consider reactive power cost - costs are ignored\n",
      "  8%|▊         | 4/50 [00:01<00:13,  3.34it/s]PowerModels.jl does not consider reactive power cost - costs are ignored\n",
      " 10%|█         | 5/50 [00:01<00:15,  2.91it/s]PowerModels.jl does not consider reactive power cost - costs are ignored\n",
      " 12%|█▏        | 6/50 [00:01<00:16,  2.70it/s]PowerModels.jl does not consider reactive power cost - costs are ignored\n",
      " 14%|█▍        | 7/50 [00:02<00:15,  2.76it/s]PowerModels.jl does not consider reactive power cost - costs are ignored\n",
      " 16%|█▌        | 8/50 [00:02<00:14,  2.92it/s]PowerModels.jl does not consider reactive power cost - costs are ignored\n",
      " 18%|█▊        | 9/50 [00:03<00:23,  1.77it/s]PowerModels.jl does not consider reactive power cost - costs are ignored\n",
      " 20%|██        | 10/50 [00:04<00:21,  1.88it/s]PowerModels.jl does not consider reactive power cost - costs are ignored\n",
      " 22%|██▏       | 11/50 [00:04<00:20,  1.86it/s]PowerModels.jl does not consider reactive power cost - costs are ignored\n",
      " 24%|██▍       | 12/50 [00:05<00:17,  2.13it/s]PowerModels.jl does not consider reactive power cost - costs are ignored\n",
      " 26%|██▌       | 13/50 [00:05<00:17,  2.06it/s]PowerModels.jl does not consider reactive power cost - costs are ignored\n",
      " 28%|██▊       | 14/50 [00:05<00:16,  2.14it/s]PowerModels.jl does not consider reactive power cost - costs are ignored\n",
      " 30%|███       | 15/50 [00:06<00:16,  2.07it/s]PowerModels.jl does not consider reactive power cost - costs are ignored\n",
      " 32%|███▏      | 16/50 [00:06<00:16,  2.11it/s]PowerModels.jl does not consider reactive power cost - costs are ignored\n",
      " 34%|███▍      | 17/50 [00:07<00:16,  2.02it/s]PowerModels.jl does not consider reactive power cost - costs are ignored\n",
      " 36%|███▌      | 18/50 [00:08<00:17,  1.80it/s]PowerModels.jl does not consider reactive power cost - costs are ignored\n",
      " 38%|███▊      | 19/50 [00:08<00:15,  1.97it/s]PowerModels.jl does not consider reactive power cost - costs are ignored\n",
      " 40%|████      | 20/50 [00:09<00:15,  1.94it/s]PowerModels.jl does not consider reactive power cost - costs are ignored\n",
      " 42%|████▏     | 21/50 [00:09<00:14,  1.99it/s]PowerModels.jl does not consider reactive power cost - costs are ignored\n",
      " 44%|████▍     | 22/50 [00:10<00:13,  2.03it/s]PowerModels.jl does not consider reactive power cost - costs are ignored\n",
      " 46%|████▌     | 23/50 [00:10<00:13,  2.00it/s]PowerModels.jl does not consider reactive power cost - costs are ignored\n",
      " 48%|████▊     | 24/50 [00:11<00:12,  2.03it/s]PowerModels.jl does not consider reactive power cost - costs are ignored\n",
      " 50%|█████     | 25/50 [00:11<00:11,  2.24it/s]PowerModels.jl does not consider reactive power cost - costs are ignored\n",
      " 52%|█████▏    | 26/50 [00:11<00:09,  2.42it/s]PowerModels.jl does not consider reactive power cost - costs are ignored\n",
      " 54%|█████▍    | 27/50 [00:12<00:10,  2.29it/s]PowerModels.jl does not consider reactive power cost - costs are ignored\n",
      " 56%|█████▌    | 28/50 [00:12<00:08,  2.56it/s]PowerModels.jl does not consider reactive power cost - costs are ignored\n",
      " 58%|█████▊    | 29/50 [00:12<00:07,  2.75it/s]PowerModels.jl does not consider reactive power cost - costs are ignored\n",
      " 60%|██████    | 30/50 [00:13<00:07,  2.78it/s]PowerModels.jl does not consider reactive power cost - costs are ignored\n",
      " 62%|██████▏   | 31/50 [00:13<00:06,  2.95it/s]PowerModels.jl does not consider reactive power cost - costs are ignored\n",
      " 64%|██████▍   | 32/50 [00:13<00:05,  3.02it/s]PowerModels.jl does not consider reactive power cost - costs are ignored\n",
      " 66%|██████▌   | 33/50 [00:14<00:05,  2.90it/s]PowerModels.jl does not consider reactive power cost - costs are ignored\n",
      " 68%|██████▊   | 34/50 [00:14<00:05,  2.85it/s]PowerModels.jl does not consider reactive power cost - costs are ignored\n",
      " 70%|███████   | 35/50 [00:14<00:05,  2.89it/s]PowerModels.jl does not consider reactive power cost - costs are ignored\n",
      " 72%|███████▏  | 36/50 [00:15<00:04,  2.92it/s]PowerModels.jl does not consider reactive power cost - costs are ignored\n",
      " 74%|███████▍  | 37/50 [00:15<00:05,  2.54it/s]PowerModels.jl does not consider reactive power cost - costs are ignored\n",
      " 76%|███████▌  | 38/50 [00:16<00:07,  1.60it/s]PowerModels.jl does not consider reactive power cost - costs are ignored\n",
      " 78%|███████▊  | 39/50 [00:17<00:06,  1.58it/s]PowerModels.jl does not consider reactive power cost - costs are ignored\n",
      " 80%|████████  | 40/50 [00:18<00:06,  1.65it/s]PowerModels.jl does not consider reactive power cost - costs are ignored\n",
      " 82%|████████▏ | 41/50 [00:19<00:07,  1.23it/s]PowerModels.jl does not consider reactive power cost - costs are ignored\n",
      " 84%|████████▍ | 42/50 [00:19<00:05,  1.45it/s]PowerModels.jl does not consider reactive power cost - costs are ignored\n",
      " 86%|████████▌ | 43/50 [00:20<00:04,  1.60it/s]PowerModels.jl does not consider reactive power cost - costs are ignored\n",
      " 88%|████████▊ | 44/50 [00:20<00:03,  1.73it/s]PowerModels.jl does not consider reactive power cost - costs are ignored\n",
      " 90%|█████████ | 45/50 [00:21<00:02,  1.88it/s]PowerModels.jl does not consider reactive power cost - costs are ignored\n",
      " 92%|█████████▏| 46/50 [00:21<00:02,  1.86it/s]PowerModels.jl does not consider reactive power cost - costs are ignored\n",
      " 94%|█████████▍| 47/50 [00:22<00:01,  1.80it/s]PowerModels.jl does not consider reactive power cost - costs are ignored\n",
      " 96%|█████████▌| 48/50 [00:22<00:01,  1.87it/s]PowerModels.jl does not consider reactive power cost - costs are ignored\n",
      " 98%|█████████▊| 49/50 [00:23<00:00,  1.37it/s]PowerModels.jl does not consider reactive power cost - costs are ignored\n",
      "100%|██████████| 50/50 [00:24<00:00,  1.57it/s]PowerModels.jl does not consider reactive power cost - costs are ignored\n",
      "100%|██████████| 50/50 [00:24<00:00,  2.03it/s]\n"
     ]
    },
    {
     "name": "stdout",
     "output_type": "stream",
     "text": [
      "Strata = 1; Iteration = 6\n"
     ]
    },
    {
     "name": "stderr",
     "output_type": "stream",
     "text": [
      "  0%|          | 0/50 [00:00<?, ?it/s]PowerModels.jl does not consider reactive power cost - costs are ignored\n",
      "  4%|▍         | 2/50 [00:00<00:11,  4.10it/s]PowerModels.jl does not consider reactive power cost - costs are ignored\n",
      "  6%|▌         | 3/50 [00:01<00:19,  2.46it/s]PowerModels.jl does not consider reactive power cost - costs are ignored\n",
      "  8%|▊         | 4/50 [00:01<00:20,  2.28it/s]PowerModels.jl does not consider reactive power cost - costs are ignored\n",
      " 10%|█         | 5/50 [00:02<00:23,  1.95it/s]PowerModels.jl does not consider reactive power cost - costs are ignored\n",
      " 12%|█▏        | 6/50 [00:02<00:21,  2.07it/s]PowerModels.jl does not consider reactive power cost - costs are ignored\n",
      " 14%|█▍        | 7/50 [00:02<00:18,  2.35it/s]PowerModels.jl does not consider reactive power cost - costs are ignored\n",
      " 16%|█▌        | 8/50 [00:03<00:15,  2.63it/s]PowerModels.jl does not consider reactive power cost - costs are ignored\n",
      " 18%|█▊        | 9/50 [00:03<00:17,  2.33it/s]PowerModels.jl does not consider reactive power cost - costs are ignored\n",
      " 20%|██        | 10/50 [00:04<00:17,  2.34it/s]PowerModels.jl does not consider reactive power cost - costs are ignored\n",
      " 22%|██▏       | 11/50 [00:04<00:16,  2.34it/s]PowerModels.jl does not consider reactive power cost - costs are ignored\n",
      " 24%|██▍       | 12/50 [00:05<00:15,  2.48it/s]PowerModels.jl does not consider reactive power cost - costs are ignored\n",
      " 26%|██▌       | 13/50 [00:05<00:15,  2.32it/s]PowerModels.jl does not consider reactive power cost - costs are ignored\n",
      " 28%|██▊       | 14/50 [00:05<00:15,  2.34it/s]PowerModels.jl does not consider reactive power cost - costs are ignored\n",
      " 30%|███       | 15/50 [00:06<00:16,  2.17it/s]PowerModels.jl does not consider reactive power cost - costs are ignored\n",
      " 32%|███▏      | 16/50 [00:06<00:15,  2.16it/s]PowerModels.jl does not consider reactive power cost - costs are ignored\n",
      " 34%|███▍      | 17/50 [00:07<00:15,  2.09it/s]PowerModels.jl does not consider reactive power cost - costs are ignored\n",
      " 36%|███▌      | 18/50 [00:08<00:17,  1.79it/s]PowerModels.jl does not consider reactive power cost - costs are ignored\n",
      " 38%|███▊      | 19/50 [00:08<00:15,  1.96it/s]PowerModels.jl does not consider reactive power cost - costs are ignored\n",
      " 40%|████      | 20/50 [00:09<00:15,  1.97it/s]PowerModels.jl does not consider reactive power cost - costs are ignored\n",
      " 42%|████▏     | 21/50 [00:09<00:14,  1.99it/s]PowerModels.jl does not consider reactive power cost - costs are ignored\n",
      " 44%|████▍     | 22/50 [00:10<00:14,  1.94it/s]PowerModels.jl does not consider reactive power cost - costs are ignored\n",
      " 46%|████▌     | 23/50 [00:10<00:13,  1.98it/s]PowerModels.jl does not consider reactive power cost - costs are ignored\n",
      " 48%|████▊     | 24/50 [00:11<00:13,  2.00it/s]PowerModels.jl does not consider reactive power cost - costs are ignored\n",
      " 50%|█████     | 25/50 [00:11<00:11,  2.14it/s]PowerModels.jl does not consider reactive power cost - costs are ignored\n",
      " 52%|█████▏    | 26/50 [00:11<00:09,  2.40it/s]PowerModels.jl does not consider reactive power cost - costs are ignored\n",
      " 54%|█████▍    | 27/50 [00:12<00:10,  2.24it/s]PowerModels.jl does not consider reactive power cost - costs are ignored\n",
      " 56%|█████▌    | 28/50 [00:12<00:08,  2.51it/s]PowerModels.jl does not consider reactive power cost - costs are ignored\n",
      " 58%|█████▊    | 29/50 [00:12<00:08,  2.61it/s]PowerModels.jl does not consider reactive power cost - costs are ignored\n",
      " 60%|██████    | 30/50 [00:13<00:07,  2.77it/s]PowerModels.jl does not consider reactive power cost - costs are ignored\n",
      " 62%|██████▏   | 31/50 [00:13<00:06,  2.91it/s]PowerModels.jl does not consider reactive power cost - costs are ignored\n",
      " 64%|██████▍   | 32/50 [00:13<00:06,  2.91it/s]PowerModels.jl does not consider reactive power cost - costs are ignored\n",
      " 66%|██████▌   | 33/50 [00:14<00:05,  2.91it/s]PowerModels.jl does not consider reactive power cost - costs are ignored\n",
      " 68%|██████▊   | 34/50 [00:14<00:06,  2.60it/s]PowerModels.jl does not consider reactive power cost - costs are ignored\n",
      " 70%|███████   | 35/50 [00:15<00:05,  2.66it/s]PowerModels.jl does not consider reactive power cost - costs are ignored\n",
      " 72%|███████▏  | 36/50 [00:15<00:05,  2.61it/s]PowerModels.jl does not consider reactive power cost - costs are ignored\n",
      " 74%|███████▍  | 37/50 [00:15<00:05,  2.37it/s]PowerModels.jl does not consider reactive power cost - costs are ignored\n",
      " 76%|███████▌  | 38/50 [00:17<00:08,  1.50it/s]PowerModels.jl does not consider reactive power cost - costs are ignored\n",
      " 78%|███████▊  | 39/50 [00:17<00:07,  1.46it/s]PowerModels.jl does not consider reactive power cost - costs are ignored\n",
      " 80%|████████  | 40/50 [00:18<00:06,  1.56it/s]PowerModels.jl does not consider reactive power cost - costs are ignored\n",
      " 82%|████████▏ | 41/50 [00:19<00:07,  1.19it/s]PowerModels.jl does not consider reactive power cost - costs are ignored\n",
      " 84%|████████▍ | 42/50 [00:20<00:05,  1.38it/s]PowerModels.jl does not consider reactive power cost - costs are ignored\n",
      " 86%|████████▌ | 43/50 [00:20<00:04,  1.56it/s]PowerModels.jl does not consider reactive power cost - costs are ignored\n",
      " 88%|████████▊ | 44/50 [00:21<00:03,  1.69it/s]PowerModels.jl does not consider reactive power cost - costs are ignored\n",
      " 90%|█████████ | 45/50 [00:21<00:02,  1.79it/s]PowerModels.jl does not consider reactive power cost - costs are ignored\n",
      " 92%|█████████▏| 46/50 [00:22<00:02,  1.78it/s]PowerModels.jl does not consider reactive power cost - costs are ignored\n",
      " 94%|█████████▍| 47/50 [00:22<00:01,  1.72it/s]PowerModels.jl does not consider reactive power cost - costs are ignored\n",
      " 96%|█████████▌| 48/50 [00:23<00:01,  1.76it/s]PowerModels.jl does not consider reactive power cost - costs are ignored\n",
      " 98%|█████████▊| 49/50 [00:24<00:00,  1.34it/s]PowerModels.jl does not consider reactive power cost - costs are ignored\n",
      "100%|██████████| 50/50 [00:25<00:00,  1.52it/s]PowerModels.jl does not consider reactive power cost - costs are ignored\n",
      "100%|██████████| 50/50 [00:25<00:00,  1.97it/s]\n"
     ]
    },
    {
     "name": "stdout",
     "output_type": "stream",
     "text": [
      "Strata = 1; Iteration = 7\n"
     ]
    },
    {
     "name": "stderr",
     "output_type": "stream",
     "text": [
      "  0%|          | 0/50 [00:00<?, ?it/s]PowerModels.jl does not consider reactive power cost - costs are ignored\n",
      "  4%|▍         | 2/50 [00:00<00:10,  4.43it/s]PowerModels.jl does not consider reactive power cost - costs are ignored\n",
      "  6%|▌         | 3/50 [00:01<00:18,  2.59it/s]PowerModels.jl does not consider reactive power cost - costs are ignored\n",
      "  8%|▊         | 4/50 [00:01<00:17,  2.63it/s]PowerModels.jl does not consider reactive power cost - costs are ignored\n",
      " 10%|█         | 5/50 [00:02<00:20,  2.18it/s]PowerModels.jl does not consider reactive power cost - costs are ignored\n",
      " 12%|█▏        | 6/50 [00:02<00:20,  2.12it/s]PowerModels.jl does not consider reactive power cost - costs are ignored\n",
      " 14%|█▍        | 7/50 [00:02<00:18,  2.32it/s]PowerModels.jl does not consider reactive power cost - costs are ignored\n",
      " 16%|█▌        | 8/50 [00:03<00:17,  2.34it/s]PowerModels.jl does not consider reactive power cost - costs are ignored\n",
      " 18%|█▊        | 9/50 [00:04<00:23,  1.74it/s]PowerModels.jl does not consider reactive power cost - costs are ignored\n",
      " 20%|██        | 10/50 [00:04<00:21,  1.84it/s]PowerModels.jl does not consider reactive power cost - costs are ignored\n",
      " 22%|██▏       | 11/50 [00:05<00:21,  1.82it/s]PowerModels.jl does not consider reactive power cost - costs are ignored\n",
      " 24%|██▍       | 12/50 [00:05<00:20,  1.83it/s]PowerModels.jl does not consider reactive power cost - costs are ignored\n",
      " 26%|██▌       | 13/50 [00:06<00:20,  1.82it/s]PowerModels.jl does not consider reactive power cost - costs are ignored\n",
      " 28%|██▊       | 14/50 [00:06<00:19,  1.89it/s]PowerModels.jl does not consider reactive power cost - costs are ignored\n",
      " 30%|███       | 15/50 [00:07<00:19,  1.80it/s]PowerModels.jl does not consider reactive power cost - costs are ignored\n",
      " 32%|███▏      | 16/50 [00:07<00:18,  1.87it/s]PowerModels.jl does not consider reactive power cost - costs are ignored\n",
      " 34%|███▍      | 17/50 [00:08<00:17,  1.85it/s]PowerModels.jl does not consider reactive power cost - costs are ignored\n",
      " 36%|███▌      | 18/50 [00:09<00:20,  1.59it/s]PowerModels.jl does not consider reactive power cost - costs are ignored\n",
      " 38%|███▊      | 19/50 [00:09<00:17,  1.77it/s]PowerModels.jl does not consider reactive power cost - costs are ignored\n",
      " 40%|████      | 20/50 [00:10<00:16,  1.83it/s]PowerModels.jl does not consider reactive power cost - costs are ignored\n",
      " 42%|████▏     | 21/50 [00:10<00:15,  1.85it/s]PowerModels.jl does not consider reactive power cost - costs are ignored\n",
      " 44%|████▍     | 22/50 [00:11<00:14,  1.90it/s]PowerModels.jl does not consider reactive power cost - costs are ignored\n",
      " 46%|████▌     | 23/50 [00:11<00:14,  1.89it/s]PowerModels.jl does not consider reactive power cost - costs are ignored\n",
      " 48%|████▊     | 24/50 [00:12<00:14,  1.85it/s]PowerModels.jl does not consider reactive power cost - costs are ignored\n",
      " 50%|█████     | 25/50 [00:12<00:12,  2.07it/s]PowerModels.jl does not consider reactive power cost - costs are ignored\n",
      " 52%|█████▏    | 26/50 [00:13<00:10,  2.32it/s]PowerModels.jl does not consider reactive power cost - costs are ignored\n",
      " 54%|█████▍    | 27/50 [00:13<00:10,  2.18it/s]PowerModels.jl does not consider reactive power cost - costs are ignored\n",
      " 56%|█████▌    | 28/50 [00:13<00:09,  2.37it/s]PowerModels.jl does not consider reactive power cost - costs are ignored\n",
      " 58%|█████▊    | 29/50 [00:14<00:08,  2.57it/s]PowerModels.jl does not consider reactive power cost - costs are ignored\n",
      " 60%|██████    | 30/50 [00:14<00:07,  2.76it/s]PowerModels.jl does not consider reactive power cost - costs are ignored\n",
      " 62%|██████▏   | 31/50 [00:14<00:06,  2.80it/s]PowerModels.jl does not consider reactive power cost - costs are ignored\n",
      " 64%|██████▍   | 32/50 [00:15<00:06,  2.86it/s]PowerModels.jl does not consider reactive power cost - costs are ignored\n",
      " 66%|██████▌   | 33/50 [00:15<00:06,  2.80it/s]PowerModels.jl does not consider reactive power cost - costs are ignored\n",
      " 68%|██████▊   | 34/50 [00:15<00:05,  2.72it/s]PowerModels.jl does not consider reactive power cost - costs are ignored\n",
      " 70%|███████   | 35/50 [00:16<00:06,  2.39it/s]PowerModels.jl does not consider reactive power cost - costs are ignored\n",
      " 72%|███████▏  | 36/50 [00:16<00:05,  2.41it/s]PowerModels.jl does not consider reactive power cost - costs are ignored\n",
      " 74%|███████▍  | 37/50 [00:17<00:05,  2.20it/s]PowerModels.jl does not consider reactive power cost - costs are ignored\n",
      " 76%|███████▌  | 38/50 [00:18<00:08,  1.39it/s]PowerModels.jl does not consider reactive power cost - costs are ignored\n",
      " 78%|███████▊  | 39/50 [00:19<00:08,  1.26it/s]PowerModels.jl does not consider reactive power cost - costs are ignored\n",
      " 80%|████████  | 40/50 [00:20<00:07,  1.29it/s]PowerModels.jl does not consider reactive power cost - costs are ignored\n",
      " 82%|████████▏ | 41/50 [00:21<00:08,  1.01it/s]PowerModels.jl does not consider reactive power cost - costs are ignored\n",
      " 84%|████████▍ | 42/50 [00:22<00:06,  1.20it/s]PowerModels.jl does not consider reactive power cost - costs are ignored\n",
      " 86%|████████▌ | 43/50 [00:22<00:05,  1.38it/s]PowerModels.jl does not consider reactive power cost - costs are ignored\n",
      " 88%|████████▊ | 44/50 [00:23<00:04,  1.44it/s]PowerModels.jl does not consider reactive power cost - costs are ignored\n",
      " 90%|█████████ | 45/50 [00:24<00:03,  1.54it/s]PowerModels.jl does not consider reactive power cost - costs are ignored\n",
      " 92%|█████████▏| 46/50 [00:24<00:02,  1.61it/s]PowerModels.jl does not consider reactive power cost - costs are ignored\n",
      " 94%|█████████▍| 47/50 [00:25<00:01,  1.58it/s]PowerModels.jl does not consider reactive power cost - costs are ignored\n",
      " 96%|█████████▌| 48/50 [00:25<00:01,  1.66it/s]PowerModels.jl does not consider reactive power cost - costs are ignored\n",
      " 98%|█████████▊| 49/50 [00:26<00:00,  1.29it/s]PowerModels.jl does not consider reactive power cost - costs are ignored\n",
      "100%|██████████| 50/50 [00:27<00:00,  1.45it/s]PowerModels.jl does not consider reactive power cost - costs are ignored\n",
      "100%|██████████| 50/50 [00:27<00:00,  1.80it/s]\n"
     ]
    },
    {
     "name": "stdout",
     "output_type": "stream",
     "text": [
      "Strata = 2; Iteration = 8\n"
     ]
    },
    {
     "name": "stderr",
     "output_type": "stream",
     "text": [
      "  0%|          | 0/50 [00:00<?, ?it/s]PowerModels.jl does not consider reactive power cost - costs are ignored\n",
      "  4%|▍         | 2/50 [00:00<00:12,  3.98it/s]PowerModels.jl does not consider reactive power cost - costs are ignored\n",
      "  6%|▌         | 3/50 [00:01<00:17,  2.71it/s]PowerModels.jl does not consider reactive power cost - costs are ignored\n",
      "  8%|▊         | 4/50 [00:01<00:22,  2.07it/s]PowerModels.jl does not consider reactive power cost - costs are ignored\n",
      " 10%|█         | 5/50 [00:02<00:22,  1.98it/s]PowerModels.jl does not consider reactive power cost - costs are ignored\n",
      " 12%|█▏        | 6/50 [00:02<00:19,  2.23it/s]PowerModels.jl does not consider reactive power cost - costs are ignored\n",
      " 14%|█▍        | 7/50 [00:02<00:17,  2.44it/s]PowerModels.jl does not consider reactive power cost - costs are ignored\n",
      " 16%|█▌        | 8/50 [00:03<00:15,  2.63it/s]PowerModels.jl does not consider reactive power cost - costs are ignored\n",
      " 18%|█▊        | 9/50 [00:03<00:15,  2.67it/s]PowerModels.jl does not consider reactive power cost - costs are ignored\n",
      " 20%|██        | 10/50 [00:04<00:15,  2.51it/s]PowerModels.jl does not consider reactive power cost - costs are ignored\n",
      " 22%|██▏       | 11/50 [00:04<00:17,  2.25it/s]PowerModels.jl does not consider reactive power cost - costs are ignored\n",
      " 24%|██▍       | 12/50 [00:05<00:17,  2.23it/s]PowerModels.jl does not consider reactive power cost - costs are ignored\n",
      " 26%|██▌       | 13/50 [00:05<00:16,  2.18it/s]PowerModels.jl does not consider reactive power cost - costs are ignored\n",
      " 28%|██▊       | 14/50 [00:06<00:17,  2.09it/s]PowerModels.jl does not consider reactive power cost - costs are ignored\n",
      " 30%|███       | 15/50 [00:06<00:16,  2.06it/s]PowerModels.jl does not consider reactive power cost - costs are ignored\n",
      " 32%|███▏      | 16/50 [00:07<00:16,  2.00it/s]PowerModels.jl does not consider reactive power cost - costs are ignored\n",
      " 34%|███▍      | 17/50 [00:07<00:16,  2.00it/s]PowerModels.jl does not consider reactive power cost - costs are ignored\n",
      " 36%|███▌      | 18/50 [00:08<00:18,  1.71it/s]PowerModels.jl does not consider reactive power cost - costs are ignored\n",
      " 38%|███▊      | 19/50 [00:08<00:16,  1.88it/s]PowerModels.jl does not consider reactive power cost - costs are ignored\n",
      " 40%|████      | 20/50 [00:09<00:15,  1.91it/s]PowerModels.jl does not consider reactive power cost - costs are ignored\n",
      " 42%|████▏     | 21/50 [00:09<00:15,  1.88it/s]PowerModels.jl does not consider reactive power cost - costs are ignored\n",
      " 44%|████▍     | 22/50 [00:10<00:14,  1.91it/s]PowerModels.jl does not consider reactive power cost - costs are ignored\n",
      " 46%|████▌     | 23/50 [00:10<00:13,  1.95it/s]PowerModels.jl does not consider reactive power cost - costs are ignored\n",
      " 48%|████▊     | 24/50 [00:11<00:13,  1.94it/s]PowerModels.jl does not consider reactive power cost - costs are ignored\n",
      " 50%|█████     | 25/50 [00:11<00:11,  2.16it/s]PowerModels.jl does not consider reactive power cost - costs are ignored\n",
      " 52%|█████▏    | 26/50 [00:12<00:09,  2.41it/s]PowerModels.jl does not consider reactive power cost - costs are ignored\n",
      " 54%|█████▍    | 27/50 [00:12<00:10,  2.27it/s]PowerModels.jl does not consider reactive power cost - costs are ignored\n",
      " 56%|█████▌    | 28/50 [00:12<00:09,  2.42it/s]PowerModels.jl does not consider reactive power cost - costs are ignored\n",
      " 58%|█████▊    | 29/50 [00:13<00:07,  2.64it/s]PowerModels.jl does not consider reactive power cost - costs are ignored\n",
      " 60%|██████    | 30/50 [00:13<00:07,  2.78it/s]PowerModels.jl does not consider reactive power cost - costs are ignored\n",
      " 62%|██████▏   | 31/50 [00:13<00:06,  2.81it/s]PowerModels.jl does not consider reactive power cost - costs are ignored\n",
      " 64%|██████▍   | 32/50 [00:14<00:06,  2.92it/s]PowerModels.jl does not consider reactive power cost - costs are ignored\n",
      " 66%|██████▌   | 33/50 [00:14<00:05,  2.91it/s]PowerModels.jl does not consider reactive power cost - costs are ignored\n",
      " 68%|██████▊   | 34/50 [00:14<00:05,  2.86it/s]PowerModels.jl does not consider reactive power cost - costs are ignored\n",
      " 70%|███████   | 35/50 [00:15<00:05,  2.91it/s]PowerModels.jl does not consider reactive power cost - costs are ignored\n",
      " 72%|███████▏  | 36/50 [00:15<00:04,  2.95it/s]PowerModels.jl does not consider reactive power cost - costs are ignored\n",
      " 74%|███████▍  | 37/50 [00:15<00:04,  2.67it/s]PowerModels.jl does not consider reactive power cost - costs are ignored\n",
      " 76%|███████▌  | 38/50 [00:17<00:07,  1.61it/s]PowerModels.jl does not consider reactive power cost - costs are ignored\n",
      " 78%|███████▊  | 39/50 [00:17<00:06,  1.58it/s]PowerModels.jl does not consider reactive power cost - costs are ignored\n",
      " 80%|████████  | 40/50 [00:18<00:05,  1.67it/s]PowerModels.jl does not consider reactive power cost - costs are ignored\n",
      " 82%|████████▏ | 41/50 [00:19<00:07,  1.22it/s]PowerModels.jl does not consider reactive power cost - costs are ignored\n",
      " 84%|████████▍ | 42/50 [00:20<00:05,  1.42it/s]PowerModels.jl does not consider reactive power cost - costs are ignored\n",
      " 86%|████████▌ | 43/50 [00:20<00:04,  1.55it/s]PowerModels.jl does not consider reactive power cost - costs are ignored\n",
      " 88%|████████▊ | 44/50 [00:21<00:03,  1.64it/s]PowerModels.jl does not consider reactive power cost - costs are ignored\n",
      " 90%|█████████ | 45/50 [00:21<00:02,  1.74it/s]PowerModels.jl does not consider reactive power cost - costs are ignored\n",
      " 92%|█████████▏| 46/50 [00:22<00:02,  1.79it/s]PowerModels.jl does not consider reactive power cost - costs are ignored\n",
      " 94%|█████████▍| 47/50 [00:22<00:01,  1.73it/s]PowerModels.jl does not consider reactive power cost - costs are ignored\n",
      " 96%|█████████▌| 48/50 [00:23<00:01,  1.75it/s]PowerModels.jl does not consider reactive power cost - costs are ignored\n",
      " 98%|█████████▊| 49/50 [00:24<00:00,  1.34it/s]PowerModels.jl does not consider reactive power cost - costs are ignored\n",
      "100%|██████████| 50/50 [00:24<00:00,  1.53it/s]PowerModels.jl does not consider reactive power cost - costs are ignored\n",
      "100%|██████████| 50/50 [00:25<00:00,  1.98it/s]\n"
     ]
    },
    {
     "name": "stdout",
     "output_type": "stream",
     "text": [
      "Strata = 2; Iteration = 9\n"
     ]
    },
    {
     "name": "stderr",
     "output_type": "stream",
     "text": [
      "  0%|          | 0/50 [00:00<?, ?it/s]PowerModels.jl does not consider reactive power cost - costs are ignored\n",
      "  4%|▍         | 2/50 [00:00<00:11,  4.10it/s]PowerModels.jl does not consider reactive power cost - costs are ignored\n",
      "  6%|▌         | 3/50 [00:01<00:18,  2.51it/s]PowerModels.jl does not consider reactive power cost - costs are ignored\n",
      "  8%|▊         | 4/50 [00:01<00:17,  2.59it/s]PowerModels.jl does not consider reactive power cost - costs are ignored\n",
      " 10%|█         | 5/50 [00:01<00:19,  2.35it/s]PowerModels.jl does not consider reactive power cost - costs are ignored\n",
      " 12%|█▏        | 6/50 [00:02<00:18,  2.41it/s]PowerModels.jl does not consider reactive power cost - costs are ignored\n",
      " 14%|█▍        | 7/50 [00:02<00:15,  2.69it/s]PowerModels.jl does not consider reactive power cost - costs are ignored\n",
      " 16%|█▌        | 8/50 [00:02<00:15,  2.79it/s]PowerModels.jl does not consider reactive power cost - costs are ignored\n",
      " 18%|█▊        | 9/50 [00:03<00:15,  2.71it/s]PowerModels.jl does not consider reactive power cost - costs are ignored\n",
      " 20%|██        | 10/50 [00:03<00:15,  2.53it/s]PowerModels.jl does not consider reactive power cost - costs are ignored\n",
      " 22%|██▏       | 11/50 [00:04<00:16,  2.41it/s]PowerModels.jl does not consider reactive power cost - costs are ignored\n",
      " 24%|██▍       | 12/50 [00:04<00:14,  2.71it/s]PowerModels.jl does not consider reactive power cost - costs are ignored\n",
      " 26%|██▌       | 13/50 [00:04<00:12,  2.90it/s]PowerModels.jl does not consider reactive power cost - costs are ignored\n",
      " 28%|██▊       | 14/50 [00:05<00:13,  2.65it/s]PowerModels.jl does not consider reactive power cost - costs are ignored\n",
      " 30%|███       | 15/50 [00:05<00:12,  2.76it/s]PowerModels.jl does not consider reactive power cost - costs are ignored\n",
      " 32%|███▏      | 16/50 [00:17<02:06,  3.72s/it]PowerModels.jl does not consider reactive power cost - costs are ignored\n",
      " 34%|███▍      | 17/50 [00:17<01:29,  2.70s/it]PowerModels.jl does not consider reactive power cost - costs are ignored\n",
      " 36%|███▌      | 18/50 [00:17<01:05,  2.04s/it]PowerModels.jl does not consider reactive power cost - costs are ignored\n",
      " 38%|███▊      | 19/50 [00:18<00:48,  1.57s/it]PowerModels.jl does not consider reactive power cost - costs are ignored\n",
      " 40%|████      | 20/50 [00:19<00:38,  1.28s/it]PowerModels.jl does not consider reactive power cost - costs are ignored\n",
      " 42%|████▏     | 21/50 [00:19<00:30,  1.06s/it]PowerModels.jl does not consider reactive power cost - costs are ignored\n",
      " 44%|████▍     | 22/50 [00:20<00:27,  1.03it/s]PowerModels.jl does not consider reactive power cost - costs are ignored\n",
      " 46%|████▌     | 23/50 [00:20<00:22,  1.20it/s]PowerModels.jl does not consider reactive power cost - costs are ignored\n",
      " 48%|████▊     | 24/50 [00:21<00:18,  1.37it/s]PowerModels.jl does not consider reactive power cost - costs are ignored\n",
      " 50%|█████     | 25/50 [00:21<00:15,  1.59it/s]PowerModels.jl does not consider reactive power cost - costs are ignored\n",
      " 52%|█████▏    | 26/50 [00:22<00:12,  1.88it/s]PowerModels.jl does not consider reactive power cost - costs are ignored\n",
      " 54%|█████▍    | 27/50 [00:22<00:12,  1.91it/s]PowerModels.jl does not consider reactive power cost - costs are ignored\n",
      " 56%|█████▌    | 28/50 [00:22<00:10,  2.15it/s]PowerModels.jl does not consider reactive power cost - costs are ignored\n",
      " 58%|█████▊    | 29/50 [00:23<00:09,  2.33it/s]PowerModels.jl does not consider reactive power cost - costs are ignored\n",
      " 60%|██████    | 30/50 [00:23<00:07,  2.53it/s]PowerModels.jl does not consider reactive power cost - costs are ignored\n",
      " 62%|██████▏   | 31/50 [00:23<00:07,  2.70it/s]PowerModels.jl does not consider reactive power cost - costs are ignored\n",
      " 64%|██████▍   | 32/50 [00:24<00:06,  2.79it/s]PowerModels.jl does not consider reactive power cost - costs are ignored\n",
      " 66%|██████▌   | 33/50 [00:24<00:06,  2.71it/s]PowerModels.jl does not consider reactive power cost - costs are ignored\n",
      " 68%|██████▊   | 34/50 [00:24<00:05,  2.73it/s]PowerModels.jl does not consider reactive power cost - costs are ignored\n",
      " 70%|███████   | 35/50 [00:25<00:05,  2.81it/s]PowerModels.jl does not consider reactive power cost - costs are ignored\n",
      " 72%|███████▏  | 36/50 [00:25<00:05,  2.80it/s]PowerModels.jl does not consider reactive power cost - costs are ignored\n",
      " 74%|███████▍  | 37/50 [00:26<00:05,  2.53it/s]PowerModels.jl does not consider reactive power cost - costs are ignored\n",
      " 76%|███████▌  | 38/50 [00:27<00:07,  1.59it/s]PowerModels.jl does not consider reactive power cost - costs are ignored\n",
      " 78%|███████▊  | 39/50 [00:28<00:07,  1.52it/s]PowerModels.jl does not consider reactive power cost - costs are ignored\n",
      " 80%|████████  | 40/50 [00:28<00:06,  1.62it/s]PowerModels.jl does not consider reactive power cost - costs are ignored\n",
      " 82%|████████▏ | 41/50 [00:29<00:07,  1.21it/s]PowerModels.jl does not consider reactive power cost - costs are ignored\n",
      " 84%|████████▍ | 42/50 [00:30<00:05,  1.39it/s]PowerModels.jl does not consider reactive power cost - costs are ignored\n",
      " 86%|████████▌ | 43/50 [00:30<00:04,  1.57it/s]PowerModels.jl does not consider reactive power cost - costs are ignored\n",
      " 88%|████████▊ | 44/50 [00:31<00:03,  1.71it/s]PowerModels.jl does not consider reactive power cost - costs are ignored\n",
      " 90%|█████████ | 45/50 [00:31<00:02,  1.83it/s]PowerModels.jl does not consider reactive power cost - costs are ignored\n",
      " 92%|█████████▏| 46/50 [00:32<00:02,  1.80it/s]PowerModels.jl does not consider reactive power cost - costs are ignored\n",
      " 94%|█████████▍| 47/50 [00:32<00:01,  1.73it/s]PowerModels.jl does not consider reactive power cost - costs are ignored\n",
      " 96%|█████████▌| 48/50 [00:33<00:01,  1.79it/s]PowerModels.jl does not consider reactive power cost - costs are ignored\n",
      " 98%|█████████▊| 49/50 [00:34<00:00,  1.31it/s]PowerModels.jl does not consider reactive power cost - costs are ignored\n",
      "100%|██████████| 50/50 [00:35<00:00,  1.49it/s]PowerModels.jl does not consider reactive power cost - costs are ignored\n",
      "100%|██████████| 50/50 [00:35<00:00,  1.41it/s]\n"
     ]
    },
    {
     "name": "stdout",
     "output_type": "stream",
     "text": [
      "Strata = 2; Iteration = 10\n"
     ]
    },
    {
     "name": "stderr",
     "output_type": "stream",
     "text": [
      "  0%|          | 0/50 [00:00<?, ?it/s]PowerModels.jl does not consider reactive power cost - costs are ignored\n",
      "  4%|▍         | 2/50 [00:00<00:12,  3.85it/s]PowerModels.jl does not consider reactive power cost - costs are ignored\n",
      "  6%|▌         | 3/50 [00:01<00:19,  2.42it/s]PowerModels.jl does not consider reactive power cost - costs are ignored\n",
      "  8%|▊         | 4/50 [00:01<00:20,  2.24it/s]PowerModels.jl does not consider reactive power cost - costs are ignored\n",
      " 10%|█         | 5/50 [00:02<00:19,  2.37it/s]PowerModels.jl does not consider reactive power cost - costs are ignored\n",
      " 12%|█▏        | 6/50 [00:02<00:17,  2.52it/s]PowerModels.jl does not consider reactive power cost - costs are ignored\n",
      " 14%|█▍        | 7/50 [00:02<00:16,  2.63it/s]PowerModels.jl does not consider reactive power cost - costs are ignored\n",
      " 16%|█▌        | 8/50 [00:03<00:18,  2.30it/s]PowerModels.jl does not consider reactive power cost - costs are ignored\n",
      " 18%|█▊        | 9/50 [00:03<00:16,  2.49it/s]PowerModels.jl does not consider reactive power cost - costs are ignored\n",
      " 20%|██        | 10/50 [00:04<00:17,  2.31it/s]PowerModels.jl does not consider reactive power cost - costs are ignored\n",
      " 22%|██▏       | 11/50 [00:04<00:16,  2.30it/s]PowerModels.jl does not consider reactive power cost - costs are ignored\n",
      " 24%|██▍       | 12/50 [00:05<00:17,  2.13it/s]PowerModels.jl does not consider reactive power cost - costs are ignored\n",
      " 26%|██▌       | 13/50 [00:05<00:18,  2.04it/s]PowerModels.jl does not consider reactive power cost - costs are ignored\n",
      " 28%|██▊       | 14/50 [00:06<00:17,  2.07it/s]PowerModels.jl does not consider reactive power cost - costs are ignored\n",
      " 30%|███       | 15/50 [00:06<00:17,  2.00it/s]PowerModels.jl does not consider reactive power cost - costs are ignored\n",
      " 32%|███▏      | 16/50 [00:07<00:17,  1.98it/s]PowerModels.jl does not consider reactive power cost - costs are ignored\n",
      " 34%|███▍      | 17/50 [00:07<00:16,  1.95it/s]PowerModels.jl does not consider reactive power cost - costs are ignored\n",
      " 36%|███▌      | 18/50 [00:08<00:18,  1.71it/s]PowerModels.jl does not consider reactive power cost - costs are ignored\n",
      " 38%|███▊      | 19/50 [00:08<00:16,  1.83it/s]PowerModels.jl does not consider reactive power cost - costs are ignored\n",
      " 40%|████      | 20/50 [00:09<00:16,  1.87it/s]PowerModels.jl does not consider reactive power cost - costs are ignored\n",
      " 42%|████▏     | 21/50 [00:09<00:15,  1.91it/s]PowerModels.jl does not consider reactive power cost - costs are ignored\n",
      " 44%|████▍     | 22/50 [00:10<00:14,  1.91it/s]PowerModels.jl does not consider reactive power cost - costs are ignored\n",
      " 46%|████▌     | 23/50 [00:10<00:13,  1.94it/s]PowerModels.jl does not consider reactive power cost - costs are ignored\n",
      " 48%|████▊     | 24/50 [00:11<00:13,  1.95it/s]PowerModels.jl does not consider reactive power cost - costs are ignored\n",
      " 50%|█████     | 25/50 [00:11<00:11,  2.14it/s]PowerModels.jl does not consider reactive power cost - costs are ignored\n",
      " 52%|█████▏    | 26/50 [00:12<00:10,  2.32it/s]PowerModels.jl does not consider reactive power cost - costs are ignored\n",
      " 54%|█████▍    | 27/50 [00:12<00:10,  2.19it/s]PowerModels.jl does not consider reactive power cost - costs are ignored\n",
      " 56%|█████▌    | 28/50 [00:12<00:09,  2.41it/s]PowerModels.jl does not consider reactive power cost - costs are ignored\n",
      " 58%|█████▊    | 29/50 [00:13<00:07,  2.63it/s]PowerModels.jl does not consider reactive power cost - costs are ignored\n",
      " 60%|██████    | 30/50 [00:13<00:07,  2.67it/s]PowerModels.jl does not consider reactive power cost - costs are ignored\n",
      " 62%|██████▏   | 31/50 [00:13<00:06,  2.80it/s]PowerModels.jl does not consider reactive power cost - costs are ignored\n",
      " 64%|██████▍   | 32/50 [00:14<00:06,  2.91it/s]PowerModels.jl does not consider reactive power cost - costs are ignored\n",
      " 66%|██████▌   | 33/50 [00:14<00:05,  2.87it/s]PowerModels.jl does not consider reactive power cost - costs are ignored\n",
      " 68%|██████▊   | 34/50 [00:14<00:05,  2.83it/s]PowerModels.jl does not consider reactive power cost - costs are ignored\n",
      " 70%|███████   | 35/50 [00:15<00:05,  2.89it/s]PowerModels.jl does not consider reactive power cost - costs are ignored\n",
      " 72%|███████▏  | 36/50 [00:15<00:04,  2.92it/s]PowerModels.jl does not consider reactive power cost - costs are ignored\n",
      " 74%|███████▍  | 37/50 [00:16<00:05,  2.54it/s]PowerModels.jl does not consider reactive power cost - costs are ignored\n",
      " 76%|███████▌  | 38/50 [00:17<00:07,  1.55it/s]PowerModels.jl does not consider reactive power cost - costs are ignored\n",
      " 78%|███████▊  | 39/50 [00:18<00:07,  1.53it/s]PowerModels.jl does not consider reactive power cost - costs are ignored\n",
      " 80%|████████  | 40/50 [00:18<00:06,  1.60it/s]PowerModels.jl does not consider reactive power cost - costs are ignored\n",
      " 82%|████████▏ | 41/50 [00:19<00:07,  1.20it/s]PowerModels.jl does not consider reactive power cost - costs are ignored\n",
      " 84%|████████▍ | 42/50 [00:20<00:05,  1.40it/s]PowerModels.jl does not consider reactive power cost - costs are ignored\n",
      " 86%|████████▌ | 43/50 [00:20<00:04,  1.55it/s]PowerModels.jl does not consider reactive power cost - costs are ignored\n",
      " 88%|████████▊ | 44/50 [00:21<00:03,  1.67it/s]PowerModels.jl does not consider reactive power cost - costs are ignored\n",
      " 90%|█████████ | 45/50 [00:21<00:02,  1.80it/s]PowerModels.jl does not consider reactive power cost - costs are ignored\n",
      " 92%|█████████▏| 46/50 [00:22<00:02,  1.79it/s]PowerModels.jl does not consider reactive power cost - costs are ignored\n",
      " 94%|█████████▍| 47/50 [00:22<00:01,  1.73it/s]PowerModels.jl does not consider reactive power cost - costs are ignored\n",
      " 96%|█████████▌| 48/50 [00:23<00:01,  1.80it/s]PowerModels.jl does not consider reactive power cost - costs are ignored\n",
      " 98%|█████████▊| 49/50 [00:24<00:00,  1.34it/s]PowerModels.jl does not consider reactive power cost - costs are ignored\n",
      "100%|██████████| 50/50 [00:25<00:00,  1.51it/s]PowerModels.jl does not consider reactive power cost - costs are ignored\n",
      "100%|██████████| 50/50 [00:25<00:00,  1.96it/s]\n"
     ]
    },
    {
     "name": "stdout",
     "output_type": "stream",
     "text": [
      "Strata = 2; Iteration = 11\n"
     ]
    },
    {
     "name": "stderr",
     "output_type": "stream",
     "text": [
      "  0%|          | 0/50 [00:00<?, ?it/s]PowerModels.jl does not consider reactive power cost - costs are ignored\n",
      "  4%|▍         | 2/50 [00:00<00:11,  4.10it/s]PowerModels.jl does not consider reactive power cost - costs are ignored\n",
      "  6%|▌         | 3/50 [00:01<00:17,  2.74it/s]PowerModels.jl does not consider reactive power cost - costs are ignored\n",
      "  8%|▊         | 4/50 [00:01<00:16,  2.75it/s]PowerModels.jl does not consider reactive power cost - costs are ignored\n",
      " 10%|█         | 5/50 [00:01<00:15,  2.93it/s]PowerModels.jl does not consider reactive power cost - costs are ignored\n",
      " 12%|█▏        | 6/50 [00:02<00:17,  2.50it/s]PowerModels.jl does not consider reactive power cost - costs are ignored\n",
      " 14%|█▍        | 7/50 [00:02<00:17,  2.42it/s]PowerModels.jl does not consider reactive power cost - costs are ignored\n",
      " 16%|█▌        | 8/50 [00:03<00:17,  2.37it/s]PowerModels.jl does not consider reactive power cost - costs are ignored\n",
      " 18%|█▊        | 9/50 [00:03<00:17,  2.34it/s]PowerModels.jl does not consider reactive power cost - costs are ignored\n",
      " 20%|██        | 10/50 [00:03<00:17,  2.32it/s]PowerModels.jl does not consider reactive power cost - costs are ignored\n",
      " 22%|██▏       | 11/50 [00:04<00:16,  2.30it/s]PowerModels.jl does not consider reactive power cost - costs are ignored\n",
      " 24%|██▍       | 12/50 [00:04<00:18,  2.11it/s]PowerModels.jl does not consider reactive power cost - costs are ignored\n",
      " 26%|██▌       | 13/50 [00:05<00:18,  2.01it/s]PowerModels.jl does not consider reactive power cost - costs are ignored\n",
      " 28%|██▊       | 14/50 [00:05<00:17,  2.06it/s]PowerModels.jl does not consider reactive power cost - costs are ignored\n",
      " 30%|███       | 15/50 [00:06<00:17,  2.00it/s]PowerModels.jl does not consider reactive power cost - costs are ignored\n",
      " 32%|███▏      | 16/50 [00:06<00:16,  2.04it/s]PowerModels.jl does not consider reactive power cost - costs are ignored\n",
      " 34%|███▍      | 17/50 [00:07<00:17,  1.93it/s]PowerModels.jl does not consider reactive power cost - costs are ignored\n",
      " 36%|███▌      | 18/50 [00:08<00:18,  1.71it/s]PowerModels.jl does not consider reactive power cost - costs are ignored\n",
      " 38%|███▊      | 19/50 [00:08<00:16,  1.86it/s]PowerModels.jl does not consider reactive power cost - costs are ignored\n",
      " 40%|████      | 20/50 [00:09<00:16,  1.83it/s]PowerModels.jl does not consider reactive power cost - costs are ignored\n",
      " 42%|████▏     | 21/50 [00:09<00:15,  1.86it/s]PowerModels.jl does not consider reactive power cost - costs are ignored\n",
      " 44%|████▍     | 22/50 [00:10<00:14,  1.90it/s]PowerModels.jl does not consider reactive power cost - costs are ignored\n",
      " 46%|████▌     | 23/50 [00:10<00:14,  1.89it/s]PowerModels.jl does not consider reactive power cost - costs are ignored\n",
      " 48%|████▊     | 24/50 [00:11<00:13,  1.92it/s]PowerModels.jl does not consider reactive power cost - costs are ignored\n",
      " 50%|█████     | 25/50 [00:11<00:11,  2.11it/s]PowerModels.jl does not consider reactive power cost - costs are ignored\n",
      " 52%|█████▏    | 26/50 [00:12<00:10,  2.35it/s]PowerModels.jl does not consider reactive power cost - costs are ignored\n",
      " 54%|█████▍    | 27/50 [00:12<00:10,  2.16it/s]PowerModels.jl does not consider reactive power cost - costs are ignored\n",
      " 56%|█████▌    | 28/50 [00:12<00:09,  2.39it/s]PowerModels.jl does not consider reactive power cost - costs are ignored\n",
      " 58%|█████▊    | 29/50 [00:13<00:08,  2.55it/s]PowerModels.jl does not consider reactive power cost - costs are ignored\n",
      " 60%|██████    | 30/50 [00:13<00:07,  2.71it/s]PowerModels.jl does not consider reactive power cost - costs are ignored\n",
      " 62%|██████▏   | 31/50 [00:13<00:06,  2.73it/s]PowerModels.jl does not consider reactive power cost - costs are ignored\n",
      " 64%|██████▍   | 32/50 [00:14<00:06,  2.81it/s]PowerModels.jl does not consider reactive power cost - costs are ignored\n",
      " 66%|██████▌   | 33/50 [00:14<00:05,  2.83it/s]PowerModels.jl does not consider reactive power cost - costs are ignored\n",
      " 68%|██████▊   | 34/50 [00:14<00:05,  2.71it/s]PowerModels.jl does not consider reactive power cost - costs are ignored\n",
      " 70%|███████   | 35/50 [00:15<00:05,  2.80it/s]PowerModels.jl does not consider reactive power cost - costs are ignored\n",
      " 72%|███████▏  | 36/50 [00:15<00:04,  2.86it/s]PowerModels.jl does not consider reactive power cost - costs are ignored\n",
      " 74%|███████▍  | 37/50 [00:16<00:05,  2.56it/s]PowerModels.jl does not consider reactive power cost - costs are ignored\n",
      " 76%|███████▌  | 38/50 [00:17<00:07,  1.57it/s]PowerModels.jl does not consider reactive power cost - costs are ignored\n",
      " 78%|███████▊  | 39/50 [00:18<00:07,  1.54it/s]PowerModels.jl does not consider reactive power cost - costs are ignored\n",
      " 80%|████████  | 40/50 [00:18<00:06,  1.60it/s]PowerModels.jl does not consider reactive power cost - costs are ignored\n",
      " 82%|████████▏ | 41/50 [00:19<00:07,  1.19it/s]PowerModels.jl does not consider reactive power cost - costs are ignored\n",
      " 84%|████████▍ | 42/50 [00:20<00:05,  1.38it/s]PowerModels.jl does not consider reactive power cost - costs are ignored\n",
      " 86%|████████▌ | 43/50 [00:20<00:04,  1.56it/s]PowerModels.jl does not consider reactive power cost - costs are ignored\n",
      " 88%|████████▊ | 44/50 [00:21<00:03,  1.65it/s]PowerModels.jl does not consider reactive power cost - costs are ignored\n",
      " 90%|█████████ | 45/50 [00:21<00:02,  1.77it/s]PowerModels.jl does not consider reactive power cost - costs are ignored\n",
      " 92%|█████████▏| 46/50 [00:22<00:02,  1.78it/s]PowerModels.jl does not consider reactive power cost - costs are ignored\n",
      " 94%|█████████▍| 47/50 [00:23<00:01,  1.71it/s]PowerModels.jl does not consider reactive power cost - costs are ignored\n",
      " 96%|█████████▌| 48/50 [00:23<00:01,  1.75it/s]PowerModels.jl does not consider reactive power cost - costs are ignored\n",
      " 98%|█████████▊| 49/50 [00:24<00:00,  1.32it/s]PowerModels.jl does not consider reactive power cost - costs are ignored\n",
      "100%|██████████| 50/50 [00:25<00:00,  1.49it/s]PowerModels.jl does not consider reactive power cost - costs are ignored\n",
      "100%|██████████| 50/50 [00:25<00:00,  1.96it/s]\n"
     ]
    },
    {
     "name": "stdout",
     "output_type": "stream",
     "text": [
      "Strata = 3; Iteration = 12\n"
     ]
    },
    {
     "name": "stderr",
     "output_type": "stream",
     "text": [
      "  0%|          | 0/50 [00:00<?, ?it/s]PowerModels.jl does not consider reactive power cost - costs are ignored\n",
      "  4%|▍         | 2/50 [00:00<00:12,  3.75it/s]PowerModels.jl does not consider reactive power cost - costs are ignored\n",
      "  6%|▌         | 3/50 [00:00<00:16,  2.88it/s]PowerModels.jl does not consider reactive power cost - costs are ignored\n",
      "  8%|▊         | 4/50 [00:01<00:15,  2.90it/s]PowerModels.jl does not consider reactive power cost - costs are ignored\n",
      " 10%|█         | 5/50 [00:02<00:26,  1.71it/s]PowerModels.jl does not consider reactive power cost - costs are ignored\n",
      " 12%|█▏        | 6/50 [00:02<00:25,  1.74it/s]PowerModels.jl does not consider reactive power cost - costs are ignored\n",
      " 14%|█▍        | 7/50 [00:03<00:21,  2.02it/s]PowerModels.jl does not consider reactive power cost - costs are ignored\n",
      " 16%|█▌        | 8/50 [00:03<00:19,  2.20it/s]PowerModels.jl does not consider reactive power cost - costs are ignored\n",
      " 18%|█▊        | 9/50 [00:04<00:17,  2.30it/s]PowerModels.jl does not consider reactive power cost - costs are ignored\n",
      " 20%|██        | 10/50 [00:04<00:19,  2.08it/s]PowerModels.jl does not consider reactive power cost - costs are ignored\n",
      " 22%|██▏       | 11/50 [00:04<00:17,  2.20it/s]PowerModels.jl does not consider reactive power cost - costs are ignored\n",
      " 24%|██▍       | 12/50 [00:05<00:16,  2.27it/s]PowerModels.jl does not consider reactive power cost - costs are ignored\n",
      " 26%|██▌       | 13/50 [00:05<00:15,  2.38it/s]PowerModels.jl does not consider reactive power cost - costs are ignored\n",
      " 28%|██▊       | 14/50 [00:06<00:14,  2.48it/s]PowerModels.jl does not consider reactive power cost - costs are ignored\n",
      " 30%|███       | 15/50 [00:07<00:22,  1.58it/s]PowerModels.jl does not consider reactive power cost - costs are ignored\n",
      " 32%|███▏      | 16/50 [00:08<00:24,  1.41it/s]PowerModels.jl does not consider reactive power cost - costs are ignored\n",
      " 34%|███▍      | 17/50 [00:08<00:19,  1.70it/s]PowerModels.jl does not consider reactive power cost - costs are ignored\n",
      " 36%|███▌      | 18/50 [00:08<00:16,  1.89it/s]PowerModels.jl does not consider reactive power cost - costs are ignored\n",
      " 38%|███▊      | 19/50 [00:09<00:15,  1.97it/s]PowerModels.jl does not consider reactive power cost - costs are ignored\n",
      " 40%|████      | 20/50 [00:09<00:14,  2.07it/s]PowerModels.jl does not consider reactive power cost - costs are ignored\n",
      " 42%|████▏     | 21/50 [00:10<00:13,  2.17it/s]PowerModels.jl does not consider reactive power cost - costs are ignored\n",
      " 44%|████▍     | 22/50 [00:10<00:12,  2.18it/s]PowerModels.jl does not consider reactive power cost - costs are ignored\n",
      " 46%|████▌     | 23/50 [00:11<00:12,  2.23it/s]PowerModels.jl does not consider reactive power cost - costs are ignored\n",
      " 48%|████▊     | 24/50 [00:11<00:10,  2.47it/s]PowerModels.jl does not consider reactive power cost - costs are ignored\n",
      " 50%|█████     | 25/50 [00:11<00:09,  2.66it/s]PowerModels.jl does not consider reactive power cost - costs are ignored\n",
      " 52%|█████▏    | 26/50 [00:11<00:08,  2.83it/s]PowerModels.jl does not consider reactive power cost - costs are ignored\n",
      " 54%|█████▍    | 27/50 [00:12<00:07,  2.89it/s]PowerModels.jl does not consider reactive power cost - costs are ignored\n",
      " 56%|█████▌    | 28/50 [00:12<00:07,  2.99it/s]PowerModels.jl does not consider reactive power cost - costs are ignored\n",
      " 58%|█████▊    | 29/50 [00:12<00:06,  3.11it/s]PowerModels.jl does not consider reactive power cost - costs are ignored\n",
      " 60%|██████    | 30/50 [00:13<00:06,  3.18it/s]PowerModels.jl does not consider reactive power cost - costs are ignored\n",
      " 62%|██████▏   | 31/50 [00:13<00:06,  2.96it/s]PowerModels.jl does not consider reactive power cost - costs are ignored\n",
      " 64%|██████▍   | 32/50 [00:13<00:06,  2.94it/s]PowerModels.jl does not consider reactive power cost - costs are ignored\n",
      " 66%|██████▌   | 33/50 [00:14<00:05,  2.92it/s]PowerModels.jl does not consider reactive power cost - costs are ignored\n",
      " 68%|██████▊   | 34/50 [00:14<00:05,  2.92it/s]PowerModels.jl does not consider reactive power cost - costs are ignored\n",
      " 70%|███████   | 35/50 [00:14<00:05,  2.87it/s]PowerModels.jl does not consider reactive power cost - costs are ignored\n",
      " 72%|███████▏  | 36/50 [00:15<00:04,  2.92it/s]PowerModels.jl does not consider reactive power cost - costs are ignored\n",
      " 74%|███████▍  | 37/50 [00:15<00:04,  2.91it/s]PowerModels.jl does not consider reactive power cost - costs are ignored\n",
      " 76%|███████▌  | 38/50 [00:16<00:07,  1.61it/s]PowerModels.jl does not consider reactive power cost - costs are ignored\n",
      " 78%|███████▊  | 39/50 [00:17<00:07,  1.56it/s]PowerModels.jl does not consider reactive power cost - costs are ignored\n",
      " 80%|████████  | 40/50 [00:18<00:06,  1.56it/s]PowerModels.jl does not consider reactive power cost - costs are ignored\n",
      " 82%|████████▏ | 41/50 [00:19<00:08,  1.09it/s]PowerModels.jl does not consider reactive power cost - costs are ignored\n",
      " 84%|████████▍ | 42/50 [00:20<00:06,  1.25it/s]PowerModels.jl does not consider reactive power cost - costs are ignored\n",
      " 86%|████████▌ | 43/50 [00:20<00:04,  1.42it/s]PowerModels.jl does not consider reactive power cost - costs are ignored\n",
      " 88%|████████▊ | 44/50 [00:21<00:04,  1.49it/s]PowerModels.jl does not consider reactive power cost - costs are ignored\n",
      " 90%|█████████ | 45/50 [00:22<00:03,  1.54it/s]PowerModels.jl does not consider reactive power cost - costs are ignored\n",
      " 92%|█████████▏| 46/50 [00:22<00:02,  1.59it/s]PowerModels.jl does not consider reactive power cost - costs are ignored\n",
      " 94%|█████████▍| 47/50 [00:23<00:01,  1.56it/s]PowerModels.jl does not consider reactive power cost - costs are ignored\n",
      " 96%|█████████▌| 48/50 [00:23<00:01,  1.56it/s]PowerModels.jl does not consider reactive power cost - costs are ignored\n",
      " 98%|█████████▊| 49/50 [00:25<00:00,  1.20it/s]PowerModels.jl does not consider reactive power cost - costs are ignored\n",
      "100%|██████████| 50/50 [00:25<00:00,  1.37it/s]PowerModels.jl does not consider reactive power cost - costs are ignored\n",
      "100%|██████████| 50/50 [00:26<00:00,  1.92it/s]\n"
     ]
    },
    {
     "name": "stdout",
     "output_type": "stream",
     "text": [
      "Strata = 3; Iteration = 13\n"
     ]
    },
    {
     "name": "stderr",
     "output_type": "stream",
     "text": [
      "  0%|          | 0/50 [00:00<?, ?it/s]PowerModels.jl does not consider reactive power cost - costs are ignored\n",
      "  4%|▍         | 2/50 [00:00<00:13,  3.63it/s]PowerModels.jl does not consider reactive power cost - costs are ignored\n",
      "  6%|▌         | 3/50 [00:01<00:16,  2.78it/s]PowerModels.jl does not consider reactive power cost - costs are ignored\n",
      "  8%|▊         | 4/50 [00:01<00:18,  2.44it/s]PowerModels.jl does not consider reactive power cost - costs are ignored\n",
      " 10%|█         | 5/50 [00:02<00:19,  2.25it/s]PowerModels.jl does not consider reactive power cost - costs are ignored\n",
      " 12%|█▏        | 6/50 [00:02<00:18,  2.33it/s]PowerModels.jl does not consider reactive power cost - costs are ignored\n",
      " 14%|█▍        | 7/50 [00:02<00:18,  2.38it/s]PowerModels.jl does not consider reactive power cost - costs are ignored\n",
      " 16%|█▌        | 8/50 [00:03<00:17,  2.42it/s]PowerModels.jl does not consider reactive power cost - costs are ignored\n",
      " 18%|█▊        | 9/50 [00:03<00:18,  2.21it/s]PowerModels.jl does not consider reactive power cost - costs are ignored\n",
      " 20%|██        | 10/50 [00:04<00:18,  2.14it/s]PowerModels.jl does not consider reactive power cost - costs are ignored\n",
      " 22%|██▏       | 11/50 [00:04<00:18,  2.14it/s]PowerModels.jl does not consider reactive power cost - costs are ignored\n",
      " 24%|██▍       | 12/50 [00:05<00:16,  2.32it/s]PowerModels.jl does not consider reactive power cost - costs are ignored\n",
      " 26%|██▌       | 13/50 [00:05<00:17,  2.16it/s]PowerModels.jl does not consider reactive power cost - costs are ignored\n",
      " 28%|██▊       | 14/50 [00:06<00:16,  2.13it/s]PowerModels.jl does not consider reactive power cost - costs are ignored\n",
      " 30%|███       | 15/50 [00:06<00:16,  2.11it/s]PowerModels.jl does not consider reactive power cost - costs are ignored\n",
      " 32%|███▏      | 16/50 [00:07<00:16,  2.12it/s]PowerModels.jl does not consider reactive power cost - costs are ignored\n",
      " 34%|███▍      | 17/50 [00:07<00:15,  2.07it/s]PowerModels.jl does not consider reactive power cost - costs are ignored\n",
      " 36%|███▌      | 18/50 [00:07<00:14,  2.26it/s]PowerModels.jl does not consider reactive power cost - costs are ignored\n",
      " 38%|███▊      | 19/50 [00:08<00:13,  2.34it/s]PowerModels.jl does not consider reactive power cost - costs are ignored\n",
      " 40%|████      | 20/50 [00:08<00:13,  2.27it/s]PowerModels.jl does not consider reactive power cost - costs are ignored\n",
      " 42%|████▏     | 21/50 [00:09<00:11,  2.45it/s]PowerModels.jl does not consider reactive power cost - costs are ignored\n",
      " 44%|████▍     | 22/50 [00:09<00:11,  2.35it/s]PowerModels.jl does not consider reactive power cost - costs are ignored\n",
      " 46%|████▌     | 23/50 [00:09<00:10,  2.52it/s]PowerModels.jl does not consider reactive power cost - costs are ignored\n",
      " 48%|████▊     | 24/50 [00:10<00:11,  2.26it/s]PowerModels.jl does not consider reactive power cost - costs are ignored\n",
      " 50%|█████     | 25/50 [00:10<00:10,  2.44it/s]PowerModels.jl does not consider reactive power cost - costs are ignored\n",
      " 52%|█████▏    | 26/50 [00:11<00:09,  2.62it/s]PowerModels.jl does not consider reactive power cost - costs are ignored\n",
      " 54%|█████▍    | 27/50 [00:11<00:08,  2.80it/s]PowerModels.jl does not consider reactive power cost - costs are ignored\n",
      " 56%|█████▌    | 28/50 [00:11<00:07,  2.75it/s]PowerModels.jl does not consider reactive power cost - costs are ignored\n",
      " 58%|█████▊    | 29/50 [00:12<00:07,  2.84it/s]PowerModels.jl does not consider reactive power cost - costs are ignored\n",
      " 60%|██████    | 30/50 [00:12<00:06,  2.94it/s]PowerModels.jl does not consider reactive power cost - costs are ignored\n",
      " 62%|██████▏   | 31/50 [00:12<00:06,  2.99it/s]PowerModels.jl does not consider reactive power cost - costs are ignored\n",
      " 64%|██████▍   | 32/50 [00:13<00:06,  2.91it/s]PowerModels.jl does not consider reactive power cost - costs are ignored\n",
      " 66%|██████▌   | 33/50 [00:13<00:05,  2.90it/s]PowerModels.jl does not consider reactive power cost - costs are ignored\n",
      " 68%|██████▊   | 34/50 [00:13<00:05,  2.84it/s]PowerModels.jl does not consider reactive power cost - costs are ignored\n",
      " 70%|███████   | 35/50 [00:14<00:05,  2.81it/s]PowerModels.jl does not consider reactive power cost - costs are ignored\n",
      " 72%|███████▏  | 36/50 [00:14<00:04,  2.86it/s]PowerModels.jl does not consider reactive power cost - costs are ignored\n",
      " 74%|███████▍  | 37/50 [00:14<00:05,  2.60it/s]PowerModels.jl does not consider reactive power cost - costs are ignored\n",
      " 76%|███████▌  | 38/50 [00:16<00:07,  1.52it/s]PowerModels.jl does not consider reactive power cost - costs are ignored\n",
      " 78%|███████▊  | 39/50 [00:17<00:07,  1.40it/s]PowerModels.jl does not consider reactive power cost - costs are ignored\n",
      " 80%|████████  | 40/50 [00:17<00:06,  1.48it/s]PowerModels.jl does not consider reactive power cost - costs are ignored\n",
      " 82%|████████▏ | 41/50 [00:19<00:08,  1.09it/s]PowerModels.jl does not consider reactive power cost - costs are ignored\n",
      " 84%|████████▍ | 42/50 [00:19<00:06,  1.26it/s]PowerModels.jl does not consider reactive power cost - costs are ignored\n",
      " 86%|████████▌ | 43/50 [00:20<00:04,  1.42it/s]PowerModels.jl does not consider reactive power cost - costs are ignored\n",
      " 88%|████████▊ | 44/50 [00:20<00:03,  1.53it/s]PowerModels.jl does not consider reactive power cost - costs are ignored\n",
      " 90%|█████████ | 45/50 [00:21<00:03,  1.62it/s]PowerModels.jl does not consider reactive power cost - costs are ignored\n",
      " 92%|█████████▏| 46/50 [00:21<00:02,  1.65it/s]PowerModels.jl does not consider reactive power cost - costs are ignored\n",
      " 94%|█████████▍| 47/50 [00:22<00:01,  1.59it/s]PowerModels.jl does not consider reactive power cost - costs are ignored\n",
      " 96%|█████████▌| 48/50 [00:23<00:01,  1.62it/s]PowerModels.jl does not consider reactive power cost - costs are ignored\n",
      " 98%|█████████▊| 49/50 [00:24<00:00,  1.26it/s]PowerModels.jl does not consider reactive power cost - costs are ignored\n",
      "100%|██████████| 50/50 [00:24<00:00,  1.43it/s]PowerModels.jl does not consider reactive power cost - costs are ignored\n",
      "100%|██████████| 50/50 [00:25<00:00,  1.98it/s]\n"
     ]
    },
    {
     "name": "stdout",
     "output_type": "stream",
     "text": [
      "Strata = 3; Iteration = 14\n"
     ]
    },
    {
     "name": "stderr",
     "output_type": "stream",
     "text": [
      "  0%|          | 0/50 [00:00<?, ?it/s]PowerModels.jl does not consider reactive power cost - costs are ignored\n",
      "  4%|▍         | 2/50 [00:00<00:11,  4.02it/s]PowerModels.jl does not consider reactive power cost - costs are ignored\n",
      "  6%|▌         | 3/50 [00:01<00:17,  2.72it/s]PowerModels.jl does not consider reactive power cost - costs are ignored\n",
      "  8%|▊         | 4/50 [00:01<00:17,  2.59it/s]PowerModels.jl does not consider reactive power cost - costs are ignored\n",
      " 10%|█         | 5/50 [00:01<00:17,  2.61it/s]PowerModels.jl does not consider reactive power cost - costs are ignored\n",
      " 12%|█▏        | 6/50 [00:02<00:15,  2.80it/s]PowerModels.jl does not consider reactive power cost - costs are ignored\n",
      " 14%|█▍        | 7/50 [00:02<00:17,  2.42it/s]PowerModels.jl does not consider reactive power cost - costs are ignored\n",
      " 16%|█▌        | 8/50 [00:03<00:19,  2.20it/s]PowerModels.jl does not consider reactive power cost - costs are ignored\n",
      " 18%|█▊        | 9/50 [00:03<00:16,  2.55it/s]PowerModels.jl does not consider reactive power cost - costs are ignored\n",
      " 20%|██        | 10/50 [00:03<00:16,  2.44it/s]PowerModels.jl does not consider reactive power cost - costs are ignored\n",
      " 22%|██▏       | 11/50 [00:04<00:14,  2.66it/s]PowerModels.jl does not consider reactive power cost - costs are ignored\n",
      " 24%|██▍       | 12/50 [00:12<01:41,  2.66s/it]PowerModels.jl does not consider reactive power cost - costs are ignored\n",
      " 26%|██▌       | 13/50 [00:12<01:13,  1.98s/it]PowerModels.jl does not consider reactive power cost - costs are ignored\n",
      " 28%|██▊       | 14/50 [00:12<00:54,  1.51s/it]PowerModels.jl does not consider reactive power cost - costs are ignored\n",
      " 30%|███       | 15/50 [00:13<00:41,  1.18s/it]PowerModels.jl does not consider reactive power cost - costs are ignored\n",
      " 32%|███▏      | 16/50 [00:13<00:32,  1.04it/s]PowerModels.jl does not consider reactive power cost - costs are ignored\n",
      " 34%|███▍      | 17/50 [00:14<00:25,  1.27it/s]PowerModels.jl does not consider reactive power cost - costs are ignored\n",
      " 36%|███▌      | 18/50 [00:14<00:22,  1.45it/s]PowerModels.jl does not consider reactive power cost - costs are ignored\n",
      " 38%|███▊      | 19/50 [00:15<00:18,  1.66it/s]PowerModels.jl does not consider reactive power cost - costs are ignored\n",
      " 40%|████      | 20/50 [00:15<00:16,  1.82it/s]PowerModels.jl does not consider reactive power cost - costs are ignored\n",
      " 42%|████▏     | 21/50 [00:15<00:15,  1.92it/s]PowerModels.jl does not consider reactive power cost - costs are ignored\n",
      " 44%|████▍     | 22/50 [00:16<00:13,  2.11it/s]PowerModels.jl does not consider reactive power cost - costs are ignored\n",
      " 46%|████▌     | 23/50 [00:16<00:12,  2.18it/s]PowerModels.jl does not consider reactive power cost - costs are ignored\n",
      " 48%|████▊     | 24/50 [00:17<00:12,  2.16it/s]PowerModels.jl does not consider reactive power cost - costs are ignored\n",
      " 50%|█████     | 25/50 [00:17<00:10,  2.40it/s]PowerModels.jl does not consider reactive power cost - costs are ignored\n",
      " 52%|█████▏    | 26/50 [00:17<00:09,  2.63it/s]PowerModels.jl does not consider reactive power cost - costs are ignored\n",
      " 54%|█████▍    | 27/50 [00:18<00:08,  2.79it/s]PowerModels.jl does not consider reactive power cost - costs are ignored\n",
      " 56%|█████▌    | 28/50 [00:18<00:07,  2.83it/s]PowerModels.jl does not consider reactive power cost - costs are ignored\n",
      " 58%|█████▊    | 29/50 [00:18<00:07,  2.95it/s]PowerModels.jl does not consider reactive power cost - costs are ignored\n",
      " 60%|██████    | 30/50 [00:19<00:06,  2.92it/s]PowerModels.jl does not consider reactive power cost - costs are ignored\n",
      " 62%|██████▏   | 31/50 [00:19<00:06,  2.93it/s]PowerModels.jl does not consider reactive power cost - costs are ignored\n",
      " 64%|██████▍   | 32/50 [00:19<00:06,  2.88it/s]PowerModels.jl does not consider reactive power cost - costs are ignored\n",
      " 66%|██████▌   | 33/50 [00:20<00:06,  2.64it/s]PowerModels.jl does not consider reactive power cost - costs are ignored\n",
      " 68%|██████▊   | 34/50 [00:20<00:06,  2.41it/s]PowerModels.jl does not consider reactive power cost - costs are ignored\n",
      " 70%|███████   | 35/50 [00:21<00:05,  2.55it/s]PowerModels.jl does not consider reactive power cost - costs are ignored\n",
      " 72%|███████▏  | 36/50 [00:21<00:05,  2.58it/s]PowerModels.jl does not consider reactive power cost - costs are ignored\n",
      " 74%|███████▍  | 37/50 [00:21<00:04,  2.61it/s]PowerModels.jl does not consider reactive power cost - costs are ignored\n",
      " 76%|███████▌  | 38/50 [00:22<00:05,  2.22it/s]PowerModels.jl does not consider reactive power cost - costs are ignored\n",
      " 78%|███████▊  | 39/50 [00:23<00:05,  1.92it/s]PowerModels.jl does not consider reactive power cost - costs are ignored\n",
      " 80%|████████  | 40/50 [00:23<00:05,  1.85it/s]PowerModels.jl does not consider reactive power cost - costs are ignored\n",
      " 82%|████████▏ | 41/50 [00:25<00:07,  1.28it/s]PowerModels.jl does not consider reactive power cost - costs are ignored\n",
      " 84%|████████▍ | 42/50 [00:25<00:05,  1.38it/s]PowerModels.jl does not consider reactive power cost - costs are ignored\n",
      " 86%|████████▌ | 43/50 [00:26<00:04,  1.49it/s]PowerModels.jl does not consider reactive power cost - costs are ignored\n",
      " 88%|████████▊ | 44/50 [00:26<00:03,  1.61it/s]PowerModels.jl does not consider reactive power cost - costs are ignored\n",
      " 90%|█████████ | 45/50 [00:27<00:02,  1.73it/s]PowerModels.jl does not consider reactive power cost - costs are ignored\n",
      " 92%|█████████▏| 46/50 [00:27<00:02,  1.58it/s]PowerModels.jl does not consider reactive power cost - costs are ignored\n",
      " 94%|█████████▍| 47/50 [00:28<00:01,  1.55it/s]PowerModels.jl does not consider reactive power cost - costs are ignored\n",
      " 96%|█████████▌| 48/50 [00:29<00:01,  1.58it/s]PowerModels.jl does not consider reactive power cost - costs are ignored\n",
      " 98%|█████████▊| 49/50 [00:30<00:00,  1.19it/s]PowerModels.jl does not consider reactive power cost - costs are ignored\n",
      "100%|██████████| 50/50 [00:31<00:00,  1.34it/s]PowerModels.jl does not consider reactive power cost - costs are ignored\n",
      "100%|██████████| 50/50 [00:31<00:00,  1.59it/s]\n"
     ]
    },
    {
     "name": "stdout",
     "output_type": "stream",
     "text": [
      "Strata = 3; Iteration = 15\n"
     ]
    },
    {
     "name": "stderr",
     "output_type": "stream",
     "text": [
      "  0%|          | 0/50 [00:00<?, ?it/s]PowerModels.jl does not consider reactive power cost - costs are ignored\n",
      "  4%|▍         | 2/50 [00:00<00:14,  3.27it/s]PowerModels.jl does not consider reactive power cost - costs are ignored\n",
      "  6%|▌         | 3/50 [00:01<00:16,  2.90it/s]PowerModels.jl does not consider reactive power cost - costs are ignored\n",
      "  8%|▊         | 4/50 [00:01<00:15,  2.95it/s]PowerModels.jl does not consider reactive power cost - costs are ignored\n",
      " 10%|█         | 5/50 [00:01<00:14,  3.05it/s]PowerModels.jl does not consider reactive power cost - costs are ignored\n",
      " 12%|█▏        | 6/50 [00:01<00:14,  3.07it/s]PowerModels.jl does not consider reactive power cost - costs are ignored\n",
      " 14%|█▍        | 7/50 [00:02<00:16,  2.61it/s]PowerModels.jl does not consider reactive power cost - costs are ignored\n",
      " 16%|█▌        | 8/50 [00:02<00:16,  2.52it/s]PowerModels.jl does not consider reactive power cost - costs are ignored\n",
      " 18%|█▊        | 9/50 [00:03<00:14,  2.76it/s]PowerModels.jl does not consider reactive power cost - costs are ignored\n",
      " 20%|██        | 10/50 [00:03<00:16,  2.47it/s]PowerModels.jl does not consider reactive power cost - costs are ignored\n",
      " 22%|██▏       | 11/50 [00:04<00:16,  2.42it/s]PowerModels.jl does not consider reactive power cost - costs are ignored\n",
      " 24%|██▍       | 12/50 [00:04<00:16,  2.36it/s]PowerModels.jl does not consider reactive power cost - costs are ignored\n",
      " 26%|██▌       | 13/50 [00:04<00:15,  2.39it/s]PowerModels.jl does not consider reactive power cost - costs are ignored\n",
      " 28%|██▊       | 14/50 [00:05<00:14,  2.47it/s]PowerModels.jl does not consider reactive power cost - costs are ignored\n",
      " 30%|███       | 15/50 [00:05<00:14,  2.35it/s]PowerModels.jl does not consider reactive power cost - costs are ignored\n",
      " 32%|███▏      | 16/50 [00:06<00:14,  2.36it/s]PowerModels.jl does not consider reactive power cost - costs are ignored\n",
      " 34%|███▍      | 17/50 [00:06<00:13,  2.36it/s]PowerModels.jl does not consider reactive power cost - costs are ignored\n",
      " 36%|███▌      | 18/50 [00:07<00:13,  2.38it/s]PowerModels.jl does not consider reactive power cost - costs are ignored\n",
      " 38%|███▊      | 19/50 [00:07<00:12,  2.45it/s]PowerModels.jl does not consider reactive power cost - costs are ignored\n",
      " 40%|████      | 20/50 [00:07<00:11,  2.63it/s]PowerModels.jl does not consider reactive power cost - costs are ignored\n",
      " 42%|████▏     | 21/50 [00:08<00:12,  2.32it/s]PowerModels.jl does not consider reactive power cost - costs are ignored\n",
      " 44%|████▍     | 22/50 [00:08<00:10,  2.55it/s]PowerModels.jl does not consider reactive power cost - costs are ignored\n",
      " 46%|████▌     | 23/50 [00:09<00:10,  2.47it/s]PowerModels.jl does not consider reactive power cost - costs are ignored\n",
      " 48%|████▊     | 24/50 [00:09<00:11,  2.34it/s]PowerModels.jl does not consider reactive power cost - costs are ignored\n",
      " 50%|█████     | 25/50 [00:10<00:11,  2.15it/s]PowerModels.jl does not consider reactive power cost - costs are ignored\n",
      " 52%|█████▏    | 26/50 [00:10<00:11,  2.11it/s]PowerModels.jl does not consider reactive power cost - costs are ignored\n",
      " 54%|█████▍    | 27/50 [00:11<00:11,  2.07it/s]PowerModels.jl does not consider reactive power cost - costs are ignored\n",
      " 56%|█████▌    | 28/50 [00:11<00:09,  2.25it/s]PowerModels.jl does not consider reactive power cost - costs are ignored\n",
      " 58%|█████▊    | 29/50 [00:11<00:09,  2.31it/s]PowerModels.jl does not consider reactive power cost - costs are ignored\n",
      " 60%|██████    | 30/50 [00:12<00:07,  2.54it/s]PowerModels.jl does not consider reactive power cost - costs are ignored\n",
      " 62%|██████▏   | 31/50 [00:12<00:07,  2.67it/s]PowerModels.jl does not consider reactive power cost - costs are ignored\n",
      " 64%|██████▍   | 32/50 [00:12<00:06,  2.76it/s]PowerModels.jl does not consider reactive power cost - costs are ignored\n",
      " 66%|██████▌   | 33/50 [00:13<00:06,  2.71it/s]PowerModels.jl does not consider reactive power cost - costs are ignored\n",
      " 68%|██████▊   | 34/50 [00:13<00:06,  2.44it/s]PowerModels.jl does not consider reactive power cost - costs are ignored\n",
      " 70%|███████   | 35/50 [00:14<00:05,  2.62it/s]PowerModels.jl does not consider reactive power cost - costs are ignored\n",
      " 72%|███████▏  | 36/50 [00:14<00:06,  2.17it/s]PowerModels.jl does not consider reactive power cost - costs are ignored\n",
      " 74%|███████▍  | 37/50 [00:15<00:06,  2.05it/s]PowerModels.jl does not consider reactive power cost - costs are ignored\n",
      " 76%|███████▌  | 38/50 [00:16<00:08,  1.41it/s]PowerModels.jl does not consider reactive power cost - costs are ignored\n",
      " 78%|███████▊  | 39/50 [00:17<00:07,  1.44it/s]PowerModels.jl does not consider reactive power cost - costs are ignored\n",
      " 80%|████████  | 40/50 [00:17<00:06,  1.45it/s]PowerModels.jl does not consider reactive power cost - costs are ignored\n",
      " 82%|████████▏ | 41/50 [00:19<00:08,  1.10it/s]PowerModels.jl does not consider reactive power cost - costs are ignored\n",
      " 84%|████████▍ | 42/50 [00:19<00:06,  1.27it/s]PowerModels.jl does not consider reactive power cost - costs are ignored\n",
      " 86%|████████▌ | 43/50 [00:20<00:05,  1.38it/s]PowerModels.jl does not consider reactive power cost - costs are ignored\n",
      " 88%|████████▊ | 44/50 [00:20<00:03,  1.51it/s]PowerModels.jl does not consider reactive power cost - costs are ignored\n",
      " 90%|█████████ | 45/50 [00:21<00:03,  1.67it/s]PowerModels.jl does not consider reactive power cost - costs are ignored\n",
      " 92%|█████████▏| 46/50 [00:21<00:02,  1.72it/s]PowerModels.jl does not consider reactive power cost - costs are ignored\n",
      " 94%|█████████▍| 47/50 [00:22<00:01,  1.58it/s]PowerModels.jl does not consider reactive power cost - costs are ignored\n",
      " 96%|█████████▌| 48/50 [00:23<00:01,  1.56it/s]PowerModels.jl does not consider reactive power cost - costs are ignored\n",
      " 98%|█████████▊| 49/50 [00:24<00:00,  1.21it/s]PowerModels.jl does not consider reactive power cost - costs are ignored\n",
      "100%|██████████| 50/50 [00:25<00:00,  1.35it/s]PowerModels.jl does not consider reactive power cost - costs are ignored\n",
      "100%|██████████| 50/50 [00:25<00:00,  1.97it/s]\n"
     ]
    },
    {
     "name": "stdout",
     "output_type": "stream",
     "text": [
      "Strata = 4; Iteration = 16\n"
     ]
    },
    {
     "name": "stderr",
     "output_type": "stream",
     "text": [
      "  0%|          | 0/50 [00:00<?, ?it/s]PowerModels.jl does not consider reactive power cost - costs are ignored\n",
      "  4%|▍         | 2/50 [00:00<00:13,  3.69it/s]PowerModels.jl does not consider reactive power cost - costs are ignored\n",
      "  6%|▌         | 3/50 [00:00<00:14,  3.33it/s]PowerModels.jl does not consider reactive power cost - costs are ignored\n",
      "  8%|▊         | 4/50 [00:01<00:17,  2.71it/s]PowerModels.jl does not consider reactive power cost - costs are ignored\n",
      " 10%|█         | 5/50 [00:01<00:17,  2.59it/s]PowerModels.jl does not consider reactive power cost - costs are ignored\n",
      " 12%|█▏        | 6/50 [00:02<00:18,  2.44it/s]PowerModels.jl does not consider reactive power cost - costs are ignored\n",
      " 14%|█▍        | 7/50 [00:02<00:16,  2.63it/s]PowerModels.jl does not consider reactive power cost - costs are ignored\n",
      " 16%|█▌        | 8/50 [00:02<00:14,  2.81it/s]PowerModels.jl does not consider reactive power cost - costs are ignored\n",
      " 18%|█▊        | 9/50 [00:04<00:25,  1.60it/s]PowerModels.jl does not consider reactive power cost - costs are ignored\n",
      " 20%|██        | 10/50 [00:04<00:21,  1.84it/s]PowerModels.jl does not consider reactive power cost - costs are ignored\n",
      " 22%|██▏       | 11/50 [00:04<00:18,  2.15it/s]PowerModels.jl does not consider reactive power cost - costs are ignored\n",
      " 24%|██▍       | 12/50 [00:05<00:16,  2.30it/s]PowerModels.jl does not consider reactive power cost - costs are ignored\n",
      " 26%|██▌       | 13/50 [00:05<00:15,  2.35it/s]PowerModels.jl does not consider reactive power cost - costs are ignored\n",
      " 28%|██▊       | 14/50 [00:06<00:16,  2.19it/s]PowerModels.jl does not consider reactive power cost - costs are ignored\n",
      " 30%|███       | 15/50 [00:06<00:16,  2.17it/s]PowerModels.jl does not consider reactive power cost - costs are ignored\n",
      " 32%|███▏      | 16/50 [00:06<00:15,  2.24it/s]PowerModels.jl does not consider reactive power cost - costs are ignored\n",
      " 34%|███▍      | 17/50 [00:07<00:13,  2.40it/s]PowerModels.jl does not consider reactive power cost - costs are ignored\n",
      " 36%|███▌      | 18/50 [00:07<00:12,  2.58it/s]PowerModels.jl does not consider reactive power cost - costs are ignored\n",
      " 38%|███▊      | 19/50 [00:07<00:12,  2.55it/s]PowerModels.jl does not consider reactive power cost - costs are ignored\n",
      " 40%|████      | 20/50 [00:08<00:11,  2.66it/s]PowerModels.jl does not consider reactive power cost - costs are ignored\n",
      " 42%|████▏     | 21/50 [00:09<00:14,  2.01it/s]PowerModels.jl does not consider reactive power cost - costs are ignored\n",
      " 44%|████▍     | 22/50 [00:09<00:12,  2.19it/s]PowerModels.jl does not consider reactive power cost - costs are ignored\n",
      " 46%|████▌     | 23/50 [00:09<00:11,  2.40it/s]PowerModels.jl does not consider reactive power cost - costs are ignored\n",
      " 48%|████▊     | 24/50 [00:10<00:10,  2.49it/s]PowerModels.jl does not consider reactive power cost - costs are ignored\n",
      " 50%|█████     | 25/50 [00:10<00:09,  2.62it/s]PowerModels.jl does not consider reactive power cost - costs are ignored\n",
      " 52%|█████▏    | 26/50 [00:10<00:09,  2.63it/s]PowerModels.jl does not consider reactive power cost - costs are ignored\n",
      " 54%|█████▍    | 27/50 [00:11<00:08,  2.62it/s]PowerModels.jl does not consider reactive power cost - costs are ignored\n",
      " 56%|█████▌    | 28/50 [00:18<00:51,  2.33s/it]PowerModels.jl does not consider reactive power cost - costs are ignored\n",
      " 58%|█████▊    | 29/50 [00:18<00:36,  1.73s/it]PowerModels.jl does not consider reactive power cost - costs are ignored\n",
      " 60%|██████    | 30/50 [00:18<00:26,  1.35s/it]PowerModels.jl does not consider reactive power cost - costs are ignored\n",
      " 62%|██████▏   | 31/50 [00:19<00:20,  1.08s/it]PowerModels.jl does not consider reactive power cost - costs are ignored\n",
      " 64%|██████▍   | 32/50 [00:19<00:16,  1.10it/s]PowerModels.jl does not consider reactive power cost - costs are ignored\n",
      " 66%|██████▌   | 33/50 [00:20<00:13,  1.24it/s]PowerModels.jl does not consider reactive power cost - costs are ignored\n",
      " 68%|██████▊   | 34/50 [00:20<00:11,  1.43it/s]PowerModels.jl does not consider reactive power cost - costs are ignored\n",
      " 70%|███████   | 35/50 [00:21<00:08,  1.68it/s]PowerModels.jl does not consider reactive power cost - costs are ignored\n",
      " 72%|███████▏  | 36/50 [00:21<00:07,  1.86it/s]PowerModels.jl does not consider reactive power cost - costs are ignored\n",
      " 74%|███████▍  | 37/50 [00:21<00:06,  2.09it/s]PowerModels.jl does not consider reactive power cost - costs are ignored\n",
      " 76%|███████▌  | 38/50 [00:22<00:05,  2.10it/s]PowerModels.jl does not consider reactive power cost - costs are ignored\n",
      " 78%|███████▊  | 39/50 [00:22<00:05,  2.03it/s]PowerModels.jl does not consider reactive power cost - costs are ignored\n",
      " 80%|████████  | 40/50 [00:23<00:05,  1.96it/s]PowerModels.jl does not consider reactive power cost - costs are ignored\n",
      " 82%|████████▏ | 41/50 [00:24<00:04,  1.91it/s]PowerModels.jl does not consider reactive power cost - costs are ignored\n",
      " 84%|████████▍ | 42/50 [00:24<00:04,  1.93it/s]PowerModels.jl does not consider reactive power cost - costs are ignored\n",
      " 86%|████████▌ | 43/50 [00:25<00:03,  1.96it/s]PowerModels.jl does not consider reactive power cost - costs are ignored\n",
      " 88%|████████▊ | 44/50 [00:25<00:03,  1.94it/s]PowerModels.jl does not consider reactive power cost - costs are ignored\n",
      " 90%|█████████ | 45/50 [00:26<00:02,  2.02it/s]PowerModels.jl does not consider reactive power cost - costs are ignored\n",
      " 92%|█████████▏| 46/50 [00:26<00:01,  2.08it/s]PowerModels.jl does not consider reactive power cost - costs are ignored\n",
      " 94%|█████████▍| 47/50 [00:26<00:01,  2.10it/s]PowerModels.jl does not consider reactive power cost - costs are ignored\n",
      " 96%|█████████▌| 48/50 [00:27<00:01,  1.89it/s]PowerModels.jl does not consider reactive power cost - costs are ignored\n",
      " 98%|█████████▊| 49/50 [00:28<00:00,  2.04it/s]PowerModels.jl does not consider reactive power cost - costs are ignored\n",
      "100%|██████████| 50/50 [00:28<00:00,  2.08it/s]PowerModels.jl does not consider reactive power cost - costs are ignored\n",
      "100%|██████████| 50/50 [00:28<00:00,  1.73it/s]\n"
     ]
    },
    {
     "name": "stdout",
     "output_type": "stream",
     "text": [
      "Strata = 4; Iteration = 17\n"
     ]
    },
    {
     "name": "stderr",
     "output_type": "stream",
     "text": [
      "  0%|          | 0/50 [00:00<?, ?it/s]PowerModels.jl does not consider reactive power cost - costs are ignored\n",
      "  4%|▍         | 2/50 [00:00<00:14,  3.20it/s]PowerModels.jl does not consider reactive power cost - costs are ignored\n",
      "  6%|▌         | 3/50 [00:01<00:18,  2.48it/s]PowerModels.jl does not consider reactive power cost - costs are ignored\n",
      "  8%|▊         | 4/50 [00:01<00:19,  2.36it/s]PowerModels.jl does not consider reactive power cost - costs are ignored\n",
      " 10%|█         | 5/50 [00:02<00:19,  2.31it/s]PowerModels.jl does not consider reactive power cost - costs are ignored\n",
      " 12%|█▏        | 6/50 [00:02<00:20,  2.14it/s]PowerModels.jl does not consider reactive power cost - costs are ignored\n",
      " 14%|█▍        | 7/50 [00:02<00:17,  2.52it/s]PowerModels.jl does not consider reactive power cost - costs are ignored\n",
      " 16%|█▌        | 8/50 [00:03<00:14,  2.85it/s]PowerModels.jl does not consider reactive power cost - costs are ignored\n",
      " 18%|█▊        | 9/50 [00:03<00:12,  3.18it/s]PowerModels.jl does not consider reactive power cost - costs are ignored\n",
      " 20%|██        | 10/50 [00:03<00:12,  3.17it/s]PowerModels.jl does not consider reactive power cost - costs are ignored\n",
      " 22%|██▏       | 11/50 [00:03<00:11,  3.41it/s]PowerModels.jl does not consider reactive power cost - costs are ignored\n",
      " 24%|██▍       | 12/50 [00:04<00:11,  3.37it/s]PowerModels.jl does not consider reactive power cost - costs are ignored\n",
      " 26%|██▌       | 13/50 [00:04<00:10,  3.47it/s]PowerModels.jl does not consider reactive power cost - costs are ignored\n",
      " 28%|██▊       | 14/50 [00:04<00:10,  3.53it/s]PowerModels.jl does not consider reactive power cost - costs are ignored\n",
      " 30%|███       | 15/50 [00:05<00:10,  3.47it/s]PowerModels.jl does not consider reactive power cost - costs are ignored\n",
      " 32%|███▏      | 16/50 [00:05<00:09,  3.55it/s]PowerModels.jl does not consider reactive power cost - costs are ignored\n",
      " 34%|███▍      | 17/50 [00:05<00:09,  3.34it/s]PowerModels.jl does not consider reactive power cost - costs are ignored\n",
      " 36%|███▌      | 18/50 [00:06<00:10,  3.08it/s]PowerModels.jl does not consider reactive power cost - costs are ignored\n",
      " 38%|███▊      | 19/50 [00:06<00:10,  2.96it/s]PowerModels.jl does not consider reactive power cost - costs are ignored\n",
      " 40%|████      | 20/50 [00:06<00:10,  2.80it/s]PowerModels.jl does not consider reactive power cost - costs are ignored\n",
      " 42%|████▏     | 21/50 [00:07<00:10,  2.81it/s]PowerModels.jl does not consider reactive power cost - costs are ignored\n",
      " 44%|████▍     | 22/50 [00:07<00:09,  2.82it/s]PowerModels.jl does not consider reactive power cost - costs are ignored\n",
      " 46%|████▌     | 23/50 [00:07<00:09,  2.76it/s]PowerModels.jl does not consider reactive power cost - costs are ignored\n",
      " 48%|████▊     | 24/50 [00:08<00:10,  2.54it/s]PowerModels.jl does not consider reactive power cost - costs are ignored\n",
      " 50%|█████     | 25/50 [00:08<00:10,  2.42it/s]PowerModels.jl does not consider reactive power cost - costs are ignored\n",
      " 52%|█████▏    | 26/50 [00:14<00:44,  1.86s/it]PowerModels.jl does not consider reactive power cost - costs are ignored\n",
      " 54%|█████▍    | 27/50 [00:14<00:33,  1.44s/it]PowerModels.jl does not consider reactive power cost - costs are ignored\n",
      " 56%|█████▌    | 28/50 [00:15<00:25,  1.18s/it]PowerModels.jl does not consider reactive power cost - costs are ignored\n",
      " 58%|█████▊    | 29/50 [00:15<00:19,  1.10it/s]PowerModels.jl does not consider reactive power cost - costs are ignored\n",
      " 60%|██████    | 30/50 [00:15<00:14,  1.36it/s]PowerModels.jl does not consider reactive power cost - costs are ignored\n",
      " 62%|██████▏   | 31/50 [00:16<00:11,  1.58it/s]PowerModels.jl does not consider reactive power cost - costs are ignored\n",
      " 64%|██████▍   | 32/50 [00:16<00:10,  1.77it/s]PowerModels.jl does not consider reactive power cost - costs are ignored\n",
      " 66%|██████▌   | 33/50 [00:16<00:08,  1.93it/s]PowerModels.jl does not consider reactive power cost - costs are ignored\n",
      " 68%|██████▊   | 34/50 [00:17<00:07,  2.11it/s]PowerModels.jl does not consider reactive power cost - costs are ignored\n",
      " 70%|███████   | 35/50 [00:18<00:09,  1.66it/s]PowerModels.jl does not consider reactive power cost - costs are ignored\n",
      " 72%|███████▏  | 36/50 [00:18<00:07,  1.92it/s]PowerModels.jl does not consider reactive power cost - costs are ignored\n",
      " 74%|███████▍  | 37/50 [00:19<00:07,  1.83it/s]PowerModels.jl does not consider reactive power cost - costs are ignored\n",
      " 76%|███████▌  | 38/50 [00:19<00:05,  2.11it/s]PowerModels.jl does not consider reactive power cost - costs are ignored\n",
      " 78%|███████▊  | 39/50 [00:19<00:04,  2.38it/s]PowerModels.jl does not consider reactive power cost - costs are ignored\n",
      " 80%|████████  | 40/50 [00:20<00:04,  2.42it/s]PowerModels.jl does not consider reactive power cost - costs are ignored\n",
      " 82%|████████▏ | 41/50 [00:20<00:03,  2.47it/s]PowerModels.jl does not consider reactive power cost - costs are ignored\n",
      " 84%|████████▍ | 42/50 [00:20<00:03,  2.63it/s]PowerModels.jl does not consider reactive power cost - costs are ignored\n",
      " 86%|████████▌ | 43/50 [00:21<00:02,  2.82it/s]PowerModels.jl does not consider reactive power cost - costs are ignored\n",
      " 88%|████████▊ | 44/50 [00:21<00:02,  2.91it/s]PowerModels.jl does not consider reactive power cost - costs are ignored\n",
      " 90%|█████████ | 45/50 [00:21<00:01,  2.80it/s]PowerModels.jl does not consider reactive power cost - costs are ignored\n",
      " 92%|█████████▏| 46/50 [00:22<00:01,  2.82it/s]PowerModels.jl does not consider reactive power cost - costs are ignored\n",
      " 94%|█████████▍| 47/50 [00:22<00:01,  2.71it/s]PowerModels.jl does not consider reactive power cost - costs are ignored\n",
      " 96%|█████████▌| 48/50 [00:22<00:00,  2.72it/s]PowerModels.jl does not consider reactive power cost - costs are ignored\n",
      " 98%|█████████▊| 49/50 [00:23<00:00,  2.72it/s]PowerModels.jl does not consider reactive power cost - costs are ignored\n",
      "100%|██████████| 50/50 [00:23<00:00,  2.76it/s]PowerModels.jl does not consider reactive power cost - costs are ignored\n",
      "100%|██████████| 50/50 [00:23<00:00,  2.08it/s]\n"
     ]
    },
    {
     "name": "stdout",
     "output_type": "stream",
     "text": [
      "Strata = 4; Iteration = 18\n"
     ]
    },
    {
     "name": "stderr",
     "output_type": "stream",
     "text": [
      "  0%|          | 0/50 [00:00<?, ?it/s]PowerModels.jl does not consider reactive power cost - costs are ignored\n",
      "  4%|▍         | 2/50 [00:00<00:12,  3.88it/s]PowerModels.jl does not consider reactive power cost - costs are ignored\n",
      "  6%|▌         | 3/50 [00:00<00:14,  3.15it/s]PowerModels.jl does not consider reactive power cost - costs are ignored\n",
      "  8%|▊         | 4/50 [00:01<00:17,  2.62it/s]PowerModels.jl does not consider reactive power cost - costs are ignored\n",
      " 10%|█         | 5/50 [00:01<00:17,  2.53it/s]PowerModels.jl does not consider reactive power cost - costs are ignored\n",
      " 12%|█▏        | 6/50 [00:02<00:15,  2.80it/s]PowerModels.jl does not consider reactive power cost - costs are ignored\n",
      " 14%|█▍        | 7/50 [00:02<00:15,  2.74it/s]PowerModels.jl does not consider reactive power cost - costs are ignored\n",
      " 16%|█▌        | 8/50 [00:03<00:17,  2.42it/s]PowerModels.jl does not consider reactive power cost - costs are ignored\n",
      " 18%|█▊        | 9/50 [00:03<00:15,  2.57it/s]PowerModels.jl does not consider reactive power cost - costs are ignored\n",
      " 20%|██        | 10/50 [00:03<00:16,  2.49it/s]PowerModels.jl does not consider reactive power cost - costs are ignored\n",
      " 22%|██▏       | 11/50 [00:04<00:15,  2.47it/s]PowerModels.jl does not consider reactive power cost - costs are ignored\n",
      " 24%|██▍       | 12/50 [00:04<00:16,  2.29it/s]PowerModels.jl does not consider reactive power cost - costs are ignored\n",
      " 26%|██▌       | 13/50 [00:05<00:15,  2.33it/s]PowerModels.jl does not consider reactive power cost - costs are ignored\n",
      " 28%|██▊       | 14/50 [00:05<00:18,  1.97it/s]PowerModels.jl does not consider reactive power cost - costs are ignored\n",
      " 30%|███       | 15/50 [00:06<00:18,  1.89it/s]PowerModels.jl does not consider reactive power cost - costs are ignored\n",
      " 32%|███▏      | 16/50 [00:06<00:16,  2.10it/s]PowerModels.jl does not consider reactive power cost - costs are ignored\n",
      " 34%|███▍      | 17/50 [00:07<00:14,  2.32it/s]PowerModels.jl does not consider reactive power cost - costs are ignored\n",
      " 36%|███▌      | 18/50 [00:07<00:14,  2.28it/s]PowerModels.jl does not consider reactive power cost - costs are ignored\n",
      " 38%|███▊      | 19/50 [00:07<00:13,  2.34it/s]PowerModels.jl does not consider reactive power cost - costs are ignored\n",
      " 40%|████      | 20/50 [00:08<00:13,  2.25it/s]PowerModels.jl does not consider reactive power cost - costs are ignored\n",
      " 42%|████▏     | 21/50 [00:08<00:12,  2.38it/s]PowerModels.jl does not consider reactive power cost - costs are ignored\n",
      " 44%|████▍     | 22/50 [00:09<00:11,  2.41it/s]PowerModels.jl does not consider reactive power cost - costs are ignored\n",
      " 46%|████▌     | 23/50 [00:09<00:11,  2.30it/s]PowerModels.jl does not consider reactive power cost - costs are ignored\n",
      " 48%|████▊     | 24/50 [00:09<00:10,  2.51it/s]PowerModels.jl does not consider reactive power cost - costs are ignored\n",
      " 50%|█████     | 25/50 [00:10<00:10,  2.41it/s]PowerModels.jl does not consider reactive power cost - costs are ignored\n",
      " 52%|█████▏    | 26/50 [00:11<00:15,  1.50it/s]PowerModels.jl does not consider reactive power cost - costs are ignored\n",
      " 54%|█████▍    | 27/50 [00:12<00:13,  1.67it/s]PowerModels.jl does not consider reactive power cost - costs are ignored\n",
      " 56%|█████▌    | 28/50 [00:12<00:12,  1.70it/s]PowerModels.jl does not consider reactive power cost - costs are ignored\n",
      " 58%|█████▊    | 29/50 [00:13<00:11,  1.78it/s]PowerModels.jl does not consider reactive power cost - costs are ignored\n",
      " 60%|██████    | 30/50 [00:18<00:39,  1.99s/it]PowerModels.jl does not consider reactive power cost - costs are ignored\n",
      " 62%|██████▏   | 31/50 [00:18<00:28,  1.49s/it]PowerModels.jl does not consider reactive power cost - costs are ignored\n",
      " 64%|██████▍   | 32/50 [00:19<00:20,  1.15s/it]PowerModels.jl does not consider reactive power cost - costs are ignored\n",
      " 66%|██████▌   | 33/50 [00:19<00:15,  1.09it/s]PowerModels.jl does not consider reactive power cost - costs are ignored\n",
      " 68%|██████▊   | 34/50 [00:19<00:11,  1.35it/s]PowerModels.jl does not consider reactive power cost - costs are ignored\n",
      " 70%|███████   | 35/50 [00:20<00:09,  1.62it/s]PowerModels.jl does not consider reactive power cost - costs are ignored\n",
      " 72%|███████▏  | 36/50 [00:20<00:07,  1.88it/s]PowerModels.jl does not consider reactive power cost - costs are ignored\n",
      " 74%|███████▍  | 37/50 [00:20<00:06,  2.05it/s]PowerModels.jl does not consider reactive power cost - costs are ignored\n",
      " 76%|███████▌  | 38/50 [00:21<00:05,  2.18it/s]PowerModels.jl does not consider reactive power cost - costs are ignored\n",
      " 78%|███████▊  | 39/50 [00:21<00:04,  2.25it/s]PowerModels.jl does not consider reactive power cost - costs are ignored\n",
      " 80%|████████  | 40/50 [00:22<00:04,  2.32it/s]PowerModels.jl does not consider reactive power cost - costs are ignored\n",
      " 82%|████████▏ | 41/50 [00:22<00:03,  2.29it/s]PowerModels.jl does not consider reactive power cost - costs are ignored\n",
      " 84%|████████▍ | 42/50 [00:22<00:03,  2.32it/s]PowerModels.jl does not consider reactive power cost - costs are ignored\n",
      " 86%|████████▌ | 43/50 [00:23<00:03,  2.01it/s]PowerModels.jl does not consider reactive power cost - costs are ignored\n",
      " 88%|████████▊ | 44/50 [00:24<00:03,  1.92it/s]PowerModels.jl does not consider reactive power cost - costs are ignored\n",
      " 90%|█████████ | 45/50 [00:24<00:02,  2.01it/s]PowerModels.jl does not consider reactive power cost - costs are ignored\n",
      " 92%|█████████▏| 46/50 [00:25<00:01,  2.08it/s]PowerModels.jl does not consider reactive power cost - costs are ignored\n",
      " 94%|█████████▍| 47/50 [00:25<00:01,  2.25it/s]PowerModels.jl does not consider reactive power cost - costs are ignored\n",
      " 96%|█████████▌| 48/50 [00:25<00:00,  2.36it/s]PowerModels.jl does not consider reactive power cost - costs are ignored\n",
      " 98%|█████████▊| 49/50 [00:26<00:00,  2.36it/s]PowerModels.jl does not consider reactive power cost - costs are ignored\n",
      "100%|██████████| 50/50 [00:26<00:00,  2.44it/s]PowerModels.jl does not consider reactive power cost - costs are ignored\n",
      "100%|██████████| 50/50 [00:27<00:00,  1.84it/s]\n"
     ]
    },
    {
     "name": "stdout",
     "output_type": "stream",
     "text": [
      "Strata = 4; Iteration = 19\n"
     ]
    },
    {
     "name": "stderr",
     "output_type": "stream",
     "text": [
      "  0%|          | 0/50 [00:00<?, ?it/s]PowerModels.jl does not consider reactive power cost - costs are ignored\n",
      "  4%|▍         | 2/50 [00:00<00:13,  3.53it/s]PowerModels.jl does not consider reactive power cost - costs are ignored\n",
      "  6%|▌         | 3/50 [00:01<00:19,  2.42it/s]PowerModels.jl does not consider reactive power cost - costs are ignored\n",
      "  8%|▊         | 4/50 [00:01<00:18,  2.44it/s]PowerModels.jl does not consider reactive power cost - costs are ignored\n",
      " 10%|█         | 5/50 [00:02<00:21,  2.11it/s]PowerModels.jl does not consider reactive power cost - costs are ignored\n",
      " 12%|█▏        | 6/50 [00:02<00:20,  2.11it/s]PowerModels.jl does not consider reactive power cost - costs are ignored\n",
      " 14%|█▍        | 7/50 [00:02<00:18,  2.35it/s]PowerModels.jl does not consider reactive power cost - costs are ignored\n",
      " 16%|█▌        | 8/50 [00:09<01:36,  2.30s/it]PowerModels.jl does not consider reactive power cost - costs are ignored\n",
      " 18%|█▊        | 9/50 [00:09<01:11,  1.76s/it]PowerModels.jl does not consider reactive power cost - costs are ignored\n",
      " 20%|██        | 10/50 [00:10<00:52,  1.32s/it]PowerModels.jl does not consider reactive power cost - costs are ignored\n",
      " 22%|██▏       | 11/50 [00:10<00:39,  1.03s/it]PowerModels.jl does not consider reactive power cost - costs are ignored\n",
      " 24%|██▍       | 12/50 [00:11<00:37,  1.01it/s]PowerModels.jl does not consider reactive power cost - costs are ignored\n",
      " 26%|██▌       | 13/50 [00:12<00:32,  1.13it/s]PowerModels.jl does not consider reactive power cost - costs are ignored\n",
      " 28%|██▊       | 14/50 [00:12<00:26,  1.37it/s]PowerModels.jl does not consider reactive power cost - costs are ignored\n",
      " 30%|███       | 15/50 [00:12<00:21,  1.60it/s]PowerModels.jl does not consider reactive power cost - costs are ignored\n",
      " 32%|███▏      | 16/50 [00:20<01:28,  2.60s/it]PowerModels.jl does not consider reactive power cost - costs are ignored\n",
      " 34%|███▍      | 17/50 [00:20<01:04,  1.95s/it]PowerModels.jl does not consider reactive power cost - costs are ignored\n",
      " 36%|███▌      | 18/50 [00:21<00:48,  1.52s/it]PowerModels.jl does not consider reactive power cost - costs are ignored\n",
      " 38%|███▊      | 19/50 [00:21<00:37,  1.22s/it]PowerModels.jl does not consider reactive power cost - costs are ignored\n",
      " 40%|████      | 20/50 [00:22<00:29,  1.01it/s]PowerModels.jl does not consider reactive power cost - costs are ignored\n",
      " 42%|████▏     | 21/50 [00:22<00:24,  1.19it/s]PowerModels.jl does not consider reactive power cost - costs are ignored\n",
      " 44%|████▍     | 22/50 [00:22<00:20,  1.37it/s]PowerModels.jl does not consider reactive power cost - costs are ignored\n",
      " 46%|████▌     | 23/50 [00:23<00:17,  1.55it/s]PowerModels.jl does not consider reactive power cost - costs are ignored\n",
      " 48%|████▊     | 24/50 [00:23<00:15,  1.72it/s]PowerModels.jl does not consider reactive power cost - costs are ignored\n",
      " 50%|█████     | 25/50 [00:24<00:13,  1.85it/s]PowerModels.jl does not consider reactive power cost - costs are ignored\n",
      " 52%|█████▏    | 26/50 [00:24<00:12,  1.95it/s]PowerModels.jl does not consider reactive power cost - costs are ignored\n",
      " 54%|█████▍    | 27/50 [00:25<00:12,  1.91it/s]PowerModels.jl does not consider reactive power cost - costs are ignored\n",
      " 56%|█████▌    | 28/50 [00:25<00:10,  2.17it/s]PowerModels.jl does not consider reactive power cost - costs are ignored\n",
      " 58%|█████▊    | 29/50 [00:25<00:08,  2.37it/s]PowerModels.jl does not consider reactive power cost - costs are ignored\n",
      " 60%|██████    | 30/50 [00:26<00:07,  2.57it/s]PowerModels.jl does not consider reactive power cost - costs are ignored\n",
      " 62%|██████▏   | 31/50 [00:26<00:07,  2.55it/s]PowerModels.jl does not consider reactive power cost - costs are ignored\n",
      " 64%|██████▍   | 32/50 [00:26<00:06,  2.66it/s]PowerModels.jl does not consider reactive power cost - costs are ignored\n",
      " 66%|██████▌   | 33/50 [00:27<00:07,  2.38it/s]PowerModels.jl does not consider reactive power cost - costs are ignored\n",
      " 68%|██████▊   | 34/50 [00:28<00:07,  2.26it/s]PowerModels.jl does not consider reactive power cost - costs are ignored\n",
      " 70%|███████   | 35/50 [00:28<00:06,  2.39it/s]PowerModels.jl does not consider reactive power cost - costs are ignored\n",
      " 72%|███████▏  | 36/50 [00:28<00:06,  2.23it/s]PowerModels.jl does not consider reactive power cost - costs are ignored\n",
      " 74%|███████▍  | 37/50 [00:29<00:05,  2.18it/s]PowerModels.jl does not consider reactive power cost - costs are ignored\n",
      " 76%|███████▌  | 38/50 [00:29<00:05,  2.08it/s]PowerModels.jl does not consider reactive power cost - costs are ignored\n",
      " 78%|███████▊  | 39/50 [00:30<00:06,  1.80it/s]PowerModels.jl does not consider reactive power cost - costs are ignored\n",
      " 80%|████████  | 40/50 [00:31<00:05,  1.79it/s]PowerModels.jl does not consider reactive power cost - costs are ignored\n",
      " 82%|████████▏ | 41/50 [00:32<00:07,  1.26it/s]PowerModels.jl does not consider reactive power cost - costs are ignored\n",
      " 84%|████████▍ | 42/50 [00:33<00:05,  1.42it/s]PowerModels.jl does not consider reactive power cost - costs are ignored\n",
      " 86%|████████▌ | 43/50 [00:33<00:04,  1.58it/s]PowerModels.jl does not consider reactive power cost - costs are ignored\n",
      " 88%|████████▊ | 44/50 [00:34<00:03,  1.68it/s]PowerModels.jl does not consider reactive power cost - costs are ignored\n",
      " 90%|█████████ | 45/50 [00:34<00:02,  1.78it/s]PowerModels.jl does not consider reactive power cost - costs are ignored\n",
      " 92%|█████████▏| 46/50 [00:35<00:02,  1.76it/s]PowerModels.jl does not consider reactive power cost - costs are ignored\n",
      " 94%|█████████▍| 47/50 [00:35<00:01,  1.67it/s]PowerModels.jl does not consider reactive power cost - costs are ignored\n",
      " 96%|█████████▌| 48/50 [00:36<00:01,  1.62it/s]PowerModels.jl does not consider reactive power cost - costs are ignored\n",
      " 98%|█████████▊| 49/50 [00:37<00:00,  1.23it/s]PowerModels.jl does not consider reactive power cost - costs are ignored\n",
      "100%|██████████| 50/50 [00:38<00:00,  1.37it/s]PowerModels.jl does not consider reactive power cost - costs are ignored\n",
      "100%|██████████| 50/50 [00:38<00:00,  1.29it/s]\n"
     ]
    },
    {
     "name": "stdout",
     "output_type": "stream",
     "text": [
      "Strata = 4; Iteration = 20\n"
     ]
    },
    {
     "name": "stderr",
     "output_type": "stream",
     "text": [
      "  0%|          | 0/50 [00:00<?, ?it/s]PowerModels.jl does not consider reactive power cost - costs are ignored\n",
      "  4%|▍         | 2/50 [00:00<00:13,  3.46it/s]PowerModels.jl does not consider reactive power cost - costs are ignored\n",
      "  6%|▌         | 3/50 [00:01<00:21,  2.16it/s]PowerModels.jl does not consider reactive power cost - costs are ignored\n",
      "  8%|▊         | 4/50 [00:01<00:20,  2.22it/s]PowerModels.jl does not consider reactive power cost - costs are ignored\n",
      " 10%|█         | 5/50 [00:02<00:17,  2.51it/s]PowerModels.jl does not consider reactive power cost - costs are ignored\n",
      " 12%|█▏        | 6/50 [00:02<00:19,  2.22it/s]PowerModels.jl does not consider reactive power cost - costs are ignored\n",
      " 14%|█▍        | 7/50 [00:02<00:17,  2.42it/s]PowerModels.jl does not consider reactive power cost - costs are ignored\n",
      " 16%|█▌        | 8/50 [00:03<00:16,  2.62it/s]PowerModels.jl does not consider reactive power cost - costs are ignored\n",
      " 18%|█▊        | 9/50 [00:03<00:14,  2.81it/s]PowerModels.jl does not consider reactive power cost - costs are ignored\n",
      " 20%|██        | 10/50 [00:03<00:13,  2.90it/s]PowerModels.jl does not consider reactive power cost - costs are ignored\n",
      " 22%|██▏       | 11/50 [00:04<00:18,  2.09it/s]PowerModels.jl does not consider reactive power cost - costs are ignored\n",
      " 24%|██▍       | 12/50 [00:05<00:19,  1.94it/s]PowerModels.jl does not consider reactive power cost - costs are ignored\n",
      " 26%|██▌       | 13/50 [00:05<00:21,  1.71it/s]PowerModels.jl does not consider reactive power cost - costs are ignored\n",
      " 28%|██▊       | 14/50 [00:06<00:21,  1.67it/s]PowerModels.jl does not consider reactive power cost - costs are ignored\n",
      " 30%|███       | 15/50 [00:11<01:05,  1.87s/it]PowerModels.jl does not consider reactive power cost - costs are ignored\n",
      " 32%|███▏      | 16/50 [00:11<00:48,  1.44s/it]PowerModels.jl does not consider reactive power cost - costs are ignored\n",
      " 34%|███▍      | 17/50 [00:12<00:38,  1.16s/it]PowerModels.jl does not consider reactive power cost - costs are ignored\n",
      " 36%|███▌      | 18/50 [00:12<00:29,  1.07it/s]PowerModels.jl does not consider reactive power cost - costs are ignored\n",
      " 38%|███▊      | 19/50 [00:13<00:24,  1.28it/s]PowerModels.jl does not consider reactive power cost - costs are ignored\n",
      " 40%|████      | 20/50 [00:13<00:19,  1.54it/s]PowerModels.jl does not consider reactive power cost - costs are ignored\n",
      " 42%|████▏     | 21/50 [00:13<00:16,  1.74it/s]PowerModels.jl does not consider reactive power cost - costs are ignored\n",
      " 44%|████▍     | 22/50 [00:14<00:14,  1.95it/s]PowerModels.jl does not consider reactive power cost - costs are ignored\n",
      " 46%|████▌     | 23/50 [00:14<00:12,  2.09it/s]PowerModels.jl does not consider reactive power cost - costs are ignored\n",
      " 48%|████▊     | 24/50 [00:15<00:12,  2.15it/s]PowerModels.jl does not consider reactive power cost - costs are ignored\n",
      " 50%|█████     | 25/50 [00:15<00:10,  2.38it/s]PowerModels.jl does not consider reactive power cost - costs are ignored\n",
      " 52%|█████▏    | 26/50 [00:15<00:09,  2.45it/s]PowerModels.jl does not consider reactive power cost - costs are ignored\n",
      " 54%|█████▍    | 27/50 [00:16<00:09,  2.52it/s]PowerModels.jl does not consider reactive power cost - costs are ignored\n",
      " 56%|█████▌    | 28/50 [00:16<00:09,  2.28it/s]PowerModels.jl does not consider reactive power cost - costs are ignored\n",
      " 58%|█████▊    | 29/50 [00:21<00:39,  1.87s/it]PowerModels.jl does not consider reactive power cost - costs are ignored\n",
      " 60%|██████    | 30/50 [00:22<00:28,  1.42s/it]PowerModels.jl does not consider reactive power cost - costs are ignored\n",
      " 62%|██████▏   | 31/50 [00:22<00:21,  1.11s/it]PowerModels.jl does not consider reactive power cost - costs are ignored\n",
      " 64%|██████▍   | 32/50 [00:23<00:15,  1.13it/s]PowerModels.jl does not consider reactive power cost - costs are ignored\n",
      " 66%|██████▌   | 33/50 [00:23<00:12,  1.36it/s]PowerModels.jl does not consider reactive power cost - costs are ignored\n",
      " 68%|██████▊   | 34/50 [00:24<00:12,  1.23it/s]PowerModels.jl does not consider reactive power cost - costs are ignored\n",
      " 70%|███████   | 35/50 [00:24<00:10,  1.40it/s]PowerModels.jl does not consider reactive power cost - costs are ignored\n",
      " 72%|███████▏  | 36/50 [00:25<00:08,  1.59it/s]PowerModels.jl does not consider reactive power cost - costs are ignored\n",
      " 74%|███████▍  | 37/50 [00:25<00:07,  1.83it/s]PowerModels.jl does not consider reactive power cost - costs are ignored\n",
      " 76%|███████▌  | 38/50 [00:26<00:06,  1.95it/s]PowerModels.jl does not consider reactive power cost - costs are ignored\n",
      " 78%|███████▊  | 39/50 [00:26<00:05,  1.90it/s]PowerModels.jl does not consider reactive power cost - costs are ignored\n",
      " 80%|████████  | 40/50 [00:27<00:05,  1.95it/s]PowerModels.jl does not consider reactive power cost - costs are ignored\n",
      " 82%|████████▏ | 41/50 [00:27<00:04,  2.06it/s]PowerModels.jl does not consider reactive power cost - costs are ignored\n",
      " 84%|████████▍ | 42/50 [00:28<00:03,  2.08it/s]PowerModels.jl does not consider reactive power cost - costs are ignored\n",
      " 86%|████████▌ | 43/50 [00:28<00:03,  1.99it/s]PowerModels.jl does not consider reactive power cost - costs are ignored\n",
      " 88%|████████▊ | 44/50 [00:29<00:03,  1.97it/s]PowerModels.jl does not consider reactive power cost - costs are ignored\n",
      " 90%|█████████ | 45/50 [00:29<00:02,  1.96it/s]PowerModels.jl does not consider reactive power cost - costs are ignored\n",
      " 92%|█████████▏| 46/50 [00:30<00:02,  1.98it/s]PowerModels.jl does not consider reactive power cost - costs are ignored\n",
      " 94%|█████████▍| 47/50 [00:30<00:01,  1.95it/s]PowerModels.jl does not consider reactive power cost - costs are ignored\n",
      " 96%|█████████▌| 48/50 [00:31<00:01,  1.92it/s]PowerModels.jl does not consider reactive power cost - costs are ignored\n",
      " 98%|█████████▊| 49/50 [00:31<00:00,  1.82it/s]PowerModels.jl does not consider reactive power cost - costs are ignored\n",
      "100%|██████████| 50/50 [00:32<00:00,  1.89it/s]PowerModels.jl does not consider reactive power cost - costs are ignored\n",
      "100%|██████████| 50/50 [00:32<00:00,  1.53it/s]\n"
     ]
    },
    {
     "name": "stdout",
     "output_type": "stream",
     "text": [
      "Strata = 4; Iteration = 21\n"
     ]
    },
    {
     "name": "stderr",
     "output_type": "stream",
     "text": [
      "  0%|          | 0/50 [00:00<?, ?it/s]PowerModels.jl does not consider reactive power cost - costs are ignored\n",
      "  4%|▍         | 2/50 [00:00<00:15,  3.17it/s]PowerModels.jl does not consider reactive power cost - costs are ignored\n",
      "  6%|▌         | 3/50 [00:01<00:18,  2.53it/s]PowerModels.jl does not consider reactive power cost - costs are ignored\n",
      "  8%|▊         | 4/50 [00:01<00:17,  2.58it/s]PowerModels.jl does not consider reactive power cost - costs are ignored\n",
      " 10%|█         | 5/50 [00:02<00:20,  2.17it/s]PowerModels.jl does not consider reactive power cost - costs are ignored\n",
      " 12%|█▏        | 6/50 [00:02<00:21,  2.07it/s]PowerModels.jl does not consider reactive power cost - costs are ignored\n",
      " 14%|█▍        | 7/50 [00:03<00:20,  2.06it/s]PowerModels.jl does not consider reactive power cost - costs are ignored\n",
      " 16%|█▌        | 8/50 [00:03<00:19,  2.13it/s]PowerModels.jl does not consider reactive power cost - costs are ignored\n",
      " 18%|█▊        | 9/50 [00:03<00:18,  2.20it/s]PowerModels.jl does not consider reactive power cost - costs are ignored\n",
      " 20%|██        | 10/50 [00:04<00:17,  2.24it/s]PowerModels.jl does not consider reactive power cost - costs are ignored\n",
      " 22%|██▏       | 11/50 [00:04<00:17,  2.21it/s]PowerModels.jl does not consider reactive power cost - costs are ignored\n",
      " 24%|██▍       | 12/50 [00:05<00:17,  2.21it/s]PowerModels.jl does not consider reactive power cost - costs are ignored\n",
      " 26%|██▌       | 13/50 [00:05<00:16,  2.27it/s]PowerModels.jl does not consider reactive power cost - costs are ignored\n",
      " 28%|██▊       | 14/50 [00:06<00:16,  2.18it/s]PowerModels.jl does not consider reactive power cost - costs are ignored\n",
      " 30%|███       | 15/50 [00:06<00:15,  2.29it/s]PowerModels.jl does not consider reactive power cost - costs are ignored\n",
      " 32%|███▏      | 16/50 [00:07<00:14,  2.32it/s]PowerModels.jl does not consider reactive power cost - costs are ignored\n",
      " 34%|███▍      | 17/50 [00:07<00:17,  1.88it/s]PowerModels.jl does not consider reactive power cost - costs are ignored\n",
      " 36%|███▌      | 18/50 [00:08<00:16,  1.93it/s]PowerModels.jl does not consider reactive power cost - costs are ignored\n",
      " 38%|███▊      | 19/50 [00:08<00:16,  1.93it/s]PowerModels.jl does not consider reactive power cost - costs are ignored\n",
      " 40%|████      | 20/50 [00:09<00:17,  1.70it/s]PowerModels.jl does not consider reactive power cost - costs are ignored\n",
      " 42%|████▏     | 21/50 [00:10<00:17,  1.64it/s]PowerModels.jl does not consider reactive power cost - costs are ignored\n",
      " 44%|████▍     | 22/50 [00:10<00:16,  1.69it/s]PowerModels.jl does not consider reactive power cost - costs are ignored\n",
      " 46%|████▌     | 23/50 [00:11<00:15,  1.75it/s]PowerModels.jl does not consider reactive power cost - costs are ignored\n",
      " 48%|████▊     | 24/50 [00:11<00:14,  1.84it/s]PowerModels.jl does not consider reactive power cost - costs are ignored\n",
      " 50%|█████     | 25/50 [00:12<00:12,  1.99it/s]PowerModels.jl does not consider reactive power cost - costs are ignored\n",
      " 52%|█████▏    | 26/50 [00:12<00:11,  2.15it/s]PowerModels.jl does not consider reactive power cost - costs are ignored\n",
      " 54%|█████▍    | 27/50 [00:13<00:14,  1.64it/s]PowerModels.jl does not consider reactive power cost - costs are ignored\n",
      " 56%|█████▌    | 28/50 [00:13<00:11,  1.85it/s]PowerModels.jl does not consider reactive power cost - costs are ignored\n",
      " 58%|█████▊    | 29/50 [00:14<00:10,  2.01it/s]PowerModels.jl does not consider reactive power cost - costs are ignored\n",
      " 60%|██████    | 30/50 [00:14<00:10,  1.97it/s]PowerModels.jl does not consider reactive power cost - costs are ignored\n",
      " 62%|██████▏   | 31/50 [00:15<00:08,  2.11it/s]PowerModels.jl does not consider reactive power cost - costs are ignored\n",
      " 64%|██████▍   | 32/50 [00:15<00:08,  2.23it/s]PowerModels.jl does not consider reactive power cost - costs are ignored\n",
      " 66%|██████▌   | 33/50 [00:16<00:08,  2.05it/s]PowerModels.jl does not consider reactive power cost - costs are ignored\n",
      " 68%|██████▊   | 34/50 [00:16<00:08,  1.95it/s]PowerModels.jl does not consider reactive power cost - costs are ignored\n",
      " 70%|███████   | 35/50 [00:17<00:07,  2.04it/s]PowerModels.jl does not consider reactive power cost - costs are ignored\n",
      " 72%|███████▏  | 36/50 [00:17<00:06,  2.03it/s]PowerModels.jl does not consider reactive power cost - costs are ignored\n",
      " 74%|███████▍  | 37/50 [00:18<00:06,  1.95it/s]PowerModels.jl does not consider reactive power cost - costs are ignored\n",
      " 76%|███████▌  | 38/50 [00:19<00:09,  1.33it/s]PowerModels.jl does not consider reactive power cost - costs are ignored\n",
      " 78%|███████▊  | 39/50 [00:20<00:08,  1.27it/s]PowerModels.jl does not consider reactive power cost - costs are ignored\n",
      " 80%|████████  | 40/50 [00:21<00:07,  1.33it/s]PowerModels.jl does not consider reactive power cost - costs are ignored\n",
      " 82%|████████▏ | 41/50 [00:22<00:08,  1.03it/s]PowerModels.jl does not consider reactive power cost - costs are ignored\n",
      " 84%|████████▍ | 42/50 [00:23<00:06,  1.19it/s]PowerModels.jl does not consider reactive power cost - costs are ignored\n",
      " 86%|████████▌ | 43/50 [00:23<00:05,  1.34it/s]PowerModels.jl does not consider reactive power cost - costs are ignored\n",
      " 88%|████████▊ | 44/50 [00:24<00:04,  1.46it/s]PowerModels.jl does not consider reactive power cost - costs are ignored\n",
      " 90%|█████████ | 45/50 [00:24<00:03,  1.54it/s]PowerModels.jl does not consider reactive power cost - costs are ignored\n",
      " 92%|█████████▏| 46/50 [00:25<00:02,  1.49it/s]PowerModels.jl does not consider reactive power cost - costs are ignored\n",
      " 94%|█████████▍| 47/50 [00:26<00:02,  1.46it/s]PowerModels.jl does not consider reactive power cost - costs are ignored\n",
      " 96%|█████████▌| 48/50 [00:26<00:01,  1.53it/s]PowerModels.jl does not consider reactive power cost - costs are ignored\n",
      " 98%|█████████▊| 49/50 [00:28<00:00,  1.13it/s]PowerModels.jl does not consider reactive power cost - costs are ignored\n",
      "100%|██████████| 50/50 [00:28<00:00,  1.28it/s]PowerModels.jl does not consider reactive power cost - costs are ignored\n",
      "100%|██████████| 50/50 [00:29<00:00,  1.71it/s]\n"
     ]
    },
    {
     "name": "stdout",
     "output_type": "stream",
     "text": [
      "Strata = 5; Iteration = 22\n"
     ]
    },
    {
     "name": "stderr",
     "output_type": "stream",
     "text": [
      "  0%|          | 0/50 [00:00<?, ?it/s]PowerModels.jl does not consider reactive power cost - costs are ignored\n",
      "  4%|▍         | 2/50 [00:00<00:16,  2.88it/s]PowerModels.jl does not consider reactive power cost - costs are ignored\n",
      "  6%|▌         | 3/50 [00:01<00:20,  2.30it/s]PowerModels.jl does not consider reactive power cost - costs are ignored\n",
      "  8%|▊         | 4/50 [00:01<00:20,  2.24it/s]PowerModels.jl does not consider reactive power cost - costs are ignored\n",
      " 10%|█         | 5/50 [00:02<00:21,  2.05it/s]PowerModels.jl does not consider reactive power cost - costs are ignored\n",
      " 12%|█▏        | 6/50 [00:02<00:19,  2.31it/s]PowerModels.jl does not consider reactive power cost - costs are ignored\n",
      " 14%|█▍        | 7/50 [00:02<00:17,  2.53it/s]PowerModels.jl does not consider reactive power cost - costs are ignored\n",
      " 16%|█▌        | 8/50 [00:03<00:15,  2.75it/s]PowerModels.jl does not consider reactive power cost - costs are ignored\n",
      " 18%|█▊        | 9/50 [00:03<00:13,  2.93it/s]PowerModels.jl does not consider reactive power cost - costs are ignored\n",
      " 20%|██        | 10/50 [00:03<00:12,  3.10it/s]PowerModels.jl does not consider reactive power cost - costs are ignored\n",
      " 22%|██▏       | 11/50 [00:04<00:13,  2.94it/s]PowerModels.jl does not consider reactive power cost - costs are ignored\n",
      " 24%|██▍       | 12/50 [00:04<00:12,  3.05it/s]PowerModels.jl does not consider reactive power cost - costs are ignored\n",
      " 26%|██▌       | 13/50 [00:04<00:11,  3.22it/s]PowerModels.jl does not consider reactive power cost - costs are ignored\n",
      " 28%|██▊       | 14/50 [00:05<00:11,  3.06it/s]PowerModels.jl does not consider reactive power cost - costs are ignored\n",
      " 30%|███       | 15/50 [00:05<00:12,  2.72it/s]PowerModels.jl does not consider reactive power cost - costs are ignored\n",
      " 32%|███▏      | 16/50 [00:05<00:12,  2.80it/s]PowerModels.jl does not consider reactive power cost - costs are ignored\n",
      " 34%|███▍      | 17/50 [00:06<00:11,  2.82it/s]PowerModels.jl does not consider reactive power cost - costs are ignored\n",
      " 36%|███▌      | 18/50 [00:06<00:11,  2.84it/s]PowerModels.jl does not consider reactive power cost - costs are ignored\n",
      " 38%|███▊      | 19/50 [00:06<00:10,  2.82it/s]PowerModels.jl does not consider reactive power cost - costs are ignored\n",
      " 40%|████      | 20/50 [00:07<00:10,  2.79it/s]PowerModels.jl does not consider reactive power cost - costs are ignored\n",
      " 42%|████▏     | 21/50 [00:07<00:10,  2.67it/s]PowerModels.jl does not consider reactive power cost - costs are ignored\n",
      " 44%|████▍     | 22/50 [00:08<00:11,  2.42it/s]PowerModels.jl does not consider reactive power cost - costs are ignored\n",
      " 46%|████▌     | 23/50 [00:08<00:10,  2.55it/s]PowerModels.jl does not consider reactive power cost - costs are ignored\n",
      " 48%|████▊     | 24/50 [00:08<00:10,  2.55it/s]PowerModels.jl does not consider reactive power cost - costs are ignored\n",
      " 50%|█████     | 25/50 [00:09<00:09,  2.63it/s]PowerModels.jl does not consider reactive power cost - costs are ignored\n",
      " 52%|█████▏    | 26/50 [00:09<00:09,  2.66it/s]PowerModels.jl does not consider reactive power cost - costs are ignored\n",
      " 54%|█████▍    | 27/50 [00:10<00:08,  2.66it/s]PowerModels.jl does not consider reactive power cost - costs are ignored\n",
      " 56%|█████▌    | 28/50 [00:10<00:08,  2.63it/s]PowerModels.jl does not consider reactive power cost - costs are ignored\n",
      " 58%|█████▊    | 29/50 [00:10<00:07,  2.73it/s]PowerModels.jl does not consider reactive power cost - costs are ignored\n",
      " 60%|██████    | 30/50 [00:11<00:07,  2.69it/s]PowerModels.jl does not consider reactive power cost - costs are ignored\n",
      " 62%|██████▏   | 31/50 [00:11<00:07,  2.71it/s]PowerModels.jl does not consider reactive power cost - costs are ignored\n",
      " 64%|██████▍   | 32/50 [00:11<00:06,  2.68it/s]PowerModels.jl does not consider reactive power cost - costs are ignored\n",
      " 66%|██████▌   | 33/50 [00:12<00:06,  2.50it/s]PowerModels.jl does not consider reactive power cost - costs are ignored\n",
      " 68%|██████▊   | 34/50 [00:12<00:06,  2.59it/s]PowerModels.jl does not consider reactive power cost - costs are ignored\n",
      " 70%|███████   | 35/50 [00:13<00:05,  2.73it/s]PowerModels.jl does not consider reactive power cost - costs are ignored\n",
      " 72%|███████▏  | 36/50 [00:13<00:05,  2.61it/s]PowerModels.jl does not consider reactive power cost - costs are ignored\n",
      " 74%|███████▍  | 37/50 [00:13<00:05,  2.55it/s]PowerModels.jl does not consider reactive power cost - costs are ignored\n",
      " 76%|███████▌  | 38/50 [00:14<00:04,  2.68it/s]PowerModels.jl does not consider reactive power cost - costs are ignored\n",
      " 78%|███████▊  | 39/50 [00:14<00:03,  2.86it/s]PowerModels.jl does not consider reactive power cost - costs are ignored\n",
      " 80%|████████  | 40/50 [00:14<00:03,  2.88it/s]PowerModels.jl does not consider reactive power cost - costs are ignored\n",
      " 82%|████████▏ | 41/50 [00:15<00:03,  2.92it/s]PowerModels.jl does not consider reactive power cost - costs are ignored\n",
      " 84%|████████▍ | 42/50 [00:15<00:02,  2.75it/s]PowerModels.jl does not consider reactive power cost - costs are ignored\n",
      " 86%|████████▌ | 43/50 [00:15<00:02,  2.85it/s]PowerModels.jl does not consider reactive power cost - costs are ignored\n",
      " 88%|████████▊ | 44/50 [00:16<00:02,  2.98it/s]PowerModels.jl does not consider reactive power cost - costs are ignored\n",
      " 90%|█████████ | 45/50 [00:16<00:01,  2.94it/s]PowerModels.jl does not consider reactive power cost - costs are ignored\n",
      " 92%|█████████▏| 46/50 [00:16<00:01,  2.83it/s]PowerModels.jl does not consider reactive power cost - costs are ignored\n",
      " 94%|█████████▍| 47/50 [00:17<00:01,  2.80it/s]PowerModels.jl does not consider reactive power cost - costs are ignored\n",
      " 96%|█████████▌| 48/50 [00:17<00:00,  2.85it/s]PowerModels.jl does not consider reactive power cost - costs are ignored\n",
      " 98%|█████████▊| 49/50 [00:18<00:00,  2.80it/s]PowerModels.jl does not consider reactive power cost - costs are ignored\n",
      "100%|██████████| 50/50 [00:18<00:00,  2.75it/s]PowerModels.jl does not consider reactive power cost - costs are ignored\n",
      "100%|██████████| 50/50 [00:18<00:00,  2.65it/s]\n"
     ]
    },
    {
     "name": "stdout",
     "output_type": "stream",
     "text": [
      "Strata = 5; Iteration = 23\n"
     ]
    },
    {
     "name": "stderr",
     "output_type": "stream",
     "text": [
      "  0%|          | 0/50 [00:00<?, ?it/s]PowerModels.jl does not consider reactive power cost - costs are ignored\n",
      "  4%|▍         | 2/50 [00:00<00:14,  3.39it/s]PowerModels.jl does not consider reactive power cost - costs are ignored\n",
      "  6%|▌         | 3/50 [00:01<00:26,  1.76it/s]PowerModels.jl does not consider reactive power cost - costs are ignored\n",
      "  8%|▊         | 4/50 [00:02<00:24,  1.84it/s]PowerModels.jl does not consider reactive power cost - costs are ignored\n",
      " 10%|█         | 5/50 [00:02<00:28,  1.59it/s]PowerModels.jl does not consider reactive power cost - costs are ignored\n",
      " 12%|█▏        | 6/50 [00:03<00:24,  1.83it/s]PowerModels.jl does not consider reactive power cost - costs are ignored\n",
      " 14%|█▍        | 7/50 [00:03<00:20,  2.14it/s]PowerModels.jl does not consider reactive power cost - costs are ignored\n",
      " 16%|█▌        | 8/50 [00:03<00:17,  2.37it/s]PowerModels.jl does not consider reactive power cost - costs are ignored\n",
      " 18%|█▊        | 9/50 [00:04<00:15,  2.62it/s]PowerModels.jl does not consider reactive power cost - costs are ignored\n",
      " 20%|██        | 10/50 [00:04<00:14,  2.84it/s]PowerModels.jl does not consider reactive power cost - costs are ignored\n",
      " 22%|██▏       | 11/50 [00:04<00:14,  2.78it/s]PowerModels.jl does not consider reactive power cost - costs are ignored\n",
      " 24%|██▍       | 12/50 [00:05<00:13,  2.88it/s]PowerModels.jl does not consider reactive power cost - costs are ignored\n",
      " 26%|██▌       | 13/50 [00:05<00:12,  3.02it/s]PowerModels.jl does not consider reactive power cost - costs are ignored\n",
      " 28%|██▊       | 14/50 [00:05<00:11,  3.03it/s]PowerModels.jl does not consider reactive power cost - costs are ignored\n",
      " 30%|███       | 15/50 [00:06<00:13,  2.68it/s]PowerModels.jl does not consider reactive power cost - costs are ignored\n",
      " 32%|███▏      | 16/50 [00:06<00:13,  2.47it/s]PowerModels.jl does not consider reactive power cost - costs are ignored\n",
      " 34%|███▍      | 17/50 [00:07<00:16,  2.05it/s]PowerModels.jl does not consider reactive power cost - costs are ignored\n",
      " 36%|███▌      | 18/50 [00:07<00:13,  2.34it/s]PowerModels.jl does not consider reactive power cost - costs are ignored\n",
      " 38%|███▊      | 19/50 [00:08<00:13,  2.28it/s]PowerModels.jl does not consider reactive power cost - costs are ignored\n",
      " 40%|████      | 20/50 [00:08<00:11,  2.52it/s]PowerModels.jl does not consider reactive power cost - costs are ignored\n",
      " 42%|████▏     | 21/50 [00:08<00:10,  2.68it/s]PowerModels.jl does not consider reactive power cost - costs are ignored\n",
      " 44%|████▍     | 22/50 [00:09<00:10,  2.79it/s]PowerModels.jl does not consider reactive power cost - costs are ignored\n",
      " 46%|████▌     | 23/50 [00:09<00:09,  2.91it/s]PowerModels.jl does not consider reactive power cost - costs are ignored\n",
      " 48%|████▊     | 24/50 [00:09<00:09,  2.73it/s]PowerModels.jl does not consider reactive power cost - costs are ignored\n",
      " 50%|█████     | 25/50 [00:10<00:09,  2.77it/s]PowerModels.jl does not consider reactive power cost - costs are ignored\n",
      " 52%|█████▏    | 26/50 [00:10<00:08,  2.75it/s]PowerModels.jl does not consider reactive power cost - costs are ignored\n",
      " 54%|█████▍    | 27/50 [00:10<00:09,  2.48it/s]PowerModels.jl does not consider reactive power cost - costs are ignored\n",
      " 56%|█████▌    | 28/50 [00:15<00:33,  1.53s/it]PowerModels.jl does not consider reactive power cost - costs are ignored\n",
      " 58%|█████▊    | 29/50 [00:15<00:25,  1.20s/it]PowerModels.jl does not consider reactive power cost - costs are ignored\n",
      " 60%|██████    | 30/50 [00:15<00:18,  1.06it/s]PowerModels.jl does not consider reactive power cost - costs are ignored\n",
      " 62%|██████▏   | 31/50 [00:16<00:14,  1.28it/s]PowerModels.jl does not consider reactive power cost - costs are ignored\n",
      " 64%|██████▍   | 32/50 [00:16<00:11,  1.51it/s]PowerModels.jl does not consider reactive power cost - costs are ignored\n",
      " 66%|██████▌   | 33/50 [00:17<00:10,  1.68it/s]PowerModels.jl does not consider reactive power cost - costs are ignored\n",
      " 68%|██████▊   | 34/50 [00:17<00:08,  1.78it/s]PowerModels.jl does not consider reactive power cost - costs are ignored\n",
      " 70%|███████   | 35/50 [00:18<00:07,  1.95it/s]PowerModels.jl does not consider reactive power cost - costs are ignored\n",
      " 72%|███████▏  | 36/50 [00:18<00:06,  2.01it/s]PowerModels.jl does not consider reactive power cost - costs are ignored\n",
      " 74%|███████▍  | 37/50 [00:18<00:06,  2.07it/s]PowerModels.jl does not consider reactive power cost - costs are ignored\n",
      " 76%|███████▌  | 38/50 [00:19<00:05,  2.04it/s]PowerModels.jl does not consider reactive power cost - costs are ignored\n",
      " 78%|███████▊  | 39/50 [00:19<00:05,  2.18it/s]PowerModels.jl does not consider reactive power cost - costs are ignored\n",
      " 80%|████████  | 40/50 [00:20<00:04,  2.10it/s]PowerModels.jl does not consider reactive power cost - costs are ignored\n",
      " 82%|████████▏ | 41/50 [00:20<00:04,  2.24it/s]PowerModels.jl does not consider reactive power cost - costs are ignored\n",
      " 84%|████████▍ | 42/50 [00:21<00:03,  2.28it/s]PowerModels.jl does not consider reactive power cost - costs are ignored\n",
      " 86%|████████▌ | 43/50 [00:21<00:03,  2.17it/s]PowerModels.jl does not consider reactive power cost - costs are ignored\n",
      " 88%|████████▊ | 44/50 [00:22<00:02,  2.19it/s]PowerModels.jl does not consider reactive power cost - costs are ignored\n",
      " 90%|█████████ | 45/50 [00:22<00:02,  2.24it/s]PowerModels.jl does not consider reactive power cost - costs are ignored\n",
      " 92%|█████████▏| 46/50 [00:23<00:01,  2.13it/s]PowerModels.jl does not consider reactive power cost - costs are ignored\n",
      " 94%|█████████▍| 47/50 [00:23<00:01,  1.70it/s]PowerModels.jl does not consider reactive power cost - costs are ignored\n",
      " 96%|█████████▌| 48/50 [00:24<00:01,  1.82it/s]PowerModels.jl does not consider reactive power cost - costs are ignored\n",
      " 98%|█████████▊| 49/50 [00:24<00:00,  2.04it/s]PowerModels.jl does not consider reactive power cost - costs are ignored\n",
      "100%|██████████| 50/50 [00:25<00:00,  2.25it/s]PowerModels.jl does not consider reactive power cost - costs are ignored\n",
      "100%|██████████| 50/50 [00:25<00:00,  1.95it/s]\n"
     ]
    },
    {
     "name": "stdout",
     "output_type": "stream",
     "text": [
      "Strata = 5; Iteration = 24\n"
     ]
    },
    {
     "name": "stderr",
     "output_type": "stream",
     "text": [
      "  0%|          | 0/50 [00:00<?, ?it/s]PowerModels.jl does not consider reactive power cost - costs are ignored\n",
      "  4%|▍         | 2/50 [00:00<00:13,  3.64it/s]PowerModels.jl does not consider reactive power cost - costs are ignored\n",
      "  6%|▌         | 3/50 [00:01<00:17,  2.75it/s]PowerModels.jl does not consider reactive power cost - costs are ignored\n",
      "  8%|▊         | 4/50 [00:01<00:18,  2.53it/s]PowerModels.jl does not consider reactive power cost - costs are ignored\n",
      " 10%|█         | 5/50 [00:01<00:16,  2.68it/s]PowerModels.jl does not consider reactive power cost - costs are ignored\n",
      " 12%|█▏        | 6/50 [00:02<00:15,  2.90it/s]PowerModels.jl does not consider reactive power cost - costs are ignored\n",
      " 14%|█▍        | 7/50 [00:02<00:14,  3.06it/s]PowerModels.jl does not consider reactive power cost - costs are ignored\n",
      " 16%|█▌        | 8/50 [00:02<00:12,  3.27it/s]PowerModels.jl does not consider reactive power cost - costs are ignored\n",
      " 18%|█▊        | 9/50 [00:02<00:12,  3.24it/s]PowerModels.jl does not consider reactive power cost - costs are ignored\n",
      " 20%|██        | 10/50 [00:03<00:12,  3.32it/s]PowerModels.jl does not consider reactive power cost - costs are ignored\n",
      " 22%|██▏       | 11/50 [00:03<00:11,  3.44it/s]PowerModels.jl does not consider reactive power cost - costs are ignored\n",
      " 24%|██▍       | 12/50 [00:03<00:10,  3.59it/s]PowerModels.jl does not consider reactive power cost - costs are ignored\n",
      " 26%|██▌       | 13/50 [00:04<00:10,  3.57it/s]PowerModels.jl does not consider reactive power cost - costs are ignored\n",
      " 28%|██▊       | 14/50 [00:04<00:09,  3.62it/s]PowerModels.jl does not consider reactive power cost - costs are ignored\n",
      " 30%|███       | 15/50 [00:04<00:09,  3.53it/s]PowerModels.jl does not consider reactive power cost - costs are ignored\n",
      " 32%|███▏      | 16/50 [00:04<00:09,  3.53it/s]PowerModels.jl does not consider reactive power cost - costs are ignored\n",
      " 34%|███▍      | 17/50 [00:05<00:10,  3.17it/s]PowerModels.jl does not consider reactive power cost - costs are ignored\n",
      " 36%|███▌      | 18/50 [00:05<00:09,  3.29it/s]PowerModels.jl does not consider reactive power cost - costs are ignored\n",
      " 38%|███▊      | 19/50 [00:05<00:09,  3.36it/s]PowerModels.jl does not consider reactive power cost - costs are ignored\n",
      " 40%|████      | 20/50 [00:06<00:08,  3.41it/s]PowerModels.jl does not consider reactive power cost - costs are ignored\n",
      " 42%|████▏     | 21/50 [00:06<00:08,  3.43it/s]PowerModels.jl does not consider reactive power cost - costs are ignored\n",
      " 44%|████▍     | 22/50 [00:06<00:08,  3.47it/s]PowerModels.jl does not consider reactive power cost - costs are ignored\n",
      " 46%|████▌     | 23/50 [00:07<00:07,  3.43it/s]PowerModels.jl does not consider reactive power cost - costs are ignored\n",
      " 48%|████▊     | 24/50 [00:07<00:08,  3.22it/s]PowerModels.jl does not consider reactive power cost - costs are ignored\n",
      " 50%|█████     | 25/50 [00:07<00:07,  3.21it/s]PowerModels.jl does not consider reactive power cost - costs are ignored\n",
      " 52%|█████▏    | 26/50 [00:07<00:07,  3.20it/s]PowerModels.jl does not consider reactive power cost - costs are ignored\n",
      " 54%|█████▍    | 27/50 [00:08<00:07,  3.15it/s]PowerModels.jl does not consider reactive power cost - costs are ignored\n",
      " 56%|█████▌    | 28/50 [00:08<00:06,  3.19it/s]PowerModels.jl does not consider reactive power cost - costs are ignored\n",
      " 58%|█████▊    | 29/50 [00:08<00:06,  3.23it/s]PowerModels.jl does not consider reactive power cost - costs are ignored\n",
      " 60%|██████    | 30/50 [00:09<00:06,  3.10it/s]PowerModels.jl does not consider reactive power cost - costs are ignored\n",
      " 62%|██████▏   | 31/50 [00:11<00:14,  1.28it/s]PowerModels.jl does not consider reactive power cost - costs are ignored\n",
      " 64%|██████▍   | 32/50 [00:11<00:11,  1.58it/s]PowerModels.jl does not consider reactive power cost - costs are ignored\n",
      " 66%|██████▌   | 33/50 [00:11<00:09,  1.84it/s]PowerModels.jl does not consider reactive power cost - costs are ignored\n",
      " 68%|██████▊   | 34/50 [00:12<00:07,  2.11it/s]PowerModels.jl does not consider reactive power cost - costs are ignored\n",
      " 70%|███████   | 35/50 [00:12<00:06,  2.34it/s]PowerModels.jl does not consider reactive power cost - costs are ignored\n",
      " 72%|███████▏  | 36/50 [00:12<00:05,  2.44it/s]PowerModels.jl does not consider reactive power cost - costs are ignored\n",
      " 74%|███████▍  | 37/50 [00:13<00:05,  2.59it/s]PowerModels.jl does not consider reactive power cost - costs are ignored\n",
      " 76%|███████▌  | 38/50 [00:13<00:04,  2.70it/s]PowerModels.jl does not consider reactive power cost - costs are ignored\n",
      " 78%|███████▊  | 39/50 [00:13<00:04,  2.64it/s]PowerModels.jl does not consider reactive power cost - costs are ignored\n",
      " 80%|████████  | 40/50 [00:14<00:03,  2.80it/s]PowerModels.jl does not consider reactive power cost - costs are ignored\n",
      " 82%|████████▏ | 41/50 [00:14<00:03,  2.83it/s]PowerModels.jl does not consider reactive power cost - costs are ignored\n",
      " 84%|████████▍ | 42/50 [00:14<00:02,  2.84it/s]PowerModels.jl does not consider reactive power cost - costs are ignored\n",
      " 86%|████████▌ | 43/50 [00:15<00:02,  2.87it/s]PowerModels.jl does not consider reactive power cost - costs are ignored\n",
      " 88%|████████▊ | 44/50 [00:15<00:02,  2.76it/s]PowerModels.jl does not consider reactive power cost - costs are ignored\n",
      " 90%|█████████ | 45/50 [00:15<00:01,  2.60it/s]PowerModels.jl does not consider reactive power cost - costs are ignored\n",
      " 92%|█████████▏| 46/50 [00:16<00:01,  2.57it/s]PowerModels.jl does not consider reactive power cost - costs are ignored\n",
      " 94%|█████████▍| 47/50 [00:16<00:01,  2.61it/s]PowerModels.jl does not consider reactive power cost - costs are ignored\n",
      " 96%|█████████▌| 48/50 [00:17<00:00,  2.65it/s]PowerModels.jl does not consider reactive power cost - costs are ignored\n",
      " 98%|█████████▊| 49/50 [00:17<00:00,  2.82it/s]PowerModels.jl does not consider reactive power cost - costs are ignored\n",
      "100%|██████████| 50/50 [00:17<00:00,  2.91it/s]PowerModels.jl does not consider reactive power cost - costs are ignored\n",
      "100%|██████████| 50/50 [00:18<00:00,  2.77it/s]\n"
     ]
    },
    {
     "name": "stdout",
     "output_type": "stream",
     "text": [
      "Strata = 5; Iteration = 25\n"
     ]
    },
    {
     "name": "stderr",
     "output_type": "stream",
     "text": [
      "  0%|          | 0/50 [00:00<?, ?it/s]PowerModels.jl does not consider reactive power cost - costs are ignored\n",
      "  4%|▍         | 2/50 [00:00<00:13,  3.53it/s]PowerModels.jl does not consider reactive power cost - costs are ignored\n",
      "  6%|▌         | 3/50 [00:01<00:16,  2.82it/s]PowerModels.jl does not consider reactive power cost - costs are ignored\n",
      "  8%|▊         | 4/50 [00:02<00:32,  1.40it/s]PowerModels.jl does not consider reactive power cost - costs are ignored\n",
      " 10%|█         | 5/50 [00:02<00:27,  1.64it/s]PowerModels.jl does not consider reactive power cost - costs are ignored\n",
      " 12%|█▏        | 6/50 [00:03<00:22,  1.99it/s]PowerModels.jl does not consider reactive power cost - costs are ignored\n",
      " 14%|█▍        | 7/50 [00:03<00:18,  2.35it/s]PowerModels.jl does not consider reactive power cost - costs are ignored\n",
      " 16%|█▌        | 8/50 [00:03<00:16,  2.55it/s]PowerModels.jl does not consider reactive power cost - costs are ignored\n",
      " 18%|█▊        | 9/50 [00:03<00:14,  2.79it/s]PowerModels.jl does not consider reactive power cost - costs are ignored\n",
      " 20%|██        | 10/50 [00:04<00:13,  2.94it/s]PowerModels.jl does not consider reactive power cost - costs are ignored\n",
      " 22%|██▏       | 11/50 [00:04<00:12,  3.04it/s]PowerModels.jl does not consider reactive power cost - costs are ignored\n",
      " 24%|██▍       | 12/50 [00:04<00:12,  3.07it/s]PowerModels.jl does not consider reactive power cost - costs are ignored\n",
      " 26%|██▌       | 13/50 [00:05<00:11,  3.16it/s]PowerModels.jl does not consider reactive power cost - costs are ignored\n",
      " 28%|██▊       | 14/50 [00:05<00:11,  3.16it/s]PowerModels.jl does not consider reactive power cost - costs are ignored\n",
      " 30%|███       | 15/50 [00:05<00:11,  3.04it/s]PowerModels.jl does not consider reactive power cost - costs are ignored\n",
      " 32%|███▏      | 16/50 [00:06<00:11,  3.04it/s]PowerModels.jl does not consider reactive power cost - costs are ignored\n",
      " 34%|███▍      | 17/50 [00:06<00:10,  3.12it/s]PowerModels.jl does not consider reactive power cost - costs are ignored\n",
      " 36%|███▌      | 18/50 [00:06<00:10,  3.08it/s]PowerModels.jl does not consider reactive power cost - costs are ignored\n",
      " 38%|███▊      | 19/50 [00:07<00:10,  2.93it/s]PowerModels.jl does not consider reactive power cost - costs are ignored\n",
      " 40%|████      | 20/50 [00:07<00:10,  2.90it/s]PowerModels.jl does not consider reactive power cost - costs are ignored\n",
      " 42%|████▏     | 21/50 [00:07<00:10,  2.89it/s]PowerModels.jl does not consider reactive power cost - costs are ignored\n",
      " 44%|████▍     | 22/50 [00:08<00:09,  2.96it/s]PowerModels.jl does not consider reactive power cost - costs are ignored\n",
      " 46%|████▌     | 23/50 [00:08<00:08,  3.02it/s]PowerModels.jl does not consider reactive power cost - costs are ignored\n",
      " 48%|████▊     | 24/50 [00:08<00:08,  2.97it/s]PowerModels.jl does not consider reactive power cost - costs are ignored\n",
      " 50%|█████     | 25/50 [00:09<00:09,  2.69it/s]PowerModels.jl does not consider reactive power cost - costs are ignored\n",
      " 52%|█████▏    | 26/50 [00:09<00:08,  2.78it/s]PowerModels.jl does not consider reactive power cost - costs are ignored\n",
      " 54%|█████▍    | 27/50 [00:09<00:08,  2.84it/s]PowerModels.jl does not consider reactive power cost - costs are ignored\n",
      " 56%|█████▌    | 28/50 [00:10<00:08,  2.69it/s]PowerModels.jl does not consider reactive power cost - costs are ignored\n",
      " 58%|█████▊    | 29/50 [00:10<00:07,  2.74it/s]PowerModels.jl does not consider reactive power cost - costs are ignored\n",
      " 60%|██████    | 30/50 [00:11<00:07,  2.53it/s]PowerModels.jl does not consider reactive power cost - costs are ignored\n",
      " 62%|██████▏   | 31/50 [00:11<00:07,  2.62it/s]PowerModels.jl does not consider reactive power cost - costs are ignored\n",
      " 64%|██████▍   | 32/50 [00:11<00:06,  2.61it/s]PowerModels.jl does not consider reactive power cost - costs are ignored\n",
      " 66%|██████▌   | 33/50 [00:12<00:07,  2.36it/s]PowerModels.jl does not consider reactive power cost - costs are ignored\n",
      " 68%|██████▊   | 34/50 [00:12<00:06,  2.53it/s]PowerModels.jl does not consider reactive power cost - costs are ignored\n",
      " 70%|███████   | 35/50 [00:13<00:05,  2.62it/s]PowerModels.jl does not consider reactive power cost - costs are ignored\n",
      " 72%|███████▏  | 36/50 [00:13<00:05,  2.72it/s]PowerModels.jl does not consider reactive power cost - costs are ignored\n",
      " 74%|███████▍  | 37/50 [00:13<00:05,  2.40it/s]PowerModels.jl does not consider reactive power cost - costs are ignored\n",
      " 76%|███████▌  | 38/50 [00:14<00:05,  2.39it/s]PowerModels.jl does not consider reactive power cost - costs are ignored\n",
      " 78%|███████▊  | 39/50 [00:14<00:04,  2.46it/s]PowerModels.jl does not consider reactive power cost - costs are ignored\n",
      " 80%|████████  | 40/50 [00:15<00:04,  2.41it/s]PowerModels.jl does not consider reactive power cost - costs are ignored\n",
      " 82%|████████▏ | 41/50 [00:15<00:03,  2.44it/s]PowerModels.jl does not consider reactive power cost - costs are ignored\n",
      " 84%|████████▍ | 42/50 [00:16<00:03,  2.40it/s]PowerModels.jl does not consider reactive power cost - costs are ignored\n",
      " 86%|████████▌ | 43/50 [00:16<00:02,  2.55it/s]PowerModels.jl does not consider reactive power cost - costs are ignored\n",
      " 88%|████████▊ | 44/50 [00:16<00:02,  2.63it/s]PowerModels.jl does not consider reactive power cost - costs are ignored\n",
      " 90%|█████████ | 45/50 [00:17<00:01,  2.69it/s]PowerModels.jl does not consider reactive power cost - costs are ignored\n",
      " 92%|█████████▏| 46/50 [00:17<00:01,  2.74it/s]PowerModels.jl does not consider reactive power cost - costs are ignored\n",
      " 94%|█████████▍| 47/50 [00:17<00:01,  2.60it/s]PowerModels.jl does not consider reactive power cost - costs are ignored\n",
      " 96%|█████████▌| 48/50 [00:18<00:00,  2.67it/s]PowerModels.jl does not consider reactive power cost - costs are ignored\n",
      " 98%|█████████▊| 49/50 [00:18<00:00,  2.58it/s]PowerModels.jl does not consider reactive power cost - costs are ignored\n",
      "100%|██████████| 50/50 [00:18<00:00,  2.66it/s]PowerModels.jl does not consider reactive power cost - costs are ignored\n",
      "100%|██████████| 50/50 [00:19<00:00,  2.58it/s]\n"
     ]
    },
    {
     "name": "stdout",
     "output_type": "stream",
     "text": [
      "Strata = 6; Iteration = 26\n"
     ]
    },
    {
     "name": "stderr",
     "output_type": "stream",
     "text": [
      "  0%|          | 0/50 [00:00<?, ?it/s]PowerModels.jl does not consider reactive power cost - costs are ignored\n",
      "  4%|▍         | 2/50 [00:00<00:13,  3.54it/s]PowerModels.jl does not consider reactive power cost - costs are ignored\n",
      "  6%|▌         | 3/50 [00:01<00:17,  2.63it/s]PowerModels.jl does not consider reactive power cost - costs are ignored\n",
      "  8%|▊         | 4/50 [00:01<00:17,  2.58it/s]PowerModels.jl does not consider reactive power cost - costs are ignored\n",
      " 10%|█         | 5/50 [00:02<00:20,  2.24it/s]PowerModels.jl does not consider reactive power cost - costs are ignored\n",
      " 12%|█▏        | 6/50 [00:02<00:17,  2.56it/s]PowerModels.jl does not consider reactive power cost - costs are ignored\n",
      " 14%|█▍        | 7/50 [00:02<00:14,  2.89it/s]PowerModels.jl does not consider reactive power cost - costs are ignored\n",
      " 16%|█▌        | 8/50 [00:02<00:13,  3.12it/s]PowerModels.jl does not consider reactive power cost - costs are ignored\n",
      " 18%|█▊        | 9/50 [00:03<00:12,  3.29it/s]PowerModels.jl does not consider reactive power cost - costs are ignored\n",
      " 20%|██        | 10/50 [00:03<00:11,  3.42it/s]PowerModels.jl does not consider reactive power cost - costs are ignored\n",
      " 22%|██▏       | 11/50 [00:03<00:11,  3.33it/s]PowerModels.jl does not consider reactive power cost - costs are ignored\n",
      " 24%|██▍       | 12/50 [00:04<00:11,  3.28it/s]PowerModels.jl does not consider reactive power cost - costs are ignored\n",
      " 26%|██▌       | 13/50 [00:04<00:11,  3.09it/s]PowerModels.jl does not consider reactive power cost - costs are ignored\n",
      " 28%|██▊       | 14/50 [00:04<00:11,  3.00it/s]PowerModels.jl does not consider reactive power cost - costs are ignored\n",
      " 30%|███       | 15/50 [00:05<00:11,  3.16it/s]PowerModels.jl does not consider reactive power cost - costs are ignored\n",
      " 32%|███▏      | 16/50 [00:05<00:10,  3.26it/s]PowerModels.jl does not consider reactive power cost - costs are ignored\n",
      " 34%|███▍      | 17/50 [00:05<00:09,  3.32it/s]PowerModels.jl does not consider reactive power cost - costs are ignored\n",
      " 36%|███▌      | 18/50 [00:05<00:09,  3.41it/s]PowerModels.jl does not consider reactive power cost - costs are ignored\n",
      " 38%|███▊      | 19/50 [00:06<00:08,  3.49it/s]PowerModels.jl does not consider reactive power cost - costs are ignored\n",
      " 40%|████      | 20/50 [00:06<00:08,  3.44it/s]PowerModels.jl does not consider reactive power cost - costs are ignored\n",
      " 42%|████▏     | 21/50 [00:06<00:08,  3.35it/s]PowerModels.jl does not consider reactive power cost - costs are ignored\n",
      " 44%|████▍     | 22/50 [00:07<00:08,  3.40it/s]PowerModels.jl does not consider reactive power cost - costs are ignored\n",
      " 46%|████▌     | 23/50 [00:07<00:07,  3.38it/s]PowerModels.jl does not consider reactive power cost - costs are ignored\n",
      " 48%|████▊     | 24/50 [00:07<00:07,  3.42it/s]PowerModels.jl does not consider reactive power cost - costs are ignored\n",
      " 50%|█████     | 25/50 [00:07<00:07,  3.39it/s]PowerModels.jl does not consider reactive power cost - costs are ignored\n",
      " 52%|█████▏    | 26/50 [00:08<00:07,  3.37it/s]PowerModels.jl does not consider reactive power cost - costs are ignored\n",
      " 54%|█████▍    | 27/50 [00:08<00:07,  3.26it/s]PowerModels.jl does not consider reactive power cost - costs are ignored\n",
      " 56%|█████▌    | 28/50 [00:08<00:06,  3.28it/s]PowerModels.jl does not consider reactive power cost - costs are ignored\n",
      " 58%|█████▊    | 29/50 [00:09<00:06,  3.18it/s]PowerModels.jl does not consider reactive power cost - costs are ignored\n",
      " 60%|██████    | 30/50 [00:09<00:06,  3.28it/s]PowerModels.jl does not consider reactive power cost - costs are ignored\n",
      " 62%|██████▏   | 31/50 [00:09<00:06,  3.09it/s]PowerModels.jl does not consider reactive power cost - costs are ignored\n",
      " 64%|██████▍   | 32/50 [00:10<00:05,  3.16it/s]PowerModels.jl does not consider reactive power cost - costs are ignored\n",
      " 66%|██████▌   | 33/50 [00:10<00:05,  3.21it/s]PowerModels.jl does not consider reactive power cost - costs are ignored\n",
      " 68%|██████▊   | 34/50 [00:10<00:04,  3.24it/s]PowerModels.jl does not consider reactive power cost - costs are ignored\n",
      " 70%|███████   | 35/50 [00:11<00:04,  3.12it/s]PowerModels.jl does not consider reactive power cost - costs are ignored\n",
      " 72%|███████▏  | 36/50 [00:11<00:04,  3.08it/s]PowerModels.jl does not consider reactive power cost - costs are ignored\n",
      " 74%|███████▍  | 37/50 [00:11<00:04,  3.05it/s]PowerModels.jl does not consider reactive power cost - costs are ignored\n",
      " 76%|███████▌  | 38/50 [00:12<00:03,  3.13it/s]PowerModels.jl does not consider reactive power cost - costs are ignored\n",
      " 78%|███████▊  | 39/50 [00:12<00:03,  3.14it/s]PowerModels.jl does not consider reactive power cost - costs are ignored\n",
      " 80%|████████  | 40/50 [00:12<00:03,  3.05it/s]PowerModels.jl does not consider reactive power cost - costs are ignored\n",
      " 82%|████████▏ | 41/50 [00:13<00:03,  2.94it/s]PowerModels.jl does not consider reactive power cost - costs are ignored\n",
      " 84%|████████▍ | 42/50 [00:13<00:02,  3.05it/s]PowerModels.jl does not consider reactive power cost - costs are ignored\n",
      " 86%|████████▌ | 43/50 [00:13<00:02,  2.99it/s]PowerModels.jl does not consider reactive power cost - costs are ignored\n",
      " 88%|████████▊ | 44/50 [00:14<00:01,  3.04it/s]PowerModels.jl does not consider reactive power cost - costs are ignored\n",
      " 90%|█████████ | 45/50 [00:14<00:01,  3.12it/s]PowerModels.jl does not consider reactive power cost - costs are ignored\n",
      " 92%|█████████▏| 46/50 [00:14<00:01,  3.18it/s]PowerModels.jl does not consider reactive power cost - costs are ignored\n",
      " 94%|█████████▍| 47/50 [00:15<00:01,  2.94it/s]PowerModels.jl does not consider reactive power cost - costs are ignored\n",
      " 96%|█████████▌| 48/50 [00:15<00:00,  2.83it/s]PowerModels.jl does not consider reactive power cost - costs are ignored\n",
      " 98%|█████████▊| 49/50 [00:15<00:00,  2.61it/s]PowerModels.jl does not consider reactive power cost - costs are ignored\n",
      "100%|██████████| 50/50 [00:16<00:00,  2.68it/s]PowerModels.jl does not consider reactive power cost - costs are ignored\n",
      "100%|██████████| 50/50 [00:16<00:00,  3.01it/s]\n"
     ]
    },
    {
     "name": "stdout",
     "output_type": "stream",
     "text": [
      "Strata = 6; Iteration = 27\n"
     ]
    },
    {
     "name": "stderr",
     "output_type": "stream",
     "text": [
      "  0%|          | 0/50 [00:00<?, ?it/s]PowerModels.jl does not consider reactive power cost - costs are ignored\n",
      "  4%|▍         | 2/50 [00:00<00:13,  3.53it/s]PowerModels.jl does not consider reactive power cost - costs are ignored\n",
      "  6%|▌         | 3/50 [00:01<00:18,  2.49it/s]PowerModels.jl does not consider reactive power cost - costs are ignored\n",
      "  8%|▊         | 4/50 [00:01<00:20,  2.28it/s]PowerModels.jl does not consider reactive power cost - costs are ignored\n",
      " 10%|█         | 5/50 [00:01<00:18,  2.48it/s]PowerModels.jl does not consider reactive power cost - costs are ignored\n",
      " 12%|█▏        | 6/50 [00:02<00:15,  2.76it/s]PowerModels.jl does not consider reactive power cost - costs are ignored\n",
      " 14%|█▍        | 7/50 [00:02<00:14,  2.87it/s]PowerModels.jl does not consider reactive power cost - costs are ignored\n",
      " 16%|█▌        | 8/50 [00:02<00:13,  3.00it/s]PowerModels.jl does not consider reactive power cost - costs are ignored\n",
      " 18%|█▊        | 9/50 [00:03<00:13,  3.05it/s]PowerModels.jl does not consider reactive power cost - costs are ignored\n",
      " 20%|██        | 10/50 [00:03<00:12,  3.18it/s]PowerModels.jl does not consider reactive power cost - costs are ignored\n",
      " 22%|██▏       | 11/50 [00:03<00:12,  3.03it/s]PowerModels.jl does not consider reactive power cost - costs are ignored\n",
      " 24%|██▍       | 12/50 [00:04<00:13,  2.84it/s]PowerModels.jl does not consider reactive power cost - costs are ignored\n",
      " 26%|██▌       | 13/50 [00:04<00:13,  2.80it/s]PowerModels.jl does not consider reactive power cost - costs are ignored\n",
      " 28%|██▊       | 14/50 [00:04<00:12,  2.95it/s]PowerModels.jl does not consider reactive power cost - costs are ignored\n",
      " 30%|███       | 15/50 [00:05<00:11,  3.10it/s]PowerModels.jl does not consider reactive power cost - costs are ignored\n",
      " 32%|███▏      | 16/50 [00:05<00:10,  3.22it/s]PowerModels.jl does not consider reactive power cost - costs are ignored\n",
      " 34%|███▍      | 17/50 [00:05<00:11,  2.97it/s]PowerModels.jl does not consider reactive power cost - costs are ignored\n",
      " 36%|███▌      | 18/50 [00:06<00:11,  2.76it/s]PowerModels.jl does not consider reactive power cost - costs are ignored\n",
      " 38%|███▊      | 19/50 [00:06<00:11,  2.73it/s]PowerModels.jl does not consider reactive power cost - costs are ignored\n",
      " 40%|████      | 20/50 [00:06<00:10,  2.90it/s]PowerModels.jl does not consider reactive power cost - costs are ignored\n",
      " 42%|████▏     | 21/50 [00:07<00:11,  2.63it/s]PowerModels.jl does not consider reactive power cost - costs are ignored\n",
      " 44%|████▍     | 22/50 [00:08<00:15,  1.85it/s]PowerModels.jl does not consider reactive power cost - costs are ignored\n",
      " 46%|████▌     | 23/50 [00:08<00:12,  2.13it/s]PowerModels.jl does not consider reactive power cost - costs are ignored\n",
      " 48%|████▊     | 24/50 [00:08<00:10,  2.39it/s]PowerModels.jl does not consider reactive power cost - costs are ignored\n",
      " 50%|█████     | 25/50 [00:09<00:09,  2.61it/s]PowerModels.jl does not consider reactive power cost - costs are ignored\n",
      " 52%|█████▏    | 26/50 [00:09<00:08,  2.68it/s]PowerModels.jl does not consider reactive power cost - costs are ignored\n",
      " 54%|█████▍    | 27/50 [00:09<00:08,  2.81it/s]PowerModels.jl does not consider reactive power cost - costs are ignored\n",
      " 56%|█████▌    | 28/50 [00:10<00:07,  2.95it/s]PowerModels.jl does not consider reactive power cost - costs are ignored\n",
      " 58%|█████▊    | 29/50 [00:10<00:06,  3.05it/s]PowerModels.jl does not consider reactive power cost - costs are ignored\n",
      " 60%|██████    | 30/50 [00:10<00:06,  3.12it/s]PowerModels.jl does not consider reactive power cost - costs are ignored\n",
      " 62%|██████▏   | 31/50 [00:11<00:05,  3.19it/s]PowerModels.jl does not consider reactive power cost - costs are ignored\n",
      " 64%|██████▍   | 32/50 [00:11<00:05,  3.18it/s]PowerModels.jl does not consider reactive power cost - costs are ignored\n",
      " 66%|██████▌   | 33/50 [00:11<00:05,  3.07it/s]PowerModels.jl does not consider reactive power cost - costs are ignored\n",
      " 68%|██████▊   | 34/50 [00:12<00:05,  3.12it/s]PowerModels.jl does not consider reactive power cost - costs are ignored\n",
      " 70%|███████   | 35/50 [00:12<00:04,  3.17it/s]PowerModels.jl does not consider reactive power cost - costs are ignored\n",
      " 72%|███████▏  | 36/50 [00:12<00:04,  3.01it/s]PowerModels.jl does not consider reactive power cost - costs are ignored\n",
      " 74%|███████▍  | 37/50 [00:13<00:04,  3.05it/s]PowerModels.jl does not consider reactive power cost - costs are ignored\n",
      " 76%|███████▌  | 38/50 [00:13<00:03,  3.13it/s]PowerModels.jl does not consider reactive power cost - costs are ignored\n",
      " 78%|███████▊  | 39/50 [00:13<00:03,  3.24it/s]PowerModels.jl does not consider reactive power cost - costs are ignored\n",
      " 80%|████████  | 40/50 [00:14<00:03,  2.98it/s]PowerModels.jl does not consider reactive power cost - costs are ignored\n",
      " 82%|████████▏ | 41/50 [00:14<00:03,  2.85it/s]PowerModels.jl does not consider reactive power cost - costs are ignored\n",
      " 84%|████████▍ | 42/50 [00:14<00:02,  2.85it/s]PowerModels.jl does not consider reactive power cost - costs are ignored\n",
      " 86%|████████▌ | 43/50 [00:15<00:02,  2.85it/s]PowerModels.jl does not consider reactive power cost - costs are ignored\n",
      " 88%|████████▊ | 44/50 [00:15<00:02,  2.70it/s]PowerModels.jl does not consider reactive power cost - costs are ignored\n",
      " 90%|█████████ | 45/50 [00:15<00:01,  2.71it/s]PowerModels.jl does not consider reactive power cost - costs are ignored\n",
      " 92%|█████████▏| 46/50 [00:16<00:01,  2.68it/s]PowerModels.jl does not consider reactive power cost - costs are ignored\n",
      " 94%|█████████▍| 47/50 [00:16<00:01,  2.52it/s]PowerModels.jl does not consider reactive power cost - costs are ignored\n",
      " 96%|█████████▌| 48/50 [00:17<00:00,  2.58it/s]PowerModels.jl does not consider reactive power cost - costs are ignored\n",
      " 98%|█████████▊| 49/50 [00:17<00:00,  2.65it/s]PowerModels.jl does not consider reactive power cost - costs are ignored\n",
      "100%|██████████| 50/50 [00:17<00:00,  2.73it/s]PowerModels.jl does not consider reactive power cost - costs are ignored\n",
      "100%|██████████| 50/50 [00:18<00:00,  2.76it/s]\n"
     ]
    },
    {
     "name": "stdout",
     "output_type": "stream",
     "text": [
      "Strata = 6; Iteration = 28\n"
     ]
    },
    {
     "name": "stderr",
     "output_type": "stream",
     "text": [
      "  0%|          | 0/50 [00:00<?, ?it/s]PowerModels.jl does not consider reactive power cost - costs are ignored\n",
      "  4%|▍         | 2/50 [00:00<00:14,  3.26it/s]PowerModels.jl does not consider reactive power cost - costs are ignored\n",
      "  6%|▌         | 3/50 [00:01<00:30,  1.52it/s]PowerModels.jl does not consider reactive power cost - costs are ignored\n",
      "  8%|▊         | 4/50 [00:02<00:28,  1.62it/s]PowerModels.jl does not consider reactive power cost - costs are ignored\n",
      " 10%|█         | 5/50 [00:02<00:23,  1.95it/s]PowerModels.jl does not consider reactive power cost - costs are ignored\n",
      " 12%|█▏        | 6/50 [00:02<00:18,  2.32it/s]PowerModels.jl does not consider reactive power cost - costs are ignored\n",
      " 14%|█▍        | 7/50 [00:03<00:16,  2.68it/s]PowerModels.jl does not consider reactive power cost - costs are ignored\n",
      " 16%|█▌        | 8/50 [00:03<00:14,  2.81it/s]PowerModels.jl does not consider reactive power cost - costs are ignored\n",
      " 18%|█▊        | 9/50 [00:03<00:14,  2.87it/s]PowerModels.jl does not consider reactive power cost - costs are ignored\n",
      " 20%|██        | 10/50 [00:04<00:13,  3.00it/s]PowerModels.jl does not consider reactive power cost - costs are ignored\n",
      " 22%|██▏       | 11/50 [00:04<00:12,  3.13it/s]PowerModels.jl does not consider reactive power cost - costs are ignored\n",
      " 24%|██▍       | 12/50 [00:04<00:11,  3.25it/s]PowerModels.jl does not consider reactive power cost - costs are ignored\n",
      " 26%|██▌       | 13/50 [00:04<00:11,  3.33it/s]PowerModels.jl does not consider reactive power cost - costs are ignored\n",
      " 28%|██▊       | 14/50 [00:05<00:10,  3.39it/s]PowerModels.jl does not consider reactive power cost - costs are ignored\n",
      " 30%|███       | 15/50 [00:05<00:10,  3.43it/s]PowerModels.jl does not consider reactive power cost - costs are ignored\n",
      " 32%|███▏      | 16/50 [00:05<00:10,  3.29it/s]PowerModels.jl does not consider reactive power cost - costs are ignored\n",
      " 34%|███▍      | 17/50 [00:06<00:09,  3.35it/s]PowerModels.jl does not consider reactive power cost - costs are ignored\n",
      " 36%|███▌      | 18/50 [00:06<00:09,  3.35it/s]PowerModels.jl does not consider reactive power cost - costs are ignored\n",
      " 38%|███▊      | 19/50 [00:06<00:09,  3.34it/s]PowerModels.jl does not consider reactive power cost - costs are ignored\n",
      " 40%|████      | 20/50 [00:07<00:08,  3.34it/s]PowerModels.jl does not consider reactive power cost - costs are ignored\n",
      " 42%|████▏     | 21/50 [00:07<00:08,  3.39it/s]PowerModels.jl does not consider reactive power cost - costs are ignored\n",
      " 44%|████▍     | 22/50 [00:07<00:08,  3.38it/s]PowerModels.jl does not consider reactive power cost - costs are ignored\n",
      " 46%|████▌     | 23/50 [00:07<00:07,  3.42it/s]PowerModels.jl does not consider reactive power cost - costs are ignored\n",
      " 48%|████▊     | 24/50 [00:08<00:08,  3.13it/s]PowerModels.jl does not consider reactive power cost - costs are ignored\n",
      " 50%|█████     | 25/50 [00:08<00:08,  3.09it/s]PowerModels.jl does not consider reactive power cost - costs are ignored\n",
      " 52%|█████▏    | 26/50 [00:08<00:07,  3.01it/s]PowerModels.jl does not consider reactive power cost - costs are ignored\n",
      " 54%|█████▍    | 27/50 [00:09<00:07,  3.05it/s]PowerModels.jl does not consider reactive power cost - costs are ignored\n",
      " 56%|█████▌    | 28/50 [00:09<00:07,  3.04it/s]PowerModels.jl does not consider reactive power cost - costs are ignored\n",
      " 58%|█████▊    | 29/50 [00:11<00:14,  1.49it/s]PowerModels.jl does not consider reactive power cost - costs are ignored\n",
      " 60%|██████    | 30/50 [00:11<00:12,  1.65it/s]PowerModels.jl does not consider reactive power cost - costs are ignored\n",
      " 62%|██████▏   | 31/50 [00:11<00:10,  1.79it/s]PowerModels.jl does not consider reactive power cost - costs are ignored\n",
      " 64%|██████▍   | 32/50 [00:12<00:08,  2.06it/s]PowerModels.jl does not consider reactive power cost - costs are ignored\n",
      " 66%|██████▌   | 33/50 [00:14<00:15,  1.11it/s]PowerModels.jl does not consider reactive power cost - costs are ignored\n",
      " 68%|██████▊   | 34/50 [00:14<00:11,  1.37it/s]PowerModels.jl does not consider reactive power cost - costs are ignored\n",
      " 70%|███████   | 35/50 [00:14<00:09,  1.61it/s]PowerModels.jl does not consider reactive power cost - costs are ignored\n",
      " 72%|███████▏  | 36/50 [00:15<00:07,  1.79it/s]PowerModels.jl does not consider reactive power cost - costs are ignored\n",
      " 74%|███████▍  | 37/50 [00:15<00:06,  1.91it/s]PowerModels.jl does not consider reactive power cost - costs are ignored\n",
      " 76%|███████▌  | 38/50 [00:16<00:05,  2.06it/s]PowerModels.jl does not consider reactive power cost - costs are ignored\n",
      " 78%|███████▊  | 39/50 [00:16<00:04,  2.26it/s]PowerModels.jl does not consider reactive power cost - costs are ignored\n",
      " 80%|████████  | 40/50 [00:16<00:04,  2.33it/s]PowerModels.jl does not consider reactive power cost - costs are ignored\n",
      " 82%|████████▏ | 41/50 [00:17<00:03,  2.37it/s]PowerModels.jl does not consider reactive power cost - costs are ignored\n",
      " 84%|████████▍ | 42/50 [00:17<00:03,  2.40it/s]PowerModels.jl does not consider reactive power cost - costs are ignored\n",
      " 86%|████████▌ | 43/50 [00:18<00:02,  2.43it/s]PowerModels.jl does not consider reactive power cost - costs are ignored\n",
      " 88%|████████▊ | 44/50 [00:18<00:02,  2.20it/s]PowerModels.jl does not consider reactive power cost - costs are ignored\n",
      " 90%|█████████ | 45/50 [00:19<00:02,  2.26it/s]PowerModels.jl does not consider reactive power cost - costs are ignored\n",
      " 92%|█████████▏| 46/50 [00:19<00:01,  2.28it/s]PowerModels.jl does not consider reactive power cost - costs are ignored\n",
      " 94%|█████████▍| 47/50 [00:19<00:01,  2.25it/s]PowerModels.jl does not consider reactive power cost - costs are ignored\n",
      " 96%|█████████▌| 48/50 [00:20<00:00,  2.27it/s]PowerModels.jl does not consider reactive power cost - costs are ignored\n",
      " 98%|█████████▊| 49/50 [00:20<00:00,  2.39it/s]PowerModels.jl does not consider reactive power cost - costs are ignored\n",
      "100%|██████████| 50/50 [00:21<00:00,  1.84it/s]PowerModels.jl does not consider reactive power cost - costs are ignored\n",
      "100%|██████████| 50/50 [00:21<00:00,  2.28it/s]\n"
     ]
    },
    {
     "name": "stdout",
     "output_type": "stream",
     "text": [
      "Strata = 6; Iteration = 29\n"
     ]
    },
    {
     "name": "stderr",
     "output_type": "stream",
     "text": [
      "  0%|          | 0/50 [00:00<?, ?it/s]PowerModels.jl does not consider reactive power cost - costs are ignored\n",
      "  4%|▍         | 2/50 [00:00<00:14,  3.21it/s]PowerModels.jl does not consider reactive power cost - costs are ignored\n",
      "  6%|▌         | 3/50 [00:01<00:18,  2.49it/s]PowerModels.jl does not consider reactive power cost - costs are ignored\n",
      "  8%|▊         | 4/50 [00:01<00:17,  2.61it/s]PowerModels.jl does not consider reactive power cost - costs are ignored\n",
      " 10%|█         | 5/50 [00:01<00:16,  2.74it/s]PowerModels.jl does not consider reactive power cost - costs are ignored\n",
      " 12%|█▏        | 6/50 [00:02<00:14,  2.96it/s]PowerModels.jl does not consider reactive power cost - costs are ignored\n",
      " 14%|█▍        | 7/50 [00:02<00:13,  3.16it/s]PowerModels.jl does not consider reactive power cost - costs are ignored\n",
      " 16%|█▌        | 8/50 [00:02<00:14,  2.88it/s]PowerModels.jl does not consider reactive power cost - costs are ignored\n",
      " 18%|█▊        | 9/50 [00:03<00:14,  2.92it/s]PowerModels.jl does not consider reactive power cost - costs are ignored\n",
      " 20%|██        | 10/50 [00:03<00:13,  3.06it/s]PowerModels.jl does not consider reactive power cost - costs are ignored\n",
      " 22%|██▏       | 11/50 [00:03<00:12,  3.21it/s]PowerModels.jl does not consider reactive power cost - costs are ignored\n",
      " 24%|██▍       | 12/50 [00:03<00:11,  3.30it/s]PowerModels.jl does not consider reactive power cost - costs are ignored\n",
      " 26%|██▌       | 13/50 [00:04<00:10,  3.42it/s]PowerModels.jl does not consider reactive power cost - costs are ignored\n",
      " 28%|██▊       | 14/50 [00:04<00:10,  3.40it/s]PowerModels.jl does not consider reactive power cost - costs are ignored\n",
      " 30%|███       | 15/50 [00:04<00:10,  3.20it/s]PowerModels.jl does not consider reactive power cost - costs are ignored\n",
      " 32%|███▏      | 16/50 [00:05<00:11,  3.05it/s]PowerModels.jl does not consider reactive power cost - costs are ignored\n",
      " 34%|███▍      | 17/50 [00:05<00:10,  3.13it/s]PowerModels.jl does not consider reactive power cost - costs are ignored\n",
      " 36%|███▌      | 18/50 [00:05<00:10,  3.19it/s]PowerModels.jl does not consider reactive power cost - costs are ignored\n",
      " 38%|███▊      | 19/50 [00:06<00:09,  3.29it/s]PowerModels.jl does not consider reactive power cost - costs are ignored\n",
      " 40%|████      | 20/50 [00:06<00:08,  3.38it/s]PowerModels.jl does not consider reactive power cost - costs are ignored\n",
      " 42%|████▏     | 21/50 [00:06<00:08,  3.40it/s]PowerModels.jl does not consider reactive power cost - costs are ignored\n",
      " 44%|████▍     | 22/50 [00:06<00:08,  3.49it/s]PowerModels.jl does not consider reactive power cost - costs are ignored\n",
      " 46%|████▌     | 23/50 [00:07<00:07,  3.50it/s]PowerModels.jl does not consider reactive power cost - costs are ignored\n",
      " 48%|████▊     | 24/50 [00:07<00:07,  3.28it/s]PowerModels.jl does not consider reactive power cost - costs are ignored\n",
      " 50%|█████     | 25/50 [00:07<00:07,  3.29it/s]PowerModels.jl does not consider reactive power cost - costs are ignored\n",
      " 52%|█████▏    | 26/50 [00:08<00:07,  3.25it/s]PowerModels.jl does not consider reactive power cost - costs are ignored\n",
      " 54%|█████▍    | 27/50 [00:08<00:07,  3.22it/s]PowerModels.jl does not consider reactive power cost - costs are ignored\n",
      " 56%|█████▌    | 28/50 [00:08<00:06,  3.25it/s]PowerModels.jl does not consider reactive power cost - costs are ignored\n",
      " 58%|█████▊    | 29/50 [00:09<00:07,  2.98it/s]PowerModels.jl does not consider reactive power cost - costs are ignored\n",
      " 60%|██████    | 30/50 [00:09<00:06,  3.03it/s]PowerModels.jl does not consider reactive power cost - costs are ignored\n",
      " 62%|██████▏   | 31/50 [00:09<00:06,  3.17it/s]PowerModels.jl does not consider reactive power cost - costs are ignored\n",
      " 64%|██████▍   | 32/50 [00:10<00:06,  2.97it/s]PowerModels.jl does not consider reactive power cost - costs are ignored\n",
      " 66%|██████▌   | 33/50 [00:10<00:05,  3.03it/s]PowerModels.jl does not consider reactive power cost - costs are ignored\n",
      " 68%|██████▊   | 34/50 [00:10<00:05,  3.06it/s]PowerModels.jl does not consider reactive power cost - costs are ignored\n",
      " 70%|███████   | 35/50 [00:11<00:04,  3.14it/s]PowerModels.jl does not consider reactive power cost - costs are ignored\n",
      " 72%|███████▏  | 36/50 [00:11<00:04,  3.10it/s]PowerModels.jl does not consider reactive power cost - costs are ignored\n",
      " 74%|███████▍  | 37/50 [00:11<00:04,  3.09it/s]PowerModels.jl does not consider reactive power cost - costs are ignored\n",
      " 76%|███████▌  | 38/50 [00:12<00:03,  3.09it/s]PowerModels.jl does not consider reactive power cost - costs are ignored\n",
      " 78%|███████▊  | 39/50 [00:12<00:03,  2.94it/s]PowerModels.jl does not consider reactive power cost - costs are ignored\n",
      " 80%|████████  | 40/50 [00:12<00:03,  2.94it/s]PowerModels.jl does not consider reactive power cost - costs are ignored\n",
      " 82%|████████▏ | 41/50 [00:13<00:03,  2.83it/s]PowerModels.jl does not consider reactive power cost - costs are ignored\n",
      " 84%|████████▍ | 42/50 [00:13<00:02,  2.92it/s]PowerModels.jl does not consider reactive power cost - costs are ignored\n",
      " 86%|████████▌ | 43/50 [00:13<00:02,  2.99it/s]PowerModels.jl does not consider reactive power cost - costs are ignored\n",
      " 88%|████████▊ | 44/50 [00:14<00:01,  3.08it/s]PowerModels.jl does not consider reactive power cost - costs are ignored\n",
      " 90%|█████████ | 45/50 [00:14<00:01,  3.11it/s]PowerModels.jl does not consider reactive power cost - costs are ignored\n",
      " 92%|█████████▏| 46/50 [00:14<00:01,  3.02it/s]PowerModels.jl does not consider reactive power cost - costs are ignored\n",
      " 94%|█████████▍| 47/50 [00:15<00:01,  2.84it/s]PowerModels.jl does not consider reactive power cost - costs are ignored\n",
      " 96%|█████████▌| 48/50 [00:15<00:00,  2.70it/s]PowerModels.jl does not consider reactive power cost - costs are ignored\n",
      " 98%|█████████▊| 49/50 [00:16<00:00,  2.56it/s]PowerModels.jl does not consider reactive power cost - costs are ignored\n",
      "100%|██████████| 50/50 [00:16<00:00,  2.68it/s]PowerModels.jl does not consider reactive power cost - costs are ignored\n",
      "100%|██████████| 50/50 [00:16<00:00,  2.97it/s]\n"
     ]
    },
    {
     "name": "stdout",
     "output_type": "stream",
     "text": [
      "No output database found.\n",
      "Saving output database...\n",
      "done!\n"
     ]
    }
   ],
   "source": [
    "# time = rx.simulation.Time(timepoints = [0])\n",
    "time = rx.simulation.Time(start = 0, duration = 7)\n",
    "simulation.run(network, iterationSet = None, saveOutput=True, time = None, debug=None, run_type = 'pm_ac_opf', delta = 1e-16)"
   ]
  },
  {
   "cell_type": "code",
   "execution_count": 6,
   "id": "6de84b0b",
   "metadata": {},
   "outputs": [
    {
     "name": "stdout",
     "output_type": "stream",
     "text": [
      "Running iterationSet 0 with timesteps:[1, 8, 11, 15, 20, 21, 23, 26, 32, 43, 44, 49]\n",
      "Strata = 0; Iteration = 0\n"
     ]
    },
    {
     "name": "stderr",
     "output_type": "stream",
     "text": [
      "  0%|          | 0/12 [00:00<?, ?it/s]PowerModels.jl does not consider reactive power cost - costs are ignored\n",
      " 17%|█▋        | 2/12 [00:00<00:03,  2.91it/s]PowerModels.jl does not consider reactive power cost - costs are ignored\n",
      " 25%|██▌       | 3/12 [00:01<00:03,  2.46it/s]PowerModels.jl does not consider reactive power cost - costs are ignored\n",
      " 33%|███▎      | 4/12 [00:01<00:03,  2.17it/s]PowerModels.jl does not consider reactive power cost - costs are ignored\n",
      " 42%|████▏     | 5/12 [00:02<00:03,  2.01it/s]PowerModels.jl does not consider reactive power cost - costs are ignored\n",
      " 50%|█████     | 6/12 [00:02<00:03,  1.96it/s]PowerModels.jl does not consider reactive power cost - costs are ignored\n",
      " 58%|█████▊    | 7/12 [00:03<00:02,  2.02it/s]PowerModels.jl does not consider reactive power cost - costs are ignored\n",
      " 67%|██████▋   | 8/12 [00:03<00:01,  2.22it/s]PowerModels.jl does not consider reactive power cost - costs are ignored\n",
      " 75%|███████▌  | 9/12 [00:03<00:01,  2.45it/s]PowerModels.jl does not consider reactive power cost - costs are ignored\n",
      " 83%|████████▎ | 10/12 [00:04<00:00,  2.49it/s]PowerModels.jl does not consider reactive power cost - costs are ignored\n",
      " 92%|█████████▏| 11/12 [00:04<00:00,  2.35it/s]PowerModels.jl does not consider reactive power cost - costs are ignored\n",
      "100%|██████████| 12/12 [00:05<00:00,  2.15it/s]PowerModels.jl does not consider reactive power cost - costs are ignored\n",
      "100%|██████████| 12/12 [00:05<00:00,  2.10it/s]\n"
     ]
    },
    {
     "name": "stdout",
     "output_type": "stream",
     "text": [
      "No output database found.\n",
      "Saving output database...\n",
      "done!\n",
      "Next\n",
      "Running iterationSet 1 with timesteps:[1, 7, 8, 13, 15, 23, 26, 28, 29, 31, 45]\n",
      "Strata = 0; Iteration = 1\n"
     ]
    },
    {
     "name": "stderr",
     "output_type": "stream",
     "text": [
      "  0%|          | 0/11 [00:00<?, ?it/s]PowerModels.jl does not consider reactive power cost - costs are ignored\n",
      " 18%|█▊        | 2/11 [00:00<00:03,  2.91it/s]PowerModels.jl does not consider reactive power cost - costs are ignored\n",
      " 27%|██▋       | 3/11 [00:01<00:03,  2.62it/s]PowerModels.jl does not consider reactive power cost - costs are ignored\n",
      " 36%|███▋      | 4/11 [00:01<00:02,  2.38it/s]PowerModels.jl does not consider reactive power cost - costs are ignored\n",
      " 45%|████▌     | 5/11 [00:02<00:02,  2.13it/s]PowerModels.jl does not consider reactive power cost - costs are ignored\n",
      " 55%|█████▍    | 6/11 [00:02<00:02,  2.05it/s]PowerModels.jl does not consider reactive power cost - costs are ignored\n",
      " 64%|██████▎   | 7/11 [00:03<00:01,  2.22it/s]PowerModels.jl does not consider reactive power cost - costs are ignored\n",
      " 73%|███████▎  | 8/11 [00:03<00:01,  2.47it/s]PowerModels.jl does not consider reactive power cost - costs are ignored\n",
      " 82%|████████▏ | 9/11 [00:03<00:00,  2.71it/s]PowerModels.jl does not consider reactive power cost - costs are ignored\n",
      " 91%|█████████ | 10/11 [00:03<00:00,  2.89it/s]PowerModels.jl does not consider reactive power cost - costs are ignored\n",
      "100%|██████████| 11/11 [00:04<00:00,  2.84it/s]PowerModels.jl does not consider reactive power cost - costs are ignored\n",
      "100%|██████████| 11/11 [00:04<00:00,  2.22it/s]\n"
     ]
    },
    {
     "name": "stdout",
     "output_type": "stream",
     "text": [
      "Appending to output database...\n",
      "Next\n",
      "Running iterationSet 2 with timesteps:[1, 15, 46]\n",
      "Strata = 0; Iteration = 2\n"
     ]
    },
    {
     "name": "stderr",
     "output_type": "stream",
     "text": [
      "  0%|          | 0/3 [00:00<?, ?it/s]PowerModels.jl does not consider reactive power cost - costs are ignored\n",
      " 67%|██████▋   | 2/3 [00:00<00:00,  3.01it/s]PowerModels.jl does not consider reactive power cost - costs are ignored\n",
      "100%|██████████| 3/3 [00:01<00:00,  2.33it/s]PowerModels.jl does not consider reactive power cost - costs are ignored\n",
      "100%|██████████| 3/3 [00:01<00:00,  1.67it/s]\n"
     ]
    },
    {
     "name": "stdout",
     "output_type": "stream",
     "text": [
      "Appending to output database...\n",
      "Next\n",
      "Running iterationSet 3 with timesteps:[4, 7, 9, 12, 16, 19, 25, 30, 34, 35, 37, 38, 42, 46]\n",
      "Strata = 0; Iteration = 3\n"
     ]
    },
    {
     "name": "stderr",
     "output_type": "stream",
     "text": [
      "  0%|          | 0/14 [00:00<?, ?it/s]PowerModels.jl does not consider reactive power cost - costs are ignored\n",
      " 14%|█▍        | 2/14 [00:00<00:02,  4.13it/s]PowerModels.jl does not consider reactive power cost - costs are ignored\n",
      " 21%|██▏       | 3/14 [00:00<00:03,  3.12it/s]PowerModels.jl does not consider reactive power cost - costs are ignored\n",
      " 29%|██▊       | 4/14 [00:01<00:03,  2.76it/s]PowerModels.jl does not consider reactive power cost - costs are ignored\n",
      " 36%|███▌      | 5/14 [00:01<00:03,  2.46it/s]PowerModels.jl does not consider reactive power cost - costs are ignored\n",
      " 43%|████▎     | 6/14 [00:02<00:04,  1.90it/s]PowerModels.jl does not consider reactive power cost - costs are ignored\n",
      " 50%|█████     | 7/14 [00:03<00:03,  1.95it/s]PowerModels.jl does not consider reactive power cost - costs are ignored\n",
      " 57%|█████▋    | 8/14 [00:03<00:03,  1.93it/s]PowerModels.jl does not consider reactive power cost - costs are ignored\n",
      " 64%|██████▍   | 9/14 [00:03<00:02,  2.22it/s]PowerModels.jl does not consider reactive power cost - costs are ignored\n",
      " 71%|███████▏  | 10/14 [00:04<00:01,  2.47it/s]PowerModels.jl does not consider reactive power cost - costs are ignored\n",
      " 79%|███████▊  | 11/14 [00:04<00:01,  2.26it/s]PowerModels.jl does not consider reactive power cost - costs are ignored\n",
      " 86%|████████▌ | 12/14 [00:05<00:01,  1.97it/s]PowerModels.jl does not consider reactive power cost - costs are ignored\n",
      " 93%|█████████▎| 13/14 [00:05<00:00,  1.96it/s]PowerModels.jl does not consider reactive power cost - costs are ignored\n",
      "100%|██████████| 14/14 [00:06<00:00,  1.98it/s]PowerModels.jl does not consider reactive power cost - costs are ignored\n",
      "100%|██████████| 14/14 [00:06<00:00,  2.02it/s]\n"
     ]
    },
    {
     "name": "stdout",
     "output_type": "stream",
     "text": [
      "Appending to output database...\n",
      "Next\n",
      "Running iterationSet 4 with timesteps:[18, 21, 31, 33, 34, 43, 45, 47]\n",
      "Strata = 1; Iteration = 4\n"
     ]
    },
    {
     "name": "stderr",
     "output_type": "stream",
     "text": [
      "  0%|          | 0/8 [00:00<?, ?it/s]PowerModels.jl does not consider reactive power cost - costs are ignored\n",
      " 25%|██▌       | 2/8 [00:00<00:01,  4.13it/s]PowerModels.jl does not consider reactive power cost - costs are ignored\n",
      " 38%|███▊      | 3/8 [00:01<00:01,  2.80it/s]PowerModels.jl does not consider reactive power cost - costs are ignored\n",
      " 50%|█████     | 4/8 [00:01<00:01,  2.93it/s]PowerModels.jl does not consider reactive power cost - costs are ignored\n",
      " 62%|██████▎   | 5/8 [00:01<00:00,  3.09it/s]PowerModels.jl does not consider reactive power cost - costs are ignored\n",
      " 75%|███████▌  | 6/8 [00:01<00:00,  3.20it/s]PowerModels.jl does not consider reactive power cost - costs are ignored\n",
      " 88%|████████▊ | 7/8 [00:02<00:00,  2.68it/s]PowerModels.jl does not consider reactive power cost - costs are ignored\n",
      "100%|██████████| 8/8 [00:03<00:00,  2.19it/s]PowerModels.jl does not consider reactive power cost - costs are ignored\n",
      "100%|██████████| 8/8 [00:04<00:00,  1.82it/s]\n"
     ]
    },
    {
     "name": "stdout",
     "output_type": "stream",
     "text": [
      "Appending to output database...\n",
      "Next\n",
      "Running iterationSet 5 with timesteps:[2, 9, 10, 16, 34, 36, 43, 45, 48]\n",
      "Strata = 1; Iteration = 5\n"
     ]
    },
    {
     "name": "stderr",
     "output_type": "stream",
     "text": [
      "  0%|          | 0/9 [00:00<?, ?it/s]PowerModels.jl does not consider reactive power cost - costs are ignored\n",
      " 22%|██▏       | 2/9 [00:00<00:01,  6.20it/s]PowerModels.jl does not consider reactive power cost - costs are ignored\n",
      " 33%|███▎      | 3/9 [00:00<00:02,  2.98it/s]PowerModels.jl does not consider reactive power cost - costs are ignored\n",
      " 44%|████▍     | 4/9 [00:01<00:01,  3.11it/s]PowerModels.jl does not consider reactive power cost - costs are ignored\n",
      " 56%|█████▌    | 5/9 [00:01<00:01,  2.16it/s]PowerModels.jl does not consider reactive power cost - costs are ignored\n",
      " 67%|██████▋   | 6/9 [00:02<00:01,  2.34it/s]PowerModels.jl does not consider reactive power cost - costs are ignored\n",
      " 78%|███████▊  | 7/9 [00:03<00:01,  1.38it/s]PowerModels.jl does not consider reactive power cost - costs are ignored\n",
      " 89%|████████▉ | 8/9 [00:04<00:00,  1.59it/s]PowerModels.jl does not consider reactive power cost - costs are ignored\n",
      "100%|██████████| 9/9 [00:04<00:00,  1.61it/s]PowerModels.jl does not consider reactive power cost - costs are ignored\n",
      "100%|██████████| 9/9 [00:05<00:00,  1.76it/s]\n"
     ]
    },
    {
     "name": "stdout",
     "output_type": "stream",
     "text": [
      "Appending to output database...\n",
      "Next\n",
      "Running iterationSet 6 with timesteps:[5, 7, 12, 17, 22, 40, 47]\n",
      "Strata = 1; Iteration = 6\n"
     ]
    },
    {
     "name": "stderr",
     "output_type": "stream",
     "text": [
      "  0%|          | 0/7 [00:00<?, ?it/s]PowerModels.jl does not consider reactive power cost - costs are ignored\n",
      " 29%|██▊       | 2/7 [00:00<00:00,  7.07it/s]PowerModels.jl does not consider reactive power cost - costs are ignored\n",
      " 43%|████▎     | 3/7 [00:00<00:01,  3.80it/s]PowerModels.jl does not consider reactive power cost - costs are ignored\n",
      " 57%|█████▋    | 4/7 [00:01<00:00,  3.01it/s]PowerModels.jl does not consider reactive power cost - costs are ignored\n",
      " 71%|███████▏  | 5/7 [00:01<00:00,  2.81it/s]PowerModels.jl does not consider reactive power cost - costs are ignored\n",
      " 86%|████████▌ | 6/7 [00:02<00:00,  2.51it/s]PowerModels.jl does not consider reactive power cost - costs are ignored\n",
      "100%|██████████| 7/7 [00:02<00:00,  2.41it/s]PowerModels.jl does not consider reactive power cost - costs are ignored\n",
      "100%|██████████| 7/7 [00:03<00:00,  1.82it/s]\n"
     ]
    },
    {
     "name": "stdout",
     "output_type": "stream",
     "text": [
      "Appending to output database...\n",
      "Next\n",
      "Running iterationSet 7 with timesteps:[1, 4, 15, 26, 27, 36, 40, 46, 48, 49]\n",
      "Strata = 1; Iteration = 7\n"
     ]
    },
    {
     "name": "stderr",
     "output_type": "stream",
     "text": [
      "  0%|          | 0/10 [00:00<?, ?it/s]PowerModels.jl does not consider reactive power cost - costs are ignored\n",
      " 20%|██        | 2/10 [00:00<00:02,  3.26it/s]PowerModels.jl does not consider reactive power cost - costs are ignored\n",
      " 30%|███       | 3/10 [00:01<00:02,  2.63it/s]PowerModels.jl does not consider reactive power cost - costs are ignored\n",
      " 40%|████      | 4/10 [00:01<00:02,  2.32it/s]PowerModels.jl does not consider reactive power cost - costs are ignored\n",
      " 50%|█████     | 5/10 [00:01<00:01,  2.63it/s]PowerModels.jl does not consider reactive power cost - costs are ignored\n",
      " 60%|██████    | 6/10 [00:02<00:01,  2.84it/s]PowerModels.jl does not consider reactive power cost - costs are ignored\n",
      " 70%|███████   | 7/10 [00:03<00:01,  1.55it/s]PowerModels.jl does not consider reactive power cost - costs are ignored\n",
      " 80%|████████  | 8/10 [00:03<00:01,  1.74it/s]PowerModels.jl does not consider reactive power cost - costs are ignored\n",
      " 90%|█████████ | 9/10 [00:04<00:00,  1.80it/s]PowerModels.jl does not consider reactive power cost - costs are ignored\n",
      "100%|██████████| 10/10 [00:04<00:00,  1.95it/s]PowerModels.jl does not consider reactive power cost - costs are ignored\n",
      "100%|██████████| 10/10 [00:05<00:00,  1.96it/s]\n"
     ]
    },
    {
     "name": "stdout",
     "output_type": "stream",
     "text": [
      "Appending to output database...\n",
      "Next\n",
      "Running iterationSet 8 with timesteps:[0, 10, 20, 30, 32, 34, 36, 47, 49]\n",
      "Strata = 2; Iteration = 8\n"
     ]
    },
    {
     "name": "stderr",
     "output_type": "stream",
     "text": [
      "  0%|          | 0/9 [00:00<?, ?it/s]PowerModels.jl does not consider reactive power cost - costs are ignored\n",
      " 22%|██▏       | 2/9 [00:00<00:01,  4.00it/s]PowerModels.jl does not consider reactive power cost - costs are ignored\n",
      " 33%|███▎      | 3/9 [00:00<00:01,  3.12it/s]PowerModels.jl does not consider reactive power cost - costs are ignored\n",
      " 44%|████▍     | 4/9 [00:01<00:01,  2.62it/s]PowerModels.jl does not consider reactive power cost - costs are ignored\n",
      " 56%|█████▌    | 5/9 [00:01<00:01,  2.78it/s]PowerModels.jl does not consider reactive power cost - costs are ignored\n",
      " 67%|██████▋   | 6/9 [00:02<00:01,  2.80it/s]PowerModels.jl does not consider reactive power cost - costs are ignored\n",
      " 78%|███████▊  | 7/9 [00:02<00:00,  2.87it/s]PowerModels.jl does not consider reactive power cost - costs are ignored\n",
      " 89%|████████▉ | 8/9 [00:03<00:00,  1.45it/s]PowerModels.jl does not consider reactive power cost - costs are ignored\n",
      "100%|██████████| 9/9 [00:05<00:00,  1.09it/s]PowerModels.jl does not consider reactive power cost - costs are ignored\n",
      "100%|██████████| 9/9 [00:05<00:00,  1.61it/s]\n"
     ]
    },
    {
     "name": "stdout",
     "output_type": "stream",
     "text": [
      "Appending to output database...\n",
      "Next\n",
      "Running iterationSet 9 with timesteps:[12, 22, 23, 24, 26, 33, 35, 45, 47]\n",
      "Strata = 2; Iteration = 9\n"
     ]
    },
    {
     "name": "stderr",
     "output_type": "stream",
     "text": [
      "  0%|          | 0/9 [00:00<?, ?it/s]PowerModels.jl does not consider reactive power cost - costs are ignored\n",
      " 22%|██▏       | 2/9 [00:00<00:01,  4.03it/s]PowerModels.jl does not consider reactive power cost - costs are ignored\n",
      " 33%|███▎      | 3/9 [00:01<00:02,  2.57it/s]PowerModels.jl does not consider reactive power cost - costs are ignored\n",
      " 44%|████▍     | 4/9 [00:01<00:01,  2.57it/s]PowerModels.jl does not consider reactive power cost - costs are ignored\n",
      " 56%|█████▌    | 5/9 [00:01<00:01,  2.51it/s]PowerModels.jl does not consider reactive power cost - costs are ignored\n",
      " 67%|██████▋   | 6/9 [00:02<00:01,  2.69it/s]PowerModels.jl does not consider reactive power cost - costs are ignored\n",
      " 78%|███████▊  | 7/9 [00:02<00:00,  2.85it/s]PowerModels.jl does not consider reactive power cost - costs are ignored\n",
      " 89%|████████▉ | 8/9 [00:03<00:00,  2.53it/s]PowerModels.jl does not consider reactive power cost - costs are ignored\n",
      "100%|██████████| 9/9 [00:03<00:00,  1.96it/s]PowerModels.jl does not consider reactive power cost - costs are ignored\n",
      "100%|██████████| 9/9 [00:05<00:00,  1.73it/s]\n"
     ]
    },
    {
     "name": "stdout",
     "output_type": "stream",
     "text": [
      "Appending to output database...\n",
      "Next\n",
      "Running iterationSet 10 with timesteps:[1, 23, 30, 31, 38, 40, 43, 46, 47]\n",
      "Strata = 2; Iteration = 10\n"
     ]
    },
    {
     "name": "stderr",
     "output_type": "stream",
     "text": [
      "  0%|          | 0/9 [00:00<?, ?it/s]PowerModels.jl does not consider reactive power cost - costs are ignored\n",
      " 22%|██▏       | 2/9 [00:00<00:02,  3.01it/s]PowerModels.jl does not consider reactive power cost - costs are ignored\n",
      " 33%|███▎      | 3/9 [00:01<00:02,  2.97it/s]PowerModels.jl does not consider reactive power cost - costs are ignored\n",
      " 44%|████▍     | 4/9 [00:01<00:01,  3.13it/s]PowerModels.jl does not consider reactive power cost - costs are ignored\n",
      " 56%|█████▌    | 5/9 [00:01<00:01,  2.96it/s]PowerModels.jl does not consider reactive power cost - costs are ignored\n",
      " 67%|██████▋   | 6/9 [00:02<00:01,  2.46it/s]PowerModels.jl does not consider reactive power cost - costs are ignored\n",
      " 78%|███████▊  | 7/9 [00:02<00:00,  2.41it/s]PowerModels.jl does not consider reactive power cost - costs are ignored\n",
      " 89%|████████▉ | 8/9 [00:03<00:00,  2.27it/s]PowerModels.jl does not consider reactive power cost - costs are ignored\n",
      "100%|██████████| 9/9 [00:03<00:00,  2.16it/s]PowerModels.jl does not consider reactive power cost - costs are ignored\n",
      "100%|██████████| 9/9 [00:04<00:00,  1.82it/s]\n"
     ]
    },
    {
     "name": "stdout",
     "output_type": "stream",
     "text": [
      "Appending to output database...\n",
      "Next\n",
      "Running iterationSet 11 with timesteps:[19, 22, 24, 28, 32, 33, 40]\n",
      "Strata = 2; Iteration = 11\n"
     ]
    },
    {
     "name": "stderr",
     "output_type": "stream",
     "text": [
      "  0%|          | 0/7 [00:00<?, ?it/s]PowerModels.jl does not consider reactive power cost - costs are ignored\n",
      " 29%|██▊       | 2/7 [00:00<00:01,  3.36it/s]PowerModels.jl does not consider reactive power cost - costs are ignored\n",
      " 43%|████▎     | 3/7 [00:01<00:01,  2.51it/s]PowerModels.jl does not consider reactive power cost - costs are ignored\n",
      " 57%|█████▋    | 4/7 [00:01<00:01,  2.81it/s]PowerModels.jl does not consider reactive power cost - costs are ignored\n",
      " 71%|███████▏  | 5/7 [00:01<00:00,  2.87it/s]PowerModels.jl does not consider reactive power cost - costs are ignored\n",
      " 86%|████████▌ | 6/7 [00:02<00:00,  2.80it/s]PowerModels.jl does not consider reactive power cost - costs are ignored\n",
      "100%|██████████| 7/7 [00:02<00:00,  2.93it/s]PowerModels.jl does not consider reactive power cost - costs are ignored\n",
      "100%|██████████| 7/7 [00:02<00:00,  2.45it/s]\n"
     ]
    },
    {
     "name": "stdout",
     "output_type": "stream",
     "text": [
      "Appending to output database...\n",
      "Next\n",
      "Running iterationSet 12 with timesteps:[0, 3, 4, 20, 24, 37, 40, 44, 45, 48]\n",
      "Strata = 3; Iteration = 12\n"
     ]
    },
    {
     "name": "stderr",
     "output_type": "stream",
     "text": [
      "  0%|          | 0/10 [00:00<?, ?it/s]PowerModels.jl does not consider reactive power cost - costs are ignored\n",
      " 20%|██        | 2/10 [00:00<00:02,  3.67it/s]PowerModels.jl does not consider reactive power cost - costs are ignored\n",
      " 30%|███       | 3/10 [00:01<00:04,  1.69it/s]PowerModels.jl does not consider reactive power cost - costs are ignored\n",
      " 40%|████      | 4/10 [00:02<00:03,  1.70it/s]PowerModels.jl does not consider reactive power cost - costs are ignored\n",
      " 50%|█████     | 5/10 [00:02<00:02,  1.81it/s]PowerModels.jl does not consider reactive power cost - costs are ignored\n",
      " 60%|██████    | 6/10 [00:02<00:01,  2.17it/s]PowerModels.jl does not consider reactive power cost - costs are ignored\n",
      " 70%|███████   | 7/10 [00:03<00:01,  1.76it/s]PowerModels.jl does not consider reactive power cost - costs are ignored\n",
      " 80%|████████  | 8/10 [00:04<00:01,  1.87it/s]PowerModels.jl does not consider reactive power cost - costs are ignored\n",
      " 90%|█████████ | 9/10 [00:04<00:00,  1.81it/s]PowerModels.jl does not consider reactive power cost - costs are ignored\n",
      "100%|██████████| 10/10 [00:05<00:00,  1.73it/s]PowerModels.jl does not consider reactive power cost - costs are ignored\n",
      "100%|██████████| 10/10 [00:05<00:00,  1.70it/s]\n"
     ]
    },
    {
     "name": "stdout",
     "output_type": "stream",
     "text": [
      "Appending to output database...\n",
      "Next\n",
      "Running iterationSet 13 with timesteps:[12, 15, 23, 24, 31, 36, 43, 45, 46]\n",
      "Strata = 3; Iteration = 13\n"
     ]
    },
    {
     "name": "stderr",
     "output_type": "stream",
     "text": [
      "  0%|          | 0/9 [00:00<?, ?it/s]PowerModels.jl does not consider reactive power cost - costs are ignored\n",
      " 22%|██▏       | 2/9 [00:00<00:01,  4.35it/s]PowerModels.jl does not consider reactive power cost - costs are ignored\n",
      " 33%|███▎      | 3/9 [00:00<00:01,  3.24it/s]PowerModels.jl does not consider reactive power cost - costs are ignored\n",
      " 44%|████▍     | 4/9 [00:01<00:01,  3.13it/s]PowerModels.jl does not consider reactive power cost - costs are ignored\n",
      " 56%|█████▌    | 5/9 [00:01<00:01,  3.27it/s]PowerModels.jl does not consider reactive power cost - costs are ignored\n",
      " 67%|██████▋   | 6/9 [00:01<00:00,  3.10it/s]PowerModels.jl does not consider reactive power cost - costs are ignored\n",
      " 78%|███████▊  | 7/9 [00:03<00:01,  1.46it/s]PowerModels.jl does not consider reactive power cost - costs are ignored\n",
      " 89%|████████▉ | 8/9 [00:03<00:00,  1.68it/s]PowerModels.jl does not consider reactive power cost - costs are ignored\n",
      "100%|██████████| 9/9 [00:04<00:00,  1.66it/s]PowerModels.jl does not consider reactive power cost - costs are ignored\n",
      "100%|██████████| 9/9 [00:04<00:00,  1.86it/s]\n"
     ]
    },
    {
     "name": "stdout",
     "output_type": "stream",
     "text": [
      "Appending to output database...\n",
      "Next\n",
      "Running iterationSet 14 with timesteps:[13, 15, 21, 22, 26, 33, 38, 48]\n",
      "Strata = 3; Iteration = 14\n"
     ]
    },
    {
     "name": "stderr",
     "output_type": "stream",
     "text": [
      "  0%|          | 0/8 [00:00<?, ?it/s]PowerModels.jl does not consider reactive power cost - costs are ignored\n",
      " 25%|██▌       | 2/8 [00:00<00:01,  5.19it/s]PowerModels.jl does not consider reactive power cost - costs are ignored\n",
      " 38%|███▊      | 3/8 [00:00<00:01,  3.88it/s]PowerModels.jl does not consider reactive power cost - costs are ignored\n",
      " 50%|█████     | 4/8 [00:01<00:01,  3.19it/s]PowerModels.jl does not consider reactive power cost - costs are ignored\n",
      " 62%|██████▎   | 5/8 [00:01<00:01,  2.91it/s]PowerModels.jl does not consider reactive power cost - costs are ignored\n",
      " 75%|███████▌  | 6/8 [00:01<00:00,  3.11it/s]PowerModels.jl does not consider reactive power cost - costs are ignored\n",
      " 88%|████████▊ | 7/8 [00:02<00:00,  3.21it/s]PowerModels.jl does not consider reactive power cost - costs are ignored\n",
      "100%|██████████| 8/8 [00:02<00:00,  2.57it/s]PowerModels.jl does not consider reactive power cost - costs are ignored\n",
      "100%|██████████| 8/8 [00:03<00:00,  2.59it/s]\n"
     ]
    },
    {
     "name": "stdout",
     "output_type": "stream",
     "text": [
      "Appending to output database...\n",
      "Next\n",
      "Running iterationSet 15 with timesteps:[0, 2, 9, 10, 17, 18, 24, 33, 34, 39, 47, 48]\n",
      "Strata = 3; Iteration = 15\n"
     ]
    },
    {
     "name": "stderr",
     "output_type": "stream",
     "text": [
      "  0%|          | 0/12 [00:00<?, ?it/s]PowerModels.jl does not consider reactive power cost - costs are ignored\n",
      " 17%|█▋        | 2/12 [00:00<00:02,  4.32it/s]PowerModels.jl does not consider reactive power cost - costs are ignored\n",
      " 25%|██▌       | 3/12 [00:00<00:02,  4.03it/s]PowerModels.jl does not consider reactive power cost - costs are ignored\n",
      " 33%|███▎      | 4/12 [00:01<00:02,  3.54it/s]PowerModels.jl does not consider reactive power cost - costs are ignored\n",
      " 42%|████▏     | 5/12 [00:01<00:02,  3.31it/s]PowerModels.jl does not consider reactive power cost - costs are ignored\n",
      " 50%|█████     | 6/12 [00:01<00:01,  3.20it/s]PowerModels.jl does not consider reactive power cost - costs are ignored\n",
      " 58%|█████▊    | 7/12 [00:02<00:01,  3.30it/s]PowerModels.jl does not consider reactive power cost - costs are ignored\n",
      " 67%|██████▋   | 8/12 [00:02<00:01,  2.82it/s]PowerModels.jl does not consider reactive power cost - costs are ignored\n",
      " 75%|███████▌  | 9/12 [00:02<00:00,  3.01it/s]PowerModels.jl does not consider reactive power cost - costs are ignored\n",
      " 83%|████████▎ | 10/12 [00:03<00:00,  2.35it/s]PowerModels.jl does not consider reactive power cost - costs are ignored\n",
      " 92%|█████████▏| 11/12 [00:04<00:00,  1.41it/s]PowerModels.jl does not consider reactive power cost - costs are ignored\n",
      "100%|██████████| 12/12 [00:05<00:00,  1.17it/s]PowerModels.jl does not consider reactive power cost - costs are ignored\n",
      "100%|██████████| 12/12 [00:06<00:00,  1.88it/s]\n"
     ]
    },
    {
     "name": "stdout",
     "output_type": "stream",
     "text": [
      "Appending to output database...\n",
      "Next\n",
      "Running iterationSet 16 with timesteps:[9, 13, 15, 20, 23, 28, 32, 33, 37, 42, 43, 45]\n",
      "Strata = 4; Iteration = 16\n"
     ]
    },
    {
     "name": "stderr",
     "output_type": "stream",
     "text": [
      "  0%|          | 0/12 [00:00<?, ?it/s]PowerModels.jl does not consider reactive power cost - costs are ignored\n",
      " 17%|█▋        | 2/12 [00:00<00:01,  8.62it/s]PowerModels.jl does not consider reactive power cost - costs are ignored\n",
      " 25%|██▌       | 3/12 [00:00<00:02,  4.13it/s]PowerModels.jl does not consider reactive power cost - costs are ignored\n",
      " 33%|███▎      | 4/12 [00:00<00:02,  3.88it/s]PowerModels.jl does not consider reactive power cost - costs are ignored\n",
      " 42%|████▏     | 5/12 [00:01<00:01,  3.66it/s]PowerModels.jl does not consider reactive power cost - costs are ignored\n",
      " 50%|█████     | 6/12 [00:01<00:01,  3.70it/s]PowerModels.jl does not consider reactive power cost - costs are ignored\n",
      " 58%|█████▊    | 7/12 [00:01<00:01,  3.31it/s]PowerModels.jl does not consider reactive power cost - costs are ignored\n",
      " 67%|██████▋   | 8/12 [00:02<00:01,  2.87it/s]PowerModels.jl does not consider reactive power cost - costs are ignored\n",
      " 75%|███████▌  | 9/12 [00:02<00:00,  3.13it/s]PowerModels.jl does not consider reactive power cost - costs are ignored\n",
      " 83%|████████▎ | 10/12 [00:03<00:00,  2.79it/s]PowerModels.jl does not consider reactive power cost - costs are ignored\n",
      " 92%|█████████▏| 11/12 [00:03<00:00,  2.56it/s]PowerModels.jl does not consider reactive power cost - costs are ignored\n",
      "100%|██████████| 12/12 [00:03<00:00,  2.54it/s]PowerModels.jl does not consider reactive power cost - costs are ignored\n",
      "100%|██████████| 12/12 [00:04<00:00,  2.81it/s]\n"
     ]
    },
    {
     "name": "stdout",
     "output_type": "stream",
     "text": [
      "Appending to output database...\n",
      "Next\n",
      "Running iterationSet 17 with timesteps:[8, 18, 19, 22, 30, 38, 39, 46]\n",
      "Strata = 4; Iteration = 17\n"
     ]
    },
    {
     "name": "stderr",
     "output_type": "stream",
     "text": [
      "  0%|          | 0/8 [00:00<?, ?it/s]PowerModels.jl does not consider reactive power cost - costs are ignored\n",
      " 25%|██▌       | 2/8 [00:00<00:00,  9.98it/s]PowerModels.jl does not consider reactive power cost - costs are ignored\n",
      " 38%|███▊      | 3/8 [00:00<00:01,  4.56it/s]PowerModels.jl does not consider reactive power cost - costs are ignored\n",
      " 50%|█████     | 4/8 [00:00<00:01,  3.91it/s]PowerModels.jl does not consider reactive power cost - costs are ignored\n",
      " 62%|██████▎   | 5/8 [00:01<00:00,  3.61it/s]PowerModels.jl does not consider reactive power cost - costs are ignored\n",
      " 75%|███████▌  | 6/8 [00:01<00:00,  3.23it/s]PowerModels.jl does not consider reactive power cost - costs are ignored\n",
      " 88%|████████▊ | 7/8 [00:01<00:00,  3.43it/s]PowerModels.jl does not consider reactive power cost - costs are ignored\n",
      "100%|██████████| 8/8 [00:02<00:00,  3.38it/s]PowerModels.jl does not consider reactive power cost - costs are ignored\n",
      "100%|██████████| 8/8 [00:02<00:00,  3.30it/s]\n"
     ]
    },
    {
     "name": "stdout",
     "output_type": "stream",
     "text": [
      "Appending to output database...\n",
      "Next\n",
      "Running iterationSet 18 with timesteps:[3, 8, 9, 17, 21, 23, 28, 31, 35, 38, 42, 43, 49]\n",
      "Strata = 4; Iteration = 18\n"
     ]
    },
    {
     "name": "stderr",
     "output_type": "stream",
     "text": [
      "  0%|          | 0/13 [00:00<?, ?it/s]PowerModels.jl does not consider reactive power cost - costs are ignored\n",
      " 15%|█▌        | 2/13 [00:00<00:01,  5.66it/s]PowerModels.jl does not consider reactive power cost - costs are ignored\n",
      " 23%|██▎       | 3/13 [00:00<00:02,  4.04it/s]PowerModels.jl does not consider reactive power cost - costs are ignored\n",
      " 31%|███       | 4/13 [00:01<00:02,  3.28it/s]PowerModels.jl does not consider reactive power cost - costs are ignored\n",
      " 38%|███▊      | 5/13 [00:01<00:02,  3.23it/s]PowerModels.jl does not consider reactive power cost - costs are ignored\n",
      " 46%|████▌     | 6/13 [00:01<00:02,  2.81it/s]PowerModels.jl does not consider reactive power cost - costs are ignored\n",
      " 54%|█████▍    | 7/13 [00:02<00:02,  2.67it/s]PowerModels.jl does not consider reactive power cost - costs are ignored\n",
      " 62%|██████▏   | 8/13 [00:07<00:09,  1.93s/it]PowerModels.jl does not consider reactive power cost - costs are ignored\n",
      " 69%|██████▉   | 9/13 [00:07<00:05,  1.42s/it]PowerModels.jl does not consider reactive power cost - costs are ignored\n",
      " 77%|███████▋  | 10/13 [00:08<00:03,  1.07s/it]PowerModels.jl does not consider reactive power cost - costs are ignored\n",
      " 85%|████████▍ | 11/13 [00:08<00:01,  1.17it/s]PowerModels.jl does not consider reactive power cost - costs are ignored\n",
      " 92%|█████████▏| 12/13 [00:09<00:00,  1.33it/s]PowerModels.jl does not consider reactive power cost - costs are ignored\n",
      "100%|██████████| 13/13 [00:09<00:00,  1.64it/s]PowerModels.jl does not consider reactive power cost - costs are ignored\n",
      "100%|██████████| 13/13 [00:09<00:00,  1.33it/s]\n"
     ]
    },
    {
     "name": "stdout",
     "output_type": "stream",
     "text": [
      "Appending to output database...\n",
      "Next\n",
      "Running iterationSet 19 with timesteps:[17, 26, 32, 37, 44, 49]\n",
      "Strata = 4; Iteration = 19\n"
     ]
    },
    {
     "name": "stderr",
     "output_type": "stream",
     "text": [
      "  0%|          | 0/6 [00:00<?, ?it/s]PowerModels.jl does not consider reactive power cost - costs are ignored\n",
      " 33%|███▎      | 2/6 [00:00<00:00,  5.44it/s]PowerModels.jl does not consider reactive power cost - costs are ignored\n",
      " 50%|█████     | 3/6 [00:00<00:00,  4.18it/s]PowerModels.jl does not consider reactive power cost - costs are ignored\n",
      " 67%|██████▋   | 4/6 [00:01<00:00,  3.03it/s]PowerModels.jl does not consider reactive power cost - costs are ignored\n",
      " 83%|████████▎ | 5/6 [00:01<00:00,  2.29it/s]PowerModels.jl does not consider reactive power cost - costs are ignored\n",
      "100%|██████████| 6/6 [00:02<00:00,  2.08it/s]PowerModels.jl does not consider reactive power cost - costs are ignored\n",
      "100%|██████████| 6/6 [00:02<00:00,  2.25it/s]\n"
     ]
    },
    {
     "name": "stdout",
     "output_type": "stream",
     "text": [
      "Appending to output database...\n",
      "Next\n",
      "Running iterationSet 20 with timesteps:[2, 3, 4, 9, 12, 15, 17, 27, 31, 35, 41, 45]\n",
      "Strata = 4; Iteration = 20\n"
     ]
    },
    {
     "name": "stderr",
     "output_type": "stream",
     "text": [
      "  0%|          | 0/12 [00:00<?, ?it/s]PowerModels.jl does not consider reactive power cost - costs are ignored\n",
      " 17%|█▋        | 2/12 [00:00<00:01,  6.29it/s]PowerModels.jl does not consider reactive power cost - costs are ignored\n",
      " 25%|██▌       | 3/12 [00:00<00:01,  5.28it/s]PowerModels.jl does not consider reactive power cost - costs are ignored\n",
      " 33%|███▎      | 4/12 [00:01<00:02,  3.14it/s]PowerModels.jl does not consider reactive power cost - costs are ignored\n",
      " 42%|████▏     | 5/12 [00:01<00:03,  2.24it/s]PowerModels.jl does not consider reactive power cost - costs are ignored\n",
      " 50%|█████     | 6/12 [00:02<00:02,  2.06it/s]PowerModels.jl does not consider reactive power cost - costs are ignored\n",
      " 58%|█████▊    | 7/12 [00:02<00:02,  2.23it/s]PowerModels.jl does not consider reactive power cost - costs are ignored\n",
      " 67%|██████▋   | 8/12 [00:03<00:01,  2.35it/s]PowerModels.jl does not consider reactive power cost - costs are ignored\n",
      " 75%|███████▌  | 9/12 [00:07<00:05,  1.79s/it]PowerModels.jl does not consider reactive power cost - costs are ignored\n",
      " 83%|████████▎ | 10/12 [00:08<00:02,  1.33s/it]PowerModels.jl does not consider reactive power cost - costs are ignored\n",
      " 92%|█████████▏| 11/12 [00:08<00:01,  1.00s/it]PowerModels.jl does not consider reactive power cost - costs are ignored\n",
      "100%|██████████| 12/12 [00:08<00:00,  1.23it/s]PowerModels.jl does not consider reactive power cost - costs are ignored\n",
      "100%|██████████| 12/12 [00:09<00:00,  1.30it/s]\n"
     ]
    },
    {
     "name": "stdout",
     "output_type": "stream",
     "text": [
      "Appending to output database...\n",
      "Next\n",
      "Running iterationSet 21 with timesteps:[8, 9, 20, 22, 27, 35, 40, 44, 49]\n",
      "Strata = 4; Iteration = 21\n"
     ]
    },
    {
     "name": "stderr",
     "output_type": "stream",
     "text": [
      "  0%|          | 0/9 [00:00<?, ?it/s]PowerModels.jl does not consider reactive power cost - costs are ignored\n",
      " 22%|██▏       | 2/9 [00:00<00:01,  5.76it/s]PowerModels.jl does not consider reactive power cost - costs are ignored\n",
      " 33%|███▎      | 3/9 [00:00<00:01,  4.60it/s]PowerModels.jl does not consider reactive power cost - costs are ignored\n",
      " 44%|████▍     | 4/9 [00:01<00:01,  3.57it/s]PowerModels.jl does not consider reactive power cost - costs are ignored\n",
      " 56%|█████▌    | 5/9 [00:01<00:01,  3.05it/s]PowerModels.jl does not consider reactive power cost - costs are ignored\n",
      " 67%|██████▋   | 6/9 [00:01<00:00,  3.04it/s]PowerModels.jl does not consider reactive power cost - costs are ignored\n",
      " 78%|███████▊  | 7/9 [00:02<00:00,  2.71it/s]PowerModels.jl does not consider reactive power cost - costs are ignored\n",
      " 89%|████████▉ | 8/9 [00:02<00:00,  2.60it/s]PowerModels.jl does not consider reactive power cost - costs are ignored\n",
      "100%|██████████| 9/9 [00:03<00:00,  2.24it/s]PowerModels.jl does not consider reactive power cost - costs are ignored\n",
      "100%|██████████| 9/9 [00:03<00:00,  2.56it/s]\n"
     ]
    },
    {
     "name": "stdout",
     "output_type": "stream",
     "text": [
      "Appending to output database...\n",
      "Next\n",
      "Running iterationSet 22 with timesteps:[9, 14, 17, 22, 34, 39, 40, 46, 49]\n",
      "Strata = 5; Iteration = 22\n"
     ]
    },
    {
     "name": "stderr",
     "output_type": "stream",
     "text": [
      "  0%|          | 0/9 [00:00<?, ?it/s]PowerModels.jl does not consider reactive power cost - costs are ignored\n",
      " 22%|██▏       | 2/9 [00:00<00:00, 11.00it/s]PowerModels.jl does not consider reactive power cost - costs are ignored\n",
      "PowerModels.jl does not consider reactive power cost - costs are ignored\n",
      " 44%|████▍     | 4/9 [00:00<00:00,  5.27it/s]PowerModels.jl does not consider reactive power cost - costs are ignored\n",
      " 56%|█████▌    | 5/9 [00:00<00:00,  4.50it/s]PowerModels.jl does not consider reactive power cost - costs are ignored\n",
      " 67%|██████▋   | 6/9 [00:01<00:00,  3.99it/s]PowerModels.jl does not consider reactive power cost - costs are ignored\n",
      " 78%|███████▊  | 7/9 [00:01<00:00,  3.82it/s]PowerModels.jl does not consider reactive power cost - costs are ignored\n",
      " 89%|████████▉ | 8/9 [00:01<00:00,  3.49it/s]PowerModels.jl does not consider reactive power cost - costs are ignored\n",
      "100%|██████████| 9/9 [00:02<00:00,  3.56it/s]PowerModels.jl does not consider reactive power cost - costs are ignored\n",
      "100%|██████████| 9/9 [00:02<00:00,  3.55it/s]\n"
     ]
    },
    {
     "name": "stdout",
     "output_type": "stream",
     "text": [
      "Appending to output database...\n",
      "Next\n",
      "Running iterationSet 23 with timesteps:[1, 4, 10, 12, 16, 21, 23, 24, 33, 35, 37, 38, 43, 49]\n",
      "Strata = 5; Iteration = 23\n"
     ]
    },
    {
     "name": "stderr",
     "output_type": "stream",
     "text": [
      "  0%|          | 0/14 [00:00<?, ?it/s]PowerModels.jl does not consider reactive power cost - costs are ignored\n",
      " 14%|█▍        | 2/14 [00:00<00:05,  2.33it/s]PowerModels.jl does not consider reactive power cost - costs are ignored\n",
      " 21%|██▏       | 3/14 [00:01<00:03,  2.76it/s]PowerModels.jl does not consider reactive power cost - costs are ignored\n",
      " 29%|██▊       | 4/14 [00:01<00:03,  3.25it/s]PowerModels.jl does not consider reactive power cost - costs are ignored\n",
      " 36%|███▌      | 5/14 [00:01<00:02,  3.55it/s]PowerModels.jl does not consider reactive power cost - costs are ignored\n",
      " 43%|████▎     | 6/14 [00:01<00:02,  3.84it/s]PowerModels.jl does not consider reactive power cost - costs are ignored\n",
      " 50%|█████     | 7/14 [00:01<00:01,  4.15it/s]PowerModels.jl does not consider reactive power cost - costs are ignored\n",
      " 57%|█████▋    | 8/14 [00:02<00:01,  4.00it/s]PowerModels.jl does not consider reactive power cost - costs are ignored\n",
      " 64%|██████▍   | 9/14 [00:02<00:01,  3.84it/s]PowerModels.jl does not consider reactive power cost - costs are ignored\n",
      " 71%|███████▏  | 10/14 [00:02<00:01,  3.54it/s]PowerModels.jl does not consider reactive power cost - costs are ignored\n",
      " 79%|███████▊  | 11/14 [00:03<00:00,  3.47it/s]PowerModels.jl does not consider reactive power cost - costs are ignored\n",
      " 86%|████████▌ | 12/14 [00:03<00:00,  3.55it/s]PowerModels.jl does not consider reactive power cost - costs are ignored\n",
      " 93%|█████████▎| 13/14 [00:03<00:00,  3.15it/s]PowerModels.jl does not consider reactive power cost - costs are ignored\n",
      "100%|██████████| 14/14 [00:04<00:00,  3.20it/s]PowerModels.jl does not consider reactive power cost - costs are ignored\n",
      "100%|██████████| 14/14 [00:04<00:00,  3.00it/s]\n"
     ]
    },
    {
     "name": "stdout",
     "output_type": "stream",
     "text": [
      "Appending to output database...\n",
      "Next\n",
      "Running iterationSet 24 with timesteps:[0, 1, 3, 4, 13, 16, 20, 26, 27, 32, 34, 37, 38, 45, 48]\n",
      "Strata = 5; Iteration = 24\n"
     ]
    },
    {
     "name": "stderr",
     "output_type": "stream",
     "text": [
      "  0%|          | 0/15 [00:00<?, ?it/s]PowerModels.jl does not consider reactive power cost - costs are ignored\n",
      " 13%|█▎        | 2/15 [00:00<00:03,  3.87it/s]PowerModels.jl does not consider reactive power cost - costs are ignored\n",
      " 20%|██        | 3/15 [00:00<00:03,  3.36it/s]PowerModels.jl does not consider reactive power cost - costs are ignored\n",
      " 27%|██▋       | 4/15 [00:01<00:03,  3.35it/s]PowerModels.jl does not consider reactive power cost - costs are ignored\n",
      " 33%|███▎      | 5/15 [00:01<00:02,  3.71it/s]PowerModels.jl does not consider reactive power cost - costs are ignored\n",
      " 40%|████      | 6/15 [00:01<00:02,  3.96it/s]PowerModels.jl does not consider reactive power cost - costs are ignored\n",
      " 47%|████▋     | 7/15 [00:01<00:01,  4.07it/s]PowerModels.jl does not consider reactive power cost - costs are ignored\n",
      " 53%|█████▎    | 8/15 [00:02<00:01,  4.25it/s]PowerModels.jl does not consider reactive power cost - costs are ignored\n",
      " 60%|██████    | 9/15 [00:02<00:01,  4.32it/s]PowerModels.jl does not consider reactive power cost - costs are ignored\n",
      " 67%|██████▋   | 10/15 [00:02<00:01,  4.22it/s]PowerModels.jl does not consider reactive power cost - costs are ignored\n",
      " 73%|███████▎  | 11/15 [00:02<00:00,  4.06it/s]PowerModels.jl does not consider reactive power cost - costs are ignored\n",
      " 80%|████████  | 12/15 [00:03<00:00,  3.98it/s]PowerModels.jl does not consider reactive power cost - costs are ignored\n",
      " 87%|████████▋ | 13/15 [00:03<00:00,  3.68it/s]PowerModels.jl does not consider reactive power cost - costs are ignored\n",
      " 93%|█████████▎| 14/15 [00:03<00:00,  3.91it/s]PowerModels.jl does not consider reactive power cost - costs are ignored\n",
      "100%|██████████| 15/15 [00:03<00:00,  3.52it/s]PowerModels.jl does not consider reactive power cost - costs are ignored\n",
      "100%|██████████| 15/15 [00:04<00:00,  3.61it/s]\n"
     ]
    },
    {
     "name": "stdout",
     "output_type": "stream",
     "text": [
      "Appending to output database...\n",
      "Next\n",
      "Running iterationSet 25 with timesteps:[8, 10, 15, 18, 22, 24, 31, 32, 40, 48]\n",
      "Strata = 5; Iteration = 25\n"
     ]
    },
    {
     "name": "stderr",
     "output_type": "stream",
     "text": [
      "  0%|          | 0/10 [00:00<?, ?it/s]PowerModels.jl does not consider reactive power cost - costs are ignored\n",
      " 20%|██        | 2/10 [00:00<00:00,  9.37it/s]PowerModels.jl does not consider reactive power cost - costs are ignored\n",
      " 30%|███       | 3/10 [00:00<00:01,  6.27it/s]PowerModels.jl does not consider reactive power cost - costs are ignored\n",
      " 40%|████      | 4/10 [00:00<00:01,  5.46it/s]PowerModels.jl does not consider reactive power cost - costs are ignored\n",
      " 50%|█████     | 5/10 [00:00<00:01,  4.61it/s]PowerModels.jl does not consider reactive power cost - costs are ignored\n",
      " 60%|██████    | 6/10 [00:01<00:00,  4.11it/s]PowerModels.jl does not consider reactive power cost - costs are ignored\n",
      " 70%|███████   | 7/10 [00:01<00:00,  3.96it/s]PowerModels.jl does not consider reactive power cost - costs are ignored\n",
      " 80%|████████  | 8/10 [00:01<00:00,  3.34it/s]PowerModels.jl does not consider reactive power cost - costs are ignored\n",
      " 90%|█████████ | 9/10 [00:02<00:00,  3.52it/s]PowerModels.jl does not consider reactive power cost - costs are ignored\n",
      "100%|██████████| 10/10 [00:02<00:00,  3.67it/s]PowerModels.jl does not consider reactive power cost - costs are ignored\n",
      "100%|██████████| 10/10 [00:02<00:00,  3.70it/s]\n"
     ]
    },
    {
     "name": "stdout",
     "output_type": "stream",
     "text": [
      "Appending to output database...\n",
      "Next\n",
      "Running iterationSet 26 with timesteps:[12, 13, 15, 21, 25, 27, 30, 31, 37, 41, 47, 48]\n",
      "Strata = 6; Iteration = 26\n"
     ]
    },
    {
     "name": "stderr",
     "output_type": "stream",
     "text": [
      "  0%|          | 0/12 [00:00<?, ?it/s]PowerModels.jl does not consider reactive power cost - costs are ignored\n",
      " 17%|█▋        | 2/12 [00:00<00:00, 11.03it/s]PowerModels.jl does not consider reactive power cost - costs are ignored\n",
      "PowerModels.jl does not consider reactive power cost - costs are ignored\n",
      " 33%|███▎      | 4/12 [00:00<00:01,  6.87it/s]PowerModels.jl does not consider reactive power cost - costs are ignored\n",
      " 42%|████▏     | 5/12 [00:00<00:01,  6.40it/s]PowerModels.jl does not consider reactive power cost - costs are ignored\n",
      " 50%|█████     | 6/12 [00:00<00:01,  5.52it/s]PowerModels.jl does not consider reactive power cost - costs are ignored\n",
      " 58%|█████▊    | 7/12 [00:01<00:01,  4.99it/s]PowerModels.jl does not consider reactive power cost - costs are ignored\n",
      " 67%|██████▋   | 8/12 [00:01<00:00,  4.87it/s]PowerModels.jl does not consider reactive power cost - costs are ignored\n",
      " 75%|███████▌  | 9/12 [00:01<00:00,  4.65it/s]PowerModels.jl does not consider reactive power cost - costs are ignored\n",
      " 83%|████████▎ | 10/12 [00:01<00:00,  4.45it/s]PowerModels.jl does not consider reactive power cost - costs are ignored\n",
      " 92%|█████████▏| 11/12 [00:02<00:00,  4.49it/s]PowerModels.jl does not consider reactive power cost - costs are ignored\n",
      "100%|██████████| 12/12 [00:02<00:00,  3.77it/s]PowerModels.jl does not consider reactive power cost - costs are ignored\n",
      "100%|██████████| 12/12 [00:02<00:00,  4.36it/s]\n"
     ]
    },
    {
     "name": "stdout",
     "output_type": "stream",
     "text": [
      "Appending to output database...\n",
      "Next\n",
      "Running iterationSet 27 with timesteps:[3, 11, 19, 21, 27, 34, 35, 37, 38, 48, 49]\n",
      "Strata = 6; Iteration = 27\n"
     ]
    },
    {
     "name": "stderr",
     "output_type": "stream",
     "text": [
      "  0%|          | 0/11 [00:00<?, ?it/s]PowerModels.jl does not consider reactive power cost - costs are ignored\n",
      " 18%|█▊        | 2/11 [00:00<00:00, 10.21it/s]PowerModels.jl does not consider reactive power cost - costs are ignored\n",
      "PowerModels.jl does not consider reactive power cost - costs are ignored\n",
      " 36%|███▋      | 4/11 [00:00<00:01,  4.40it/s]PowerModels.jl does not consider reactive power cost - costs are ignored\n",
      " 45%|████▌     | 5/11 [00:01<00:01,  4.51it/s]PowerModels.jl does not consider reactive power cost - costs are ignored\n",
      " 55%|█████▍    | 6/11 [00:01<00:01,  3.73it/s]PowerModels.jl does not consider reactive power cost - costs are ignored\n",
      " 64%|██████▎   | 7/11 [00:01<00:01,  3.54it/s]PowerModels.jl does not consider reactive power cost - costs are ignored\n",
      " 73%|███████▎  | 8/11 [00:01<00:00,  3.68it/s]PowerModels.jl does not consider reactive power cost - costs are ignored\n",
      " 82%|████████▏ | 9/11 [00:02<00:00,  3.91it/s]PowerModels.jl does not consider reactive power cost - costs are ignored\n",
      " 91%|█████████ | 10/11 [00:02<00:00,  3.92it/s]PowerModels.jl does not consider reactive power cost - costs are ignored\n",
      "100%|██████████| 11/11 [00:02<00:00,  3.95it/s]PowerModels.jl does not consider reactive power cost - costs are ignored\n",
      "100%|██████████| 11/11 [00:02<00:00,  3.70it/s]\n"
     ]
    },
    {
     "name": "stdout",
     "output_type": "stream",
     "text": [
      "Appending to output database...\n",
      "Next\n",
      "Running iterationSet 28 with timesteps:[3, 11, 12, 17, 19, 25, 26, 33, 34, 36, 49]\n",
      "Strata = 6; Iteration = 28\n"
     ]
    },
    {
     "name": "stderr",
     "output_type": "stream",
     "text": [
      "  0%|          | 0/11 [00:00<?, ?it/s]PowerModels.jl does not consider reactive power cost - costs are ignored\n",
      " 18%|█▊        | 2/11 [00:00<00:00,  9.36it/s]PowerModels.jl does not consider reactive power cost - costs are ignored\n",
      " 27%|██▋       | 3/11 [00:00<00:01,  6.59it/s]PowerModels.jl does not consider reactive power cost - costs are ignored\n",
      " 36%|███▋      | 4/11 [00:00<00:01,  6.07it/s]PowerModels.jl does not consider reactive power cost - costs are ignored\n",
      " 45%|████▌     | 5/11 [00:00<00:01,  5.65it/s]PowerModels.jl does not consider reactive power cost - costs are ignored\n",
      " 55%|█████▍    | 6/11 [00:01<00:00,  5.56it/s]PowerModels.jl does not consider reactive power cost - costs are ignored\n",
      " 64%|██████▎   | 7/11 [00:01<00:00,  4.68it/s]PowerModels.jl does not consider reactive power cost - costs are ignored\n",
      " 73%|███████▎  | 8/11 [00:01<00:00,  4.40it/s]PowerModels.jl does not consider reactive power cost - costs are ignored\n",
      " 82%|████████▏ | 9/11 [00:01<00:00,  4.21it/s]PowerModels.jl does not consider reactive power cost - costs are ignored\n",
      " 91%|█████████ | 10/11 [00:02<00:00,  4.00it/s]PowerModels.jl does not consider reactive power cost - costs are ignored\n",
      "100%|██████████| 11/11 [00:02<00:00,  3.75it/s]PowerModels.jl does not consider reactive power cost - costs are ignored\n",
      "100%|██████████| 11/11 [00:02<00:00,  4.01it/s]\n"
     ]
    },
    {
     "name": "stdout",
     "output_type": "stream",
     "text": [
      "Appending to output database...\n",
      "Next\n",
      "Running iterationSet 29 with timesteps:[10, 14, 16, 20, 22, 32, 33, 36, 37, 45, 49]\n",
      "Strata = 6; Iteration = 29\n"
     ]
    },
    {
     "name": "stderr",
     "output_type": "stream",
     "text": [
      "  0%|          | 0/11 [00:00<?, ?it/s]PowerModels.jl does not consider reactive power cost - costs are ignored\n",
      " 18%|█▊        | 2/11 [00:00<00:00, 10.75it/s]PowerModels.jl does not consider reactive power cost - costs are ignored\n",
      "PowerModels.jl does not consider reactive power cost - costs are ignored\n",
      " 36%|███▋      | 4/11 [00:00<00:01,  6.21it/s]PowerModels.jl does not consider reactive power cost - costs are ignored\n",
      " 45%|████▌     | 5/11 [00:00<00:01,  5.79it/s]PowerModels.jl does not consider reactive power cost - costs are ignored\n",
      " 55%|█████▍    | 6/11 [00:01<00:00,  5.38it/s]PowerModels.jl does not consider reactive power cost - costs are ignored\n",
      " 64%|██████▎   | 7/11 [00:01<00:00,  5.13it/s]PowerModels.jl does not consider reactive power cost - costs are ignored\n",
      " 73%|███████▎  | 8/11 [00:01<00:00,  4.71it/s]PowerModels.jl does not consider reactive power cost - costs are ignored\n",
      " 82%|████████▏ | 9/11 [00:01<00:00,  4.68it/s]PowerModels.jl does not consider reactive power cost - costs are ignored\n",
      " 91%|█████████ | 10/11 [00:01<00:00,  4.46it/s]PowerModels.jl does not consider reactive power cost - costs are ignored\n",
      "100%|██████████| 11/11 [00:02<00:00,  3.83it/s]PowerModels.jl does not consider reactive power cost - costs are ignored\n",
      "100%|██████████| 11/11 [00:02<00:00,  4.20it/s]\n"
     ]
    },
    {
     "name": "stdout",
     "output_type": "stream",
     "text": [
      "Appending to output database...\n",
      "Next\n",
      "done!\n"
     ]
    }
   ],
   "source": [
    "simulation.run_prediction(network, run_type = 'pm_ac_opf', delta = 1e-16,)"
   ]
  },
  {
   "cell_type": "code",
   "execution_count": null,
   "id": "flying-commerce",
   "metadata": {},
   "outputs": [],
   "source": [
    "simulation.results.loc[:,:,:,'network',:]"
   ]
  },
  {
   "cell_type": "markdown",
   "id": "found-calculator",
   "metadata": {},
   "source": [
    "## Iterations metrics"
   ]
  },
  {
   "cell_type": "code",
   "execution_count": null,
   "id": "fossil-weekend",
   "metadata": {},
   "outputs": [],
   "source": [
    "df = pd.read_csv(rx.config.path.engineDatabaseFile(simulationName), index_col = [0, 1, 2, 3, 4]) # read database with results\n",
    "df = filter_non_converged_iterations(df) # filterining non-converged iterations\n"
   ]
  },
  {
   "cell_type": "code",
   "execution_count": null,
   "id": "classical-sellers",
   "metadata": {},
   "outputs": [],
   "source": [
    "df_line = group_by(df.loc[1], 'sum', 'iteration', 'field', 'type').loc[:,:,'line']\n",
    "df_line_quantiles = invert(get_quantiles_on_iterations(df_line, [0.05,0.5,0.95]))\n",
    "df_line = invert(df_line)"
   ]
  },
  {
   "cell_type": "code",
   "execution_count": null,
   "id": "adverse-finnish",
   "metadata": {},
   "outputs": [],
   "source": [
    "df_montecarlo = pd.read_csv(rx.config.path.engineDatabaseFile(simulationName), index_col = [0, 1, 2, 3, 4])"
   ]
  },
  {
   "cell_type": "markdown",
   "id": "normal-battle",
   "metadata": {},
   "source": [
    "### Number of lines in service"
   ]
  },
  {
   "cell_type": "code",
   "execution_count": null,
   "id": "floral-payday",
   "metadata": {},
   "outputs": [],
   "source": [
    "px.line(df_line, x=df_line.index, y = 'in_service', color = 'iteration')"
   ]
  },
  {
   "cell_type": "code",
   "execution_count": null,
   "id": "annual-sustainability",
   "metadata": {},
   "outputs": [],
   "source": [
    "px.line(df_line_quantiles, x=df_line_quantiles.index, y = 'in_service', color = 'quantile')"
   ]
  },
  {
   "cell_type": "code",
   "execution_count": null,
   "id": "spatial-trouble",
   "metadata": {},
   "outputs": [],
   "source": [
    "df_load = group_by(filter(df, type = 'load'), 'sum', 'iteration', 'field', 'type')\n",
    "df_load_quantiles = invert(get_quantiles_on_iterations(df_load, [0.05, 0.25, 0.5, 0.75, 0.95]))\n",
    "# df_load = invert(df_load) \n",
    "# df_load['loss_of_load_p_percentage'] = (df_load['loss_of_load_p_mw'])/df_load['max_p_mw'] *100\n",
    "df_load_quantiles['loss_of_load_p_percentage'] = (df_load_quantiles['loss_of_load_p_mw'])/df_load_quantiles['max_p_mw'] *100"
   ]
  },
  {
   "cell_type": "code",
   "execution_count": null,
   "id": "agricultural-filter",
   "metadata": {},
   "outputs": [],
   "source": [
    "px.line(df_load_quantiles, x=df_load_quantiles.index, y = 'loss_of_load_p_percentage', color = 'quantile')"
   ]
  },
  {
   "cell_type": "code",
   "execution_count": null,
   "id": "surface-wrong",
   "metadata": {},
   "outputs": [],
   "source": [
    "df_network = invert(filter(df, type = 'network')) # filter network fields and invert for plotting\n",
    "px.scatter(df_network, x=df_network.index, y= 'energy_not_served_mwh' )"
   ]
  },
  {
   "cell_type": "markdown",
   "id": "electoral-treasurer",
   "metadata": {},
   "source": [
    "## Montercalo metrics"
   ]
  },
  {
   "cell_type": "code",
   "execution_count": null,
   "id": "structural-superior",
   "metadata": {},
   "outputs": [],
   "source": [
    "df_network_condensed = filter(df, type = 'network').sum(axis = 1) # sum over timesteps"
   ]
  },
  {
   "cell_type": "code",
   "execution_count": null,
   "id": "incredible-reunion",
   "metadata": {},
   "outputs": [],
   "source": [
    "df_network_condensed_ = invert(df_network_condensed)\n",
    "px.histogram(df_network_condensed_, x='energy_not_served_mwh', histnorm='probability')"
   ]
  },
  {
   "cell_type": "code",
   "execution_count": null,
   "id": "amino-gentleman",
   "metadata": {},
   "outputs": [],
   "source": [
    "statistics= df_network_condensed.groupby('field').mean() # average over iterations\n",
    "EENS = statistics['energy_not_served_mwh']\n",
    "LOLE = statistics['loss_of_load_p_duration_h']\n",
    "print(f'EENS : {EENS.round(2)} MWh, LOLE : {LOLE.round(2)} h')"
   ]
  },
  {
   "cell_type": "markdown",
   "id": "nonprofit-distance",
   "metadata": {},
   "source": [
    "## Survivability\n",
    "Probability of supplying at minimum percentage of the load."
   ]
  },
  {
   "cell_type": "code",
   "execution_count": null,
   "id": "located-cover",
   "metadata": {},
   "outputs": [],
   "source": [
    "crt_loss_of_load = 30 \n",
    "df_loss_of_load = df.loc[:,:,\"loss_of_load_p_percentage\",\"network\"]\n",
    "Survivability = pd.DataFrame(1 - (df_loss_of_load > crt_loss_of_load).sum() / df_loss_of_load.index.levels[0].size, columns = ['base case'])\n",
    "\n",
    "#df_aux = pd.read_csv(rx.config.path.engineDatabaseFile('basic_example_v1'), index_col = [0, 1, 2, 3, 4])\n",
    "#df_loss_of_load_aux = df_aux.loc[:,\"loss_of_load_p_percentage\",\"network\"]\n",
    "#Survivability['line 10 reinforced'] = 1 - (df_loss_of_load_aux > crt_loss_of_load).sum() / df_loss_of_load_aux.index.levels[0].size\n",
    "\n",
    "#df_aux = pd.read_csv(rx.config.path.engineDatabaseFile('basic_example_v2'), index_col = [0, 1, 2, 3, 4])\n",
    "#df_loss_of_load_aux = df_aux.loc[:,\"loss_of_load_p_percentage\",\"network\"]\n",
    "#Survivability['line 2 reparing time improved'] = 1 - (df_loss_of_load_aux > crt_loss_of_load).sum() / df_loss_of_load_aux.index.levels[0].size"
   ]
  },
  {
   "cell_type": "code",
   "execution_count": null,
   "id": "hearing-implement",
   "metadata": {},
   "outputs": [],
   "source": [
    "px.line(Survivability).update_layout(xaxis_title=\"time\", yaxis_title=\"Survivability\")"
   ]
  },
  {
   "cell_type": "code",
   "execution_count": null,
   "id": "confirmed-hayes",
   "metadata": {},
   "outputs": [],
   "source": [
    "df_line = group_by(filter(df, type = 'line'), 'mean','strata', 'iteration', 'field','id') # mean in this case does not have any effect as the groupying levels are the initial ones\n",
    "df_line = invert(df_line)\n",
    "# df_line = df_line.loc[df_line.index > '2022-01-01 12:00:00']\n",
    "\n",
    "fig = go.Figure() # --> put in a function (?)\n",
    "\n",
    "ids = df_line['id'].drop_duplicates().to_list()\n",
    "\n",
    "for id in ids:\n",
    "    fig.add_trace(go.Violin(x=df_line['id'][df_line['id'] == id],\n",
    "                            y=df_line['loading_percent'][df_line['id'] == id],\n",
    "                            name=id,\n",
    "                            box_visible=False,\n",
    "                            meanline_visible=True,\n",
    "                            side='positive',\n",
    "                            orientation = 'v'\n",
    "                           )\n",
    "                 )\n",
    "fig.update_layout(width=1000, height=500)\n",
    "fig.show()"
   ]
  },
  {
   "cell_type": "code",
   "execution_count": null,
   "id": "convertible-creation",
   "metadata": {},
   "outputs": [],
   "source": [
    "df_bus =invert(filter(df, type = 'bus'))\n",
    "fig = go.Figure()\n",
    "\n",
    "ids = df_bus['id'].drop_duplicates().to_list()\n",
    "\n",
    "for id in ids:\n",
    "    fig.add_trace(go.Violin(x=df_bus['id'][df_bus['id'] == id],\n",
    "                            y=df_bus['vm_pu'][df_bus['id'] == id],\n",
    "                            name=id,\n",
    "                            #box_visible=True,\n",
    "                            meanline_visible=True,\n",
    "                            side='positive',\n",
    "                            orientation = 'v'\n",
    "                           )     \n",
    "                 )\n",
    "fig.update_layout(width=1000, height = 500)\n",
    "fig.show()"
   ]
  }
 ],
 "metadata": {
  "kernelspec": {
   "display_name": "Python 3",
   "language": "python",
   "name": "python3"
  },
  "language_info": {
   "codemirror_mode": {
    "name": "ipython",
    "version": 3
   },
   "file_extension": ".py",
   "mimetype": "text/x-python",
   "name": "python",
   "nbconvert_exporter": "python",
   "pygments_lexer": "ipython3",
   "version": "3.10.10"
  }
 },
 "nbformat": 4,
 "nbformat_minor": 5
}
