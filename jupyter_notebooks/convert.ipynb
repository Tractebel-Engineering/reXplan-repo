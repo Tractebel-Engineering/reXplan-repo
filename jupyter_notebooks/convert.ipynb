{
 "cells": [
  {
   "cell_type": "markdown",
   "metadata": {},
   "source": [
    "## Network from PandaPower Import"
   ]
  },
  {
   "cell_type": "code",
   "execution_count": 1,
   "metadata": {},
   "outputs": [
    {
     "name": "stdout",
     "output_type": "stream",
     "text": [
      "Network file created successfully created: c:\\GitHub\\reXplan-repo\\jupyter_notebooks\\network.xlsx\n"
     ]
    }
   ],
   "source": [
    "import reXplan as rx\n",
    "import pandapower.networks as pn\n",
    "\n",
    "net = pn.case118()\n",
    "rx.convert.from_pp(net, rename=True)\n",
    "# net.sgen"
   ]
  },
  {
   "cell_type": "code",
   "execution_count": 2,
   "metadata": {},
   "outputs": [
    {
     "name": "stdout",
     "output_type": "stream",
     "text": [
      "Warning: tower_type_1 - Interpolation method not recognized/not provided. Using linear interpolation instead.\n",
      "Warning: tower_type_2 - Interpolation method not recognized/not provided. Using linear interpolation instead.\n",
      "Warning: pole_type_1 - Interpolation method not recognized/not provided. Using linear interpolation instead.\n",
      "Warning: pole_type_2 - Interpolation method not recognized/not provided. Using linear interpolation instead.\n"
     ]
    },
    {
     "name": "stderr",
     "output_type": "stream",
     "text": [
      "C:\\GitHub\\reXplan-repo\\reXplan\\network.py:261: UserWarning: Missing \"max_p_mw\" field or \"dummy\" asset during profile allocation.\n"
     ]
    },
    {
     "name": "stdout",
     "output_type": "stream",
     "text": [
      "Network for study case <basic_example_tim> initialized.\n",
      "\n",
      "Simulation:\tStart =   0; Stop =  49; Duration =  49 timesteps.\n",
      "Hazard:\t\tStart =   9; Stop =  14; Duration =   5 timesteps.\n"
     ]
    }
   ],
   "source": [
    "import reXplan as rx\n",
    "import warnings\n",
    "\n",
    "def custom_warning_format(message, category, filename, lineno, file=None, line=None):\n",
    "    return f\"{filename}:{lineno}: {category.__name__}: {message}\\n\"\n",
    "\n",
    "warnings.formatwarning = custom_warning_format\n",
    "\n",
    "simulationName = 'basic_example_tim';\n",
    "network = rx.network.Network(simulationName);\n",
    "simulation = rx.simulation.Sim(simulationName);"
   ]
  },
  {
   "cell_type": "code",
   "execution_count": null,
   "metadata": {},
   "outputs": [],
   "source": [
    "import pandapower as pp\n",
    "pp.run.runpp(network)\n",
    "network.pp_network"
   ]
  },
  {
   "cell_type": "code",
   "execution_count": 5,
   "metadata": {},
   "outputs": [
    {
     "name": "stdout",
     "output_type": "stream",
     "text": [
      "Warning: tower_type_1 - Interpolation method not recognized/not provided. Using linear interpolation instead.\n",
      "Warning: tower_type_2 - Interpolation method not recognized/not provided. Using linear interpolation instead.\n",
      "Warning: pole_type_1 - Interpolation method not recognized/not provided. Using linear interpolation instead.\n",
      "Warning: pole_type_2 - Interpolation method not recognized/not provided. Using linear interpolation instead.\n"
     ]
    },
    {
     "name": "stderr",
     "output_type": "stream",
     "text": [
      "C:\\GitHub\\reXplan-repo\\reXplan\\network.py:261: UserWarning: Missing \"max_p_mw\" field or \"dummy\" asset during profile allocation.\n"
     ]
    },
    {
     "name": "stdout",
     "output_type": "stream",
     "text": [
      "Network for study case <basic_example_tim> initialized.\n",
      "\n",
      "Simulation:\tStart =   0; Stop =  49; Duration =  49 timesteps.\n",
      "Hazard:\t\tStart =   9; Stop =  14; Duration =   5 timesteps.\n"
     ]
    },
    {
     "ename": "TypeError",
     "evalue": "'ValueError' object is not subscriptable",
     "output_type": "error",
     "traceback": [
      "\u001b[1;31m---------------------------------------------------------------------------\u001b[0m",
      "\u001b[1;31mTypeError\u001b[0m                                 Traceback (most recent call last)",
      "Cell \u001b[1;32mIn[5], line 9\u001b[0m\n\u001b[0;32m      7\u001b[0m network \u001b[38;5;241m=\u001b[39m rx\u001b[38;5;241m.\u001b[39mnetwork\u001b[38;5;241m.\u001b[39mNetwork(simulationName);\n\u001b[0;32m      8\u001b[0m simulation \u001b[38;5;241m=\u001b[39m rx\u001b[38;5;241m.\u001b[39msimulation\u001b[38;5;241m.\u001b[39mSim(simulationName);\n\u001b[1;32m----> 9\u001b[0m \u001b[43msimulation\u001b[49m\u001b[38;5;241;43m.\u001b[39;49m\u001b[43minitialize_model_rp\u001b[49m\u001b[43m(\u001b[49m\n\u001b[0;32m     10\u001b[0m \u001b[43m                        \u001b[49m\u001b[43mnetwork\u001b[49m\u001b[38;5;241;43m=\u001b[39;49m\u001b[43mnetwork\u001b[49m\u001b[43m,\u001b[49m\n\u001b[0;32m     11\u001b[0m \u001b[43m                        \u001b[49m\u001b[43mref_return_period\u001b[49m\u001b[38;5;241;43m=\u001b[39;49m\u001b[38;5;124;43m\"\u001b[39;49m\u001b[38;5;124;43mrp2\u001b[39;49m\u001b[38;5;124;43m\"\u001b[39;49m\u001b[43m,\u001b[49m\n\u001b[0;32m     12\u001b[0m \u001b[43m                        \u001b[49m\u001b[43mmc_iteration_factor\u001b[49m\u001b[38;5;241;43m=\u001b[39;49m\u001b[38;5;241;43m1\u001b[39;49m\u001b[43m,\u001b[49m\n\u001b[0;32m     13\u001b[0m \u001b[43m                        \u001b[49m\u001b[43mmax_mc_iterations\u001b[49m\u001b[38;5;241;43m=\u001b[39;49m\u001b[38;5;241;43m100\u001b[39;49m\u001b[43m,\u001b[49m\n\u001b[0;32m     14\u001b[0m \u001b[43m                        \u001b[49m\u001b[43mcv\u001b[49m\u001b[38;5;241;43m=\u001b[39;49m\u001b[38;5;241;43m0.1\u001b[39;49m\u001b[43m,\u001b[49m\n\u001b[0;32m     15\u001b[0m \u001b[43m                        \u001b[49m\u001b[43mnStrataSamples\u001b[49m\u001b[38;5;241;43m=\u001b[39;49m\u001b[38;5;241;43m10000\u001b[39;49m\u001b[43m)\u001b[49m\n",
      "File \u001b[1;32mC:\\GitHub\\reXplan-repo\\reXplan\\simulation.py:423\u001b[0m, in \u001b[0;36mSim.initialize_model_rp\u001b[1;34m(self, network, mc_iteration_factor, ref_return_period, cv, max_mc_iterations, nStrataSamples, min_intensity, max_intensity, maxStrata)\u001b[0m\n\u001b[0;32m    415\u001b[0m \u001b[38;5;28mself\u001b[39m\u001b[38;5;241m.\u001b[39mstratResults \u001b[38;5;241m=\u001b[39m network\u001b[38;5;241m.\u001b[39mcalc_stratas(\n\u001b[0;32m    416\u001b[0m \t\t\t\t\t\t\u001b[38;5;28mself\u001b[39m\u001b[38;5;241m.\u001b[39msamples, \n\u001b[0;32m    417\u001b[0m \t\t\t\t\t\tnetwork\u001b[38;5;241m.\u001b[39mreturnPeriods[ref_return_period], \n\u001b[1;32m   (...)\u001b[0m\n\u001b[0;32m    420\u001b[0m \t\t\t\t\t\tcv \u001b[38;5;241m=\u001b[39m cv,\n\u001b[0;32m    421\u001b[0m \t\t\t\t\t\tmaxStrata \u001b[38;5;241m=\u001b[39m maxStrata)\n\u001b[0;32m    422\u001b[0m \u001b[38;5;66;03m# Generate warning if max_mc_iterations is too low to achieve desired error\u001b[39;00m\n\u001b[1;32m--> 423\u001b[0m \u001b[38;5;28;01mif\u001b[39;00m \u001b[38;5;28;43mself\u001b[39;49m\u001b[38;5;241;43m.\u001b[39;49m\u001b[43mstratResults\u001b[49m\u001b[43m[\u001b[49m\u001b[38;5;124;43m\"\u001b[39;49m\u001b[38;5;124;43mAllocation\u001b[39;49m\u001b[38;5;124;43m\"\u001b[39;49m\u001b[43m]\u001b[49m\u001b[38;5;241m.\u001b[39msum()\u001b[38;5;241m*\u001b[39mmc_iteration_factor \u001b[38;5;241m>\u001b[39m  max_mc_iterations:\n\u001b[0;32m    424\u001b[0m \twarnings\u001b[38;5;241m.\u001b[39mwarn(\u001b[38;5;124mf\u001b[39m\u001b[38;5;124m'\u001b[39m\u001b[38;5;124mWarning: Estimated needed strata samples to reach cv = \u001b[39m\u001b[38;5;132;01m{\u001b[39;00mcv\u001b[38;5;132;01m}\u001b[39;00m\u001b[38;5;124m are greater than max_mc_iterations (\u001b[39m\u001b[38;5;132;01m{\u001b[39;00mmax_mc_iterations\u001b[38;5;132;01m}\u001b[39;00m\u001b[38;5;124m)!\u001b[39m\u001b[38;5;124m'\u001b[39m)\n\u001b[0;32m    425\u001b[0m \u001b[38;5;66;03m# Generate failureProbs dataframe\u001b[39;00m\n",
      "\u001b[1;31mTypeError\u001b[0m: 'ValueError' object is not subscriptable"
     ]
    }
   ],
   "source": [
    "import reXplan as rx\n",
    "import warnings\n",
    "def custom_warning_format(message, category, filename, lineno, file=None, line=None):\n",
    "    return f\"{filename}:{lineno}: {category.__name__}: {message}\\n\"\n",
    "warnings.formatwarning = custom_warning_format\n",
    "simulationName = 'basic_example_tim';\n",
    "network = rx.network.Network(simulationName);\n",
    "simulation = rx.simulation.Sim(simulationName);\n",
    "simulation.initialize_model_rp(\n",
    "                        network=network,\n",
    "                        ref_return_period=\"rp2\",\n",
    "                        mc_iteration_factor=1,\n",
    "                        max_mc_iterations=100,\n",
    "                        cv=0.1,\n",
    "                        nStrataSamples=10000)"
   ]
  },
  {
   "cell_type": "code",
   "execution_count": null,
   "metadata": {},
   "outputs": [],
   "source": [
    "time = rx.simulation.Time(start = 0, duration = 30)\n",
    "simulation.run(network, iterationSet = None, time = time, run_type = 'dc_opf', delta = 1e-16, saveOutput = True)"
   ]
  },
  {
   "cell_type": "markdown",
   "metadata": {},
   "source": [
    "Adaptations needed:\n",
    "- Sheet Lines:\n",
    "    - fragility_curve, normalTTR, lineSpan, return_period\n",
    "- Sheet Profiles:\n",
    "    - A3:... timesteps for range specified in sheet simulation\n",
    "- Sheet Cost:\n",
    "    - add loads with cp1_eur_per_mw"
   ]
  },
  {
   "cell_type": "markdown",
   "metadata": {},
   "source": []
  }
 ],
 "metadata": {
  "kernelspec": {
   "display_name": "venv",
   "language": "python",
   "name": "python3"
  },
  "language_info": {
   "codemirror_mode": {
    "name": "ipython",
    "version": 3
   },
   "file_extension": ".py",
   "mimetype": "text/x-python",
   "name": "python",
   "nbconvert_exporter": "python",
   "pygments_lexer": "ipython3",
   "version": "3.10.10"
  }
 },
 "nbformat": 4,
 "nbformat_minor": 2
}
