{
 "cells": [
  {
   "cell_type": "markdown",
   "metadata": {},
   "source": [
    "## Network from PandaPower Import"
   ]
  },
  {
   "cell_type": "code",
   "execution_count": 1,
   "metadata": {},
   "outputs": [
    {
     "name": "stdout",
     "output_type": "stream",
     "text": [
      "Network file created successfully created: c:\\GitHub\\reXplan-repo\\jupyter_notebooks\\network.xlsx\n"
     ]
    }
   ],
   "source": [
    "import reXplan as rx\n",
    "import pandapower.networks as pn\n",
    "\n",
    "net = pn.case14()\n",
    "rx.convert.from_pp(net, rename=True)\n",
    "# net.sgen"
   ]
  },
  {
   "cell_type": "code",
   "execution_count": null,
   "metadata": {},
   "outputs": [],
   "source": [
    "import reXplan as rx\n",
    "import warnings\n",
    "\n",
    "def custom_warning_format(message, category, filename, lineno, file=None, line=None):\n",
    "    return f\"{filename}:{lineno}: {category.__name__}: {message}\\n\"\n",
    "\n",
    "warnings.formatwarning = custom_warning_format\n",
    "\n",
    "simulationName = 'basic_example_tim';\n",
    "network = rx.network.Network(simulationName);\n",
    "simulation = rx.simulation.Sim(simulationName);"
   ]
  },
  {
   "cell_type": "code",
   "execution_count": null,
   "metadata": {},
   "outputs": [],
   "source": [
    "import pandapower as pp\n",
    "pp.run.runpp(network)\n",
    "network.pp_network"
   ]
  },
  {
   "cell_type": "code",
   "execution_count": 3,
   "metadata": {},
   "outputs": [
    {
     "name": "stdout",
     "output_type": "stream",
     "text": [
      "Warning: tower_type_1 - Interpolation method not recognized/not provided. Using linear interpolation instead.\n",
      "Warning: tower_type_2 - Interpolation method not recognized/not provided. Using linear interpolation instead.\n",
      "Warning: pole_type_1 - Interpolation method not recognized/not provided. Using linear interpolation instead.\n",
      "Warning: pole_type_2 - Interpolation method not recognized/not provided. Using linear interpolation instead.\n"
     ]
    },
    {
     "name": "stderr",
     "output_type": "stream",
     "text": [
      "C:\\GitHub\\reXplan-repo\\reXplan\\network.py:259: UserWarning: Missing \"max_p_mw\" field or \"dummy\" asset during profile allocation.\n"
     ]
    },
    {
     "name": "stdout",
     "output_type": "stream",
     "text": [
      "Network for study case <basic_example_tim> initialized.\n",
      "\n",
      "Simulation:\tStart =   0; Stop =  49; Duration =  49 timesteps.\n",
      "Hazard:\t\tStart =   9; Stop =  14; Duration =   5 timesteps.\n",
      "\n",
      "Strata  3\n",
      "Sample size  57\n",
      "Strata  4\n",
      "Sample size  18\n",
      "Strata  5\n",
      "Sample size  16\n",
      "Strata  6\n",
      "Sample size  16\n",
      "Strata  7\n",
      "Sample size  14\n",
      "-----------------\n",
      " Kmeans solution \n",
      "-----------------\n",
      " *** Domain:  1  ***\n",
      " Number of strata:  7\n",
      " Sample size     :  14\n",
      "Computations are being done on population data\n",
      "\n",
      "Number of strata:  7\n",
      "... of which with only one unit:  0\n",
      "Input data have been checked and are compliant with requirements\n",
      "\n",
      " *** Domain :  1   1\n",
      " Number of strata :  10000\n",
      " *** Sample cost:  11.92507\n",
      " *** Number of strata:  5\n",
      " *** Sample size :  12\n",
      " *** Number of strata :  5\n",
      "---------------------------------------------------------------------------------------------\n",
      "Strata: 0\n",
      "Number of samples: 3\n",
      "Hazard intensity range: 20.78 - 30.03\n",
      "Strata: 1\n",
      "Number of samples: 3\n",
      "Hazard intensity range: 30.03 - 38.72\n",
      "Strata: 2\n",
      "Number of samples: 2\n",
      "Hazard intensity range: 38.73 - 47.38\n",
      "Strata: 3\n",
      "Number of samples: 2\n",
      "Hazard intensity range: 47.40 - 52.11\n",
      "Strata: 4\n",
      "Number of samples: 2\n",
      "Hazard intensity range: 52.15 - 77.99\n"
     ]
    }
   ],
   "source": [
    "import reXplan as rx\n",
    "import warnings\n",
    "def custom_warning_format(message, category, filename, lineno, file=None, line=None):\n",
    "    return f\"{filename}:{lineno}: {category.__name__}: {message}\\n\"\n",
    "warnings.formatwarning = custom_warning_format\n",
    "simulationName = 'basic_example_tim';\n",
    "network = rx.network.Network(simulationName);\n",
    "simulation = rx.simulation.Sim(simulationName);\n",
    "simulation.initialize_model_rp(\n",
    "                        network=network,\n",
    "                        ref_return_period=\"rp2\",\n",
    "                        mc_iteration_factor=1,\n",
    "                        max_mc_iterations=100,\n",
    "                        cv=0.1,\n",
    "                        nStrataSamples=10000)"
   ]
  },
  {
   "cell_type": "code",
   "execution_count": 23,
   "metadata": {},
   "outputs": [
    {
     "name": "stdout",
     "output_type": "stream",
     "text": [
      "Warning: tower_type_1 - Interpolation method not recognized/not provided. Using linear interpolation instead.\n",
      "Warning: tower_type_2 - Interpolation method not recognized/not provided. Using linear interpolation instead.\n",
      "Warning: pole_type_1 - Interpolation method not recognized/not provided. Using linear interpolation instead.\n",
      "Warning: pole_type_2 - Interpolation method not recognized/not provided. Using linear interpolation instead.\n",
      "Network for study case <basic_example_tim> initialized.\n",
      "\n",
      "Simulation:\tStart =   0; Stop =  50; Duration =  50 timesteps.\n",
      "Hazard:\t\tStart =  10; Stop =  15; Duration =   5 timesteps.\n",
      "Strata = 0; Iteration = 0\n"
     ]
    },
    {
     "name": "stderr",
     "output_type": "stream",
     "text": [
      "100%|██████████| 15/15 [00:02<00:00,  5.19it/s]\n"
     ]
    },
    {
     "name": "stdout",
     "output_type": "stream",
     "text": [
      "Strata = 0; Iteration = 1\n"
     ]
    },
    {
     "name": "stderr",
     "output_type": "stream",
     "text": [
      "100%|██████████| 15/15 [00:02<00:00,  5.35it/s]\n"
     ]
    },
    {
     "name": "stdout",
     "output_type": "stream",
     "text": [
      "Strata = 0; Iteration = 2\n"
     ]
    },
    {
     "name": "stderr",
     "output_type": "stream",
     "text": [
      "100%|██████████| 15/15 [00:02<00:00,  5.42it/s]\n"
     ]
    },
    {
     "name": "stdout",
     "output_type": "stream",
     "text": [
      "Strata = 1; Iteration = 3\n"
     ]
    },
    {
     "name": "stderr",
     "output_type": "stream",
     "text": [
      "100%|██████████| 15/15 [00:02<00:00,  5.56it/s]\n"
     ]
    },
    {
     "name": "stdout",
     "output_type": "stream",
     "text": [
      "Strata = 1; Iteration = 4\n"
     ]
    },
    {
     "name": "stderr",
     "output_type": "stream",
     "text": [
      "100%|██████████| 15/15 [00:02<00:00,  5.40it/s]\n"
     ]
    },
    {
     "name": "stdout",
     "output_type": "stream",
     "text": [
      "Strata = 1; Iteration = 5\n"
     ]
    },
    {
     "name": "stderr",
     "output_type": "stream",
     "text": [
      "100%|██████████| 15/15 [00:02<00:00,  5.49it/s]\n"
     ]
    },
    {
     "name": "stdout",
     "output_type": "stream",
     "text": [
      "Strata = 2; Iteration = 6\n"
     ]
    },
    {
     "name": "stderr",
     "output_type": "stream",
     "text": [
      "100%|██████████| 15/15 [00:02<00:00,  5.43it/s]\n"
     ]
    },
    {
     "name": "stdout",
     "output_type": "stream",
     "text": [
      "Strata = 2; Iteration = 7\n"
     ]
    },
    {
     "name": "stderr",
     "output_type": "stream",
     "text": [
      "100%|██████████| 15/15 [00:02<00:00,  5.35it/s]\n"
     ]
    },
    {
     "name": "stdout",
     "output_type": "stream",
     "text": [
      "Strata = 3; Iteration = 8\n"
     ]
    },
    {
     "name": "stderr",
     "output_type": "stream",
     "text": [
      "100%|██████████| 15/15 [00:02<00:00,  5.12it/s]\n"
     ]
    },
    {
     "name": "stdout",
     "output_type": "stream",
     "text": [
      "Strata = 3; Iteration = 9\n"
     ]
    },
    {
     "name": "stderr",
     "output_type": "stream",
     "text": [
      "100%|██████████| 15/15 [00:02<00:00,  5.11it/s]\n"
     ]
    },
    {
     "name": "stdout",
     "output_type": "stream",
     "text": [
      "Strata = 4; Iteration = 10\n"
     ]
    },
    {
     "name": "stderr",
     "output_type": "stream",
     "text": [
      "100%|██████████| 15/15 [00:03<00:00,  4.86it/s]\n"
     ]
    },
    {
     "name": "stdout",
     "output_type": "stream",
     "text": [
      "Strata = 4; Iteration = 11\n"
     ]
    },
    {
     "name": "stderr",
     "output_type": "stream",
     "text": [
      "100%|██████████| 15/15 [00:02<00:00,  5.09it/s]"
     ]
    },
    {
     "name": "stdout",
     "output_type": "stream",
     "text": [
      "Saving output database...\n",
      "done!\n"
     ]
    },
    {
     "name": "stderr",
     "output_type": "stream",
     "text": [
      "\n"
     ]
    }
   ],
   "source": [
    "import reXplan as rx\n",
    "import warnings\n",
    "def custom_warning_format(message, category, filename, lineno, file=None, line=None):\n",
    "    return f\"{filename}:{lineno}: {category.__name__}: {message}\\n\"\n",
    "warnings.formatwarning = custom_warning_format\n",
    "simulationName = 'basic_example_tim';\n",
    "network = rx.network.Network(simulationName);\n",
    "simulation = rx.simulation.Sim(simulationName);\n",
    "time = rx.simulation.Time(start = 8, duration = 15)\n",
    "simulation.run(network, iterationSet = None, time = time, run_type = 'pm_ac_opf', delta = 1e-16, saveOutput = True)"
   ]
  },
  {
   "cell_type": "markdown",
   "metadata": {},
   "source": [
    "Adaptations needed:\n",
    "- Sheet Lines:\n",
    "    - fragility_curve, normalTTR, lineSpan, return_period\n",
    "- Sheet Profiles:\n",
    "    - A3:... timesteps for range specified in sheet simulation\n",
    "- Sheet Cost:\n",
    "    - add loads with cp1_eur_per_mw"
   ]
  },
  {
   "cell_type": "markdown",
   "metadata": {},
   "source": []
  }
 ],
 "metadata": {
  "kernelspec": {
   "display_name": "venv",
   "language": "python",
   "name": "python3"
  },
  "language_info": {
   "codemirror_mode": {
    "name": "ipython",
    "version": 3
   },
   "file_extension": ".py",
   "mimetype": "text/x-python",
   "name": "python",
   "nbconvert_exporter": "python",
   "pygments_lexer": "ipython3",
   "version": "3.10.10"
  }
 },
 "nbformat": 4,
 "nbformat_minor": 2
}
