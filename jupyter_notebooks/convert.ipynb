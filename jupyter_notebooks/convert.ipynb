{
 "cells": [
  {
   "cell_type": "markdown",
   "metadata": {},
   "source": [
    "## Network from PandaPower Import"
   ]
  },
  {
   "cell_type": "code",
   "execution_count": null,
   "metadata": {},
   "outputs": [],
   "source": [
    "import reXplan as rx\n",
    "import pandapower.networks as pn\n",
    "\n",
    "net = pn.case14()\n",
    "rx.convert.from_pp(net, rename=True)\n",
    "# net.sgen"
   ]
  },
  {
   "cell_type": "code",
   "execution_count": null,
   "metadata": {},
   "outputs": [],
   "source": [
    "import reXplan as rx\n",
    "import warnings\n",
    "\n",
    "def custom_warning_format(message, category, filename, lineno, file=None, line=None):\n",
    "    return f\"{filename}:{lineno}: {category.__name__}: {message}\\n\"\n",
    "\n",
    "warnings.formatwarning = custom_warning_format\n",
    "\n",
    "simulationName = 'basic_example_tim';\n",
    "network = rx.network.Network(simulationName);\n",
    "simulation = rx.simulation.Sim(simulationName);"
   ]
  },
  {
   "cell_type": "code",
   "execution_count": null,
   "metadata": {},
   "outputs": [],
   "source": [
    "import pandapower as pp\n",
    "pp.run.runpp(network)\n",
    "network.pp_network"
   ]
  },
  {
   "cell_type": "code",
   "execution_count": 3,
   "metadata": {},
   "outputs": [
    {
     "name": "stdout",
     "output_type": "stream",
     "text": [
      "Warning: tower_type_1 - Interpolation method not recognized/not provided. Using linear interpolation instead.\n",
      "Warning: tower_type_2 - Interpolation method not recognized/not provided. Using linear interpolation instead.\n",
      "Warning: pole_type_1 - Interpolation method not recognized/not provided. Using linear interpolation instead.\n",
      "Warning: pole_type_2 - Interpolation method not recognized/not provided. Using linear interpolation instead.\n"
     ]
    },
    {
     "name": "stderr",
     "output_type": "stream",
     "text": [
      "C:\\GitHub\\reXplan-repo\\reXplan\\network.py:829: UserWarning: Input parameter \"zone\" is not a valid attribute of the \"Bus\" class.\n",
      "C:\\GitHub\\reXplan-repo\\reXplan\\network.py:829: UserWarning: Input parameter \"type\" is not a valid attribute of the \"Bus\" class.\n",
      "C:\\GitHub\\reXplan-repo\\reXplan\\network.py:829: UserWarning: Input parameter \"const_z_percent\" is not a valid attribute of the \"Load\" class.\n",
      "C:\\GitHub\\reXplan-repo\\reXplan\\network.py:829: UserWarning: Input parameter \"const_i_percent\" is not a valid attribute of the \"Load\" class.\n",
      "C:\\GitHub\\reXplan-repo\\reXplan\\network.py:829: UserWarning: Input parameter \"scaling\" is not a valid attribute of the \"Load\" class.\n",
      "C:\\GitHub\\reXplan-repo\\reXplan\\network.py:829: UserWarning: Input parameter \"slack_weight\" is not a valid attribute of the \"Generator\" class.\n",
      "C:\\GitHub\\reXplan-repo\\reXplan\\network.py:829: UserWarning: Input parameter \"scaling\" is not a valid attribute of the \"Generator\" class.\n",
      "C:\\GitHub\\reXplan-repo\\reXplan\\network.py:829: UserWarning: Input parameter \"va_degree\" is not a valid attribute of the \"Generator\" class.\n",
      "C:\\GitHub\\reXplan-repo\\reXplan\\network.py:829: UserWarning: Input parameter \"slack_weight\" is not a valid attribute of the \"Generator\" class.\n",
      "C:\\GitHub\\reXplan-repo\\reXplan\\network.py:829: UserWarning: Input parameter \"tap_pos\" is not a valid attribute of the \"Transformer\" class.\n",
      "C:\\GitHub\\reXplan-repo\\reXplan\\network.py:829: UserWarning: Input parameter \"parallel\" is not a valid attribute of the \"Transformer\" class.\n",
      "C:\\GitHub\\reXplan-repo\\reXplan\\network.py:829: UserWarning: Input parameter \"df\" is not a valid attribute of the \"Transformer\" class.\n",
      "C:\\GitHub\\reXplan-repo\\reXplan\\network.py:829: UserWarning: Input parameter \"df\" is not a valid attribute of the \"Line\" class.\n",
      "C:\\GitHub\\reXplan-repo\\reXplan\\network.py:829: UserWarning: Input parameter \"parallel\" is not a valid attribute of the \"Line\" class.\n",
      "C:\\GitHub\\reXplan-repo\\reXplan\\network.py:198: UserWarning: Missing \"max_p_mw\" field or \"dummy\" asset during profile allocation.\n"
     ]
    },
    {
     "name": "stdout",
     "output_type": "stream",
     "text": [
      "Network for study case <basic_example_tim> initialized.\n",
      "\n",
      "Simulation:\tStart =   0; Stop =  49; Duration =  49 timesteps.\n",
      "Hazard:\t\tStart =   9; Stop =  14; Duration =   5 timesteps.\n",
      "\n",
      "Strata  3\n",
      "Sample size  10\n",
      "Strata  4\n",
      "Sample size  8\n",
      "-----------------\n",
      " Kmeans solution \n",
      "-----------------\n",
      " *** Domain:  1  ***\n",
      " Number of strata:  4\n",
      " Sample size     :  8\n",
      "Computations are being done on population data\n",
      "\n",
      "Number of strata:  4\n",
      "... of which with only one unit:  0\n",
      "Input data have been checked and are compliant with requirements\n",
      "\n",
      " *** Domain :  1   1\n",
      " Number of strata :  10000\n",
      " *** Sample cost:  8\n",
      " *** Number of strata:  4\n",
      " *** Sample size :  8\n",
      " *** Number of strata :  4\n",
      "---------------------------------------------------------------------------------------------\n",
      "Strata: 0\n",
      "Number of samples: 2\n",
      "Hazard intensity range: 20.78 - 29.06\n",
      "Strata: 1\n",
      "Number of samples: 2\n",
      "Hazard intensity range: 29.06 - 33.93\n"
     ]
    },
    {
     "name": "stderr",
     "output_type": "stream",
     "text": [
      "C:\\GitHub\\reXplan-repo\\reXplan\\network.py:1038: UserWarning: No lineSpan defined for element line4. Defaulting to 0.2 km.\n"
     ]
    },
    {
     "name": "stdout",
     "output_type": "stream",
     "text": [
      "Strata: 2\n",
      "Number of samples: 2\n",
      "Hazard intensity range: 33.94 - 38.27\n",
      "Strata: 3\n",
      "Number of samples: 2\n",
      "Hazard intensity range: 38.27 - 77.99\n"
     ]
    }
   ],
   "source": [
    "import reXplan as rx\n",
    "import warnings\n",
    "def custom_warning_format(message, category, filename, lineno, file=None, line=None):\n",
    "    return f\"{filename}:{lineno}: {category.__name__}: {message}\\n\"\n",
    "warnings.formatwarning = custom_warning_format\n",
    "simulationName = 'basic_example_tim';\n",
    "network = rx.network.Network(simulationName);\n",
    "simulation = rx.simulation.Sim(simulationName);\n",
    "simulation.initialize_model_rp(\n",
    "                        network=network,\n",
    "                        ref_return_period=\"rp2\",\n",
    "                        mc_iteration_factor=1,\n",
    "                        max_mc_iterations=100,\n",
    "                        cv=0.1,\n",
    "                        nStrataSamples=10000)"
   ]
  },
  {
   "cell_type": "code",
   "execution_count": null,
   "metadata": {},
   "outputs": [],
   "source": [
    "time = rx.simulation.Time(start = 0, duration = 30)\n",
    "simulation.run(network, iterationSet = None, time = time, run_type = 'dc_opf', delta = 1e-16, saveOutput = True)"
   ]
  },
  {
   "cell_type": "markdown",
   "metadata": {},
   "source": [
    "Adaptations needed:\n",
    "- Sheet Lines:\n",
    "    - fragility_curve, normalTTR, lineSpan, return_period\n",
    "- Sheet Profiles:\n",
    "    - A3:... timesteps for range specified in sheet simulation\n",
    "- Sheet Cost:\n",
    "    - add loads with cp1_eur_per_mw"
   ]
  },
  {
   "cell_type": "markdown",
   "metadata": {},
   "source": []
  }
 ],
 "metadata": {
  "kernelspec": {
   "display_name": "venv",
   "language": "python",
   "name": "python3"
  },
  "language_info": {
   "codemirror_mode": {
    "name": "ipython",
    "version": 3
   },
   "file_extension": ".py",
   "mimetype": "text/x-python",
   "name": "python",
   "nbconvert_exporter": "python",
   "pygments_lexer": "ipython3",
   "version": "3.10.10"
  }
 },
 "nbformat": 4,
 "nbformat_minor": 2
}
