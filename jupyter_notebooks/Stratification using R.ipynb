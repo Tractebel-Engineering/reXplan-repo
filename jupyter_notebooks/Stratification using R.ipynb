{
 "cells": [
  {
   "cell_type": "code",
   "execution_count": 34,
   "id": "harmful-reviewer",
   "metadata": {},
   "outputs": [],
   "source": [
    "import rpy2\n",
    "import rpy2.robjects as robjects\n",
    "from rpy2.robjects.packages import importr\n",
    "stratify = importr('SamplingStrata')\n",
    "\n",
    "import resiliencyTool as rt\n",
    "import pandas as pd\n",
    "import numpy as np\n",
    "import warnings\n",
    "import math\n",
    "import matplotlib.pyplot as plt\n",
    "\n",
    "warnings.simplefilter(\"ignore\") # warning are ignored for now"
   ]
  },
  {
   "cell_type": "code",
   "execution_count": 36,
   "id": "chemical-declaration",
   "metadata": {},
   "outputs": [
    {
     "name": "stderr",
     "output_type": "stream",
     "text": [
      " 27% (3 of 11) |######                   | Elapsed Time: 0:00:00 ETA:   0:00:00"
     ]
    },
    {
     "name": "stdout",
     "output_type": "stream",
     "text": [
      "did not converge\n",
      "did not converge\n",
      "did not converge\n"
     ]
    },
    {
     "name": "stderr",
     "output_type": "stream",
     "text": [
      " 54% (6 of 11) |#############            | Elapsed Time: 0:00:00 ETA:   0:00:00"
     ]
    },
    {
     "name": "stdout",
     "output_type": "stream",
     "text": [
      "did not converge\n",
      "did not converge\n",
      "did not converge\n"
     ]
    },
    {
     "name": "stderr",
     "output_type": "stream",
     "text": [
      " 81% (9 of 11) |####################     | Elapsed Time: 0:00:00 ETA:   0:00:00"
     ]
    },
    {
     "name": "stdout",
     "output_type": "stream",
     "text": [
      "did not converge\n",
      "did not converge\n",
      "did not converge\n"
     ]
    },
    {
     "name": "stderr",
     "output_type": "stream",
     "text": [
      "100% (11 of 11) |########################| Elapsed Time: 0:00:00 Time:  0:00:00\n",
      "100% (11 of 11) |########################| Elapsed Time: 0:00:00 Time:  0:00:00\n",
      "  0% (0 of 11) |                         | Elapsed Time: 0:00:00 ETA:  --:--:--"
     ]
    },
    {
     "name": "stdout",
     "output_type": "stream",
     "text": [
      "did not converge\n",
      "did not converge\n"
     ]
    },
    {
     "name": "stderr",
     "output_type": "stream",
     "text": [
      "100% (11 of 11) |########################| Elapsed Time: 0:00:00 Time:  0:00:00\n",
      "100% (11 of 11) |########################| Elapsed Time: 0:00:00 Time:  0:00:00\n",
      "100% (11 of 11) |########################| Elapsed Time: 0:00:00 Time:  0:00:00\n",
      "100% (11 of 11) |########################| Elapsed Time: 0:00:00 Time:  0:00:00\n",
      "100% (11 of 11) |########################| Elapsed Time: 0:00:00 Time:  0:00:00\n"
     ]
    },
    {
     "name": "stdout",
     "output_type": "stream",
     "text": [
      "start= 1, stop= 41\n",
      "start= 12, stop= 17\n"
     ]
    },
    {
     "data": {
      "text/html": [
       "<div>\n",
       "<style scoped>\n",
       "    .dataframe tbody tr th:only-of-type {\n",
       "        vertical-align: middle;\n",
       "    }\n",
       "\n",
       "    .dataframe tbody tr th {\n",
       "        vertical-align: top;\n",
       "    }\n",
       "\n",
       "    .dataframe thead th {\n",
       "        text-align: right;\n",
       "    }\n",
       "</style>\n",
       "<table border=\"1\" class=\"dataframe\">\n",
       "  <thead>\n",
       "    <tr style=\"text-align: right;\">\n",
       "      <th></th>\n",
       "      <th>id</th>\n",
       "      <th>y1</th>\n",
       "      <th>y2</th>\n",
       "      <th>x</th>\n",
       "      <th>domain</th>\n",
       "    </tr>\n",
       "  </thead>\n",
       "  <tbody>\n",
       "    <tr>\n",
       "      <th>0</th>\n",
       "      <td>0.0</td>\n",
       "      <td>0.000000</td>\n",
       "      <td>0.000000</td>\n",
       "      <td>0.546115</td>\n",
       "      <td>1.0</td>\n",
       "    </tr>\n",
       "    <tr>\n",
       "      <th>1</th>\n",
       "      <td>1.0</td>\n",
       "      <td>0.000000</td>\n",
       "      <td>0.000000</td>\n",
       "      <td>0.546129</td>\n",
       "      <td>1.0</td>\n",
       "    </tr>\n",
       "    <tr>\n",
       "      <th>2</th>\n",
       "      <td>2.0</td>\n",
       "      <td>0.000000</td>\n",
       "      <td>0.000000</td>\n",
       "      <td>0.546143</td>\n",
       "      <td>1.0</td>\n",
       "    </tr>\n",
       "    <tr>\n",
       "      <th>3</th>\n",
       "      <td>3.0</td>\n",
       "      <td>0.000000</td>\n",
       "      <td>0.000000</td>\n",
       "      <td>0.546158</td>\n",
       "      <td>1.0</td>\n",
       "    </tr>\n",
       "    <tr>\n",
       "      <th>4</th>\n",
       "      <td>4.0</td>\n",
       "      <td>0.000000</td>\n",
       "      <td>0.000000</td>\n",
       "      <td>0.546172</td>\n",
       "      <td>1.0</td>\n",
       "    </tr>\n",
       "    <tr>\n",
       "      <th>...</th>\n",
       "      <td>...</td>\n",
       "      <td>...</td>\n",
       "      <td>...</td>\n",
       "      <td>...</td>\n",
       "      <td>...</td>\n",
       "    </tr>\n",
       "    <tr>\n",
       "      <th>9995</th>\n",
       "      <td>9995.0</td>\n",
       "      <td>0.584021</td>\n",
       "      <td>0.614425</td>\n",
       "      <td>1.176511</td>\n",
       "      <td>1.0</td>\n",
       "    </tr>\n",
       "    <tr>\n",
       "      <th>9996</th>\n",
       "      <td>9996.0</td>\n",
       "      <td>0.584793</td>\n",
       "      <td>0.614887</td>\n",
       "      <td>1.177111</td>\n",
       "      <td>1.0</td>\n",
       "    </tr>\n",
       "    <tr>\n",
       "      <th>9997</th>\n",
       "      <td>9997.0</td>\n",
       "      <td>0.585568</td>\n",
       "      <td>0.615350</td>\n",
       "      <td>1.177712</td>\n",
       "      <td>1.0</td>\n",
       "    </tr>\n",
       "    <tr>\n",
       "      <th>9998</th>\n",
       "      <td>9998.0</td>\n",
       "      <td>0.586345</td>\n",
       "      <td>0.615813</td>\n",
       "      <td>1.178315</td>\n",
       "      <td>1.0</td>\n",
       "    </tr>\n",
       "    <tr>\n",
       "      <th>9999</th>\n",
       "      <td>9999.0</td>\n",
       "      <td>0.587124</td>\n",
       "      <td>0.616278</td>\n",
       "      <td>1.178919</td>\n",
       "      <td>1.0</td>\n",
       "    </tr>\n",
       "  </tbody>\n",
       "</table>\n",
       "<p>10000 rows × 5 columns</p>\n",
       "</div>"
      ],
      "text/plain": [
       "          id        y1        y2         x  domain\n",
       "0        0.0  0.000000  0.000000  0.546115     1.0\n",
       "1        1.0  0.000000  0.000000  0.546129     1.0\n",
       "2        2.0  0.000000  0.000000  0.546143     1.0\n",
       "3        3.0  0.000000  0.000000  0.546158     1.0\n",
       "4        4.0  0.000000  0.000000  0.546172     1.0\n",
       "...      ...       ...       ...       ...     ...\n",
       "9995  9995.0  0.584021  0.614425  1.176511     1.0\n",
       "9996  9996.0  0.584793  0.614887  1.177111     1.0\n",
       "9997  9997.0  0.585568  0.615350  1.177712     1.0\n",
       "9998  9998.0  0.586345  0.615813  1.178315     1.0\n",
       "9999  9999.0  0.587124  0.616278  1.178919     1.0\n",
       "\n",
       "[10000 rows x 5 columns]"
      ]
     },
     "execution_count": 36,
     "metadata": {},
     "output_type": "execute_result"
    }
   ],
   "source": [
    "simulationName = 'strata_example'\n",
    "network = rt.network.Network(simulationName)\n",
    "simulation = rt.simulation.Sim(simulationName)\n",
    "\n",
    "x_min = 0.722\n",
    "x_max = 1.5\n",
    "N = 10000\n",
    "z = np.linspace(x_min,x_max,N)\n",
    "\n",
    "network.return_period.update_return_period(\"return_period.csv\")\n",
    "n_clusters = 4\n",
    "\n",
    "fc1 = network.fragilityCurves['p_f1']\n",
    "fc2 = network.fragilityCurves['p_f2']\n",
    "\n",
    "z, _ = network.return_period.stratify(x_min,x_max,N, fc1, n_clusters)\n",
    "\n",
    "y1 = fc1.interpolate(z)\n",
    "y2 = fc2.interpolate(z)\n",
    "\n",
    "ids = list(range(len(z)))\n",
    "domain = [1]*len(z)\n",
    "\n",
    "df = pd.DataFrame(np.transpose(np.array([ids, y1, y2, z, domain])), columns=[\"id\", \"y1\", \"y2\", \"x\", \"domain\"])\n",
    "   \n",
    "df"
   ]
  },
  {
   "cell_type": "code",
   "execution_count": 32,
   "id": "according-northeast",
   "metadata": {},
   "outputs": [
    {
     "name": "stdout",
     "output_type": "stream",
     "text": [
      "\n",
      "Strata  3\n",
      "Sample size  17\n",
      "Strata  4\n",
      "Sample size  10\n",
      "-----------------\n",
      " Kmeans solution \n",
      "-----------------\n",
      " *** Domain:  1  ***\n",
      " Number of strata:  4\n",
      " Sample size     :  10\n",
      "Computations are being done on population data\n",
      "\n",
      "Number of strata:  4\n",
      "... of which with only one unit:  0\n",
      "Input data have been checked and are compliant with requirements\n",
      "\n",
      " *** Domain :  1   1\n",
      " Number of strata :  10000\n",
      " *** Sample cost:  9.904211\n",
      " *** Number of strata:  4\n",
      " *** Sample size :  10\n",
      " *** Number of strata :  4\n",
      "---------------------------"
     ]
    }
   ],
   "source": [
    "robjects.r('''\n",
    "        mvarStratify <- function(df) {\n",
    "            \n",
    "                                        library(SamplingStrata)\n",
    "\n",
    "                                        frame <- buildFrameDF(df = df,\n",
    "                                                               id = \"id\",\n",
    "                                                               X = c(\"x\"),\n",
    "                                                               Y = c(\"y1\", \"y2\"),\n",
    "                                                               domainvalue = \"domain\")\n",
    "\n",
    "                                        cv <- as.data.frame(list(DOM=rep(\"DOM1\",1),\n",
    "                                                             CV1=rep(0.12,1),\n",
    "                                                             CV2=rep(0.12,1),\n",
    "                                                             domainvalue=c(1:1)))\n",
    "\n",
    "                                        kmean <- KmeansSolution2(frame=frame,\n",
    "                                                                     errors=cv,\n",
    "                                                                     maxclusters = 10,\n",
    "                                                                     showPlot = FALSE)\n",
    "\n",
    "                                        nstrat <- tapply(kmean$suggestions,\n",
    "                                                            kmean$domainvalue,\n",
    "                                                            FUN=function(x) length(unique(x)))\n",
    "\n",
    "                                        sugg <- prepareSuggestion(kmean=kmean,\n",
    "                                                                    frame=frame,\n",
    "                                                                    nstrat=nstrat)\n",
    "\n",
    "                                        solution <- optimStrata(method = \"continuous\",\n",
    "                                                                    errors = cv, \n",
    "                                                                    framesamp = frame,\n",
    "                                                                    iter = 50,\n",
    "                                                                    pops = 20,\n",
    "                                                                    nStrata = nstrat,\n",
    "                                                                    suggestions = sugg,\n",
    "                                                                    showPlot = FALSE)\n",
    "\n",
    "\n",
    "                                        strataStructure <- summaryStrata(solution$framenew,\n",
    "                                                                             solution$aggr_strata,\n",
    "                                                                             progress=FALSE)\n",
    "\n",
    "                                        return(strataStructure)\n",
    "                                    }\n",
    "            ''')\n",
    "\n",
    "mvarStratify_r = robjects.globalenv['mvarStratify']\n",
    "\n",
    "out = mvarStratify_r(robjects.conversion.py2rpy(df))"
   ]
  },
  {
   "cell_type": "code",
   "execution_count": 38,
   "id": "local-fighter",
   "metadata": {},
   "outputs": [
    {
     "data": {
      "text/plain": [
       "(array([3532., 2284., 1480.,  952.,  623.,  373.,  264.,  207.,  162.,\n",
       "         123.]),\n",
       " array([0.54611465, 0.60939512, 0.67267558, 0.73595605, 0.79923652,\n",
       "        0.86251699, 0.92579745, 0.98907792, 1.05235839, 1.11563886,\n",
       "        1.17891932]),\n",
       " <BarContainer object of 10 artists>)"
      ]
     },
     "execution_count": 38,
     "metadata": {},
     "output_type": "execute_result"
    },
    {
     "data": {
      "image/png": "[encoded data removed]",
      "text/plain": [
       "<Figure size 432x288 with 1 Axes>"
      ]
     },
     "metadata": {
      "needs_background": "light"
     },
     "output_type": "display_data"
    }
   ],
   "source": [
    "from rpy2.robjects import pandas2ri\n",
    "\n",
    "base = importr('base')\n",
    "pandas2ri.activate()\n",
    "\n",
    "df_res = robjects.conversion.rpy2py(out)\n",
    "df_res\n",
    "\n",
    "plt.hist(z)"
   ]
  },
  {
   "cell_type": "code",
   "execution_count": null,
   "id": "complicated-commons",
   "metadata": {},
   "outputs": [],
   "source": []
  }
 ],
 "metadata": {
  "kernelspec": {
   "display_name": "Python 3",
   "language": "python",
   "name": "python3"
  },
  "language_info": {
   "codemirror_mode": {
    "name": "ipython",
    "version": 3
   },
   "file_extension": ".py",
   "mimetype": "text/x-python",
   "name": "python",
   "nbconvert_exporter": "python",
   "pygments_lexer": "ipython3",
   "version": "3.8.6rc1"
  }
 },
 "nbformat": 4,
 "nbformat_minor": 5
}
