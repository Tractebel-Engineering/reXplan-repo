{
 "cells": [
  {
   "cell_type": "markdown",
   "id": "valid-preference",
   "metadata": {},
   "source": [
    "\n",
    "## Network initialization"
   ]
  },
  {
   "cell_type": "code",
   "execution_count": 1,
   "id": "entire-canyon",
   "metadata": {
    "tags": []
   },
   "outputs": [
    {
     "name": "stdout",
     "output_type": "stream",
     "text": [
      "Warning: tower_type3 - Interpolation method not recognized/not provided. Using linear interpolation instead.\n",
      "Warning: tower_type2 - Interpolation method not recognized/not provided. Using linear interpolation instead.\n",
      "Warning: tower_type1 - Interpolation method not recognized/not provided. Using linear interpolation instead.\n",
      "Network for study case <1-HV-urban--0-sw> initialized.\n",
      "\n",
      "Simulation:\tStart =   1; Stop =  51; Duration =  50 timesteps.\n",
      "Hazard:\t\tStart =   3; Stop =   8; Duration =   5 timesteps.\n"
     ]
    }
   ],
   "source": [
    "import reXplan as rx\n",
    "\n",
    "simulationName = '1-HV-urban--0-sw'\n",
    "network = rx.network.Network(simulationName)\n",
    "simulation = rx.simulation.Sim(simulationName)"
   ]
  },
  {
   "cell_type": "code",
   "execution_count": 2,
   "id": "least-somalia",
   "metadata": {},
   "outputs": [
    {
     "name": "stdout",
     "output_type": "stream",
     "text": [
      "\n",
      "Strata  3\n",
      "Sample size  131\n",
      "Strata  4\n",
      "Sample size  87\n",
      "Strata  5\n",
      "Sample size  28\n",
      "Strata  6\n",
      "Sample size  25\n",
      "Strata  7\n",
      "Sample size  22\n",
      "Strata  8\n",
      "Sample size  21\n",
      "Strata  9\n",
      "Sample size  18\n",
      "-----------------\n",
      " Kmeans solution \n",
      "-----------------\n",
      " *** Domain:  1  ***\n",
      " Number of strata:  9\n",
      " Sample size     :  18\n",
      "Computations are being done on population data\n",
      "\n",
      "Number of strata:  9\n",
      "... of which with only one unit:  0\n",
      "Input data have been checked and are compliant with requirements\n",
      "\n",
      " *** Domain :  1   1\n",
      " Number of strata :  1000\n",
      " *** Sample cost:  13.9782\n",
      " *** Number of strata:  6\n",
      " *** Sample size :  13\n",
      " *** Number of strata :  6\n",
      "---------------------------------------------------------------------------------------------\n",
      "Strata: 0\n",
      "Number of samples: 4\n",
      "Hazard intensity range: 19.315312186512983 - 50.604399727640065\n",
      "Strata: 1\n",
      "Number of samples: 4\n",
      "Hazard intensity range: 50.65885944866972 - 58.917947265787156\n",
      "Strata: 2\n",
      "Number of samples: 6\n",
      "Hazard intensity range: 58.97574172189132 - 66.9473124768527\n",
      "Strata: 3\n",
      "Number of samples: 4\n",
      "Hazard intensity range: 67.14033641865376 - 70.87650028641634\n",
      "Strata: 4\n",
      "Number of samples: 4\n",
      "Hazard intensity range: 71.2611948998367 - 75.73035917856834\n",
      "Strata: 5\n",
      "Number of samples: 4\n",
      "Hazard intensity range: 76.60076895874342 - 80.23517396506347\n"
     ]
    }
   ],
   "source": [
    "simulation.initialize_model_rp(\n",
    "                    network = network,\n",
    "                    ref_return_period = \"high_risk\",\n",
    "                    mc_iteration_factor = 2,\n",
    "                    max_mc_iterations = 1000,\n",
    "                    cv = 0.1,\n",
    "                    nStrataSamples = 1000)"
   ]
  },
  {
   "cell_type": "markdown",
   "id": "71e63846",
   "metadata": {},
   "source": [
    "--------"
   ]
  },
  {
   "cell_type": "markdown",
   "id": "sweet-special",
   "metadata": {},
   "source": [
    "## Launching montecarlo simulations\n",
    "Optimal power flow (40 steps) over 8 montercalo iterations divided into 4 stratas."
   ]
  },
  {
   "cell_type": "code",
   "execution_count": 5,
   "id": "controlling-rebel",
   "metadata": {},
   "outputs": [
    {
     "name": "stdout",
     "output_type": "stream",
     "text": [
      "Strata = 0; Iteration = 0\n"
     ]
    },
    {
     "name": "stderr",
     "output_type": "stream",
     "text": [
      "\n",
      "\u001b[APowerModels.jl does not consider reactive power cost - costs are ignored\n",
      "\n",
      "\u001b[APowerModels.jl does not consider reactive power cost - costs are ignored\n",
      "\n",
      "\u001b[APowerModels.jl does not consider reactive power cost - costs are ignored\n",
      "\n",
      "\u001b[APowerModels.jl does not consider reactive power cost - costs are ignored\n",
      "\n",
      "\u001b[APowerModels.jl does not consider reactive power cost - costs are ignored\n",
      "\n",
      "\u001b[APowerModels.jl does not consider reactive power cost - costs are ignored\n",
      "\n",
      "\u001b[APowerModels.jl does not consider reactive power cost - costs are ignored\n",
      "\n",
      "\u001b[APowerModels.jl does not consider reactive power cost - costs are ignored\n",
      "\n",
      "\u001b[APowerModels.jl does not consider reactive power cost - costs are ignored\n",
      "\n",
      "\u001b[APowerModels.jl does not consider reactive power cost - costs are ignored\n",
      "\n",
      "\u001b[APowerModels.jl does not consider reactive power cost - costs are ignored\n",
      "\n",
      "\u001b[APowerModels.jl does not consider reactive power cost - costs are ignored\n",
      "\n",
      "\u001b[APowerModels.jl does not consider reactive power cost - costs are ignored\n",
      "\n",
      "\u001b[APowerModels.jl does not consider reactive power cost - costs are ignored\n",
      "\n",
      "\u001b[APowerModels.jl does not consider reactive power cost - costs are ignored\n"
     ]
    },
    {
     "ename": "KeyboardInterrupt",
     "evalue": "",
     "output_type": "error",
     "traceback": [
      "\u001b[1;31m---------------------------------------------------------------------------\u001b[0m",
      "\u001b[1;31mKeyboardInterrupt\u001b[0m                         Traceback (most recent call last)",
      "Cell \u001b[1;32mIn[5], line 1\u001b[0m\n\u001b[1;32m----> 1\u001b[0m \u001b[43msimulation\u001b[49m\u001b[38;5;241;43m.\u001b[39;49m\u001b[43mrun\u001b[49m\u001b[43m(\u001b[49m\u001b[43mnetwork\u001b[49m\u001b[43m,\u001b[49m\u001b[43m \u001b[49m\u001b[43miterationSet\u001b[49m\u001b[43m \u001b[49m\u001b[38;5;241;43m=\u001b[39;49m\u001b[43m \u001b[49m\u001b[38;5;28;43;01mNone\u001b[39;49;00m\u001b[43m,\u001b[49m\u001b[43m \u001b[49m\u001b[43mtime\u001b[49m\u001b[43m \u001b[49m\u001b[38;5;241;43m=\u001b[39;49m\u001b[43m \u001b[49m\u001b[38;5;28;43;01mNone\u001b[39;49;00m\u001b[43m,\u001b[49m\u001b[43m \u001b[49m\u001b[43mrun_type\u001b[49m\u001b[43m \u001b[49m\u001b[38;5;241;43m=\u001b[39;49m\u001b[43m \u001b[49m\u001b[38;5;124;43m'\u001b[39;49m\u001b[38;5;124;43mpm_ac_opf\u001b[39;49m\u001b[38;5;124;43m'\u001b[39;49m\u001b[43m,\u001b[49m\u001b[43m \u001b[49m\u001b[43mdelta\u001b[49m\u001b[43m \u001b[49m\u001b[38;5;241;43m=\u001b[39;49m\u001b[43m \u001b[49m\u001b[38;5;241;43m1e-16\u001b[39;49m\u001b[43m,\u001b[49m\u001b[43m \u001b[49m\u001b[43msaveOutput\u001b[49m\u001b[43m \u001b[49m\u001b[38;5;241;43m=\u001b[39;49m\u001b[43m \u001b[49m\u001b[38;5;28;43;01mTrue\u001b[39;49;00m\u001b[43m)\u001b[49m\n",
      "File \u001b[1;32mD:\\GitHub\\reXplan-repo\\reXplan\\simulation.py:466\u001b[0m, in \u001b[0;36mSim.run\u001b[1;34m(self, network, iterationSet, saveOutput, time, debug, **kwargs)\u001b[0m\n\u001b[0;32m    464\u001b[0m network\u001b[38;5;241m.\u001b[39mupdate_grid(df_montecarlo[s][i], debug\u001b[38;5;241m=\u001b[39mdebug)\n\u001b[0;32m    465\u001b[0m \u001b[38;5;28;01mtry\u001b[39;00m:\n\u001b[1;32m--> 466\u001b[0m \tstrata_db\u001b[38;5;241m.\u001b[39mappend(network\u001b[38;5;241m.\u001b[39mrun(time_, debug\u001b[38;5;241m=\u001b[39mdebug, \u001b[38;5;241m*\u001b[39m\u001b[38;5;241m*\u001b[39mkwargs))\n\u001b[0;32m    467\u001b[0m \u001b[38;5;28;01mexcept\u001b[39;00m \u001b[38;5;167;01mException\u001b[39;00m \u001b[38;5;28;01mas\u001b[39;00m e:\n\u001b[0;32m    468\u001b[0m \t\u001b[38;5;28mprint\u001b[39m(\u001b[38;5;124mf\u001b[39m\u001b[38;5;124m'\u001b[39m\u001b[38;5;124mIteration \u001b[39m\u001b[38;5;132;01m{\u001b[39;00mi\u001b[38;5;132;01m}\u001b[39;00m\u001b[38;5;124m did not execute successfully. \u001b[39m\u001b[38;5;132;01m{\u001b[39;00m\u001b[38;5;28mstr\u001b[39m(e)\u001b[38;5;132;01m}\u001b[39;00m\u001b[38;5;124m'\u001b[39m)\n",
      "File \u001b[1;32mD:\\GitHub\\reXplan-repo\\reXplan\\network.py:514\u001b[0m, in \u001b[0;36mNetwork.run\u001b[1;34m(self, time, debug, **kwargs)\u001b[0m\n\u001b[0;32m    512\u001b[0m \u001b[38;5;28;01mdef\u001b[39;00m \u001b[38;5;21mrun\u001b[39m(\u001b[38;5;28mself\u001b[39m, time, debug\u001b[38;5;241m=\u001b[39m\u001b[38;5;28;01mNone\u001b[39;00m, \u001b[38;5;241m*\u001b[39m\u001b[38;5;241m*\u001b[39mkwargs):\n\u001b[0;32m    513\u001b[0m \t\u001b[38;5;66;03m# TODO: to include an argument to choose which elements will not be considered in the timeseries simulation. For instance, running a simulation with/without switches\u001b[39;00m\n\u001b[1;32m--> 514\u001b[0m \t\u001b[38;5;28;01mreturn\u001b[39;00m \u001b[38;5;28mself\u001b[39m\u001b[38;5;241m.\u001b[39mcalculationEngine\u001b[38;5;241m.\u001b[39mrun(\u001b[38;5;28mself\u001b[39m\u001b[38;5;241m.\u001b[39mbuild_timeseries_database(time), debug\u001b[38;5;241m=\u001b[39mdebug, \u001b[38;5;241m*\u001b[39m\u001b[38;5;241m*\u001b[39mkwargs)\n",
      "File \u001b[1;32mD:\\GitHub\\reXplan-repo\\reXplan\\engine.py:131\u001b[0m, in \u001b[0;36mpandapower.run\u001b[1;34m(self, df_timeseries, **kwargs)\u001b[0m\n\u001b[0;32m    128\u001b[0m \t\u001b[38;5;28;01melse\u001b[39;00m:\n\u001b[0;32m    129\u001b[0m \t\t\u001b[38;5;28mprint\u001b[39m(\u001b[38;5;124m'\u001b[39m\u001b[38;5;124mNo run_type specified. Defaulting to runopp (OPF)\u001b[39m\u001b[38;5;124m'\u001b[39m)\n\u001b[1;32m--> 131\u001b[0m \u001b[38;5;28mself\u001b[39m\u001b[38;5;241m.\u001b[39mrun_time_series(df_timeseries, run\u001b[38;5;241m=\u001b[39mrun_type, \u001b[38;5;241m*\u001b[39m\u001b[38;5;241m*\u001b[39mkwargs)\n\u001b[0;32m    132\u001b[0m \u001b[38;5;28;01mreturn\u001b[39;00m \u001b[38;5;28mself\u001b[39m\u001b[38;5;241m.\u001b[39mformat(output)\n",
      "File \u001b[1;32mD:\\GitHub\\reXplan-repo\\reXplan\\engine.py:74\u001b[0m, in \u001b[0;36mpandapower.run_time_series\u001b[1;34m(self, df_timeseries, **kwargs)\u001b[0m\n\u001b[0;32m     72\u001b[0m \u001b[38;5;28;01mdef\u001b[39;00m \u001b[38;5;21mrun_time_series\u001b[39m(\u001b[38;5;28mself\u001b[39m, df_timeseries, \u001b[38;5;241m*\u001b[39m\u001b[38;5;241m*\u001b[39mkwargs):\n\u001b[0;32m     73\u001b[0m \t\u001b[38;5;66;03m# TODO: @TIM add description\u001b[39;00m\n\u001b[1;32m---> 74\u001b[0m \trun_timeseries(\u001b[38;5;28mself\u001b[39m\u001b[38;5;241m.\u001b[39mnetwork, df_timeseries\u001b[38;5;241m.\u001b[39mindex,continue_on_divergence\u001b[38;5;241m=\u001b[39m\u001b[38;5;28;01mTrue\u001b[39;00m, \u001b[38;5;241m*\u001b[39m\u001b[38;5;241m*\u001b[39mkwargs)\n",
      "File \u001b[1;32md:\\GitHub\\reXplan-repo\\venv\\lib\\site-packages\\pandapower\\timeseries\\run_time_series.py:355\u001b[0m, in \u001b[0;36mrun_timeseries\u001b[1;34m(net, time_steps, continue_on_divergence, verbose, **kwargs)\u001b[0m\n\u001b[0;32m    352\u001b[0m cleanup(net, ts_variables)\n\u001b[0;32m    354\u001b[0m control_diagnostic(net)\n\u001b[1;32m--> 355\u001b[0m run_loop(net, ts_variables, \u001b[38;5;241m*\u001b[39m\u001b[38;5;241m*\u001b[39mkwargs)\n\u001b[0;32m    357\u001b[0m \u001b[38;5;66;03m# cleanup functions after the last time step was calculated\u001b[39;00m\n\u001b[0;32m    358\u001b[0m cleanup(net, ts_variables)\n",
      "File \u001b[1;32md:\\GitHub\\reXplan-repo\\venv\\lib\\site-packages\\pandapower\\timeseries\\run_time_series.py:324\u001b[0m, in \u001b[0;36mrun_loop\u001b[1;34m(net, ts_variables, run_control_fct, output_writer_fct, **kwargs)\u001b[0m\n\u001b[0;32m    321\u001b[0m \u001b[38;5;28;01mfor\u001b[39;00m i, time_step \u001b[38;5;129;01min\u001b[39;00m \u001b[38;5;28menumerate\u001b[39m(ts_variables[\u001b[38;5;124m\"\u001b[39m\u001b[38;5;124mtime_steps\u001b[39m\u001b[38;5;124m\"\u001b[39m]):\n\u001b[0;32m    322\u001b[0m     print_progress(i, time_step, ts_variables[\u001b[38;5;124m\"\u001b[39m\u001b[38;5;124mtime_steps\u001b[39m\u001b[38;5;124m\"\u001b[39m], ts_variables[\u001b[38;5;124m\"\u001b[39m\u001b[38;5;124mverbose\u001b[39m\u001b[38;5;124m\"\u001b[39m], ts_variables\u001b[38;5;241m=\u001b[39mts_variables,\n\u001b[0;32m    323\u001b[0m                    \u001b[38;5;241m*\u001b[39m\u001b[38;5;241m*\u001b[39mkwargs)\n\u001b[1;32m--> 324\u001b[0m     run_time_step(net, time_step, ts_variables, run_control_fct, output_writer_fct, \u001b[38;5;241m*\u001b[39m\u001b[38;5;241m*\u001b[39mkwargs)\n",
      "File \u001b[1;32md:\\GitHub\\reXplan-repo\\venv\\lib\\site-packages\\pandapower\\timeseries\\run_time_series.py:129\u001b[0m, in \u001b[0;36mrun_time_step\u001b[1;34m(net, time_step, ts_variables, run_control_fct, output_writer_fct, **kwargs)\u001b[0m\n\u001b[0;32m    125\u001b[0m control_time_step(ts_variables[\u001b[38;5;124m'\u001b[39m\u001b[38;5;124mcontroller_order\u001b[39m\u001b[38;5;124m'\u001b[39m], time_step)\n\u001b[0;32m    127\u001b[0m \u001b[38;5;28;01mtry\u001b[39;00m:\n\u001b[0;32m    128\u001b[0m     \u001b[38;5;66;03m# calls controller init, control steps and run function (runpp usually is called in here)\u001b[39;00m\n\u001b[1;32m--> 129\u001b[0m     run_control_fct(net, ctrl_variables\u001b[38;5;241m=\u001b[39mts_variables, \u001b[38;5;241m*\u001b[39m\u001b[38;5;241m*\u001b[39mkwargs)\n\u001b[0;32m    130\u001b[0m \u001b[38;5;28;01mexcept\u001b[39;00m ControllerNotConverged:\n\u001b[0;32m    131\u001b[0m     ctrl_converged \u001b[38;5;241m=\u001b[39m \u001b[38;5;28;01mFalse\u001b[39;00m\n",
      "File \u001b[1;32md:\\GitHub\\reXplan-repo\\venv\\lib\\site-packages\\pandapower\\control\\run_control.py:303\u001b[0m, in \u001b[0;36mrun_control\u001b[1;34m(net, ctrl_variables, max_iter, **kwargs)\u001b[0m\n\u001b[0;32m    300\u001b[0m ctrl_variables \u001b[38;5;241m=\u001b[39m net_initialization(net, ctrl_variables, \u001b[38;5;241m*\u001b[39m\u001b[38;5;241m*\u001b[39mkwargs)\n\u001b[0;32m    302\u001b[0m \u001b[38;5;66;03m# run each controller step in given controller order\u001b[39;00m\n\u001b[1;32m--> 303\u001b[0m control_implementation(net, controller_order, ctrl_variables, max_iter, \u001b[38;5;241m*\u001b[39m\u001b[38;5;241m*\u001b[39mkwargs)\n\u001b[0;32m    305\u001b[0m \u001b[38;5;66;03m# call finalize function of each controller\u001b[39;00m\n\u001b[0;32m    306\u001b[0m control_finalization(controller_order)\n",
      "File \u001b[1;32md:\\GitHub\\reXplan-repo\\venv\\lib\\site-packages\\pandapower\\control\\run_control.py:219\u001b[0m, in \u001b[0;36mcontrol_implementation\u001b[1;34m(net, controller_order, ctrl_variables, max_iter, evaluate_net_fct, **kwargs)\u001b[0m\n\u001b[0;32m    217\u001b[0m     \u001b[38;5;28;01mif\u001b[39;00m \u001b[38;5;129;01mnot\u001b[39;00m ctrl_converged:\n\u001b[0;32m    218\u001b[0m         run_count \u001b[38;5;241m+\u001b[39m\u001b[38;5;241m=\u001b[39m \u001b[38;5;241m1\u001b[39m\n\u001b[1;32m--> 219\u001b[0m         ctrl_variables \u001b[38;5;241m=\u001b[39m evaluate_net_fct(net, levelorder, ctrl_variables, \u001b[38;5;241m*\u001b[39m\u001b[38;5;241m*\u001b[39mkwargs)\n\u001b[0;32m    220\u001b[0m \u001b[38;5;66;03m# raises controller not converged\u001b[39;00m\n\u001b[0;32m    221\u001b[0m \u001b[38;5;28;01mif\u001b[39;00m ctrl_variables[\u001b[38;5;124m'\u001b[39m\u001b[38;5;124mcheck_each_level\u001b[39m\u001b[38;5;124m'\u001b[39m]:\n",
      "File \u001b[1;32md:\\GitHub\\reXplan-repo\\venv\\lib\\site-packages\\pandapower\\control\\run_control.py:180\u001b[0m, in \u001b[0;36m_evaluate_net\u001b[1;34m(net, levelorder, ctrl_variables, **kwargs)\u001b[0m\n\u001b[0;32m    178\u001b[0m errors \u001b[38;5;241m=\u001b[39m ctrl_variables[\u001b[38;5;124m'\u001b[39m\u001b[38;5;124merrors\u001b[39m\u001b[38;5;124m'\u001b[39m]\n\u001b[0;32m    179\u001b[0m \u001b[38;5;28;01mtry\u001b[39;00m:\n\u001b[1;32m--> 180\u001b[0m     run_funct(net, \u001b[38;5;241m*\u001b[39m\u001b[38;5;241m*\u001b[39mkwargs)  \u001b[38;5;66;03m# run can be runpp, runopf or whatever\u001b[39;00m\n\u001b[0;32m    181\u001b[0m \u001b[38;5;28;01mexcept\u001b[39;00m errors \u001b[38;5;28;01mas\u001b[39;00m err:\n\u001b[0;32m    182\u001b[0m     net\u001b[38;5;241m.\u001b[39m_ppc \u001b[38;5;241m=\u001b[39m \u001b[38;5;28;01mNone\u001b[39;00m\n",
      "File \u001b[1;32md:\\GitHub\\reXplan-repo\\venv\\lib\\site-packages\\pandapower\\runpm.py:134\u001b[0m, in \u001b[0;36mrunpm_ac_opf\u001b[1;34m(net, pp_to_pm_callback, calculate_voltage_angles, trafo_model, delta, trafo3w_losses, check_connectivity, pm_solver, correct_pm_network_data, silence, pm_time_limits, pm_log_level, pm_file_path, delete_buffer_file, opf_flow_lim, pm_tol, pdm_dev_mode, **kwargs)\u001b[0m\n\u001b[0;32m    124\u001b[0m _add_ppc_options(net, calculate_voltage_angles\u001b[38;5;241m=\u001b[39mcalculate_voltage_angles,\n\u001b[0;32m    125\u001b[0m                  trafo_model\u001b[38;5;241m=\u001b[39mtrafo_model, check_connectivity\u001b[38;5;241m=\u001b[39mcheck_connectivity,\n\u001b[0;32m    126\u001b[0m                  mode\u001b[38;5;241m=\u001b[39m\u001b[38;5;124m\"\u001b[39m\u001b[38;5;124mopf\u001b[39m\u001b[38;5;124m\"\u001b[39m, switch_rx_ratio\u001b[38;5;241m=\u001b[39m\u001b[38;5;241m2\u001b[39m, init_vm_pu\u001b[38;5;241m=\u001b[39m\u001b[38;5;124m\"\u001b[39m\u001b[38;5;124mflat\u001b[39m\u001b[38;5;124m\"\u001b[39m, init_va_degree\u001b[38;5;241m=\u001b[39m\u001b[38;5;124m\"\u001b[39m\u001b[38;5;124mflat\u001b[39m\u001b[38;5;124m\"\u001b[39m,\n\u001b[0;32m    127\u001b[0m                  enforce_q_lims\u001b[38;5;241m=\u001b[39m\u001b[38;5;28;01mTrue\u001b[39;00m, recycle\u001b[38;5;241m=\u001b[39m\u001b[38;5;28mdict\u001b[39m(_is_elements\u001b[38;5;241m=\u001b[39m\u001b[38;5;28;01mFalse\u001b[39;00m, ppc\u001b[38;5;241m=\u001b[39m\u001b[38;5;28;01mFalse\u001b[39;00m, Ybus\u001b[38;5;241m=\u001b[39m\u001b[38;5;28;01mFalse\u001b[39;00m),\n\u001b[0;32m    128\u001b[0m                  voltage_depend_loads\u001b[38;5;241m=\u001b[39m\u001b[38;5;28;01mFalse\u001b[39;00m, delta\u001b[38;5;241m=\u001b[39mdelta, trafo3w_losses\u001b[38;5;241m=\u001b[39mtrafo3w_losses)\n\u001b[0;32m    129\u001b[0m _add_opf_options(net, trafo_loading\u001b[38;5;241m=\u001b[39m\u001b[38;5;124m'\u001b[39m\u001b[38;5;124mpower\u001b[39m\u001b[38;5;124m'\u001b[39m, ac\u001b[38;5;241m=\u001b[39m\u001b[38;5;28;01mTrue\u001b[39;00m, init\u001b[38;5;241m=\u001b[39m\u001b[38;5;124m\"\u001b[39m\u001b[38;5;124mflat\u001b[39m\u001b[38;5;124m\"\u001b[39m, numba\u001b[38;5;241m=\u001b[39m\u001b[38;5;28;01mTrue\u001b[39;00m,\n\u001b[0;32m    130\u001b[0m                  pp_to_pm_callback\u001b[38;5;241m=\u001b[39mpp_to_pm_callback, julia_file\u001b[38;5;241m=\u001b[39m\u001b[38;5;124m\"\u001b[39m\u001b[38;5;124mrun_powermodels_opf\u001b[39m\u001b[38;5;124m\"\u001b[39m, pm_model\u001b[38;5;241m=\u001b[39m\u001b[38;5;124m\"\u001b[39m\u001b[38;5;124mACPPowerModel\u001b[39m\u001b[38;5;124m\"\u001b[39m, pm_solver\u001b[38;5;241m=\u001b[39mpm_solver,\n\u001b[0;32m    131\u001b[0m                  correct_pm_network_data\u001b[38;5;241m=\u001b[39mcorrect_pm_network_data, silence\u001b[38;5;241m=\u001b[39msilence, pm_time_limits\u001b[38;5;241m=\u001b[39mpm_time_limits,\n\u001b[0;32m    132\u001b[0m                  pm_log_level\u001b[38;5;241m=\u001b[39mpm_log_level, opf_flow_lim\u001b[38;5;241m=\u001b[39mopf_flow_lim, pm_tol\u001b[38;5;241m=\u001b[39mpm_tol)\n\u001b[1;32m--> 134\u001b[0m \u001b[43m_runpm\u001b[49m\u001b[43m(\u001b[49m\u001b[43mnet\u001b[49m\u001b[43m,\u001b[49m\u001b[43m \u001b[49m\u001b[43mdelete_buffer_file\u001b[49m\u001b[38;5;241;43m=\u001b[39;49m\u001b[43mdelete_buffer_file\u001b[49m\u001b[43m,\u001b[49m\u001b[43m \u001b[49m\u001b[43mpm_file_path\u001b[49m\u001b[38;5;241;43m=\u001b[39;49m\u001b[43mpm_file_path\u001b[49m\u001b[43m,\u001b[49m\u001b[43m \u001b[49m\u001b[43mpdm_dev_mode\u001b[49m\u001b[38;5;241;43m=\u001b[39;49m\u001b[43mpdm_dev_mode\u001b[49m\u001b[43m)\u001b[49m\n",
      "File \u001b[1;32md:\\GitHub\\reXplan-repo\\venv\\lib\\site-packages\\pandapower\\opf\\run_powermodels.py:35\u001b[0m, in \u001b[0;36m_runpm\u001b[1;34m(net, delete_buffer_file, pm_file_path, pdm_dev_mode, **kwargs)\u001b[0m\n\u001b[0;32m     33\u001b[0m logger\u001b[38;5;241m.\u001b[39mdebug(\u001b[38;5;124m\"\u001b[39m\u001b[38;5;124mthe json file for converted net is stored in: \u001b[39m\u001b[38;5;132;01m%s\u001b[39;00m\u001b[38;5;124m\"\u001b[39m \u001b[38;5;241m%\u001b[39m buffer_file)\n\u001b[0;32m     34\u001b[0m \u001b[38;5;66;03m# run power models optimization in julia\u001b[39;00m\n\u001b[1;32m---> 35\u001b[0m result_pm \u001b[38;5;241m=\u001b[39m \u001b[43m_call_pandamodels\u001b[49m\u001b[43m(\u001b[49m\u001b[43mbuffer_file\u001b[49m\u001b[43m,\u001b[49m\u001b[43m \u001b[49m\u001b[43mnet\u001b[49m\u001b[38;5;241;43m.\u001b[39;49m\u001b[43m_options\u001b[49m\u001b[43m[\u001b[49m\u001b[38;5;124;43m\"\u001b[39;49m\u001b[38;5;124;43mjulia_file\u001b[39;49m\u001b[38;5;124;43m\"\u001b[39;49m\u001b[43m]\u001b[49m\u001b[43m,\u001b[49m\u001b[43m \u001b[49m\u001b[43mpdm_dev_mode\u001b[49m\u001b[43m)\u001b[49m\n\u001b[0;32m     37\u001b[0m logger\u001b[38;5;241m.\u001b[39minfo(\u001b[38;5;124m\"\u001b[39m\u001b[38;5;124mOptimization (\u001b[39m\u001b[38;5;124m'\u001b[39m\u001b[38;5;124m\"\u001b[39m\u001b[38;5;241m+\u001b[39mnet\u001b[38;5;241m.\u001b[39m_options[\u001b[38;5;124m\"\u001b[39m\u001b[38;5;124mjulia_file\u001b[39m\u001b[38;5;124m\"\u001b[39m]\u001b[38;5;241m+\u001b[39m\u001b[38;5;124m\"\u001b[39m\u001b[38;5;124m'\u001b[39m\u001b[38;5;124m) \u001b[39m\u001b[38;5;124m\"\u001b[39m \u001b[38;5;241m+\u001b[39m\n\u001b[0;32m     38\u001b[0m             \u001b[38;5;124m\"\u001b[39m\u001b[38;5;124mis finished in \u001b[39m\u001b[38;5;132;01m%s\u001b[39;00m\u001b[38;5;124m seconds:\u001b[39m\u001b[38;5;124m\"\u001b[39m \u001b[38;5;241m%\u001b[39m \u001b[38;5;28mround\u001b[39m(result_pm[\u001b[38;5;124m\"\u001b[39m\u001b[38;5;124msolve_time\u001b[39m\u001b[38;5;124m\"\u001b[39m], \u001b[38;5;241m2\u001b[39m))\n\u001b[0;32m     39\u001b[0m \u001b[38;5;66;03m# read results and write back to net\u001b[39;00m\n",
      "File \u001b[1;32md:\\GitHub\\reXplan-repo\\venv\\lib\\site-packages\\pandapower\\opf\\run_powermodels.py:99\u001b[0m, in \u001b[0;36m_call_pandamodels\u001b[1;34m(buffer_file, julia_file, dev_mode)\u001b[0m\n\u001b[0;32m     96\u001b[0m     \u001b[38;5;28;01mraise\u001b[39;00m \u001b[38;5;167;01mImportError\u001b[39;00m(\u001b[38;5;124m\"\u001b[39m\u001b[38;5;124mcannot use PandaModels\u001b[39m\u001b[38;5;124m\"\u001b[39m)\n\u001b[0;32m     98\u001b[0m Main\u001b[38;5;241m.\u001b[39mbuffer_file \u001b[38;5;241m=\u001b[39m buffer_file\n\u001b[1;32m---> 99\u001b[0m result_pm \u001b[38;5;241m=\u001b[39m \u001b[43mMain\u001b[49m\u001b[38;5;241;43m.\u001b[39;49m\u001b[43meval\u001b[49m\u001b[43m(\u001b[49m\u001b[43mjulia_file\u001b[49m\u001b[43m \u001b[49m\u001b[38;5;241;43m+\u001b[39;49m\u001b[43m \u001b[49m\u001b[38;5;124;43m\"\u001b[39;49m\u001b[38;5;124;43m(buffer_file)\u001b[39;49m\u001b[38;5;124;43m\"\u001b[39;49m\u001b[43m)\u001b[49m\n\u001b[0;32m    101\u001b[0m \u001b[38;5;66;03m# if dev_mode:\u001b[39;00m\n\u001b[0;32m    102\u001b[0m \u001b[38;5;66;03m#     Pkg.activate()\u001b[39;00m\n\u001b[0;32m    103\u001b[0m \u001b[38;5;66;03m#     Pkg.free(\"PandaModels\")\u001b[39;00m\n\u001b[0;32m    104\u001b[0m \u001b[38;5;66;03m#     Pkg.resolve()\u001b[39;00m\n\u001b[0;32m    105\u001b[0m \u001b[38;5;28;01mreturn\u001b[39;00m result_pm\n",
      "File \u001b[1;32md:\\GitHub\\reXplan-repo\\venv\\lib\\site-packages\\julia\\core.py:627\u001b[0m, in \u001b[0;36mJulia.eval\u001b[1;34m(self, src)\u001b[0m\n\u001b[0;32m    625\u001b[0m \u001b[38;5;28;01mif\u001b[39;00m src \u001b[38;5;129;01mis\u001b[39;00m \u001b[38;5;28;01mNone\u001b[39;00m:\n\u001b[0;32m    626\u001b[0m     \u001b[38;5;28;01mreturn\u001b[39;00m \u001b[38;5;28;01mNone\u001b[39;00m\n\u001b[1;32m--> 627\u001b[0m ans \u001b[38;5;241m=\u001b[39m \u001b[38;5;28;43mself\u001b[39;49m\u001b[38;5;241;43m.\u001b[39;49m\u001b[43m_call\u001b[49m\u001b[43m(\u001b[49m\u001b[43msrc\u001b[49m\u001b[43m)\u001b[49m\n\u001b[0;32m    628\u001b[0m \u001b[38;5;28;01mif\u001b[39;00m \u001b[38;5;129;01mnot\u001b[39;00m ans:\n\u001b[0;32m    629\u001b[0m     \u001b[38;5;28;01mreturn\u001b[39;00m \u001b[38;5;28;01mNone\u001b[39;00m\n",
      "File \u001b[1;32md:\\GitHub\\reXplan-repo\\venv\\lib\\site-packages\\julia\\core.py:555\u001b[0m, in \u001b[0;36mJulia._call\u001b[1;34m(self, src)\u001b[0m\n\u001b[0;32m    553\u001b[0m \u001b[38;5;66;03m# logger.debug(\"_call(%s)\", src)\u001b[39;00m\n\u001b[0;32m    554\u001b[0m ans \u001b[38;5;241m=\u001b[39m \u001b[38;5;28mself\u001b[39m\u001b[38;5;241m.\u001b[39mapi\u001b[38;5;241m.\u001b[39mjl_eval_string(src\u001b[38;5;241m.\u001b[39mencode(\u001b[38;5;124m'\u001b[39m\u001b[38;5;124mutf-8\u001b[39m\u001b[38;5;124m'\u001b[39m))\n\u001b[1;32m--> 555\u001b[0m \u001b[38;5;28;43mself\u001b[39;49m\u001b[38;5;241;43m.\u001b[39;49m\u001b[43mcheck_exception\u001b[49m\u001b[43m(\u001b[49m\u001b[43msrc\u001b[49m\u001b[43m)\u001b[49m\n\u001b[0;32m    557\u001b[0m \u001b[38;5;28;01mreturn\u001b[39;00m ans\n",
      "File \u001b[1;32md:\\GitHub\\reXplan-repo\\venv\\lib\\site-packages\\julia\\core.py:587\u001b[0m, in \u001b[0;36mJulia.check_exception\u001b[1;34m(self, src)\u001b[0m\n\u001b[0;32m    583\u001b[0m     \u001b[38;5;28;01melse\u001b[39;00m:\n\u001b[0;32m    584\u001b[0m         \u001b[38;5;28;01mraise\u001b[39;00m \u001b[38;5;167;01mTypeError\u001b[39;00m(\u001b[38;5;124m\"\u001b[39m\u001b[38;5;124mCannot unbox pointer \u001b[39m\u001b[38;5;132;01m{}\u001b[39;00m\u001b[38;5;124m as \u001b[39m\u001b[38;5;132;01m{}\u001b[39;00m\u001b[38;5;124m\"\u001b[39m\n\u001b[0;32m    585\u001b[0m                         \u001b[38;5;241m.\u001b[39mformat(pointer, c_type))\n\u001b[1;32m--> 587\u001b[0m \u001b[38;5;28;01mdef\u001b[39;00m \u001b[38;5;21mcheck_exception\u001b[39m(\u001b[38;5;28mself\u001b[39m, src\u001b[38;5;241m=\u001b[39m\u001b[38;5;124m\"\u001b[39m\u001b[38;5;124m<unknown code>\u001b[39m\u001b[38;5;124m\"\u001b[39m):\n\u001b[0;32m    588\u001b[0m     exoc \u001b[38;5;241m=\u001b[39m \u001b[38;5;28mself\u001b[39m\u001b[38;5;241m.\u001b[39mapi\u001b[38;5;241m.\u001b[39mjl_exception_occurred()\n\u001b[0;32m    589\u001b[0m     logger\u001b[38;5;241m.\u001b[39mdebug(\u001b[38;5;124m\"\u001b[39m\u001b[38;5;124mexception occured? \u001b[39m\u001b[38;5;132;01m%s\u001b[39;00m\u001b[38;5;124m\"\u001b[39m, \u001b[38;5;28mstr\u001b[39m(exoc))\n",
      "File \u001b[1;32m_pydevd_bundle/pydevd_cython.pyx:1457\u001b[0m, in \u001b[0;36m_pydevd_bundle.pydevd_cython.SafeCallWrapper.__call__\u001b[1;34m()\u001b[0m\n",
      "File \u001b[1;32m_pydevd_bundle/pydevd_cython.pyx:1758\u001b[0m, in \u001b[0;36m_pydevd_bundle.pydevd_cython.ThreadTracer.__call__\u001b[1;34m()\u001b[0m\n",
      "File \u001b[1;32md:\\GitHub\\reXplan-repo\\venv\\lib\\site-packages\\debugpy\\_vendored\\pydevd\\_pydev_bundle\\pydev_is_thread_alive.py:9\u001b[0m, in \u001b[0;36mis_thread_alive\u001b[1;34m(t)\u001b[0m\n\u001b[0;32m      6\u001b[0m _temp \u001b[38;5;241m=\u001b[39m threading\u001b[38;5;241m.\u001b[39mThread()\n\u001b[0;32m      7\u001b[0m \u001b[38;5;28;01mif\u001b[39;00m \u001b[38;5;28mhasattr\u001b[39m(_temp, \u001b[38;5;124m'\u001b[39m\u001b[38;5;124m_is_stopped\u001b[39m\u001b[38;5;124m'\u001b[39m):  \u001b[38;5;66;03m# Python 3.x has this\u001b[39;00m\n\u001b[1;32m----> 9\u001b[0m     \u001b[38;5;28;01mdef\u001b[39;00m \u001b[38;5;21mis_thread_alive\u001b[39m(t):\n\u001b[0;32m     10\u001b[0m         \u001b[38;5;28;01mreturn\u001b[39;00m \u001b[38;5;129;01mnot\u001b[39;00m t\u001b[38;5;241m.\u001b[39m_is_stopped\n\u001b[0;32m     12\u001b[0m \u001b[38;5;28;01melif\u001b[39;00m \u001b[38;5;28mhasattr\u001b[39m(_temp, \u001b[38;5;124m'\u001b[39m\u001b[38;5;124m_Thread__stopped\u001b[39m\u001b[38;5;124m'\u001b[39m):  \u001b[38;5;66;03m# Python 2.x has this\u001b[39;00m\n",
      "\u001b[1;31mKeyboardInterrupt\u001b[0m: "
     ]
    }
   ],
   "source": [
    "simulation.run(network, iterationSet = None, time = None, run_type = 'pm_ac_opf', delta = 1e-16, saveOutput = True)"
   ]
  },
  {
   "cell_type": "code",
   "execution_count": 22,
   "id": "flying-commerce",
   "metadata": {},
   "outputs": [
    {
     "data": {
      "text/html": [
       "<div>\n",
       "<style scoped>\n",
       "    .dataframe tbody tr th:only-of-type {\n",
       "        vertical-align: middle;\n",
       "    }\n",
       "\n",
       "    .dataframe tbody tr th {\n",
       "        vertical-align: top;\n",
       "    }\n",
       "\n",
       "    .dataframe thead th {\n",
       "        text-align: right;\n",
       "    }\n",
       "</style>\n",
       "<table border=\"1\" class=\"dataframe\">\n",
       "  <thead>\n",
       "    <tr style=\"text-align: right;\">\n",
       "      <th></th>\n",
       "      <th></th>\n",
       "      <th></th>\n",
       "      <th></th>\n",
       "      <th>2022-01-01 01:00:00</th>\n",
       "      <th>2022-01-01 02:00:00</th>\n",
       "      <th>2022-01-01 03:00:00</th>\n",
       "      <th>2022-01-01 04:00:00</th>\n",
       "      <th>2022-01-01 05:00:00</th>\n",
       "      <th>2022-01-01 06:00:00</th>\n",
       "      <th>2022-01-01 07:00:00</th>\n",
       "      <th>2022-01-01 08:00:00</th>\n",
       "      <th>2022-01-01 09:00:00</th>\n",
       "      <th>2022-01-01 10:00:00</th>\n",
       "      <th>2022-01-01 11:00:00</th>\n",
       "      <th>2022-01-01 12:00:00</th>\n",
       "      <th>2022-01-01 13:00:00</th>\n",
       "      <th>2022-01-01 14:00:00</th>\n",
       "      <th>2022-01-01 15:00:00</th>\n",
       "      <th>2022-01-01 16:00:00</th>\n",
       "      <th>2022-01-01 17:00:00</th>\n",
       "      <th>2022-01-01 18:00:00</th>\n",
       "      <th>2022-01-01 19:00:00</th>\n",
       "      <th>2022-01-01 20:00:00</th>\n",
       "      <th>2022-01-01 21:00:00</th>\n",
       "      <th>2022-01-01 22:00:00</th>\n",
       "      <th>2022-01-01 23:00:00</th>\n",
       "      <th>2022-01-02 00:00:00</th>\n",
       "      <th>2022-01-02 01:00:00</th>\n",
       "      <th>2022-01-02 02:00:00</th>\n",
       "      <th>2022-01-02 03:00:00</th>\n",
       "      <th>2022-01-02 04:00:00</th>\n",
       "      <th>2022-01-02 05:00:00</th>\n",
       "      <th>2022-01-02 06:00:00</th>\n",
       "      <th>2022-01-02 07:00:00</th>\n",
       "      <th>2022-01-02 08:00:00</th>\n",
       "      <th>2022-01-02 09:00:00</th>\n",
       "      <th>2022-01-02 10:00:00</th>\n",
       "      <th>2022-01-02 11:00:00</th>\n",
       "      <th>2022-01-02 12:00:00</th>\n",
       "      <th>2022-01-02 13:00:00</th>\n",
       "      <th>2022-01-02 14:00:00</th>\n",
       "      <th>2022-01-02 15:00:00</th>\n",
       "      <th>2022-01-02 16:00:00</th>\n",
       "    </tr>\n",
       "    <tr>\n",
       "      <th>strata</th>\n",
       "      <th>iteration</th>\n",
       "      <th>field</th>\n",
       "      <th>id</th>\n",
       "      <th></th>\n",
       "      <th></th>\n",
       "      <th></th>\n",
       "      <th></th>\n",
       "      <th></th>\n",
       "      <th></th>\n",
       "      <th></th>\n",
       "      <th></th>\n",
       "      <th></th>\n",
       "      <th></th>\n",
       "      <th></th>\n",
       "      <th></th>\n",
       "      <th></th>\n",
       "      <th></th>\n",
       "      <th></th>\n",
       "      <th></th>\n",
       "      <th></th>\n",
       "      <th></th>\n",
       "      <th></th>\n",
       "      <th></th>\n",
       "      <th></th>\n",
       "      <th></th>\n",
       "      <th></th>\n",
       "      <th></th>\n",
       "      <th></th>\n",
       "      <th></th>\n",
       "      <th></th>\n",
       "      <th></th>\n",
       "      <th></th>\n",
       "      <th></th>\n",
       "      <th></th>\n",
       "      <th></th>\n",
       "      <th></th>\n",
       "      <th></th>\n",
       "      <th></th>\n",
       "      <th></th>\n",
       "      <th></th>\n",
       "      <th></th>\n",
       "      <th></th>\n",
       "      <th></th>\n",
       "    </tr>\n",
       "  </thead>\n",
       "  <tbody>\n",
       "    <tr>\n",
       "      <th rowspan=\"16\" valign=\"top\">0</th>\n",
       "      <th rowspan=\"4\" valign=\"top\">0</th>\n",
       "      <th>energy_not_served_mwh</th>\n",
       "      <th></th>\n",
       "      <td>0.000000e+00</td>\n",
       "      <td>0.000000e+00</td>\n",
       "      <td>0.000000e+00</td>\n",
       "      <td>0.000000e+00</td>\n",
       "      <td>0.000000e+00</td>\n",
       "      <td>0.000000e+00</td>\n",
       "      <td>0.000000e+00</td>\n",
       "      <td>0.000000e+00</td>\n",
       "      <td>0.000000e+00</td>\n",
       "      <td>0.000000e+00</td>\n",
       "      <td>0.000000e+00</td>\n",
       "      <td>7.693370e+00</td>\n",
       "      <td>1.106708e+01</td>\n",
       "      <td>38.877888</td>\n",
       "      <td>77.616003</td>\n",
       "      <td>64.726766</td>\n",
       "      <td>64.924132</td>\n",
       "      <td>37.354737</td>\n",
       "      <td>62.391009</td>\n",
       "      <td>45.608818</td>\n",
       "      <td>64.077357</td>\n",
       "      <td>19.577786</td>\n",
       "      <td>7.620666e+01</td>\n",
       "      <td>3.202814e+01</td>\n",
       "      <td>0.000000e+00</td>\n",
       "      <td>0.000000e+00</td>\n",
       "      <td>0.000000e+00</td>\n",
       "      <td>0.000000e+00</td>\n",
       "      <td>0.000000e+00</td>\n",
       "      <td>0.000000e+00</td>\n",
       "      <td>0.000000e+00</td>\n",
       "      <td>0.000000e+00</td>\n",
       "      <td>0.000000e+00</td>\n",
       "      <td>0.000000e+00</td>\n",
       "      <td>0.000000e+00</td>\n",
       "      <td>0.000000e+00</td>\n",
       "      <td>0.000000e+00</td>\n",
       "      <td>0.000000e+00</td>\n",
       "      <td>0.000000e+00</td>\n",
       "      <td>0.000000e+00</td>\n",
       "    </tr>\n",
       "    <tr>\n",
       "      <th>loss_of_load_p_duration_h</th>\n",
       "      <th></th>\n",
       "      <td>0.000000e+00</td>\n",
       "      <td>0.000000e+00</td>\n",
       "      <td>0.000000e+00</td>\n",
       "      <td>0.000000e+00</td>\n",
       "      <td>0.000000e+00</td>\n",
       "      <td>0.000000e+00</td>\n",
       "      <td>0.000000e+00</td>\n",
       "      <td>0.000000e+00</td>\n",
       "      <td>0.000000e+00</td>\n",
       "      <td>0.000000e+00</td>\n",
       "      <td>0.000000e+00</td>\n",
       "      <td>1.000000e+00</td>\n",
       "      <td>1.000000e+00</td>\n",
       "      <td>1.000000</td>\n",
       "      <td>1.000000</td>\n",
       "      <td>1.000000</td>\n",
       "      <td>1.000000</td>\n",
       "      <td>1.000000</td>\n",
       "      <td>1.000000</td>\n",
       "      <td>1.000000</td>\n",
       "      <td>1.000000</td>\n",
       "      <td>1.000000</td>\n",
       "      <td>1.000000e+00</td>\n",
       "      <td>1.000000e+00</td>\n",
       "      <td>0.000000e+00</td>\n",
       "      <td>0.000000e+00</td>\n",
       "      <td>0.000000e+00</td>\n",
       "      <td>0.000000e+00</td>\n",
       "      <td>0.000000e+00</td>\n",
       "      <td>0.000000e+00</td>\n",
       "      <td>0.000000e+00</td>\n",
       "      <td>0.000000e+00</td>\n",
       "      <td>0.000000e+00</td>\n",
       "      <td>0.000000e+00</td>\n",
       "      <td>0.000000e+00</td>\n",
       "      <td>0.000000e+00</td>\n",
       "      <td>0.000000e+00</td>\n",
       "      <td>0.000000e+00</td>\n",
       "      <td>0.000000e+00</td>\n",
       "      <td>0.000000e+00</td>\n",
       "    </tr>\n",
       "    <tr>\n",
       "      <th>loss_of_load_p_mw</th>\n",
       "      <th></th>\n",
       "      <td>-6.811345e-06</td>\n",
       "      <td>-4.493402e-06</td>\n",
       "      <td>-3.750976e-06</td>\n",
       "      <td>-4.288193e-06</td>\n",
       "      <td>-5.047041e-06</td>\n",
       "      <td>-5.755745e-06</td>\n",
       "      <td>-4.836165e-06</td>\n",
       "      <td>-3.021702e-06</td>\n",
       "      <td>-6.351058e-06</td>\n",
       "      <td>-5.464086e-06</td>\n",
       "      <td>-2.889437e-06</td>\n",
       "      <td>7.693365e+00</td>\n",
       "      <td>1.106707e+01</td>\n",
       "      <td>38.877884</td>\n",
       "      <td>77.616002</td>\n",
       "      <td>64.726765</td>\n",
       "      <td>64.924130</td>\n",
       "      <td>37.354734</td>\n",
       "      <td>62.391007</td>\n",
       "      <td>45.608816</td>\n",
       "      <td>64.077351</td>\n",
       "      <td>19.577781</td>\n",
       "      <td>7.620665e+01</td>\n",
       "      <td>3.202814e+01</td>\n",
       "      <td>-5.381367e-06</td>\n",
       "      <td>-2.842546e-06</td>\n",
       "      <td>-2.757753e-06</td>\n",
       "      <td>-7.626931e-06</td>\n",
       "      <td>-1.450630e-06</td>\n",
       "      <td>-6.298022e-06</td>\n",
       "      <td>-5.342216e-06</td>\n",
       "      <td>-5.228577e-06</td>\n",
       "      <td>-3.650433e-06</td>\n",
       "      <td>-4.802565e-06</td>\n",
       "      <td>-5.285061e-06</td>\n",
       "      <td>-6.518402e-06</td>\n",
       "      <td>-5.420189e-06</td>\n",
       "      <td>-4.571977e-06</td>\n",
       "      <td>-4.865400e-06</td>\n",
       "      <td>-3.209148e-06</td>\n",
       "    </tr>\n",
       "    <tr>\n",
       "      <th>loss_of_load_p_percentage</th>\n",
       "      <th></th>\n",
       "      <td>-9.970657e-07</td>\n",
       "      <td>-9.955581e-07</td>\n",
       "      <td>-9.942658e-07</td>\n",
       "      <td>-9.953463e-07</td>\n",
       "      <td>-9.960436e-07</td>\n",
       "      <td>-9.965290e-07</td>\n",
       "      <td>-9.957224e-07</td>\n",
       "      <td>-9.934089e-07</td>\n",
       "      <td>-9.968539e-07</td>\n",
       "      <td>-9.963444e-07</td>\n",
       "      <td>-9.931091e-07</td>\n",
       "      <td>1.607296e+00</td>\n",
       "      <td>2.169431e+00</td>\n",
       "      <td>9.622991</td>\n",
       "      <td>19.408385</td>\n",
       "      <td>14.386057</td>\n",
       "      <td>13.880153</td>\n",
       "      <td>10.128432</td>\n",
       "      <td>20.017586</td>\n",
       "      <td>16.357988</td>\n",
       "      <td>10.359287</td>\n",
       "      <td>4.006725</td>\n",
       "      <td>3.033332e+01</td>\n",
       "      <td>7.100689e+00</td>\n",
       "      <td>-9.977900e-07</td>\n",
       "      <td>-9.929965e-07</td>\n",
       "      <td>-9.927823e-07</td>\n",
       "      <td>-9.973795e-07</td>\n",
       "      <td>-9.794905e-07</td>\n",
       "      <td>-9.968270e-07</td>\n",
       "      <td>-9.973608e-07</td>\n",
       "      <td>-9.961801e-07</td>\n",
       "      <td>-9.939850e-07</td>\n",
       "      <td>-9.958433e-07</td>\n",
       "      <td>-9.962211e-07</td>\n",
       "      <td>-9.969341e-07</td>\n",
       "      <td>-9.963153e-07</td>\n",
       "      <td>-9.956343e-07</td>\n",
       "      <td>-9.961664e-07</td>\n",
       "      <td>-9.938411e-07</td>\n",
       "    </tr>\n",
       "    <tr>\n",
       "      <th rowspan=\"4\" valign=\"top\">1</th>\n",
       "      <th>energy_not_served_mwh</th>\n",
       "      <th></th>\n",
       "      <td>0.000000e+00</td>\n",
       "      <td>0.000000e+00</td>\n",
       "      <td>0.000000e+00</td>\n",
       "      <td>0.000000e+00</td>\n",
       "      <td>0.000000e+00</td>\n",
       "      <td>0.000000e+00</td>\n",
       "      <td>0.000000e+00</td>\n",
       "      <td>0.000000e+00</td>\n",
       "      <td>0.000000e+00</td>\n",
       "      <td>0.000000e+00</td>\n",
       "      <td>0.000000e+00</td>\n",
       "      <td>0.000000e+00</td>\n",
       "      <td>3.551466e+01</td>\n",
       "      <td>38.877888</td>\n",
       "      <td>77.616003</td>\n",
       "      <td>159.783660</td>\n",
       "      <td>164.407164</td>\n",
       "      <td>62.371151</td>\n",
       "      <td>62.614832</td>\n",
       "      <td>77.639895</td>\n",
       "      <td>64.077357</td>\n",
       "      <td>19.577786</td>\n",
       "      <td>7.620666e+01</td>\n",
       "      <td>5.769101e+01</td>\n",
       "      <td>5.072975e+01</td>\n",
       "      <td>1.601494e+01</td>\n",
       "      <td>0.000000e+00</td>\n",
       "      <td>0.000000e+00</td>\n",
       "      <td>0.000000e+00</td>\n",
       "      <td>0.000000e+00</td>\n",
       "      <td>0.000000e+00</td>\n",
       "      <td>0.000000e+00</td>\n",
       "      <td>0.000000e+00</td>\n",
       "      <td>0.000000e+00</td>\n",
       "      <td>0.000000e+00</td>\n",
       "      <td>0.000000e+00</td>\n",
       "      <td>0.000000e+00</td>\n",
       "      <td>0.000000e+00</td>\n",
       "      <td>0.000000e+00</td>\n",
       "      <td>0.000000e+00</td>\n",
       "    </tr>\n",
       "    <tr>\n",
       "      <th>loss_of_load_p_duration_h</th>\n",
       "      <th></th>\n",
       "      <td>0.000000e+00</td>\n",
       "      <td>0.000000e+00</td>\n",
       "      <td>0.000000e+00</td>\n",
       "      <td>0.000000e+00</td>\n",
       "      <td>0.000000e+00</td>\n",
       "      <td>0.000000e+00</td>\n",
       "      <td>0.000000e+00</td>\n",
       "      <td>0.000000e+00</td>\n",
       "      <td>0.000000e+00</td>\n",
       "      <td>0.000000e+00</td>\n",
       "      <td>0.000000e+00</td>\n",
       "      <td>0.000000e+00</td>\n",
       "      <td>1.000000e+00</td>\n",
       "      <td>1.000000</td>\n",
       "      <td>1.000000</td>\n",
       "      <td>1.000000</td>\n",
       "      <td>1.000000</td>\n",
       "      <td>1.000000</td>\n",
       "      <td>1.000000</td>\n",
       "      <td>1.000000</td>\n",
       "      <td>1.000000</td>\n",
       "      <td>1.000000</td>\n",
       "      <td>1.000000e+00</td>\n",
       "      <td>1.000000e+00</td>\n",
       "      <td>1.000000e+00</td>\n",
       "      <td>1.000000e+00</td>\n",
       "      <td>0.000000e+00</td>\n",
       "      <td>0.000000e+00</td>\n",
       "      <td>0.000000e+00</td>\n",
       "      <td>0.000000e+00</td>\n",
       "      <td>0.000000e+00</td>\n",
       "      <td>0.000000e+00</td>\n",
       "      <td>0.000000e+00</td>\n",
       "      <td>0.000000e+00</td>\n",
       "      <td>0.000000e+00</td>\n",
       "      <td>0.000000e+00</td>\n",
       "      <td>0.000000e+00</td>\n",
       "      <td>0.000000e+00</td>\n",
       "      <td>0.000000e+00</td>\n",
       "      <td>0.000000e+00</td>\n",
       "    </tr>\n",
       "    <tr>\n",
       "      <th>loss_of_load_p_mw</th>\n",
       "      <th></th>\n",
       "      <td>-6.811345e-06</td>\n",
       "      <td>-4.493402e-06</td>\n",
       "      <td>-3.750976e-06</td>\n",
       "      <td>-4.288193e-06</td>\n",
       "      <td>-5.047041e-06</td>\n",
       "      <td>-5.755745e-06</td>\n",
       "      <td>-4.836165e-06</td>\n",
       "      <td>-3.021702e-06</td>\n",
       "      <td>-6.351058e-06</td>\n",
       "      <td>-5.464086e-06</td>\n",
       "      <td>-2.889437e-06</td>\n",
       "      <td>-4.766477e-06</td>\n",
       "      <td>3.551466e+01</td>\n",
       "      <td>38.877884</td>\n",
       "      <td>77.616002</td>\n",
       "      <td>159.783659</td>\n",
       "      <td>164.407163</td>\n",
       "      <td>62.371148</td>\n",
       "      <td>62.614829</td>\n",
       "      <td>77.639893</td>\n",
       "      <td>64.077351</td>\n",
       "      <td>19.577781</td>\n",
       "      <td>7.620665e+01</td>\n",
       "      <td>5.769100e+01</td>\n",
       "      <td>5.072975e+01</td>\n",
       "      <td>1.601494e+01</td>\n",
       "      <td>-2.757753e-06</td>\n",
       "      <td>-7.626931e-06</td>\n",
       "      <td>-1.450630e-06</td>\n",
       "      <td>-6.298022e-06</td>\n",
       "      <td>-5.342216e-06</td>\n",
       "      <td>-5.228577e-06</td>\n",
       "      <td>-3.650433e-06</td>\n",
       "      <td>-4.802565e-06</td>\n",
       "      <td>-5.285061e-06</td>\n",
       "      <td>-6.518402e-06</td>\n",
       "      <td>-5.420189e-06</td>\n",
       "      <td>-4.571977e-06</td>\n",
       "      <td>-4.865400e-06</td>\n",
       "      <td>-3.209148e-06</td>\n",
       "    </tr>\n",
       "    <tr>\n",
       "      <th>loss_of_load_p_percentage</th>\n",
       "      <th></th>\n",
       "      <td>-9.970657e-07</td>\n",
       "      <td>-9.955581e-07</td>\n",
       "      <td>-9.942658e-07</td>\n",
       "      <td>-9.953463e-07</td>\n",
       "      <td>-9.960436e-07</td>\n",
       "      <td>-9.965290e-07</td>\n",
       "      <td>-9.957224e-07</td>\n",
       "      <td>-9.934089e-07</td>\n",
       "      <td>-9.968539e-07</td>\n",
       "      <td>-9.963444e-07</td>\n",
       "      <td>-9.931091e-07</td>\n",
       "      <td>-9.958114e-07</td>\n",
       "      <td>6.961789e+00</td>\n",
       "      <td>9.622991</td>\n",
       "      <td>19.408385</td>\n",
       "      <td>35.513235</td>\n",
       "      <td>35.148666</td>\n",
       "      <td>16.911429</td>\n",
       "      <td>20.089397</td>\n",
       "      <td>27.846205</td>\n",
       "      <td>10.359287</td>\n",
       "      <td>4.006725</td>\n",
       "      <td>3.033332e+01</td>\n",
       "      <td>1.279019e+01</td>\n",
       "      <td>9.406092e+00</td>\n",
       "      <td>5.594554e+00</td>\n",
       "      <td>-9.927823e-07</td>\n",
       "      <td>-9.973795e-07</td>\n",
       "      <td>-9.794905e-07</td>\n",
       "      <td>-9.968270e-07</td>\n",
       "      <td>-9.973608e-07</td>\n",
       "      <td>-9.961801e-07</td>\n",
       "      <td>-9.939850e-07</td>\n",
       "      <td>-9.958433e-07</td>\n",
       "      <td>-9.962211e-07</td>\n",
       "      <td>-9.969341e-07</td>\n",
       "      <td>-9.963153e-07</td>\n",
       "      <td>-9.956343e-07</td>\n",
       "      <td>-9.961664e-07</td>\n",
       "      <td>-9.938411e-07</td>\n",
       "    </tr>\n",
       "    <tr>\n",
       "      <th rowspan=\"4\" valign=\"top\">2</th>\n",
       "      <th>energy_not_served_mwh</th>\n",
       "      <th></th>\n",
       "      <td>0.000000e+00</td>\n",
       "      <td>0.000000e+00</td>\n",
       "      <td>0.000000e+00</td>\n",
       "      <td>0.000000e+00</td>\n",
       "      <td>0.000000e+00</td>\n",
       "      <td>0.000000e+00</td>\n",
       "      <td>0.000000e+00</td>\n",
       "      <td>0.000000e+00</td>\n",
       "      <td>0.000000e+00</td>\n",
       "      <td>0.000000e+00</td>\n",
       "      <td>0.000000e+00</td>\n",
       "      <td>0.000000e+00</td>\n",
       "      <td>0.000000e+00</td>\n",
       "      <td>17.182790</td>\n",
       "      <td>55.554100</td>\n",
       "      <td>64.724299</td>\n",
       "      <td>67.901581</td>\n",
       "      <td>62.371151</td>\n",
       "      <td>62.614832</td>\n",
       "      <td>77.639895</td>\n",
       "      <td>64.077357</td>\n",
       "      <td>19.577786</td>\n",
       "      <td>7.620666e+01</td>\n",
       "      <td>5.769101e+01</td>\n",
       "      <td>2.788515e+01</td>\n",
       "      <td>0.000000e+00</td>\n",
       "      <td>0.000000e+00</td>\n",
       "      <td>0.000000e+00</td>\n",
       "      <td>0.000000e+00</td>\n",
       "      <td>0.000000e+00</td>\n",
       "      <td>0.000000e+00</td>\n",
       "      <td>0.000000e+00</td>\n",
       "      <td>0.000000e+00</td>\n",
       "      <td>0.000000e+00</td>\n",
       "      <td>0.000000e+00</td>\n",
       "      <td>0.000000e+00</td>\n",
       "      <td>0.000000e+00</td>\n",
       "      <td>0.000000e+00</td>\n",
       "      <td>0.000000e+00</td>\n",
       "      <td>0.000000e+00</td>\n",
       "    </tr>\n",
       "    <tr>\n",
       "      <th>loss_of_load_p_duration_h</th>\n",
       "      <th></th>\n",
       "      <td>0.000000e+00</td>\n",
       "      <td>0.000000e+00</td>\n",
       "      <td>0.000000e+00</td>\n",
       "      <td>0.000000e+00</td>\n",
       "      <td>0.000000e+00</td>\n",
       "      <td>0.000000e+00</td>\n",
       "      <td>0.000000e+00</td>\n",
       "      <td>0.000000e+00</td>\n",
       "      <td>0.000000e+00</td>\n",
       "      <td>0.000000e+00</td>\n",
       "      <td>0.000000e+00</td>\n",
       "      <td>0.000000e+00</td>\n",
       "      <td>0.000000e+00</td>\n",
       "      <td>1.000000</td>\n",
       "      <td>1.000000</td>\n",
       "      <td>1.000000</td>\n",
       "      <td>1.000000</td>\n",
       "      <td>1.000000</td>\n",
       "      <td>1.000000</td>\n",
       "      <td>1.000000</td>\n",
       "      <td>1.000000</td>\n",
       "      <td>1.000000</td>\n",
       "      <td>1.000000e+00</td>\n",
       "      <td>1.000000e+00</td>\n",
       "      <td>1.000000e+00</td>\n",
       "      <td>0.000000e+00</td>\n",
       "      <td>0.000000e+00</td>\n",
       "      <td>0.000000e+00</td>\n",
       "      <td>0.000000e+00</td>\n",
       "      <td>0.000000e+00</td>\n",
       "      <td>0.000000e+00</td>\n",
       "      <td>0.000000e+00</td>\n",
       "      <td>0.000000e+00</td>\n",
       "      <td>0.000000e+00</td>\n",
       "      <td>0.000000e+00</td>\n",
       "      <td>0.000000e+00</td>\n",
       "      <td>0.000000e+00</td>\n",
       "      <td>0.000000e+00</td>\n",
       "      <td>0.000000e+00</td>\n",
       "      <td>0.000000e+00</td>\n",
       "    </tr>\n",
       "    <tr>\n",
       "      <th>loss_of_load_p_mw</th>\n",
       "      <th></th>\n",
       "      <td>-6.811345e-06</td>\n",
       "      <td>-4.493402e-06</td>\n",
       "      <td>-3.750976e-06</td>\n",
       "      <td>-4.288193e-06</td>\n",
       "      <td>-5.047041e-06</td>\n",
       "      <td>-5.755745e-06</td>\n",
       "      <td>-4.836165e-06</td>\n",
       "      <td>-3.021702e-06</td>\n",
       "      <td>-6.351058e-06</td>\n",
       "      <td>-5.464086e-06</td>\n",
       "      <td>-2.889437e-06</td>\n",
       "      <td>-4.766477e-06</td>\n",
       "      <td>-5.081323e-06</td>\n",
       "      <td>17.182787</td>\n",
       "      <td>55.554097</td>\n",
       "      <td>64.724298</td>\n",
       "      <td>67.901579</td>\n",
       "      <td>62.371148</td>\n",
       "      <td>62.614829</td>\n",
       "      <td>77.639893</td>\n",
       "      <td>64.077351</td>\n",
       "      <td>19.577781</td>\n",
       "      <td>7.620665e+01</td>\n",
       "      <td>5.769100e+01</td>\n",
       "      <td>2.788514e+01</td>\n",
       "      <td>-2.842546e-06</td>\n",
       "      <td>-2.757753e-06</td>\n",
       "      <td>-7.626931e-06</td>\n",
       "      <td>-1.450630e-06</td>\n",
       "      <td>-6.298022e-06</td>\n",
       "      <td>-5.342216e-06</td>\n",
       "      <td>-5.228577e-06</td>\n",
       "      <td>-3.650433e-06</td>\n",
       "      <td>-4.802565e-06</td>\n",
       "      <td>-5.285061e-06</td>\n",
       "      <td>-6.518402e-06</td>\n",
       "      <td>-5.420189e-06</td>\n",
       "      <td>-4.571977e-06</td>\n",
       "      <td>-4.865400e-06</td>\n",
       "      <td>-3.209148e-06</td>\n",
       "    </tr>\n",
       "    <tr>\n",
       "      <th>loss_of_load_p_percentage</th>\n",
       "      <th></th>\n",
       "      <td>-9.970657e-07</td>\n",
       "      <td>-9.955581e-07</td>\n",
       "      <td>-9.942658e-07</td>\n",
       "      <td>-9.953463e-07</td>\n",
       "      <td>-9.960436e-07</td>\n",
       "      <td>-9.965290e-07</td>\n",
       "      <td>-9.957224e-07</td>\n",
       "      <td>-9.934089e-07</td>\n",
       "      <td>-9.968539e-07</td>\n",
       "      <td>-9.963444e-07</td>\n",
       "      <td>-9.931091e-07</td>\n",
       "      <td>-9.958113e-07</td>\n",
       "      <td>-9.960703e-07</td>\n",
       "      <td>4.253055</td>\n",
       "      <td>13.891662</td>\n",
       "      <td>14.385509</td>\n",
       "      <td>14.516703</td>\n",
       "      <td>16.911429</td>\n",
       "      <td>20.089397</td>\n",
       "      <td>27.846205</td>\n",
       "      <td>10.359287</td>\n",
       "      <td>4.006725</td>\n",
       "      <td>3.033332e+01</td>\n",
       "      <td>1.279019e+01</td>\n",
       "      <td>5.170344e+00</td>\n",
       "      <td>-9.929965e-07</td>\n",
       "      <td>-9.927823e-07</td>\n",
       "      <td>-9.973795e-07</td>\n",
       "      <td>-9.794905e-07</td>\n",
       "      <td>-9.968270e-07</td>\n",
       "      <td>-9.973608e-07</td>\n",
       "      <td>-9.961801e-07</td>\n",
       "      <td>-9.939850e-07</td>\n",
       "      <td>-9.958433e-07</td>\n",
       "      <td>-9.962211e-07</td>\n",
       "      <td>-9.969341e-07</td>\n",
       "      <td>-9.963153e-07</td>\n",
       "      <td>-9.956343e-07</td>\n",
       "      <td>-9.961664e-07</td>\n",
       "      <td>-9.938411e-07</td>\n",
       "    </tr>\n",
       "    <tr>\n",
       "      <th rowspan=\"4\" valign=\"top\">3</th>\n",
       "      <th>energy_not_served_mwh</th>\n",
       "      <th></th>\n",
       "      <td>0.000000e+00</td>\n",
       "      <td>0.000000e+00</td>\n",
       "      <td>0.000000e+00</td>\n",
       "      <td>0.000000e+00</td>\n",
       "      <td>0.000000e+00</td>\n",
       "      <td>0.000000e+00</td>\n",
       "      <td>0.000000e+00</td>\n",
       "      <td>0.000000e+00</td>\n",
       "      <td>0.000000e+00</td>\n",
       "      <td>0.000000e+00</td>\n",
       "      <td>0.000000e+00</td>\n",
       "      <td>3.897930e+01</td>\n",
       "      <td>2.284460e+01</td>\n",
       "      <td>17.182790</td>\n",
       "      <td>22.061903</td>\n",
       "      <td>146.833291</td>\n",
       "      <td>57.333085</td>\n",
       "      <td>25.016414</td>\n",
       "      <td>0.223822</td>\n",
       "      <td>32.031078</td>\n",
       "      <td>23.654189</td>\n",
       "      <td>18.643493</td>\n",
       "      <td>0.000000e+00</td>\n",
       "      <td>0.000000e+00</td>\n",
       "      <td>0.000000e+00</td>\n",
       "      <td>0.000000e+00</td>\n",
       "      <td>0.000000e+00</td>\n",
       "      <td>0.000000e+00</td>\n",
       "      <td>0.000000e+00</td>\n",
       "      <td>0.000000e+00</td>\n",
       "      <td>0.000000e+00</td>\n",
       "      <td>0.000000e+00</td>\n",
       "      <td>0.000000e+00</td>\n",
       "      <td>0.000000e+00</td>\n",
       "      <td>0.000000e+00</td>\n",
       "      <td>0.000000e+00</td>\n",
       "      <td>0.000000e+00</td>\n",
       "      <td>0.000000e+00</td>\n",
       "      <td>0.000000e+00</td>\n",
       "      <td>0.000000e+00</td>\n",
       "    </tr>\n",
       "    <tr>\n",
       "      <th>loss_of_load_p_duration_h</th>\n",
       "      <th></th>\n",
       "      <td>0.000000e+00</td>\n",
       "      <td>0.000000e+00</td>\n",
       "      <td>0.000000e+00</td>\n",
       "      <td>0.000000e+00</td>\n",
       "      <td>0.000000e+00</td>\n",
       "      <td>0.000000e+00</td>\n",
       "      <td>0.000000e+00</td>\n",
       "      <td>0.000000e+00</td>\n",
       "      <td>0.000000e+00</td>\n",
       "      <td>0.000000e+00</td>\n",
       "      <td>0.000000e+00</td>\n",
       "      <td>1.000000e+00</td>\n",
       "      <td>1.000000e+00</td>\n",
       "      <td>1.000000</td>\n",
       "      <td>1.000000</td>\n",
       "      <td>1.000000</td>\n",
       "      <td>1.000000</td>\n",
       "      <td>1.000000</td>\n",
       "      <td>1.000000</td>\n",
       "      <td>1.000000</td>\n",
       "      <td>1.000000</td>\n",
       "      <td>1.000000</td>\n",
       "      <td>0.000000e+00</td>\n",
       "      <td>0.000000e+00</td>\n",
       "      <td>0.000000e+00</td>\n",
       "      <td>0.000000e+00</td>\n",
       "      <td>0.000000e+00</td>\n",
       "      <td>0.000000e+00</td>\n",
       "      <td>0.000000e+00</td>\n",
       "      <td>0.000000e+00</td>\n",
       "      <td>0.000000e+00</td>\n",
       "      <td>0.000000e+00</td>\n",
       "      <td>0.000000e+00</td>\n",
       "      <td>0.000000e+00</td>\n",
       "      <td>0.000000e+00</td>\n",
       "      <td>0.000000e+00</td>\n",
       "      <td>0.000000e+00</td>\n",
       "      <td>0.000000e+00</td>\n",
       "      <td>0.000000e+00</td>\n",
       "      <td>0.000000e+00</td>\n",
       "    </tr>\n",
       "    <tr>\n",
       "      <th>loss_of_load_p_mw</th>\n",
       "      <th></th>\n",
       "      <td>-6.811345e-06</td>\n",
       "      <td>-4.493402e-06</td>\n",
       "      <td>-3.750976e-06</td>\n",
       "      <td>-4.288193e-06</td>\n",
       "      <td>-5.047041e-06</td>\n",
       "      <td>-5.755745e-06</td>\n",
       "      <td>-4.836165e-06</td>\n",
       "      <td>-3.021702e-06</td>\n",
       "      <td>-6.351058e-06</td>\n",
       "      <td>-5.464086e-06</td>\n",
       "      <td>-2.889437e-06</td>\n",
       "      <td>3.897929e+01</td>\n",
       "      <td>2.284459e+01</td>\n",
       "      <td>17.182787</td>\n",
       "      <td>22.061902</td>\n",
       "      <td>146.833290</td>\n",
       "      <td>57.333084</td>\n",
       "      <td>25.016411</td>\n",
       "      <td>0.223819</td>\n",
       "      <td>32.031075</td>\n",
       "      <td>23.654183</td>\n",
       "      <td>18.643488</td>\n",
       "      <td>-2.488121e-06</td>\n",
       "      <td>-4.490519e-06</td>\n",
       "      <td>-5.378675e-06</td>\n",
       "      <td>-2.842546e-06</td>\n",
       "      <td>-2.757753e-06</td>\n",
       "      <td>-7.626931e-06</td>\n",
       "      <td>-1.450630e-06</td>\n",
       "      <td>-6.298022e-06</td>\n",
       "      <td>-5.342216e-06</td>\n",
       "      <td>-5.228577e-06</td>\n",
       "      <td>-3.650433e-06</td>\n",
       "      <td>-4.802565e-06</td>\n",
       "      <td>-5.285061e-06</td>\n",
       "      <td>-6.518402e-06</td>\n",
       "      <td>-5.420189e-06</td>\n",
       "      <td>-4.571977e-06</td>\n",
       "      <td>-4.865400e-06</td>\n",
       "      <td>-3.209148e-06</td>\n",
       "    </tr>\n",
       "    <tr>\n",
       "      <th>loss_of_load_p_percentage</th>\n",
       "      <th></th>\n",
       "      <td>-9.970657e-07</td>\n",
       "      <td>-9.955581e-07</td>\n",
       "      <td>-9.942658e-07</td>\n",
       "      <td>-9.953463e-07</td>\n",
       "      <td>-9.960436e-07</td>\n",
       "      <td>-9.965290e-07</td>\n",
       "      <td>-9.957224e-07</td>\n",
       "      <td>-9.934089e-07</td>\n",
       "      <td>-9.968539e-07</td>\n",
       "      <td>-9.963444e-07</td>\n",
       "      <td>-9.931091e-07</td>\n",
       "      <td>8.143546e+00</td>\n",
       "      <td>4.478129e+00</td>\n",
       "      <td>4.253055</td>\n",
       "      <td>5.516722</td>\n",
       "      <td>32.634909</td>\n",
       "      <td>12.257260</td>\n",
       "      <td>6.782996</td>\n",
       "      <td>0.071810</td>\n",
       "      <td>11.488216</td>\n",
       "      <td>3.824135</td>\n",
       "      <td>3.815516</td>\n",
       "      <td>-9.903724e-07</td>\n",
       "      <td>-9.955552e-07</td>\n",
       "      <td>-9.972909e-07</td>\n",
       "      <td>-9.929965e-07</td>\n",
       "      <td>-9.927823e-07</td>\n",
       "      <td>-9.973795e-07</td>\n",
       "      <td>-9.794905e-07</td>\n",
       "      <td>-9.968270e-07</td>\n",
       "      <td>-9.973608e-07</td>\n",
       "      <td>-9.961801e-07</td>\n",
       "      <td>-9.939850e-07</td>\n",
       "      <td>-9.958433e-07</td>\n",
       "      <td>-9.962211e-07</td>\n",
       "      <td>-9.969341e-07</td>\n",
       "      <td>-9.963153e-07</td>\n",
       "      <td>-9.956343e-07</td>\n",
       "      <td>-9.961664e-07</td>\n",
       "      <td>-9.938411e-07</td>\n",
       "    </tr>\n",
       "  </tbody>\n",
       "</table>\n",
       "</div>"
      ],
      "text/plain": [
       "                                               2022-01-01 01:00:00  \\\n",
       "strata iteration field                     id                        \n",
       "0      0         energy_not_served_mwh                0.000000e+00   \n",
       "                 loss_of_load_p_duration_h            0.000000e+00   \n",
       "                 loss_of_load_p_mw                   -6.811345e-06   \n",
       "                 loss_of_load_p_percentage           -9.970657e-07   \n",
       "       1         energy_not_served_mwh                0.000000e+00   \n",
       "                 loss_of_load_p_duration_h            0.000000e+00   \n",
       "                 loss_of_load_p_mw                   -6.811345e-06   \n",
       "                 loss_of_load_p_percentage           -9.970657e-07   \n",
       "       2         energy_not_served_mwh                0.000000e+00   \n",
       "                 loss_of_load_p_duration_h            0.000000e+00   \n",
       "                 loss_of_load_p_mw                   -6.811345e-06   \n",
       "                 loss_of_load_p_percentage           -9.970657e-07   \n",
       "       3         energy_not_served_mwh                0.000000e+00   \n",
       "                 loss_of_load_p_duration_h            0.000000e+00   \n",
       "                 loss_of_load_p_mw                   -6.811345e-06   \n",
       "                 loss_of_load_p_percentage           -9.970657e-07   \n",
       "\n",
       "                                               2022-01-01 02:00:00  \\\n",
       "strata iteration field                     id                        \n",
       "0      0         energy_not_served_mwh                0.000000e+00   \n",
       "                 loss_of_load_p_duration_h            0.000000e+00   \n",
       "                 loss_of_load_p_mw                   -4.493402e-06   \n",
       "                 loss_of_load_p_percentage           -9.955581e-07   \n",
       "       1         energy_not_served_mwh                0.000000e+00   \n",
       "                 loss_of_load_p_duration_h            0.000000e+00   \n",
       "                 loss_of_load_p_mw                   -4.493402e-06   \n",
       "                 loss_of_load_p_percentage           -9.955581e-07   \n",
       "       2         energy_not_served_mwh                0.000000e+00   \n",
       "                 loss_of_load_p_duration_h            0.000000e+00   \n",
       "                 loss_of_load_p_mw                   -4.493402e-06   \n",
       "                 loss_of_load_p_percentage           -9.955581e-07   \n",
       "       3         energy_not_served_mwh                0.000000e+00   \n",
       "                 loss_of_load_p_duration_h            0.000000e+00   \n",
       "                 loss_of_load_p_mw                   -4.493402e-06   \n",
       "                 loss_of_load_p_percentage           -9.955581e-07   \n",
       "\n",
       "                                               2022-01-01 03:00:00  \\\n",
       "strata iteration field                     id                        \n",
       "0      0         energy_not_served_mwh                0.000000e+00   \n",
       "                 loss_of_load_p_duration_h            0.000000e+00   \n",
       "                 loss_of_load_p_mw                   -3.750976e-06   \n",
       "                 loss_of_load_p_percentage           -9.942658e-07   \n",
       "       1         energy_not_served_mwh                0.000000e+00   \n",
       "                 loss_of_load_p_duration_h            0.000000e+00   \n",
       "                 loss_of_load_p_mw                   -3.750976e-06   \n",
       "                 loss_of_load_p_percentage           -9.942658e-07   \n",
       "       2         energy_not_served_mwh                0.000000e+00   \n",
       "                 loss_of_load_p_duration_h            0.000000e+00   \n",
       "                 loss_of_load_p_mw                   -3.750976e-06   \n",
       "                 loss_of_load_p_percentage           -9.942658e-07   \n",
       "       3         energy_not_served_mwh                0.000000e+00   \n",
       "                 loss_of_load_p_duration_h            0.000000e+00   \n",
       "                 loss_of_load_p_mw                   -3.750976e-06   \n",
       "                 loss_of_load_p_percentage           -9.942658e-07   \n",
       "\n",
       "                                               2022-01-01 04:00:00  \\\n",
       "strata iteration field                     id                        \n",
       "0      0         energy_not_served_mwh                0.000000e+00   \n",
       "                 loss_of_load_p_duration_h            0.000000e+00   \n",
       "                 loss_of_load_p_mw                   -4.288193e-06   \n",
       "                 loss_of_load_p_percentage           -9.953463e-07   \n",
       "       1         energy_not_served_mwh                0.000000e+00   \n",
       "                 loss_of_load_p_duration_h            0.000000e+00   \n",
       "                 loss_of_load_p_mw                   -4.288193e-06   \n",
       "                 loss_of_load_p_percentage           -9.953463e-07   \n",
       "       2         energy_not_served_mwh                0.000000e+00   \n",
       "                 loss_of_load_p_duration_h            0.000000e+00   \n",
       "                 loss_of_load_p_mw                   -4.288193e-06   \n",
       "                 loss_of_load_p_percentage           -9.953463e-07   \n",
       "       3         energy_not_served_mwh                0.000000e+00   \n",
       "                 loss_of_load_p_duration_h            0.000000e+00   \n",
       "                 loss_of_load_p_mw                   -4.288193e-06   \n",
       "                 loss_of_load_p_percentage           -9.953463e-07   \n",
       "\n",
       "                                               2022-01-01 05:00:00  \\\n",
       "strata iteration field                     id                        \n",
       "0      0         energy_not_served_mwh                0.000000e+00   \n",
       "                 loss_of_load_p_duration_h            0.000000e+00   \n",
       "                 loss_of_load_p_mw                   -5.047041e-06   \n",
       "                 loss_of_load_p_percentage           -9.960436e-07   \n",
       "       1         energy_not_served_mwh                0.000000e+00   \n",
       "                 loss_of_load_p_duration_h            0.000000e+00   \n",
       "                 loss_of_load_p_mw                   -5.047041e-06   \n",
       "                 loss_of_load_p_percentage           -9.960436e-07   \n",
       "       2         energy_not_served_mwh                0.000000e+00   \n",
       "                 loss_of_load_p_duration_h            0.000000e+00   \n",
       "                 loss_of_load_p_mw                   -5.047041e-06   \n",
       "                 loss_of_load_p_percentage           -9.960436e-07   \n",
       "       3         energy_not_served_mwh                0.000000e+00   \n",
       "                 loss_of_load_p_duration_h            0.000000e+00   \n",
       "                 loss_of_load_p_mw                   -5.047041e-06   \n",
       "                 loss_of_load_p_percentage           -9.960436e-07   \n",
       "\n",
       "                                               2022-01-01 06:00:00  \\\n",
       "strata iteration field                     id                        \n",
       "0      0         energy_not_served_mwh                0.000000e+00   \n",
       "                 loss_of_load_p_duration_h            0.000000e+00   \n",
       "                 loss_of_load_p_mw                   -5.755745e-06   \n",
       "                 loss_of_load_p_percentage           -9.965290e-07   \n",
       "       1         energy_not_served_mwh                0.000000e+00   \n",
       "                 loss_of_load_p_duration_h            0.000000e+00   \n",
       "                 loss_of_load_p_mw                   -5.755745e-06   \n",
       "                 loss_of_load_p_percentage           -9.965290e-07   \n",
       "       2         energy_not_served_mwh                0.000000e+00   \n",
       "                 loss_of_load_p_duration_h            0.000000e+00   \n",
       "                 loss_of_load_p_mw                   -5.755745e-06   \n",
       "                 loss_of_load_p_percentage           -9.965290e-07   \n",
       "       3         energy_not_served_mwh                0.000000e+00   \n",
       "                 loss_of_load_p_duration_h            0.000000e+00   \n",
       "                 loss_of_load_p_mw                   -5.755745e-06   \n",
       "                 loss_of_load_p_percentage           -9.965290e-07   \n",
       "\n",
       "                                               2022-01-01 07:00:00  \\\n",
       "strata iteration field                     id                        \n",
       "0      0         energy_not_served_mwh                0.000000e+00   \n",
       "                 loss_of_load_p_duration_h            0.000000e+00   \n",
       "                 loss_of_load_p_mw                   -4.836165e-06   \n",
       "                 loss_of_load_p_percentage           -9.957224e-07   \n",
       "       1         energy_not_served_mwh                0.000000e+00   \n",
       "                 loss_of_load_p_duration_h            0.000000e+00   \n",
       "                 loss_of_load_p_mw                   -4.836165e-06   \n",
       "                 loss_of_load_p_percentage           -9.957224e-07   \n",
       "       2         energy_not_served_mwh                0.000000e+00   \n",
       "                 loss_of_load_p_duration_h            0.000000e+00   \n",
       "                 loss_of_load_p_mw                   -4.836165e-06   \n",
       "                 loss_of_load_p_percentage           -9.957224e-07   \n",
       "       3         energy_not_served_mwh                0.000000e+00   \n",
       "                 loss_of_load_p_duration_h            0.000000e+00   \n",
       "                 loss_of_load_p_mw                   -4.836165e-06   \n",
       "                 loss_of_load_p_percentage           -9.957224e-07   \n",
       "\n",
       "                                               2022-01-01 08:00:00  \\\n",
       "strata iteration field                     id                        \n",
       "0      0         energy_not_served_mwh                0.000000e+00   \n",
       "                 loss_of_load_p_duration_h            0.000000e+00   \n",
       "                 loss_of_load_p_mw                   -3.021702e-06   \n",
       "                 loss_of_load_p_percentage           -9.934089e-07   \n",
       "       1         energy_not_served_mwh                0.000000e+00   \n",
       "                 loss_of_load_p_duration_h            0.000000e+00   \n",
       "                 loss_of_load_p_mw                   -3.021702e-06   \n",
       "                 loss_of_load_p_percentage           -9.934089e-07   \n",
       "       2         energy_not_served_mwh                0.000000e+00   \n",
       "                 loss_of_load_p_duration_h            0.000000e+00   \n",
       "                 loss_of_load_p_mw                   -3.021702e-06   \n",
       "                 loss_of_load_p_percentage           -9.934089e-07   \n",
       "       3         energy_not_served_mwh                0.000000e+00   \n",
       "                 loss_of_load_p_duration_h            0.000000e+00   \n",
       "                 loss_of_load_p_mw                   -3.021702e-06   \n",
       "                 loss_of_load_p_percentage           -9.934089e-07   \n",
       "\n",
       "                                               2022-01-01 09:00:00  \\\n",
       "strata iteration field                     id                        \n",
       "0      0         energy_not_served_mwh                0.000000e+00   \n",
       "                 loss_of_load_p_duration_h            0.000000e+00   \n",
       "                 loss_of_load_p_mw                   -6.351058e-06   \n",
       "                 loss_of_load_p_percentage           -9.968539e-07   \n",
       "       1         energy_not_served_mwh                0.000000e+00   \n",
       "                 loss_of_load_p_duration_h            0.000000e+00   \n",
       "                 loss_of_load_p_mw                   -6.351058e-06   \n",
       "                 loss_of_load_p_percentage           -9.968539e-07   \n",
       "       2         energy_not_served_mwh                0.000000e+00   \n",
       "                 loss_of_load_p_duration_h            0.000000e+00   \n",
       "                 loss_of_load_p_mw                   -6.351058e-06   \n",
       "                 loss_of_load_p_percentage           -9.968539e-07   \n",
       "       3         energy_not_served_mwh                0.000000e+00   \n",
       "                 loss_of_load_p_duration_h            0.000000e+00   \n",
       "                 loss_of_load_p_mw                   -6.351058e-06   \n",
       "                 loss_of_load_p_percentage           -9.968539e-07   \n",
       "\n",
       "                                               2022-01-01 10:00:00  \\\n",
       "strata iteration field                     id                        \n",
       "0      0         energy_not_served_mwh                0.000000e+00   \n",
       "                 loss_of_load_p_duration_h            0.000000e+00   \n",
       "                 loss_of_load_p_mw                   -5.464086e-06   \n",
       "                 loss_of_load_p_percentage           -9.963444e-07   \n",
       "       1         energy_not_served_mwh                0.000000e+00   \n",
       "                 loss_of_load_p_duration_h            0.000000e+00   \n",
       "                 loss_of_load_p_mw                   -5.464086e-06   \n",
       "                 loss_of_load_p_percentage           -9.963444e-07   \n",
       "       2         energy_not_served_mwh                0.000000e+00   \n",
       "                 loss_of_load_p_duration_h            0.000000e+00   \n",
       "                 loss_of_load_p_mw                   -5.464086e-06   \n",
       "                 loss_of_load_p_percentage           -9.963444e-07   \n",
       "       3         energy_not_served_mwh                0.000000e+00   \n",
       "                 loss_of_load_p_duration_h            0.000000e+00   \n",
       "                 loss_of_load_p_mw                   -5.464086e-06   \n",
       "                 loss_of_load_p_percentage           -9.963444e-07   \n",
       "\n",
       "                                               2022-01-01 11:00:00  \\\n",
       "strata iteration field                     id                        \n",
       "0      0         energy_not_served_mwh                0.000000e+00   \n",
       "                 loss_of_load_p_duration_h            0.000000e+00   \n",
       "                 loss_of_load_p_mw                   -2.889437e-06   \n",
       "                 loss_of_load_p_percentage           -9.931091e-07   \n",
       "       1         energy_not_served_mwh                0.000000e+00   \n",
       "                 loss_of_load_p_duration_h            0.000000e+00   \n",
       "                 loss_of_load_p_mw                   -2.889437e-06   \n",
       "                 loss_of_load_p_percentage           -9.931091e-07   \n",
       "       2         energy_not_served_mwh                0.000000e+00   \n",
       "                 loss_of_load_p_duration_h            0.000000e+00   \n",
       "                 loss_of_load_p_mw                   -2.889437e-06   \n",
       "                 loss_of_load_p_percentage           -9.931091e-07   \n",
       "       3         energy_not_served_mwh                0.000000e+00   \n",
       "                 loss_of_load_p_duration_h            0.000000e+00   \n",
       "                 loss_of_load_p_mw                   -2.889437e-06   \n",
       "                 loss_of_load_p_percentage           -9.931091e-07   \n",
       "\n",
       "                                               2022-01-01 12:00:00  \\\n",
       "strata iteration field                     id                        \n",
       "0      0         energy_not_served_mwh                7.693370e+00   \n",
       "                 loss_of_load_p_duration_h            1.000000e+00   \n",
       "                 loss_of_load_p_mw                    7.693365e+00   \n",
       "                 loss_of_load_p_percentage            1.607296e+00   \n",
       "       1         energy_not_served_mwh                0.000000e+00   \n",
       "                 loss_of_load_p_duration_h            0.000000e+00   \n",
       "                 loss_of_load_p_mw                   -4.766477e-06   \n",
       "                 loss_of_load_p_percentage           -9.958114e-07   \n",
       "       2         energy_not_served_mwh                0.000000e+00   \n",
       "                 loss_of_load_p_duration_h            0.000000e+00   \n",
       "                 loss_of_load_p_mw                   -4.766477e-06   \n",
       "                 loss_of_load_p_percentage           -9.958113e-07   \n",
       "       3         energy_not_served_mwh                3.897930e+01   \n",
       "                 loss_of_load_p_duration_h            1.000000e+00   \n",
       "                 loss_of_load_p_mw                    3.897929e+01   \n",
       "                 loss_of_load_p_percentage            8.143546e+00   \n",
       "\n",
       "                                               2022-01-01 13:00:00  \\\n",
       "strata iteration field                     id                        \n",
       "0      0         energy_not_served_mwh                1.106708e+01   \n",
       "                 loss_of_load_p_duration_h            1.000000e+00   \n",
       "                 loss_of_load_p_mw                    1.106707e+01   \n",
       "                 loss_of_load_p_percentage            2.169431e+00   \n",
       "       1         energy_not_served_mwh                3.551466e+01   \n",
       "                 loss_of_load_p_duration_h            1.000000e+00   \n",
       "                 loss_of_load_p_mw                    3.551466e+01   \n",
       "                 loss_of_load_p_percentage            6.961789e+00   \n",
       "       2         energy_not_served_mwh                0.000000e+00   \n",
       "                 loss_of_load_p_duration_h            0.000000e+00   \n",
       "                 loss_of_load_p_mw                   -5.081323e-06   \n",
       "                 loss_of_load_p_percentage           -9.960703e-07   \n",
       "       3         energy_not_served_mwh                2.284460e+01   \n",
       "                 loss_of_load_p_duration_h            1.000000e+00   \n",
       "                 loss_of_load_p_mw                    2.284459e+01   \n",
       "                 loss_of_load_p_percentage            4.478129e+00   \n",
       "\n",
       "                                               2022-01-01 14:00:00  \\\n",
       "strata iteration field                     id                        \n",
       "0      0         energy_not_served_mwh                   38.877888   \n",
       "                 loss_of_load_p_duration_h                1.000000   \n",
       "                 loss_of_load_p_mw                       38.877884   \n",
       "                 loss_of_load_p_percentage                9.622991   \n",
       "       1         energy_not_served_mwh                   38.877888   \n",
       "                 loss_of_load_p_duration_h                1.000000   \n",
       "                 loss_of_load_p_mw                       38.877884   \n",
       "                 loss_of_load_p_percentage                9.622991   \n",
       "       2         energy_not_served_mwh                   17.182790   \n",
       "                 loss_of_load_p_duration_h                1.000000   \n",
       "                 loss_of_load_p_mw                       17.182787   \n",
       "                 loss_of_load_p_percentage                4.253055   \n",
       "       3         energy_not_served_mwh                   17.182790   \n",
       "                 loss_of_load_p_duration_h                1.000000   \n",
       "                 loss_of_load_p_mw                       17.182787   \n",
       "                 loss_of_load_p_percentage                4.253055   \n",
       "\n",
       "                                               2022-01-01 15:00:00  \\\n",
       "strata iteration field                     id                        \n",
       "0      0         energy_not_served_mwh                   77.616003   \n",
       "                 loss_of_load_p_duration_h                1.000000   \n",
       "                 loss_of_load_p_mw                       77.616002   \n",
       "                 loss_of_load_p_percentage               19.408385   \n",
       "       1         energy_not_served_mwh                   77.616003   \n",
       "                 loss_of_load_p_duration_h                1.000000   \n",
       "                 loss_of_load_p_mw                       77.616002   \n",
       "                 loss_of_load_p_percentage               19.408385   \n",
       "       2         energy_not_served_mwh                   55.554100   \n",
       "                 loss_of_load_p_duration_h                1.000000   \n",
       "                 loss_of_load_p_mw                       55.554097   \n",
       "                 loss_of_load_p_percentage               13.891662   \n",
       "       3         energy_not_served_mwh                   22.061903   \n",
       "                 loss_of_load_p_duration_h                1.000000   \n",
       "                 loss_of_load_p_mw                       22.061902   \n",
       "                 loss_of_load_p_percentage                5.516722   \n",
       "\n",
       "                                               2022-01-01 16:00:00  \\\n",
       "strata iteration field                     id                        \n",
       "0      0         energy_not_served_mwh                   64.726766   \n",
       "                 loss_of_load_p_duration_h                1.000000   \n",
       "                 loss_of_load_p_mw                       64.726765   \n",
       "                 loss_of_load_p_percentage               14.386057   \n",
       "       1         energy_not_served_mwh                  159.783660   \n",
       "                 loss_of_load_p_duration_h                1.000000   \n",
       "                 loss_of_load_p_mw                      159.783659   \n",
       "                 loss_of_load_p_percentage               35.513235   \n",
       "       2         energy_not_served_mwh                   64.724299   \n",
       "                 loss_of_load_p_duration_h                1.000000   \n",
       "                 loss_of_load_p_mw                       64.724298   \n",
       "                 loss_of_load_p_percentage               14.385509   \n",
       "       3         energy_not_served_mwh                  146.833291   \n",
       "                 loss_of_load_p_duration_h                1.000000   \n",
       "                 loss_of_load_p_mw                      146.833290   \n",
       "                 loss_of_load_p_percentage               32.634909   \n",
       "\n",
       "                                               2022-01-01 17:00:00  \\\n",
       "strata iteration field                     id                        \n",
       "0      0         energy_not_served_mwh                   64.924132   \n",
       "                 loss_of_load_p_duration_h                1.000000   \n",
       "                 loss_of_load_p_mw                       64.924130   \n",
       "                 loss_of_load_p_percentage               13.880153   \n",
       "       1         energy_not_served_mwh                  164.407164   \n",
       "                 loss_of_load_p_duration_h                1.000000   \n",
       "                 loss_of_load_p_mw                      164.407163   \n",
       "                 loss_of_load_p_percentage               35.148666   \n",
       "       2         energy_not_served_mwh                   67.901581   \n",
       "                 loss_of_load_p_duration_h                1.000000   \n",
       "                 loss_of_load_p_mw                       67.901579   \n",
       "                 loss_of_load_p_percentage               14.516703   \n",
       "       3         energy_not_served_mwh                   57.333085   \n",
       "                 loss_of_load_p_duration_h                1.000000   \n",
       "                 loss_of_load_p_mw                       57.333084   \n",
       "                 loss_of_load_p_percentage               12.257260   \n",
       "\n",
       "                                               2022-01-01 18:00:00  \\\n",
       "strata iteration field                     id                        \n",
       "0      0         energy_not_served_mwh                   37.354737   \n",
       "                 loss_of_load_p_duration_h                1.000000   \n",
       "                 loss_of_load_p_mw                       37.354734   \n",
       "                 loss_of_load_p_percentage               10.128432   \n",
       "       1         energy_not_served_mwh                   62.371151   \n",
       "                 loss_of_load_p_duration_h                1.000000   \n",
       "                 loss_of_load_p_mw                       62.371148   \n",
       "                 loss_of_load_p_percentage               16.911429   \n",
       "       2         energy_not_served_mwh                   62.371151   \n",
       "                 loss_of_load_p_duration_h                1.000000   \n",
       "                 loss_of_load_p_mw                       62.371148   \n",
       "                 loss_of_load_p_percentage               16.911429   \n",
       "       3         energy_not_served_mwh                   25.016414   \n",
       "                 loss_of_load_p_duration_h                1.000000   \n",
       "                 loss_of_load_p_mw                       25.016411   \n",
       "                 loss_of_load_p_percentage                6.782996   \n",
       "\n",
       "                                               2022-01-01 19:00:00  \\\n",
       "strata iteration field                     id                        \n",
       "0      0         energy_not_served_mwh                   62.391009   \n",
       "                 loss_of_load_p_duration_h                1.000000   \n",
       "                 loss_of_load_p_mw                       62.391007   \n",
       "                 loss_of_load_p_percentage               20.017586   \n",
       "       1         energy_not_served_mwh                   62.614832   \n",
       "                 loss_of_load_p_duration_h                1.000000   \n",
       "                 loss_of_load_p_mw                       62.614829   \n",
       "                 loss_of_load_p_percentage               20.089397   \n",
       "       2         energy_not_served_mwh                   62.614832   \n",
       "                 loss_of_load_p_duration_h                1.000000   \n",
       "                 loss_of_load_p_mw                       62.614829   \n",
       "                 loss_of_load_p_percentage               20.089397   \n",
       "       3         energy_not_served_mwh                    0.223822   \n",
       "                 loss_of_load_p_duration_h                1.000000   \n",
       "                 loss_of_load_p_mw                        0.223819   \n",
       "                 loss_of_load_p_percentage                0.071810   \n",
       "\n",
       "                                               2022-01-01 20:00:00  \\\n",
       "strata iteration field                     id                        \n",
       "0      0         energy_not_served_mwh                   45.608818   \n",
       "                 loss_of_load_p_duration_h                1.000000   \n",
       "                 loss_of_load_p_mw                       45.608816   \n",
       "                 loss_of_load_p_percentage               16.357988   \n",
       "       1         energy_not_served_mwh                   77.639895   \n",
       "                 loss_of_load_p_duration_h                1.000000   \n",
       "                 loss_of_load_p_mw                       77.639893   \n",
       "                 loss_of_load_p_percentage               27.846205   \n",
       "       2         energy_not_served_mwh                   77.639895   \n",
       "                 loss_of_load_p_duration_h                1.000000   \n",
       "                 loss_of_load_p_mw                       77.639893   \n",
       "                 loss_of_load_p_percentage               27.846205   \n",
       "       3         energy_not_served_mwh                   32.031078   \n",
       "                 loss_of_load_p_duration_h                1.000000   \n",
       "                 loss_of_load_p_mw                       32.031075   \n",
       "                 loss_of_load_p_percentage               11.488216   \n",
       "\n",
       "                                               2022-01-01 21:00:00  \\\n",
       "strata iteration field                     id                        \n",
       "0      0         energy_not_served_mwh                   64.077357   \n",
       "                 loss_of_load_p_duration_h                1.000000   \n",
       "                 loss_of_load_p_mw                       64.077351   \n",
       "                 loss_of_load_p_percentage               10.359287   \n",
       "       1         energy_not_served_mwh                   64.077357   \n",
       "                 loss_of_load_p_duration_h                1.000000   \n",
       "                 loss_of_load_p_mw                       64.077351   \n",
       "                 loss_of_load_p_percentage               10.359287   \n",
       "       2         energy_not_served_mwh                   64.077357   \n",
       "                 loss_of_load_p_duration_h                1.000000   \n",
       "                 loss_of_load_p_mw                       64.077351   \n",
       "                 loss_of_load_p_percentage               10.359287   \n",
       "       3         energy_not_served_mwh                   23.654189   \n",
       "                 loss_of_load_p_duration_h                1.000000   \n",
       "                 loss_of_load_p_mw                       23.654183   \n",
       "                 loss_of_load_p_percentage                3.824135   \n",
       "\n",
       "                                               2022-01-01 22:00:00  \\\n",
       "strata iteration field                     id                        \n",
       "0      0         energy_not_served_mwh                   19.577786   \n",
       "                 loss_of_load_p_duration_h                1.000000   \n",
       "                 loss_of_load_p_mw                       19.577781   \n",
       "                 loss_of_load_p_percentage                4.006725   \n",
       "       1         energy_not_served_mwh                   19.577786   \n",
       "                 loss_of_load_p_duration_h                1.000000   \n",
       "                 loss_of_load_p_mw                       19.577781   \n",
       "                 loss_of_load_p_percentage                4.006725   \n",
       "       2         energy_not_served_mwh                   19.577786   \n",
       "                 loss_of_load_p_duration_h                1.000000   \n",
       "                 loss_of_load_p_mw                       19.577781   \n",
       "                 loss_of_load_p_percentage                4.006725   \n",
       "       3         energy_not_served_mwh                   18.643493   \n",
       "                 loss_of_load_p_duration_h                1.000000   \n",
       "                 loss_of_load_p_mw                       18.643488   \n",
       "                 loss_of_load_p_percentage                3.815516   \n",
       "\n",
       "                                               2022-01-01 23:00:00  \\\n",
       "strata iteration field                     id                        \n",
       "0      0         energy_not_served_mwh                7.620666e+01   \n",
       "                 loss_of_load_p_duration_h            1.000000e+00   \n",
       "                 loss_of_load_p_mw                    7.620665e+01   \n",
       "                 loss_of_load_p_percentage            3.033332e+01   \n",
       "       1         energy_not_served_mwh                7.620666e+01   \n",
       "                 loss_of_load_p_duration_h            1.000000e+00   \n",
       "                 loss_of_load_p_mw                    7.620665e+01   \n",
       "                 loss_of_load_p_percentage            3.033332e+01   \n",
       "       2         energy_not_served_mwh                7.620666e+01   \n",
       "                 loss_of_load_p_duration_h            1.000000e+00   \n",
       "                 loss_of_load_p_mw                    7.620665e+01   \n",
       "                 loss_of_load_p_percentage            3.033332e+01   \n",
       "       3         energy_not_served_mwh                0.000000e+00   \n",
       "                 loss_of_load_p_duration_h            0.000000e+00   \n",
       "                 loss_of_load_p_mw                   -2.488121e-06   \n",
       "                 loss_of_load_p_percentage           -9.903724e-07   \n",
       "\n",
       "                                               2022-01-02 00:00:00  \\\n",
       "strata iteration field                     id                        \n",
       "0      0         energy_not_served_mwh                3.202814e+01   \n",
       "                 loss_of_load_p_duration_h            1.000000e+00   \n",
       "                 loss_of_load_p_mw                    3.202814e+01   \n",
       "                 loss_of_load_p_percentage            7.100689e+00   \n",
       "       1         energy_not_served_mwh                5.769101e+01   \n",
       "                 loss_of_load_p_duration_h            1.000000e+00   \n",
       "                 loss_of_load_p_mw                    5.769100e+01   \n",
       "                 loss_of_load_p_percentage            1.279019e+01   \n",
       "       2         energy_not_served_mwh                5.769101e+01   \n",
       "                 loss_of_load_p_duration_h            1.000000e+00   \n",
       "                 loss_of_load_p_mw                    5.769100e+01   \n",
       "                 loss_of_load_p_percentage            1.279019e+01   \n",
       "       3         energy_not_served_mwh                0.000000e+00   \n",
       "                 loss_of_load_p_duration_h            0.000000e+00   \n",
       "                 loss_of_load_p_mw                   -4.490519e-06   \n",
       "                 loss_of_load_p_percentage           -9.955552e-07   \n",
       "\n",
       "                                               2022-01-02 01:00:00  \\\n",
       "strata iteration field                     id                        \n",
       "0      0         energy_not_served_mwh                0.000000e+00   \n",
       "                 loss_of_load_p_duration_h            0.000000e+00   \n",
       "                 loss_of_load_p_mw                   -5.381367e-06   \n",
       "                 loss_of_load_p_percentage           -9.977900e-07   \n",
       "       1         energy_not_served_mwh                5.072975e+01   \n",
       "                 loss_of_load_p_duration_h            1.000000e+00   \n",
       "                 loss_of_load_p_mw                    5.072975e+01   \n",
       "                 loss_of_load_p_percentage            9.406092e+00   \n",
       "       2         energy_not_served_mwh                2.788515e+01   \n",
       "                 loss_of_load_p_duration_h            1.000000e+00   \n",
       "                 loss_of_load_p_mw                    2.788514e+01   \n",
       "                 loss_of_load_p_percentage            5.170344e+00   \n",
       "       3         energy_not_served_mwh                0.000000e+00   \n",
       "                 loss_of_load_p_duration_h            0.000000e+00   \n",
       "                 loss_of_load_p_mw                   -5.378675e-06   \n",
       "                 loss_of_load_p_percentage           -9.972909e-07   \n",
       "\n",
       "                                               2022-01-02 02:00:00  \\\n",
       "strata iteration field                     id                        \n",
       "0      0         energy_not_served_mwh                0.000000e+00   \n",
       "                 loss_of_load_p_duration_h            0.000000e+00   \n",
       "                 loss_of_load_p_mw                   -2.842546e-06   \n",
       "                 loss_of_load_p_percentage           -9.929965e-07   \n",
       "       1         energy_not_served_mwh                1.601494e+01   \n",
       "                 loss_of_load_p_duration_h            1.000000e+00   \n",
       "                 loss_of_load_p_mw                    1.601494e+01   \n",
       "                 loss_of_load_p_percentage            5.594554e+00   \n",
       "       2         energy_not_served_mwh                0.000000e+00   \n",
       "                 loss_of_load_p_duration_h            0.000000e+00   \n",
       "                 loss_of_load_p_mw                   -2.842546e-06   \n",
       "                 loss_of_load_p_percentage           -9.929965e-07   \n",
       "       3         energy_not_served_mwh                0.000000e+00   \n",
       "                 loss_of_load_p_duration_h            0.000000e+00   \n",
       "                 loss_of_load_p_mw                   -2.842546e-06   \n",
       "                 loss_of_load_p_percentage           -9.929965e-07   \n",
       "\n",
       "                                               2022-01-02 03:00:00  \\\n",
       "strata iteration field                     id                        \n",
       "0      0         energy_not_served_mwh                0.000000e+00   \n",
       "                 loss_of_load_p_duration_h            0.000000e+00   \n",
       "                 loss_of_load_p_mw                   -2.757753e-06   \n",
       "                 loss_of_load_p_percentage           -9.927823e-07   \n",
       "       1         energy_not_served_mwh                0.000000e+00   \n",
       "                 loss_of_load_p_duration_h            0.000000e+00   \n",
       "                 loss_of_load_p_mw                   -2.757753e-06   \n",
       "                 loss_of_load_p_percentage           -9.927823e-07   \n",
       "       2         energy_not_served_mwh                0.000000e+00   \n",
       "                 loss_of_load_p_duration_h            0.000000e+00   \n",
       "                 loss_of_load_p_mw                   -2.757753e-06   \n",
       "                 loss_of_load_p_percentage           -9.927823e-07   \n",
       "       3         energy_not_served_mwh                0.000000e+00   \n",
       "                 loss_of_load_p_duration_h            0.000000e+00   \n",
       "                 loss_of_load_p_mw                   -2.757753e-06   \n",
       "                 loss_of_load_p_percentage           -9.927823e-07   \n",
       "\n",
       "                                               2022-01-02 04:00:00  \\\n",
       "strata iteration field                     id                        \n",
       "0      0         energy_not_served_mwh                0.000000e+00   \n",
       "                 loss_of_load_p_duration_h            0.000000e+00   \n",
       "                 loss_of_load_p_mw                   -7.626931e-06   \n",
       "                 loss_of_load_p_percentage           -9.973795e-07   \n",
       "       1         energy_not_served_mwh                0.000000e+00   \n",
       "                 loss_of_load_p_duration_h            0.000000e+00   \n",
       "                 loss_of_load_p_mw                   -7.626931e-06   \n",
       "                 loss_of_load_p_percentage           -9.973795e-07   \n",
       "       2         energy_not_served_mwh                0.000000e+00   \n",
       "                 loss_of_load_p_duration_h            0.000000e+00   \n",
       "                 loss_of_load_p_mw                   -7.626931e-06   \n",
       "                 loss_of_load_p_percentage           -9.973795e-07   \n",
       "       3         energy_not_served_mwh                0.000000e+00   \n",
       "                 loss_of_load_p_duration_h            0.000000e+00   \n",
       "                 loss_of_load_p_mw                   -7.626931e-06   \n",
       "                 loss_of_load_p_percentage           -9.973795e-07   \n",
       "\n",
       "                                               2022-01-02 05:00:00  \\\n",
       "strata iteration field                     id                        \n",
       "0      0         energy_not_served_mwh                0.000000e+00   \n",
       "                 loss_of_load_p_duration_h            0.000000e+00   \n",
       "                 loss_of_load_p_mw                   -1.450630e-06   \n",
       "                 loss_of_load_p_percentage           -9.794905e-07   \n",
       "       1         energy_not_served_mwh                0.000000e+00   \n",
       "                 loss_of_load_p_duration_h            0.000000e+00   \n",
       "                 loss_of_load_p_mw                   -1.450630e-06   \n",
       "                 loss_of_load_p_percentage           -9.794905e-07   \n",
       "       2         energy_not_served_mwh                0.000000e+00   \n",
       "                 loss_of_load_p_duration_h            0.000000e+00   \n",
       "                 loss_of_load_p_mw                   -1.450630e-06   \n",
       "                 loss_of_load_p_percentage           -9.794905e-07   \n",
       "       3         energy_not_served_mwh                0.000000e+00   \n",
       "                 loss_of_load_p_duration_h            0.000000e+00   \n",
       "                 loss_of_load_p_mw                   -1.450630e-06   \n",
       "                 loss_of_load_p_percentage           -9.794905e-07   \n",
       "\n",
       "                                               2022-01-02 06:00:00  \\\n",
       "strata iteration field                     id                        \n",
       "0      0         energy_not_served_mwh                0.000000e+00   \n",
       "                 loss_of_load_p_duration_h            0.000000e+00   \n",
       "                 loss_of_load_p_mw                   -6.298022e-06   \n",
       "                 loss_of_load_p_percentage           -9.968270e-07   \n",
       "       1         energy_not_served_mwh                0.000000e+00   \n",
       "                 loss_of_load_p_duration_h            0.000000e+00   \n",
       "                 loss_of_load_p_mw                   -6.298022e-06   \n",
       "                 loss_of_load_p_percentage           -9.968270e-07   \n",
       "       2         energy_not_served_mwh                0.000000e+00   \n",
       "                 loss_of_load_p_duration_h            0.000000e+00   \n",
       "                 loss_of_load_p_mw                   -6.298022e-06   \n",
       "                 loss_of_load_p_percentage           -9.968270e-07   \n",
       "       3         energy_not_served_mwh                0.000000e+00   \n",
       "                 loss_of_load_p_duration_h            0.000000e+00   \n",
       "                 loss_of_load_p_mw                   -6.298022e-06   \n",
       "                 loss_of_load_p_percentage           -9.968270e-07   \n",
       "\n",
       "                                               2022-01-02 07:00:00  \\\n",
       "strata iteration field                     id                        \n",
       "0      0         energy_not_served_mwh                0.000000e+00   \n",
       "                 loss_of_load_p_duration_h            0.000000e+00   \n",
       "                 loss_of_load_p_mw                   -5.342216e-06   \n",
       "                 loss_of_load_p_percentage           -9.973608e-07   \n",
       "       1         energy_not_served_mwh                0.000000e+00   \n",
       "                 loss_of_load_p_duration_h            0.000000e+00   \n",
       "                 loss_of_load_p_mw                   -5.342216e-06   \n",
       "                 loss_of_load_p_percentage           -9.973608e-07   \n",
       "       2         energy_not_served_mwh                0.000000e+00   \n",
       "                 loss_of_load_p_duration_h            0.000000e+00   \n",
       "                 loss_of_load_p_mw                   -5.342216e-06   \n",
       "                 loss_of_load_p_percentage           -9.973608e-07   \n",
       "       3         energy_not_served_mwh                0.000000e+00   \n",
       "                 loss_of_load_p_duration_h            0.000000e+00   \n",
       "                 loss_of_load_p_mw                   -5.342216e-06   \n",
       "                 loss_of_load_p_percentage           -9.973608e-07   \n",
       "\n",
       "                                               2022-01-02 08:00:00  \\\n",
       "strata iteration field                     id                        \n",
       "0      0         energy_not_served_mwh                0.000000e+00   \n",
       "                 loss_of_load_p_duration_h            0.000000e+00   \n",
       "                 loss_of_load_p_mw                   -5.228577e-06   \n",
       "                 loss_of_load_p_percentage           -9.961801e-07   \n",
       "       1         energy_not_served_mwh                0.000000e+00   \n",
       "                 loss_of_load_p_duration_h            0.000000e+00   \n",
       "                 loss_of_load_p_mw                   -5.228577e-06   \n",
       "                 loss_of_load_p_percentage           -9.961801e-07   \n",
       "       2         energy_not_served_mwh                0.000000e+00   \n",
       "                 loss_of_load_p_duration_h            0.000000e+00   \n",
       "                 loss_of_load_p_mw                   -5.228577e-06   \n",
       "                 loss_of_load_p_percentage           -9.961801e-07   \n",
       "       3         energy_not_served_mwh                0.000000e+00   \n",
       "                 loss_of_load_p_duration_h            0.000000e+00   \n",
       "                 loss_of_load_p_mw                   -5.228577e-06   \n",
       "                 loss_of_load_p_percentage           -9.961801e-07   \n",
       "\n",
       "                                               2022-01-02 09:00:00  \\\n",
       "strata iteration field                     id                        \n",
       "0      0         energy_not_served_mwh                0.000000e+00   \n",
       "                 loss_of_load_p_duration_h            0.000000e+00   \n",
       "                 loss_of_load_p_mw                   -3.650433e-06   \n",
       "                 loss_of_load_p_percentage           -9.939850e-07   \n",
       "       1         energy_not_served_mwh                0.000000e+00   \n",
       "                 loss_of_load_p_duration_h            0.000000e+00   \n",
       "                 loss_of_load_p_mw                   -3.650433e-06   \n",
       "                 loss_of_load_p_percentage           -9.939850e-07   \n",
       "       2         energy_not_served_mwh                0.000000e+00   \n",
       "                 loss_of_load_p_duration_h            0.000000e+00   \n",
       "                 loss_of_load_p_mw                   -3.650433e-06   \n",
       "                 loss_of_load_p_percentage           -9.939850e-07   \n",
       "       3         energy_not_served_mwh                0.000000e+00   \n",
       "                 loss_of_load_p_duration_h            0.000000e+00   \n",
       "                 loss_of_load_p_mw                   -3.650433e-06   \n",
       "                 loss_of_load_p_percentage           -9.939850e-07   \n",
       "\n",
       "                                               2022-01-02 10:00:00  \\\n",
       "strata iteration field                     id                        \n",
       "0      0         energy_not_served_mwh                0.000000e+00   \n",
       "                 loss_of_load_p_duration_h            0.000000e+00   \n",
       "                 loss_of_load_p_mw                   -4.802565e-06   \n",
       "                 loss_of_load_p_percentage           -9.958433e-07   \n",
       "       1         energy_not_served_mwh                0.000000e+00   \n",
       "                 loss_of_load_p_duration_h            0.000000e+00   \n",
       "                 loss_of_load_p_mw                   -4.802565e-06   \n",
       "                 loss_of_load_p_percentage           -9.958433e-07   \n",
       "       2         energy_not_served_mwh                0.000000e+00   \n",
       "                 loss_of_load_p_duration_h            0.000000e+00   \n",
       "                 loss_of_load_p_mw                   -4.802565e-06   \n",
       "                 loss_of_load_p_percentage           -9.958433e-07   \n",
       "       3         energy_not_served_mwh                0.000000e+00   \n",
       "                 loss_of_load_p_duration_h            0.000000e+00   \n",
       "                 loss_of_load_p_mw                   -4.802565e-06   \n",
       "                 loss_of_load_p_percentage           -9.958433e-07   \n",
       "\n",
       "                                               2022-01-02 11:00:00  \\\n",
       "strata iteration field                     id                        \n",
       "0      0         energy_not_served_mwh                0.000000e+00   \n",
       "                 loss_of_load_p_duration_h            0.000000e+00   \n",
       "                 loss_of_load_p_mw                   -5.285061e-06   \n",
       "                 loss_of_load_p_percentage           -9.962211e-07   \n",
       "       1         energy_not_served_mwh                0.000000e+00   \n",
       "                 loss_of_load_p_duration_h            0.000000e+00   \n",
       "                 loss_of_load_p_mw                   -5.285061e-06   \n",
       "                 loss_of_load_p_percentage           -9.962211e-07   \n",
       "       2         energy_not_served_mwh                0.000000e+00   \n",
       "                 loss_of_load_p_duration_h            0.000000e+00   \n",
       "                 loss_of_load_p_mw                   -5.285061e-06   \n",
       "                 loss_of_load_p_percentage           -9.962211e-07   \n",
       "       3         energy_not_served_mwh                0.000000e+00   \n",
       "                 loss_of_load_p_duration_h            0.000000e+00   \n",
       "                 loss_of_load_p_mw                   -5.285061e-06   \n",
       "                 loss_of_load_p_percentage           -9.962211e-07   \n",
       "\n",
       "                                               2022-01-02 12:00:00  \\\n",
       "strata iteration field                     id                        \n",
       "0      0         energy_not_served_mwh                0.000000e+00   \n",
       "                 loss_of_load_p_duration_h            0.000000e+00   \n",
       "                 loss_of_load_p_mw                   -6.518402e-06   \n",
       "                 loss_of_load_p_percentage           -9.969341e-07   \n",
       "       1         energy_not_served_mwh                0.000000e+00   \n",
       "                 loss_of_load_p_duration_h            0.000000e+00   \n",
       "                 loss_of_load_p_mw                   -6.518402e-06   \n",
       "                 loss_of_load_p_percentage           -9.969341e-07   \n",
       "       2         energy_not_served_mwh                0.000000e+00   \n",
       "                 loss_of_load_p_duration_h            0.000000e+00   \n",
       "                 loss_of_load_p_mw                   -6.518402e-06   \n",
       "                 loss_of_load_p_percentage           -9.969341e-07   \n",
       "       3         energy_not_served_mwh                0.000000e+00   \n",
       "                 loss_of_load_p_duration_h            0.000000e+00   \n",
       "                 loss_of_load_p_mw                   -6.518402e-06   \n",
       "                 loss_of_load_p_percentage           -9.969341e-07   \n",
       "\n",
       "                                               2022-01-02 13:00:00  \\\n",
       "strata iteration field                     id                        \n",
       "0      0         energy_not_served_mwh                0.000000e+00   \n",
       "                 loss_of_load_p_duration_h            0.000000e+00   \n",
       "                 loss_of_load_p_mw                   -5.420189e-06   \n",
       "                 loss_of_load_p_percentage           -9.963153e-07   \n",
       "       1         energy_not_served_mwh                0.000000e+00   \n",
       "                 loss_of_load_p_duration_h            0.000000e+00   \n",
       "                 loss_of_load_p_mw                   -5.420189e-06   \n",
       "                 loss_of_load_p_percentage           -9.963153e-07   \n",
       "       2         energy_not_served_mwh                0.000000e+00   \n",
       "                 loss_of_load_p_duration_h            0.000000e+00   \n",
       "                 loss_of_load_p_mw                   -5.420189e-06   \n",
       "                 loss_of_load_p_percentage           -9.963153e-07   \n",
       "       3         energy_not_served_mwh                0.000000e+00   \n",
       "                 loss_of_load_p_duration_h            0.000000e+00   \n",
       "                 loss_of_load_p_mw                   -5.420189e-06   \n",
       "                 loss_of_load_p_percentage           -9.963153e-07   \n",
       "\n",
       "                                               2022-01-02 14:00:00  \\\n",
       "strata iteration field                     id                        \n",
       "0      0         energy_not_served_mwh                0.000000e+00   \n",
       "                 loss_of_load_p_duration_h            0.000000e+00   \n",
       "                 loss_of_load_p_mw                   -4.571977e-06   \n",
       "                 loss_of_load_p_percentage           -9.956343e-07   \n",
       "       1         energy_not_served_mwh                0.000000e+00   \n",
       "                 loss_of_load_p_duration_h            0.000000e+00   \n",
       "                 loss_of_load_p_mw                   -4.571977e-06   \n",
       "                 loss_of_load_p_percentage           -9.956343e-07   \n",
       "       2         energy_not_served_mwh                0.000000e+00   \n",
       "                 loss_of_load_p_duration_h            0.000000e+00   \n",
       "                 loss_of_load_p_mw                   -4.571977e-06   \n",
       "                 loss_of_load_p_percentage           -9.956343e-07   \n",
       "       3         energy_not_served_mwh                0.000000e+00   \n",
       "                 loss_of_load_p_duration_h            0.000000e+00   \n",
       "                 loss_of_load_p_mw                   -4.571977e-06   \n",
       "                 loss_of_load_p_percentage           -9.956343e-07   \n",
       "\n",
       "                                               2022-01-02 15:00:00  \\\n",
       "strata iteration field                     id                        \n",
       "0      0         energy_not_served_mwh                0.000000e+00   \n",
       "                 loss_of_load_p_duration_h            0.000000e+00   \n",
       "                 loss_of_load_p_mw                   -4.865400e-06   \n",
       "                 loss_of_load_p_percentage           -9.961664e-07   \n",
       "       1         energy_not_served_mwh                0.000000e+00   \n",
       "                 loss_of_load_p_duration_h            0.000000e+00   \n",
       "                 loss_of_load_p_mw                   -4.865400e-06   \n",
       "                 loss_of_load_p_percentage           -9.961664e-07   \n",
       "       2         energy_not_served_mwh                0.000000e+00   \n",
       "                 loss_of_load_p_duration_h            0.000000e+00   \n",
       "                 loss_of_load_p_mw                   -4.865400e-06   \n",
       "                 loss_of_load_p_percentage           -9.961664e-07   \n",
       "       3         energy_not_served_mwh                0.000000e+00   \n",
       "                 loss_of_load_p_duration_h            0.000000e+00   \n",
       "                 loss_of_load_p_mw                   -4.865400e-06   \n",
       "                 loss_of_load_p_percentage           -9.961664e-07   \n",
       "\n",
       "                                               2022-01-02 16:00:00  \n",
       "strata iteration field                     id                       \n",
       "0      0         energy_not_served_mwh                0.000000e+00  \n",
       "                 loss_of_load_p_duration_h            0.000000e+00  \n",
       "                 loss_of_load_p_mw                   -3.209148e-06  \n",
       "                 loss_of_load_p_percentage           -9.938411e-07  \n",
       "       1         energy_not_served_mwh                0.000000e+00  \n",
       "                 loss_of_load_p_duration_h            0.000000e+00  \n",
       "                 loss_of_load_p_mw                   -3.209148e-06  \n",
       "                 loss_of_load_p_percentage           -9.938411e-07  \n",
       "       2         energy_not_served_mwh                0.000000e+00  \n",
       "                 loss_of_load_p_duration_h            0.000000e+00  \n",
       "                 loss_of_load_p_mw                   -3.209148e-06  \n",
       "                 loss_of_load_p_percentage           -9.938411e-07  \n",
       "       3         energy_not_served_mwh                0.000000e+00  \n",
       "                 loss_of_load_p_duration_h            0.000000e+00  \n",
       "                 loss_of_load_p_mw                   -3.209148e-06  \n",
       "                 loss_of_load_p_percentage           -9.938411e-07  "
      ]
     },
     "execution_count": 22,
     "metadata": {},
     "output_type": "execute_result"
    }
   ],
   "source": [
    "simulation.results.loc[:,:,:,'network',:]"
   ]
  },
  {
   "cell_type": "markdown",
   "id": "found-calculator",
   "metadata": {},
   "source": [
    "## Iterations metrics"
   ]
  },
  {
   "cell_type": "code",
   "execution_count": null,
   "id": "fossil-weekend",
   "metadata": {},
   "outputs": [
    {
     "name": "stdout",
     "output_type": "stream",
     "text": [
      "iterations droped : []\n"
     ]
    }
   ],
   "source": [
    "df = pd.read_csv(rx.config.path.engineDatabaseFile(simulationName), index_col = [0, 1, 2, 3, 4]) # read database with results\n",
    "df = filter_non_converged_iterations(df) # filterining non-converged iterations\n"
   ]
  },
  {
   "cell_type": "code",
   "execution_count": 26,
   "id": "classical-sellers",
   "metadata": {},
   "outputs": [],
   "source": [
    "df_line = group_by(df, 'sum', 'iteration', 'field', 'type').loc[:,:,'line']\n",
    "df_line_quantiles = invert(get_quantiles_on_iterations(df_line, [0.05,0.5,0.95]))\n",
    "df_line = invert(df_line)"
   ]
  },
  {
   "cell_type": "code",
   "execution_count": null,
   "id": "adverse-finnish",
   "metadata": {},
   "outputs": [],
   "source": [
    "df_montecarlo = pd.read_csv(rx.config.path.engineDatabaseFile(simulationName), index_col = [0, 1, 2, 3, 4])"
   ]
  },
  {
   "cell_type": "markdown",
   "id": "normal-battle",
   "metadata": {},
   "source": [
    "### Number of lines in service"
   ]
  },
  {
   "cell_type": "code",
   "execution_count": 28,
   "id": "floral-payday",
   "metadata": {},
   "outputs": [
    {
     "data": {
      "application/vnd.plotly.v1+json": {
       "config": {
        "plotlyServerURL": "https://plot.ly"
       },
       "data": [
        {
         "hovertemplate": "iteration=0<br>index=%{x}<br>in_service=%{y}<extra></extra>",
         "legendgroup": "0",
         "line": {
          "color": "#636efa",
          "dash": "solid"
         },
         "marker": {
          "symbol": "circle"
         },
         "mode": "lines",
         "name": "0",
         "orientation": "v",
         "showlegend": true,
         "type": "scatter",
         "x": [
          "2022-01-01 01:00:00",
          "2022-01-01 02:00:00",
          "2022-01-01 03:00:00",
          "2022-01-01 04:00:00",
          "2022-01-01 05:00:00",
          "2022-01-01 06:00:00",
          "2022-01-01 07:00:00",
          "2022-01-01 08:00:00",
          "2022-01-01 09:00:00",
          "2022-01-01 10:00:00",
          "2022-01-01 11:00:00",
          "2022-01-01 12:00:00",
          "2022-01-01 13:00:00",
          "2022-01-01 14:00:00",
          "2022-01-01 15:00:00",
          "2022-01-01 16:00:00",
          "2022-01-01 17:00:00",
          "2022-01-01 18:00:00",
          "2022-01-01 19:00:00",
          "2022-01-01 20:00:00",
          "2022-01-01 21:00:00",
          "2022-01-01 22:00:00",
          "2022-01-01 23:00:00",
          "2022-01-02 00:00:00",
          "2022-01-02 01:00:00",
          "2022-01-02 02:00:00",
          "2022-01-02 03:00:00",
          "2022-01-02 04:00:00",
          "2022-01-02 05:00:00",
          "2022-01-02 06:00:00",
          "2022-01-02 07:00:00",
          "2022-01-02 08:00:00",
          "2022-01-02 09:00:00",
          "2022-01-02 10:00:00",
          "2022-01-02 11:00:00",
          "2022-01-02 12:00:00",
          "2022-01-02 13:00:00",
          "2022-01-02 14:00:00",
          "2022-01-02 15:00:00",
          "2022-01-02 16:00:00"
         ],
         "xaxis": "x",
         "y": [
          16,
          16,
          16,
          16,
          16,
          16,
          16,
          16,
          16,
          16,
          16,
          13,
          11,
          9,
          8,
          8,
          9,
          10,
          10,
          11,
          11,
          13,
          13,
          14,
          15,
          16,
          16,
          16,
          16,
          16,
          16,
          16,
          16,
          16,
          16,
          16,
          16,
          16,
          16,
          16
         ],
         "yaxis": "y"
        },
        {
         "hovertemplate": "iteration=1<br>index=%{x}<br>in_service=%{y}<extra></extra>",
         "legendgroup": "1",
         "line": {
          "color": "#EF553B",
          "dash": "solid"
         },
         "marker": {
          "symbol": "circle"
         },
         "mode": "lines",
         "name": "1",
         "orientation": "v",
         "showlegend": true,
         "type": "scatter",
         "x": [
          "2022-01-01 01:00:00",
          "2022-01-01 02:00:00",
          "2022-01-01 03:00:00",
          "2022-01-01 04:00:00",
          "2022-01-01 05:00:00",
          "2022-01-01 06:00:00",
          "2022-01-01 07:00:00",
          "2022-01-01 08:00:00",
          "2022-01-01 09:00:00",
          "2022-01-01 10:00:00",
          "2022-01-01 11:00:00",
          "2022-01-01 12:00:00",
          "2022-01-01 13:00:00",
          "2022-01-01 14:00:00",
          "2022-01-01 15:00:00",
          "2022-01-01 16:00:00",
          "2022-01-01 17:00:00",
          "2022-01-01 18:00:00",
          "2022-01-01 19:00:00",
          "2022-01-01 20:00:00",
          "2022-01-01 21:00:00",
          "2022-01-01 22:00:00",
          "2022-01-01 23:00:00",
          "2022-01-02 00:00:00",
          "2022-01-02 01:00:00",
          "2022-01-02 02:00:00",
          "2022-01-02 03:00:00",
          "2022-01-02 04:00:00",
          "2022-01-02 05:00:00",
          "2022-01-02 06:00:00",
          "2022-01-02 07:00:00",
          "2022-01-02 08:00:00",
          "2022-01-02 09:00:00",
          "2022-01-02 10:00:00",
          "2022-01-02 11:00:00",
          "2022-01-02 12:00:00",
          "2022-01-02 13:00:00",
          "2022-01-02 14:00:00",
          "2022-01-02 15:00:00",
          "2022-01-02 16:00:00"
         ],
         "xaxis": "x",
         "y": [
          16,
          16,
          16,
          16,
          16,
          16,
          16,
          16,
          16,
          16,
          16,
          15,
          12,
          9,
          6,
          5,
          6,
          7,
          8,
          8,
          9,
          11,
          11,
          12,
          12,
          14,
          15,
          16,
          16,
          16,
          16,
          16,
          16,
          16,
          16,
          16,
          16,
          16,
          16,
          16
         ],
         "yaxis": "y"
        },
        {
         "hovertemplate": "iteration=2<br>index=%{x}<br>in_service=%{y}<extra></extra>",
         "legendgroup": "2",
         "line": {
          "color": "#00cc96",
          "dash": "solid"
         },
         "marker": {
          "symbol": "circle"
         },
         "mode": "lines",
         "name": "2",
         "orientation": "v",
         "showlegend": true,
         "type": "scatter",
         "x": [
          "2022-01-01 01:00:00",
          "2022-01-01 02:00:00",
          "2022-01-01 03:00:00",
          "2022-01-01 04:00:00",
          "2022-01-01 05:00:00",
          "2022-01-01 06:00:00",
          "2022-01-01 07:00:00",
          "2022-01-01 08:00:00",
          "2022-01-01 09:00:00",
          "2022-01-01 10:00:00",
          "2022-01-01 11:00:00",
          "2022-01-01 12:00:00",
          "2022-01-01 13:00:00",
          "2022-01-01 14:00:00",
          "2022-01-01 15:00:00",
          "2022-01-01 16:00:00",
          "2022-01-01 17:00:00",
          "2022-01-01 18:00:00",
          "2022-01-01 19:00:00",
          "2022-01-01 20:00:00",
          "2022-01-01 21:00:00",
          "2022-01-01 22:00:00",
          "2022-01-01 23:00:00",
          "2022-01-02 00:00:00",
          "2022-01-02 01:00:00",
          "2022-01-02 02:00:00",
          "2022-01-02 03:00:00",
          "2022-01-02 04:00:00",
          "2022-01-02 05:00:00",
          "2022-01-02 06:00:00",
          "2022-01-02 07:00:00",
          "2022-01-02 08:00:00",
          "2022-01-02 09:00:00",
          "2022-01-02 10:00:00",
          "2022-01-02 11:00:00",
          "2022-01-02 12:00:00",
          "2022-01-02 13:00:00",
          "2022-01-02 14:00:00",
          "2022-01-02 15:00:00",
          "2022-01-02 16:00:00"
         ],
         "xaxis": "x",
         "y": [
          16,
          16,
          16,
          16,
          16,
          16,
          16,
          16,
          16,
          16,
          16,
          15,
          13,
          9,
          7,
          7,
          8,
          8,
          10,
          10,
          11,
          11,
          12,
          13,
          14,
          16,
          16,
          16,
          16,
          16,
          16,
          16,
          16,
          16,
          16,
          16,
          16,
          16,
          16,
          16
         ],
         "yaxis": "y"
        },
        {
         "hovertemplate": "iteration=3<br>index=%{x}<br>in_service=%{y}<extra></extra>",
         "legendgroup": "3",
         "line": {
          "color": "#ab63fa",
          "dash": "solid"
         },
         "marker": {
          "symbol": "circle"
         },
         "mode": "lines",
         "name": "3",
         "orientation": "v",
         "showlegend": true,
         "type": "scatter",
         "x": [
          "2022-01-01 01:00:00",
          "2022-01-01 02:00:00",
          "2022-01-01 03:00:00",
          "2022-01-01 04:00:00",
          "2022-01-01 05:00:00",
          "2022-01-01 06:00:00",
          "2022-01-01 07:00:00",
          "2022-01-01 08:00:00",
          "2022-01-01 09:00:00",
          "2022-01-01 10:00:00",
          "2022-01-01 11:00:00",
          "2022-01-01 12:00:00",
          "2022-01-01 13:00:00",
          "2022-01-01 14:00:00",
          "2022-01-01 15:00:00",
          "2022-01-01 16:00:00",
          "2022-01-01 17:00:00",
          "2022-01-01 18:00:00",
          "2022-01-01 19:00:00",
          "2022-01-01 20:00:00",
          "2022-01-01 21:00:00",
          "2022-01-01 22:00:00",
          "2022-01-01 23:00:00",
          "2022-01-02 00:00:00",
          "2022-01-02 01:00:00",
          "2022-01-02 02:00:00",
          "2022-01-02 03:00:00",
          "2022-01-02 04:00:00",
          "2022-01-02 05:00:00",
          "2022-01-02 06:00:00",
          "2022-01-02 07:00:00",
          "2022-01-02 08:00:00",
          "2022-01-02 09:00:00",
          "2022-01-02 10:00:00",
          "2022-01-02 11:00:00",
          "2022-01-02 12:00:00",
          "2022-01-02 13:00:00",
          "2022-01-02 14:00:00",
          "2022-01-02 15:00:00",
          "2022-01-02 16:00:00"
         ],
         "xaxis": "x",
         "y": [
          16,
          16,
          16,
          16,
          16,
          16,
          16,
          16,
          16,
          16,
          16,
          14,
          12,
          11,
          12,
          10,
          11,
          11,
          11,
          12,
          13,
          13,
          15,
          16,
          16,
          16,
          16,
          16,
          16,
          16,
          16,
          16,
          16,
          16,
          16,
          16,
          16,
          16,
          16,
          16
         ],
         "yaxis": "y"
        }
       ],
       "layout": {
        "legend": {
         "title": {
          "text": "iteration"
         },
         "tracegroupgap": 0
        },
        "margin": {
         "t": 60
        },
        "template": {
         "data": {
          "bar": [
           {
            "error_x": {
             "color": "#2a3f5f"
            },
            "error_y": {
             "color": "#2a3f5f"
            },
            "marker": {
             "line": {
              "color": "#E5ECF6",
              "width": 0.5
             },
             "pattern": {
              "fillmode": "overlay",
              "size": 10,
              "solidity": 0.2
             }
            },
            "type": "bar"
           }
          ],
          "barpolar": [
           {
            "marker": {
             "line": {
              "color": "#E5ECF6",
              "width": 0.5
             },
             "pattern": {
              "fillmode": "overlay",
              "size": 10,
              "solidity": 0.2
             }
            },
            "type": "barpolar"
           }
          ],
          "carpet": [
           {
            "aaxis": {
             "endlinecolor": "#2a3f5f",
             "gridcolor": "white",
             "linecolor": "white",
             "minorgridcolor": "white",
             "startlinecolor": "#2a3f5f"
            },
            "baxis": {
             "endlinecolor": "#2a3f5f",
             "gridcolor": "white",
             "linecolor": "white",
             "minorgridcolor": "white",
             "startlinecolor": "#2a3f5f"
            },
            "type": "carpet"
           }
          ],
          "choropleth": [
           {
            "colorbar": {
             "outlinewidth": 0,
             "ticks": ""
            },
            "type": "choropleth"
           }
          ],
          "contour": [
           {
            "colorbar": {
             "outlinewidth": 0,
             "ticks": ""
            },
            "colorscale": [
             [
              0,
              "#0d0887"
             ],
             [
              0.1111111111111111,
              "#46039f"
             ],
             [
              0.2222222222222222,
              "#7201a8"
             ],
             [
              0.3333333333333333,
              "#9c179e"
             ],
             [
              0.4444444444444444,
              "#bd3786"
             ],
             [
              0.5555555555555556,
              "#d8576b"
             ],
             [
              0.6666666666666666,
              "#ed7953"
             ],
             [
              0.7777777777777778,
              "#fb9f3a"
             ],
             [
              0.8888888888888888,
              "#fdca26"
             ],
             [
              1,
              "#f0f921"
             ]
            ],
            "type": "contour"
           }
          ],
          "contourcarpet": [
           {
            "colorbar": {
             "outlinewidth": 0,
             "ticks": ""
            },
            "type": "contourcarpet"
           }
          ],
          "heatmap": [
           {
            "colorbar": {
             "outlinewidth": 0,
             "ticks": ""
            },
            "colorscale": [
             [
              0,
              "#0d0887"
             ],
             [
              0.1111111111111111,
              "#46039f"
             ],
             [
              0.2222222222222222,
              "#7201a8"
             ],
             [
              0.3333333333333333,
              "#9c179e"
             ],
             [
              0.4444444444444444,
              "#bd3786"
             ],
             [
              0.5555555555555556,
              "#d8576b"
             ],
             [
              0.6666666666666666,
              "#ed7953"
             ],
             [
              0.7777777777777778,
              "#fb9f3a"
             ],
             [
              0.8888888888888888,
              "#fdca26"
             ],
             [
              1,
              "#f0f921"
             ]
            ],
            "type": "heatmap"
           }
          ],
          "heatmapgl": [
           {
            "colorbar": {
             "outlinewidth": 0,
             "ticks": ""
            },
            "colorscale": [
             [
              0,
              "#0d0887"
             ],
             [
              0.1111111111111111,
              "#46039f"
             ],
             [
              0.2222222222222222,
              "#7201a8"
             ],
             [
              0.3333333333333333,
              "#9c179e"
             ],
             [
              0.4444444444444444,
              "#bd3786"
             ],
             [
              0.5555555555555556,
              "#d8576b"
             ],
             [
              0.6666666666666666,
              "#ed7953"
             ],
             [
              0.7777777777777778,
              "#fb9f3a"
             ],
             [
              0.8888888888888888,
              "#fdca26"
             ],
             [
              1,
              "#f0f921"
             ]
            ],
            "type": "heatmapgl"
           }
          ],
          "histogram": [
           {
            "marker": {
             "pattern": {
              "fillmode": "overlay",
              "size": 10,
              "solidity": 0.2
             }
            },
            "type": "histogram"
           }
          ],
          "histogram2d": [
           {
            "colorbar": {
             "outlinewidth": 0,
             "ticks": ""
            },
            "colorscale": [
             [
              0,
              "#0d0887"
             ],
             [
              0.1111111111111111,
              "#46039f"
             ],
             [
              0.2222222222222222,
              "#7201a8"
             ],
             [
              0.3333333333333333,
              "#9c179e"
             ],
             [
              0.4444444444444444,
              "#bd3786"
             ],
             [
              0.5555555555555556,
              "#d8576b"
             ],
             [
              0.6666666666666666,
              "#ed7953"
             ],
             [
              0.7777777777777778,
              "#fb9f3a"
             ],
             [
              0.8888888888888888,
              "#fdca26"
             ],
             [
              1,
              "#f0f921"
             ]
            ],
            "type": "histogram2d"
           }
          ],
          "histogram2dcontour": [
           {
            "colorbar": {
             "outlinewidth": 0,
             "ticks": ""
            },
            "colorscale": [
             [
              0,
              "#0d0887"
             ],
             [
              0.1111111111111111,
              "#46039f"
             ],
             [
              0.2222222222222222,
              "#7201a8"
             ],
             [
              0.3333333333333333,
              "#9c179e"
             ],
             [
              0.4444444444444444,
              "#bd3786"
             ],
             [
              0.5555555555555556,
              "#d8576b"
             ],
             [
              0.6666666666666666,
              "#ed7953"
             ],
             [
              0.7777777777777778,
              "#fb9f3a"
             ],
             [
              0.8888888888888888,
              "#fdca26"
             ],
             [
              1,
              "#f0f921"
             ]
            ],
            "type": "histogram2dcontour"
           }
          ],
          "mesh3d": [
           {
            "colorbar": {
             "outlinewidth": 0,
             "ticks": ""
            },
            "type": "mesh3d"
           }
          ],
          "parcoords": [
           {
            "line": {
             "colorbar": {
              "outlinewidth": 0,
              "ticks": ""
             }
            },
            "type": "parcoords"
           }
          ],
          "pie": [
           {
            "automargin": true,
            "type": "pie"
           }
          ],
          "scatter": [
           {
            "fillpattern": {
             "fillmode": "overlay",
             "size": 10,
             "solidity": 0.2
            },
            "type": "scatter"
           }
          ],
          "scatter3d": [
           {
            "line": {
             "colorbar": {
              "outlinewidth": 0,
              "ticks": ""
             }
            },
            "marker": {
             "colorbar": {
              "outlinewidth": 0,
              "ticks": ""
             }
            },
            "type": "scatter3d"
           }
          ],
          "scattercarpet": [
           {
            "marker": {
             "colorbar": {
              "outlinewidth": 0,
              "ticks": ""
             }
            },
            "type": "scattercarpet"
           }
          ],
          "scattergeo": [
           {
            "marker": {
             "colorbar": {
              "outlinewidth": 0,
              "ticks": ""
             }
            },
            "type": "scattergeo"
           }
          ],
          "scattergl": [
           {
            "marker": {
             "colorbar": {
              "outlinewidth": 0,
              "ticks": ""
             }
            },
            "type": "scattergl"
           }
          ],
          "scattermapbox": [
           {
            "marker": {
             "colorbar": {
              "outlinewidth": 0,
              "ticks": ""
             }
            },
            "type": "scattermapbox"
           }
          ],
          "scatterpolar": [
           {
            "marker": {
             "colorbar": {
              "outlinewidth": 0,
              "ticks": ""
             }
            },
            "type": "scatterpolar"
           }
          ],
          "scatterpolargl": [
           {
            "marker": {
             "colorbar": {
              "outlinewidth": 0,
              "ticks": ""
             }
            },
            "type": "scatterpolargl"
           }
          ],
          "scatterternary": [
           {
            "marker": {
             "colorbar": {
              "outlinewidth": 0,
              "ticks": ""
             }
            },
            "type": "scatterternary"
           }
          ],
          "surface": [
           {
            "colorbar": {
             "outlinewidth": 0,
             "ticks": ""
            },
            "colorscale": [
             [
              0,
              "#0d0887"
             ],
             [
              0.1111111111111111,
              "#46039f"
             ],
             [
              0.2222222222222222,
              "#7201a8"
             ],
             [
              0.3333333333333333,
              "#9c179e"
             ],
             [
              0.4444444444444444,
              "#bd3786"
             ],
             [
              0.5555555555555556,
              "#d8576b"
             ],
             [
              0.6666666666666666,
              "#ed7953"
             ],
             [
              0.7777777777777778,
              "#fb9f3a"
             ],
             [
              0.8888888888888888,
              "#fdca26"
             ],
             [
              1,
              "#f0f921"
             ]
            ],
            "type": "surface"
           }
          ],
          "table": [
           {
            "cells": {
             "fill": {
              "color": "#EBF0F8"
             },
             "line": {
              "color": "white"
             }
            },
            "header": {
             "fill": {
              "color": "#C8D4E3"
             },
             "line": {
              "color": "white"
             }
            },
            "type": "table"
           }
          ]
         },
         "layout": {
          "annotationdefaults": {
           "arrowcolor": "#2a3f5f",
           "arrowhead": 0,
           "arrowwidth": 1
          },
          "autotypenumbers": "strict",
          "coloraxis": {
           "colorbar": {
            "outlinewidth": 0,
            "ticks": ""
           }
          },
          "colorscale": {
           "diverging": [
            [
             0,
             "#8e0152"
            ],
            [
             0.1,
             "#c51b7d"
            ],
            [
             0.2,
             "#de77ae"
            ],
            [
             0.3,
             "#f1b6da"
            ],
            [
             0.4,
             "#fde0ef"
            ],
            [
             0.5,
             "#f7f7f7"
            ],
            [
             0.6,
             "#e6f5d0"
            ],
            [
             0.7,
             "#b8e186"
            ],
            [
             0.8,
             "#7fbc41"
            ],
            [
             0.9,
             "#4d9221"
            ],
            [
             1,
             "#276419"
            ]
           ],
           "sequential": [
            [
             0,
             "#0d0887"
            ],
            [
             0.1111111111111111,
             "#46039f"
            ],
            [
             0.2222222222222222,
             "#7201a8"
            ],
            [
             0.3333333333333333,
             "#9c179e"
            ],
            [
             0.4444444444444444,
             "#bd3786"
            ],
            [
             0.5555555555555556,
             "#d8576b"
            ],
            [
             0.6666666666666666,
             "#ed7953"
            ],
            [
             0.7777777777777778,
             "#fb9f3a"
            ],
            [
             0.8888888888888888,
             "#fdca26"
            ],
            [
             1,
             "#f0f921"
            ]
           ],
           "sequentialminus": [
            [
             0,
             "#0d0887"
            ],
            [
             0.1111111111111111,
             "#46039f"
            ],
            [
             0.2222222222222222,
             "#7201a8"
            ],
            [
             0.3333333333333333,
             "#9c179e"
            ],
            [
             0.4444444444444444,
             "#bd3786"
            ],
            [
             0.5555555555555556,
             "#d8576b"
            ],
            [
             0.6666666666666666,
             "#ed7953"
            ],
            [
             0.7777777777777778,
             "#fb9f3a"
            ],
            [
             0.8888888888888888,
             "#fdca26"
            ],
            [
             1,
             "#f0f921"
            ]
           ]
          },
          "colorway": [
           "#636efa",
           "#EF553B",
           "#00cc96",
           "#ab63fa",
           "#FFA15A",
           "#19d3f3",
           "#FF6692",
           "#B6E880",
           "#FF97FF",
           "#FECB52"
          ],
          "font": {
           "color": "#2a3f5f"
          },
          "geo": {
           "bgcolor": "white",
           "lakecolor": "white",
           "landcolor": "#E5ECF6",
           "showlakes": true,
           "showland": true,
           "subunitcolor": "white"
          },
          "hoverlabel": {
           "align": "left"
          },
          "hovermode": "closest",
          "mapbox": {
           "style": "light"
          },
          "paper_bgcolor": "white",
          "plot_bgcolor": "#E5ECF6",
          "polar": {
           "angularaxis": {
            "gridcolor": "white",
            "linecolor": "white",
            "ticks": ""
           },
           "bgcolor": "#E5ECF6",
           "radialaxis": {
            "gridcolor": "white",
            "linecolor": "white",
            "ticks": ""
           }
          },
          "scene": {
           "xaxis": {
            "backgroundcolor": "#E5ECF6",
            "gridcolor": "white",
            "gridwidth": 2,
            "linecolor": "white",
            "showbackground": true,
            "ticks": "",
            "zerolinecolor": "white"
           },
           "yaxis": {
            "backgroundcolor": "#E5ECF6",
            "gridcolor": "white",
            "gridwidth": 2,
            "linecolor": "white",
            "showbackground": true,
            "ticks": "",
            "zerolinecolor": "white"
           },
           "zaxis": {
            "backgroundcolor": "#E5ECF6",
            "gridcolor": "white",
            "gridwidth": 2,
            "linecolor": "white",
            "showbackground": true,
            "ticks": "",
            "zerolinecolor": "white"
           }
          },
          "shapedefaults": {
           "line": {
            "color": "#2a3f5f"
           }
          },
          "ternary": {
           "aaxis": {
            "gridcolor": "white",
            "linecolor": "white",
            "ticks": ""
           },
           "baxis": {
            "gridcolor": "white",
            "linecolor": "white",
            "ticks": ""
           },
           "bgcolor": "#E5ECF6",
           "caxis": {
            "gridcolor": "white",
            "linecolor": "white",
            "ticks": ""
           }
          },
          "title": {
           "x": 0.05
          },
          "xaxis": {
           "automargin": true,
           "gridcolor": "white",
           "linecolor": "white",
           "ticks": "",
           "title": {
            "standoff": 15
           },
           "zerolinecolor": "white",
           "zerolinewidth": 2
          },
          "yaxis": {
           "automargin": true,
           "gridcolor": "white",
           "linecolor": "white",
           "ticks": "",
           "title": {
            "standoff": 15
           },
           "zerolinecolor": "white",
           "zerolinewidth": 2
          }
         }
        },
        "xaxis": {
         "anchor": "y",
         "domain": [
          0,
          1
         ],
         "title": {
          "text": "index"
         }
        },
        "yaxis": {
         "anchor": "x",
         "domain": [
          0,
          1
         ],
         "title": {
          "text": "in_service"
         }
        }
       }
      },
      "text/html": [
       "<div>                            <div id=\"eadc1995-e66c-418b-9a36-922df67b03a0\" class=\"plotly-graph-div\" style=\"height:525px; width:100%;\"></div>            <script type=\"text/javascript\">                require([\"plotly\"], function(Plotly) {                    window.PLOTLYENV=window.PLOTLYENV || {};                                    if (document.getElementById(\"eadc1995-e66c-418b-9a36-922df67b03a0\")) {                    Plotly.newPlot(                        \"eadc1995-e66c-418b-9a36-922df67b03a0\",                        [{\"hovertemplate\":\"iteration=0<br>index=%{x}<br>in_service=%{y}<extra></extra>\",\"legendgroup\":\"0\",\"line\":{\"color\":\"#636efa\",\"dash\":\"solid\"},\"marker\":{\"symbol\":\"circle\"},\"mode\":\"lines\",\"name\":\"0\",\"orientation\":\"v\",\"showlegend\":true,\"x\":[\"2022-01-01 01:00:00\",\"2022-01-01 02:00:00\",\"2022-01-01 03:00:00\",\"2022-01-01 04:00:00\",\"2022-01-01 05:00:00\",\"2022-01-01 06:00:00\",\"2022-01-01 07:00:00\",\"2022-01-01 08:00:00\",\"2022-01-01 09:00:00\",\"2022-01-01 10:00:00\",\"2022-01-01 11:00:00\",\"2022-01-01 12:00:00\",\"2022-01-01 13:00:00\",\"2022-01-01 14:00:00\",\"2022-01-01 15:00:00\",\"2022-01-01 16:00:00\",\"2022-01-01 17:00:00\",\"2022-01-01 18:00:00\",\"2022-01-01 19:00:00\",\"2022-01-01 20:00:00\",\"2022-01-01 21:00:00\",\"2022-01-01 22:00:00\",\"2022-01-01 23:00:00\",\"2022-01-02 00:00:00\",\"2022-01-02 01:00:00\",\"2022-01-02 02:00:00\",\"2022-01-02 03:00:00\",\"2022-01-02 04:00:00\",\"2022-01-02 05:00:00\",\"2022-01-02 06:00:00\",\"2022-01-02 07:00:00\",\"2022-01-02 08:00:00\",\"2022-01-02 09:00:00\",\"2022-01-02 10:00:00\",\"2022-01-02 11:00:00\",\"2022-01-02 12:00:00\",\"2022-01-02 13:00:00\",\"2022-01-02 14:00:00\",\"2022-01-02 15:00:00\",\"2022-01-02 16:00:00\"],\"xaxis\":\"x\",\"y\":[16.0,16.0,16.0,16.0,16.0,16.0,16.0,16.0,16.0,16.0,16.0,13.0,11.0,9.0,8.0,8.0,9.0,10.0,10.0,11.0,11.0,13.0,13.0,14.0,15.0,16.0,16.0,16.0,16.0,16.0,16.0,16.0,16.0,16.0,16.0,16.0,16.0,16.0,16.0,16.0],\"yaxis\":\"y\",\"type\":\"scatter\"},{\"hovertemplate\":\"iteration=1<br>index=%{x}<br>in_service=%{y}<extra></extra>\",\"legendgroup\":\"1\",\"line\":{\"color\":\"#EF553B\",\"dash\":\"solid\"},\"marker\":{\"symbol\":\"circle\"},\"mode\":\"lines\",\"name\":\"1\",\"orientation\":\"v\",\"showlegend\":true,\"x\":[\"2022-01-01 01:00:00\",\"2022-01-01 02:00:00\",\"2022-01-01 03:00:00\",\"2022-01-01 04:00:00\",\"2022-01-01 05:00:00\",\"2022-01-01 06:00:00\",\"2022-01-01 07:00:00\",\"2022-01-01 08:00:00\",\"2022-01-01 09:00:00\",\"2022-01-01 10:00:00\",\"2022-01-01 11:00:00\",\"2022-01-01 12:00:00\",\"2022-01-01 13:00:00\",\"2022-01-01 14:00:00\",\"2022-01-01 15:00:00\",\"2022-01-01 16:00:00\",\"2022-01-01 17:00:00\",\"2022-01-01 18:00:00\",\"2022-01-01 19:00:00\",\"2022-01-01 20:00:00\",\"2022-01-01 21:00:00\",\"2022-01-01 22:00:00\",\"2022-01-01 23:00:00\",\"2022-01-02 00:00:00\",\"2022-01-02 01:00:00\",\"2022-01-02 02:00:00\",\"2022-01-02 03:00:00\",\"2022-01-02 04:00:00\",\"2022-01-02 05:00:00\",\"2022-01-02 06:00:00\",\"2022-01-02 07:00:00\",\"2022-01-02 08:00:00\",\"2022-01-02 09:00:00\",\"2022-01-02 10:00:00\",\"2022-01-02 11:00:00\",\"2022-01-02 12:00:00\",\"2022-01-02 13:00:00\",\"2022-01-02 14:00:00\",\"2022-01-02 15:00:00\",\"2022-01-02 16:00:00\"],\"xaxis\":\"x\",\"y\":[16.0,16.0,16.0,16.0,16.0,16.0,16.0,16.0,16.0,16.0,16.0,15.0,12.0,9.0,6.0,5.0,6.0,7.0,8.0,8.0,9.0,11.0,11.0,12.0,12.0,14.0,15.0,16.0,16.0,16.0,16.0,16.0,16.0,16.0,16.0,16.0,16.0,16.0,16.0,16.0],\"yaxis\":\"y\",\"type\":\"scatter\"},{\"hovertemplate\":\"iteration=2<br>index=%{x}<br>in_service=%{y}<extra></extra>\",\"legendgroup\":\"2\",\"line\":{\"color\":\"#00cc96\",\"dash\":\"solid\"},\"marker\":{\"symbol\":\"circle\"},\"mode\":\"lines\",\"name\":\"2\",\"orientation\":\"v\",\"showlegend\":true,\"x\":[\"2022-01-01 01:00:00\",\"2022-01-01 02:00:00\",\"2022-01-01 03:00:00\",\"2022-01-01 04:00:00\",\"2022-01-01 05:00:00\",\"2022-01-01 06:00:00\",\"2022-01-01 07:00:00\",\"2022-01-01 08:00:00\",\"2022-01-01 09:00:00\",\"2022-01-01 10:00:00\",\"2022-01-01 11:00:00\",\"2022-01-01 12:00:00\",\"2022-01-01 13:00:00\",\"2022-01-01 14:00:00\",\"2022-01-01 15:00:00\",\"2022-01-01 16:00:00\",\"2022-01-01 17:00:00\",\"2022-01-01 18:00:00\",\"2022-01-01 19:00:00\",\"2022-01-01 20:00:00\",\"2022-01-01 21:00:00\",\"2022-01-01 22:00:00\",\"2022-01-01 23:00:00\",\"2022-01-02 00:00:00\",\"2022-01-02 01:00:00\",\"2022-01-02 02:00:00\",\"2022-01-02 03:00:00\",\"2022-01-02 04:00:00\",\"2022-01-02 05:00:00\",\"2022-01-02 06:00:00\",\"2022-01-02 07:00:00\",\"2022-01-02 08:00:00\",\"2022-01-02 09:00:00\",\"2022-01-02 10:00:00\",\"2022-01-02 11:00:00\",\"2022-01-02 12:00:00\",\"2022-01-02 13:00:00\",\"2022-01-02 14:00:00\",\"2022-01-02 15:00:00\",\"2022-01-02 16:00:00\"],\"xaxis\":\"x\",\"y\":[16.0,16.0,16.0,16.0,16.0,16.0,16.0,16.0,16.0,16.0,16.0,15.0,13.0,9.0,7.0,7.0,8.0,8.0,10.0,10.0,11.0,11.0,12.0,13.0,14.0,16.0,16.0,16.0,16.0,16.0,16.0,16.0,16.0,16.0,16.0,16.0,16.0,16.0,16.0,16.0],\"yaxis\":\"y\",\"type\":\"scatter\"},{\"hovertemplate\":\"iteration=3<br>index=%{x}<br>in_service=%{y}<extra></extra>\",\"legendgroup\":\"3\",\"line\":{\"color\":\"#ab63fa\",\"dash\":\"solid\"},\"marker\":{\"symbol\":\"circle\"},\"mode\":\"lines\",\"name\":\"3\",\"orientation\":\"v\",\"showlegend\":true,\"x\":[\"2022-01-01 01:00:00\",\"2022-01-01 02:00:00\",\"2022-01-01 03:00:00\",\"2022-01-01 04:00:00\",\"2022-01-01 05:00:00\",\"2022-01-01 06:00:00\",\"2022-01-01 07:00:00\",\"2022-01-01 08:00:00\",\"2022-01-01 09:00:00\",\"2022-01-01 10:00:00\",\"2022-01-01 11:00:00\",\"2022-01-01 12:00:00\",\"2022-01-01 13:00:00\",\"2022-01-01 14:00:00\",\"2022-01-01 15:00:00\",\"2022-01-01 16:00:00\",\"2022-01-01 17:00:00\",\"2022-01-01 18:00:00\",\"2022-01-01 19:00:00\",\"2022-01-01 20:00:00\",\"2022-01-01 21:00:00\",\"2022-01-01 22:00:00\",\"2022-01-01 23:00:00\",\"2022-01-02 00:00:00\",\"2022-01-02 01:00:00\",\"2022-01-02 02:00:00\",\"2022-01-02 03:00:00\",\"2022-01-02 04:00:00\",\"2022-01-02 05:00:00\",\"2022-01-02 06:00:00\",\"2022-01-02 07:00:00\",\"2022-01-02 08:00:00\",\"2022-01-02 09:00:00\",\"2022-01-02 10:00:00\",\"2022-01-02 11:00:00\",\"2022-01-02 12:00:00\",\"2022-01-02 13:00:00\",\"2022-01-02 14:00:00\",\"2022-01-02 15:00:00\",\"2022-01-02 16:00:00\"],\"xaxis\":\"x\",\"y\":[16.0,16.0,16.0,16.0,16.0,16.0,16.0,16.0,16.0,16.0,16.0,14.0,12.0,11.0,12.0,10.0,11.0,11.0,11.0,12.0,13.0,13.0,15.0,16.0,16.0,16.0,16.0,16.0,16.0,16.0,16.0,16.0,16.0,16.0,16.0,16.0,16.0,16.0,16.0,16.0],\"yaxis\":\"y\",\"type\":\"scatter\"}],                        {\"template\":{\"data\":{\"histogram2dcontour\":[{\"type\":\"histogram2dcontour\",\"colorbar\":{\"outlinewidth\":0,\"ticks\":\"\"},\"colorscale\":[[0.0,\"#0d0887\"],[0.1111111111111111,\"#46039f\"],[0.2222222222222222,\"#7201a8\"],[0.3333333333333333,\"#9c179e\"],[0.4444444444444444,\"#bd3786\"],[0.5555555555555556,\"#d8576b\"],[0.6666666666666666,\"#ed7953\"],[0.7777777777777778,\"#fb9f3a\"],[0.8888888888888888,\"#fdca26\"],[1.0,\"#f0f921\"]]}],\"choropleth\":[{\"type\":\"choropleth\",\"colorbar\":{\"outlinewidth\":0,\"ticks\":\"\"}}],\"histogram2d\":[{\"type\":\"histogram2d\",\"colorbar\":{\"outlinewidth\":0,\"ticks\":\"\"},\"colorscale\":[[0.0,\"#0d0887\"],[0.1111111111111111,\"#46039f\"],[0.2222222222222222,\"#7201a8\"],[0.3333333333333333,\"#9c179e\"],[0.4444444444444444,\"#bd3786\"],[0.5555555555555556,\"#d8576b\"],[0.6666666666666666,\"#ed7953\"],[0.7777777777777778,\"#fb9f3a\"],[0.8888888888888888,\"#fdca26\"],[1.0,\"#f0f921\"]]}],\"heatmap\":[{\"type\":\"heatmap\",\"colorbar\":{\"outlinewidth\":0,\"ticks\":\"\"},\"colorscale\":[[0.0,\"#0d0887\"],[0.1111111111111111,\"#46039f\"],[0.2222222222222222,\"#7201a8\"],[0.3333333333333333,\"#9c179e\"],[0.4444444444444444,\"#bd3786\"],[0.5555555555555556,\"#d8576b\"],[0.6666666666666666,\"#ed7953\"],[0.7777777777777778,\"#fb9f3a\"],[0.8888888888888888,\"#fdca26\"],[1.0,\"#f0f921\"]]}],\"heatmapgl\":[{\"type\":\"heatmapgl\",\"colorbar\":{\"outlinewidth\":0,\"ticks\":\"\"},\"colorscale\":[[0.0,\"#0d0887\"],[0.1111111111111111,\"#46039f\"],[0.2222222222222222,\"#7201a8\"],[0.3333333333333333,\"#9c179e\"],[0.4444444444444444,\"#bd3786\"],[0.5555555555555556,\"#d8576b\"],[0.6666666666666666,\"#ed7953\"],[0.7777777777777778,\"#fb9f3a\"],[0.8888888888888888,\"#fdca26\"],[1.0,\"#f0f921\"]]}],\"contourcarpet\":[{\"type\":\"contourcarpet\",\"colorbar\":{\"outlinewidth\":0,\"ticks\":\"\"}}],\"contour\":[{\"type\":\"contour\",\"colorbar\":{\"outlinewidth\":0,\"ticks\":\"\"},\"colorscale\":[[0.0,\"#0d0887\"],[0.1111111111111111,\"#46039f\"],[0.2222222222222222,\"#7201a8\"],[0.3333333333333333,\"#9c179e\"],[0.4444444444444444,\"#bd3786\"],[0.5555555555555556,\"#d8576b\"],[0.6666666666666666,\"#ed7953\"],[0.7777777777777778,\"#fb9f3a\"],[0.8888888888888888,\"#fdca26\"],[1.0,\"#f0f921\"]]}],\"surface\":[{\"type\":\"surface\",\"colorbar\":{\"outlinewidth\":0,\"ticks\":\"\"},\"colorscale\":[[0.0,\"#0d0887\"],[0.1111111111111111,\"#46039f\"],[0.2222222222222222,\"#7201a8\"],[0.3333333333333333,\"#9c179e\"],[0.4444444444444444,\"#bd3786\"],[0.5555555555555556,\"#d8576b\"],[0.6666666666666666,\"#ed7953\"],[0.7777777777777778,\"#fb9f3a\"],[0.8888888888888888,\"#fdca26\"],[1.0,\"#f0f921\"]]}],\"mesh3d\":[{\"type\":\"mesh3d\",\"colorbar\":{\"outlinewidth\":0,\"ticks\":\"\"}}],\"scatter\":[{\"fillpattern\":{\"fillmode\":\"overlay\",\"size\":10,\"solidity\":0.2},\"type\":\"scatter\"}],\"parcoords\":[{\"type\":\"parcoords\",\"line\":{\"colorbar\":{\"outlinewidth\":0,\"ticks\":\"\"}}}],\"scatterpolargl\":[{\"type\":\"scatterpolargl\",\"marker\":{\"colorbar\":{\"outlinewidth\":0,\"ticks\":\"\"}}}],\"bar\":[{\"error_x\":{\"color\":\"#2a3f5f\"},\"error_y\":{\"color\":\"#2a3f5f\"},\"marker\":{\"line\":{\"color\":\"#E5ECF6\",\"width\":0.5},\"pattern\":{\"fillmode\":\"overlay\",\"size\":10,\"solidity\":0.2}},\"type\":\"bar\"}],\"scattergeo\":[{\"type\":\"scattergeo\",\"marker\":{\"colorbar\":{\"outlinewidth\":0,\"ticks\":\"\"}}}],\"scatterpolar\":[{\"type\":\"scatterpolar\",\"marker\":{\"colorbar\":{\"outlinewidth\":0,\"ticks\":\"\"}}}],\"histogram\":[{\"marker\":{\"pattern\":{\"fillmode\":\"overlay\",\"size\":10,\"solidity\":0.2}},\"type\":\"histogram\"}],\"scattergl\":[{\"type\":\"scattergl\",\"marker\":{\"colorbar\":{\"outlinewidth\":0,\"ticks\":\"\"}}}],\"scatter3d\":[{\"type\":\"scatter3d\",\"line\":{\"colorbar\":{\"outlinewidth\":0,\"ticks\":\"\"}},\"marker\":{\"colorbar\":{\"outlinewidth\":0,\"ticks\":\"\"}}}],\"scattermapbox\":[{\"type\":\"scattermapbox\",\"marker\":{\"colorbar\":{\"outlinewidth\":0,\"ticks\":\"\"}}}],\"scatterternary\":[{\"type\":\"scatterternary\",\"marker\":{\"colorbar\":{\"outlinewidth\":0,\"ticks\":\"\"}}}],\"scattercarpet\":[{\"type\":\"scattercarpet\",\"marker\":{\"colorbar\":{\"outlinewidth\":0,\"ticks\":\"\"}}}],\"carpet\":[{\"aaxis\":{\"endlinecolor\":\"#2a3f5f\",\"gridcolor\":\"white\",\"linecolor\":\"white\",\"minorgridcolor\":\"white\",\"startlinecolor\":\"#2a3f5f\"},\"baxis\":{\"endlinecolor\":\"#2a3f5f\",\"gridcolor\":\"white\",\"linecolor\":\"white\",\"minorgridcolor\":\"white\",\"startlinecolor\":\"#2a3f5f\"},\"type\":\"carpet\"}],\"table\":[{\"cells\":{\"fill\":{\"color\":\"#EBF0F8\"},\"line\":{\"color\":\"white\"}},\"header\":{\"fill\":{\"color\":\"#C8D4E3\"},\"line\":{\"color\":\"white\"}},\"type\":\"table\"}],\"barpolar\":[{\"marker\":{\"line\":{\"color\":\"#E5ECF6\",\"width\":0.5},\"pattern\":{\"fillmode\":\"overlay\",\"size\":10,\"solidity\":0.2}},\"type\":\"barpolar\"}],\"pie\":[{\"automargin\":true,\"type\":\"pie\"}]},\"layout\":{\"autotypenumbers\":\"strict\",\"colorway\":[\"#636efa\",\"#EF553B\",\"#00cc96\",\"#ab63fa\",\"#FFA15A\",\"#19d3f3\",\"#FF6692\",\"#B6E880\",\"#FF97FF\",\"#FECB52\"],\"font\":{\"color\":\"#2a3f5f\"},\"hovermode\":\"closest\",\"hoverlabel\":{\"align\":\"left\"},\"paper_bgcolor\":\"white\",\"plot_bgcolor\":\"#E5ECF6\",\"polar\":{\"bgcolor\":\"#E5ECF6\",\"angularaxis\":{\"gridcolor\":\"white\",\"linecolor\":\"white\",\"ticks\":\"\"},\"radialaxis\":{\"gridcolor\":\"white\",\"linecolor\":\"white\",\"ticks\":\"\"}},\"ternary\":{\"bgcolor\":\"#E5ECF6\",\"aaxis\":{\"gridcolor\":\"white\",\"linecolor\":\"white\",\"ticks\":\"\"},\"baxis\":{\"gridcolor\":\"white\",\"linecolor\":\"white\",\"ticks\":\"\"},\"caxis\":{\"gridcolor\":\"white\",\"linecolor\":\"white\",\"ticks\":\"\"}},\"coloraxis\":{\"colorbar\":{\"outlinewidth\":0,\"ticks\":\"\"}},\"colorscale\":{\"sequential\":[[0.0,\"#0d0887\"],[0.1111111111111111,\"#46039f\"],[0.2222222222222222,\"#7201a8\"],[0.3333333333333333,\"#9c179e\"],[0.4444444444444444,\"#bd3786\"],[0.5555555555555556,\"#d8576b\"],[0.6666666666666666,\"#ed7953\"],[0.7777777777777778,\"#fb9f3a\"],[0.8888888888888888,\"#fdca26\"],[1.0,\"#f0f921\"]],\"sequentialminus\":[[0.0,\"#0d0887\"],[0.1111111111111111,\"#46039f\"],[0.2222222222222222,\"#7201a8\"],[0.3333333333333333,\"#9c179e\"],[0.4444444444444444,\"#bd3786\"],[0.5555555555555556,\"#d8576b\"],[0.6666666666666666,\"#ed7953\"],[0.7777777777777778,\"#fb9f3a\"],[0.8888888888888888,\"#fdca26\"],[1.0,\"#f0f921\"]],\"diverging\":[[0,\"#8e0152\"],[0.1,\"#c51b7d\"],[0.2,\"#de77ae\"],[0.3,\"#f1b6da\"],[0.4,\"#fde0ef\"],[0.5,\"#f7f7f7\"],[0.6,\"#e6f5d0\"],[0.7,\"#b8e186\"],[0.8,\"#7fbc41\"],[0.9,\"#4d9221\"],[1,\"#276419\"]]},\"xaxis\":{\"gridcolor\":\"white\",\"linecolor\":\"white\",\"ticks\":\"\",\"title\":{\"standoff\":15},\"zerolinecolor\":\"white\",\"automargin\":true,\"zerolinewidth\":2},\"yaxis\":{\"gridcolor\":\"white\",\"linecolor\":\"white\",\"ticks\":\"\",\"title\":{\"standoff\":15},\"zerolinecolor\":\"white\",\"automargin\":true,\"zerolinewidth\":2},\"scene\":{\"xaxis\":{\"backgroundcolor\":\"#E5ECF6\",\"gridcolor\":\"white\",\"linecolor\":\"white\",\"showbackground\":true,\"ticks\":\"\",\"zerolinecolor\":\"white\",\"gridwidth\":2},\"yaxis\":{\"backgroundcolor\":\"#E5ECF6\",\"gridcolor\":\"white\",\"linecolor\":\"white\",\"showbackground\":true,\"ticks\":\"\",\"zerolinecolor\":\"white\",\"gridwidth\":2},\"zaxis\":{\"backgroundcolor\":\"#E5ECF6\",\"gridcolor\":\"white\",\"linecolor\":\"white\",\"showbackground\":true,\"ticks\":\"\",\"zerolinecolor\":\"white\",\"gridwidth\":2}},\"shapedefaults\":{\"line\":{\"color\":\"#2a3f5f\"}},\"annotationdefaults\":{\"arrowcolor\":\"#2a3f5f\",\"arrowhead\":0,\"arrowwidth\":1},\"geo\":{\"bgcolor\":\"white\",\"landcolor\":\"#E5ECF6\",\"subunitcolor\":\"white\",\"showland\":true,\"showlakes\":true,\"lakecolor\":\"white\"},\"title\":{\"x\":0.05},\"mapbox\":{\"style\":\"light\"}}},\"xaxis\":{\"anchor\":\"y\",\"domain\":[0.0,1.0],\"title\":{\"text\":\"index\"}},\"yaxis\":{\"anchor\":\"x\",\"domain\":[0.0,1.0],\"title\":{\"text\":\"in_service\"}},\"legend\":{\"title\":{\"text\":\"iteration\"},\"tracegroupgap\":0},\"margin\":{\"t\":60}},                        {\"responsive\": true}                    ).then(function(){\n",
       "                            \n",
       "var gd = document.getElementById('eadc1995-e66c-418b-9a36-922df67b03a0');\n",
       "var x = new MutationObserver(function (mutations, observer) {{\n",
       "        var display = window.getComputedStyle(gd).display;\n",
       "        if (!display || display === 'none') {{\n",
       "            console.log([gd, 'removed!']);\n",
       "            Plotly.purge(gd);\n",
       "            observer.disconnect();\n",
       "        }}\n",
       "}});\n",
       "\n",
       "// Listen for the removal of the full notebook cells\n",
       "var notebookContainer = gd.closest('#notebook-container');\n",
       "if (notebookContainer) {{\n",
       "    x.observe(notebookContainer, {childList: true});\n",
       "}}\n",
       "\n",
       "// Listen for the clearing of the current output cell\n",
       "var outputEl = gd.closest('.output');\n",
       "if (outputEl) {{\n",
       "    x.observe(outputEl, {childList: true});\n",
       "}}\n",
       "\n",
       "                        })                };                });            </script>        </div>"
      ]
     },
     "metadata": {},
     "output_type": "display_data"
    }
   ],
   "source": [
    "px.line(df_line, x=df_line.index, y = 'in_service', color = 'iteration')"
   ]
  },
  {
   "cell_type": "code",
   "execution_count": 29,
   "id": "annual-sustainability",
   "metadata": {},
   "outputs": [
    {
     "data": {
      "application/vnd.plotly.v1+json": {
       "config": {
        "plotlyServerURL": "https://plot.ly"
       },
       "data": [
        {
         "hovertemplate": "quantile=0.05<br>index=%{x}<br>in_service=%{y}<extra></extra>",
         "legendgroup": "0.05",
         "line": {
          "color": "#636efa",
          "dash": "solid"
         },
         "marker": {
          "symbol": "circle"
         },
         "mode": "lines",
         "name": "0.05",
         "orientation": "v",
         "showlegend": true,
         "type": "scatter",
         "x": [
          "2022-01-01 01:00:00",
          "2022-01-01 02:00:00",
          "2022-01-01 03:00:00",
          "2022-01-01 04:00:00",
          "2022-01-01 05:00:00",
          "2022-01-01 06:00:00",
          "2022-01-01 07:00:00",
          "2022-01-01 08:00:00",
          "2022-01-01 09:00:00",
          "2022-01-01 10:00:00",
          "2022-01-01 11:00:00",
          "2022-01-01 12:00:00",
          "2022-01-01 13:00:00",
          "2022-01-01 14:00:00",
          "2022-01-01 15:00:00",
          "2022-01-01 16:00:00",
          "2022-01-01 17:00:00",
          "2022-01-01 18:00:00",
          "2022-01-01 19:00:00",
          "2022-01-01 20:00:00",
          "2022-01-01 21:00:00",
          "2022-01-01 22:00:00",
          "2022-01-01 23:00:00",
          "2022-01-02 00:00:00",
          "2022-01-02 01:00:00",
          "2022-01-02 02:00:00",
          "2022-01-02 03:00:00",
          "2022-01-02 04:00:00",
          "2022-01-02 05:00:00",
          "2022-01-02 06:00:00",
          "2022-01-02 07:00:00",
          "2022-01-02 08:00:00",
          "2022-01-02 09:00:00",
          "2022-01-02 10:00:00",
          "2022-01-02 11:00:00",
          "2022-01-02 12:00:00",
          "2022-01-02 13:00:00",
          "2022-01-02 14:00:00",
          "2022-01-02 15:00:00",
          "2022-01-02 16:00:00"
         ],
         "xaxis": "x",
         "y": [
          16,
          16,
          16,
          16,
          16,
          16,
          16,
          16,
          16,
          16,
          16,
          13.15,
          11.15,
          9,
          6.15,
          5.3,
          6.3,
          7.15,
          8.3,
          8.3,
          9.3,
          11,
          11.15,
          12.15,
          12.3,
          14.3,
          15.15,
          16,
          16,
          16,
          16,
          16,
          16,
          16,
          16,
          16,
          16,
          16,
          16,
          16
         ],
         "yaxis": "y"
        },
        {
         "hovertemplate": "quantile=0.5<br>index=%{x}<br>in_service=%{y}<extra></extra>",
         "legendgroup": "0.5",
         "line": {
          "color": "#EF553B",
          "dash": "solid"
         },
         "marker": {
          "symbol": "circle"
         },
         "mode": "lines",
         "name": "0.5",
         "orientation": "v",
         "showlegend": true,
         "type": "scatter",
         "x": [
          "2022-01-01 01:00:00",
          "2022-01-01 02:00:00",
          "2022-01-01 03:00:00",
          "2022-01-01 04:00:00",
          "2022-01-01 05:00:00",
          "2022-01-01 06:00:00",
          "2022-01-01 07:00:00",
          "2022-01-01 08:00:00",
          "2022-01-01 09:00:00",
          "2022-01-01 10:00:00",
          "2022-01-01 11:00:00",
          "2022-01-01 12:00:00",
          "2022-01-01 13:00:00",
          "2022-01-01 14:00:00",
          "2022-01-01 15:00:00",
          "2022-01-01 16:00:00",
          "2022-01-01 17:00:00",
          "2022-01-01 18:00:00",
          "2022-01-01 19:00:00",
          "2022-01-01 20:00:00",
          "2022-01-01 21:00:00",
          "2022-01-01 22:00:00",
          "2022-01-01 23:00:00",
          "2022-01-02 00:00:00",
          "2022-01-02 01:00:00",
          "2022-01-02 02:00:00",
          "2022-01-02 03:00:00",
          "2022-01-02 04:00:00",
          "2022-01-02 05:00:00",
          "2022-01-02 06:00:00",
          "2022-01-02 07:00:00",
          "2022-01-02 08:00:00",
          "2022-01-02 09:00:00",
          "2022-01-02 10:00:00",
          "2022-01-02 11:00:00",
          "2022-01-02 12:00:00",
          "2022-01-02 13:00:00",
          "2022-01-02 14:00:00",
          "2022-01-02 15:00:00",
          "2022-01-02 16:00:00"
         ],
         "xaxis": "x",
         "y": [
          16,
          16,
          16,
          16,
          16,
          16,
          16,
          16,
          16,
          16,
          16,
          14.5,
          12,
          9,
          7.5,
          7.5,
          8.5,
          9,
          10,
          10.5,
          11,
          12,
          12.5,
          13.5,
          14.5,
          16,
          16,
          16,
          16,
          16,
          16,
          16,
          16,
          16,
          16,
          16,
          16,
          16,
          16,
          16
         ],
         "yaxis": "y"
        },
        {
         "hovertemplate": "quantile=0.95<br>index=%{x}<br>in_service=%{y}<extra></extra>",
         "legendgroup": "0.95",
         "line": {
          "color": "#00cc96",
          "dash": "solid"
         },
         "marker": {
          "symbol": "circle"
         },
         "mode": "lines",
         "name": "0.95",
         "orientation": "v",
         "showlegend": true,
         "type": "scatter",
         "x": [
          "2022-01-01 01:00:00",
          "2022-01-01 02:00:00",
          "2022-01-01 03:00:00",
          "2022-01-01 04:00:00",
          "2022-01-01 05:00:00",
          "2022-01-01 06:00:00",
          "2022-01-01 07:00:00",
          "2022-01-01 08:00:00",
          "2022-01-01 09:00:00",
          "2022-01-01 10:00:00",
          "2022-01-01 11:00:00",
          "2022-01-01 12:00:00",
          "2022-01-01 13:00:00",
          "2022-01-01 14:00:00",
          "2022-01-01 15:00:00",
          "2022-01-01 16:00:00",
          "2022-01-01 17:00:00",
          "2022-01-01 18:00:00",
          "2022-01-01 19:00:00",
          "2022-01-01 20:00:00",
          "2022-01-01 21:00:00",
          "2022-01-01 22:00:00",
          "2022-01-01 23:00:00",
          "2022-01-02 00:00:00",
          "2022-01-02 01:00:00",
          "2022-01-02 02:00:00",
          "2022-01-02 03:00:00",
          "2022-01-02 04:00:00",
          "2022-01-02 05:00:00",
          "2022-01-02 06:00:00",
          "2022-01-02 07:00:00",
          "2022-01-02 08:00:00",
          "2022-01-02 09:00:00",
          "2022-01-02 10:00:00",
          "2022-01-02 11:00:00",
          "2022-01-02 12:00:00",
          "2022-01-02 13:00:00",
          "2022-01-02 14:00:00",
          "2022-01-02 15:00:00",
          "2022-01-02 16:00:00"
         ],
         "xaxis": "x",
         "y": [
          16,
          16,
          16,
          16,
          16,
          16,
          16,
          16,
          16,
          16,
          16,
          15,
          12.85,
          10.7,
          11.399999999999999,
          9.7,
          10.7,
          10.85,
          10.85,
          11.85,
          12.7,
          13,
          14.7,
          15.7,
          15.85,
          16,
          16,
          16,
          16,
          16,
          16,
          16,
          16,
          16,
          16,
          16,
          16,
          16,
          16,
          16
         ],
         "yaxis": "y"
        }
       ],
       "layout": {
        "legend": {
         "title": {
          "text": "quantile"
         },
         "tracegroupgap": 0
        },
        "margin": {
         "t": 60
        },
        "template": {
         "data": {
          "bar": [
           {
            "error_x": {
             "color": "#2a3f5f"
            },
            "error_y": {
             "color": "#2a3f5f"
            },
            "marker": {
             "line": {
              "color": "#E5ECF6",
              "width": 0.5
             },
             "pattern": {
              "fillmode": "overlay",
              "size": 10,
              "solidity": 0.2
             }
            },
            "type": "bar"
           }
          ],
          "barpolar": [
           {
            "marker": {
             "line": {
              "color": "#E5ECF6",
              "width": 0.5
             },
             "pattern": {
              "fillmode": "overlay",
              "size": 10,
              "solidity": 0.2
             }
            },
            "type": "barpolar"
           }
          ],
          "carpet": [
           {
            "aaxis": {
             "endlinecolor": "#2a3f5f",
             "gridcolor": "white",
             "linecolor": "white",
             "minorgridcolor": "white",
             "startlinecolor": "#2a3f5f"
            },
            "baxis": {
             "endlinecolor": "#2a3f5f",
             "gridcolor": "white",
             "linecolor": "white",
             "minorgridcolor": "white",
             "startlinecolor": "#2a3f5f"
            },
            "type": "carpet"
           }
          ],
          "choropleth": [
           {
            "colorbar": {
             "outlinewidth": 0,
             "ticks": ""
            },
            "type": "choropleth"
           }
          ],
          "contour": [
           {
            "colorbar": {
             "outlinewidth": 0,
             "ticks": ""
            },
            "colorscale": [
             [
              0,
              "#0d0887"
             ],
             [
              0.1111111111111111,
              "#46039f"
             ],
             [
              0.2222222222222222,
              "#7201a8"
             ],
             [
              0.3333333333333333,
              "#9c179e"
             ],
             [
              0.4444444444444444,
              "#bd3786"
             ],
             [
              0.5555555555555556,
              "#d8576b"
             ],
             [
              0.6666666666666666,
              "#ed7953"
             ],
             [
              0.7777777777777778,
              "#fb9f3a"
             ],
             [
              0.8888888888888888,
              "#fdca26"
             ],
             [
              1,
              "#f0f921"
             ]
            ],
            "type": "contour"
           }
          ],
          "contourcarpet": [
           {
            "colorbar": {
             "outlinewidth": 0,
             "ticks": ""
            },
            "type": "contourcarpet"
           }
          ],
          "heatmap": [
           {
            "colorbar": {
             "outlinewidth": 0,
             "ticks": ""
            },
            "colorscale": [
             [
              0,
              "#0d0887"
             ],
             [
              0.1111111111111111,
              "#46039f"
             ],
             [
              0.2222222222222222,
              "#7201a8"
             ],
             [
              0.3333333333333333,
              "#9c179e"
             ],
             [
              0.4444444444444444,
              "#bd3786"
             ],
             [
              0.5555555555555556,
              "#d8576b"
             ],
             [
              0.6666666666666666,
              "#ed7953"
             ],
             [
              0.7777777777777778,
              "#fb9f3a"
             ],
             [
              0.8888888888888888,
              "#fdca26"
             ],
             [
              1,
              "#f0f921"
             ]
            ],
            "type": "heatmap"
           }
          ],
          "heatmapgl": [
           {
            "colorbar": {
             "outlinewidth": 0,
             "ticks": ""
            },
            "colorscale": [
             [
              0,
              "#0d0887"
             ],
             [
              0.1111111111111111,
              "#46039f"
             ],
             [
              0.2222222222222222,
              "#7201a8"
             ],
             [
              0.3333333333333333,
              "#9c179e"
             ],
             [
              0.4444444444444444,
              "#bd3786"
             ],
             [
              0.5555555555555556,
              "#d8576b"
             ],
             [
              0.6666666666666666,
              "#ed7953"
             ],
             [
              0.7777777777777778,
              "#fb9f3a"
             ],
             [
              0.8888888888888888,
              "#fdca26"
             ],
             [
              1,
              "#f0f921"
             ]
            ],
            "type": "heatmapgl"
           }
          ],
          "histogram": [
           {
            "marker": {
             "pattern": {
              "fillmode": "overlay",
              "size": 10,
              "solidity": 0.2
             }
            },
            "type": "histogram"
           }
          ],
          "histogram2d": [
           {
            "colorbar": {
             "outlinewidth": 0,
             "ticks": ""
            },
            "colorscale": [
             [
              0,
              "#0d0887"
             ],
             [
              0.1111111111111111,
              "#46039f"
             ],
             [
              0.2222222222222222,
              "#7201a8"
             ],
             [
              0.3333333333333333,
              "#9c179e"
             ],
             [
              0.4444444444444444,
              "#bd3786"
             ],
             [
              0.5555555555555556,
              "#d8576b"
             ],
             [
              0.6666666666666666,
              "#ed7953"
             ],
             [
              0.7777777777777778,
              "#fb9f3a"
             ],
             [
              0.8888888888888888,
              "#fdca26"
             ],
             [
              1,
              "#f0f921"
             ]
            ],
            "type": "histogram2d"
           }
          ],
          "histogram2dcontour": [
           {
            "colorbar": {
             "outlinewidth": 0,
             "ticks": ""
            },
            "colorscale": [
             [
              0,
              "#0d0887"
             ],
             [
              0.1111111111111111,
              "#46039f"
             ],
             [
              0.2222222222222222,
              "#7201a8"
             ],
             [
              0.3333333333333333,
              "#9c179e"
             ],
             [
              0.4444444444444444,
              "#bd3786"
             ],
             [
              0.5555555555555556,
              "#d8576b"
             ],
             [
              0.6666666666666666,
              "#ed7953"
             ],
             [
              0.7777777777777778,
              "#fb9f3a"
             ],
             [
              0.8888888888888888,
              "#fdca26"
             ],
             [
              1,
              "#f0f921"
             ]
            ],
            "type": "histogram2dcontour"
           }
          ],
          "mesh3d": [
           {
            "colorbar": {
             "outlinewidth": 0,
             "ticks": ""
            },
            "type": "mesh3d"
           }
          ],
          "parcoords": [
           {
            "line": {
             "colorbar": {
              "outlinewidth": 0,
              "ticks": ""
             }
            },
            "type": "parcoords"
           }
          ],
          "pie": [
           {
            "automargin": true,
            "type": "pie"
           }
          ],
          "scatter": [
           {
            "fillpattern": {
             "fillmode": "overlay",
             "size": 10,
             "solidity": 0.2
            },
            "type": "scatter"
           }
          ],
          "scatter3d": [
           {
            "line": {
             "colorbar": {
              "outlinewidth": 0,
              "ticks": ""
             }
            },
            "marker": {
             "colorbar": {
              "outlinewidth": 0,
              "ticks": ""
             }
            },
            "type": "scatter3d"
           }
          ],
          "scattercarpet": [
           {
            "marker": {
             "colorbar": {
              "outlinewidth": 0,
              "ticks": ""
             }
            },
            "type": "scattercarpet"
           }
          ],
          "scattergeo": [
           {
            "marker": {
             "colorbar": {
              "outlinewidth": 0,
              "ticks": ""
             }
            },
            "type": "scattergeo"
           }
          ],
          "scattergl": [
           {
            "marker": {
             "colorbar": {
              "outlinewidth": 0,
              "ticks": ""
             }
            },
            "type": "scattergl"
           }
          ],
          "scattermapbox": [
           {
            "marker": {
             "colorbar": {
              "outlinewidth": 0,
              "ticks": ""
             }
            },
            "type": "scattermapbox"
           }
          ],
          "scatterpolar": [
           {
            "marker": {
             "colorbar": {
              "outlinewidth": 0,
              "ticks": ""
             }
            },
            "type": "scatterpolar"
           }
          ],
          "scatterpolargl": [
           {
            "marker": {
             "colorbar": {
              "outlinewidth": 0,
              "ticks": ""
             }
            },
            "type": "scatterpolargl"
           }
          ],
          "scatterternary": [
           {
            "marker": {
             "colorbar": {
              "outlinewidth": 0,
              "ticks": ""
             }
            },
            "type": "scatterternary"
           }
          ],
          "surface": [
           {
            "colorbar": {
             "outlinewidth": 0,
             "ticks": ""
            },
            "colorscale": [
             [
              0,
              "#0d0887"
             ],
             [
              0.1111111111111111,
              "#46039f"
             ],
             [
              0.2222222222222222,
              "#7201a8"
             ],
             [
              0.3333333333333333,
              "#9c179e"
             ],
             [
              0.4444444444444444,
              "#bd3786"
             ],
             [
              0.5555555555555556,
              "#d8576b"
             ],
             [
              0.6666666666666666,
              "#ed7953"
             ],
             [
              0.7777777777777778,
              "#fb9f3a"
             ],
             [
              0.8888888888888888,
              "#fdca26"
             ],
             [
              1,
              "#f0f921"
             ]
            ],
            "type": "surface"
           }
          ],
          "table": [
           {
            "cells": {
             "fill": {
              "color": "#EBF0F8"
             },
             "line": {
              "color": "white"
             }
            },
            "header": {
             "fill": {
              "color": "#C8D4E3"
             },
             "line": {
              "color": "white"
             }
            },
            "type": "table"
           }
          ]
         },
         "layout": {
          "annotationdefaults": {
           "arrowcolor": "#2a3f5f",
           "arrowhead": 0,
           "arrowwidth": 1
          },
          "autotypenumbers": "strict",
          "coloraxis": {
           "colorbar": {
            "outlinewidth": 0,
            "ticks": ""
           }
          },
          "colorscale": {
           "diverging": [
            [
             0,
             "#8e0152"
            ],
            [
             0.1,
             "#c51b7d"
            ],
            [
             0.2,
             "#de77ae"
            ],
            [
             0.3,
             "#f1b6da"
            ],
            [
             0.4,
             "#fde0ef"
            ],
            [
             0.5,
             "#f7f7f7"
            ],
            [
             0.6,
             "#e6f5d0"
            ],
            [
             0.7,
             "#b8e186"
            ],
            [
             0.8,
             "#7fbc41"
            ],
            [
             0.9,
             "#4d9221"
            ],
            [
             1,
             "#276419"
            ]
           ],
           "sequential": [
            [
             0,
             "#0d0887"
            ],
            [
             0.1111111111111111,
             "#46039f"
            ],
            [
             0.2222222222222222,
             "#7201a8"
            ],
            [
             0.3333333333333333,
             "#9c179e"
            ],
            [
             0.4444444444444444,
             "#bd3786"
            ],
            [
             0.5555555555555556,
             "#d8576b"
            ],
            [
             0.6666666666666666,
             "#ed7953"
            ],
            [
             0.7777777777777778,
             "#fb9f3a"
            ],
            [
             0.8888888888888888,
             "#fdca26"
            ],
            [
             1,
             "#f0f921"
            ]
           ],
           "sequentialminus": [
            [
             0,
             "#0d0887"
            ],
            [
             0.1111111111111111,
             "#46039f"
            ],
            [
             0.2222222222222222,
             "#7201a8"
            ],
            [
             0.3333333333333333,
             "#9c179e"
            ],
            [
             0.4444444444444444,
             "#bd3786"
            ],
            [
             0.5555555555555556,
             "#d8576b"
            ],
            [
             0.6666666666666666,
             "#ed7953"
            ],
            [
             0.7777777777777778,
             "#fb9f3a"
            ],
            [
             0.8888888888888888,
             "#fdca26"
            ],
            [
             1,
             "#f0f921"
            ]
           ]
          },
          "colorway": [
           "#636efa",
           "#EF553B",
           "#00cc96",
           "#ab63fa",
           "#FFA15A",
           "#19d3f3",
           "#FF6692",
           "#B6E880",
           "#FF97FF",
           "#FECB52"
          ],
          "font": {
           "color": "#2a3f5f"
          },
          "geo": {
           "bgcolor": "white",
           "lakecolor": "white",
           "landcolor": "#E5ECF6",
           "showlakes": true,
           "showland": true,
           "subunitcolor": "white"
          },
          "hoverlabel": {
           "align": "left"
          },
          "hovermode": "closest",
          "mapbox": {
           "style": "light"
          },
          "paper_bgcolor": "white",
          "plot_bgcolor": "#E5ECF6",
          "polar": {
           "angularaxis": {
            "gridcolor": "white",
            "linecolor": "white",
            "ticks": ""
           },
           "bgcolor": "#E5ECF6",
           "radialaxis": {
            "gridcolor": "white",
            "linecolor": "white",
            "ticks": ""
           }
          },
          "scene": {
           "xaxis": {
            "backgroundcolor": "#E5ECF6",
            "gridcolor": "white",
            "gridwidth": 2,
            "linecolor": "white",
            "showbackground": true,
            "ticks": "",
            "zerolinecolor": "white"
           },
           "yaxis": {
            "backgroundcolor": "#E5ECF6",
            "gridcolor": "white",
            "gridwidth": 2,
            "linecolor": "white",
            "showbackground": true,
            "ticks": "",
            "zerolinecolor": "white"
           },
           "zaxis": {
            "backgroundcolor": "#E5ECF6",
            "gridcolor": "white",
            "gridwidth": 2,
            "linecolor": "white",
            "showbackground": true,
            "ticks": "",
            "zerolinecolor": "white"
           }
          },
          "shapedefaults": {
           "line": {
            "color": "#2a3f5f"
           }
          },
          "ternary": {
           "aaxis": {
            "gridcolor": "white",
            "linecolor": "white",
            "ticks": ""
           },
           "baxis": {
            "gridcolor": "white",
            "linecolor": "white",
            "ticks": ""
           },
           "bgcolor": "#E5ECF6",
           "caxis": {
            "gridcolor": "white",
            "linecolor": "white",
            "ticks": ""
           }
          },
          "title": {
           "x": 0.05
          },
          "xaxis": {
           "automargin": true,
           "gridcolor": "white",
           "linecolor": "white",
           "ticks": "",
           "title": {
            "standoff": 15
           },
           "zerolinecolor": "white",
           "zerolinewidth": 2
          },
          "yaxis": {
           "automargin": true,
           "gridcolor": "white",
           "linecolor": "white",
           "ticks": "",
           "title": {
            "standoff": 15
           },
           "zerolinecolor": "white",
           "zerolinewidth": 2
          }
         }
        },
        "xaxis": {
         "anchor": "y",
         "domain": [
          0,
          1
         ],
         "title": {
          "text": "index"
         }
        },
        "yaxis": {
         "anchor": "x",
         "domain": [
          0,
          1
         ],
         "title": {
          "text": "in_service"
         }
        }
       }
      },
      "text/html": [
       "<div>                            <div id=\"0bd10fb3-2638-4f47-bb71-670672a4be43\" class=\"plotly-graph-div\" style=\"height:525px; width:100%;\"></div>            <script type=\"text/javascript\">                require([\"plotly\"], function(Plotly) {                    window.PLOTLYENV=window.PLOTLYENV || {};                                    if (document.getElementById(\"0bd10fb3-2638-4f47-bb71-670672a4be43\")) {                    Plotly.newPlot(                        \"0bd10fb3-2638-4f47-bb71-670672a4be43\",                        [{\"hovertemplate\":\"quantile=0.05<br>index=%{x}<br>in_service=%{y}<extra></extra>\",\"legendgroup\":\"0.05\",\"line\":{\"color\":\"#636efa\",\"dash\":\"solid\"},\"marker\":{\"symbol\":\"circle\"},\"mode\":\"lines\",\"name\":\"0.05\",\"orientation\":\"v\",\"showlegend\":true,\"x\":[\"2022-01-01 01:00:00\",\"2022-01-01 02:00:00\",\"2022-01-01 03:00:00\",\"2022-01-01 04:00:00\",\"2022-01-01 05:00:00\",\"2022-01-01 06:00:00\",\"2022-01-01 07:00:00\",\"2022-01-01 08:00:00\",\"2022-01-01 09:00:00\",\"2022-01-01 10:00:00\",\"2022-01-01 11:00:00\",\"2022-01-01 12:00:00\",\"2022-01-01 13:00:00\",\"2022-01-01 14:00:00\",\"2022-01-01 15:00:00\",\"2022-01-01 16:00:00\",\"2022-01-01 17:00:00\",\"2022-01-01 18:00:00\",\"2022-01-01 19:00:00\",\"2022-01-01 20:00:00\",\"2022-01-01 21:00:00\",\"2022-01-01 22:00:00\",\"2022-01-01 23:00:00\",\"2022-01-02 00:00:00\",\"2022-01-02 01:00:00\",\"2022-01-02 02:00:00\",\"2022-01-02 03:00:00\",\"2022-01-02 04:00:00\",\"2022-01-02 05:00:00\",\"2022-01-02 06:00:00\",\"2022-01-02 07:00:00\",\"2022-01-02 08:00:00\",\"2022-01-02 09:00:00\",\"2022-01-02 10:00:00\",\"2022-01-02 11:00:00\",\"2022-01-02 12:00:00\",\"2022-01-02 13:00:00\",\"2022-01-02 14:00:00\",\"2022-01-02 15:00:00\",\"2022-01-02 16:00:00\"],\"xaxis\":\"x\",\"y\":[16.0,16.0,16.0,16.0,16.0,16.0,16.0,16.0,16.0,16.0,16.0,13.15,11.15,9.0,6.15,5.3,6.3,7.15,8.3,8.3,9.3,11.0,11.15,12.15,12.3,14.3,15.15,16.0,16.0,16.0,16.0,16.0,16.0,16.0,16.0,16.0,16.0,16.0,16.0,16.0],\"yaxis\":\"y\",\"type\":\"scatter\"},{\"hovertemplate\":\"quantile=0.5<br>index=%{x}<br>in_service=%{y}<extra></extra>\",\"legendgroup\":\"0.5\",\"line\":{\"color\":\"#EF553B\",\"dash\":\"solid\"},\"marker\":{\"symbol\":\"circle\"},\"mode\":\"lines\",\"name\":\"0.5\",\"orientation\":\"v\",\"showlegend\":true,\"x\":[\"2022-01-01 01:00:00\",\"2022-01-01 02:00:00\",\"2022-01-01 03:00:00\",\"2022-01-01 04:00:00\",\"2022-01-01 05:00:00\",\"2022-01-01 06:00:00\",\"2022-01-01 07:00:00\",\"2022-01-01 08:00:00\",\"2022-01-01 09:00:00\",\"2022-01-01 10:00:00\",\"2022-01-01 11:00:00\",\"2022-01-01 12:00:00\",\"2022-01-01 13:00:00\",\"2022-01-01 14:00:00\",\"2022-01-01 15:00:00\",\"2022-01-01 16:00:00\",\"2022-01-01 17:00:00\",\"2022-01-01 18:00:00\",\"2022-01-01 19:00:00\",\"2022-01-01 20:00:00\",\"2022-01-01 21:00:00\",\"2022-01-01 22:00:00\",\"2022-01-01 23:00:00\",\"2022-01-02 00:00:00\",\"2022-01-02 01:00:00\",\"2022-01-02 02:00:00\",\"2022-01-02 03:00:00\",\"2022-01-02 04:00:00\",\"2022-01-02 05:00:00\",\"2022-01-02 06:00:00\",\"2022-01-02 07:00:00\",\"2022-01-02 08:00:00\",\"2022-01-02 09:00:00\",\"2022-01-02 10:00:00\",\"2022-01-02 11:00:00\",\"2022-01-02 12:00:00\",\"2022-01-02 13:00:00\",\"2022-01-02 14:00:00\",\"2022-01-02 15:00:00\",\"2022-01-02 16:00:00\"],\"xaxis\":\"x\",\"y\":[16.0,16.0,16.0,16.0,16.0,16.0,16.0,16.0,16.0,16.0,16.0,14.5,12.0,9.0,7.5,7.5,8.5,9.0,10.0,10.5,11.0,12.0,12.5,13.5,14.5,16.0,16.0,16.0,16.0,16.0,16.0,16.0,16.0,16.0,16.0,16.0,16.0,16.0,16.0,16.0],\"yaxis\":\"y\",\"type\":\"scatter\"},{\"hovertemplate\":\"quantile=0.95<br>index=%{x}<br>in_service=%{y}<extra></extra>\",\"legendgroup\":\"0.95\",\"line\":{\"color\":\"#00cc96\",\"dash\":\"solid\"},\"marker\":{\"symbol\":\"circle\"},\"mode\":\"lines\",\"name\":\"0.95\",\"orientation\":\"v\",\"showlegend\":true,\"x\":[\"2022-01-01 01:00:00\",\"2022-01-01 02:00:00\",\"2022-01-01 03:00:00\",\"2022-01-01 04:00:00\",\"2022-01-01 05:00:00\",\"2022-01-01 06:00:00\",\"2022-01-01 07:00:00\",\"2022-01-01 08:00:00\",\"2022-01-01 09:00:00\",\"2022-01-01 10:00:00\",\"2022-01-01 11:00:00\",\"2022-01-01 12:00:00\",\"2022-01-01 13:00:00\",\"2022-01-01 14:00:00\",\"2022-01-01 15:00:00\",\"2022-01-01 16:00:00\",\"2022-01-01 17:00:00\",\"2022-01-01 18:00:00\",\"2022-01-01 19:00:00\",\"2022-01-01 20:00:00\",\"2022-01-01 21:00:00\",\"2022-01-01 22:00:00\",\"2022-01-01 23:00:00\",\"2022-01-02 00:00:00\",\"2022-01-02 01:00:00\",\"2022-01-02 02:00:00\",\"2022-01-02 03:00:00\",\"2022-01-02 04:00:00\",\"2022-01-02 05:00:00\",\"2022-01-02 06:00:00\",\"2022-01-02 07:00:00\",\"2022-01-02 08:00:00\",\"2022-01-02 09:00:00\",\"2022-01-02 10:00:00\",\"2022-01-02 11:00:00\",\"2022-01-02 12:00:00\",\"2022-01-02 13:00:00\",\"2022-01-02 14:00:00\",\"2022-01-02 15:00:00\",\"2022-01-02 16:00:00\"],\"xaxis\":\"x\",\"y\":[16.0,16.0,16.0,16.0,16.0,16.0,16.0,16.0,16.0,16.0,16.0,15.0,12.85,10.7,11.399999999999999,9.7,10.7,10.85,10.85,11.85,12.7,13.0,14.7,15.7,15.85,16.0,16.0,16.0,16.0,16.0,16.0,16.0,16.0,16.0,16.0,16.0,16.0,16.0,16.0,16.0],\"yaxis\":\"y\",\"type\":\"scatter\"}],                        {\"template\":{\"data\":{\"histogram2dcontour\":[{\"type\":\"histogram2dcontour\",\"colorbar\":{\"outlinewidth\":0,\"ticks\":\"\"},\"colorscale\":[[0.0,\"#0d0887\"],[0.1111111111111111,\"#46039f\"],[0.2222222222222222,\"#7201a8\"],[0.3333333333333333,\"#9c179e\"],[0.4444444444444444,\"#bd3786\"],[0.5555555555555556,\"#d8576b\"],[0.6666666666666666,\"#ed7953\"],[0.7777777777777778,\"#fb9f3a\"],[0.8888888888888888,\"#fdca26\"],[1.0,\"#f0f921\"]]}],\"choropleth\":[{\"type\":\"choropleth\",\"colorbar\":{\"outlinewidth\":0,\"ticks\":\"\"}}],\"histogram2d\":[{\"type\":\"histogram2d\",\"colorbar\":{\"outlinewidth\":0,\"ticks\":\"\"},\"colorscale\":[[0.0,\"#0d0887\"],[0.1111111111111111,\"#46039f\"],[0.2222222222222222,\"#7201a8\"],[0.3333333333333333,\"#9c179e\"],[0.4444444444444444,\"#bd3786\"],[0.5555555555555556,\"#d8576b\"],[0.6666666666666666,\"#ed7953\"],[0.7777777777777778,\"#fb9f3a\"],[0.8888888888888888,\"#fdca26\"],[1.0,\"#f0f921\"]]}],\"heatmap\":[{\"type\":\"heatmap\",\"colorbar\":{\"outlinewidth\":0,\"ticks\":\"\"},\"colorscale\":[[0.0,\"#0d0887\"],[0.1111111111111111,\"#46039f\"],[0.2222222222222222,\"#7201a8\"],[0.3333333333333333,\"#9c179e\"],[0.4444444444444444,\"#bd3786\"],[0.5555555555555556,\"#d8576b\"],[0.6666666666666666,\"#ed7953\"],[0.7777777777777778,\"#fb9f3a\"],[0.8888888888888888,\"#fdca26\"],[1.0,\"#f0f921\"]]}],\"heatmapgl\":[{\"type\":\"heatmapgl\",\"colorbar\":{\"outlinewidth\":0,\"ticks\":\"\"},\"colorscale\":[[0.0,\"#0d0887\"],[0.1111111111111111,\"#46039f\"],[0.2222222222222222,\"#7201a8\"],[0.3333333333333333,\"#9c179e\"],[0.4444444444444444,\"#bd3786\"],[0.5555555555555556,\"#d8576b\"],[0.6666666666666666,\"#ed7953\"],[0.7777777777777778,\"#fb9f3a\"],[0.8888888888888888,\"#fdca26\"],[1.0,\"#f0f921\"]]}],\"contourcarpet\":[{\"type\":\"contourcarpet\",\"colorbar\":{\"outlinewidth\":0,\"ticks\":\"\"}}],\"contour\":[{\"type\":\"contour\",\"colorbar\":{\"outlinewidth\":0,\"ticks\":\"\"},\"colorscale\":[[0.0,\"#0d0887\"],[0.1111111111111111,\"#46039f\"],[0.2222222222222222,\"#7201a8\"],[0.3333333333333333,\"#9c179e\"],[0.4444444444444444,\"#bd3786\"],[0.5555555555555556,\"#d8576b\"],[0.6666666666666666,\"#ed7953\"],[0.7777777777777778,\"#fb9f3a\"],[0.8888888888888888,\"#fdca26\"],[1.0,\"#f0f921\"]]}],\"surface\":[{\"type\":\"surface\",\"colorbar\":{\"outlinewidth\":0,\"ticks\":\"\"},\"colorscale\":[[0.0,\"#0d0887\"],[0.1111111111111111,\"#46039f\"],[0.2222222222222222,\"#7201a8\"],[0.3333333333333333,\"#9c179e\"],[0.4444444444444444,\"#bd3786\"],[0.5555555555555556,\"#d8576b\"],[0.6666666666666666,\"#ed7953\"],[0.7777777777777778,\"#fb9f3a\"],[0.8888888888888888,\"#fdca26\"],[1.0,\"#f0f921\"]]}],\"mesh3d\":[{\"type\":\"mesh3d\",\"colorbar\":{\"outlinewidth\":0,\"ticks\":\"\"}}],\"scatter\":[{\"fillpattern\":{\"fillmode\":\"overlay\",\"size\":10,\"solidity\":0.2},\"type\":\"scatter\"}],\"parcoords\":[{\"type\":\"parcoords\",\"line\":{\"colorbar\":{\"outlinewidth\":0,\"ticks\":\"\"}}}],\"scatterpolargl\":[{\"type\":\"scatterpolargl\",\"marker\":{\"colorbar\":{\"outlinewidth\":0,\"ticks\":\"\"}}}],\"bar\":[{\"error_x\":{\"color\":\"#2a3f5f\"},\"error_y\":{\"color\":\"#2a3f5f\"},\"marker\":{\"line\":{\"color\":\"#E5ECF6\",\"width\":0.5},\"pattern\":{\"fillmode\":\"overlay\",\"size\":10,\"solidity\":0.2}},\"type\":\"bar\"}],\"scattergeo\":[{\"type\":\"scattergeo\",\"marker\":{\"colorbar\":{\"outlinewidth\":0,\"ticks\":\"\"}}}],\"scatterpolar\":[{\"type\":\"scatterpolar\",\"marker\":{\"colorbar\":{\"outlinewidth\":0,\"ticks\":\"\"}}}],\"histogram\":[{\"marker\":{\"pattern\":{\"fillmode\":\"overlay\",\"size\":10,\"solidity\":0.2}},\"type\":\"histogram\"}],\"scattergl\":[{\"type\":\"scattergl\",\"marker\":{\"colorbar\":{\"outlinewidth\":0,\"ticks\":\"\"}}}],\"scatter3d\":[{\"type\":\"scatter3d\",\"line\":{\"colorbar\":{\"outlinewidth\":0,\"ticks\":\"\"}},\"marker\":{\"colorbar\":{\"outlinewidth\":0,\"ticks\":\"\"}}}],\"scattermapbox\":[{\"type\":\"scattermapbox\",\"marker\":{\"colorbar\":{\"outlinewidth\":0,\"ticks\":\"\"}}}],\"scatterternary\":[{\"type\":\"scatterternary\",\"marker\":{\"colorbar\":{\"outlinewidth\":0,\"ticks\":\"\"}}}],\"scattercarpet\":[{\"type\":\"scattercarpet\",\"marker\":{\"colorbar\":{\"outlinewidth\":0,\"ticks\":\"\"}}}],\"carpet\":[{\"aaxis\":{\"endlinecolor\":\"#2a3f5f\",\"gridcolor\":\"white\",\"linecolor\":\"white\",\"minorgridcolor\":\"white\",\"startlinecolor\":\"#2a3f5f\"},\"baxis\":{\"endlinecolor\":\"#2a3f5f\",\"gridcolor\":\"white\",\"linecolor\":\"white\",\"minorgridcolor\":\"white\",\"startlinecolor\":\"#2a3f5f\"},\"type\":\"carpet\"}],\"table\":[{\"cells\":{\"fill\":{\"color\":\"#EBF0F8\"},\"line\":{\"color\":\"white\"}},\"header\":{\"fill\":{\"color\":\"#C8D4E3\"},\"line\":{\"color\":\"white\"}},\"type\":\"table\"}],\"barpolar\":[{\"marker\":{\"line\":{\"color\":\"#E5ECF6\",\"width\":0.5},\"pattern\":{\"fillmode\":\"overlay\",\"size\":10,\"solidity\":0.2}},\"type\":\"barpolar\"}],\"pie\":[{\"automargin\":true,\"type\":\"pie\"}]},\"layout\":{\"autotypenumbers\":\"strict\",\"colorway\":[\"#636efa\",\"#EF553B\",\"#00cc96\",\"#ab63fa\",\"#FFA15A\",\"#19d3f3\",\"#FF6692\",\"#B6E880\",\"#FF97FF\",\"#FECB52\"],\"font\":{\"color\":\"#2a3f5f\"},\"hovermode\":\"closest\",\"hoverlabel\":{\"align\":\"left\"},\"paper_bgcolor\":\"white\",\"plot_bgcolor\":\"#E5ECF6\",\"polar\":{\"bgcolor\":\"#E5ECF6\",\"angularaxis\":{\"gridcolor\":\"white\",\"linecolor\":\"white\",\"ticks\":\"\"},\"radialaxis\":{\"gridcolor\":\"white\",\"linecolor\":\"white\",\"ticks\":\"\"}},\"ternary\":{\"bgcolor\":\"#E5ECF6\",\"aaxis\":{\"gridcolor\":\"white\",\"linecolor\":\"white\",\"ticks\":\"\"},\"baxis\":{\"gridcolor\":\"white\",\"linecolor\":\"white\",\"ticks\":\"\"},\"caxis\":{\"gridcolor\":\"white\",\"linecolor\":\"white\",\"ticks\":\"\"}},\"coloraxis\":{\"colorbar\":{\"outlinewidth\":0,\"ticks\":\"\"}},\"colorscale\":{\"sequential\":[[0.0,\"#0d0887\"],[0.1111111111111111,\"#46039f\"],[0.2222222222222222,\"#7201a8\"],[0.3333333333333333,\"#9c179e\"],[0.4444444444444444,\"#bd3786\"],[0.5555555555555556,\"#d8576b\"],[0.6666666666666666,\"#ed7953\"],[0.7777777777777778,\"#fb9f3a\"],[0.8888888888888888,\"#fdca26\"],[1.0,\"#f0f921\"]],\"sequentialminus\":[[0.0,\"#0d0887\"],[0.1111111111111111,\"#46039f\"],[0.2222222222222222,\"#7201a8\"],[0.3333333333333333,\"#9c179e\"],[0.4444444444444444,\"#bd3786\"],[0.5555555555555556,\"#d8576b\"],[0.6666666666666666,\"#ed7953\"],[0.7777777777777778,\"#fb9f3a\"],[0.8888888888888888,\"#fdca26\"],[1.0,\"#f0f921\"]],\"diverging\":[[0,\"#8e0152\"],[0.1,\"#c51b7d\"],[0.2,\"#de77ae\"],[0.3,\"#f1b6da\"],[0.4,\"#fde0ef\"],[0.5,\"#f7f7f7\"],[0.6,\"#e6f5d0\"],[0.7,\"#b8e186\"],[0.8,\"#7fbc41\"],[0.9,\"#4d9221\"],[1,\"#276419\"]]},\"xaxis\":{\"gridcolor\":\"white\",\"linecolor\":\"white\",\"ticks\":\"\",\"title\":{\"standoff\":15},\"zerolinecolor\":\"white\",\"automargin\":true,\"zerolinewidth\":2},\"yaxis\":{\"gridcolor\":\"white\",\"linecolor\":\"white\",\"ticks\":\"\",\"title\":{\"standoff\":15},\"zerolinecolor\":\"white\",\"automargin\":true,\"zerolinewidth\":2},\"scene\":{\"xaxis\":{\"backgroundcolor\":\"#E5ECF6\",\"gridcolor\":\"white\",\"linecolor\":\"white\",\"showbackground\":true,\"ticks\":\"\",\"zerolinecolor\":\"white\",\"gridwidth\":2},\"yaxis\":{\"backgroundcolor\":\"#E5ECF6\",\"gridcolor\":\"white\",\"linecolor\":\"white\",\"showbackground\":true,\"ticks\":\"\",\"zerolinecolor\":\"white\",\"gridwidth\":2},\"zaxis\":{\"backgroundcolor\":\"#E5ECF6\",\"gridcolor\":\"white\",\"linecolor\":\"white\",\"showbackground\":true,\"ticks\":\"\",\"zerolinecolor\":\"white\",\"gridwidth\":2}},\"shapedefaults\":{\"line\":{\"color\":\"#2a3f5f\"}},\"annotationdefaults\":{\"arrowcolor\":\"#2a3f5f\",\"arrowhead\":0,\"arrowwidth\":1},\"geo\":{\"bgcolor\":\"white\",\"landcolor\":\"#E5ECF6\",\"subunitcolor\":\"white\",\"showland\":true,\"showlakes\":true,\"lakecolor\":\"white\"},\"title\":{\"x\":0.05},\"mapbox\":{\"style\":\"light\"}}},\"xaxis\":{\"anchor\":\"y\",\"domain\":[0.0,1.0],\"title\":{\"text\":\"index\"}},\"yaxis\":{\"anchor\":\"x\",\"domain\":[0.0,1.0],\"title\":{\"text\":\"in_service\"}},\"legend\":{\"title\":{\"text\":\"quantile\"},\"tracegroupgap\":0},\"margin\":{\"t\":60}},                        {\"responsive\": true}                    ).then(function(){\n",
       "                            \n",
       "var gd = document.getElementById('0bd10fb3-2638-4f47-bb71-670672a4be43');\n",
       "var x = new MutationObserver(function (mutations, observer) {{\n",
       "        var display = window.getComputedStyle(gd).display;\n",
       "        if (!display || display === 'none') {{\n",
       "            console.log([gd, 'removed!']);\n",
       "            Plotly.purge(gd);\n",
       "            observer.disconnect();\n",
       "        }}\n",
       "}});\n",
       "\n",
       "// Listen for the removal of the full notebook cells\n",
       "var notebookContainer = gd.closest('#notebook-container');\n",
       "if (notebookContainer) {{\n",
       "    x.observe(notebookContainer, {childList: true});\n",
       "}}\n",
       "\n",
       "// Listen for the clearing of the current output cell\n",
       "var outputEl = gd.closest('.output');\n",
       "if (outputEl) {{\n",
       "    x.observe(outputEl, {childList: true});\n",
       "}}\n",
       "\n",
       "                        })                };                });            </script>        </div>"
      ]
     },
     "metadata": {},
     "output_type": "display_data"
    }
   ],
   "source": [
    "px.line(df_line_quantiles, x=df_line_quantiles.index, y = 'in_service', color = 'quantile')"
   ]
  },
  {
   "cell_type": "code",
   "execution_count": 30,
   "id": "spatial-trouble",
   "metadata": {},
   "outputs": [],
   "source": [
    "df_load = group_by(filter(df, type = 'load'), 'sum', 'iteration', 'field', 'type')\n",
    "df_load_quantiles = invert(get_quantiles_on_iterations(df_load, [0.05, 0.25, 0.5, 0.75, 0.95]))\n",
    "# df_load = invert(df_load) \n",
    "# df_load['loss_of_load_p_percentage'] = (df_load['loss_of_load_p_mw'])/df_load['max_p_mw'] *100\n",
    "df_load_quantiles['loss_of_load_p_percentage'] = (df_load_quantiles['loss_of_load_p_mw'])/df_load_quantiles['max_p_mw'] *100"
   ]
  },
  {
   "cell_type": "code",
   "execution_count": 31,
   "id": "agricultural-filter",
   "metadata": {},
   "outputs": [
    {
     "data": {
      "application/vnd.plotly.v1+json": {
       "config": {
        "plotlyServerURL": "https://plot.ly"
       },
       "data": [
        {
         "hovertemplate": "quantile=0.05<br>index=%{x}<br>loss_of_load_p_percentage=%{y}<extra></extra>",
         "legendgroup": "0.05",
         "line": {
          "color": "#636efa",
          "dash": "solid"
         },
         "marker": {
          "symbol": "circle"
         },
         "mode": "lines",
         "name": "0.05",
         "orientation": "v",
         "showlegend": true,
         "type": "scatter",
         "x": [
          "2022-01-01 01:00:00",
          "2022-01-01 02:00:00",
          "2022-01-01 03:00:00",
          "2022-01-01 04:00:00",
          "2022-01-01 05:00:00",
          "2022-01-01 06:00:00",
          "2022-01-01 07:00:00",
          "2022-01-01 08:00:00",
          "2022-01-01 09:00:00",
          "2022-01-01 10:00:00",
          "2022-01-01 11:00:00",
          "2022-01-01 12:00:00",
          "2022-01-01 13:00:00",
          "2022-01-01 14:00:00",
          "2022-01-01 15:00:00",
          "2022-01-01 16:00:00",
          "2022-01-01 17:00:00",
          "2022-01-01 18:00:00",
          "2022-01-01 19:00:00",
          "2022-01-01 20:00:00",
          "2022-01-01 21:00:00",
          "2022-01-01 22:00:00",
          "2022-01-01 23:00:00",
          "2022-01-02 00:00:00",
          "2022-01-02 01:00:00",
          "2022-01-02 02:00:00",
          "2022-01-02 03:00:00",
          "2022-01-02 04:00:00",
          "2022-01-02 05:00:00",
          "2022-01-02 06:00:00",
          "2022-01-02 07:00:00",
          "2022-01-02 08:00:00",
          "2022-01-02 09:00:00",
          "2022-01-02 10:00:00",
          "2022-01-02 11:00:00",
          "2022-01-02 12:00:00",
          "2022-01-02 13:00:00",
          "2022-01-02 14:00:00",
          "2022-01-02 15:00:00",
          "2022-01-02 16:00:00"
         ],
         "xaxis": "x",
         "y": [
          -9.970656516919668e-7,
          -9.955580696286417e-7,
          -9.94265816047044e-7,
          -9.953463209823906e-7,
          -9.960436116585154e-7,
          -9.965290061048397e-7,
          -9.9572240655426e-7,
          -9.934088906765186e-7,
          -9.968539395401375e-7,
          -9.96344423381623e-7,
          -9.931091021262558e-7,
          -9.958114138023234e-7,
          0.325413844349658,
          4.2530554173393655,
          6.7729628196848175,
          14.385590912396898,
          12.500694174573388,
          7.284811387784451,
          3.0636767202606987,
          12.218682138045933,
          4.804408201165773,
          3.8441972721113147,
          4.549997306791384,
          1.0651024788810657,
          -9.977151162121972e-7,
          -9.92996486838891e-7,
          -9.927822970877815e-7,
          -9.973794803817934e-7,
          -9.79490467269985e-7,
          -9.968269672929332e-7,
          -9.9736075625475e-7,
          -9.961801234642144e-7,
          -9.939849925764249e-7,
          -9.958433213754204e-7,
          -9.962211483648333e-7,
          -9.969341404719008e-7,
          -9.963153147309557e-7,
          -9.956343366593858e-7,
          -9.961663650580382e-7,
          -9.93841115170004e-7
         ],
         "yaxis": "y"
        },
        {
         "hovertemplate": "quantile=0.25<br>index=%{x}<br>loss_of_load_p_percentage=%{y}<extra></extra>",
         "legendgroup": "0.25",
         "line": {
          "color": "#EF553B",
          "dash": "solid"
         },
         "marker": {
          "symbol": "circle"
         },
         "mode": "lines",
         "name": "0.25",
         "orientation": "v",
         "showlegend": true,
         "type": "scatter",
         "x": [
          "2022-01-01 01:00:00",
          "2022-01-01 02:00:00",
          "2022-01-01 03:00:00",
          "2022-01-01 04:00:00",
          "2022-01-01 05:00:00",
          "2022-01-01 06:00:00",
          "2022-01-01 07:00:00",
          "2022-01-01 08:00:00",
          "2022-01-01 09:00:00",
          "2022-01-01 10:00:00",
          "2022-01-01 11:00:00",
          "2022-01-01 12:00:00",
          "2022-01-01 13:00:00",
          "2022-01-01 14:00:00",
          "2022-01-01 15:00:00",
          "2022-01-01 16:00:00",
          "2022-01-01 17:00:00",
          "2022-01-01 18:00:00",
          "2022-01-01 19:00:00",
          "2022-01-01 20:00:00",
          "2022-01-01 21:00:00",
          "2022-01-01 22:00:00",
          "2022-01-01 23:00:00",
          "2022-01-02 00:00:00",
          "2022-01-02 01:00:00",
          "2022-01-02 02:00:00",
          "2022-01-02 03:00:00",
          "2022-01-02 04:00:00",
          "2022-01-02 05:00:00",
          "2022-01-02 06:00:00",
          "2022-01-02 07:00:00",
          "2022-01-02 08:00:00",
          "2022-01-02 09:00:00",
          "2022-01-02 10:00:00",
          "2022-01-02 11:00:00",
          "2022-01-02 12:00:00",
          "2022-01-02 13:00:00",
          "2022-01-02 14:00:00",
          "2022-01-02 15:00:00",
          "2022-01-02 16:00:00"
         ],
         "xaxis": "x",
         "y": [
          -9.970656516919668e-7,
          -9.955580696286417e-7,
          -9.94265816047044e-7,
          -9.953463209823906e-7,
          -9.960436116585154e-7,
          -9.965290061048397e-7,
          -9.9572240655426e-7,
          -9.934088906765186e-7,
          -9.968539395401375e-7,
          -9.96344423381623e-7,
          -9.931091021262558e-7,
          -9.958113258199742e-7,
          1.6270732060293867,
          4.253055417369534,
          11.79792728048326,
          14.385919941098749,
          13.474429692290201,
          9.292072894231968,
          15.031142047587254,
          15.14054510534274,
          8.725499049273896,
          3.958922895974043,
          22.749990495446582,
          5.325516376625957,
          -9.974156824115448e-7,
          -9.92996486838891e-7,
          -9.927822659129969e-7,
          -9.973794803817934e-7,
          -9.79490467269985e-7,
          -9.968269672929332e-7,
          -9.9736075625475e-7,
          -9.961801234642144e-7,
          -9.939849925764249e-7,
          -9.958433213754204e-7,
          -9.962211483648333e-7,
          -9.969341404719008e-7,
          -9.963153147309557e-7,
          -9.956343366593858e-7,
          -9.961663650580382e-7,
          -9.93841115170004e-7
         ],
         "yaxis": "y"
        },
        {
         "hovertemplate": "quantile=0.5<br>index=%{x}<br>loss_of_load_p_percentage=%{y}<extra></extra>",
         "legendgroup": "0.5",
         "line": {
          "color": "#00cc96",
          "dash": "solid"
         },
         "marker": {
          "symbol": "circle"
         },
         "mode": "lines",
         "name": "0.5",
         "orientation": "v",
         "showlegend": true,
         "type": "scatter",
         "x": [
          "2022-01-01 01:00:00",
          "2022-01-01 02:00:00",
          "2022-01-01 03:00:00",
          "2022-01-01 04:00:00",
          "2022-01-01 05:00:00",
          "2022-01-01 06:00:00",
          "2022-01-01 07:00:00",
          "2022-01-01 08:00:00",
          "2022-01-01 09:00:00",
          "2022-01-01 10:00:00",
          "2022-01-01 11:00:00",
          "2022-01-01 12:00:00",
          "2022-01-01 13:00:00",
          "2022-01-01 14:00:00",
          "2022-01-01 15:00:00",
          "2022-01-01 16:00:00",
          "2022-01-01 17:00:00",
          "2022-01-01 18:00:00",
          "2022-01-01 19:00:00",
          "2022-01-01 20:00:00",
          "2022-01-01 21:00:00",
          "2022-01-01 22:00:00",
          "2022-01-01 23:00:00",
          "2022-01-02 00:00:00",
          "2022-01-02 01:00:00",
          "2022-01-02 02:00:00",
          "2022-01-02 03:00:00",
          "2022-01-02 04:00:00",
          "2022-01-02 05:00:00",
          "2022-01-02 06:00:00",
          "2022-01-02 07:00:00",
          "2022-01-02 08:00:00",
          "2022-01-02 09:00:00",
          "2022-01-02 10:00:00",
          "2022-01-02 11:00:00",
          "2022-01-02 12:00:00",
          "2022-01-02 13:00:00",
          "2022-01-02 14:00:00",
          "2022-01-02 15:00:00",
          "2022-01-02 16:00:00"
         ],
         "xaxis": "x",
         "y": [
          -9.970656516919668e-7,
          -9.955580696286417e-7,
          -9.94265816047044e-7,
          -9.953463209823906e-7,
          -9.960436116585154e-7,
          -9.965290061048397e-7,
          -9.9572240655426e-7,
          -9.934088906765186e-7,
          -9.968539395401375e-7,
          -9.96344423381623e-7,
          -9.931091021262558e-7,
          0.80364762375454,
          3.3237800370121175,
          6.938023063520266,
          16.650023821569736,
          23.510482921289203,
          14.198427730929868,
          13.519930358120074,
          20.05349162611009,
          22.1020967027,
          10.359286902652387,
          4.006725239250179,
          30.33332099072188,
          9.945437492009235,
          2.5851712800128777,
          -9.92996486838891e-7,
          -9.927822529235031e-7,
          -9.973794803817934e-7,
          -9.79490467269985e-7,
          -9.968269672929332e-7,
          -9.9736075625475e-7,
          -9.961801234642144e-7,
          -9.939849925764249e-7,
          -9.958433213754204e-7,
          -9.962211483648333e-7,
          -9.969341404719008e-7,
          -9.963153147309557e-7,
          -9.956343366593858e-7,
          -9.961663650580382e-7,
          -9.93841115170004e-7
         ],
         "yaxis": "y"
        },
        {
         "hovertemplate": "quantile=0.75<br>index=%{x}<br>loss_of_load_p_percentage=%{y}<extra></extra>",
         "legendgroup": "0.75",
         "line": {
          "color": "#ab63fa",
          "dash": "solid"
         },
         "marker": {
          "symbol": "circle"
         },
         "mode": "lines",
         "name": "0.75",
         "orientation": "v",
         "showlegend": true,
         "type": "scatter",
         "x": [
          "2022-01-01 01:00:00",
          "2022-01-01 02:00:00",
          "2022-01-01 03:00:00",
          "2022-01-01 04:00:00",
          "2022-01-01 05:00:00",
          "2022-01-01 06:00:00",
          "2022-01-01 07:00:00",
          "2022-01-01 08:00:00",
          "2022-01-01 09:00:00",
          "2022-01-01 10:00:00",
          "2022-01-01 11:00:00",
          "2022-01-01 12:00:00",
          "2022-01-01 13:00:00",
          "2022-01-01 14:00:00",
          "2022-01-01 15:00:00",
          "2022-01-01 16:00:00",
          "2022-01-01 17:00:00",
          "2022-01-01 18:00:00",
          "2022-01-01 19:00:00",
          "2022-01-01 20:00:00",
          "2022-01-01 21:00:00",
          "2022-01-01 22:00:00",
          "2022-01-01 23:00:00",
          "2022-01-02 00:00:00",
          "2022-01-02 01:00:00",
          "2022-01-02 02:00:00",
          "2022-01-02 03:00:00",
          "2022-01-02 04:00:00",
          "2022-01-02 05:00:00",
          "2022-01-02 06:00:00",
          "2022-01-02 07:00:00",
          "2022-01-02 08:00:00",
          "2022-01-02 09:00:00",
          "2022-01-02 10:00:00",
          "2022-01-02 11:00:00",
          "2022-01-02 12:00:00",
          "2022-01-02 13:00:00",
          "2022-01-02 14:00:00",
          "2022-01-02 15:00:00",
          "2022-01-02 16:00:00"
         ],
         "xaxis": "x",
         "y": [
          -9.970656516919668e-7,
          -9.955580696286417e-7,
          -9.94265816047044e-7,
          -9.953463209823906e-7,
          -9.960436116585154e-7,
          -9.965290061048397e-7,
          -9.9572240655426e-7,
          -9.934088906765186e-7,
          -9.968539395401375e-7,
          -9.96344423381623e-7,
          -9.931091021262558e-7,
          3.2413586329968482,
          5.09904380354587,
          9.62299070974602,
          19.408385170656864,
          33.354490363258584,
          19.674693354071575,
          16.911428860988455,
          20.08939731852838,
          27.846205397016917,
          10.359286902652496,
          4.006725239317243,
          30.333320990724182,
          12.790186149998823,
          6.229280708478749,
          1.3986377014396085,
          -9.927822529235031e-7,
          -9.973794803817934e-7,
          -9.79490467269985e-7,
          -9.968269672929332e-7,
          -9.9736075625475e-7,
          -9.961801234642144e-7,
          -9.939849925764249e-7,
          -9.958433213754204e-7,
          -9.962211483648333e-7,
          -9.969341404719008e-7,
          -9.963153147309557e-7,
          -9.956343366593858e-7,
          -9.961663650580382e-7,
          -9.93841115170004e-7
         ],
         "yaxis": "y"
        },
        {
         "hovertemplate": "quantile=0.95<br>index=%{x}<br>loss_of_load_p_percentage=%{y}<extra></extra>",
         "legendgroup": "0.95",
         "line": {
          "color": "#FFA15A",
          "dash": "solid"
         },
         "marker": {
          "symbol": "circle"
         },
         "mode": "lines",
         "name": "0.95",
         "orientation": "v",
         "showlegend": true,
         "type": "scatter",
         "x": [
          "2022-01-01 01:00:00",
          "2022-01-01 02:00:00",
          "2022-01-01 03:00:00",
          "2022-01-01 04:00:00",
          "2022-01-01 05:00:00",
          "2022-01-01 06:00:00",
          "2022-01-01 07:00:00",
          "2022-01-01 08:00:00",
          "2022-01-01 09:00:00",
          "2022-01-01 10:00:00",
          "2022-01-01 11:00:00",
          "2022-01-01 12:00:00",
          "2022-01-01 13:00:00",
          "2022-01-01 14:00:00",
          "2022-01-01 15:00:00",
          "2022-01-01 16:00:00",
          "2022-01-01 17:00:00",
          "2022-01-01 18:00:00",
          "2022-01-01 19:00:00",
          "2022-01-01 20:00:00",
          "2022-01-01 21:00:00",
          "2022-01-01 22:00:00",
          "2022-01-01 23:00:00",
          "2022-01-02 00:00:00",
          "2022-01-02 01:00:00",
          "2022-01-02 02:00:00",
          "2022-01-02 03:00:00",
          "2022-01-02 04:00:00",
          "2022-01-02 05:00:00",
          "2022-01-02 06:00:00",
          "2022-01-02 07:00:00",
          "2022-01-02 08:00:00",
          "2022-01-02 09:00:00",
          "2022-01-02 10:00:00",
          "2022-01-02 11:00:00",
          "2022-01-02 12:00:00",
          "2022-01-02 13:00:00",
          "2022-01-02 14:00:00",
          "2022-01-02 15:00:00",
          "2022-01-02 16:00:00"
         ],
         "xaxis": "x",
         "y": [
          -9.970656516919668e-7,
          -9.955580696286417e-7,
          -9.94265816047044e-7,
          -9.953463209823906e-7,
          -9.960436116585154e-7,
          -9.965290061048397e-7,
          -9.9572240655426e-7,
          -9.934088906765186e-7,
          -9.968539395401375e-7,
          -9.96344423381623e-7,
          -9.931091021262558e-7,
          7.1631083682203975,
          6.58923981054805,
          9.622990709956241,
          19.408385170656864,
          35.08148610022987,
          32.05387107459327,
          16.911428860988632,
          20.08939731920404,
          27.846205397016917,
          10.359286902652496,
          4.006725239478196,
          30.3333209907242,
          12.790186149998847,
          8.770729871267728,
          4.755370568086235,
          -9.927822529235031e-7,
          -9.973794803817934e-7,
          -9.79490467269985e-7,
          -9.968269672929332e-7,
          -9.9736075625475e-7,
          -9.961801234642144e-7,
          -9.939849925764249e-7,
          -9.958433213754204e-7,
          -9.962211483648333e-7,
          -9.969341404719008e-7,
          -9.963153147309557e-7,
          -9.956343366593858e-7,
          -9.961663650580382e-7,
          -9.93841115170004e-7
         ],
         "yaxis": "y"
        }
       ],
       "layout": {
        "legend": {
         "title": {
          "text": "quantile"
         },
         "tracegroupgap": 0
        },
        "margin": {
         "t": 60
        },
        "template": {
         "data": {
          "bar": [
           {
            "error_x": {
             "color": "#2a3f5f"
            },
            "error_y": {
             "color": "#2a3f5f"
            },
            "marker": {
             "line": {
              "color": "#E5ECF6",
              "width": 0.5
             },
             "pattern": {
              "fillmode": "overlay",
              "size": 10,
              "solidity": 0.2
             }
            },
            "type": "bar"
           }
          ],
          "barpolar": [
           {
            "marker": {
             "line": {
              "color": "#E5ECF6",
              "width": 0.5
             },
             "pattern": {
              "fillmode": "overlay",
              "size": 10,
              "solidity": 0.2
             }
            },
            "type": "barpolar"
           }
          ],
          "carpet": [
           {
            "aaxis": {
             "endlinecolor": "#2a3f5f",
             "gridcolor": "white",
             "linecolor": "white",
             "minorgridcolor": "white",
             "startlinecolor": "#2a3f5f"
            },
            "baxis": {
             "endlinecolor": "#2a3f5f",
             "gridcolor": "white",
             "linecolor": "white",
             "minorgridcolor": "white",
             "startlinecolor": "#2a3f5f"
            },
            "type": "carpet"
           }
          ],
          "choropleth": [
           {
            "colorbar": {
             "outlinewidth": 0,
             "ticks": ""
            },
            "type": "choropleth"
           }
          ],
          "contour": [
           {
            "colorbar": {
             "outlinewidth": 0,
             "ticks": ""
            },
            "colorscale": [
             [
              0,
              "#0d0887"
             ],
             [
              0.1111111111111111,
              "#46039f"
             ],
             [
              0.2222222222222222,
              "#7201a8"
             ],
             [
              0.3333333333333333,
              "#9c179e"
             ],
             [
              0.4444444444444444,
              "#bd3786"
             ],
             [
              0.5555555555555556,
              "#d8576b"
             ],
             [
              0.6666666666666666,
              "#ed7953"
             ],
             [
              0.7777777777777778,
              "#fb9f3a"
             ],
             [
              0.8888888888888888,
              "#fdca26"
             ],
             [
              1,
              "#f0f921"
             ]
            ],
            "type": "contour"
           }
          ],
          "contourcarpet": [
           {
            "colorbar": {
             "outlinewidth": 0,
             "ticks": ""
            },
            "type": "contourcarpet"
           }
          ],
          "heatmap": [
           {
            "colorbar": {
             "outlinewidth": 0,
             "ticks": ""
            },
            "colorscale": [
             [
              0,
              "#0d0887"
             ],
             [
              0.1111111111111111,
              "#46039f"
             ],
             [
              0.2222222222222222,
              "#7201a8"
             ],
             [
              0.3333333333333333,
              "#9c179e"
             ],
             [
              0.4444444444444444,
              "#bd3786"
             ],
             [
              0.5555555555555556,
              "#d8576b"
             ],
             [
              0.6666666666666666,
              "#ed7953"
             ],
             [
              0.7777777777777778,
              "#fb9f3a"
             ],
             [
              0.8888888888888888,
              "#fdca26"
             ],
             [
              1,
              "#f0f921"
             ]
            ],
            "type": "heatmap"
           }
          ],
          "heatmapgl": [
           {
            "colorbar": {
             "outlinewidth": 0,
             "ticks": ""
            },
            "colorscale": [
             [
              0,
              "#0d0887"
             ],
             [
              0.1111111111111111,
              "#46039f"
             ],
             [
              0.2222222222222222,
              "#7201a8"
             ],
             [
              0.3333333333333333,
              "#9c179e"
             ],
             [
              0.4444444444444444,
              "#bd3786"
             ],
             [
              0.5555555555555556,
              "#d8576b"
             ],
             [
              0.6666666666666666,
              "#ed7953"
             ],
             [
              0.7777777777777778,
              "#fb9f3a"
             ],
             [
              0.8888888888888888,
              "#fdca26"
             ],
             [
              1,
              "#f0f921"
             ]
            ],
            "type": "heatmapgl"
           }
          ],
          "histogram": [
           {
            "marker": {
             "pattern": {
              "fillmode": "overlay",
              "size": 10,
              "solidity": 0.2
             }
            },
            "type": "histogram"
           }
          ],
          "histogram2d": [
           {
            "colorbar": {
             "outlinewidth": 0,
             "ticks": ""
            },
            "colorscale": [
             [
              0,
              "#0d0887"
             ],
             [
              0.1111111111111111,
              "#46039f"
             ],
             [
              0.2222222222222222,
              "#7201a8"
             ],
             [
              0.3333333333333333,
              "#9c179e"
             ],
             [
              0.4444444444444444,
              "#bd3786"
             ],
             [
              0.5555555555555556,
              "#d8576b"
             ],
             [
              0.6666666666666666,
              "#ed7953"
             ],
             [
              0.7777777777777778,
              "#fb9f3a"
             ],
             [
              0.8888888888888888,
              "#fdca26"
             ],
             [
              1,
              "#f0f921"
             ]
            ],
            "type": "histogram2d"
           }
          ],
          "histogram2dcontour": [
           {
            "colorbar": {
             "outlinewidth": 0,
             "ticks": ""
            },
            "colorscale": [
             [
              0,
              "#0d0887"
             ],
             [
              0.1111111111111111,
              "#46039f"
             ],
             [
              0.2222222222222222,
              "#7201a8"
             ],
             [
              0.3333333333333333,
              "#9c179e"
             ],
             [
              0.4444444444444444,
              "#bd3786"
             ],
             [
              0.5555555555555556,
              "#d8576b"
             ],
             [
              0.6666666666666666,
              "#ed7953"
             ],
             [
              0.7777777777777778,
              "#fb9f3a"
             ],
             [
              0.8888888888888888,
              "#fdca26"
             ],
             [
              1,
              "#f0f921"
             ]
            ],
            "type": "histogram2dcontour"
           }
          ],
          "mesh3d": [
           {
            "colorbar": {
             "outlinewidth": 0,
             "ticks": ""
            },
            "type": "mesh3d"
           }
          ],
          "parcoords": [
           {
            "line": {
             "colorbar": {
              "outlinewidth": 0,
              "ticks": ""
             }
            },
            "type": "parcoords"
           }
          ],
          "pie": [
           {
            "automargin": true,
            "type": "pie"
           }
          ],
          "scatter": [
           {
            "fillpattern": {
             "fillmode": "overlay",
             "size": 10,
             "solidity": 0.2
            },
            "type": "scatter"
           }
          ],
          "scatter3d": [
           {
            "line": {
             "colorbar": {
              "outlinewidth": 0,
              "ticks": ""
             }
            },
            "marker": {
             "colorbar": {
              "outlinewidth": 0,
              "ticks": ""
             }
            },
            "type": "scatter3d"
           }
          ],
          "scattercarpet": [
           {
            "marker": {
             "colorbar": {
              "outlinewidth": 0,
              "ticks": ""
             }
            },
            "type": "scattercarpet"
           }
          ],
          "scattergeo": [
           {
            "marker": {
             "colorbar": {
              "outlinewidth": 0,
              "ticks": ""
             }
            },
            "type": "scattergeo"
           }
          ],
          "scattergl": [
           {
            "marker": {
             "colorbar": {
              "outlinewidth": 0,
              "ticks": ""
             }
            },
            "type": "scattergl"
           }
          ],
          "scattermapbox": [
           {
            "marker": {
             "colorbar": {
              "outlinewidth": 0,
              "ticks": ""
             }
            },
            "type": "scattermapbox"
           }
          ],
          "scatterpolar": [
           {
            "marker": {
             "colorbar": {
              "outlinewidth": 0,
              "ticks": ""
             }
            },
            "type": "scatterpolar"
           }
          ],
          "scatterpolargl": [
           {
            "marker": {
             "colorbar": {
              "outlinewidth": 0,
              "ticks": ""
             }
            },
            "type": "scatterpolargl"
           }
          ],
          "scatterternary": [
           {
            "marker": {
             "colorbar": {
              "outlinewidth": 0,
              "ticks": ""
             }
            },
            "type": "scatterternary"
           }
          ],
          "surface": [
           {
            "colorbar": {
             "outlinewidth": 0,
             "ticks": ""
            },
            "colorscale": [
             [
              0,
              "#0d0887"
             ],
             [
              0.1111111111111111,
              "#46039f"
             ],
             [
              0.2222222222222222,
              "#7201a8"
             ],
             [
              0.3333333333333333,
              "#9c179e"
             ],
             [
              0.4444444444444444,
              "#bd3786"
             ],
             [
              0.5555555555555556,
              "#d8576b"
             ],
             [
              0.6666666666666666,
              "#ed7953"
             ],
             [
              0.7777777777777778,
              "#fb9f3a"
             ],
             [
              0.8888888888888888,
              "#fdca26"
             ],
             [
              1,
              "#f0f921"
             ]
            ],
            "type": "surface"
           }
          ],
          "table": [
           {
            "cells": {
             "fill": {
              "color": "#EBF0F8"
             },
             "line": {
              "color": "white"
             }
            },
            "header": {
             "fill": {
              "color": "#C8D4E3"
             },
             "line": {
              "color": "white"
             }
            },
            "type": "table"
           }
          ]
         },
         "layout": {
          "annotationdefaults": {
           "arrowcolor": "#2a3f5f",
           "arrowhead": 0,
           "arrowwidth": 1
          },
          "autotypenumbers": "strict",
          "coloraxis": {
           "colorbar": {
            "outlinewidth": 0,
            "ticks": ""
           }
          },
          "colorscale": {
           "diverging": [
            [
             0,
             "#8e0152"
            ],
            [
             0.1,
             "#c51b7d"
            ],
            [
             0.2,
             "#de77ae"
            ],
            [
             0.3,
             "#f1b6da"
            ],
            [
             0.4,
             "#fde0ef"
            ],
            [
             0.5,
             "#f7f7f7"
            ],
            [
             0.6,
             "#e6f5d0"
            ],
            [
             0.7,
             "#b8e186"
            ],
            [
             0.8,
             "#7fbc41"
            ],
            [
             0.9,
             "#4d9221"
            ],
            [
             1,
             "#276419"
            ]
           ],
           "sequential": [
            [
             0,
             "#0d0887"
            ],
            [
             0.1111111111111111,
             "#46039f"
            ],
            [
             0.2222222222222222,
             "#7201a8"
            ],
            [
             0.3333333333333333,
             "#9c179e"
            ],
            [
             0.4444444444444444,
             "#bd3786"
            ],
            [
             0.5555555555555556,
             "#d8576b"
            ],
            [
             0.6666666666666666,
             "#ed7953"
            ],
            [
             0.7777777777777778,
             "#fb9f3a"
            ],
            [
             0.8888888888888888,
             "#fdca26"
            ],
            [
             1,
             "#f0f921"
            ]
           ],
           "sequentialminus": [
            [
             0,
             "#0d0887"
            ],
            [
             0.1111111111111111,
             "#46039f"
            ],
            [
             0.2222222222222222,
             "#7201a8"
            ],
            [
             0.3333333333333333,
             "#9c179e"
            ],
            [
             0.4444444444444444,
             "#bd3786"
            ],
            [
             0.5555555555555556,
             "#d8576b"
            ],
            [
             0.6666666666666666,
             "#ed7953"
            ],
            [
             0.7777777777777778,
             "#fb9f3a"
            ],
            [
             0.8888888888888888,
             "#fdca26"
            ],
            [
             1,
             "#f0f921"
            ]
           ]
          },
          "colorway": [
           "#636efa",
           "#EF553B",
           "#00cc96",
           "#ab63fa",
           "#FFA15A",
           "#19d3f3",
           "#FF6692",
           "#B6E880",
           "#FF97FF",
           "#FECB52"
          ],
          "font": {
           "color": "#2a3f5f"
          },
          "geo": {
           "bgcolor": "white",
           "lakecolor": "white",
           "landcolor": "#E5ECF6",
           "showlakes": true,
           "showland": true,
           "subunitcolor": "white"
          },
          "hoverlabel": {
           "align": "left"
          },
          "hovermode": "closest",
          "mapbox": {
           "style": "light"
          },
          "paper_bgcolor": "white",
          "plot_bgcolor": "#E5ECF6",
          "polar": {
           "angularaxis": {
            "gridcolor": "white",
            "linecolor": "white",
            "ticks": ""
           },
           "bgcolor": "#E5ECF6",
           "radialaxis": {
            "gridcolor": "white",
            "linecolor": "white",
            "ticks": ""
           }
          },
          "scene": {
           "xaxis": {
            "backgroundcolor": "#E5ECF6",
            "gridcolor": "white",
            "gridwidth": 2,
            "linecolor": "white",
            "showbackground": true,
            "ticks": "",
            "zerolinecolor": "white"
           },
           "yaxis": {
            "backgroundcolor": "#E5ECF6",
            "gridcolor": "white",
            "gridwidth": 2,
            "linecolor": "white",
            "showbackground": true,
            "ticks": "",
            "zerolinecolor": "white"
           },
           "zaxis": {
            "backgroundcolor": "#E5ECF6",
            "gridcolor": "white",
            "gridwidth": 2,
            "linecolor": "white",
            "showbackground": true,
            "ticks": "",
            "zerolinecolor": "white"
           }
          },
          "shapedefaults": {
           "line": {
            "color": "#2a3f5f"
           }
          },
          "ternary": {
           "aaxis": {
            "gridcolor": "white",
            "linecolor": "white",
            "ticks": ""
           },
           "baxis": {
            "gridcolor": "white",
            "linecolor": "white",
            "ticks": ""
           },
           "bgcolor": "#E5ECF6",
           "caxis": {
            "gridcolor": "white",
            "linecolor": "white",
            "ticks": ""
           }
          },
          "title": {
           "x": 0.05
          },
          "xaxis": {
           "automargin": true,
           "gridcolor": "white",
           "linecolor": "white",
           "ticks": "",
           "title": {
            "standoff": 15
           },
           "zerolinecolor": "white",
           "zerolinewidth": 2
          },
          "yaxis": {
           "automargin": true,
           "gridcolor": "white",
           "linecolor": "white",
           "ticks": "",
           "title": {
            "standoff": 15
           },
           "zerolinecolor": "white",
           "zerolinewidth": 2
          }
         }
        },
        "xaxis": {
         "anchor": "y",
         "domain": [
          0,
          1
         ],
         "title": {
          "text": "index"
         }
        },
        "yaxis": {
         "anchor": "x",
         "domain": [
          0,
          1
         ],
         "title": {
          "text": "loss_of_load_p_percentage"
         }
        }
       }
      },
      "text/html": [
       "<div>                            <div id=\"bae79b46-5752-43ac-babc-8166b3367e75\" class=\"plotly-graph-div\" style=\"height:525px; width:100%;\"></div>            <script type=\"text/javascript\">                require([\"plotly\"], function(Plotly) {                    window.PLOTLYENV=window.PLOTLYENV || {};                                    if (document.getElementById(\"bae79b46-5752-43ac-babc-8166b3367e75\")) {                    Plotly.newPlot(                        \"bae79b46-5752-43ac-babc-8166b3367e75\",                        [{\"hovertemplate\":\"quantile=0.05<br>index=%{x}<br>loss_of_load_p_percentage=%{y}<extra></extra>\",\"legendgroup\":\"0.05\",\"line\":{\"color\":\"#636efa\",\"dash\":\"solid\"},\"marker\":{\"symbol\":\"circle\"},\"mode\":\"lines\",\"name\":\"0.05\",\"orientation\":\"v\",\"showlegend\":true,\"x\":[\"2022-01-01 01:00:00\",\"2022-01-01 02:00:00\",\"2022-01-01 03:00:00\",\"2022-01-01 04:00:00\",\"2022-01-01 05:00:00\",\"2022-01-01 06:00:00\",\"2022-01-01 07:00:00\",\"2022-01-01 08:00:00\",\"2022-01-01 09:00:00\",\"2022-01-01 10:00:00\",\"2022-01-01 11:00:00\",\"2022-01-01 12:00:00\",\"2022-01-01 13:00:00\",\"2022-01-01 14:00:00\",\"2022-01-01 15:00:00\",\"2022-01-01 16:00:00\",\"2022-01-01 17:00:00\",\"2022-01-01 18:00:00\",\"2022-01-01 19:00:00\",\"2022-01-01 20:00:00\",\"2022-01-01 21:00:00\",\"2022-01-01 22:00:00\",\"2022-01-01 23:00:00\",\"2022-01-02 00:00:00\",\"2022-01-02 01:00:00\",\"2022-01-02 02:00:00\",\"2022-01-02 03:00:00\",\"2022-01-02 04:00:00\",\"2022-01-02 05:00:00\",\"2022-01-02 06:00:00\",\"2022-01-02 07:00:00\",\"2022-01-02 08:00:00\",\"2022-01-02 09:00:00\",\"2022-01-02 10:00:00\",\"2022-01-02 11:00:00\",\"2022-01-02 12:00:00\",\"2022-01-02 13:00:00\",\"2022-01-02 14:00:00\",\"2022-01-02 15:00:00\",\"2022-01-02 16:00:00\"],\"xaxis\":\"x\",\"y\":[-9.970656516919668e-07,-9.955580696286417e-07,-9.94265816047044e-07,-9.953463209823906e-07,-9.960436116585154e-07,-9.965290061048397e-07,-9.9572240655426e-07,-9.934088906765186e-07,-9.968539395401375e-07,-9.96344423381623e-07,-9.931091021262558e-07,-9.958114138023234e-07,0.325413844349658,4.2530554173393655,6.7729628196848175,14.385590912396898,12.500694174573388,7.284811387784451,3.0636767202606987,12.218682138045933,4.804408201165773,3.8441972721113147,4.549997306791384,1.0651024788810657,-9.977151162121972e-07,-9.92996486838891e-07,-9.927822970877815e-07,-9.973794803817934e-07,-9.79490467269985e-07,-9.968269672929332e-07,-9.9736075625475e-07,-9.961801234642144e-07,-9.939849925764249e-07,-9.958433213754204e-07,-9.962211483648333e-07,-9.969341404719008e-07,-9.963153147309557e-07,-9.956343366593858e-07,-9.961663650580382e-07,-9.93841115170004e-07],\"yaxis\":\"y\",\"type\":\"scatter\"},{\"hovertemplate\":\"quantile=0.25<br>index=%{x}<br>loss_of_load_p_percentage=%{y}<extra></extra>\",\"legendgroup\":\"0.25\",\"line\":{\"color\":\"#EF553B\",\"dash\":\"solid\"},\"marker\":{\"symbol\":\"circle\"},\"mode\":\"lines\",\"name\":\"0.25\",\"orientation\":\"v\",\"showlegend\":true,\"x\":[\"2022-01-01 01:00:00\",\"2022-01-01 02:00:00\",\"2022-01-01 03:00:00\",\"2022-01-01 04:00:00\",\"2022-01-01 05:00:00\",\"2022-01-01 06:00:00\",\"2022-01-01 07:00:00\",\"2022-01-01 08:00:00\",\"2022-01-01 09:00:00\",\"2022-01-01 10:00:00\",\"2022-01-01 11:00:00\",\"2022-01-01 12:00:00\",\"2022-01-01 13:00:00\",\"2022-01-01 14:00:00\",\"2022-01-01 15:00:00\",\"2022-01-01 16:00:00\",\"2022-01-01 17:00:00\",\"2022-01-01 18:00:00\",\"2022-01-01 19:00:00\",\"2022-01-01 20:00:00\",\"2022-01-01 21:00:00\",\"2022-01-01 22:00:00\",\"2022-01-01 23:00:00\",\"2022-01-02 00:00:00\",\"2022-01-02 01:00:00\",\"2022-01-02 02:00:00\",\"2022-01-02 03:00:00\",\"2022-01-02 04:00:00\",\"2022-01-02 05:00:00\",\"2022-01-02 06:00:00\",\"2022-01-02 07:00:00\",\"2022-01-02 08:00:00\",\"2022-01-02 09:00:00\",\"2022-01-02 10:00:00\",\"2022-01-02 11:00:00\",\"2022-01-02 12:00:00\",\"2022-01-02 13:00:00\",\"2022-01-02 14:00:00\",\"2022-01-02 15:00:00\",\"2022-01-02 16:00:00\"],\"xaxis\":\"x\",\"y\":[-9.970656516919668e-07,-9.955580696286417e-07,-9.94265816047044e-07,-9.953463209823906e-07,-9.960436116585154e-07,-9.965290061048397e-07,-9.9572240655426e-07,-9.934088906765186e-07,-9.968539395401375e-07,-9.96344423381623e-07,-9.931091021262558e-07,-9.958113258199742e-07,1.6270732060293867,4.253055417369534,11.79792728048326,14.385919941098749,13.474429692290201,9.292072894231968,15.031142047587254,15.14054510534274,8.725499049273896,3.958922895974043,22.749990495446582,5.325516376625957,-9.974156824115448e-07,-9.92996486838891e-07,-9.927822659129969e-07,-9.973794803817934e-07,-9.79490467269985e-07,-9.968269672929332e-07,-9.9736075625475e-07,-9.961801234642144e-07,-9.939849925764249e-07,-9.958433213754204e-07,-9.962211483648333e-07,-9.969341404719008e-07,-9.963153147309557e-07,-9.956343366593858e-07,-9.961663650580382e-07,-9.93841115170004e-07],\"yaxis\":\"y\",\"type\":\"scatter\"},{\"hovertemplate\":\"quantile=0.5<br>index=%{x}<br>loss_of_load_p_percentage=%{y}<extra></extra>\",\"legendgroup\":\"0.5\",\"line\":{\"color\":\"#00cc96\",\"dash\":\"solid\"},\"marker\":{\"symbol\":\"circle\"},\"mode\":\"lines\",\"name\":\"0.5\",\"orientation\":\"v\",\"showlegend\":true,\"x\":[\"2022-01-01 01:00:00\",\"2022-01-01 02:00:00\",\"2022-01-01 03:00:00\",\"2022-01-01 04:00:00\",\"2022-01-01 05:00:00\",\"2022-01-01 06:00:00\",\"2022-01-01 07:00:00\",\"2022-01-01 08:00:00\",\"2022-01-01 09:00:00\",\"2022-01-01 10:00:00\",\"2022-01-01 11:00:00\",\"2022-01-01 12:00:00\",\"2022-01-01 13:00:00\",\"2022-01-01 14:00:00\",\"2022-01-01 15:00:00\",\"2022-01-01 16:00:00\",\"2022-01-01 17:00:00\",\"2022-01-01 18:00:00\",\"2022-01-01 19:00:00\",\"2022-01-01 20:00:00\",\"2022-01-01 21:00:00\",\"2022-01-01 22:00:00\",\"2022-01-01 23:00:00\",\"2022-01-02 00:00:00\",\"2022-01-02 01:00:00\",\"2022-01-02 02:00:00\",\"2022-01-02 03:00:00\",\"2022-01-02 04:00:00\",\"2022-01-02 05:00:00\",\"2022-01-02 06:00:00\",\"2022-01-02 07:00:00\",\"2022-01-02 08:00:00\",\"2022-01-02 09:00:00\",\"2022-01-02 10:00:00\",\"2022-01-02 11:00:00\",\"2022-01-02 12:00:00\",\"2022-01-02 13:00:00\",\"2022-01-02 14:00:00\",\"2022-01-02 15:00:00\",\"2022-01-02 16:00:00\"],\"xaxis\":\"x\",\"y\":[-9.970656516919668e-07,-9.955580696286417e-07,-9.94265816047044e-07,-9.953463209823906e-07,-9.960436116585154e-07,-9.965290061048397e-07,-9.9572240655426e-07,-9.934088906765186e-07,-9.968539395401375e-07,-9.96344423381623e-07,-9.931091021262558e-07,0.80364762375454,3.3237800370121175,6.938023063520266,16.650023821569736,23.510482921289203,14.198427730929868,13.519930358120074,20.05349162611009,22.1020967027,10.359286902652387,4.006725239250179,30.33332099072188,9.945437492009235,2.5851712800128777,-9.92996486838891e-07,-9.927822529235031e-07,-9.973794803817934e-07,-9.79490467269985e-07,-9.968269672929332e-07,-9.9736075625475e-07,-9.961801234642144e-07,-9.939849925764249e-07,-9.958433213754204e-07,-9.962211483648333e-07,-9.969341404719008e-07,-9.963153147309557e-07,-9.956343366593858e-07,-9.961663650580382e-07,-9.93841115170004e-07],\"yaxis\":\"y\",\"type\":\"scatter\"},{\"hovertemplate\":\"quantile=0.75<br>index=%{x}<br>loss_of_load_p_percentage=%{y}<extra></extra>\",\"legendgroup\":\"0.75\",\"line\":{\"color\":\"#ab63fa\",\"dash\":\"solid\"},\"marker\":{\"symbol\":\"circle\"},\"mode\":\"lines\",\"name\":\"0.75\",\"orientation\":\"v\",\"showlegend\":true,\"x\":[\"2022-01-01 01:00:00\",\"2022-01-01 02:00:00\",\"2022-01-01 03:00:00\",\"2022-01-01 04:00:00\",\"2022-01-01 05:00:00\",\"2022-01-01 06:00:00\",\"2022-01-01 07:00:00\",\"2022-01-01 08:00:00\",\"2022-01-01 09:00:00\",\"2022-01-01 10:00:00\",\"2022-01-01 11:00:00\",\"2022-01-01 12:00:00\",\"2022-01-01 13:00:00\",\"2022-01-01 14:00:00\",\"2022-01-01 15:00:00\",\"2022-01-01 16:00:00\",\"2022-01-01 17:00:00\",\"2022-01-01 18:00:00\",\"2022-01-01 19:00:00\",\"2022-01-01 20:00:00\",\"2022-01-01 21:00:00\",\"2022-01-01 22:00:00\",\"2022-01-01 23:00:00\",\"2022-01-02 00:00:00\",\"2022-01-02 01:00:00\",\"2022-01-02 02:00:00\",\"2022-01-02 03:00:00\",\"2022-01-02 04:00:00\",\"2022-01-02 05:00:00\",\"2022-01-02 06:00:00\",\"2022-01-02 07:00:00\",\"2022-01-02 08:00:00\",\"2022-01-02 09:00:00\",\"2022-01-02 10:00:00\",\"2022-01-02 11:00:00\",\"2022-01-02 12:00:00\",\"2022-01-02 13:00:00\",\"2022-01-02 14:00:00\",\"2022-01-02 15:00:00\",\"2022-01-02 16:00:00\"],\"xaxis\":\"x\",\"y\":[-9.970656516919668e-07,-9.955580696286417e-07,-9.94265816047044e-07,-9.953463209823906e-07,-9.960436116585154e-07,-9.965290061048397e-07,-9.9572240655426e-07,-9.934088906765186e-07,-9.968539395401375e-07,-9.96344423381623e-07,-9.931091021262558e-07,3.2413586329968482,5.09904380354587,9.62299070974602,19.408385170656864,33.354490363258584,19.674693354071575,16.911428860988455,20.08939731852838,27.846205397016917,10.359286902652496,4.006725239317243,30.333320990724182,12.790186149998823,6.229280708478749,1.3986377014396085,-9.927822529235031e-07,-9.973794803817934e-07,-9.79490467269985e-07,-9.968269672929332e-07,-9.9736075625475e-07,-9.961801234642144e-07,-9.939849925764249e-07,-9.958433213754204e-07,-9.962211483648333e-07,-9.969341404719008e-07,-9.963153147309557e-07,-9.956343366593858e-07,-9.961663650580382e-07,-9.93841115170004e-07],\"yaxis\":\"y\",\"type\":\"scatter\"},{\"hovertemplate\":\"quantile=0.95<br>index=%{x}<br>loss_of_load_p_percentage=%{y}<extra></extra>\",\"legendgroup\":\"0.95\",\"line\":{\"color\":\"#FFA15A\",\"dash\":\"solid\"},\"marker\":{\"symbol\":\"circle\"},\"mode\":\"lines\",\"name\":\"0.95\",\"orientation\":\"v\",\"showlegend\":true,\"x\":[\"2022-01-01 01:00:00\",\"2022-01-01 02:00:00\",\"2022-01-01 03:00:00\",\"2022-01-01 04:00:00\",\"2022-01-01 05:00:00\",\"2022-01-01 06:00:00\",\"2022-01-01 07:00:00\",\"2022-01-01 08:00:00\",\"2022-01-01 09:00:00\",\"2022-01-01 10:00:00\",\"2022-01-01 11:00:00\",\"2022-01-01 12:00:00\",\"2022-01-01 13:00:00\",\"2022-01-01 14:00:00\",\"2022-01-01 15:00:00\",\"2022-01-01 16:00:00\",\"2022-01-01 17:00:00\",\"2022-01-01 18:00:00\",\"2022-01-01 19:00:00\",\"2022-01-01 20:00:00\",\"2022-01-01 21:00:00\",\"2022-01-01 22:00:00\",\"2022-01-01 23:00:00\",\"2022-01-02 00:00:00\",\"2022-01-02 01:00:00\",\"2022-01-02 02:00:00\",\"2022-01-02 03:00:00\",\"2022-01-02 04:00:00\",\"2022-01-02 05:00:00\",\"2022-01-02 06:00:00\",\"2022-01-02 07:00:00\",\"2022-01-02 08:00:00\",\"2022-01-02 09:00:00\",\"2022-01-02 10:00:00\",\"2022-01-02 11:00:00\",\"2022-01-02 12:00:00\",\"2022-01-02 13:00:00\",\"2022-01-02 14:00:00\",\"2022-01-02 15:00:00\",\"2022-01-02 16:00:00\"],\"xaxis\":\"x\",\"y\":[-9.970656516919668e-07,-9.955580696286417e-07,-9.94265816047044e-07,-9.953463209823906e-07,-9.960436116585154e-07,-9.965290061048397e-07,-9.9572240655426e-07,-9.934088906765186e-07,-9.968539395401375e-07,-9.96344423381623e-07,-9.931091021262558e-07,7.1631083682203975,6.58923981054805,9.622990709956241,19.408385170656864,35.08148610022987,32.05387107459327,16.911428860988632,20.08939731920404,27.846205397016917,10.359286902652496,4.006725239478196,30.3333209907242,12.790186149998847,8.770729871267728,4.755370568086235,-9.927822529235031e-07,-9.973794803817934e-07,-9.79490467269985e-07,-9.968269672929332e-07,-9.9736075625475e-07,-9.961801234642144e-07,-9.939849925764249e-07,-9.958433213754204e-07,-9.962211483648333e-07,-9.969341404719008e-07,-9.963153147309557e-07,-9.956343366593858e-07,-9.961663650580382e-07,-9.93841115170004e-07],\"yaxis\":\"y\",\"type\":\"scatter\"}],                        {\"template\":{\"data\":{\"histogram2dcontour\":[{\"type\":\"histogram2dcontour\",\"colorbar\":{\"outlinewidth\":0,\"ticks\":\"\"},\"colorscale\":[[0.0,\"#0d0887\"],[0.1111111111111111,\"#46039f\"],[0.2222222222222222,\"#7201a8\"],[0.3333333333333333,\"#9c179e\"],[0.4444444444444444,\"#bd3786\"],[0.5555555555555556,\"#d8576b\"],[0.6666666666666666,\"#ed7953\"],[0.7777777777777778,\"#fb9f3a\"],[0.8888888888888888,\"#fdca26\"],[1.0,\"#f0f921\"]]}],\"choropleth\":[{\"type\":\"choropleth\",\"colorbar\":{\"outlinewidth\":0,\"ticks\":\"\"}}],\"histogram2d\":[{\"type\":\"histogram2d\",\"colorbar\":{\"outlinewidth\":0,\"ticks\":\"\"},\"colorscale\":[[0.0,\"#0d0887\"],[0.1111111111111111,\"#46039f\"],[0.2222222222222222,\"#7201a8\"],[0.3333333333333333,\"#9c179e\"],[0.4444444444444444,\"#bd3786\"],[0.5555555555555556,\"#d8576b\"],[0.6666666666666666,\"#ed7953\"],[0.7777777777777778,\"#fb9f3a\"],[0.8888888888888888,\"#fdca26\"],[1.0,\"#f0f921\"]]}],\"heatmap\":[{\"type\":\"heatmap\",\"colorbar\":{\"outlinewidth\":0,\"ticks\":\"\"},\"colorscale\":[[0.0,\"#0d0887\"],[0.1111111111111111,\"#46039f\"],[0.2222222222222222,\"#7201a8\"],[0.3333333333333333,\"#9c179e\"],[0.4444444444444444,\"#bd3786\"],[0.5555555555555556,\"#d8576b\"],[0.6666666666666666,\"#ed7953\"],[0.7777777777777778,\"#fb9f3a\"],[0.8888888888888888,\"#fdca26\"],[1.0,\"#f0f921\"]]}],\"heatmapgl\":[{\"type\":\"heatmapgl\",\"colorbar\":{\"outlinewidth\":0,\"ticks\":\"\"},\"colorscale\":[[0.0,\"#0d0887\"],[0.1111111111111111,\"#46039f\"],[0.2222222222222222,\"#7201a8\"],[0.3333333333333333,\"#9c179e\"],[0.4444444444444444,\"#bd3786\"],[0.5555555555555556,\"#d8576b\"],[0.6666666666666666,\"#ed7953\"],[0.7777777777777778,\"#fb9f3a\"],[0.8888888888888888,\"#fdca26\"],[1.0,\"#f0f921\"]]}],\"contourcarpet\":[{\"type\":\"contourcarpet\",\"colorbar\":{\"outlinewidth\":0,\"ticks\":\"\"}}],\"contour\":[{\"type\":\"contour\",\"colorbar\":{\"outlinewidth\":0,\"ticks\":\"\"},\"colorscale\":[[0.0,\"#0d0887\"],[0.1111111111111111,\"#46039f\"],[0.2222222222222222,\"#7201a8\"],[0.3333333333333333,\"#9c179e\"],[0.4444444444444444,\"#bd3786\"],[0.5555555555555556,\"#d8576b\"],[0.6666666666666666,\"#ed7953\"],[0.7777777777777778,\"#fb9f3a\"],[0.8888888888888888,\"#fdca26\"],[1.0,\"#f0f921\"]]}],\"surface\":[{\"type\":\"surface\",\"colorbar\":{\"outlinewidth\":0,\"ticks\":\"\"},\"colorscale\":[[0.0,\"#0d0887\"],[0.1111111111111111,\"#46039f\"],[0.2222222222222222,\"#7201a8\"],[0.3333333333333333,\"#9c179e\"],[0.4444444444444444,\"#bd3786\"],[0.5555555555555556,\"#d8576b\"],[0.6666666666666666,\"#ed7953\"],[0.7777777777777778,\"#fb9f3a\"],[0.8888888888888888,\"#fdca26\"],[1.0,\"#f0f921\"]]}],\"mesh3d\":[{\"type\":\"mesh3d\",\"colorbar\":{\"outlinewidth\":0,\"ticks\":\"\"}}],\"scatter\":[{\"fillpattern\":{\"fillmode\":\"overlay\",\"size\":10,\"solidity\":0.2},\"type\":\"scatter\"}],\"parcoords\":[{\"type\":\"parcoords\",\"line\":{\"colorbar\":{\"outlinewidth\":0,\"ticks\":\"\"}}}],\"scatterpolargl\":[{\"type\":\"scatterpolargl\",\"marker\":{\"colorbar\":{\"outlinewidth\":0,\"ticks\":\"\"}}}],\"bar\":[{\"error_x\":{\"color\":\"#2a3f5f\"},\"error_y\":{\"color\":\"#2a3f5f\"},\"marker\":{\"line\":{\"color\":\"#E5ECF6\",\"width\":0.5},\"pattern\":{\"fillmode\":\"overlay\",\"size\":10,\"solidity\":0.2}},\"type\":\"bar\"}],\"scattergeo\":[{\"type\":\"scattergeo\",\"marker\":{\"colorbar\":{\"outlinewidth\":0,\"ticks\":\"\"}}}],\"scatterpolar\":[{\"type\":\"scatterpolar\",\"marker\":{\"colorbar\":{\"outlinewidth\":0,\"ticks\":\"\"}}}],\"histogram\":[{\"marker\":{\"pattern\":{\"fillmode\":\"overlay\",\"size\":10,\"solidity\":0.2}},\"type\":\"histogram\"}],\"scattergl\":[{\"type\":\"scattergl\",\"marker\":{\"colorbar\":{\"outlinewidth\":0,\"ticks\":\"\"}}}],\"scatter3d\":[{\"type\":\"scatter3d\",\"line\":{\"colorbar\":{\"outlinewidth\":0,\"ticks\":\"\"}},\"marker\":{\"colorbar\":{\"outlinewidth\":0,\"ticks\":\"\"}}}],\"scattermapbox\":[{\"type\":\"scattermapbox\",\"marker\":{\"colorbar\":{\"outlinewidth\":0,\"ticks\":\"\"}}}],\"scatterternary\":[{\"type\":\"scatterternary\",\"marker\":{\"colorbar\":{\"outlinewidth\":0,\"ticks\":\"\"}}}],\"scattercarpet\":[{\"type\":\"scattercarpet\",\"marker\":{\"colorbar\":{\"outlinewidth\":0,\"ticks\":\"\"}}}],\"carpet\":[{\"aaxis\":{\"endlinecolor\":\"#2a3f5f\",\"gridcolor\":\"white\",\"linecolor\":\"white\",\"minorgridcolor\":\"white\",\"startlinecolor\":\"#2a3f5f\"},\"baxis\":{\"endlinecolor\":\"#2a3f5f\",\"gridcolor\":\"white\",\"linecolor\":\"white\",\"minorgridcolor\":\"white\",\"startlinecolor\":\"#2a3f5f\"},\"type\":\"carpet\"}],\"table\":[{\"cells\":{\"fill\":{\"color\":\"#EBF0F8\"},\"line\":{\"color\":\"white\"}},\"header\":{\"fill\":{\"color\":\"#C8D4E3\"},\"line\":{\"color\":\"white\"}},\"type\":\"table\"}],\"barpolar\":[{\"marker\":{\"line\":{\"color\":\"#E5ECF6\",\"width\":0.5},\"pattern\":{\"fillmode\":\"overlay\",\"size\":10,\"solidity\":0.2}},\"type\":\"barpolar\"}],\"pie\":[{\"automargin\":true,\"type\":\"pie\"}]},\"layout\":{\"autotypenumbers\":\"strict\",\"colorway\":[\"#636efa\",\"#EF553B\",\"#00cc96\",\"#ab63fa\",\"#FFA15A\",\"#19d3f3\",\"#FF6692\",\"#B6E880\",\"#FF97FF\",\"#FECB52\"],\"font\":{\"color\":\"#2a3f5f\"},\"hovermode\":\"closest\",\"hoverlabel\":{\"align\":\"left\"},\"paper_bgcolor\":\"white\",\"plot_bgcolor\":\"#E5ECF6\",\"polar\":{\"bgcolor\":\"#E5ECF6\",\"angularaxis\":{\"gridcolor\":\"white\",\"linecolor\":\"white\",\"ticks\":\"\"},\"radialaxis\":{\"gridcolor\":\"white\",\"linecolor\":\"white\",\"ticks\":\"\"}},\"ternary\":{\"bgcolor\":\"#E5ECF6\",\"aaxis\":{\"gridcolor\":\"white\",\"linecolor\":\"white\",\"ticks\":\"\"},\"baxis\":{\"gridcolor\":\"white\",\"linecolor\":\"white\",\"ticks\":\"\"},\"caxis\":{\"gridcolor\":\"white\",\"linecolor\":\"white\",\"ticks\":\"\"}},\"coloraxis\":{\"colorbar\":{\"outlinewidth\":0,\"ticks\":\"\"}},\"colorscale\":{\"sequential\":[[0.0,\"#0d0887\"],[0.1111111111111111,\"#46039f\"],[0.2222222222222222,\"#7201a8\"],[0.3333333333333333,\"#9c179e\"],[0.4444444444444444,\"#bd3786\"],[0.5555555555555556,\"#d8576b\"],[0.6666666666666666,\"#ed7953\"],[0.7777777777777778,\"#fb9f3a\"],[0.8888888888888888,\"#fdca26\"],[1.0,\"#f0f921\"]],\"sequentialminus\":[[0.0,\"#0d0887\"],[0.1111111111111111,\"#46039f\"],[0.2222222222222222,\"#7201a8\"],[0.3333333333333333,\"#9c179e\"],[0.4444444444444444,\"#bd3786\"],[0.5555555555555556,\"#d8576b\"],[0.6666666666666666,\"#ed7953\"],[0.7777777777777778,\"#fb9f3a\"],[0.8888888888888888,\"#fdca26\"],[1.0,\"#f0f921\"]],\"diverging\":[[0,\"#8e0152\"],[0.1,\"#c51b7d\"],[0.2,\"#de77ae\"],[0.3,\"#f1b6da\"],[0.4,\"#fde0ef\"],[0.5,\"#f7f7f7\"],[0.6,\"#e6f5d0\"],[0.7,\"#b8e186\"],[0.8,\"#7fbc41\"],[0.9,\"#4d9221\"],[1,\"#276419\"]]},\"xaxis\":{\"gridcolor\":\"white\",\"linecolor\":\"white\",\"ticks\":\"\",\"title\":{\"standoff\":15},\"zerolinecolor\":\"white\",\"automargin\":true,\"zerolinewidth\":2},\"yaxis\":{\"gridcolor\":\"white\",\"linecolor\":\"white\",\"ticks\":\"\",\"title\":{\"standoff\":15},\"zerolinecolor\":\"white\",\"automargin\":true,\"zerolinewidth\":2},\"scene\":{\"xaxis\":{\"backgroundcolor\":\"#E5ECF6\",\"gridcolor\":\"white\",\"linecolor\":\"white\",\"showbackground\":true,\"ticks\":\"\",\"zerolinecolor\":\"white\",\"gridwidth\":2},\"yaxis\":{\"backgroundcolor\":\"#E5ECF6\",\"gridcolor\":\"white\",\"linecolor\":\"white\",\"showbackground\":true,\"ticks\":\"\",\"zerolinecolor\":\"white\",\"gridwidth\":2},\"zaxis\":{\"backgroundcolor\":\"#E5ECF6\",\"gridcolor\":\"white\",\"linecolor\":\"white\",\"showbackground\":true,\"ticks\":\"\",\"zerolinecolor\":\"white\",\"gridwidth\":2}},\"shapedefaults\":{\"line\":{\"color\":\"#2a3f5f\"}},\"annotationdefaults\":{\"arrowcolor\":\"#2a3f5f\",\"arrowhead\":0,\"arrowwidth\":1},\"geo\":{\"bgcolor\":\"white\",\"landcolor\":\"#E5ECF6\",\"subunitcolor\":\"white\",\"showland\":true,\"showlakes\":true,\"lakecolor\":\"white\"},\"title\":{\"x\":0.05},\"mapbox\":{\"style\":\"light\"}}},\"xaxis\":{\"anchor\":\"y\",\"domain\":[0.0,1.0],\"title\":{\"text\":\"index\"}},\"yaxis\":{\"anchor\":\"x\",\"domain\":[0.0,1.0],\"title\":{\"text\":\"loss_of_load_p_percentage\"}},\"legend\":{\"title\":{\"text\":\"quantile\"},\"tracegroupgap\":0},\"margin\":{\"t\":60}},                        {\"responsive\": true}                    ).then(function(){\n",
       "                            \n",
       "var gd = document.getElementById('bae79b46-5752-43ac-babc-8166b3367e75');\n",
       "var x = new MutationObserver(function (mutations, observer) {{\n",
       "        var display = window.getComputedStyle(gd).display;\n",
       "        if (!display || display === 'none') {{\n",
       "            console.log([gd, 'removed!']);\n",
       "            Plotly.purge(gd);\n",
       "            observer.disconnect();\n",
       "        }}\n",
       "}});\n",
       "\n",
       "// Listen for the removal of the full notebook cells\n",
       "var notebookContainer = gd.closest('#notebook-container');\n",
       "if (notebookContainer) {{\n",
       "    x.observe(notebookContainer, {childList: true});\n",
       "}}\n",
       "\n",
       "// Listen for the clearing of the current output cell\n",
       "var outputEl = gd.closest('.output');\n",
       "if (outputEl) {{\n",
       "    x.observe(outputEl, {childList: true});\n",
       "}}\n",
       "\n",
       "                        })                };                });            </script>        </div>"
      ]
     },
     "metadata": {},
     "output_type": "display_data"
    }
   ],
   "source": [
    "px.line(df_load_quantiles, x=df_load_quantiles.index, y = 'loss_of_load_p_percentage', color = 'quantile')"
   ]
  },
  {
   "cell_type": "code",
   "execution_count": 32,
   "id": "surface-wrong",
   "metadata": {},
   "outputs": [
    {
     "data": {
      "application/vnd.plotly.v1+json": {
       "config": {
        "plotlyServerURL": "https://plot.ly"
       },
       "data": [
        {
         "hovertemplate": "index=%{x}<br>energy_not_served_mwh=%{y}<extra></extra>",
         "legendgroup": "",
         "marker": {
          "color": "#636efa",
          "symbol": "circle"
         },
         "mode": "markers",
         "name": "",
         "orientation": "v",
         "showlegend": false,
         "type": "scatter",
         "x": [
          "2022-01-01 01:00:00",
          "2022-01-01 01:00:00",
          "2022-01-01 01:00:00",
          "2022-01-01 01:00:00",
          "2022-01-01 02:00:00",
          "2022-01-01 02:00:00",
          "2022-01-01 02:00:00",
          "2022-01-01 02:00:00",
          "2022-01-01 03:00:00",
          "2022-01-01 03:00:00",
          "2022-01-01 03:00:00",
          "2022-01-01 03:00:00",
          "2022-01-01 04:00:00",
          "2022-01-01 04:00:00",
          "2022-01-01 04:00:00",
          "2022-01-01 04:00:00",
          "2022-01-01 05:00:00",
          "2022-01-01 05:00:00",
          "2022-01-01 05:00:00",
          "2022-01-01 05:00:00",
          "2022-01-01 06:00:00",
          "2022-01-01 06:00:00",
          "2022-01-01 06:00:00",
          "2022-01-01 06:00:00",
          "2022-01-01 07:00:00",
          "2022-01-01 07:00:00",
          "2022-01-01 07:00:00",
          "2022-01-01 07:00:00",
          "2022-01-01 08:00:00",
          "2022-01-01 08:00:00",
          "2022-01-01 08:00:00",
          "2022-01-01 08:00:00",
          "2022-01-01 09:00:00",
          "2022-01-01 09:00:00",
          "2022-01-01 09:00:00",
          "2022-01-01 09:00:00",
          "2022-01-01 10:00:00",
          "2022-01-01 10:00:00",
          "2022-01-01 10:00:00",
          "2022-01-01 10:00:00",
          "2022-01-01 11:00:00",
          "2022-01-01 11:00:00",
          "2022-01-01 11:00:00",
          "2022-01-01 11:00:00",
          "2022-01-01 12:00:00",
          "2022-01-01 12:00:00",
          "2022-01-01 12:00:00",
          "2022-01-01 12:00:00",
          "2022-01-01 13:00:00",
          "2022-01-01 13:00:00",
          "2022-01-01 13:00:00",
          "2022-01-01 13:00:00",
          "2022-01-01 14:00:00",
          "2022-01-01 14:00:00",
          "2022-01-01 14:00:00",
          "2022-01-01 14:00:00",
          "2022-01-01 15:00:00",
          "2022-01-01 15:00:00",
          "2022-01-01 15:00:00",
          "2022-01-01 15:00:00",
          "2022-01-01 16:00:00",
          "2022-01-01 16:00:00",
          "2022-01-01 16:00:00",
          "2022-01-01 16:00:00",
          "2022-01-01 17:00:00",
          "2022-01-01 17:00:00",
          "2022-01-01 17:00:00",
          "2022-01-01 17:00:00",
          "2022-01-01 18:00:00",
          "2022-01-01 18:00:00",
          "2022-01-01 18:00:00",
          "2022-01-01 18:00:00",
          "2022-01-01 19:00:00",
          "2022-01-01 19:00:00",
          "2022-01-01 19:00:00",
          "2022-01-01 19:00:00",
          "2022-01-01 20:00:00",
          "2022-01-01 20:00:00",
          "2022-01-01 20:00:00",
          "2022-01-01 20:00:00",
          "2022-01-01 21:00:00",
          "2022-01-01 21:00:00",
          "2022-01-01 21:00:00",
          "2022-01-01 21:00:00",
          "2022-01-01 22:00:00",
          "2022-01-01 22:00:00",
          "2022-01-01 22:00:00",
          "2022-01-01 22:00:00",
          "2022-01-01 23:00:00",
          "2022-01-01 23:00:00",
          "2022-01-01 23:00:00",
          "2022-01-01 23:00:00",
          "2022-01-02 00:00:00",
          "2022-01-02 00:00:00",
          "2022-01-02 00:00:00",
          "2022-01-02 00:00:00",
          "2022-01-02 01:00:00",
          "2022-01-02 01:00:00",
          "2022-01-02 01:00:00",
          "2022-01-02 01:00:00",
          "2022-01-02 02:00:00",
          "2022-01-02 02:00:00",
          "2022-01-02 02:00:00",
          "2022-01-02 02:00:00",
          "2022-01-02 03:00:00",
          "2022-01-02 03:00:00",
          "2022-01-02 03:00:00",
          "2022-01-02 03:00:00",
          "2022-01-02 04:00:00",
          "2022-01-02 04:00:00",
          "2022-01-02 04:00:00",
          "2022-01-02 04:00:00",
          "2022-01-02 05:00:00",
          "2022-01-02 05:00:00",
          "2022-01-02 05:00:00",
          "2022-01-02 05:00:00",
          "2022-01-02 06:00:00",
          "2022-01-02 06:00:00",
          "2022-01-02 06:00:00",
          "2022-01-02 06:00:00",
          "2022-01-02 07:00:00",
          "2022-01-02 07:00:00",
          "2022-01-02 07:00:00",
          "2022-01-02 07:00:00",
          "2022-01-02 08:00:00",
          "2022-01-02 08:00:00",
          "2022-01-02 08:00:00",
          "2022-01-02 08:00:00",
          "2022-01-02 09:00:00",
          "2022-01-02 09:00:00",
          "2022-01-02 09:00:00",
          "2022-01-02 09:00:00",
          "2022-01-02 10:00:00",
          "2022-01-02 10:00:00",
          "2022-01-02 10:00:00",
          "2022-01-02 10:00:00",
          "2022-01-02 11:00:00",
          "2022-01-02 11:00:00",
          "2022-01-02 11:00:00",
          "2022-01-02 11:00:00",
          "2022-01-02 12:00:00",
          "2022-01-02 12:00:00",
          "2022-01-02 12:00:00",
          "2022-01-02 12:00:00",
          "2022-01-02 13:00:00",
          "2022-01-02 13:00:00",
          "2022-01-02 13:00:00",
          "2022-01-02 13:00:00",
          "2022-01-02 14:00:00",
          "2022-01-02 14:00:00",
          "2022-01-02 14:00:00",
          "2022-01-02 14:00:00",
          "2022-01-02 15:00:00",
          "2022-01-02 15:00:00",
          "2022-01-02 15:00:00",
          "2022-01-02 15:00:00",
          "2022-01-02 16:00:00",
          "2022-01-02 16:00:00",
          "2022-01-02 16:00:00",
          "2022-01-02 16:00:00"
         ],
         "xaxis": "x",
         "y": [
          0,
          0,
          0,
          0,
          0,
          0,
          0,
          0,
          0,
          0,
          0,
          0,
          0,
          0,
          0,
          0,
          0,
          0,
          0,
          0,
          0,
          0,
          0,
          0,
          0,
          0,
          0,
          0,
          0,
          0,
          0,
          0,
          0,
          0,
          0,
          0,
          0,
          0,
          0,
          0,
          0,
          0,
          0,
          0,
          7.6933698691567,
          0,
          0,
          38.97929768112745,
          11.06707594288185,
          35.5146632544691,
          0,
          22.8445954473063,
          38.87788765291268,
          38.87788765291268,
          17.18279039118044,
          17.18279039118044,
          77.616003493973,
          77.616003493973,
          55.554099997585446,
          22.06190349638763,
          64.7267664566279,
          159.78365973875844,
          64.72429914127338,
          146.83329093101335,
          64.92413194128324,
          164.4071639090813,
          67.90158061968476,
          57.33308546195009,
          37.35473694852975,
          62.37115090125096,
          62.37115090125096,
          25.0164139527212,
          62.39100926010205,
          62.61483167444126,
          62.61483167444126,
          0.223822414339217,
          45.6088178628233,
          77.63989542326885,
          77.63989542326885,
          32.03107756044555,
          64.07735670052796,
          64.07735670052796,
          64.07735670052796,
          23.65418936750405,
          19.57778569673875,
          19.57778569673875,
          19.57778569673875,
          18.6434927305517,
          76.20665515326665,
          76.20665515326665,
          76.20665515326665,
          0,
          32.028143936205055,
          57.6910081561557,
          57.6910081561557,
          0,
          0,
          50.729752021573546,
          27.88514770745945,
          0,
          0,
          16.01493846752495,
          0,
          0,
          0,
          0,
          0,
          0,
          0,
          0,
          0,
          0,
          0,
          0,
          0,
          0,
          0,
          0,
          0,
          0,
          0,
          0,
          0,
          0,
          0,
          0,
          0,
          0,
          0,
          0,
          0,
          0,
          0,
          0,
          0,
          0,
          0,
          0,
          0,
          0,
          0,
          0,
          0,
          0,
          0,
          0,
          0,
          0,
          0,
          0,
          0,
          0,
          0,
          0,
          0,
          0,
          0,
          0,
          0,
          0
         ],
         "yaxis": "y"
        }
       ],
       "layout": {
        "legend": {
         "tracegroupgap": 0
        },
        "margin": {
         "t": 60
        },
        "template": {
         "data": {
          "bar": [
           {
            "error_x": {
             "color": "#2a3f5f"
            },
            "error_y": {
             "color": "#2a3f5f"
            },
            "marker": {
             "line": {
              "color": "#E5ECF6",
              "width": 0.5
             },
             "pattern": {
              "fillmode": "overlay",
              "size": 10,
              "solidity": 0.2
             }
            },
            "type": "bar"
           }
          ],
          "barpolar": [
           {
            "marker": {
             "line": {
              "color": "#E5ECF6",
              "width": 0.5
             },
             "pattern": {
              "fillmode": "overlay",
              "size": 10,
              "solidity": 0.2
             }
            },
            "type": "barpolar"
           }
          ],
          "carpet": [
           {
            "aaxis": {
             "endlinecolor": "#2a3f5f",
             "gridcolor": "white",
             "linecolor": "white",
             "minorgridcolor": "white",
             "startlinecolor": "#2a3f5f"
            },
            "baxis": {
             "endlinecolor": "#2a3f5f",
             "gridcolor": "white",
             "linecolor": "white",
             "minorgridcolor": "white",
             "startlinecolor": "#2a3f5f"
            },
            "type": "carpet"
           }
          ],
          "choropleth": [
           {
            "colorbar": {
             "outlinewidth": 0,
             "ticks": ""
            },
            "type": "choropleth"
           }
          ],
          "contour": [
           {
            "colorbar": {
             "outlinewidth": 0,
             "ticks": ""
            },
            "colorscale": [
             [
              0,
              "#0d0887"
             ],
             [
              0.1111111111111111,
              "#46039f"
             ],
             [
              0.2222222222222222,
              "#7201a8"
             ],
             [
              0.3333333333333333,
              "#9c179e"
             ],
             [
              0.4444444444444444,
              "#bd3786"
             ],
             [
              0.5555555555555556,
              "#d8576b"
             ],
             [
              0.6666666666666666,
              "#ed7953"
             ],
             [
              0.7777777777777778,
              "#fb9f3a"
             ],
             [
              0.8888888888888888,
              "#fdca26"
             ],
             [
              1,
              "#f0f921"
             ]
            ],
            "type": "contour"
           }
          ],
          "contourcarpet": [
           {
            "colorbar": {
             "outlinewidth": 0,
             "ticks": ""
            },
            "type": "contourcarpet"
           }
          ],
          "heatmap": [
           {
            "colorbar": {
             "outlinewidth": 0,
             "ticks": ""
            },
            "colorscale": [
             [
              0,
              "#0d0887"
             ],
             [
              0.1111111111111111,
              "#46039f"
             ],
             [
              0.2222222222222222,
              "#7201a8"
             ],
             [
              0.3333333333333333,
              "#9c179e"
             ],
             [
              0.4444444444444444,
              "#bd3786"
             ],
             [
              0.5555555555555556,
              "#d8576b"
             ],
             [
              0.6666666666666666,
              "#ed7953"
             ],
             [
              0.7777777777777778,
              "#fb9f3a"
             ],
             [
              0.8888888888888888,
              "#fdca26"
             ],
             [
              1,
              "#f0f921"
             ]
            ],
            "type": "heatmap"
           }
          ],
          "heatmapgl": [
           {
            "colorbar": {
             "outlinewidth": 0,
             "ticks": ""
            },
            "colorscale": [
             [
              0,
              "#0d0887"
             ],
             [
              0.1111111111111111,
              "#46039f"
             ],
             [
              0.2222222222222222,
              "#7201a8"
             ],
             [
              0.3333333333333333,
              "#9c179e"
             ],
             [
              0.4444444444444444,
              "#bd3786"
             ],
             [
              0.5555555555555556,
              "#d8576b"
             ],
             [
              0.6666666666666666,
              "#ed7953"
             ],
             [
              0.7777777777777778,
              "#fb9f3a"
             ],
             [
              0.8888888888888888,
              "#fdca26"
             ],
             [
              1,
              "#f0f921"
             ]
            ],
            "type": "heatmapgl"
           }
          ],
          "histogram": [
           {
            "marker": {
             "pattern": {
              "fillmode": "overlay",
              "size": 10,
              "solidity": 0.2
             }
            },
            "type": "histogram"
           }
          ],
          "histogram2d": [
           {
            "colorbar": {
             "outlinewidth": 0,
             "ticks": ""
            },
            "colorscale": [
             [
              0,
              "#0d0887"
             ],
             [
              0.1111111111111111,
              "#46039f"
             ],
             [
              0.2222222222222222,
              "#7201a8"
             ],
             [
              0.3333333333333333,
              "#9c179e"
             ],
             [
              0.4444444444444444,
              "#bd3786"
             ],
             [
              0.5555555555555556,
              "#d8576b"
             ],
             [
              0.6666666666666666,
              "#ed7953"
             ],
             [
              0.7777777777777778,
              "#fb9f3a"
             ],
             [
              0.8888888888888888,
              "#fdca26"
             ],
             [
              1,
              "#f0f921"
             ]
            ],
            "type": "histogram2d"
           }
          ],
          "histogram2dcontour": [
           {
            "colorbar": {
             "outlinewidth": 0,
             "ticks": ""
            },
            "colorscale": [
             [
              0,
              "#0d0887"
             ],
             [
              0.1111111111111111,
              "#46039f"
             ],
             [
              0.2222222222222222,
              "#7201a8"
             ],
             [
              0.3333333333333333,
              "#9c179e"
             ],
             [
              0.4444444444444444,
              "#bd3786"
             ],
             [
              0.5555555555555556,
              "#d8576b"
             ],
             [
              0.6666666666666666,
              "#ed7953"
             ],
             [
              0.7777777777777778,
              "#fb9f3a"
             ],
             [
              0.8888888888888888,
              "#fdca26"
             ],
             [
              1,
              "#f0f921"
             ]
            ],
            "type": "histogram2dcontour"
           }
          ],
          "mesh3d": [
           {
            "colorbar": {
             "outlinewidth": 0,
             "ticks": ""
            },
            "type": "mesh3d"
           }
          ],
          "parcoords": [
           {
            "line": {
             "colorbar": {
              "outlinewidth": 0,
              "ticks": ""
             }
            },
            "type": "parcoords"
           }
          ],
          "pie": [
           {
            "automargin": true,
            "type": "pie"
           }
          ],
          "scatter": [
           {
            "fillpattern": {
             "fillmode": "overlay",
             "size": 10,
             "solidity": 0.2
            },
            "type": "scatter"
           }
          ],
          "scatter3d": [
           {
            "line": {
             "colorbar": {
              "outlinewidth": 0,
              "ticks": ""
             }
            },
            "marker": {
             "colorbar": {
              "outlinewidth": 0,
              "ticks": ""
             }
            },
            "type": "scatter3d"
           }
          ],
          "scattercarpet": [
           {
            "marker": {
             "colorbar": {
              "outlinewidth": 0,
              "ticks": ""
             }
            },
            "type": "scattercarpet"
           }
          ],
          "scattergeo": [
           {
            "marker": {
             "colorbar": {
              "outlinewidth": 0,
              "ticks": ""
             }
            },
            "type": "scattergeo"
           }
          ],
          "scattergl": [
           {
            "marker": {
             "colorbar": {
              "outlinewidth": 0,
              "ticks": ""
             }
            },
            "type": "scattergl"
           }
          ],
          "scattermapbox": [
           {
            "marker": {
             "colorbar": {
              "outlinewidth": 0,
              "ticks": ""
             }
            },
            "type": "scattermapbox"
           }
          ],
          "scatterpolar": [
           {
            "marker": {
             "colorbar": {
              "outlinewidth": 0,
              "ticks": ""
             }
            },
            "type": "scatterpolar"
           }
          ],
          "scatterpolargl": [
           {
            "marker": {
             "colorbar": {
              "outlinewidth": 0,
              "ticks": ""
             }
            },
            "type": "scatterpolargl"
           }
          ],
          "scatterternary": [
           {
            "marker": {
             "colorbar": {
              "outlinewidth": 0,
              "ticks": ""
             }
            },
            "type": "scatterternary"
           }
          ],
          "surface": [
           {
            "colorbar": {
             "outlinewidth": 0,
             "ticks": ""
            },
            "colorscale": [
             [
              0,
              "#0d0887"
             ],
             [
              0.1111111111111111,
              "#46039f"
             ],
             [
              0.2222222222222222,
              "#7201a8"
             ],
             [
              0.3333333333333333,
              "#9c179e"
             ],
             [
              0.4444444444444444,
              "#bd3786"
             ],
             [
              0.5555555555555556,
              "#d8576b"
             ],
             [
              0.6666666666666666,
              "#ed7953"
             ],
             [
              0.7777777777777778,
              "#fb9f3a"
             ],
             [
              0.8888888888888888,
              "#fdca26"
             ],
             [
              1,
              "#f0f921"
             ]
            ],
            "type": "surface"
           }
          ],
          "table": [
           {
            "cells": {
             "fill": {
              "color": "#EBF0F8"
             },
             "line": {
              "color": "white"
             }
            },
            "header": {
             "fill": {
              "color": "#C8D4E3"
             },
             "line": {
              "color": "white"
             }
            },
            "type": "table"
           }
          ]
         },
         "layout": {
          "annotationdefaults": {
           "arrowcolor": "#2a3f5f",
           "arrowhead": 0,
           "arrowwidth": 1
          },
          "autotypenumbers": "strict",
          "coloraxis": {
           "colorbar": {
            "outlinewidth": 0,
            "ticks": ""
           }
          },
          "colorscale": {
           "diverging": [
            [
             0,
             "#8e0152"
            ],
            [
             0.1,
             "#c51b7d"
            ],
            [
             0.2,
             "#de77ae"
            ],
            [
             0.3,
             "#f1b6da"
            ],
            [
             0.4,
             "#fde0ef"
            ],
            [
             0.5,
             "#f7f7f7"
            ],
            [
             0.6,
             "#e6f5d0"
            ],
            [
             0.7,
             "#b8e186"
            ],
            [
             0.8,
             "#7fbc41"
            ],
            [
             0.9,
             "#4d9221"
            ],
            [
             1,
             "#276419"
            ]
           ],
           "sequential": [
            [
             0,
             "#0d0887"
            ],
            [
             0.1111111111111111,
             "#46039f"
            ],
            [
             0.2222222222222222,
             "#7201a8"
            ],
            [
             0.3333333333333333,
             "#9c179e"
            ],
            [
             0.4444444444444444,
             "#bd3786"
            ],
            [
             0.5555555555555556,
             "#d8576b"
            ],
            [
             0.6666666666666666,
             "#ed7953"
            ],
            [
             0.7777777777777778,
             "#fb9f3a"
            ],
            [
             0.8888888888888888,
             "#fdca26"
            ],
            [
             1,
             "#f0f921"
            ]
           ],
           "sequentialminus": [
            [
             0,
             "#0d0887"
            ],
            [
             0.1111111111111111,
             "#46039f"
            ],
            [
             0.2222222222222222,
             "#7201a8"
            ],
            [
             0.3333333333333333,
             "#9c179e"
            ],
            [
             0.4444444444444444,
             "#bd3786"
            ],
            [
             0.5555555555555556,
             "#d8576b"
            ],
            [
             0.6666666666666666,
             "#ed7953"
            ],
            [
             0.7777777777777778,
             "#fb9f3a"
            ],
            [
             0.8888888888888888,
             "#fdca26"
            ],
            [
             1,
             "#f0f921"
            ]
           ]
          },
          "colorway": [
           "#636efa",
           "#EF553B",
           "#00cc96",
           "#ab63fa",
           "#FFA15A",
           "#19d3f3",
           "#FF6692",
           "#B6E880",
           "#FF97FF",
           "#FECB52"
          ],
          "font": {
           "color": "#2a3f5f"
          },
          "geo": {
           "bgcolor": "white",
           "lakecolor": "white",
           "landcolor": "#E5ECF6",
           "showlakes": true,
           "showland": true,
           "subunitcolor": "white"
          },
          "hoverlabel": {
           "align": "left"
          },
          "hovermode": "closest",
          "mapbox": {
           "style": "light"
          },
          "paper_bgcolor": "white",
          "plot_bgcolor": "#E5ECF6",
          "polar": {
           "angularaxis": {
            "gridcolor": "white",
            "linecolor": "white",
            "ticks": ""
           },
           "bgcolor": "#E5ECF6",
           "radialaxis": {
            "gridcolor": "white",
            "linecolor": "white",
            "ticks": ""
           }
          },
          "scene": {
           "xaxis": {
            "backgroundcolor": "#E5ECF6",
            "gridcolor": "white",
            "gridwidth": 2,
            "linecolor": "white",
            "showbackground": true,
            "ticks": "",
            "zerolinecolor": "white"
           },
           "yaxis": {
            "backgroundcolor": "#E5ECF6",
            "gridcolor": "white",
            "gridwidth": 2,
            "linecolor": "white",
            "showbackground": true,
            "ticks": "",
            "zerolinecolor": "white"
           },
           "zaxis": {
            "backgroundcolor": "#E5ECF6",
            "gridcolor": "white",
            "gridwidth": 2,
            "linecolor": "white",
            "showbackground": true,
            "ticks": "",
            "zerolinecolor": "white"
           }
          },
          "shapedefaults": {
           "line": {
            "color": "#2a3f5f"
           }
          },
          "ternary": {
           "aaxis": {
            "gridcolor": "white",
            "linecolor": "white",
            "ticks": ""
           },
           "baxis": {
            "gridcolor": "white",
            "linecolor": "white",
            "ticks": ""
           },
           "bgcolor": "#E5ECF6",
           "caxis": {
            "gridcolor": "white",
            "linecolor": "white",
            "ticks": ""
           }
          },
          "title": {
           "x": 0.05
          },
          "xaxis": {
           "automargin": true,
           "gridcolor": "white",
           "linecolor": "white",
           "ticks": "",
           "title": {
            "standoff": 15
           },
           "zerolinecolor": "white",
           "zerolinewidth": 2
          },
          "yaxis": {
           "automargin": true,
           "gridcolor": "white",
           "linecolor": "white",
           "ticks": "",
           "title": {
            "standoff": 15
           },
           "zerolinecolor": "white",
           "zerolinewidth": 2
          }
         }
        },
        "xaxis": {
         "anchor": "y",
         "domain": [
          0,
          1
         ],
         "title": {
          "text": "index"
         }
        },
        "yaxis": {
         "anchor": "x",
         "domain": [
          0,
          1
         ],
         "title": {
          "text": "energy_not_served_mwh"
         }
        }
       }
      },
      "text/html": [
       "<div>                            <div id=\"fc1d939d-547b-4145-93af-72a5c41066ec\" class=\"plotly-graph-div\" style=\"height:525px; width:100%;\"></div>            <script type=\"text/javascript\">                require([\"plotly\"], function(Plotly) {                    window.PLOTLYENV=window.PLOTLYENV || {};                                    if (document.getElementById(\"fc1d939d-547b-4145-93af-72a5c41066ec\")) {                    Plotly.newPlot(                        \"fc1d939d-547b-4145-93af-72a5c41066ec\",                        [{\"hovertemplate\":\"index=%{x}<br>energy_not_served_mwh=%{y}<extra></extra>\",\"legendgroup\":\"\",\"marker\":{\"color\":\"#636efa\",\"symbol\":\"circle\"},\"mode\":\"markers\",\"name\":\"\",\"orientation\":\"v\",\"showlegend\":false,\"x\":[\"2022-01-01 01:00:00\",\"2022-01-01 01:00:00\",\"2022-01-01 01:00:00\",\"2022-01-01 01:00:00\",\"2022-01-01 02:00:00\",\"2022-01-01 02:00:00\",\"2022-01-01 02:00:00\",\"2022-01-01 02:00:00\",\"2022-01-01 03:00:00\",\"2022-01-01 03:00:00\",\"2022-01-01 03:00:00\",\"2022-01-01 03:00:00\",\"2022-01-01 04:00:00\",\"2022-01-01 04:00:00\",\"2022-01-01 04:00:00\",\"2022-01-01 04:00:00\",\"2022-01-01 05:00:00\",\"2022-01-01 05:00:00\",\"2022-01-01 05:00:00\",\"2022-01-01 05:00:00\",\"2022-01-01 06:00:00\",\"2022-01-01 06:00:00\",\"2022-01-01 06:00:00\",\"2022-01-01 06:00:00\",\"2022-01-01 07:00:00\",\"2022-01-01 07:00:00\",\"2022-01-01 07:00:00\",\"2022-01-01 07:00:00\",\"2022-01-01 08:00:00\",\"2022-01-01 08:00:00\",\"2022-01-01 08:00:00\",\"2022-01-01 08:00:00\",\"2022-01-01 09:00:00\",\"2022-01-01 09:00:00\",\"2022-01-01 09:00:00\",\"2022-01-01 09:00:00\",\"2022-01-01 10:00:00\",\"2022-01-01 10:00:00\",\"2022-01-01 10:00:00\",\"2022-01-01 10:00:00\",\"2022-01-01 11:00:00\",\"2022-01-01 11:00:00\",\"2022-01-01 11:00:00\",\"2022-01-01 11:00:00\",\"2022-01-01 12:00:00\",\"2022-01-01 12:00:00\",\"2022-01-01 12:00:00\",\"2022-01-01 12:00:00\",\"2022-01-01 13:00:00\",\"2022-01-01 13:00:00\",\"2022-01-01 13:00:00\",\"2022-01-01 13:00:00\",\"2022-01-01 14:00:00\",\"2022-01-01 14:00:00\",\"2022-01-01 14:00:00\",\"2022-01-01 14:00:00\",\"2022-01-01 15:00:00\",\"2022-01-01 15:00:00\",\"2022-01-01 15:00:00\",\"2022-01-01 15:00:00\",\"2022-01-01 16:00:00\",\"2022-01-01 16:00:00\",\"2022-01-01 16:00:00\",\"2022-01-01 16:00:00\",\"2022-01-01 17:00:00\",\"2022-01-01 17:00:00\",\"2022-01-01 17:00:00\",\"2022-01-01 17:00:00\",\"2022-01-01 18:00:00\",\"2022-01-01 18:00:00\",\"2022-01-01 18:00:00\",\"2022-01-01 18:00:00\",\"2022-01-01 19:00:00\",\"2022-01-01 19:00:00\",\"2022-01-01 19:00:00\",\"2022-01-01 19:00:00\",\"2022-01-01 20:00:00\",\"2022-01-01 20:00:00\",\"2022-01-01 20:00:00\",\"2022-01-01 20:00:00\",\"2022-01-01 21:00:00\",\"2022-01-01 21:00:00\",\"2022-01-01 21:00:00\",\"2022-01-01 21:00:00\",\"2022-01-01 22:00:00\",\"2022-01-01 22:00:00\",\"2022-01-01 22:00:00\",\"2022-01-01 22:00:00\",\"2022-01-01 23:00:00\",\"2022-01-01 23:00:00\",\"2022-01-01 23:00:00\",\"2022-01-01 23:00:00\",\"2022-01-02 00:00:00\",\"2022-01-02 00:00:00\",\"2022-01-02 00:00:00\",\"2022-01-02 00:00:00\",\"2022-01-02 01:00:00\",\"2022-01-02 01:00:00\",\"2022-01-02 01:00:00\",\"2022-01-02 01:00:00\",\"2022-01-02 02:00:00\",\"2022-01-02 02:00:00\",\"2022-01-02 02:00:00\",\"2022-01-02 02:00:00\",\"2022-01-02 03:00:00\",\"2022-01-02 03:00:00\",\"2022-01-02 03:00:00\",\"2022-01-02 03:00:00\",\"2022-01-02 04:00:00\",\"2022-01-02 04:00:00\",\"2022-01-02 04:00:00\",\"2022-01-02 04:00:00\",\"2022-01-02 05:00:00\",\"2022-01-02 05:00:00\",\"2022-01-02 05:00:00\",\"2022-01-02 05:00:00\",\"2022-01-02 06:00:00\",\"2022-01-02 06:00:00\",\"2022-01-02 06:00:00\",\"2022-01-02 06:00:00\",\"2022-01-02 07:00:00\",\"2022-01-02 07:00:00\",\"2022-01-02 07:00:00\",\"2022-01-02 07:00:00\",\"2022-01-02 08:00:00\",\"2022-01-02 08:00:00\",\"2022-01-02 08:00:00\",\"2022-01-02 08:00:00\",\"2022-01-02 09:00:00\",\"2022-01-02 09:00:00\",\"2022-01-02 09:00:00\",\"2022-01-02 09:00:00\",\"2022-01-02 10:00:00\",\"2022-01-02 10:00:00\",\"2022-01-02 10:00:00\",\"2022-01-02 10:00:00\",\"2022-01-02 11:00:00\",\"2022-01-02 11:00:00\",\"2022-01-02 11:00:00\",\"2022-01-02 11:00:00\",\"2022-01-02 12:00:00\",\"2022-01-02 12:00:00\",\"2022-01-02 12:00:00\",\"2022-01-02 12:00:00\",\"2022-01-02 13:00:00\",\"2022-01-02 13:00:00\",\"2022-01-02 13:00:00\",\"2022-01-02 13:00:00\",\"2022-01-02 14:00:00\",\"2022-01-02 14:00:00\",\"2022-01-02 14:00:00\",\"2022-01-02 14:00:00\",\"2022-01-02 15:00:00\",\"2022-01-02 15:00:00\",\"2022-01-02 15:00:00\",\"2022-01-02 15:00:00\",\"2022-01-02 16:00:00\",\"2022-01-02 16:00:00\",\"2022-01-02 16:00:00\",\"2022-01-02 16:00:00\"],\"xaxis\":\"x\",\"y\":[0.0,0.0,0.0,0.0,0.0,0.0,0.0,0.0,0.0,0.0,0.0,0.0,0.0,0.0,0.0,0.0,0.0,0.0,0.0,0.0,0.0,0.0,0.0,0.0,0.0,0.0,0.0,0.0,0.0,0.0,0.0,0.0,0.0,0.0,0.0,0.0,0.0,0.0,0.0,0.0,0.0,0.0,0.0,0.0,7.6933698691567,0.0,0.0,38.97929768112745,11.06707594288185,35.5146632544691,0.0,22.8445954473063,38.87788765291268,38.87788765291268,17.18279039118044,17.18279039118044,77.616003493973,77.616003493973,55.554099997585446,22.06190349638763,64.7267664566279,159.78365973875844,64.72429914127338,146.83329093101335,64.92413194128324,164.4071639090813,67.90158061968476,57.33308546195009,37.35473694852975,62.37115090125096,62.37115090125096,25.0164139527212,62.39100926010205,62.61483167444126,62.61483167444126,0.223822414339217,45.6088178628233,77.63989542326885,77.63989542326885,32.03107756044555,64.07735670052796,64.07735670052796,64.07735670052796,23.65418936750405,19.57778569673875,19.57778569673875,19.57778569673875,18.6434927305517,76.20665515326665,76.20665515326665,76.20665515326665,0.0,32.028143936205055,57.6910081561557,57.6910081561557,0.0,0.0,50.729752021573546,27.88514770745945,0.0,0.0,16.01493846752495,0.0,0.0,0.0,0.0,0.0,0.0,0.0,0.0,0.0,0.0,0.0,0.0,0.0,0.0,0.0,0.0,0.0,0.0,0.0,0.0,0.0,0.0,0.0,0.0,0.0,0.0,0.0,0.0,0.0,0.0,0.0,0.0,0.0,0.0,0.0,0.0,0.0,0.0,0.0,0.0,0.0,0.0,0.0,0.0,0.0,0.0,0.0,0.0,0.0,0.0,0.0,0.0,0.0,0.0,0.0,0.0,0.0,0.0],\"yaxis\":\"y\",\"type\":\"scatter\"}],                        {\"template\":{\"data\":{\"histogram2dcontour\":[{\"type\":\"histogram2dcontour\",\"colorbar\":{\"outlinewidth\":0,\"ticks\":\"\"},\"colorscale\":[[0.0,\"#0d0887\"],[0.1111111111111111,\"#46039f\"],[0.2222222222222222,\"#7201a8\"],[0.3333333333333333,\"#9c179e\"],[0.4444444444444444,\"#bd3786\"],[0.5555555555555556,\"#d8576b\"],[0.6666666666666666,\"#ed7953\"],[0.7777777777777778,\"#fb9f3a\"],[0.8888888888888888,\"#fdca26\"],[1.0,\"#f0f921\"]]}],\"choropleth\":[{\"type\":\"choropleth\",\"colorbar\":{\"outlinewidth\":0,\"ticks\":\"\"}}],\"histogram2d\":[{\"type\":\"histogram2d\",\"colorbar\":{\"outlinewidth\":0,\"ticks\":\"\"},\"colorscale\":[[0.0,\"#0d0887\"],[0.1111111111111111,\"#46039f\"],[0.2222222222222222,\"#7201a8\"],[0.3333333333333333,\"#9c179e\"],[0.4444444444444444,\"#bd3786\"],[0.5555555555555556,\"#d8576b\"],[0.6666666666666666,\"#ed7953\"],[0.7777777777777778,\"#fb9f3a\"],[0.8888888888888888,\"#fdca26\"],[1.0,\"#f0f921\"]]}],\"heatmap\":[{\"type\":\"heatmap\",\"colorbar\":{\"outlinewidth\":0,\"ticks\":\"\"},\"colorscale\":[[0.0,\"#0d0887\"],[0.1111111111111111,\"#46039f\"],[0.2222222222222222,\"#7201a8\"],[0.3333333333333333,\"#9c179e\"],[0.4444444444444444,\"#bd3786\"],[0.5555555555555556,\"#d8576b\"],[0.6666666666666666,\"#ed7953\"],[0.7777777777777778,\"#fb9f3a\"],[0.8888888888888888,\"#fdca26\"],[1.0,\"#f0f921\"]]}],\"heatmapgl\":[{\"type\":\"heatmapgl\",\"colorbar\":{\"outlinewidth\":0,\"ticks\":\"\"},\"colorscale\":[[0.0,\"#0d0887\"],[0.1111111111111111,\"#46039f\"],[0.2222222222222222,\"#7201a8\"],[0.3333333333333333,\"#9c179e\"],[0.4444444444444444,\"#bd3786\"],[0.5555555555555556,\"#d8576b\"],[0.6666666666666666,\"#ed7953\"],[0.7777777777777778,\"#fb9f3a\"],[0.8888888888888888,\"#fdca26\"],[1.0,\"#f0f921\"]]}],\"contourcarpet\":[{\"type\":\"contourcarpet\",\"colorbar\":{\"outlinewidth\":0,\"ticks\":\"\"}}],\"contour\":[{\"type\":\"contour\",\"colorbar\":{\"outlinewidth\":0,\"ticks\":\"\"},\"colorscale\":[[0.0,\"#0d0887\"],[0.1111111111111111,\"#46039f\"],[0.2222222222222222,\"#7201a8\"],[0.3333333333333333,\"#9c179e\"],[0.4444444444444444,\"#bd3786\"],[0.5555555555555556,\"#d8576b\"],[0.6666666666666666,\"#ed7953\"],[0.7777777777777778,\"#fb9f3a\"],[0.8888888888888888,\"#fdca26\"],[1.0,\"#f0f921\"]]}],\"surface\":[{\"type\":\"surface\",\"colorbar\":{\"outlinewidth\":0,\"ticks\":\"\"},\"colorscale\":[[0.0,\"#0d0887\"],[0.1111111111111111,\"#46039f\"],[0.2222222222222222,\"#7201a8\"],[0.3333333333333333,\"#9c179e\"],[0.4444444444444444,\"#bd3786\"],[0.5555555555555556,\"#d8576b\"],[0.6666666666666666,\"#ed7953\"],[0.7777777777777778,\"#fb9f3a\"],[0.8888888888888888,\"#fdca26\"],[1.0,\"#f0f921\"]]}],\"mesh3d\":[{\"type\":\"mesh3d\",\"colorbar\":{\"outlinewidth\":0,\"ticks\":\"\"}}],\"scatter\":[{\"fillpattern\":{\"fillmode\":\"overlay\",\"size\":10,\"solidity\":0.2},\"type\":\"scatter\"}],\"parcoords\":[{\"type\":\"parcoords\",\"line\":{\"colorbar\":{\"outlinewidth\":0,\"ticks\":\"\"}}}],\"scatterpolargl\":[{\"type\":\"scatterpolargl\",\"marker\":{\"colorbar\":{\"outlinewidth\":0,\"ticks\":\"\"}}}],\"bar\":[{\"error_x\":{\"color\":\"#2a3f5f\"},\"error_y\":{\"color\":\"#2a3f5f\"},\"marker\":{\"line\":{\"color\":\"#E5ECF6\",\"width\":0.5},\"pattern\":{\"fillmode\":\"overlay\",\"size\":10,\"solidity\":0.2}},\"type\":\"bar\"}],\"scattergeo\":[{\"type\":\"scattergeo\",\"marker\":{\"colorbar\":{\"outlinewidth\":0,\"ticks\":\"\"}}}],\"scatterpolar\":[{\"type\":\"scatterpolar\",\"marker\":{\"colorbar\":{\"outlinewidth\":0,\"ticks\":\"\"}}}],\"histogram\":[{\"marker\":{\"pattern\":{\"fillmode\":\"overlay\",\"size\":10,\"solidity\":0.2}},\"type\":\"histogram\"}],\"scattergl\":[{\"type\":\"scattergl\",\"marker\":{\"colorbar\":{\"outlinewidth\":0,\"ticks\":\"\"}}}],\"scatter3d\":[{\"type\":\"scatter3d\",\"line\":{\"colorbar\":{\"outlinewidth\":0,\"ticks\":\"\"}},\"marker\":{\"colorbar\":{\"outlinewidth\":0,\"ticks\":\"\"}}}],\"scattermapbox\":[{\"type\":\"scattermapbox\",\"marker\":{\"colorbar\":{\"outlinewidth\":0,\"ticks\":\"\"}}}],\"scatterternary\":[{\"type\":\"scatterternary\",\"marker\":{\"colorbar\":{\"outlinewidth\":0,\"ticks\":\"\"}}}],\"scattercarpet\":[{\"type\":\"scattercarpet\",\"marker\":{\"colorbar\":{\"outlinewidth\":0,\"ticks\":\"\"}}}],\"carpet\":[{\"aaxis\":{\"endlinecolor\":\"#2a3f5f\",\"gridcolor\":\"white\",\"linecolor\":\"white\",\"minorgridcolor\":\"white\",\"startlinecolor\":\"#2a3f5f\"},\"baxis\":{\"endlinecolor\":\"#2a3f5f\",\"gridcolor\":\"white\",\"linecolor\":\"white\",\"minorgridcolor\":\"white\",\"startlinecolor\":\"#2a3f5f\"},\"type\":\"carpet\"}],\"table\":[{\"cells\":{\"fill\":{\"color\":\"#EBF0F8\"},\"line\":{\"color\":\"white\"}},\"header\":{\"fill\":{\"color\":\"#C8D4E3\"},\"line\":{\"color\":\"white\"}},\"type\":\"table\"}],\"barpolar\":[{\"marker\":{\"line\":{\"color\":\"#E5ECF6\",\"width\":0.5},\"pattern\":{\"fillmode\":\"overlay\",\"size\":10,\"solidity\":0.2}},\"type\":\"barpolar\"}],\"pie\":[{\"automargin\":true,\"type\":\"pie\"}]},\"layout\":{\"autotypenumbers\":\"strict\",\"colorway\":[\"#636efa\",\"#EF553B\",\"#00cc96\",\"#ab63fa\",\"#FFA15A\",\"#19d3f3\",\"#FF6692\",\"#B6E880\",\"#FF97FF\",\"#FECB52\"],\"font\":{\"color\":\"#2a3f5f\"},\"hovermode\":\"closest\",\"hoverlabel\":{\"align\":\"left\"},\"paper_bgcolor\":\"white\",\"plot_bgcolor\":\"#E5ECF6\",\"polar\":{\"bgcolor\":\"#E5ECF6\",\"angularaxis\":{\"gridcolor\":\"white\",\"linecolor\":\"white\",\"ticks\":\"\"},\"radialaxis\":{\"gridcolor\":\"white\",\"linecolor\":\"white\",\"ticks\":\"\"}},\"ternary\":{\"bgcolor\":\"#E5ECF6\",\"aaxis\":{\"gridcolor\":\"white\",\"linecolor\":\"white\",\"ticks\":\"\"},\"baxis\":{\"gridcolor\":\"white\",\"linecolor\":\"white\",\"ticks\":\"\"},\"caxis\":{\"gridcolor\":\"white\",\"linecolor\":\"white\",\"ticks\":\"\"}},\"coloraxis\":{\"colorbar\":{\"outlinewidth\":0,\"ticks\":\"\"}},\"colorscale\":{\"sequential\":[[0.0,\"#0d0887\"],[0.1111111111111111,\"#46039f\"],[0.2222222222222222,\"#7201a8\"],[0.3333333333333333,\"#9c179e\"],[0.4444444444444444,\"#bd3786\"],[0.5555555555555556,\"#d8576b\"],[0.6666666666666666,\"#ed7953\"],[0.7777777777777778,\"#fb9f3a\"],[0.8888888888888888,\"#fdca26\"],[1.0,\"#f0f921\"]],\"sequentialminus\":[[0.0,\"#0d0887\"],[0.1111111111111111,\"#46039f\"],[0.2222222222222222,\"#7201a8\"],[0.3333333333333333,\"#9c179e\"],[0.4444444444444444,\"#bd3786\"],[0.5555555555555556,\"#d8576b\"],[0.6666666666666666,\"#ed7953\"],[0.7777777777777778,\"#fb9f3a\"],[0.8888888888888888,\"#fdca26\"],[1.0,\"#f0f921\"]],\"diverging\":[[0,\"#8e0152\"],[0.1,\"#c51b7d\"],[0.2,\"#de77ae\"],[0.3,\"#f1b6da\"],[0.4,\"#fde0ef\"],[0.5,\"#f7f7f7\"],[0.6,\"#e6f5d0\"],[0.7,\"#b8e186\"],[0.8,\"#7fbc41\"],[0.9,\"#4d9221\"],[1,\"#276419\"]]},\"xaxis\":{\"gridcolor\":\"white\",\"linecolor\":\"white\",\"ticks\":\"\",\"title\":{\"standoff\":15},\"zerolinecolor\":\"white\",\"automargin\":true,\"zerolinewidth\":2},\"yaxis\":{\"gridcolor\":\"white\",\"linecolor\":\"white\",\"ticks\":\"\",\"title\":{\"standoff\":15},\"zerolinecolor\":\"white\",\"automargin\":true,\"zerolinewidth\":2},\"scene\":{\"xaxis\":{\"backgroundcolor\":\"#E5ECF6\",\"gridcolor\":\"white\",\"linecolor\":\"white\",\"showbackground\":true,\"ticks\":\"\",\"zerolinecolor\":\"white\",\"gridwidth\":2},\"yaxis\":{\"backgroundcolor\":\"#E5ECF6\",\"gridcolor\":\"white\",\"linecolor\":\"white\",\"showbackground\":true,\"ticks\":\"\",\"zerolinecolor\":\"white\",\"gridwidth\":2},\"zaxis\":{\"backgroundcolor\":\"#E5ECF6\",\"gridcolor\":\"white\",\"linecolor\":\"white\",\"showbackground\":true,\"ticks\":\"\",\"zerolinecolor\":\"white\",\"gridwidth\":2}},\"shapedefaults\":{\"line\":{\"color\":\"#2a3f5f\"}},\"annotationdefaults\":{\"arrowcolor\":\"#2a3f5f\",\"arrowhead\":0,\"arrowwidth\":1},\"geo\":{\"bgcolor\":\"white\",\"landcolor\":\"#E5ECF6\",\"subunitcolor\":\"white\",\"showland\":true,\"showlakes\":true,\"lakecolor\":\"white\"},\"title\":{\"x\":0.05},\"mapbox\":{\"style\":\"light\"}}},\"xaxis\":{\"anchor\":\"y\",\"domain\":[0.0,1.0],\"title\":{\"text\":\"index\"}},\"yaxis\":{\"anchor\":\"x\",\"domain\":[0.0,1.0],\"title\":{\"text\":\"energy_not_served_mwh\"}},\"legend\":{\"tracegroupgap\":0},\"margin\":{\"t\":60}},                        {\"responsive\": true}                    ).then(function(){\n",
       "                            \n",
       "var gd = document.getElementById('fc1d939d-547b-4145-93af-72a5c41066ec');\n",
       "var x = new MutationObserver(function (mutations, observer) {{\n",
       "        var display = window.getComputedStyle(gd).display;\n",
       "        if (!display || display === 'none') {{\n",
       "            console.log([gd, 'removed!']);\n",
       "            Plotly.purge(gd);\n",
       "            observer.disconnect();\n",
       "        }}\n",
       "}});\n",
       "\n",
       "// Listen for the removal of the full notebook cells\n",
       "var notebookContainer = gd.closest('#notebook-container');\n",
       "if (notebookContainer) {{\n",
       "    x.observe(notebookContainer, {childList: true});\n",
       "}}\n",
       "\n",
       "// Listen for the clearing of the current output cell\n",
       "var outputEl = gd.closest('.output');\n",
       "if (outputEl) {{\n",
       "    x.observe(outputEl, {childList: true});\n",
       "}}\n",
       "\n",
       "                        })                };                });            </script>        </div>"
      ]
     },
     "metadata": {},
     "output_type": "display_data"
    }
   ],
   "source": [
    "df_network = invert(filter(df, type = 'network')) # filter network fields and invert for plotting\n",
    "px.scatter(df_network, x=df_network.index, y= 'energy_not_served_mwh' )"
   ]
  },
  {
   "cell_type": "markdown",
   "id": "electoral-treasurer",
   "metadata": {},
   "source": [
    "## Montercalo metrics"
   ]
  },
  {
   "cell_type": "code",
   "execution_count": 33,
   "id": "structural-superior",
   "metadata": {},
   "outputs": [],
   "source": [
    "df_network_condensed = filter(df, type = 'network').sum(axis = 1) # sum over timesteps"
   ]
  },
  {
   "cell_type": "code",
   "execution_count": 34,
   "id": "incredible-reunion",
   "metadata": {},
   "outputs": [
    {
     "data": {
      "application/vnd.plotly.v1+json": {
       "config": {
        "plotlyServerURL": "https://plot.ly"
       },
       "data": [
        {
         "alignmentgroup": "True",
         "bingroup": "x",
         "histnorm": "probability",
         "hovertemplate": "energy_not_served_mwh=%{x}<br>probability=%{y}<extra></extra>",
         "legendgroup": "",
         "marker": {
          "color": "#636efa",
          "pattern": {
           "shape": ""
          }
         },
         "name": "",
         "offsetgroup": "",
         "orientation": "v",
         "showlegend": false,
         "type": "histogram",
         "x": [
          602.1497409150289,
          963.1227522439431,
          653.4266015628336,
          404.80395943452703
         ],
         "xaxis": "x",
         "yaxis": "y"
        }
       ],
       "layout": {
        "barmode": "relative",
        "legend": {
         "tracegroupgap": 0
        },
        "margin": {
         "t": 60
        },
        "template": {
         "data": {
          "bar": [
           {
            "error_x": {
             "color": "#2a3f5f"
            },
            "error_y": {
             "color": "#2a3f5f"
            },
            "marker": {
             "line": {
              "color": "#E5ECF6",
              "width": 0.5
             },
             "pattern": {
              "fillmode": "overlay",
              "size": 10,
              "solidity": 0.2
             }
            },
            "type": "bar"
           }
          ],
          "barpolar": [
           {
            "marker": {
             "line": {
              "color": "#E5ECF6",
              "width": 0.5
             },
             "pattern": {
              "fillmode": "overlay",
              "size": 10,
              "solidity": 0.2
             }
            },
            "type": "barpolar"
           }
          ],
          "carpet": [
           {
            "aaxis": {
             "endlinecolor": "#2a3f5f",
             "gridcolor": "white",
             "linecolor": "white",
             "minorgridcolor": "white",
             "startlinecolor": "#2a3f5f"
            },
            "baxis": {
             "endlinecolor": "#2a3f5f",
             "gridcolor": "white",
             "linecolor": "white",
             "minorgridcolor": "white",
             "startlinecolor": "#2a3f5f"
            },
            "type": "carpet"
           }
          ],
          "choropleth": [
           {
            "colorbar": {
             "outlinewidth": 0,
             "ticks": ""
            },
            "type": "choropleth"
           }
          ],
          "contour": [
           {
            "colorbar": {
             "outlinewidth": 0,
             "ticks": ""
            },
            "colorscale": [
             [
              0,
              "#0d0887"
             ],
             [
              0.1111111111111111,
              "#46039f"
             ],
             [
              0.2222222222222222,
              "#7201a8"
             ],
             [
              0.3333333333333333,
              "#9c179e"
             ],
             [
              0.4444444444444444,
              "#bd3786"
             ],
             [
              0.5555555555555556,
              "#d8576b"
             ],
             [
              0.6666666666666666,
              "#ed7953"
             ],
             [
              0.7777777777777778,
              "#fb9f3a"
             ],
             [
              0.8888888888888888,
              "#fdca26"
             ],
             [
              1,
              "#f0f921"
             ]
            ],
            "type": "contour"
           }
          ],
          "contourcarpet": [
           {
            "colorbar": {
             "outlinewidth": 0,
             "ticks": ""
            },
            "type": "contourcarpet"
           }
          ],
          "heatmap": [
           {
            "colorbar": {
             "outlinewidth": 0,
             "ticks": ""
            },
            "colorscale": [
             [
              0,
              "#0d0887"
             ],
             [
              0.1111111111111111,
              "#46039f"
             ],
             [
              0.2222222222222222,
              "#7201a8"
             ],
             [
              0.3333333333333333,
              "#9c179e"
             ],
             [
              0.4444444444444444,
              "#bd3786"
             ],
             [
              0.5555555555555556,
              "#d8576b"
             ],
             [
              0.6666666666666666,
              "#ed7953"
             ],
             [
              0.7777777777777778,
              "#fb9f3a"
             ],
             [
              0.8888888888888888,
              "#fdca26"
             ],
             [
              1,
              "#f0f921"
             ]
            ],
            "type": "heatmap"
           }
          ],
          "heatmapgl": [
           {
            "colorbar": {
             "outlinewidth": 0,
             "ticks": ""
            },
            "colorscale": [
             [
              0,
              "#0d0887"
             ],
             [
              0.1111111111111111,
              "#46039f"
             ],
             [
              0.2222222222222222,
              "#7201a8"
             ],
             [
              0.3333333333333333,
              "#9c179e"
             ],
             [
              0.4444444444444444,
              "#bd3786"
             ],
             [
              0.5555555555555556,
              "#d8576b"
             ],
             [
              0.6666666666666666,
              "#ed7953"
             ],
             [
              0.7777777777777778,
              "#fb9f3a"
             ],
             [
              0.8888888888888888,
              "#fdca26"
             ],
             [
              1,
              "#f0f921"
             ]
            ],
            "type": "heatmapgl"
           }
          ],
          "histogram": [
           {
            "marker": {
             "pattern": {
              "fillmode": "overlay",
              "size": 10,
              "solidity": 0.2
             }
            },
            "type": "histogram"
           }
          ],
          "histogram2d": [
           {
            "colorbar": {
             "outlinewidth": 0,
             "ticks": ""
            },
            "colorscale": [
             [
              0,
              "#0d0887"
             ],
             [
              0.1111111111111111,
              "#46039f"
             ],
             [
              0.2222222222222222,
              "#7201a8"
             ],
             [
              0.3333333333333333,
              "#9c179e"
             ],
             [
              0.4444444444444444,
              "#bd3786"
             ],
             [
              0.5555555555555556,
              "#d8576b"
             ],
             [
              0.6666666666666666,
              "#ed7953"
             ],
             [
              0.7777777777777778,
              "#fb9f3a"
             ],
             [
              0.8888888888888888,
              "#fdca26"
             ],
             [
              1,
              "#f0f921"
             ]
            ],
            "type": "histogram2d"
           }
          ],
          "histogram2dcontour": [
           {
            "colorbar": {
             "outlinewidth": 0,
             "ticks": ""
            },
            "colorscale": [
             [
              0,
              "#0d0887"
             ],
             [
              0.1111111111111111,
              "#46039f"
             ],
             [
              0.2222222222222222,
              "#7201a8"
             ],
             [
              0.3333333333333333,
              "#9c179e"
             ],
             [
              0.4444444444444444,
              "#bd3786"
             ],
             [
              0.5555555555555556,
              "#d8576b"
             ],
             [
              0.6666666666666666,
              "#ed7953"
             ],
             [
              0.7777777777777778,
              "#fb9f3a"
             ],
             [
              0.8888888888888888,
              "#fdca26"
             ],
             [
              1,
              "#f0f921"
             ]
            ],
            "type": "histogram2dcontour"
           }
          ],
          "mesh3d": [
           {
            "colorbar": {
             "outlinewidth": 0,
             "ticks": ""
            },
            "type": "mesh3d"
           }
          ],
          "parcoords": [
           {
            "line": {
             "colorbar": {
              "outlinewidth": 0,
              "ticks": ""
             }
            },
            "type": "parcoords"
           }
          ],
          "pie": [
           {
            "automargin": true,
            "type": "pie"
           }
          ],
          "scatter": [
           {
            "fillpattern": {
             "fillmode": "overlay",
             "size": 10,
             "solidity": 0.2
            },
            "type": "scatter"
           }
          ],
          "scatter3d": [
           {
            "line": {
             "colorbar": {
              "outlinewidth": 0,
              "ticks": ""
             }
            },
            "marker": {
             "colorbar": {
              "outlinewidth": 0,
              "ticks": ""
             }
            },
            "type": "scatter3d"
           }
          ],
          "scattercarpet": [
           {
            "marker": {
             "colorbar": {
              "outlinewidth": 0,
              "ticks": ""
             }
            },
            "type": "scattercarpet"
           }
          ],
          "scattergeo": [
           {
            "marker": {
             "colorbar": {
              "outlinewidth": 0,
              "ticks": ""
             }
            },
            "type": "scattergeo"
           }
          ],
          "scattergl": [
           {
            "marker": {
             "colorbar": {
              "outlinewidth": 0,
              "ticks": ""
             }
            },
            "type": "scattergl"
           }
          ],
          "scattermapbox": [
           {
            "marker": {
             "colorbar": {
              "outlinewidth": 0,
              "ticks": ""
             }
            },
            "type": "scattermapbox"
           }
          ],
          "scatterpolar": [
           {
            "marker": {
             "colorbar": {
              "outlinewidth": 0,
              "ticks": ""
             }
            },
            "type": "scatterpolar"
           }
          ],
          "scatterpolargl": [
           {
            "marker": {
             "colorbar": {
              "outlinewidth": 0,
              "ticks": ""
             }
            },
            "type": "scatterpolargl"
           }
          ],
          "scatterternary": [
           {
            "marker": {
             "colorbar": {
              "outlinewidth": 0,
              "ticks": ""
             }
            },
            "type": "scatterternary"
           }
          ],
          "surface": [
           {
            "colorbar": {
             "outlinewidth": 0,
             "ticks": ""
            },
            "colorscale": [
             [
              0,
              "#0d0887"
             ],
             [
              0.1111111111111111,
              "#46039f"
             ],
             [
              0.2222222222222222,
              "#7201a8"
             ],
             [
              0.3333333333333333,
              "#9c179e"
             ],
             [
              0.4444444444444444,
              "#bd3786"
             ],
             [
              0.5555555555555556,
              "#d8576b"
             ],
             [
              0.6666666666666666,
              "#ed7953"
             ],
             [
              0.7777777777777778,
              "#fb9f3a"
             ],
             [
              0.8888888888888888,
              "#fdca26"
             ],
             [
              1,
              "#f0f921"
             ]
            ],
            "type": "surface"
           }
          ],
          "table": [
           {
            "cells": {
             "fill": {
              "color": "#EBF0F8"
             },
             "line": {
              "color": "white"
             }
            },
            "header": {
             "fill": {
              "color": "#C8D4E3"
             },
             "line": {
              "color": "white"
             }
            },
            "type": "table"
           }
          ]
         },
         "layout": {
          "annotationdefaults": {
           "arrowcolor": "#2a3f5f",
           "arrowhead": 0,
           "arrowwidth": 1
          },
          "autotypenumbers": "strict",
          "coloraxis": {
           "colorbar": {
            "outlinewidth": 0,
            "ticks": ""
           }
          },
          "colorscale": {
           "diverging": [
            [
             0,
             "#8e0152"
            ],
            [
             0.1,
             "#c51b7d"
            ],
            [
             0.2,
             "#de77ae"
            ],
            [
             0.3,
             "#f1b6da"
            ],
            [
             0.4,
             "#fde0ef"
            ],
            [
             0.5,
             "#f7f7f7"
            ],
            [
             0.6,
             "#e6f5d0"
            ],
            [
             0.7,
             "#b8e186"
            ],
            [
             0.8,
             "#7fbc41"
            ],
            [
             0.9,
             "#4d9221"
            ],
            [
             1,
             "#276419"
            ]
           ],
           "sequential": [
            [
             0,
             "#0d0887"
            ],
            [
             0.1111111111111111,
             "#46039f"
            ],
            [
             0.2222222222222222,
             "#7201a8"
            ],
            [
             0.3333333333333333,
             "#9c179e"
            ],
            [
             0.4444444444444444,
             "#bd3786"
            ],
            [
             0.5555555555555556,
             "#d8576b"
            ],
            [
             0.6666666666666666,
             "#ed7953"
            ],
            [
             0.7777777777777778,
             "#fb9f3a"
            ],
            [
             0.8888888888888888,
             "#fdca26"
            ],
            [
             1,
             "#f0f921"
            ]
           ],
           "sequentialminus": [
            [
             0,
             "#0d0887"
            ],
            [
             0.1111111111111111,
             "#46039f"
            ],
            [
             0.2222222222222222,
             "#7201a8"
            ],
            [
             0.3333333333333333,
             "#9c179e"
            ],
            [
             0.4444444444444444,
             "#bd3786"
            ],
            [
             0.5555555555555556,
             "#d8576b"
            ],
            [
             0.6666666666666666,
             "#ed7953"
            ],
            [
             0.7777777777777778,
             "#fb9f3a"
            ],
            [
             0.8888888888888888,
             "#fdca26"
            ],
            [
             1,
             "#f0f921"
            ]
           ]
          },
          "colorway": [
           "#636efa",
           "#EF553B",
           "#00cc96",
           "#ab63fa",
           "#FFA15A",
           "#19d3f3",
           "#FF6692",
           "#B6E880",
           "#FF97FF",
           "#FECB52"
          ],
          "font": {
           "color": "#2a3f5f"
          },
          "geo": {
           "bgcolor": "white",
           "lakecolor": "white",
           "landcolor": "#E5ECF6",
           "showlakes": true,
           "showland": true,
           "subunitcolor": "white"
          },
          "hoverlabel": {
           "align": "left"
          },
          "hovermode": "closest",
          "mapbox": {
           "style": "light"
          },
          "paper_bgcolor": "white",
          "plot_bgcolor": "#E5ECF6",
          "polar": {
           "angularaxis": {
            "gridcolor": "white",
            "linecolor": "white",
            "ticks": ""
           },
           "bgcolor": "#E5ECF6",
           "radialaxis": {
            "gridcolor": "white",
            "linecolor": "white",
            "ticks": ""
           }
          },
          "scene": {
           "xaxis": {
            "backgroundcolor": "#E5ECF6",
            "gridcolor": "white",
            "gridwidth": 2,
            "linecolor": "white",
            "showbackground": true,
            "ticks": "",
            "zerolinecolor": "white"
           },
           "yaxis": {
            "backgroundcolor": "#E5ECF6",
            "gridcolor": "white",
            "gridwidth": 2,
            "linecolor": "white",
            "showbackground": true,
            "ticks": "",
            "zerolinecolor": "white"
           },
           "zaxis": {
            "backgroundcolor": "#E5ECF6",
            "gridcolor": "white",
            "gridwidth": 2,
            "linecolor": "white",
            "showbackground": true,
            "ticks": "",
            "zerolinecolor": "white"
           }
          },
          "shapedefaults": {
           "line": {
            "color": "#2a3f5f"
           }
          },
          "ternary": {
           "aaxis": {
            "gridcolor": "white",
            "linecolor": "white",
            "ticks": ""
           },
           "baxis": {
            "gridcolor": "white",
            "linecolor": "white",
            "ticks": ""
           },
           "bgcolor": "#E5ECF6",
           "caxis": {
            "gridcolor": "white",
            "linecolor": "white",
            "ticks": ""
           }
          },
          "title": {
           "x": 0.05
          },
          "xaxis": {
           "automargin": true,
           "gridcolor": "white",
           "linecolor": "white",
           "ticks": "",
           "title": {
            "standoff": 15
           },
           "zerolinecolor": "white",
           "zerolinewidth": 2
          },
          "yaxis": {
           "automargin": true,
           "gridcolor": "white",
           "linecolor": "white",
           "ticks": "",
           "title": {
            "standoff": 15
           },
           "zerolinecolor": "white",
           "zerolinewidth": 2
          }
         }
        },
        "xaxis": {
         "anchor": "y",
         "domain": [
          0,
          1
         ],
         "title": {
          "text": "energy_not_served_mwh"
         }
        },
        "yaxis": {
         "anchor": "x",
         "domain": [
          0,
          1
         ],
         "title": {
          "text": "probability"
         }
        }
       }
      },
      "text/html": [
       "<div>                            <div id=\"c7ffbe50-a90a-445e-85de-15e650c09206\" class=\"plotly-graph-div\" style=\"height:525px; width:100%;\"></div>            <script type=\"text/javascript\">                require([\"plotly\"], function(Plotly) {                    window.PLOTLYENV=window.PLOTLYENV || {};                                    if (document.getElementById(\"c7ffbe50-a90a-445e-85de-15e650c09206\")) {                    Plotly.newPlot(                        \"c7ffbe50-a90a-445e-85de-15e650c09206\",                        [{\"alignmentgroup\":\"True\",\"bingroup\":\"x\",\"histnorm\":\"probability\",\"hovertemplate\":\"energy_not_served_mwh=%{x}<br>probability=%{y}<extra></extra>\",\"legendgroup\":\"\",\"marker\":{\"color\":\"#636efa\",\"pattern\":{\"shape\":\"\"}},\"name\":\"\",\"offsetgroup\":\"\",\"orientation\":\"v\",\"showlegend\":false,\"x\":[602.1497409150289,963.1227522439431,653.4266015628336,404.80395943452703],\"xaxis\":\"x\",\"yaxis\":\"y\",\"type\":\"histogram\"}],                        {\"template\":{\"data\":{\"histogram2dcontour\":[{\"type\":\"histogram2dcontour\",\"colorbar\":{\"outlinewidth\":0,\"ticks\":\"\"},\"colorscale\":[[0.0,\"#0d0887\"],[0.1111111111111111,\"#46039f\"],[0.2222222222222222,\"#7201a8\"],[0.3333333333333333,\"#9c179e\"],[0.4444444444444444,\"#bd3786\"],[0.5555555555555556,\"#d8576b\"],[0.6666666666666666,\"#ed7953\"],[0.7777777777777778,\"#fb9f3a\"],[0.8888888888888888,\"#fdca26\"],[1.0,\"#f0f921\"]]}],\"choropleth\":[{\"type\":\"choropleth\",\"colorbar\":{\"outlinewidth\":0,\"ticks\":\"\"}}],\"histogram2d\":[{\"type\":\"histogram2d\",\"colorbar\":{\"outlinewidth\":0,\"ticks\":\"\"},\"colorscale\":[[0.0,\"#0d0887\"],[0.1111111111111111,\"#46039f\"],[0.2222222222222222,\"#7201a8\"],[0.3333333333333333,\"#9c179e\"],[0.4444444444444444,\"#bd3786\"],[0.5555555555555556,\"#d8576b\"],[0.6666666666666666,\"#ed7953\"],[0.7777777777777778,\"#fb9f3a\"],[0.8888888888888888,\"#fdca26\"],[1.0,\"#f0f921\"]]}],\"heatmap\":[{\"type\":\"heatmap\",\"colorbar\":{\"outlinewidth\":0,\"ticks\":\"\"},\"colorscale\":[[0.0,\"#0d0887\"],[0.1111111111111111,\"#46039f\"],[0.2222222222222222,\"#7201a8\"],[0.3333333333333333,\"#9c179e\"],[0.4444444444444444,\"#bd3786\"],[0.5555555555555556,\"#d8576b\"],[0.6666666666666666,\"#ed7953\"],[0.7777777777777778,\"#fb9f3a\"],[0.8888888888888888,\"#fdca26\"],[1.0,\"#f0f921\"]]}],\"heatmapgl\":[{\"type\":\"heatmapgl\",\"colorbar\":{\"outlinewidth\":0,\"ticks\":\"\"},\"colorscale\":[[0.0,\"#0d0887\"],[0.1111111111111111,\"#46039f\"],[0.2222222222222222,\"#7201a8\"],[0.3333333333333333,\"#9c179e\"],[0.4444444444444444,\"#bd3786\"],[0.5555555555555556,\"#d8576b\"],[0.6666666666666666,\"#ed7953\"],[0.7777777777777778,\"#fb9f3a\"],[0.8888888888888888,\"#fdca26\"],[1.0,\"#f0f921\"]]}],\"contourcarpet\":[{\"type\":\"contourcarpet\",\"colorbar\":{\"outlinewidth\":0,\"ticks\":\"\"}}],\"contour\":[{\"type\":\"contour\",\"colorbar\":{\"outlinewidth\":0,\"ticks\":\"\"},\"colorscale\":[[0.0,\"#0d0887\"],[0.1111111111111111,\"#46039f\"],[0.2222222222222222,\"#7201a8\"],[0.3333333333333333,\"#9c179e\"],[0.4444444444444444,\"#bd3786\"],[0.5555555555555556,\"#d8576b\"],[0.6666666666666666,\"#ed7953\"],[0.7777777777777778,\"#fb9f3a\"],[0.8888888888888888,\"#fdca26\"],[1.0,\"#f0f921\"]]}],\"surface\":[{\"type\":\"surface\",\"colorbar\":{\"outlinewidth\":0,\"ticks\":\"\"},\"colorscale\":[[0.0,\"#0d0887\"],[0.1111111111111111,\"#46039f\"],[0.2222222222222222,\"#7201a8\"],[0.3333333333333333,\"#9c179e\"],[0.4444444444444444,\"#bd3786\"],[0.5555555555555556,\"#d8576b\"],[0.6666666666666666,\"#ed7953\"],[0.7777777777777778,\"#fb9f3a\"],[0.8888888888888888,\"#fdca26\"],[1.0,\"#f0f921\"]]}],\"mesh3d\":[{\"type\":\"mesh3d\",\"colorbar\":{\"outlinewidth\":0,\"ticks\":\"\"}}],\"scatter\":[{\"fillpattern\":{\"fillmode\":\"overlay\",\"size\":10,\"solidity\":0.2},\"type\":\"scatter\"}],\"parcoords\":[{\"type\":\"parcoords\",\"line\":{\"colorbar\":{\"outlinewidth\":0,\"ticks\":\"\"}}}],\"scatterpolargl\":[{\"type\":\"scatterpolargl\",\"marker\":{\"colorbar\":{\"outlinewidth\":0,\"ticks\":\"\"}}}],\"bar\":[{\"error_x\":{\"color\":\"#2a3f5f\"},\"error_y\":{\"color\":\"#2a3f5f\"},\"marker\":{\"line\":{\"color\":\"#E5ECF6\",\"width\":0.5},\"pattern\":{\"fillmode\":\"overlay\",\"size\":10,\"solidity\":0.2}},\"type\":\"bar\"}],\"scattergeo\":[{\"type\":\"scattergeo\",\"marker\":{\"colorbar\":{\"outlinewidth\":0,\"ticks\":\"\"}}}],\"scatterpolar\":[{\"type\":\"scatterpolar\",\"marker\":{\"colorbar\":{\"outlinewidth\":0,\"ticks\":\"\"}}}],\"histogram\":[{\"marker\":{\"pattern\":{\"fillmode\":\"overlay\",\"size\":10,\"solidity\":0.2}},\"type\":\"histogram\"}],\"scattergl\":[{\"type\":\"scattergl\",\"marker\":{\"colorbar\":{\"outlinewidth\":0,\"ticks\":\"\"}}}],\"scatter3d\":[{\"type\":\"scatter3d\",\"line\":{\"colorbar\":{\"outlinewidth\":0,\"ticks\":\"\"}},\"marker\":{\"colorbar\":{\"outlinewidth\":0,\"ticks\":\"\"}}}],\"scattermapbox\":[{\"type\":\"scattermapbox\",\"marker\":{\"colorbar\":{\"outlinewidth\":0,\"ticks\":\"\"}}}],\"scatterternary\":[{\"type\":\"scatterternary\",\"marker\":{\"colorbar\":{\"outlinewidth\":0,\"ticks\":\"\"}}}],\"scattercarpet\":[{\"type\":\"scattercarpet\",\"marker\":{\"colorbar\":{\"outlinewidth\":0,\"ticks\":\"\"}}}],\"carpet\":[{\"aaxis\":{\"endlinecolor\":\"#2a3f5f\",\"gridcolor\":\"white\",\"linecolor\":\"white\",\"minorgridcolor\":\"white\",\"startlinecolor\":\"#2a3f5f\"},\"baxis\":{\"endlinecolor\":\"#2a3f5f\",\"gridcolor\":\"white\",\"linecolor\":\"white\",\"minorgridcolor\":\"white\",\"startlinecolor\":\"#2a3f5f\"},\"type\":\"carpet\"}],\"table\":[{\"cells\":{\"fill\":{\"color\":\"#EBF0F8\"},\"line\":{\"color\":\"white\"}},\"header\":{\"fill\":{\"color\":\"#C8D4E3\"},\"line\":{\"color\":\"white\"}},\"type\":\"table\"}],\"barpolar\":[{\"marker\":{\"line\":{\"color\":\"#E5ECF6\",\"width\":0.5},\"pattern\":{\"fillmode\":\"overlay\",\"size\":10,\"solidity\":0.2}},\"type\":\"barpolar\"}],\"pie\":[{\"automargin\":true,\"type\":\"pie\"}]},\"layout\":{\"autotypenumbers\":\"strict\",\"colorway\":[\"#636efa\",\"#EF553B\",\"#00cc96\",\"#ab63fa\",\"#FFA15A\",\"#19d3f3\",\"#FF6692\",\"#B6E880\",\"#FF97FF\",\"#FECB52\"],\"font\":{\"color\":\"#2a3f5f\"},\"hovermode\":\"closest\",\"hoverlabel\":{\"align\":\"left\"},\"paper_bgcolor\":\"white\",\"plot_bgcolor\":\"#E5ECF6\",\"polar\":{\"bgcolor\":\"#E5ECF6\",\"angularaxis\":{\"gridcolor\":\"white\",\"linecolor\":\"white\",\"ticks\":\"\"},\"radialaxis\":{\"gridcolor\":\"white\",\"linecolor\":\"white\",\"ticks\":\"\"}},\"ternary\":{\"bgcolor\":\"#E5ECF6\",\"aaxis\":{\"gridcolor\":\"white\",\"linecolor\":\"white\",\"ticks\":\"\"},\"baxis\":{\"gridcolor\":\"white\",\"linecolor\":\"white\",\"ticks\":\"\"},\"caxis\":{\"gridcolor\":\"white\",\"linecolor\":\"white\",\"ticks\":\"\"}},\"coloraxis\":{\"colorbar\":{\"outlinewidth\":0,\"ticks\":\"\"}},\"colorscale\":{\"sequential\":[[0.0,\"#0d0887\"],[0.1111111111111111,\"#46039f\"],[0.2222222222222222,\"#7201a8\"],[0.3333333333333333,\"#9c179e\"],[0.4444444444444444,\"#bd3786\"],[0.5555555555555556,\"#d8576b\"],[0.6666666666666666,\"#ed7953\"],[0.7777777777777778,\"#fb9f3a\"],[0.8888888888888888,\"#fdca26\"],[1.0,\"#f0f921\"]],\"sequentialminus\":[[0.0,\"#0d0887\"],[0.1111111111111111,\"#46039f\"],[0.2222222222222222,\"#7201a8\"],[0.3333333333333333,\"#9c179e\"],[0.4444444444444444,\"#bd3786\"],[0.5555555555555556,\"#d8576b\"],[0.6666666666666666,\"#ed7953\"],[0.7777777777777778,\"#fb9f3a\"],[0.8888888888888888,\"#fdca26\"],[1.0,\"#f0f921\"]],\"diverging\":[[0,\"#8e0152\"],[0.1,\"#c51b7d\"],[0.2,\"#de77ae\"],[0.3,\"#f1b6da\"],[0.4,\"#fde0ef\"],[0.5,\"#f7f7f7\"],[0.6,\"#e6f5d0\"],[0.7,\"#b8e186\"],[0.8,\"#7fbc41\"],[0.9,\"#4d9221\"],[1,\"#276419\"]]},\"xaxis\":{\"gridcolor\":\"white\",\"linecolor\":\"white\",\"ticks\":\"\",\"title\":{\"standoff\":15},\"zerolinecolor\":\"white\",\"automargin\":true,\"zerolinewidth\":2},\"yaxis\":{\"gridcolor\":\"white\",\"linecolor\":\"white\",\"ticks\":\"\",\"title\":{\"standoff\":15},\"zerolinecolor\":\"white\",\"automargin\":true,\"zerolinewidth\":2},\"scene\":{\"xaxis\":{\"backgroundcolor\":\"#E5ECF6\",\"gridcolor\":\"white\",\"linecolor\":\"white\",\"showbackground\":true,\"ticks\":\"\",\"zerolinecolor\":\"white\",\"gridwidth\":2},\"yaxis\":{\"backgroundcolor\":\"#E5ECF6\",\"gridcolor\":\"white\",\"linecolor\":\"white\",\"showbackground\":true,\"ticks\":\"\",\"zerolinecolor\":\"white\",\"gridwidth\":2},\"zaxis\":{\"backgroundcolor\":\"#E5ECF6\",\"gridcolor\":\"white\",\"linecolor\":\"white\",\"showbackground\":true,\"ticks\":\"\",\"zerolinecolor\":\"white\",\"gridwidth\":2}},\"shapedefaults\":{\"line\":{\"color\":\"#2a3f5f\"}},\"annotationdefaults\":{\"arrowcolor\":\"#2a3f5f\",\"arrowhead\":0,\"arrowwidth\":1},\"geo\":{\"bgcolor\":\"white\",\"landcolor\":\"#E5ECF6\",\"subunitcolor\":\"white\",\"showland\":true,\"showlakes\":true,\"lakecolor\":\"white\"},\"title\":{\"x\":0.05},\"mapbox\":{\"style\":\"light\"}}},\"xaxis\":{\"anchor\":\"y\",\"domain\":[0.0,1.0],\"title\":{\"text\":\"energy_not_served_mwh\"}},\"yaxis\":{\"anchor\":\"x\",\"domain\":[0.0,1.0],\"title\":{\"text\":\"probability\"}},\"legend\":{\"tracegroupgap\":0},\"margin\":{\"t\":60},\"barmode\":\"relative\"},                        {\"responsive\": true}                    ).then(function(){\n",
       "                            \n",
       "var gd = document.getElementById('c7ffbe50-a90a-445e-85de-15e650c09206');\n",
       "var x = new MutationObserver(function (mutations, observer) {{\n",
       "        var display = window.getComputedStyle(gd).display;\n",
       "        if (!display || display === 'none') {{\n",
       "            console.log([gd, 'removed!']);\n",
       "            Plotly.purge(gd);\n",
       "            observer.disconnect();\n",
       "        }}\n",
       "}});\n",
       "\n",
       "// Listen for the removal of the full notebook cells\n",
       "var notebookContainer = gd.closest('#notebook-container');\n",
       "if (notebookContainer) {{\n",
       "    x.observe(notebookContainer, {childList: true});\n",
       "}}\n",
       "\n",
       "// Listen for the clearing of the current output cell\n",
       "var outputEl = gd.closest('.output');\n",
       "if (outputEl) {{\n",
       "    x.observe(outputEl, {childList: true});\n",
       "}}\n",
       "\n",
       "                        })                };                });            </script>        </div>"
      ]
     },
     "metadata": {},
     "output_type": "display_data"
    }
   ],
   "source": [
    "df_network_condensed_ = invert(df_network_condensed)\n",
    "px.histogram(df_network_condensed_, x='energy_not_served_mwh', histnorm='probability')"
   ]
  },
  {
   "cell_type": "code",
   "execution_count": 35,
   "id": "amino-gentleman",
   "metadata": {},
   "outputs": [
    {
     "name": "stdout",
     "output_type": "stream",
     "text": [
      "EENS : 655.88 MWh, LOLE : 12.5 h\n"
     ]
    }
   ],
   "source": [
    "statistics= df_network_condensed.groupby('field').mean() # average over iterations\n",
    "EENS = statistics['energy_not_served_mwh']\n",
    "LOLE = statistics['loss_of_load_p_duration_h']\n",
    "print(f'EENS : {EENS.round(2)} MWh, LOLE : {LOLE.round(2)} h')"
   ]
  },
  {
   "cell_type": "markdown",
   "id": "nonprofit-distance",
   "metadata": {},
   "source": [
    "## Survivability\n",
    "Probability of supplying at minimum percentage of the load."
   ]
  },
  {
   "cell_type": "code",
   "execution_count": null,
   "id": "located-cover",
   "metadata": {},
   "outputs": [],
   "source": [
    "crt_loss_of_load = 20\n",
    "df_loss_of_load = df.loc[:,:,\"loss_of_load_p_percentage\",\"network\"]\n",
    "Survivability = pd.DataFrame(1 - (df_loss_of_load > crt_loss_of_load).sum() / df_loss_of_load.index.levels[1].size, columns = ['base case'])\n",
    "\n",
    "df_aux = pd.read_csv(rx.config.path.engineDatabaseFile('basic_example_v1'), index_col = [0, 1, 2, 3, 4])\n",
    "df_loss_of_load_aux = df_aux.loc[:,\"loss_of_load_p_percentage\",\"network\"]\n",
    "Survivability['line 10 reinforced'] = 1 - (df_loss_of_load_aux > crt_loss_of_load).sum() / df_loss_of_load_aux.index.levels[0].size\n",
    "\n",
    "df_aux = pd.read_csv(rx.config.path.engineDatabaseFile('basic_example_v2'), index_col = [0, 1, 2, 3, 4])\n",
    "df_loss_of_load_aux = df_aux.loc[:,\"loss_of_load_p_percentage\",\"network\"]\n",
    "Survivability['line 2 reparing time improved'] = 1 - (df_loss_of_load_aux > crt_loss_of_load).sum() / df_loss_of_load_aux.index.levels[0].size"
   ]
  },
  {
   "cell_type": "code",
   "execution_count": 53,
   "id": "hearing-implement",
   "metadata": {},
   "outputs": [
    {
     "data": {
      "application/vnd.plotly.v1+json": {
       "config": {
        "plotlyServerURL": "https://plot.ly"
       },
       "data": [
        {
         "hovertemplate": "variable=base case<br>index=%{x}<br>value=%{y}<extra></extra>",
         "legendgroup": "base case",
         "line": {
          "color": "#636efa",
          "dash": "solid"
         },
         "marker": {
          "symbol": "circle"
         },
         "mode": "lines",
         "name": "base case",
         "orientation": "v",
         "showlegend": true,
         "type": "scatter",
         "x": [
          "2022-01-01 01:00:00",
          "2022-01-01 02:00:00",
          "2022-01-01 03:00:00",
          "2022-01-01 04:00:00",
          "2022-01-01 05:00:00",
          "2022-01-01 06:00:00",
          "2022-01-01 07:00:00",
          "2022-01-01 08:00:00",
          "2022-01-01 09:00:00",
          "2022-01-01 10:00:00",
          "2022-01-01 11:00:00",
          "2022-01-01 12:00:00",
          "2022-01-01 13:00:00",
          "2022-01-01 14:00:00",
          "2022-01-01 15:00:00",
          "2022-01-01 16:00:00",
          "2022-01-01 17:00:00",
          "2022-01-01 18:00:00",
          "2022-01-01 19:00:00",
          "2022-01-01 20:00:00",
          "2022-01-01 21:00:00",
          "2022-01-01 22:00:00",
          "2022-01-01 23:00:00",
          "2022-01-02 00:00:00",
          "2022-01-02 01:00:00",
          "2022-01-02 02:00:00",
          "2022-01-02 03:00:00",
          "2022-01-02 04:00:00",
          "2022-01-02 05:00:00",
          "2022-01-02 06:00:00",
          "2022-01-02 07:00:00",
          "2022-01-02 08:00:00",
          "2022-01-02 09:00:00",
          "2022-01-02 10:00:00",
          "2022-01-02 11:00:00",
          "2022-01-02 12:00:00",
          "2022-01-02 13:00:00",
          "2022-01-02 14:00:00",
          "2022-01-02 15:00:00",
          "2022-01-02 16:00:00"
         ],
         "xaxis": "x",
         "y": [
          100,
          100,
          100,
          100,
          100,
          100,
          100,
          100,
          100,
          100,
          100,
          100,
          100,
          100,
          100,
          50,
          75,
          100,
          25,
          50,
          100,
          100,
          25,
          100,
          100,
          100,
          100,
          100,
          100,
          100,
          100,
          100,
          100,
          100,
          100,
          100,
          100,
          100,
          100,
          100
         ],
         "yaxis": "y"
        },
        {
         "hovertemplate": "variable=line 10 reinforced<br>index=%{x}<br>value=%{y}<extra></extra>",
         "legendgroup": "line 10 reinforced",
         "line": {
          "color": "#EF553B",
          "dash": "solid"
         },
         "marker": {
          "symbol": "circle"
         },
         "mode": "lines",
         "name": "line 10 reinforced",
         "orientation": "v",
         "showlegend": true,
         "type": "scatter",
         "x": [
          "2022-01-01 01:00:00",
          "2022-01-01 02:00:00",
          "2022-01-01 03:00:00",
          "2022-01-01 04:00:00",
          "2022-01-01 05:00:00",
          "2022-01-01 06:00:00",
          "2022-01-01 07:00:00",
          "2022-01-01 08:00:00",
          "2022-01-01 09:00:00",
          "2022-01-01 10:00:00",
          "2022-01-01 11:00:00",
          "2022-01-01 12:00:00",
          "2022-01-01 13:00:00",
          "2022-01-01 14:00:00",
          "2022-01-01 15:00:00",
          "2022-01-01 16:00:00",
          "2022-01-01 17:00:00",
          "2022-01-01 18:00:00",
          "2022-01-01 19:00:00",
          "2022-01-01 20:00:00",
          "2022-01-01 21:00:00",
          "2022-01-01 22:00:00",
          "2022-01-01 23:00:00",
          "2022-01-02 00:00:00",
          "2022-01-02 01:00:00",
          "2022-01-02 02:00:00",
          "2022-01-02 03:00:00",
          "2022-01-02 04:00:00",
          "2022-01-02 05:00:00",
          "2022-01-02 06:00:00",
          "2022-01-02 07:00:00",
          "2022-01-02 08:00:00",
          "2022-01-02 09:00:00",
          "2022-01-02 10:00:00",
          "2022-01-02 11:00:00",
          "2022-01-02 12:00:00",
          "2022-01-02 13:00:00",
          "2022-01-02 14:00:00",
          "2022-01-02 15:00:00",
          "2022-01-02 16:00:00"
         ],
         "xaxis": "x",
         "y": [
          null,
          100,
          100,
          100,
          100,
          100,
          100,
          100,
          100,
          100,
          100,
          100,
          99,
          100,
          87,
          84,
          84,
          100,
          83,
          43.99999999999999,
          89,
          95,
          74,
          93,
          92,
          100,
          81,
          83,
          83,
          99,
          97,
          99,
          99,
          98,
          98,
          99,
          99,
          100,
          100,
          100
         ],
         "yaxis": "y"
        },
        {
         "hovertemplate": "variable=line 2 reparing time improved<br>index=%{x}<br>value=%{y}<extra></extra>",
         "legendgroup": "line 2 reparing time improved",
         "line": {
          "color": "#00cc96",
          "dash": "solid"
         },
         "marker": {
          "symbol": "circle"
         },
         "mode": "lines",
         "name": "line 2 reparing time improved",
         "orientation": "v",
         "showlegend": true,
         "type": "scatter",
         "x": [
          "2022-01-01 01:00:00",
          "2022-01-01 02:00:00",
          "2022-01-01 03:00:00",
          "2022-01-01 04:00:00",
          "2022-01-01 05:00:00",
          "2022-01-01 06:00:00",
          "2022-01-01 07:00:00",
          "2022-01-01 08:00:00",
          "2022-01-01 09:00:00",
          "2022-01-01 10:00:00",
          "2022-01-01 11:00:00",
          "2022-01-01 12:00:00",
          "2022-01-01 13:00:00",
          "2022-01-01 14:00:00",
          "2022-01-01 15:00:00",
          "2022-01-01 16:00:00",
          "2022-01-01 17:00:00",
          "2022-01-01 18:00:00",
          "2022-01-01 19:00:00",
          "2022-01-01 20:00:00",
          "2022-01-01 21:00:00",
          "2022-01-01 22:00:00",
          "2022-01-01 23:00:00",
          "2022-01-02 00:00:00",
          "2022-01-02 01:00:00",
          "2022-01-02 02:00:00",
          "2022-01-02 03:00:00",
          "2022-01-02 04:00:00",
          "2022-01-02 05:00:00",
          "2022-01-02 06:00:00",
          "2022-01-02 07:00:00",
          "2022-01-02 08:00:00",
          "2022-01-02 09:00:00",
          "2022-01-02 10:00:00",
          "2022-01-02 11:00:00",
          "2022-01-02 12:00:00",
          "2022-01-02 13:00:00",
          "2022-01-02 14:00:00",
          "2022-01-02 15:00:00",
          "2022-01-02 16:00:00"
         ],
         "xaxis": "x",
         "y": [
          null,
          100,
          100,
          100,
          100,
          100,
          100,
          100,
          100,
          100,
          100,
          100,
          100,
          100,
          83,
          76,
          76,
          100,
          81,
          42.00000000000001,
          86,
          93,
          71,
          92,
          94,
          100,
          78,
          80,
          84,
          99,
          98,
          100,
          98,
          98,
          99,
          99,
          99,
          100,
          100,
          100
         ],
         "yaxis": "y"
        }
       ],
       "layout": {
        "legend": {
         "title": {
          "text": "variable"
         },
         "tracegroupgap": 0
        },
        "margin": {
         "t": 60
        },
        "template": {
         "data": {
          "bar": [
           {
            "error_x": {
             "color": "#2a3f5f"
            },
            "error_y": {
             "color": "#2a3f5f"
            },
            "marker": {
             "line": {
              "color": "#E5ECF6",
              "width": 0.5
             },
             "pattern": {
              "fillmode": "overlay",
              "size": 10,
              "solidity": 0.2
             }
            },
            "type": "bar"
           }
          ],
          "barpolar": [
           {
            "marker": {
             "line": {
              "color": "#E5ECF6",
              "width": 0.5
             },
             "pattern": {
              "fillmode": "overlay",
              "size": 10,
              "solidity": 0.2
             }
            },
            "type": "barpolar"
           }
          ],
          "carpet": [
           {
            "aaxis": {
             "endlinecolor": "#2a3f5f",
             "gridcolor": "white",
             "linecolor": "white",
             "minorgridcolor": "white",
             "startlinecolor": "#2a3f5f"
            },
            "baxis": {
             "endlinecolor": "#2a3f5f",
             "gridcolor": "white",
             "linecolor": "white",
             "minorgridcolor": "white",
             "startlinecolor": "#2a3f5f"
            },
            "type": "carpet"
           }
          ],
          "choropleth": [
           {
            "colorbar": {
             "outlinewidth": 0,
             "ticks": ""
            },
            "type": "choropleth"
           }
          ],
          "contour": [
           {
            "colorbar": {
             "outlinewidth": 0,
             "ticks": ""
            },
            "colorscale": [
             [
              0,
              "#0d0887"
             ],
             [
              0.1111111111111111,
              "#46039f"
             ],
             [
              0.2222222222222222,
              "#7201a8"
             ],
             [
              0.3333333333333333,
              "#9c179e"
             ],
             [
              0.4444444444444444,
              "#bd3786"
             ],
             [
              0.5555555555555556,
              "#d8576b"
             ],
             [
              0.6666666666666666,
              "#ed7953"
             ],
             [
              0.7777777777777778,
              "#fb9f3a"
             ],
             [
              0.8888888888888888,
              "#fdca26"
             ],
             [
              1,
              "#f0f921"
             ]
            ],
            "type": "contour"
           }
          ],
          "contourcarpet": [
           {
            "colorbar": {
             "outlinewidth": 0,
             "ticks": ""
            },
            "type": "contourcarpet"
           }
          ],
          "heatmap": [
           {
            "colorbar": {
             "outlinewidth": 0,
             "ticks": ""
            },
            "colorscale": [
             [
              0,
              "#0d0887"
             ],
             [
              0.1111111111111111,
              "#46039f"
             ],
             [
              0.2222222222222222,
              "#7201a8"
             ],
             [
              0.3333333333333333,
              "#9c179e"
             ],
             [
              0.4444444444444444,
              "#bd3786"
             ],
             [
              0.5555555555555556,
              "#d8576b"
             ],
             [
              0.6666666666666666,
              "#ed7953"
             ],
             [
              0.7777777777777778,
              "#fb9f3a"
             ],
             [
              0.8888888888888888,
              "#fdca26"
             ],
             [
              1,
              "#f0f921"
             ]
            ],
            "type": "heatmap"
           }
          ],
          "heatmapgl": [
           {
            "colorbar": {
             "outlinewidth": 0,
             "ticks": ""
            },
            "colorscale": [
             [
              0,
              "#0d0887"
             ],
             [
              0.1111111111111111,
              "#46039f"
             ],
             [
              0.2222222222222222,
              "#7201a8"
             ],
             [
              0.3333333333333333,
              "#9c179e"
             ],
             [
              0.4444444444444444,
              "#bd3786"
             ],
             [
              0.5555555555555556,
              "#d8576b"
             ],
             [
              0.6666666666666666,
              "#ed7953"
             ],
             [
              0.7777777777777778,
              "#fb9f3a"
             ],
             [
              0.8888888888888888,
              "#fdca26"
             ],
             [
              1,
              "#f0f921"
             ]
            ],
            "type": "heatmapgl"
           }
          ],
          "histogram": [
           {
            "marker": {
             "pattern": {
              "fillmode": "overlay",
              "size": 10,
              "solidity": 0.2
             }
            },
            "type": "histogram"
           }
          ],
          "histogram2d": [
           {
            "colorbar": {
             "outlinewidth": 0,
             "ticks": ""
            },
            "colorscale": [
             [
              0,
              "#0d0887"
             ],
             [
              0.1111111111111111,
              "#46039f"
             ],
             [
              0.2222222222222222,
              "#7201a8"
             ],
             [
              0.3333333333333333,
              "#9c179e"
             ],
             [
              0.4444444444444444,
              "#bd3786"
             ],
             [
              0.5555555555555556,
              "#d8576b"
             ],
             [
              0.6666666666666666,
              "#ed7953"
             ],
             [
              0.7777777777777778,
              "#fb9f3a"
             ],
             [
              0.8888888888888888,
              "#fdca26"
             ],
             [
              1,
              "#f0f921"
             ]
            ],
            "type": "histogram2d"
           }
          ],
          "histogram2dcontour": [
           {
            "colorbar": {
             "outlinewidth": 0,
             "ticks": ""
            },
            "colorscale": [
             [
              0,
              "#0d0887"
             ],
             [
              0.1111111111111111,
              "#46039f"
             ],
             [
              0.2222222222222222,
              "#7201a8"
             ],
             [
              0.3333333333333333,
              "#9c179e"
             ],
             [
              0.4444444444444444,
              "#bd3786"
             ],
             [
              0.5555555555555556,
              "#d8576b"
             ],
             [
              0.6666666666666666,
              "#ed7953"
             ],
             [
              0.7777777777777778,
              "#fb9f3a"
             ],
             [
              0.8888888888888888,
              "#fdca26"
             ],
             [
              1,
              "#f0f921"
             ]
            ],
            "type": "histogram2dcontour"
           }
          ],
          "mesh3d": [
           {
            "colorbar": {
             "outlinewidth": 0,
             "ticks": ""
            },
            "type": "mesh3d"
           }
          ],
          "parcoords": [
           {
            "line": {
             "colorbar": {
              "outlinewidth": 0,
              "ticks": ""
             }
            },
            "type": "parcoords"
           }
          ],
          "pie": [
           {
            "automargin": true,
            "type": "pie"
           }
          ],
          "scatter": [
           {
            "fillpattern": {
             "fillmode": "overlay",
             "size": 10,
             "solidity": 0.2
            },
            "type": "scatter"
           }
          ],
          "scatter3d": [
           {
            "line": {
             "colorbar": {
              "outlinewidth": 0,
              "ticks": ""
             }
            },
            "marker": {
             "colorbar": {
              "outlinewidth": 0,
              "ticks": ""
             }
            },
            "type": "scatter3d"
           }
          ],
          "scattercarpet": [
           {
            "marker": {
             "colorbar": {
              "outlinewidth": 0,
              "ticks": ""
             }
            },
            "type": "scattercarpet"
           }
          ],
          "scattergeo": [
           {
            "marker": {
             "colorbar": {
              "outlinewidth": 0,
              "ticks": ""
             }
            },
            "type": "scattergeo"
           }
          ],
          "scattergl": [
           {
            "marker": {
             "colorbar": {
              "outlinewidth": 0,
              "ticks": ""
             }
            },
            "type": "scattergl"
           }
          ],
          "scattermapbox": [
           {
            "marker": {
             "colorbar": {
              "outlinewidth": 0,
              "ticks": ""
             }
            },
            "type": "scattermapbox"
           }
          ],
          "scatterpolar": [
           {
            "marker": {
             "colorbar": {
              "outlinewidth": 0,
              "ticks": ""
             }
            },
            "type": "scatterpolar"
           }
          ],
          "scatterpolargl": [
           {
            "marker": {
             "colorbar": {
              "outlinewidth": 0,
              "ticks": ""
             }
            },
            "type": "scatterpolargl"
           }
          ],
          "scatterternary": [
           {
            "marker": {
             "colorbar": {
              "outlinewidth": 0,
              "ticks": ""
             }
            },
            "type": "scatterternary"
           }
          ],
          "surface": [
           {
            "colorbar": {
             "outlinewidth": 0,
             "ticks": ""
            },
            "colorscale": [
             [
              0,
              "#0d0887"
             ],
             [
              0.1111111111111111,
              "#46039f"
             ],
             [
              0.2222222222222222,
              "#7201a8"
             ],
             [
              0.3333333333333333,
              "#9c179e"
             ],
             [
              0.4444444444444444,
              "#bd3786"
             ],
             [
              0.5555555555555556,
              "#d8576b"
             ],
             [
              0.6666666666666666,
              "#ed7953"
             ],
             [
              0.7777777777777778,
              "#fb9f3a"
             ],
             [
              0.8888888888888888,
              "#fdca26"
             ],
             [
              1,
              "#f0f921"
             ]
            ],
            "type": "surface"
           }
          ],
          "table": [
           {
            "cells": {
             "fill": {
              "color": "#EBF0F8"
             },
             "line": {
              "color": "white"
             }
            },
            "header": {
             "fill": {
              "color": "#C8D4E3"
             },
             "line": {
              "color": "white"
             }
            },
            "type": "table"
           }
          ]
         },
         "layout": {
          "annotationdefaults": {
           "arrowcolor": "#2a3f5f",
           "arrowhead": 0,
           "arrowwidth": 1
          },
          "autotypenumbers": "strict",
          "coloraxis": {
           "colorbar": {
            "outlinewidth": 0,
            "ticks": ""
           }
          },
          "colorscale": {
           "diverging": [
            [
             0,
             "#8e0152"
            ],
            [
             0.1,
             "#c51b7d"
            ],
            [
             0.2,
             "#de77ae"
            ],
            [
             0.3,
             "#f1b6da"
            ],
            [
             0.4,
             "#fde0ef"
            ],
            [
             0.5,
             "#f7f7f7"
            ],
            [
             0.6,
             "#e6f5d0"
            ],
            [
             0.7,
             "#b8e186"
            ],
            [
             0.8,
             "#7fbc41"
            ],
            [
             0.9,
             "#4d9221"
            ],
            [
             1,
             "#276419"
            ]
           ],
           "sequential": [
            [
             0,
             "#0d0887"
            ],
            [
             0.1111111111111111,
             "#46039f"
            ],
            [
             0.2222222222222222,
             "#7201a8"
            ],
            [
             0.3333333333333333,
             "#9c179e"
            ],
            [
             0.4444444444444444,
             "#bd3786"
            ],
            [
             0.5555555555555556,
             "#d8576b"
            ],
            [
             0.6666666666666666,
             "#ed7953"
            ],
            [
             0.7777777777777778,
             "#fb9f3a"
            ],
            [
             0.8888888888888888,
             "#fdca26"
            ],
            [
             1,
             "#f0f921"
            ]
           ],
           "sequentialminus": [
            [
             0,
             "#0d0887"
            ],
            [
             0.1111111111111111,
             "#46039f"
            ],
            [
             0.2222222222222222,
             "#7201a8"
            ],
            [
             0.3333333333333333,
             "#9c179e"
            ],
            [
             0.4444444444444444,
             "#bd3786"
            ],
            [
             0.5555555555555556,
             "#d8576b"
            ],
            [
             0.6666666666666666,
             "#ed7953"
            ],
            [
             0.7777777777777778,
             "#fb9f3a"
            ],
            [
             0.8888888888888888,
             "#fdca26"
            ],
            [
             1,
             "#f0f921"
            ]
           ]
          },
          "colorway": [
           "#636efa",
           "#EF553B",
           "#00cc96",
           "#ab63fa",
           "#FFA15A",
           "#19d3f3",
           "#FF6692",
           "#B6E880",
           "#FF97FF",
           "#FECB52"
          ],
          "font": {
           "color": "#2a3f5f"
          },
          "geo": {
           "bgcolor": "white",
           "lakecolor": "white",
           "landcolor": "#E5ECF6",
           "showlakes": true,
           "showland": true,
           "subunitcolor": "white"
          },
          "hoverlabel": {
           "align": "left"
          },
          "hovermode": "closest",
          "mapbox": {
           "style": "light"
          },
          "paper_bgcolor": "white",
          "plot_bgcolor": "#E5ECF6",
          "polar": {
           "angularaxis": {
            "gridcolor": "white",
            "linecolor": "white",
            "ticks": ""
           },
           "bgcolor": "#E5ECF6",
           "radialaxis": {
            "gridcolor": "white",
            "linecolor": "white",
            "ticks": ""
           }
          },
          "scene": {
           "xaxis": {
            "backgroundcolor": "#E5ECF6",
            "gridcolor": "white",
            "gridwidth": 2,
            "linecolor": "white",
            "showbackground": true,
            "ticks": "",
            "zerolinecolor": "white"
           },
           "yaxis": {
            "backgroundcolor": "#E5ECF6",
            "gridcolor": "white",
            "gridwidth": 2,
            "linecolor": "white",
            "showbackground": true,
            "ticks": "",
            "zerolinecolor": "white"
           },
           "zaxis": {
            "backgroundcolor": "#E5ECF6",
            "gridcolor": "white",
            "gridwidth": 2,
            "linecolor": "white",
            "showbackground": true,
            "ticks": "",
            "zerolinecolor": "white"
           }
          },
          "shapedefaults": {
           "line": {
            "color": "#2a3f5f"
           }
          },
          "ternary": {
           "aaxis": {
            "gridcolor": "white",
            "linecolor": "white",
            "ticks": ""
           },
           "baxis": {
            "gridcolor": "white",
            "linecolor": "white",
            "ticks": ""
           },
           "bgcolor": "#E5ECF6",
           "caxis": {
            "gridcolor": "white",
            "linecolor": "white",
            "ticks": ""
           }
          },
          "title": {
           "x": 0.05
          },
          "xaxis": {
           "automargin": true,
           "gridcolor": "white",
           "linecolor": "white",
           "ticks": "",
           "title": {
            "standoff": 15
           },
           "zerolinecolor": "white",
           "zerolinewidth": 2
          },
          "yaxis": {
           "automargin": true,
           "gridcolor": "white",
           "linecolor": "white",
           "ticks": "",
           "title": {
            "standoff": 15
           },
           "zerolinecolor": "white",
           "zerolinewidth": 2
          }
         }
        },
        "xaxis": {
         "anchor": "y",
         "domain": [
          0,
          1
         ],
         "title": {
          "text": "Time"
         }
        },
        "yaxis": {
         "anchor": "x",
         "domain": [
          0,
          1
         ],
         "title": {
          "text": "Survivability [%]"
         }
        }
       }
      },
      "text/html": [
       "<div>                            <div id=\"f3b5c00d-ed4f-4666-b7f6-4682427e0063\" class=\"plotly-graph-div\" style=\"height:525px; width:100%;\"></div>            <script type=\"text/javascript\">                require([\"plotly\"], function(Plotly) {                    window.PLOTLYENV=window.PLOTLYENV || {};                                    if (document.getElementById(\"f3b5c00d-ed4f-4666-b7f6-4682427e0063\")) {                    Plotly.newPlot(                        \"f3b5c00d-ed4f-4666-b7f6-4682427e0063\",                        [{\"hovertemplate\":\"variable=base case<br>index=%{x}<br>value=%{y}<extra></extra>\",\"legendgroup\":\"base case\",\"line\":{\"color\":\"#636efa\",\"dash\":\"solid\"},\"marker\":{\"symbol\":\"circle\"},\"mode\":\"lines\",\"name\":\"base case\",\"orientation\":\"v\",\"showlegend\":true,\"x\":[\"2022-01-01 01:00:00\",\"2022-01-01 02:00:00\",\"2022-01-01 03:00:00\",\"2022-01-01 04:00:00\",\"2022-01-01 05:00:00\",\"2022-01-01 06:00:00\",\"2022-01-01 07:00:00\",\"2022-01-01 08:00:00\",\"2022-01-01 09:00:00\",\"2022-01-01 10:00:00\",\"2022-01-01 11:00:00\",\"2022-01-01 12:00:00\",\"2022-01-01 13:00:00\",\"2022-01-01 14:00:00\",\"2022-01-01 15:00:00\",\"2022-01-01 16:00:00\",\"2022-01-01 17:00:00\",\"2022-01-01 18:00:00\",\"2022-01-01 19:00:00\",\"2022-01-01 20:00:00\",\"2022-01-01 21:00:00\",\"2022-01-01 22:00:00\",\"2022-01-01 23:00:00\",\"2022-01-02 00:00:00\",\"2022-01-02 01:00:00\",\"2022-01-02 02:00:00\",\"2022-01-02 03:00:00\",\"2022-01-02 04:00:00\",\"2022-01-02 05:00:00\",\"2022-01-02 06:00:00\",\"2022-01-02 07:00:00\",\"2022-01-02 08:00:00\",\"2022-01-02 09:00:00\",\"2022-01-02 10:00:00\",\"2022-01-02 11:00:00\",\"2022-01-02 12:00:00\",\"2022-01-02 13:00:00\",\"2022-01-02 14:00:00\",\"2022-01-02 15:00:00\",\"2022-01-02 16:00:00\"],\"xaxis\":\"x\",\"y\":[100.0,100.0,100.0,100.0,100.0,100.0,100.0,100.0,100.0,100.0,100.0,100.0,100.0,100.0,100.0,50.0,75.0,100.0,25.0,50.0,100.0,100.0,25.0,100.0,100.0,100.0,100.0,100.0,100.0,100.0,100.0,100.0,100.0,100.0,100.0,100.0,100.0,100.0,100.0,100.0],\"yaxis\":\"y\",\"type\":\"scatter\"},{\"hovertemplate\":\"variable=line 10 reinforced<br>index=%{x}<br>value=%{y}<extra></extra>\",\"legendgroup\":\"line 10 reinforced\",\"line\":{\"color\":\"#EF553B\",\"dash\":\"solid\"},\"marker\":{\"symbol\":\"circle\"},\"mode\":\"lines\",\"name\":\"line 10 reinforced\",\"orientation\":\"v\",\"showlegend\":true,\"x\":[\"2022-01-01 01:00:00\",\"2022-01-01 02:00:00\",\"2022-01-01 03:00:00\",\"2022-01-01 04:00:00\",\"2022-01-01 05:00:00\",\"2022-01-01 06:00:00\",\"2022-01-01 07:00:00\",\"2022-01-01 08:00:00\",\"2022-01-01 09:00:00\",\"2022-01-01 10:00:00\",\"2022-01-01 11:00:00\",\"2022-01-01 12:00:00\",\"2022-01-01 13:00:00\",\"2022-01-01 14:00:00\",\"2022-01-01 15:00:00\",\"2022-01-01 16:00:00\",\"2022-01-01 17:00:00\",\"2022-01-01 18:00:00\",\"2022-01-01 19:00:00\",\"2022-01-01 20:00:00\",\"2022-01-01 21:00:00\",\"2022-01-01 22:00:00\",\"2022-01-01 23:00:00\",\"2022-01-02 00:00:00\",\"2022-01-02 01:00:00\",\"2022-01-02 02:00:00\",\"2022-01-02 03:00:00\",\"2022-01-02 04:00:00\",\"2022-01-02 05:00:00\",\"2022-01-02 06:00:00\",\"2022-01-02 07:00:00\",\"2022-01-02 08:00:00\",\"2022-01-02 09:00:00\",\"2022-01-02 10:00:00\",\"2022-01-02 11:00:00\",\"2022-01-02 12:00:00\",\"2022-01-02 13:00:00\",\"2022-01-02 14:00:00\",\"2022-01-02 15:00:00\",\"2022-01-02 16:00:00\"],\"xaxis\":\"x\",\"y\":[null,100.0,100.0,100.0,100.0,100.0,100.0,100.0,100.0,100.0,100.0,100.0,99.0,100.0,87.0,84.0,84.0,100.0,83.0,43.99999999999999,89.0,95.0,74.0,93.0,92.0,100.0,81.0,83.0,83.0,99.0,97.0,99.0,99.0,98.0,98.0,99.0,99.0,100.0,100.0,100.0],\"yaxis\":\"y\",\"type\":\"scatter\"},{\"hovertemplate\":\"variable=line 2 reparing time improved<br>index=%{x}<br>value=%{y}<extra></extra>\",\"legendgroup\":\"line 2 reparing time improved\",\"line\":{\"color\":\"#00cc96\",\"dash\":\"solid\"},\"marker\":{\"symbol\":\"circle\"},\"mode\":\"lines\",\"name\":\"line 2 reparing time improved\",\"orientation\":\"v\",\"showlegend\":true,\"x\":[\"2022-01-01 01:00:00\",\"2022-01-01 02:00:00\",\"2022-01-01 03:00:00\",\"2022-01-01 04:00:00\",\"2022-01-01 05:00:00\",\"2022-01-01 06:00:00\",\"2022-01-01 07:00:00\",\"2022-01-01 08:00:00\",\"2022-01-01 09:00:00\",\"2022-01-01 10:00:00\",\"2022-01-01 11:00:00\",\"2022-01-01 12:00:00\",\"2022-01-01 13:00:00\",\"2022-01-01 14:00:00\",\"2022-01-01 15:00:00\",\"2022-01-01 16:00:00\",\"2022-01-01 17:00:00\",\"2022-01-01 18:00:00\",\"2022-01-01 19:00:00\",\"2022-01-01 20:00:00\",\"2022-01-01 21:00:00\",\"2022-01-01 22:00:00\",\"2022-01-01 23:00:00\",\"2022-01-02 00:00:00\",\"2022-01-02 01:00:00\",\"2022-01-02 02:00:00\",\"2022-01-02 03:00:00\",\"2022-01-02 04:00:00\",\"2022-01-02 05:00:00\",\"2022-01-02 06:00:00\",\"2022-01-02 07:00:00\",\"2022-01-02 08:00:00\",\"2022-01-02 09:00:00\",\"2022-01-02 10:00:00\",\"2022-01-02 11:00:00\",\"2022-01-02 12:00:00\",\"2022-01-02 13:00:00\",\"2022-01-02 14:00:00\",\"2022-01-02 15:00:00\",\"2022-01-02 16:00:00\"],\"xaxis\":\"x\",\"y\":[null,100.0,100.0,100.0,100.0,100.0,100.0,100.0,100.0,100.0,100.0,100.0,100.0,100.0,83.0,76.0,76.0,100.0,81.0,42.00000000000001,86.0,93.0,71.0,92.0,94.0,100.0,78.0,80.0,84.0,99.0,98.0,100.0,98.0,98.0,99.0,99.0,99.0,100.0,100.0,100.0],\"yaxis\":\"y\",\"type\":\"scatter\"}],                        {\"template\":{\"data\":{\"histogram2dcontour\":[{\"type\":\"histogram2dcontour\",\"colorbar\":{\"outlinewidth\":0,\"ticks\":\"\"},\"colorscale\":[[0.0,\"#0d0887\"],[0.1111111111111111,\"#46039f\"],[0.2222222222222222,\"#7201a8\"],[0.3333333333333333,\"#9c179e\"],[0.4444444444444444,\"#bd3786\"],[0.5555555555555556,\"#d8576b\"],[0.6666666666666666,\"#ed7953\"],[0.7777777777777778,\"#fb9f3a\"],[0.8888888888888888,\"#fdca26\"],[1.0,\"#f0f921\"]]}],\"choropleth\":[{\"type\":\"choropleth\",\"colorbar\":{\"outlinewidth\":0,\"ticks\":\"\"}}],\"histogram2d\":[{\"type\":\"histogram2d\",\"colorbar\":{\"outlinewidth\":0,\"ticks\":\"\"},\"colorscale\":[[0.0,\"#0d0887\"],[0.1111111111111111,\"#46039f\"],[0.2222222222222222,\"#7201a8\"],[0.3333333333333333,\"#9c179e\"],[0.4444444444444444,\"#bd3786\"],[0.5555555555555556,\"#d8576b\"],[0.6666666666666666,\"#ed7953\"],[0.7777777777777778,\"#fb9f3a\"],[0.8888888888888888,\"#fdca26\"],[1.0,\"#f0f921\"]]}],\"heatmap\":[{\"type\":\"heatmap\",\"colorbar\":{\"outlinewidth\":0,\"ticks\":\"\"},\"colorscale\":[[0.0,\"#0d0887\"],[0.1111111111111111,\"#46039f\"],[0.2222222222222222,\"#7201a8\"],[0.3333333333333333,\"#9c179e\"],[0.4444444444444444,\"#bd3786\"],[0.5555555555555556,\"#d8576b\"],[0.6666666666666666,\"#ed7953\"],[0.7777777777777778,\"#fb9f3a\"],[0.8888888888888888,\"#fdca26\"],[1.0,\"#f0f921\"]]}],\"heatmapgl\":[{\"type\":\"heatmapgl\",\"colorbar\":{\"outlinewidth\":0,\"ticks\":\"\"},\"colorscale\":[[0.0,\"#0d0887\"],[0.1111111111111111,\"#46039f\"],[0.2222222222222222,\"#7201a8\"],[0.3333333333333333,\"#9c179e\"],[0.4444444444444444,\"#bd3786\"],[0.5555555555555556,\"#d8576b\"],[0.6666666666666666,\"#ed7953\"],[0.7777777777777778,\"#fb9f3a\"],[0.8888888888888888,\"#fdca26\"],[1.0,\"#f0f921\"]]}],\"contourcarpet\":[{\"type\":\"contourcarpet\",\"colorbar\":{\"outlinewidth\":0,\"ticks\":\"\"}}],\"contour\":[{\"type\":\"contour\",\"colorbar\":{\"outlinewidth\":0,\"ticks\":\"\"},\"colorscale\":[[0.0,\"#0d0887\"],[0.1111111111111111,\"#46039f\"],[0.2222222222222222,\"#7201a8\"],[0.3333333333333333,\"#9c179e\"],[0.4444444444444444,\"#bd3786\"],[0.5555555555555556,\"#d8576b\"],[0.6666666666666666,\"#ed7953\"],[0.7777777777777778,\"#fb9f3a\"],[0.8888888888888888,\"#fdca26\"],[1.0,\"#f0f921\"]]}],\"surface\":[{\"type\":\"surface\",\"colorbar\":{\"outlinewidth\":0,\"ticks\":\"\"},\"colorscale\":[[0.0,\"#0d0887\"],[0.1111111111111111,\"#46039f\"],[0.2222222222222222,\"#7201a8\"],[0.3333333333333333,\"#9c179e\"],[0.4444444444444444,\"#bd3786\"],[0.5555555555555556,\"#d8576b\"],[0.6666666666666666,\"#ed7953\"],[0.7777777777777778,\"#fb9f3a\"],[0.8888888888888888,\"#fdca26\"],[1.0,\"#f0f921\"]]}],\"mesh3d\":[{\"type\":\"mesh3d\",\"colorbar\":{\"outlinewidth\":0,\"ticks\":\"\"}}],\"scatter\":[{\"fillpattern\":{\"fillmode\":\"overlay\",\"size\":10,\"solidity\":0.2},\"type\":\"scatter\"}],\"parcoords\":[{\"type\":\"parcoords\",\"line\":{\"colorbar\":{\"outlinewidth\":0,\"ticks\":\"\"}}}],\"scatterpolargl\":[{\"type\":\"scatterpolargl\",\"marker\":{\"colorbar\":{\"outlinewidth\":0,\"ticks\":\"\"}}}],\"bar\":[{\"error_x\":{\"color\":\"#2a3f5f\"},\"error_y\":{\"color\":\"#2a3f5f\"},\"marker\":{\"line\":{\"color\":\"#E5ECF6\",\"width\":0.5},\"pattern\":{\"fillmode\":\"overlay\",\"size\":10,\"solidity\":0.2}},\"type\":\"bar\"}],\"scattergeo\":[{\"type\":\"scattergeo\",\"marker\":{\"colorbar\":{\"outlinewidth\":0,\"ticks\":\"\"}}}],\"scatterpolar\":[{\"type\":\"scatterpolar\",\"marker\":{\"colorbar\":{\"outlinewidth\":0,\"ticks\":\"\"}}}],\"histogram\":[{\"marker\":{\"pattern\":{\"fillmode\":\"overlay\",\"size\":10,\"solidity\":0.2}},\"type\":\"histogram\"}],\"scattergl\":[{\"type\":\"scattergl\",\"marker\":{\"colorbar\":{\"outlinewidth\":0,\"ticks\":\"\"}}}],\"scatter3d\":[{\"type\":\"scatter3d\",\"line\":{\"colorbar\":{\"outlinewidth\":0,\"ticks\":\"\"}},\"marker\":{\"colorbar\":{\"outlinewidth\":0,\"ticks\":\"\"}}}],\"scattermapbox\":[{\"type\":\"scattermapbox\",\"marker\":{\"colorbar\":{\"outlinewidth\":0,\"ticks\":\"\"}}}],\"scatterternary\":[{\"type\":\"scatterternary\",\"marker\":{\"colorbar\":{\"outlinewidth\":0,\"ticks\":\"\"}}}],\"scattercarpet\":[{\"type\":\"scattercarpet\",\"marker\":{\"colorbar\":{\"outlinewidth\":0,\"ticks\":\"\"}}}],\"carpet\":[{\"aaxis\":{\"endlinecolor\":\"#2a3f5f\",\"gridcolor\":\"white\",\"linecolor\":\"white\",\"minorgridcolor\":\"white\",\"startlinecolor\":\"#2a3f5f\"},\"baxis\":{\"endlinecolor\":\"#2a3f5f\",\"gridcolor\":\"white\",\"linecolor\":\"white\",\"minorgridcolor\":\"white\",\"startlinecolor\":\"#2a3f5f\"},\"type\":\"carpet\"}],\"table\":[{\"cells\":{\"fill\":{\"color\":\"#EBF0F8\"},\"line\":{\"color\":\"white\"}},\"header\":{\"fill\":{\"color\":\"#C8D4E3\"},\"line\":{\"color\":\"white\"}},\"type\":\"table\"}],\"barpolar\":[{\"marker\":{\"line\":{\"color\":\"#E5ECF6\",\"width\":0.5},\"pattern\":{\"fillmode\":\"overlay\",\"size\":10,\"solidity\":0.2}},\"type\":\"barpolar\"}],\"pie\":[{\"automargin\":true,\"type\":\"pie\"}]},\"layout\":{\"autotypenumbers\":\"strict\",\"colorway\":[\"#636efa\",\"#EF553B\",\"#00cc96\",\"#ab63fa\",\"#FFA15A\",\"#19d3f3\",\"#FF6692\",\"#B6E880\",\"#FF97FF\",\"#FECB52\"],\"font\":{\"color\":\"#2a3f5f\"},\"hovermode\":\"closest\",\"hoverlabel\":{\"align\":\"left\"},\"paper_bgcolor\":\"white\",\"plot_bgcolor\":\"#E5ECF6\",\"polar\":{\"bgcolor\":\"#E5ECF6\",\"angularaxis\":{\"gridcolor\":\"white\",\"linecolor\":\"white\",\"ticks\":\"\"},\"radialaxis\":{\"gridcolor\":\"white\",\"linecolor\":\"white\",\"ticks\":\"\"}},\"ternary\":{\"bgcolor\":\"#E5ECF6\",\"aaxis\":{\"gridcolor\":\"white\",\"linecolor\":\"white\",\"ticks\":\"\"},\"baxis\":{\"gridcolor\":\"white\",\"linecolor\":\"white\",\"ticks\":\"\"},\"caxis\":{\"gridcolor\":\"white\",\"linecolor\":\"white\",\"ticks\":\"\"}},\"coloraxis\":{\"colorbar\":{\"outlinewidth\":0,\"ticks\":\"\"}},\"colorscale\":{\"sequential\":[[0.0,\"#0d0887\"],[0.1111111111111111,\"#46039f\"],[0.2222222222222222,\"#7201a8\"],[0.3333333333333333,\"#9c179e\"],[0.4444444444444444,\"#bd3786\"],[0.5555555555555556,\"#d8576b\"],[0.6666666666666666,\"#ed7953\"],[0.7777777777777778,\"#fb9f3a\"],[0.8888888888888888,\"#fdca26\"],[1.0,\"#f0f921\"]],\"sequentialminus\":[[0.0,\"#0d0887\"],[0.1111111111111111,\"#46039f\"],[0.2222222222222222,\"#7201a8\"],[0.3333333333333333,\"#9c179e\"],[0.4444444444444444,\"#bd3786\"],[0.5555555555555556,\"#d8576b\"],[0.6666666666666666,\"#ed7953\"],[0.7777777777777778,\"#fb9f3a\"],[0.8888888888888888,\"#fdca26\"],[1.0,\"#f0f921\"]],\"diverging\":[[0,\"#8e0152\"],[0.1,\"#c51b7d\"],[0.2,\"#de77ae\"],[0.3,\"#f1b6da\"],[0.4,\"#fde0ef\"],[0.5,\"#f7f7f7\"],[0.6,\"#e6f5d0\"],[0.7,\"#b8e186\"],[0.8,\"#7fbc41\"],[0.9,\"#4d9221\"],[1,\"#276419\"]]},\"xaxis\":{\"gridcolor\":\"white\",\"linecolor\":\"white\",\"ticks\":\"\",\"title\":{\"standoff\":15},\"zerolinecolor\":\"white\",\"automargin\":true,\"zerolinewidth\":2},\"yaxis\":{\"gridcolor\":\"white\",\"linecolor\":\"white\",\"ticks\":\"\",\"title\":{\"standoff\":15},\"zerolinecolor\":\"white\",\"automargin\":true,\"zerolinewidth\":2},\"scene\":{\"xaxis\":{\"backgroundcolor\":\"#E5ECF6\",\"gridcolor\":\"white\",\"linecolor\":\"white\",\"showbackground\":true,\"ticks\":\"\",\"zerolinecolor\":\"white\",\"gridwidth\":2},\"yaxis\":{\"backgroundcolor\":\"#E5ECF6\",\"gridcolor\":\"white\",\"linecolor\":\"white\",\"showbackground\":true,\"ticks\":\"\",\"zerolinecolor\":\"white\",\"gridwidth\":2},\"zaxis\":{\"backgroundcolor\":\"#E5ECF6\",\"gridcolor\":\"white\",\"linecolor\":\"white\",\"showbackground\":true,\"ticks\":\"\",\"zerolinecolor\":\"white\",\"gridwidth\":2}},\"shapedefaults\":{\"line\":{\"color\":\"#2a3f5f\"}},\"annotationdefaults\":{\"arrowcolor\":\"#2a3f5f\",\"arrowhead\":0,\"arrowwidth\":1},\"geo\":{\"bgcolor\":\"white\",\"landcolor\":\"#E5ECF6\",\"subunitcolor\":\"white\",\"showland\":true,\"showlakes\":true,\"lakecolor\":\"white\"},\"title\":{\"x\":0.05},\"mapbox\":{\"style\":\"light\"}}},\"xaxis\":{\"anchor\":\"y\",\"domain\":[0.0,1.0],\"title\":{\"text\":\"Time\"}},\"yaxis\":{\"anchor\":\"x\",\"domain\":[0.0,1.0],\"title\":{\"text\":\"Survivability [%]\"}},\"legend\":{\"title\":{\"text\":\"variable\"},\"tracegroupgap\":0},\"margin\":{\"t\":60}},                        {\"responsive\": true}                    ).then(function(){\n",
       "                            \n",
       "var gd = document.getElementById('f3b5c00d-ed4f-4666-b7f6-4682427e0063');\n",
       "var x = new MutationObserver(function (mutations, observer) {{\n",
       "        var display = window.getComputedStyle(gd).display;\n",
       "        if (!display || display === 'none') {{\n",
       "            console.log([gd, 'removed!']);\n",
       "            Plotly.purge(gd);\n",
       "            observer.disconnect();\n",
       "        }}\n",
       "}});\n",
       "\n",
       "// Listen for the removal of the full notebook cells\n",
       "var notebookContainer = gd.closest('#notebook-container');\n",
       "if (notebookContainer) {{\n",
       "    x.observe(notebookContainer, {childList: true});\n",
       "}}\n",
       "\n",
       "// Listen for the clearing of the current output cell\n",
       "var outputEl = gd.closest('.output');\n",
       "if (outputEl) {{\n",
       "    x.observe(outputEl, {childList: true});\n",
       "}}\n",
       "\n",
       "                        })                };                });            </script>        </div>"
      ]
     },
     "metadata": {},
     "output_type": "display_data"
    }
   ],
   "source": [
    "px.line(Survivability*100).update_layout(xaxis_title=\"Time\", yaxis_title=\"Survivability [%]\")"
   ]
  },
  {
   "cell_type": "code",
   "execution_count": 47,
   "id": "confirmed-hayes",
   "metadata": {},
   "outputs": [
    {
     "data": {
      "application/vnd.plotly.v1+json": {
       "config": {
        "plotlyServerURL": "https://plot.ly"
       },
       "data": [
        {
         "box": {
          "visible": false
         },
         "meanline": {
          "visible": true
         },
         "name": "line1",
         "orientation": "v",
         "side": "positive",
         "type": "violin",
         "x": [
          "line1",
          "line1",
          "line1",
          "line1",
          "line1",
          "line1",
          "line1",
          "line1",
          "line1",
          "line1",
          "line1",
          "line1",
          "line1",
          "line1",
          "line1",
          "line1",
          "line1",
          "line1",
          "line1",
          "line1",
          "line1",
          "line1",
          "line1",
          "line1",
          "line1",
          "line1",
          "line1",
          "line1",
          "line1",
          "line1",
          "line1",
          "line1",
          "line1",
          "line1",
          "line1",
          "line1",
          "line1",
          "line1",
          "line1",
          "line1",
          "line1",
          "line1",
          "line1",
          "line1",
          "line1",
          "line1",
          "line1",
          "line1",
          "line1",
          "line1",
          "line1",
          "line1",
          "line1",
          "line1",
          "line1",
          "line1",
          "line1",
          "line1",
          "line1",
          "line1",
          "line1",
          "line1",
          "line1",
          "line1",
          "line1",
          "line1",
          "line1",
          "line1",
          "line1",
          "line1",
          "line1",
          "line1",
          "line1",
          "line1",
          "line1",
          "line1",
          "line1",
          "line1",
          "line1",
          "line1",
          "line1",
          "line1",
          "line1",
          "line1",
          "line1",
          "line1",
          "line1",
          "line1",
          "line1",
          "line1",
          "line1",
          "line1",
          "line1",
          "line1",
          "line1",
          "line1",
          "line1",
          "line1",
          "line1",
          "line1",
          "line1",
          "line1",
          "line1",
          "line1",
          "line1",
          "line1",
          "line1",
          "line1",
          "line1",
          "line1",
          "line1",
          "line1",
          "line1",
          "line1",
          "line1",
          "line1",
          "line1",
          "line1",
          "line1",
          "line1",
          "line1",
          "line1",
          "line1",
          "line1",
          "line1",
          "line1",
          "line1",
          "line1",
          "line1",
          "line1",
          "line1",
          "line1",
          "line1",
          "line1",
          "line1",
          "line1",
          "line1",
          "line1",
          "line1",
          "line1",
          "line1",
          "line1",
          "line1",
          "line1",
          "line1",
          "line1",
          "line1",
          "line1",
          "line1",
          "line1",
          "line1",
          "line1",
          "line1",
          "line1",
          "line1",
          "line1",
          "line1",
          "line1",
          "line1",
          "line1"
         ],
         "y": [
          93.20480190668708,
          93.20480190668708,
          93.20480190668708,
          93.20480190668708,
          50.93824738930102,
          50.93824738930102,
          50.93824738930102,
          50.93824738930102,
          16.669889665935305,
          16.669889665935305,
          16.669889665935305,
          16.669889665935305,
          11.1761719962515,
          11.1761719962515,
          11.1761719962515,
          11.1761719962515,
          22.47409104615633,
          22.47409104615633,
          22.47409104615633,
          22.47409104615633,
          85.44698751330245,
          85.44698751330245,
          85.44698751330245,
          85.44698751330245,
          47.83022180561876,
          47.83022180561876,
          47.83022180561876,
          47.83022180561876,
          9.509836434522123,
          9.509836434522123,
          9.509836434522123,
          9.509836434522123,
          97.67599719887694,
          97.67599719887694,
          97.67599719887694,
          97.67599719887694,
          24.31437067674487,
          24.31437067674487,
          24.31437067674487,
          24.31437067674487,
          7.700345338349875,
          7.700345338349875,
          7.700345338349875,
          7.700345338349875,
          50.44116457201248,
          59.32054295583503,
          49.62483354694278,
          49.34278490554446,
          57.65240325633872,
          46.71471863202697,
          66.35222319230846,
          63.22177429583788,
          28.115796648208903,
          24.3827802692146,
          28.17849898545486,
          28.11166667054046,
          100.18397546540838,
          100.18397546540838,
          76.04432485477207,
          100.18397546540842,
          100.1489967307939,
          100.17867230572186,
          100.14901456243427,
          100.17867228092014,
          100.1931208433589,
          100.21454812592104,
          100.19313492172786,
          100.1931208433589,
          21.97316166317628,
          24.55571255984316,
          21.975180009422917,
          21.976042640774438,
          13.97781319275616,
          13.971203166163132,
          13.93696288917074,
          13.971007539982317,
          15.097799740462328,
          11.47934115041008,
          12.135535786129976,
          10.288473725473803,
          83.44488400147885,
          86.44500857081742,
          83.44488400160827,
          61.675050640456334,
          59.02145327482216,
          78.82344652803987,
          78.82344501178181,
          57.54188221474661,
          4.183225402235259,
          4.2420822048099005,
          4.242082181785508,
          4.260825158187887,
          61.53992255699781,
          67.06207580251402,
          52.17523701205543,
          54.12823846261078,
          70.52038174076853,
          78.35877106129944,
          62.287271367912425,
          62.42981518919004,
          14.76583912632754,
          14.72949346192146,
          14.76583912632754,
          14.76583912632754,
          11.396184829995022,
          11.731224678166267,
          11.396184829995022,
          11.396184829995022,
          97.51723207680904,
          97.51723207680904,
          97.51723207680904,
          97.51723207680904,
          9.71052427330981,
          9.71052427330981,
          9.71052427330981,
          9.71052427330981,
          71.98497087020708,
          71.98497087020708,
          71.98497087020708,
          71.98497087020708,
          55.097968297781264,
          55.097968297781264,
          55.097968297781264,
          55.097968297781264,
          64.58512390851749,
          64.58512390851749,
          64.58512390851749,
          64.58512390851749,
          17.077159065514593,
          17.077159065514593,
          17.077159065514593,
          17.077159065514593,
          80.81463760635587,
          80.81463760635587,
          80.81463760635587,
          80.81463760635587,
          81.64918894842155,
          81.64918894842155,
          81.64918894842155,
          81.64918894842155,
          89.99123253075402,
          89.99123253075402,
          89.99123253075402,
          89.99123253075402,
          86.24311596668569,
          86.24311596668569,
          86.24311596668569,
          86.24311596668569,
          62.545281982412114,
          62.545281982412114,
          62.545281982412114,
          62.545281982412114,
          15.659721976983509,
          15.659721976983509,
          15.659721976983509,
          15.659721976983509,
          40.16357092850564,
          40.16357092850564,
          40.16357092850564,
          40.16357092850564
         ]
        },
        {
         "box": {
          "visible": false
         },
         "meanline": {
          "visible": true
         },
         "name": "line10",
         "orientation": "v",
         "side": "positive",
         "type": "violin",
         "x": [
          "line10",
          "line10",
          "line10",
          "line10",
          "line10",
          "line10",
          "line10",
          "line10",
          "line10",
          "line10",
          "line10",
          "line10",
          "line10",
          "line10",
          "line10",
          "line10",
          "line10",
          "line10",
          "line10",
          "line10",
          "line10",
          "line10",
          "line10",
          "line10",
          "line10",
          "line10",
          "line10",
          "line10",
          "line10",
          "line10",
          "line10",
          "line10",
          "line10",
          "line10",
          "line10",
          "line10",
          "line10",
          "line10",
          "line10",
          "line10",
          "line10",
          "line10",
          "line10",
          "line10",
          "line10",
          "line10",
          "line10",
          "line10",
          "line10",
          "line10",
          "line10",
          "line10",
          "line10",
          "line10",
          "line10",
          "line10",
          "line10",
          "line10",
          "line10",
          "line10",
          "line10",
          "line10",
          "line10",
          "line10",
          "line10",
          "line10",
          "line10",
          "line10",
          "line10",
          "line10",
          "line10",
          "line10",
          "line10",
          "line10",
          "line10",
          "line10",
          "line10",
          "line10",
          "line10",
          "line10",
          "line10",
          "line10",
          "line10",
          "line10",
          "line10",
          "line10",
          "line10",
          "line10",
          "line10",
          "line10",
          "line10",
          "line10",
          "line10",
          "line10",
          "line10",
          "line10",
          "line10",
          "line10",
          "line10",
          "line10",
          "line10",
          "line10",
          "line10",
          "line10",
          "line10",
          "line10",
          "line10",
          "line10",
          "line10",
          "line10",
          "line10",
          "line10",
          "line10",
          "line10",
          "line10",
          "line10",
          "line10",
          "line10",
          "line10",
          "line10",
          "line10",
          "line10",
          "line10",
          "line10",
          "line10",
          "line10",
          "line10",
          "line10",
          "line10",
          "line10",
          "line10",
          "line10",
          "line10",
          "line10",
          "line10",
          "line10",
          "line10",
          "line10",
          "line10",
          "line10",
          "line10",
          "line10",
          "line10",
          "line10",
          "line10",
          "line10",
          "line10",
          "line10",
          "line10",
          "line10",
          "line10",
          "line10",
          "line10",
          "line10",
          "line10",
          "line10",
          "line10",
          "line10",
          "line10",
          "line10"
         ],
         "y": [
          84.93191047243369,
          84.93191047243369,
          84.93191047243369,
          84.93191047243369,
          25.098332297740395,
          25.098332297740395,
          25.098332297740395,
          25.098332297740395,
          3.017960376207111,
          3.017960376207111,
          3.017960376207111,
          3.017960376207111,
          3.790068467085001,
          3.790068467085001,
          3.790068467085001,
          3.790068467085001,
          3.919047732750048,
          3.919047732750048,
          3.919047732750048,
          3.919047732750048,
          71.7875772652062,
          71.7875772652062,
          71.7875772652062,
          71.7875772652062,
          23.210398098000574,
          23.210398098000574,
          23.210398098000574,
          23.210398098000574,
          7.113053983743837,
          7.113053983743837,
          7.113053983743837,
          7.113053983743837,
          97.76589672665683,
          97.76589672665683,
          97.76589672665683,
          97.76589672665683,
          11.79519608625165,
          11.79519608625165,
          11.79519608625165,
          11.79519608625165,
          9.488336777671186,
          9.488336777671186,
          9.488336777671186,
          9.488336777671186,
          23.716052200184915,
          34.641717677292895,
          23.125003646131358,
          23.058280013329256,
          0,
          25.75741281480691,
          0,
          36.89722824993568,
          0,
          0,
          0,
          0,
          0,
          0,
          55.14938769214152,
          0,
          89.92393245778662,
          null,
          89.9320977064728,
          0,
          75.6432653125761,
          null,
          75.65143485736084,
          75.64326531257618,
          6.390351941822543,
          0,
          6.600205410811776,
          6.392849561850397,
          3.3971186665859348,
          3.398433786478931,
          4.003158136129038,
          3.398310909948737,
          9.919869707066454,
          2.508214856969472,
          3.1055290729879523,
          2.0052949337517694,
          65.22532546731148,
          61.68971512875997,
          65.22532546721564,
          40.06901303634928,
          34.07149276052906,
          61.68673058466385,
          61.6867312247447,
          37.56863740613091,
          8.16275500246013,
          8.273225701438415,
          8.27322569944237,
          8.160397713452763,
          38.9581977556889,
          46.3734173615745,
          29.73756187607928,
          31.41034344945488,
          41.9918661601352,
          54.81042513037521,
          32.07930070729345,
          32.20117479990927,
          3.163200409448889,
          3.217724341586912,
          3.163200409448889,
          3.163200409448889,
          4.145637860712966,
          4.022965721583759,
          4.145637860712966,
          4.145637860712966,
          96.5874819886534,
          96.5874819886534,
          96.5874819886534,
          96.5874819886534,
          3.78251459882507,
          3.78251459882507,
          3.78251459882507,
          3.78251459882507,
          53.51665479560244,
          53.51665479560244,
          53.51665479560244,
          53.51665479560244,
          22.12390019052835,
          22.12390019052835,
          22.12390019052835,
          22.12390019052835,
          38.95867978562484,
          38.95867978562484,
          38.95867978562484,
          38.95867978562484,
          2.86877948811298,
          2.86877948811298,
          2.86877948811298,
          2.86877948811298,
          58.23837862775718,
          58.23837862775718,
          58.23837862775718,
          58.23837862775718,
          57.50826920702132,
          57.50826920702132,
          57.50826920702132,
          57.50826920702132,
          83.34707896692184,
          83.34707896692184,
          83.34707896692184,
          83.34707896692184,
          74.18150787075203,
          74.18150787075203,
          74.18150787075203,
          74.18150787075203,
          36.72033716754675,
          36.72033716754675,
          36.72033716754675,
          36.72033716754675,
          4.455366794638292,
          4.455366794638292,
          4.455366794638292,
          4.455366794638292,
          13.93508702534566,
          13.93508702534566,
          13.93508702534566,
          13.93508702534566
         ]
        },
        {
         "box": {
          "visible": false
         },
         "meanline": {
          "visible": true
         },
         "name": "line11",
         "orientation": "v",
         "side": "positive",
         "type": "violin",
         "x": [
          "line11",
          "line11",
          "line11",
          "line11",
          "line11",
          "line11",
          "line11",
          "line11",
          "line11",
          "line11",
          "line11",
          "line11",
          "line11",
          "line11",
          "line11",
          "line11",
          "line11",
          "line11",
          "line11",
          "line11",
          "line11",
          "line11",
          "line11",
          "line11",
          "line11",
          "line11",
          "line11",
          "line11",
          "line11",
          "line11",
          "line11",
          "line11",
          "line11",
          "line11",
          "line11",
          "line11",
          "line11",
          "line11",
          "line11",
          "line11",
          "line11",
          "line11",
          "line11",
          "line11",
          "line11",
          "line11",
          "line11",
          "line11",
          "line11",
          "line11",
          "line11",
          "line11",
          "line11",
          "line11",
          "line11",
          "line11",
          "line11",
          "line11",
          "line11",
          "line11",
          "line11",
          "line11",
          "line11",
          "line11",
          "line11",
          "line11",
          "line11",
          "line11",
          "line11",
          "line11",
          "line11",
          "line11",
          "line11",
          "line11",
          "line11",
          "line11",
          "line11",
          "line11",
          "line11",
          "line11",
          "line11",
          "line11",
          "line11",
          "line11",
          "line11",
          "line11",
          "line11",
          "line11",
          "line11",
          "line11",
          "line11",
          "line11",
          "line11",
          "line11",
          "line11",
          "line11",
          "line11",
          "line11",
          "line11",
          "line11",
          "line11",
          "line11",
          "line11",
          "line11",
          "line11",
          "line11",
          "line11",
          "line11",
          "line11",
          "line11",
          "line11",
          "line11",
          "line11",
          "line11",
          "line11",
          "line11",
          "line11",
          "line11",
          "line11",
          "line11",
          "line11",
          "line11",
          "line11",
          "line11",
          "line11",
          "line11",
          "line11",
          "line11",
          "line11",
          "line11",
          "line11",
          "line11",
          "line11",
          "line11",
          "line11",
          "line11",
          "line11",
          "line11",
          "line11",
          "line11",
          "line11",
          "line11",
          "line11",
          "line11",
          "line11",
          "line11",
          "line11",
          "line11",
          "line11",
          "line11",
          "line11",
          "line11",
          "line11",
          "line11",
          "line11",
          "line11",
          "line11",
          "line11",
          "line11",
          "line11"
         ],
         "y": [
          64.97345967214814,
          64.97345967214814,
          64.97345967214814,
          64.97345967214814,
          33.13469385829747,
          33.13469385829747,
          33.13469385829747,
          33.13469385829747,
          8.486742899171414,
          8.486742899171414,
          8.486742899171414,
          8.486742899171414,
          6.0548539250729005,
          6.0548539250729005,
          6.0548539250729005,
          6.0548539250729005,
          16.979063613632857,
          16.979063613632857,
          16.979063613632857,
          16.979063613632857,
          53.65816997639416,
          53.65816997639416,
          53.65816997639416,
          53.65816997639416,
          26.562829398122062,
          26.562829398122062,
          26.562829398122062,
          26.562829398122062,
          9.155084973815407,
          9.155084973815407,
          9.155084973815407,
          9.155084973815407,
          80.03709929794644,
          80.03709929794644,
          80.03709929794644,
          80.03709929794644,
          15.91731783286126,
          15.91731783286126,
          15.91731783286126,
          15.91731783286126,
          10.010284340096408,
          10.010284340096408,
          10.010284340096408,
          10.010284340096408,
          23.762138366782327,
          28.08462865904047,
          23.12633594261416,
          23.01620998543644,
          2.730396151078828,
          20.743447582861915,
          0.8914617044326432,
          36.84212603566186,
          1.8015900086518115,
          4.006124422153875,
          0.8914617050541682,
          1.8015900086520624,
          0.8914617059253067,
          0.8914617059253067,
          55.14938769214152,
          1.8015900207633369,
          89.89206289817837,
          null,
          89.8382733709867,
          0.891461705337526,
          75.61510319730047,
          null,
          75.56980225388449,
          75.6151031973005,
          6.229640756575986,
          0.8914617039259564,
          6.261011170693215,
          6.232212734410436,
          3.148089571528086,
          3.1495451160945787,
          3.319135923527581,
          3.1494130187671194,
          14.285114269843485,
          2.1903196967731886,
          5.268574502171703,
          1.6372295453001464,
          55.5782870733912,
          61.68971512875997,
          55.578287073345386,
          31.079468738684763,
          35.25787343214708,
          53.73967061963236,
          53.73967138616327,
          29.657058179638803,
          6.2362131846591575,
          6.124558053694408,
          6.124558055262406,
          6.229676646988783,
          34.97528272512254,
          39.92669183214176,
          27.85404482085235,
          29.238368604805,
          44.13962991114922,
          51.88306692424236,
          37.19699755722669,
          37.29998354793546,
          6.421937666983915,
          6.4093866673889295,
          6.421937666983915,
          6.421937666983915,
          11.76226733217492,
          11.73844830707792,
          11.76226733217492,
          11.76226733217492,
          67.25674322987864,
          67.25674322987864,
          67.25674322987864,
          67.25674322987864,
          7.322478108751524,
          7.322478108751524,
          7.322478108751524,
          7.322478108751524,
          42.69853389649836,
          42.69853389649836,
          42.69853389649836,
          42.69853389649836,
          32.767221805205615,
          32.767221805205615,
          32.767221805205615,
          32.767221805205615,
          43.33239921101238,
          43.33239921101238,
          43.33239921101238,
          43.33239921101238,
          7.916362873730555,
          7.916362873730555,
          7.916362873730555,
          7.916362873730555,
          64.53404037007515,
          64.53404037007515,
          64.53404037007515,
          64.53404037007515,
          54.02618894568102,
          54.02618894568102,
          54.02618894568102,
          54.02618894568102,
          60.885361123585966,
          60.885361123585966,
          60.885361123585966,
          60.885361123585966,
          58.26651374693479,
          58.26651374693479,
          58.26651374693479,
          58.26651374693479,
          32.903047680361816,
          32.903047680361816,
          32.903047680361816,
          32.903047680361816,
          18.32791406067656,
          18.32791406067656,
          18.32791406067656,
          18.32791406067656,
          26.79733074059694,
          26.79733074059694,
          26.79733074059694,
          26.79733074059694
         ]
        },
        {
         "box": {
          "visible": false
         },
         "meanline": {
          "visible": true
         },
         "name": "line12",
         "orientation": "v",
         "side": "positive",
         "type": "violin",
         "x": [
          "line12",
          "line12",
          "line12",
          "line12",
          "line12",
          "line12",
          "line12",
          "line12",
          "line12",
          "line12",
          "line12",
          "line12",
          "line12",
          "line12",
          "line12",
          "line12",
          "line12",
          "line12",
          "line12",
          "line12",
          "line12",
          "line12",
          "line12",
          "line12",
          "line12",
          "line12",
          "line12",
          "line12",
          "line12",
          "line12",
          "line12",
          "line12",
          "line12",
          "line12",
          "line12",
          "line12",
          "line12",
          "line12",
          "line12",
          "line12",
          "line12",
          "line12",
          "line12",
          "line12",
          "line12",
          "line12",
          "line12",
          "line12",
          "line12",
          "line12",
          "line12",
          "line12",
          "line12",
          "line12",
          "line12",
          "line12",
          "line12",
          "line12",
          "line12",
          "line12",
          "line12",
          "line12",
          "line12",
          "line12",
          "line12",
          "line12",
          "line12",
          "line12",
          "line12",
          "line12",
          "line12",
          "line12",
          "line12",
          "line12",
          "line12",
          "line12",
          "line12",
          "line12",
          "line12",
          "line12",
          "line12",
          "line12",
          "line12",
          "line12",
          "line12",
          "line12",
          "line12",
          "line12",
          "line12",
          "line12",
          "line12",
          "line12",
          "line12",
          "line12",
          "line12",
          "line12",
          "line12",
          "line12",
          "line12",
          "line12",
          "line12",
          "line12",
          "line12",
          "line12",
          "line12",
          "line12",
          "line12",
          "line12",
          "line12",
          "line12",
          "line12",
          "line12",
          "line12",
          "line12",
          "line12",
          "line12",
          "line12",
          "line12",
          "line12",
          "line12",
          "line12",
          "line12",
          "line12",
          "line12",
          "line12",
          "line12",
          "line12",
          "line12",
          "line12",
          "line12",
          "line12",
          "line12",
          "line12",
          "line12",
          "line12",
          "line12",
          "line12",
          "line12",
          "line12",
          "line12",
          "line12",
          "line12",
          "line12",
          "line12",
          "line12",
          "line12",
          "line12",
          "line12",
          "line12",
          "line12",
          "line12",
          "line12",
          "line12",
          "line12",
          "line12",
          "line12",
          "line12",
          "line12",
          "line12",
          "line12"
         ],
         "y": [
          20.200233779009785,
          20.200233779009785,
          20.200233779009785,
          20.200233779009785,
          8.63461974376604,
          8.63461974376604,
          8.63461974376604,
          8.63461974376604,
          9.92378267323468,
          9.92378267323468,
          9.92378267323468,
          9.92378267323468,
          8.791662057932326,
          8.791662057932326,
          8.791662057932326,
          8.791662057932326,
          17.316270930752022,
          17.316270930752022,
          17.316270930752022,
          17.316270930752022,
          18.17587426957768,
          18.17587426957768,
          18.17587426957768,
          18.17587426957768,
          4.674164832991262,
          4.674164832991262,
          4.674164832991262,
          4.674164832991262,
          15.607831859690505,
          15.607831859690505,
          15.607831859690505,
          15.607831859690505,
          18.126189133468472,
          18.126189133468472,
          18.126189133468472,
          18.126189133468472,
          4.858080383779482,
          4.858080383779482,
          4.858080383779482,
          4.858080383779482,
          18.90271473754914,
          18.90271473754914,
          18.90271473754914,
          18.90271473754914,
          1.8353893027877053,
          6.720161656933303,
          0,
          0.9057181487843012,
          1.8398563589501076,
          5.230328327915619,
          0,
          0.90174251192404,
          0.9103801180158384,
          3.459325330485464,
          null,
          0.910380118015838,
          null,
          null,
          null,
          0.9103801241359766,
          null,
          null,
          0.8995195818812906,
          0,
          null,
          null,
          0.8937884187721137,
          0,
          0,
          null,
          0.9071316913417584,
          0,
          0,
          null,
          1.975733831524872,
          0,
          23.4160301915847,
          null,
          6.15166035066195,
          0,
          9.675056839891392,
          null,
          9.6750568398348,
          9.03414189601915,
          2.663463981094206,
          7.982196310556783,
          7.982196166625139,
          7.999593109934451,
          13.824385348814674,
          13.861087917035142,
          13.861087916656444,
          13.82871930366067,
          4.277085214493894,
          6.749217357652652,
          3.285261716204442,
          3.196172992289972,
          2.832231040662258,
          3.506439999852657,
          6.277464676846646,
          6.216795505323875,
          4.318331238338731,
          4.32753617534683,
          4.318331238338731,
          4.318331238338731,
          15.230539403369518,
          15.26347091300434,
          15.230539403369518,
          15.230539403369518,
          29.894197006389184,
          29.894197006389184,
          29.894197006389184,
          29.894197006389184,
          10.088145264906029,
          10.088145264906029,
          10.088145264906029,
          10.088145264906029,
          10.869091328448368,
          10.869091328448368,
          10.869091328448368,
          10.869091328448368,
          11.447982949090548,
          11.447982949090548,
          11.447982949090548,
          11.447982949090548,
          5.68109567392469,
          5.68109567392469,
          5.68109567392469,
          5.68109567392469,
          7.602505775477721,
          7.602505775477721,
          7.602505775477721,
          7.602505775477721,
          6.852457929114725,
          6.852457929114725,
          6.852457929114725,
          6.852457929114725,
          3.5041260546371618,
          3.5041260546371618,
          3.5041260546371618,
          3.5041260546371618,
          22.59264518997815,
          22.59264518997815,
          22.59264518997815,
          22.59264518997815,
          16.06038320737294,
          16.06038320737294,
          16.06038320737294,
          16.06038320737294,
          4.380993649590302,
          4.380993649590302,
          4.380993649590302,
          4.380993649590302,
          20.02460643153841,
          20.02460643153841,
          20.02460643153841,
          20.02460643153841,
          13.66046117235618,
          13.66046117235618,
          13.66046117235618,
          13.66046117235618
         ]
        },
        {
         "box": {
          "visible": false
         },
         "meanline": {
          "visible": true
         },
         "name": "line13",
         "orientation": "v",
         "side": "positive",
         "type": "violin",
         "x": [
          "line13",
          "line13",
          "line13",
          "line13",
          "line13",
          "line13",
          "line13",
          "line13",
          "line13",
          "line13",
          "line13",
          "line13",
          "line13",
          "line13",
          "line13",
          "line13",
          "line13",
          "line13",
          "line13",
          "line13",
          "line13",
          "line13",
          "line13",
          "line13",
          "line13",
          "line13",
          "line13",
          "line13",
          "line13",
          "line13",
          "line13",
          "line13",
          "line13",
          "line13",
          "line13",
          "line13",
          "line13",
          "line13",
          "line13",
          "line13",
          "line13",
          "line13",
          "line13",
          "line13",
          "line13",
          "line13",
          "line13",
          "line13",
          "line13",
          "line13",
          "line13",
          "line13",
          "line13",
          "line13",
          "line13",
          "line13",
          "line13",
          "line13",
          "line13",
          "line13",
          "line13",
          "line13",
          "line13",
          "line13",
          "line13",
          "line13",
          "line13",
          "line13",
          "line13",
          "line13",
          "line13",
          "line13",
          "line13",
          "line13",
          "line13",
          "line13",
          "line13",
          "line13",
          "line13",
          "line13",
          "line13",
          "line13",
          "line13",
          "line13",
          "line13",
          "line13",
          "line13",
          "line13",
          "line13",
          "line13",
          "line13",
          "line13",
          "line13",
          "line13",
          "line13",
          "line13",
          "line13",
          "line13",
          "line13",
          "line13",
          "line13",
          "line13",
          "line13",
          "line13",
          "line13",
          "line13",
          "line13",
          "line13",
          "line13",
          "line13",
          "line13",
          "line13",
          "line13",
          "line13",
          "line13",
          "line13",
          "line13",
          "line13",
          "line13",
          "line13",
          "line13",
          "line13",
          "line13",
          "line13",
          "line13",
          "line13",
          "line13",
          "line13",
          "line13",
          "line13",
          "line13",
          "line13",
          "line13",
          "line13",
          "line13",
          "line13",
          "line13",
          "line13",
          "line13",
          "line13",
          "line13",
          "line13",
          "line13",
          "line13",
          "line13",
          "line13",
          "line13",
          "line13",
          "line13",
          "line13",
          "line13",
          "line13",
          "line13",
          "line13",
          "line13",
          "line13",
          "line13",
          "line13",
          "line13",
          "line13"
         ],
         "y": [
          20.334613995282517,
          20.334613995282517,
          20.334613995282517,
          20.334613995282517,
          8.394698313396406,
          8.394698313396406,
          8.394698313396406,
          8.394698313396406,
          9.709134632966924,
          9.709134632966924,
          9.709134632966924,
          9.709134632966924,
          8.555825436435263,
          8.555825436435263,
          8.555825436435263,
          8.555825436435263,
          17.183761083056517,
          17.183761083056517,
          17.183761083056517,
          17.183761083056517,
          18.248919224901737,
          18.248919224901737,
          18.248919224901737,
          18.248919224901737,
          4.138869460793488,
          4.138869460793488,
          4.138869460793488,
          4.138869460793488,
          15.47278658090744,
          15.47278658090744,
          15.47278658090744,
          15.47278658090744,
          18.3091129368592,
          18.3091129368592,
          18.3091129368592,
          18.3091129368592,
          4.449472717380757,
          4.449472717380757,
          4.449472717380757,
          4.449472717380757,
          18.76556307410975,
          18.76556307410975,
          18.76556307410975,
          18.76556307410975,
          0.9272811405220538,
          6.936627591408222,
          0.9284092160092704,
          0,
          0.9295380006477548,
          4.996469111029063,
          0.9277016206273436,
          null,
          0,
          3.070434310485324,
          null,
          null,
          null,
          null,
          null,
          0,
          null,
          null,
          null,
          0.9297395002435964,
          null,
          null,
          null,
          0.9297381681602922,
          0.9246381161429884,
          null,
          null,
          0.9297424043490422,
          0.9299271866834328,
          null,
          1.0729916164822209,
          0.9297401920135636,
          23.284570039534294,
          null,
          5.78713378989425,
          0.9297827463507744,
          9.782742854379434,
          null,
          9.78274285431709,
          8.953917802562605,
          1.92436527086687,
          7.995418969789479,
          7.995418881590603,
          7.891650610003477,
          13.634856900354984,
          13.6769579900838,
          13.676957989728267,
          13.64122712809258,
          4.099363452565116,
          6.523126391072122,
          2.568429134475092,
          2.5983098932086826,
          2.335961055416703,
          3.077619033067676,
          5.85223463071941,
          5.796182863077662,
          3.925276767236692,
          3.9276467352795454,
          3.925276767236692,
          3.925276767236692,
          15.10426029832713,
          15.149891162033189,
          15.10426029832713,
          15.10426029832713,
          30.03223340638805,
          30.03223340638805,
          30.03223340638805,
          30.03223340638805,
          9.89085845783742,
          9.89085845783742,
          9.89085845783742,
          9.89085845783742,
          10.7996759911414,
          10.7996759911414,
          10.7996759911414,
          10.7996759911414,
          11.217260350631422,
          11.217260350631422,
          11.217260350631422,
          11.217260350631422,
          5.190812516734639,
          5.190812516734639,
          5.190812516734639,
          5.190812516734639,
          7.30317676779018,
          7.30317676779018,
          7.30317676779018,
          7.30317676779018,
          6.566973154263998,
          6.566973154263998,
          6.566973154263998,
          6.566973154263998,
          3.734014237737273,
          3.734014237737273,
          3.734014237737273,
          3.734014237737273,
          22.68636191584449,
          22.68636191584449,
          22.68636191584449,
          22.68636191584449,
          16.195507669888656,
          16.195507669888656,
          16.195507669888656,
          16.195507669888656,
          3.977286139204519,
          3.977286139204519,
          3.977286139204519,
          3.977286139204519,
          19.868310217799177,
          19.868310217799177,
          19.868310217799177,
          19.868310217799177,
          13.462888877291093,
          13.462888877291093,
          13.462888877291093,
          13.462888877291093
         ]
        },
        {
         "box": {
          "visible": false
         },
         "meanline": {
          "visible": true
         },
         "name": "line14",
         "orientation": "v",
         "side": "positive",
         "type": "violin",
         "x": [
          "line14",
          "line14",
          "line14",
          "line14",
          "line14",
          "line14",
          "line14",
          "line14",
          "line14",
          "line14",
          "line14",
          "line14",
          "line14",
          "line14",
          "line14",
          "line14",
          "line14",
          "line14",
          "line14",
          "line14",
          "line14",
          "line14",
          "line14",
          "line14",
          "line14",
          "line14",
          "line14",
          "line14",
          "line14",
          "line14",
          "line14",
          "line14",
          "line14",
          "line14",
          "line14",
          "line14",
          "line14",
          "line14",
          "line14",
          "line14",
          "line14",
          "line14",
          "line14",
          "line14",
          "line14",
          "line14",
          "line14",
          "line14",
          "line14",
          "line14",
          "line14",
          "line14",
          "line14",
          "line14",
          "line14",
          "line14",
          "line14",
          "line14",
          "line14",
          "line14",
          "line14",
          "line14",
          "line14",
          "line14",
          "line14",
          "line14",
          "line14",
          "line14",
          "line14",
          "line14",
          "line14",
          "line14",
          "line14",
          "line14",
          "line14",
          "line14",
          "line14",
          "line14",
          "line14",
          "line14",
          "line14",
          "line14",
          "line14",
          "line14",
          "line14",
          "line14",
          "line14",
          "line14",
          "line14",
          "line14",
          "line14",
          "line14",
          "line14",
          "line14",
          "line14",
          "line14",
          "line14",
          "line14",
          "line14",
          "line14",
          "line14",
          "line14",
          "line14",
          "line14",
          "line14",
          "line14",
          "line14",
          "line14",
          "line14",
          "line14",
          "line14",
          "line14",
          "line14",
          "line14",
          "line14",
          "line14",
          "line14",
          "line14",
          "line14",
          "line14",
          "line14",
          "line14",
          "line14",
          "line14",
          "line14",
          "line14",
          "line14",
          "line14",
          "line14",
          "line14",
          "line14",
          "line14",
          "line14",
          "line14",
          "line14",
          "line14",
          "line14",
          "line14",
          "line14",
          "line14",
          "line14",
          "line14",
          "line14",
          "line14",
          "line14",
          "line14",
          "line14",
          "line14",
          "line14",
          "line14",
          "line14",
          "line14",
          "line14",
          "line14",
          "line14",
          "line14",
          "line14",
          "line14",
          "line14",
          "line14"
         ],
         "y": [
          20.934466777771597,
          20.934466777771597,
          20.934466777771597,
          20.934466777771597,
          29.362997822376048,
          29.362997822376048,
          29.362997822376048,
          29.362997822376048,
          17.080384430099336,
          17.080384430099336,
          17.080384430099336,
          17.080384430099336,
          15.84984963506518,
          15.84984963506518,
          15.84984963506518,
          15.84984963506518,
          39.77203038770003,
          39.77203038770003,
          39.77203038770003,
          39.77203038770003,
          1.7251899096217542,
          1.7251899096217542,
          1.7251899096217542,
          1.7251899096217542,
          10.59848795754495,
          10.59848795754495,
          10.59848795754495,
          10.59848795754495,
          33.867537346412185,
          33.867537346412185,
          33.867537346412185,
          33.867537346412185,
          36.682019809295866,
          36.682019809295866,
          36.682019809295866,
          36.682019809295866,
          6.856361995662204,
          6.856361995662204,
          6.856361995662204,
          6.856361995662204,
          34.06556996398828,
          34.06556996398828,
          34.06556996398828,
          34.06556996398828,
          null,
          8.654591747671743,
          8.667518465249579,
          8.672421801051751,
          null,
          null,
          12.457045071883671,
          null,
          null,
          null,
          null,
          null,
          null,
          null,
          null,
          27.05718876531761,
          null,
          null,
          null,
          null,
          3.4596236969477223,
          null,
          null,
          null,
          28.3588895088054,
          null,
          null,
          null,
          0.9807294400538452,
          null,
          null,
          null,
          36.58733336014615,
          null,
          null,
          null,
          26.871464539040296,
          26.82732552819712,
          26.871464539045505,
          null,
          21.108464729182145,
          21.10708008070172,
          21.107080073763875,
          null,
          20.241547108440813,
          20.23839552211533,
          20.238395522100287,
          20.24033360470821,
          2.118299058603142,
          2.121105142026811,
          2.120960473381352,
          2.120125659323391,
          18.32136609291573,
          18.35504574665587,
          18.355562567177135,
          18.353668787772456,
          8.471798743859678,
          8.472340983580331,
          8.471798743859678,
          8.471798743859678,
          30.29715124675201,
          30.28446590674477,
          30.29715124675201,
          30.29715124675201,
          17.72748129487618,
          17.72748129487618,
          17.72748129487618,
          17.72748129487618,
          20.93413465418149,
          20.93413465418149,
          20.93413465418149,
          20.93413465418149,
          3.797683880325357,
          3.797683880325357,
          3.797683880325357,
          3.797683880325357,
          26.65510363661855,
          26.65510363661855,
          26.65510363661855,
          26.65510363661855,
          18.678441764580988,
          18.678441764580988,
          18.678441764580988,
          18.678441764580988,
          8.535708725019886,
          8.535708725019886,
          8.535708725019886,
          8.535708725019886,
          35.42944744851307,
          35.42944744851307,
          35.42944744851307,
          35.42944744851307,
          34.032943784850374,
          34.032943784850374,
          34.032943784850374,
          34.032943784850374,
          3.385183857398233,
          3.385183857398233,
          3.385183857398233,
          3.385183857398233,
          19.74282625142133,
          19.74282625142133,
          19.74282625142133,
          19.74282625142133,
          6.536649228728527,
          6.536649228728527,
          6.536649228728527,
          6.536649228728527,
          31.334135608701096,
          31.334135608701096,
          31.334135608701096,
          31.334135608701096,
          25.639114273665943,
          25.639114273665943,
          25.639114273665943,
          25.639114273665943
         ]
        },
        {
         "box": {
          "visible": false
         },
         "meanline": {
          "visible": true
         },
         "name": "line15",
         "orientation": "v",
         "side": "positive",
         "type": "violin",
         "x": [
          "line15",
          "line15",
          "line15",
          "line15",
          "line15",
          "line15",
          "line15",
          "line15",
          "line15",
          "line15",
          "line15",
          "line15",
          "line15",
          "line15",
          "line15",
          "line15",
          "line15",
          "line15",
          "line15",
          "line15",
          "line15",
          "line15",
          "line15",
          "line15",
          "line15",
          "line15",
          "line15",
          "line15",
          "line15",
          "line15",
          "line15",
          "line15",
          "line15",
          "line15",
          "line15",
          "line15",
          "line15",
          "line15",
          "line15",
          "line15",
          "line15",
          "line15",
          "line15",
          "line15",
          "line15",
          "line15",
          "line15",
          "line15",
          "line15",
          "line15",
          "line15",
          "line15",
          "line15",
          "line15",
          "line15",
          "line15",
          "line15",
          "line15",
          "line15",
          "line15",
          "line15",
          "line15",
          "line15",
          "line15",
          "line15",
          "line15",
          "line15",
          "line15",
          "line15",
          "line15",
          "line15",
          "line15",
          "line15",
          "line15",
          "line15",
          "line15",
          "line15",
          "line15",
          "line15",
          "line15",
          "line15",
          "line15",
          "line15",
          "line15",
          "line15",
          "line15",
          "line15",
          "line15",
          "line15",
          "line15",
          "line15",
          "line15",
          "line15",
          "line15",
          "line15",
          "line15",
          "line15",
          "line15",
          "line15",
          "line15",
          "line15",
          "line15",
          "line15",
          "line15",
          "line15",
          "line15",
          "line15",
          "line15",
          "line15",
          "line15",
          "line15",
          "line15",
          "line15",
          "line15",
          "line15",
          "line15",
          "line15",
          "line15",
          "line15",
          "line15",
          "line15",
          "line15",
          "line15",
          "line15",
          "line15",
          "line15",
          "line15",
          "line15",
          "line15",
          "line15",
          "line15",
          "line15",
          "line15",
          "line15",
          "line15",
          "line15",
          "line15",
          "line15",
          "line15",
          "line15",
          "line15",
          "line15",
          "line15",
          "line15",
          "line15",
          "line15",
          "line15",
          "line15",
          "line15",
          "line15",
          "line15",
          "line15",
          "line15",
          "line15",
          "line15",
          "line15",
          "line15",
          "line15",
          "line15",
          "line15"
         ],
         "y": [
          41.26440631851354,
          41.26440631851354,
          41.26440631851354,
          41.26440631851354,
          21.19041038161248,
          21.19041038161248,
          21.19041038161248,
          21.19041038161248,
          7.57856536368834,
          7.57856536368834,
          7.57856536368834,
          7.57856536368834,
          7.517632219635995,
          7.517632219635995,
          7.517632219635995,
          7.517632219635995,
          22.818332095181248,
          22.818332095181248,
          22.818332095181248,
          22.818332095181248,
          19.941469271682173,
          19.941469271682173,
          19.941469271682173,
          19.941469271682173,
          7.056797958919975,
          7.056797958919975,
          7.056797958919975,
          7.056797958919975,
          18.57432467979334,
          18.57432467979334,
          18.57432467979334,
          18.57432467979334,
          54.74827728261626,
          54.74827728261626,
          54.74827728261626,
          54.74827728261626,
          2.8991550660517422,
          2.8991550660517422,
          2.8991550660517422,
          2.8991550660517422,
          15.613529298546258,
          15.613529298546258,
          15.613529298546258,
          15.613529298546258,
          0,
          15.722970353066332,
          9.056005091881088,
          8.820090122734383,
          0,
          5.016287145814244,
          12.718211525238951,
          null,
          0.9662263635504952,
          3.0701741093790083,
          0.9662263626883404,
          null,
          0.9662401798144914,
          0.966240179814898,
          0.9662401829253738,
          27.07688861677177,
          0.966216428852422,
          null,
          null,
          1.8959599865634504,
          3.8346224874835433,
          null,
          null,
          1.895957270128416,
          28.43133596204258,
          null,
          null,
          1.895965908724431,
          2.855328284612728,
          null,
          0.8529177655616959,
          1.8959613972466305,
          13.843200142190817,
          null,
          5.541692097358737,
          1.896048175662103,
          36.62656497850724,
          26.847725424307008,
          36.62656497845491,
          9.05156559231422,
          19.8270842335599,
          29.134905583582928,
          29.13490548076092,
          7.9821632451305105,
          6.93135860531569,
          6.86078331640169,
          6.860783316597743,
          6.91340404020578,
          6.431447350777619,
          8.45084412835039,
          3.790699275317192,
          4.273578107503845,
          16.25437372178153,
          21.249810095858347,
          13.047567186223116,
          13.07660316709942,
          4.947401757196855,
          4.947678296695154,
          4.947401757196855,
          4.947401757196855,
          15.328001524414647,
          15.23524710396524,
          15.328001524414647,
          15.328001524414647,
          47.78577608292235,
          47.78577608292235,
          47.78577608292235,
          47.78577608292235,
          11.216452444768024,
          11.216452444768024,
          11.216452444768024,
          11.216452444768024,
          14.650158371760662,
          14.650158371760662,
          14.650158371760662,
          14.650158371760662,
          15.784373458286248,
          15.784373458286248,
          15.784373458286248,
          15.784373458286248,
          14.161306563266724,
          14.161306563266724,
          14.161306563266724,
          14.161306563266724,
          1.6454683551618123,
          1.6454683551618123,
          1.6454683551618123,
          1.6454683551618123,
          29.10223652936274,
          29.10223652936274,
          29.10223652936274,
          29.10223652936274,
          37.56962564941774,
          37.56962564941774,
          37.56962564941774,
          37.56962564941774,
          26.167243155241778,
          26.167243155241778,
          26.167243155241778,
          26.167243155241778,
          35.944658904563674,
          35.944658904563674,
          35.944658904563674,
          35.944658904563674,
          10.274940232566678,
          10.274940232566678,
          10.274940232566678,
          10.274940232566678,
          11.992055855448196,
          11.992055855448196,
          11.992055855448196,
          11.992055855448196,
          12.51860900550825,
          12.51860900550825,
          12.51860900550825,
          12.51860900550825
         ]
        },
        {
         "box": {
          "visible": false
         },
         "meanline": {
          "visible": true
         },
         "name": "line16",
         "orientation": "v",
         "side": "positive",
         "type": "violin",
         "x": [
          "line16",
          "line16",
          "line16",
          "line16",
          "line16",
          "line16",
          "line16",
          "line16",
          "line16",
          "line16",
          "line16",
          "line16",
          "line16",
          "line16",
          "line16",
          "line16",
          "line16",
          "line16",
          "line16",
          "line16",
          "line16",
          "line16",
          "line16",
          "line16",
          "line16",
          "line16",
          "line16",
          "line16",
          "line16",
          "line16",
          "line16",
          "line16",
          "line16",
          "line16",
          "line16",
          "line16",
          "line16",
          "line16",
          "line16",
          "line16",
          "line16",
          "line16",
          "line16",
          "line16",
          "line16",
          "line16",
          "line16",
          "line16",
          "line16",
          "line16",
          "line16",
          "line16",
          "line16",
          "line16",
          "line16",
          "line16",
          "line16",
          "line16",
          "line16",
          "line16",
          "line16",
          "line16",
          "line16",
          "line16",
          "line16",
          "line16",
          "line16",
          "line16",
          "line16",
          "line16",
          "line16",
          "line16",
          "line16",
          "line16",
          "line16",
          "line16",
          "line16",
          "line16",
          "line16",
          "line16",
          "line16",
          "line16",
          "line16",
          "line16",
          "line16",
          "line16",
          "line16",
          "line16",
          "line16",
          "line16",
          "line16",
          "line16",
          "line16",
          "line16",
          "line16",
          "line16",
          "line16",
          "line16",
          "line16",
          "line16",
          "line16",
          "line16",
          "line16",
          "line16",
          "line16",
          "line16",
          "line16",
          "line16",
          "line16",
          "line16",
          "line16",
          "line16",
          "line16",
          "line16",
          "line16",
          "line16",
          "line16",
          "line16",
          "line16",
          "line16",
          "line16",
          "line16",
          "line16",
          "line16",
          "line16",
          "line16",
          "line16",
          "line16",
          "line16",
          "line16",
          "line16",
          "line16",
          "line16",
          "line16",
          "line16",
          "line16",
          "line16",
          "line16",
          "line16",
          "line16",
          "line16",
          "line16",
          "line16",
          "line16",
          "line16",
          "line16",
          "line16",
          "line16",
          "line16",
          "line16",
          "line16",
          "line16",
          "line16",
          "line16",
          "line16",
          "line16",
          "line16",
          "line16",
          "line16",
          "line16"
         ],
         "y": [
          72.75893206624264,
          72.75893206624264,
          72.75893206624264,
          72.75893206624264,
          31.43517790299741,
          31.43517790299741,
          31.43517790299741,
          31.43517790299741,
          25.3203187085356,
          25.3203187085356,
          25.3203187085356,
          25.3203187085356,
          21.327644795773345,
          21.327644795773345,
          21.327644795773345,
          21.327644795773345,
          32.17629728668555,
          32.17629728668555,
          32.17629728668555,
          32.17629728668555,
          52.28010068117159,
          52.28010068117159,
          52.28010068117159,
          52.28010068117159,
          32.33804287414918,
          32.33804287414918,
          32.33804287414918,
          32.33804287414918,
          24.11007645262777,
          24.11007645262777,
          24.11007645262777,
          24.11007645262777,
          62.84773430219383,
          62.84773430219383,
          62.84773430219383,
          62.84773430219383,
          22.21170122428457,
          22.21170122428457,
          22.21170122428457,
          22.21170122428457,
          31.782073702687068,
          31.782073702687068,
          31.782073702687068,
          31.782073702687068,
          2.505192299188859,
          17.735018822157787,
          11.197614483740784,
          10.838982041456044,
          12.938629917882688,
          17.947751307201226,
          25.62119168075869,
          12.938629902460915,
          18.20325443798517,
          15.332029435420475,
          18.203254452935308,
          18.086536979046784,
          24.65478259213774,
          24.65478259212645,
          24.654782512468284,
          51.54201082297054,
          8.570712675430428,
          8.294311190830769,
          8.294311190830776,
          8.930773538410335,
          10.078889308276484,
          6.2943055203981535,
          6.29430552042411,
          7.117014672577257,
          40.66511439382745,
          12.34270380751682,
          12.34270380441347,
          12.771206200113795,
          10.523792420431615,
          9.326620797675789,
          9.7015602593637,
          9.894697027909258,
          44.10112287465134,
          30.4654137114004,
          25.11176937513944,
          30.61132632829164,
          51.35296167699758,
          41.578379342083785,
          51.35296167694627,
          23.873706808446496,
          29.779326241077825,
          39.07519616125696,
          39.07519606625488,
          18.020260608770187,
          26.324615752769475,
          26.267943686763928,
          26.2679436870466,
          26.3124443651314,
          30.198794303114617,
          32.44156250995858,
          27.794545146364342,
          28.20299587475047,
          49.10433062535236,
          54.10214737149749,
          45.94589723343828,
          45.97714628984299,
          13.346833532504018,
          13.3486186762155,
          13.346833532504018,
          13.346833532504018,
          24.660902592739617,
          24.59542017683642,
          24.660902592739617,
          24.660902592739617,
          78.2201432437194,
          78.2201432437194,
          78.2201432437194,
          78.2201432437194,
          18.372524143690207,
          18.372524143690207,
          18.372524143690207,
          18.372524143690207,
          33.50896639127801,
          33.50896639127801,
          33.50896639127801,
          33.50896639127801,
          45.75645656103995,
          45.75645656103995,
          45.75645656103995,
          45.75645656103995,
          45.07840978808468,
          45.07840978808468,
          45.07840978808468,
          45.07840978808468,
          25.094930969905764,
          25.094930969905764,
          25.094930969905764,
          25.094930969905764,
          61.47558315278341,
          61.47558315278341,
          61.47558315278341,
          61.47558315278341,
          54.691181970689016,
          54.691181970689016,
          54.691181970689016,
          54.691181970689016,
          51.42341116853626,
          51.42341116853626,
          51.42341116853626,
          51.42341116853626,
          46.193071044795744,
          46.193071044795744,
          46.193071044795744,
          46.193071044795744,
          33.77102686212345,
          33.77102686212345,
          33.77102686212345,
          33.77102686212345,
          40.12475278733864,
          40.12475278733864,
          40.12475278733864,
          40.12475278733864,
          38.52440443386058,
          38.52440443386058,
          38.52440443386058,
          38.52440443386058
         ]
        },
        {
         "box": {
          "visible": false
         },
         "meanline": {
          "visible": true
         },
         "name": "line17",
         "orientation": "v",
         "side": "positive",
         "type": "violin",
         "x": [
          "line17",
          "line17",
          "line17",
          "line17",
          "line17",
          "line17",
          "line17",
          "line17",
          "line17",
          "line17",
          "line17",
          "line17",
          "line17",
          "line17",
          "line17",
          "line17",
          "line17",
          "line17",
          "line17",
          "line17",
          "line17",
          "line17",
          "line17",
          "line17",
          "line17",
          "line17",
          "line17",
          "line17",
          "line17",
          "line17",
          "line17",
          "line17",
          "line17",
          "line17",
          "line17",
          "line17",
          "line17",
          "line17",
          "line17",
          "line17",
          "line17",
          "line17",
          "line17",
          "line17",
          "line17",
          "line17",
          "line17",
          "line17",
          "line17",
          "line17",
          "line17",
          "line17",
          "line17",
          "line17",
          "line17",
          "line17",
          "line17",
          "line17",
          "line17",
          "line17",
          "line17",
          "line17",
          "line17",
          "line17",
          "line17",
          "line17",
          "line17",
          "line17",
          "line17",
          "line17",
          "line17",
          "line17",
          "line17",
          "line17",
          "line17",
          "line17",
          "line17",
          "line17",
          "line17",
          "line17",
          "line17",
          "line17",
          "line17",
          "line17",
          "line17",
          "line17",
          "line17",
          "line17",
          "line17",
          "line17",
          "line17",
          "line17",
          "line17",
          "line17",
          "line17",
          "line17",
          "line17",
          "line17",
          "line17",
          "line17",
          "line17",
          "line17",
          "line17",
          "line17",
          "line17",
          "line17",
          "line17",
          "line17",
          "line17",
          "line17",
          "line17",
          "line17",
          "line17",
          "line17",
          "line17",
          "line17",
          "line17",
          "line17",
          "line17",
          "line17",
          "line17",
          "line17",
          "line17",
          "line17",
          "line17",
          "line17",
          "line17",
          "line17",
          "line17",
          "line17",
          "line17",
          "line17",
          "line17",
          "line17",
          "line17",
          "line17",
          "line17",
          "line17",
          "line17",
          "line17",
          "line17",
          "line17",
          "line17",
          "line17",
          "line17",
          "line17",
          "line17",
          "line17",
          "line17",
          "line17",
          "line17",
          "line17",
          "line17",
          "line17",
          "line17",
          "line17",
          "line17",
          "line17",
          "line17",
          "line17"
         ],
         "y": [
          31.520251704671274,
          31.520251704671274,
          31.520251704671274,
          31.520251704671274,
          10.264417944886455,
          10.264417944886455,
          10.264417944886455,
          10.264417944886455,
          17.68427985165499,
          17.68427985165499,
          17.68427985165499,
          17.68427985165499,
          13.726355267740416,
          13.726355267740416,
          13.726355267740416,
          13.726355267740416,
          9.499483040502067,
          9.499483040502067,
          9.499483040502067,
          9.499483040502067,
          32.451803915779216,
          32.451803915779216,
          32.451803915779216,
          32.451803915779216,
          25.25750395391801,
          25.25750395391801,
          25.25750395391801,
          25.25750395391801,
          5.633979991755865,
          5.633979991755865,
          5.633979991755865,
          5.633979991755865,
          8.08339854061272,
          8.08339854061272,
          8.08339854061272,
          8.08339854061272,
          19.387531540199745,
          19.387531540199745,
          19.387531540199745,
          19.387531540199745,
          16.313273572140243,
          16.313273572140243,
          16.313273572140243,
          16.313273572140243,
          1.8274764006894637,
          1.8246280335830047,
          1.826905126467168,
          1.826791296349912,
          12.84004565778735,
          12.839962738243376,
          12.820723520805624,
          12.840045641890027,
          18.026544714093696,
          18.043818075648137,
          18.02654472963905,
          18.026909678648305,
          24.547315123309467,
          24.547315123298223,
          24.54731504196131,
          24.45217074239929,
          8.12470685237942,
          8.124885232328495,
          8.12488523232842,
          8.127580963868223,
          6.062573482969798,
          6.0634068770837874,
          6.063406877113304,
          6.065359102251177,
          12.179912836874797,
          12.237822395108653,
          12.237822391907956,
          12.241985193718936,
          9.185865853673784,
          9.178697198485912,
          9.18185082955964,
          9.181769774558155,
          30.526028114533396,
          30.45396501991461,
          30.537820304285702,
          30.46493724827093,
          14.686446606210538,
          14.701107865500491,
          14.686446606212847,
          14.746270206111245,
          9.903014917132053,
          9.878269295827463,
          9.878269295022724,
          9.90756980005317,
          19.459535610717968,
          19.4581046358492,
          19.45810463583997,
          19.458938357743506,
          23.989818580379875,
          24.005887700479388,
          24.034054714503363,
          24.02243670667601,
          32.86605548728228,
          32.85759014414809,
          32.92986394784184,
          32.92758520193017,
          8.240048400048835,
          8.24032631755264,
          8.240048400048835,
          8.240048400048835,
          9.33795462735438,
          9.336014972522532,
          9.33795462735438,
          9.33795462735438,
          30.46495149963103,
          30.46495149963103,
          30.46495149963103,
          30.46495149963103,
          7.071137967151513,
          7.071137967151513,
          7.071137967151513,
          7.071137967151513,
          18.82226195533585,
          18.82226195533585,
          18.82226195533585,
          18.82226195533585,
          30.03543575265545,
          30.03543575265545,
          30.03543575265545,
          30.03543575265545,
          30.95489053603267,
          30.95489053603267,
          30.95489053603267,
          30.95489053603267,
          23.53068446935069,
          23.53068446935069,
          23.53068446935069,
          23.53068446935069,
          32.401144562343795,
          32.401144562343795,
          32.401144562343795,
          32.401144562343795,
          17.09929090496435,
          17.09929090496435,
          17.09929090496435,
          17.09929090496435,
          25.29220715499063,
          25.29220715499063,
          25.29220715499063,
          25.29220715499063,
          10.16590865191063,
          10.16590865191063,
          10.16590865191063,
          10.16590865191063,
          23.479123444178164,
          23.479123444178164,
          23.479123444178164,
          23.479123444178164,
          28.367819183703595,
          28.367819183703595,
          28.367819183703595,
          28.367819183703595,
          26.093173203253222,
          26.093173203253222,
          26.093173203253222,
          26.093173203253222
         ]
        },
        {
         "box": {
          "visible": false
         },
         "meanline": {
          "visible": true
         },
         "name": "line2",
         "orientation": "v",
         "side": "positive",
         "type": "violin",
         "x": [
          "line2",
          "line2",
          "line2",
          "line2",
          "line2",
          "line2",
          "line2",
          "line2",
          "line2",
          "line2",
          "line2",
          "line2",
          "line2",
          "line2",
          "line2",
          "line2",
          "line2",
          "line2",
          "line2",
          "line2",
          "line2",
          "line2",
          "line2",
          "line2",
          "line2",
          "line2",
          "line2",
          "line2",
          "line2",
          "line2",
          "line2",
          "line2",
          "line2",
          "line2",
          "line2",
          "line2",
          "line2",
          "line2",
          "line2",
          "line2",
          "line2",
          "line2",
          "line2",
          "line2",
          "line2",
          "line2",
          "line2",
          "line2",
          "line2",
          "line2",
          "line2",
          "line2",
          "line2",
          "line2",
          "line2",
          "line2",
          "line2",
          "line2",
          "line2",
          "line2",
          "line2",
          "line2",
          "line2",
          "line2",
          "line2",
          "line2",
          "line2",
          "line2",
          "line2",
          "line2",
          "line2",
          "line2",
          "line2",
          "line2",
          "line2",
          "line2",
          "line2",
          "line2",
          "line2",
          "line2",
          "line2",
          "line2",
          "line2",
          "line2",
          "line2",
          "line2",
          "line2",
          "line2",
          "line2",
          "line2",
          "line2",
          "line2",
          "line2",
          "line2",
          "line2",
          "line2",
          "line2",
          "line2",
          "line2",
          "line2",
          "line2",
          "line2",
          "line2",
          "line2",
          "line2",
          "line2",
          "line2",
          "line2",
          "line2",
          "line2",
          "line2",
          "line2",
          "line2",
          "line2",
          "line2",
          "line2",
          "line2",
          "line2",
          "line2",
          "line2",
          "line2",
          "line2",
          "line2",
          "line2",
          "line2",
          "line2",
          "line2",
          "line2",
          "line2",
          "line2",
          "line2",
          "line2",
          "line2",
          "line2",
          "line2",
          "line2",
          "line2",
          "line2",
          "line2",
          "line2",
          "line2",
          "line2",
          "line2",
          "line2",
          "line2",
          "line2",
          "line2",
          "line2",
          "line2",
          "line2",
          "line2",
          "line2",
          "line2",
          "line2",
          "line2",
          "line2",
          "line2",
          "line2",
          "line2",
          "line2"
         ],
         "y": [
          92.9317853216094,
          92.9317853216094,
          92.9317853216094,
          92.9317853216094,
          45.59054733467187,
          45.59054733467187,
          45.59054733467187,
          45.59054733467187,
          3.69252065803784,
          3.69252065803784,
          3.69252065803784,
          3.69252065803784,
          8.166788622726603,
          8.166788622726603,
          8.166788622726603,
          8.166788622726603,
          8.545392636643081,
          8.545392636643081,
          8.545392636643081,
          8.545392636643081,
          79.92889798367632,
          79.92889798367632,
          79.92889798367632,
          79.92889798367632,
          32.92267010285323,
          32.92267010285323,
          32.92267010285323,
          32.92267010285323,
          3.719997752233115,
          3.719997752233115,
          3.719997752233115,
          3.719997752233115,
          98.1306068023669,
          98.1306068023669,
          98.1306068023669,
          98.1306068023669,
          16.113173982934022,
          16.113173982934022,
          16.113173982934022,
          16.113173982934022,
          2.417870654305609,
          2.417870654305609,
          2.417870654305609,
          2.417870654305609,
          23.99797993096344,
          12.529400865915042,
          25.203612884886077,
          25.5068153590668,
          44.33941106490949,
          34.2808157372252,
          33.59684192334863,
          0,
          0,
          8.326288499754256,
          5.09941524990707,
          0,
          0,
          0,
          0,
          0,
          0,
          0,
          0,
          null,
          0,
          0,
          0,
          null,
          0,
          0,
          0,
          0,
          0,
          0,
          0,
          0,
          0,
          0,
          0,
          5.607226134222512,
          0,
          0,
          0,
          52.08661930231793,
          52.80003151782287,
          0,
          0,
          51.28950652352573,
          1.9558035794608128,
          0,
          0,
          1.8023953303327616,
          16.9632697718208,
          0,
          37.00414845250331,
          32.56967876252886,
          23.91464333781421,
          0,
          43.30867005859276,
          42.98932395760339,
          2.7293093226258165,
          2.497462031568641,
          2.7293093226258165,
          2.7293093226258165,
          5.026817985095561,
          5.910831994073427,
          5.026817985095561,
          5.026817985095561,
          97.26267131604584,
          97.26267131604584,
          97.26267131604584,
          97.26267131604584,
          5.3426331587106,
          5.3426331587106,
          5.3426331587106,
          5.3426331587106,
          68.49170912775328,
          68.49170912775328,
          68.49170912775328,
          68.49170912775328,
          43.17464270450152,
          43.17464270450152,
          43.17464270450152,
          43.17464270450152,
          61.15456309699242,
          61.15456309699242,
          61.15456309699242,
          61.15456309699242,
          7.9663057973457265,
          7.9663057973457265,
          7.9663057973457265,
          7.9663057973457265,
          76.09827319602303,
          76.09827319602303,
          76.09827319602303,
          76.09827319602303,
          74.33369819884769,
          74.33369819884769,
          74.33369819884769,
          74.33369819884769,
          86.9728800871187,
          86.9728800871187,
          86.9728800871187,
          86.9728800871187,
          80.4210607626047,
          80.4210607626047,
          80.4210607626047,
          80.4210607626047,
          49.78076632345931,
          49.78076632345931,
          49.78076632345931,
          49.78076632345931,
          6.201805661168725,
          6.201805661168725,
          6.201805661168725,
          6.201805661168725,
          20.25818935114947,
          20.25818935114947,
          20.25818935114947,
          20.25818935114947
         ]
        },
        {
         "box": {
          "visible": false
         },
         "meanline": {
          "visible": true
         },
         "name": "line4",
         "orientation": "v",
         "side": "positive",
         "type": "violin",
         "x": [
          "line4",
          "line4",
          "line4",
          "line4",
          "line4",
          "line4",
          "line4",
          "line4",
          "line4",
          "line4",
          "line4",
          "line4",
          "line4",
          "line4",
          "line4",
          "line4",
          "line4",
          "line4",
          "line4",
          "line4",
          "line4",
          "line4",
          "line4",
          "line4",
          "line4",
          "line4",
          "line4",
          "line4",
          "line4",
          "line4",
          "line4",
          "line4",
          "line4",
          "line4",
          "line4",
          "line4",
          "line4",
          "line4",
          "line4",
          "line4",
          "line4",
          "line4",
          "line4",
          "line4",
          "line4",
          "line4",
          "line4",
          "line4",
          "line4",
          "line4",
          "line4",
          "line4",
          "line4",
          "line4",
          "line4",
          "line4",
          "line4",
          "line4",
          "line4",
          "line4",
          "line4",
          "line4",
          "line4",
          "line4",
          "line4",
          "line4",
          "line4",
          "line4",
          "line4",
          "line4",
          "line4",
          "line4",
          "line4",
          "line4",
          "line4",
          "line4",
          "line4",
          "line4",
          "line4",
          "line4",
          "line4",
          "line4",
          "line4",
          "line4",
          "line4",
          "line4",
          "line4",
          "line4",
          "line4",
          "line4",
          "line4",
          "line4",
          "line4",
          "line4",
          "line4",
          "line4",
          "line4",
          "line4",
          "line4",
          "line4",
          "line4",
          "line4",
          "line4",
          "line4",
          "line4",
          "line4",
          "line4",
          "line4",
          "line4",
          "line4",
          "line4",
          "line4",
          "line4",
          "line4",
          "line4",
          "line4",
          "line4",
          "line4",
          "line4",
          "line4",
          "line4",
          "line4",
          "line4",
          "line4",
          "line4",
          "line4",
          "line4",
          "line4",
          "line4",
          "line4",
          "line4",
          "line4",
          "line4",
          "line4",
          "line4",
          "line4",
          "line4",
          "line4",
          "line4",
          "line4",
          "line4",
          "line4",
          "line4",
          "line4",
          "line4",
          "line4",
          "line4",
          "line4",
          "line4",
          "line4",
          "line4",
          "line4",
          "line4",
          "line4",
          "line4",
          "line4",
          "line4",
          "line4",
          "line4",
          "line4"
         ],
         "y": [
          9.1427308643948,
          9.1427308643948,
          9.1427308643948,
          9.1427308643948,
          5.352625680826601,
          5.352625680826601,
          5.352625680826601,
          5.352625680826601,
          23.07265071540008,
          23.07265071540008,
          23.07265071540008,
          23.07265071540008,
          17.808183585079526,
          17.808183585079526,
          17.808183585079526,
          17.808183585079526,
          3.703574200112467,
          3.703574200112467,
          3.703574200112467,
          3.703574200112467,
          18.245212602037743,
          18.245212602037743,
          18.245212602037743,
          18.245212602037743,
          3.793615979633552,
          3.793615979633552,
          3.793615979633552,
          3.793615979633552,
          3.162261145373985,
          3.162261145373985,
          3.162261145373985,
          3.162261145373985,
          15.577568117140702,
          15.577568117140702,
          15.577568117140702,
          15.577568117140702,
          18.921113018488853,
          18.921113018488853,
          18.921113018488853,
          18.921113018488853,
          1.9384745245651585,
          1.9384745245651585,
          1.9384745245651585,
          1.9384745245651585,
          17.36586347627681,
          51.40452258760355,
          13.37114861019588,
          11.945820299233386,
          0,
          null,
          27.856031409942407,
          10.01609227574391,
          0,
          null,
          24.616011202686728,
          5.765584450715156,
          0,
          null,
          null,
          13.464877913449447,
          null,
          0,
          null,
          null,
          null,
          0.8649375168336807,
          0,
          null,
          null,
          0.8159590356624983,
          0,
          0,
          null,
          5.250681419868946,
          0,
          0,
          null,
          1.62092013082826,
          0,
          0,
          null,
          2.6789814461740638,
          0,
          0,
          0.7610768836206607,
          1.486911462315811,
          0,
          0,
          0.7623735058051627,
          1.9864522962091904,
          1.9603228151182823,
          0,
          29.30887712170772,
          5.583941989426287,
          13.627306071219952,
          1.19309856214707,
          26.060363213943692,
          5.411956402610645,
          6.936197789632603,
          6.057460983412573,
          8.400772521328017,
          7.844599637203076,
          8.400772521328017,
          8.400772521328017,
          28.511834712002315,
          31.137316863904942,
          28.511834712002315,
          28.511834712002315,
          37.90147367881964,
          37.90147367881964,
          37.90147367881964,
          37.90147367881964,
          5.372128139546657,
          5.372128139546657,
          5.372128139546657,
          5.372128139546657,
          7.806981893765569,
          7.806981893765569,
          7.806981893765569,
          7.806981893765569,
          21.232194743504028,
          21.232194743504028,
          21.232194743504028,
          21.232194743504028,
          6.485563839218505,
          6.485563839218505,
          6.485563839218505,
          6.485563839218505,
          15.045019206516477,
          15.045019206516477,
          15.045019206516477,
          15.045019206516477,
          9.624548444604091,
          9.624548444604091,
          9.624548444604091,
          9.624548444604091,
          6.873359316245688,
          6.873359316245688,
          6.873359316245688,
          6.873359316245688,
          9.858115409099764,
          9.858115409099764,
          9.858115409099764,
          9.858115409099764,
          3.901279382272819,
          3.901279382272819,
          3.901279382272819,
          3.901279382272819,
          5.25112444697962,
          5.25112444697962,
          5.25112444697962,
          5.25112444697962,
          8.82141300694902,
          8.82141300694902,
          8.82141300694902,
          8.82141300694902,
          16.834334030107385,
          16.834334030107385,
          16.834334030107385,
          16.834334030107385
         ]
        },
        {
         "box": {
          "visible": false
         },
         "meanline": {
          "visible": true
         },
         "name": "line5",
         "orientation": "v",
         "side": "positive",
         "type": "violin",
         "x": [
          "line5",
          "line5",
          "line5",
          "line5",
          "line5",
          "line5",
          "line5",
          "line5",
          "line5",
          "line5",
          "line5",
          "line5",
          "line5",
          "line5",
          "line5",
          "line5",
          "line5",
          "line5",
          "line5",
          "line5",
          "line5",
          "line5",
          "line5",
          "line5",
          "line5",
          "line5",
          "line5",
          "line5",
          "line5",
          "line5",
          "line5",
          "line5",
          "line5",
          "line5",
          "line5",
          "line5",
          "line5",
          "line5",
          "line5",
          "line5",
          "line5",
          "line5",
          "line5",
          "line5",
          "line5",
          "line5",
          "line5",
          "line5",
          "line5",
          "line5",
          "line5",
          "line5",
          "line5",
          "line5",
          "line5",
          "line5",
          "line5",
          "line5",
          "line5",
          "line5",
          "line5",
          "line5",
          "line5",
          "line5",
          "line5",
          "line5",
          "line5",
          "line5",
          "line5",
          "line5",
          "line5",
          "line5",
          "line5",
          "line5",
          "line5",
          "line5",
          "line5",
          "line5",
          "line5",
          "line5",
          "line5",
          "line5",
          "line5",
          "line5",
          "line5",
          "line5",
          "line5",
          "line5",
          "line5",
          "line5",
          "line5",
          "line5",
          "line5",
          "line5",
          "line5",
          "line5",
          "line5",
          "line5",
          "line5",
          "line5",
          "line5",
          "line5",
          "line5",
          "line5",
          "line5",
          "line5",
          "line5",
          "line5",
          "line5",
          "line5",
          "line5",
          "line5",
          "line5",
          "line5",
          "line5",
          "line5",
          "line5",
          "line5",
          "line5",
          "line5",
          "line5",
          "line5",
          "line5",
          "line5",
          "line5",
          "line5",
          "line5",
          "line5",
          "line5",
          "line5",
          "line5",
          "line5",
          "line5",
          "line5",
          "line5",
          "line5",
          "line5",
          "line5",
          "line5",
          "line5",
          "line5",
          "line5",
          "line5",
          "line5",
          "line5",
          "line5",
          "line5",
          "line5",
          "line5",
          "line5",
          "line5",
          "line5",
          "line5",
          "line5",
          "line5",
          "line5",
          "line5",
          "line5",
          "line5",
          "line5"
         ],
         "y": [
          23.62569849166793,
          23.62569849166793,
          23.62569849166793,
          23.62569849166793,
          17.22813073442017,
          17.22813073442017,
          17.22813073442017,
          17.22813073442017,
          53.272597603751,
          53.272597603751,
          53.272597603751,
          53.272597603751,
          34.87375487729516,
          34.87375487729516,
          34.87375487729516,
          34.87375487729516,
          20.34736412078634,
          20.34736412078634,
          20.34736412078634,
          20.34736412078634,
          23.92968465350045,
          23.92968465350045,
          23.92968465350045,
          23.92968465350045,
          13.74524378473283,
          13.74524378473283,
          13.74524378473283,
          13.74524378473283,
          15.400561528711153,
          15.400561528711153,
          15.400561528711153,
          15.400561528711153,
          16.392672653670015,
          16.392672653670015,
          16.392672653670015,
          16.392672653670015,
          44.656861618007085,
          44.656861618007085,
          44.656861618007085,
          44.656861618007085,
          2.6006035729510804,
          2.6006035729510804,
          2.6006035729510804,
          2.6006035729510804,
          50.49871852680129,
          51.411739209049934,
          50.64979486471572,
          50.73881410520978,
          27.56043589438774,
          null,
          27.845231572583728,
          27.570596861155,
          null,
          null,
          24.59852135756032,
          24.44722284542848,
          null,
          null,
          null,
          29.23657424795172,
          null,
          null,
          null,
          3.6713999327173834,
          null,
          null,
          null,
          9.358477322178016,
          null,
          null,
          null,
          18.580304318201097,
          null,
          null,
          null,
          23.16560962113742,
          null,
          null,
          null,
          21.99243546314757,
          null,
          null,
          null,
          22.53244773459107,
          null,
          null,
          null,
          6.729950514899735,
          null,
          null,
          null,
          39.62960309497554,
          29.30078674698296,
          null,
          null,
          28.984795931383616,
          26.04622325785791,
          null,
          25.76311956620696,
          25.752945151724603,
          27.802796473091178,
          27.812521553336715,
          27.802796473091178,
          27.802796473091178,
          55.66749984291344,
          55.52018928685772,
          55.66749984291344,
          55.66749984291344,
          36.42776398766125,
          36.42776398766125,
          36.42776398766125,
          36.42776398766125,
          11.45183456675982,
          11.45183456675982,
          11.45183456675982,
          11.45183456675982,
          11.068939341795058,
          11.068939341795058,
          11.068939341795058,
          11.068939341795058,
          56.03849602200077,
          56.03849602200077,
          56.03849602200077,
          56.03849602200077,
          2.8633830133443965,
          2.8633830133443965,
          2.8633830133443965,
          2.8633830133443965,
          33.491272299515856,
          33.491272299515856,
          33.491272299515856,
          33.491272299515856,
          20.12989481076236,
          20.12989481076236,
          20.12989481076236,
          20.12989481076236,
          56.2437982150606,
          56.2437982150606,
          56.2437982150606,
          56.2437982150606,
          44.54106558891319,
          44.54106558891319,
          44.54106558891319,
          44.54106558891319,
          51.785139596000064,
          51.785139596000064,
          51.785139596000064,
          51.785139596000064,
          20.51464019156817,
          20.51464019156817,
          20.51464019156817,
          20.51464019156817,
          27.33600182670266,
          27.33600182670266,
          27.33600182670266,
          27.33600182670266,
          50.94983579628963,
          50.94983579628963,
          50.94983579628963,
          50.94983579628963
         ]
        },
        {
         "box": {
          "visible": false
         },
         "meanline": {
          "visible": true
         },
         "name": "line6",
         "orientation": "v",
         "side": "positive",
         "type": "violin",
         "x": [
          "line6",
          "line6",
          "line6",
          "line6",
          "line6",
          "line6",
          "line6",
          "line6",
          "line6",
          "line6",
          "line6",
          "line6",
          "line6",
          "line6",
          "line6",
          "line6",
          "line6",
          "line6",
          "line6",
          "line6",
          "line6",
          "line6",
          "line6",
          "line6",
          "line6",
          "line6",
          "line6",
          "line6",
          "line6",
          "line6",
          "line6",
          "line6",
          "line6",
          "line6",
          "line6",
          "line6",
          "line6",
          "line6",
          "line6",
          "line6",
          "line6",
          "line6",
          "line6",
          "line6",
          "line6",
          "line6",
          "line6",
          "line6",
          "line6",
          "line6",
          "line6",
          "line6",
          "line6",
          "line6",
          "line6",
          "line6",
          "line6",
          "line6",
          "line6",
          "line6",
          "line6",
          "line6",
          "line6",
          "line6",
          "line6",
          "line6",
          "line6",
          "line6",
          "line6",
          "line6",
          "line6",
          "line6",
          "line6",
          "line6",
          "line6",
          "line6",
          "line6",
          "line6",
          "line6",
          "line6",
          "line6",
          "line6",
          "line6",
          "line6",
          "line6",
          "line6",
          "line6",
          "line6",
          "line6",
          "line6",
          "line6",
          "line6",
          "line6",
          "line6",
          "line6",
          "line6",
          "line6",
          "line6",
          "line6",
          "line6",
          "line6",
          "line6",
          "line6",
          "line6",
          "line6",
          "line6",
          "line6",
          "line6",
          "line6",
          "line6",
          "line6",
          "line6",
          "line6",
          "line6",
          "line6",
          "line6",
          "line6",
          "line6",
          "line6",
          "line6",
          "line6",
          "line6",
          "line6",
          "line6",
          "line6",
          "line6",
          "line6",
          "line6",
          "line6",
          "line6",
          "line6",
          "line6",
          "line6",
          "line6",
          "line6",
          "line6",
          "line6",
          "line6",
          "line6",
          "line6",
          "line6",
          "line6",
          "line6",
          "line6",
          "line6",
          "line6",
          "line6",
          "line6",
          "line6",
          "line6",
          "line6",
          "line6",
          "line6",
          "line6",
          "line6",
          "line6",
          "line6",
          "line6",
          "line6",
          "line6"
         ],
         "y": [
          32.781794524555174,
          32.781794524555174,
          32.781794524555174,
          32.781794524555174,
          12.322881131235867,
          12.322881131235867,
          12.322881131235867,
          12.322881131235867,
          30.19247486426282,
          30.19247486426282,
          30.19247486426282,
          30.19247486426282,
          17.186090571843174,
          17.186090571843174,
          17.186090571843174,
          17.186090571843174,
          16.751636895842687,
          16.751636895842687,
          16.751636895842687,
          16.751636895842687,
          42.18912651553847,
          42.18912651553847,
          42.18912651553847,
          42.18912651553847,
          17.279860873170946,
          17.279860873170946,
          17.279860873170946,
          17.279860873170946,
          12.382650568523813,
          12.382650568523813,
          12.382650568523813,
          12.382650568523813,
          31.89968370805671,
          31.89968370805671,
          31.89968370805671,
          31.89968370805671,
          25.894831892440877,
          25.894831892440877,
          25.894831892440877,
          25.894831892440877,
          3.9725140287426415,
          3.9725140287426415,
          3.9725140287426415,
          3.9725140287426415,
          33.7025082615578,
          0,
          37.340987040996446,
          38.827635479915365,
          27.573191941943318,
          null,
          0,
          17.639277322504583,
          0.7985944328608647,
          null,
          0,
          18.800401808019377,
          0.7985944328608647,
          null,
          null,
          15.82329134546286,
          null,
          0.7986013607841411,
          null,
          3.9169107991669194,
          null,
          0.9127624349589364,
          0.7985630689028158,
          9.45137778568134,
          null,
          0.8563267937254404,
          0.7985630689028158,
          18.61675625314147,
          null,
          5.32198940521829,
          0.7985630689028158,
          23.188873266851807,
          null,
          1.6902781237854776,
          0.7985630689028158,
          22.0184504110336,
          null,
          2.750578408587739,
          0.7985630689028158,
          22.557418616000387,
          0,
          1.555307521552452,
          0.7985630689028158,
          6.863864583200656,
          0,
          2.05723419660276,
          2.0605336823375677,
          39.62727327426015,
          0,
          5.681146872132054,
          13.69999086719764,
          29.630042185469303,
          0,
          5.509276341506759,
          32.65679550133245,
          31.80198325332887,
          19.501527903707625,
          20.04072130993192,
          19.501527903707625,
          19.501527903707625,
          27.20372008564744,
          24.76409188838077,
          27.20372008564744,
          27.20372008564744,
          74.22823066402246,
          74.22823066402246,
          74.22823066402246,
          74.22823066402246,
          6.359237518098534,
          6.359237518098534,
          6.359237518098534,
          6.359237518098534,
          18.90877255575452,
          18.90877255575452,
          18.90877255575452,
          18.90877255575452,
          34.797635124824204,
          34.797635124824204,
          34.797635124824204,
          34.797635124824204,
          9.478719308151812,
          9.478719308151812,
          9.478719308151812,
          9.478719308151812,
          18.60335435930924,
          18.60335435930924,
          18.60335435930924,
          18.60335435930924,
          29.733451110124363,
          29.733451110124363,
          29.733451110124363,
          29.733451110124363,
          49.87314823352816,
          49.87314823352816,
          49.87314823352816,
          49.87314823352816,
          54.12676855129593,
          54.12676855129593,
          54.12676855129593,
          54.12676855129593,
          54.68691296709438,
          54.68691296709438,
          54.68691296709438,
          54.68691296709438,
          25.72918381273465,
          25.72918381273465,
          25.72918381273465,
          25.72918381273465,
          18.658702126321305,
          18.658702126321305,
          18.658702126321305,
          18.658702126321305,
          34.19695918701348,
          34.19695918701348,
          34.19695918701348,
          34.19695918701348
         ]
        },
        {
         "box": {
          "visible": false
         },
         "meanline": {
          "visible": true
         },
         "name": "line7",
         "orientation": "v",
         "side": "positive",
         "type": "violin",
         "x": [
          "line7",
          "line7",
          "line7",
          "line7",
          "line7",
          "line7",
          "line7",
          "line7",
          "line7",
          "line7",
          "line7",
          "line7",
          "line7",
          "line7",
          "line7",
          "line7",
          "line7",
          "line7",
          "line7",
          "line7",
          "line7",
          "line7",
          "line7",
          "line7",
          "line7",
          "line7",
          "line7",
          "line7",
          "line7",
          "line7",
          "line7",
          "line7",
          "line7",
          "line7",
          "line7",
          "line7",
          "line7",
          "line7",
          "line7",
          "line7",
          "line7",
          "line7",
          "line7",
          "line7",
          "line7",
          "line7",
          "line7",
          "line7",
          "line7",
          "line7",
          "line7",
          "line7",
          "line7",
          "line7",
          "line7",
          "line7",
          "line7",
          "line7",
          "line7",
          "line7",
          "line7",
          "line7",
          "line7",
          "line7",
          "line7",
          "line7",
          "line7",
          "line7",
          "line7",
          "line7",
          "line7",
          "line7",
          "line7",
          "line7",
          "line7",
          "line7",
          "line7",
          "line7",
          "line7",
          "line7",
          "line7",
          "line7",
          "line7",
          "line7",
          "line7",
          "line7",
          "line7",
          "line7",
          "line7",
          "line7",
          "line7",
          "line7",
          "line7",
          "line7",
          "line7",
          "line7",
          "line7",
          "line7",
          "line7",
          "line7",
          "line7",
          "line7",
          "line7",
          "line7",
          "line7",
          "line7",
          "line7",
          "line7",
          "line7",
          "line7",
          "line7",
          "line7",
          "line7",
          "line7",
          "line7",
          "line7",
          "line7",
          "line7",
          "line7",
          "line7",
          "line7",
          "line7",
          "line7",
          "line7",
          "line7",
          "line7",
          "line7",
          "line7",
          "line7",
          "line7",
          "line7",
          "line7",
          "line7",
          "line7",
          "line7",
          "line7",
          "line7",
          "line7",
          "line7",
          "line7",
          "line7",
          "line7",
          "line7",
          "line7",
          "line7",
          "line7",
          "line7",
          "line7",
          "line7",
          "line7",
          "line7",
          "line7",
          "line7",
          "line7",
          "line7",
          "line7",
          "line7",
          "line7",
          "line7",
          "line7"
         ],
         "y": [
          1.697354320609736,
          1.697354320609736,
          1.697354320609736,
          1.697354320609736,
          24.07296847296566,
          24.07296847296566,
          24.07296847296566,
          24.07296847296566,
          3.5874433829152474,
          3.5874433829152474,
          3.5874433829152474,
          3.5874433829152474,
          16.657309020984044,
          16.657309020984044,
          16.657309020984044,
          16.657309020984044,
          8.954864905350433,
          8.954864905350433,
          8.954864905350433,
          8.954864905350433,
          18.916535124526085,
          18.916535124526085,
          18.916535124526085,
          18.916535124526085,
          17.29326415350802,
          17.29326415350802,
          17.29326415350802,
          17.29326415350802,
          2.962864506458862,
          2.962864506458862,
          2.962864506458862,
          2.962864506458862,
          13.764987562914405,
          13.764987562914405,
          13.764987562914405,
          13.764987562914405,
          21.36226418257753,
          21.36226418257753,
          21.36226418257753,
          21.36226418257753,
          13.77463614652966,
          13.77463614652966,
          13.77463614652966,
          13.77463614652966,
          44.31680606066707,
          22.098820905790102,
          18.232480973850883,
          3.448717037111738,
          13.245070071276988,
          13.290925639671878,
          6.70956761811954,
          1.4692831216864657,
          0.8372639517378528,
          null,
          0.8171734369103105,
          1.5661821306633246,
          0.8372639517378591,
          null,
          0.8171734369103105,
          6.639777389643929,
          0.8278046189942307,
          null,
          0.817173436910057,
          3.9964475910223873,
          0.8278046189939906,
          null,
          0.8171393122897602,
          7.688633533189473,
          0.8278046189942428,
          null,
          0.8171393122897602,
          23.39736636593305,
          0.8278046189942483,
          null,
          0.8171393122897602,
          47.32319926835496,
          0.8278046189942387,
          null,
          0.8171393122897602,
          29.3001249940703,
          0.8278046189942366,
          null,
          0.8171393122897602,
          49.93074606608958,
          0.8278046189942372,
          null,
          0.8171393122897602,
          15.32782684434382,
          0.8278046189942443,
          null,
          0.8174720899816152,
          19.314595376152017,
          0.827804618994237,
          0.8180803952568052,
          0.8195985820734889,
          15.333334567274854,
          15.761937576905,
          0.818051960220965,
          0.8230371666757352,
          12.898010940760098,
          7.403974816085417,
          0.8197482250326814,
          7.403974816085417,
          7.403974816085417,
          17.337728597416405,
          39.78445234002738,
          17.337728597416405,
          17.337728597416405,
          12.587623899940551,
          12.587623899940551,
          12.587623899940551,
          12.587623899940551,
          13.845718703918845,
          13.845718703918845,
          13.845718703918845,
          13.845718703918845,
          6.688690599288476,
          6.688690599288476,
          6.688690599288476,
          6.688690599288476,
          16.7937070728849,
          16.7937070728849,
          16.7937070728849,
          16.7937070728849,
          2.4091037520266827,
          2.4091037520266827,
          2.4091037520266827,
          2.4091037520266827,
          18.56148954023526,
          18.56148954023526,
          18.56148954023526,
          18.56148954023526,
          7.838105380955975,
          7.838105380955975,
          7.838105380955975,
          7.838105380955975,
          5.990287904225835,
          5.990287904225835,
          5.990287904225835,
          5.990287904225835,
          5.311764568800912,
          5.311764568800912,
          5.311764568800912,
          5.311764568800912,
          6.510743731998946,
          6.510743731998946,
          6.510743731998946,
          6.510743731998946,
          0.9351043951011452,
          0.9351043951011452,
          0.9351043951011452,
          0.9351043951011452,
          0.9571007201487932,
          0.9571007201487932,
          0.9571007201487932,
          0.9571007201487932,
          2.353764648441439,
          2.353764648441439,
          2.353764648441439,
          2.353764648441439
         ]
        },
        {
         "box": {
          "visible": false
         },
         "meanline": {
          "visible": true
         },
         "name": "line8",
         "orientation": "v",
         "side": "positive",
         "type": "violin",
         "x": [
          "line8",
          "line8",
          "line8",
          "line8",
          "line8",
          "line8",
          "line8",
          "line8",
          "line8",
          "line8",
          "line8",
          "line8",
          "line8",
          "line8",
          "line8",
          "line8",
          "line8",
          "line8",
          "line8",
          "line8",
          "line8",
          "line8",
          "line8",
          "line8",
          "line8",
          "line8",
          "line8",
          "line8",
          "line8",
          "line8",
          "line8",
          "line8",
          "line8",
          "line8",
          "line8",
          "line8",
          "line8",
          "line8",
          "line8",
          "line8",
          "line8",
          "line8",
          "line8",
          "line8",
          "line8",
          "line8",
          "line8",
          "line8",
          "line8",
          "line8",
          "line8",
          "line8",
          "line8",
          "line8",
          "line8",
          "line8",
          "line8",
          "line8",
          "line8",
          "line8",
          "line8",
          "line8",
          "line8",
          "line8",
          "line8",
          "line8",
          "line8",
          "line8",
          "line8",
          "line8",
          "line8",
          "line8",
          "line8",
          "line8",
          "line8",
          "line8",
          "line8",
          "line8",
          "line8",
          "line8",
          "line8",
          "line8",
          "line8",
          "line8",
          "line8",
          "line8",
          "line8",
          "line8",
          "line8",
          "line8",
          "line8",
          "line8",
          "line8",
          "line8",
          "line8",
          "line8",
          "line8",
          "line8",
          "line8",
          "line8",
          "line8",
          "line8",
          "line8",
          "line8",
          "line8",
          "line8",
          "line8",
          "line8",
          "line8",
          "line8",
          "line8",
          "line8",
          "line8",
          "line8",
          "line8",
          "line8",
          "line8",
          "line8",
          "line8",
          "line8",
          "line8",
          "line8",
          "line8",
          "line8",
          "line8",
          "line8",
          "line8",
          "line8",
          "line8",
          "line8",
          "line8",
          "line8",
          "line8",
          "line8",
          "line8",
          "line8",
          "line8",
          "line8",
          "line8",
          "line8",
          "line8",
          "line8",
          "line8",
          "line8",
          "line8",
          "line8",
          "line8",
          "line8",
          "line8",
          "line8",
          "line8",
          "line8",
          "line8",
          "line8",
          "line8",
          "line8",
          "line8",
          "line8",
          "line8",
          "line8"
         ],
         "y": [
          2.3235097295678084,
          2.3235097295678084,
          2.3235097295678084,
          2.3235097295678084,
          50.5602264004323,
          50.5602264004323,
          50.5602264004323,
          50.5602264004323,
          11.821831190718402,
          11.821831190718402,
          11.821831190718402,
          11.821831190718402,
          36.37088503162985,
          36.37088503162985,
          36.37088503162985,
          36.37088503162985,
          20.515524334297403,
          20.515524334297403,
          20.515524334297403,
          20.515524334297403,
          46.67603981465163,
          46.67603981465163,
          46.67603981465163,
          46.67603981465163,
          37.667513492789226,
          37.667513492789226,
          37.667513492789226,
          37.667513492789226,
          7.561266790915605,
          7.561266790915605,
          7.561266790915605,
          7.561266790915605,
          33.602137790325095,
          33.602137790325095,
          33.602137790325095,
          33.602137790325095,
          47.72432247705532,
          47.72432247705532,
          47.72432247705532,
          47.72432247705532,
          28.271956291511422,
          28.271956291511422,
          28.271956291511422,
          28.271956291511422,
          44.321794845424186,
          44.154736840773005,
          44.0883447215102,
          null,
          13.178609190163955,
          13.225318595618996,
          13.225249603885407,
          null,
          null,
          null,
          null,
          null,
          null,
          null,
          null,
          6.489575971622152,
          null,
          null,
          null,
          3.73643676724962,
          null,
          null,
          null,
          7.561427759028241,
          null,
          null,
          null,
          23.37340989710245,
          null,
          null,
          null,
          47.32952098909372,
          null,
          null,
          null,
          29.28988101692878,
          null,
          null,
          null,
          49.938202827994296,
          null,
          null,
          null,
          15.274285802668985,
          null,
          null,
          null,
          46.51831007879724,
          null,
          null,
          null,
          36.13347682834052,
          31.45336001752213,
          null,
          null,
          31.36509864029972,
          17.97691257692916,
          null,
          17.97691257692916,
          17.97691257692916,
          39.61679301997434,
          39.78724342543183,
          39.61679301997434,
          39.61679301997434,
          49.67603411366888,
          49.67603411366888,
          49.67603411366888,
          49.67603411366888,
          28.845954644105028,
          28.845954644105028,
          28.845954644105028,
          28.845954644105028,
          16.320517348986428,
          16.320517348986428,
          16.320517348986428,
          16.320517348986428,
          40.16067900495027,
          40.16067900495027,
          40.16067900495027,
          40.16067900495027,
          5.859446276625388,
          5.859446276625388,
          5.859446276625388,
          5.859446276625388,
          40.52975150062245,
          40.52975150062245,
          40.52975150062245,
          40.52975150062245,
          20.2171036911512,
          20.2171036911512,
          20.2171036911512,
          20.2171036911512,
          20.955627512519023,
          20.955627512519023,
          20.955627512519023,
          20.955627512519023,
          20.82791104501311,
          20.82791104501311,
          20.82791104501311,
          20.82791104501311,
          23.742321261783573,
          23.742321261783573,
          23.742321261783573,
          23.742321261783573,
          4.781655499813788,
          4.781655499813788,
          4.781655499813788,
          4.781655499813788,
          1.2784077189053067,
          1.2784077189053067,
          1.2784077189053067,
          1.2784077189053067,
          1.3781654490320216,
          1.3781654490320216,
          1.3781654490320216,
          1.3781654490320216
         ]
        },
        {
         "box": {
          "visible": false
         },
         "meanline": {
          "visible": true
         },
         "name": "line9",
         "orientation": "v",
         "side": "positive",
         "type": "violin",
         "x": [
          "line9",
          "line9",
          "line9",
          "line9",
          "line9",
          "line9",
          "line9",
          "line9",
          "line9",
          "line9",
          "line9",
          "line9",
          "line9",
          "line9",
          "line9",
          "line9",
          "line9",
          "line9",
          "line9",
          "line9",
          "line9",
          "line9",
          "line9",
          "line9",
          "line9",
          "line9",
          "line9",
          "line9",
          "line9",
          "line9",
          "line9",
          "line9",
          "line9",
          "line9",
          "line9",
          "line9",
          "line9",
          "line9",
          "line9",
          "line9",
          "line9",
          "line9",
          "line9",
          "line9",
          "line9",
          "line9",
          "line9",
          "line9",
          "line9",
          "line9",
          "line9",
          "line9",
          "line9",
          "line9",
          "line9",
          "line9",
          "line9",
          "line9",
          "line9",
          "line9",
          "line9",
          "line9",
          "line9",
          "line9",
          "line9",
          "line9",
          "line9",
          "line9",
          "line9",
          "line9",
          "line9",
          "line9",
          "line9",
          "line9",
          "line9",
          "line9",
          "line9",
          "line9",
          "line9",
          "line9",
          "line9",
          "line9",
          "line9",
          "line9",
          "line9",
          "line9",
          "line9",
          "line9",
          "line9",
          "line9",
          "line9",
          "line9",
          "line9",
          "line9",
          "line9",
          "line9",
          "line9",
          "line9",
          "line9",
          "line9",
          "line9",
          "line9",
          "line9",
          "line9",
          "line9",
          "line9",
          "line9",
          "line9",
          "line9",
          "line9",
          "line9",
          "line9",
          "line9",
          "line9",
          "line9",
          "line9",
          "line9",
          "line9",
          "line9",
          "line9",
          "line9",
          "line9",
          "line9",
          "line9",
          "line9",
          "line9",
          "line9",
          "line9",
          "line9",
          "line9",
          "line9",
          "line9",
          "line9",
          "line9",
          "line9",
          "line9",
          "line9",
          "line9",
          "line9",
          "line9",
          "line9",
          "line9",
          "line9",
          "line9",
          "line9",
          "line9",
          "line9",
          "line9",
          "line9",
          "line9",
          "line9",
          "line9",
          "line9",
          "line9",
          "line9",
          "line9",
          "line9",
          "line9",
          "line9",
          "line9"
         ],
         "y": [
          4.438029057146816,
          4.438029057146816,
          4.438029057146816,
          4.438029057146816,
          26.48673971684851,
          26.48673971684851,
          26.48673971684851,
          26.48673971684851,
          8.639388951727499,
          8.639388951727499,
          8.639388951727499,
          8.639388951727499,
          19.737257586415357,
          19.737257586415357,
          19.737257586415357,
          19.737257586415357,
          11.680807334572997,
          11.680807334572997,
          11.680807334572997,
          11.680807334572997,
          27.87949907595199,
          27.87949907595199,
          27.87949907595199,
          27.87949907595199,
          20.392832760961817,
          20.392832760961817,
          20.392832760961817,
          20.392832760961817,
          4.960381859354147,
          4.960381859354147,
          4.960381859354147,
          4.960381859354147,
          19.88782634978684,
          19.88782634978684,
          19.88782634978684,
          19.88782634978684,
          26.35717637813652,
          26.35717637813652,
          26.35717637813652,
          26.35717637813652,
          14.558858923566948,
          14.558858923566948,
          14.558858923566948,
          14.558858923566948,
          0,
          22.052986442236804,
          25.902410869324157,
          3.901027326668221,
          0,
          0,
          6.706508270287085,
          2.068030585139932,
          0.83425867471586,
          null,
          0,
          2.153376181332562,
          0.8342586747158536,
          null,
          0,
          0,
          0.8437653404493755,
          null,
          0,
          0,
          0.8437653404491074,
          null,
          0,
          0,
          0.8437653404493635,
          null,
          0,
          0,
          0.8437653404493581,
          null,
          0,
          0,
          0.8437653404493676,
          null,
          0,
          0,
          0.8437653404493696,
          null,
          0,
          0,
          0.8437653404493692,
          null,
          0,
          0,
          0.8437653404493617,
          null,
          0,
          27.34326327688112,
          0.843765340449369,
          0,
          0,
          20.85588454475263,
          15.735163095916304,
          0,
          0,
          18.60384138009457,
          10.70842739854077,
          0,
          10.70842739854077,
          10.70842739854077,
          22.320282918238703,
          0,
          22.320282918238703,
          22.320282918238703,
          38.158743742689495,
          38.158743742689495,
          38.158743742689495,
          38.158743742689495,
          15.058940662562978,
          15.058940662562978,
          15.058940662562978,
          15.058940662562978,
          9.796185462453746,
          9.796185462453746,
          9.796185462453746,
          9.796185462453746,
          23.46205376549258,
          23.46205376549258,
          23.46205376549258,
          23.46205376549258,
          3.924793684068914,
          3.924793684068914,
          3.924793684068914,
          3.924793684068914,
          21.975858605116954,
          21.975858605116954,
          21.975858605116954,
          21.975858605116954,
          12.69396025411192,
          12.69396025411192,
          12.69396025411192,
          12.69396025411192,
          15.663557050078111,
          15.663557050078111,
          15.663557050078111,
          15.663557050078111,
          16.30970231102118,
          16.30970231102118,
          16.30970231102118,
          16.30970231102118,
          17.9409748562387,
          17.9409748562387,
          17.9409748562387,
          17.9409748562387,
          4.888961601948467,
          4.888961601948467,
          4.888961601948467,
          4.888961601948467,
          2.8521361162200964,
          2.8521361162200964,
          2.8521361162200964,
          2.8521361162200964,
          4.267253673902641,
          4.267253673902641,
          4.267253673902641,
          4.267253673902641
         ]
        }
       ],
       "layout": {
        "height": 500,
        "template": {
         "data": {
          "bar": [
           {
            "error_x": {
             "color": "#2a3f5f"
            },
            "error_y": {
             "color": "#2a3f5f"
            },
            "marker": {
             "line": {
              "color": "#E5ECF6",
              "width": 0.5
             },
             "pattern": {
              "fillmode": "overlay",
              "size": 10,
              "solidity": 0.2
             }
            },
            "type": "bar"
           }
          ],
          "barpolar": [
           {
            "marker": {
             "line": {
              "color": "#E5ECF6",
              "width": 0.5
             },
             "pattern": {
              "fillmode": "overlay",
              "size": 10,
              "solidity": 0.2
             }
            },
            "type": "barpolar"
           }
          ],
          "carpet": [
           {
            "aaxis": {
             "endlinecolor": "#2a3f5f",
             "gridcolor": "white",
             "linecolor": "white",
             "minorgridcolor": "white",
             "startlinecolor": "#2a3f5f"
            },
            "baxis": {
             "endlinecolor": "#2a3f5f",
             "gridcolor": "white",
             "linecolor": "white",
             "minorgridcolor": "white",
             "startlinecolor": "#2a3f5f"
            },
            "type": "carpet"
           }
          ],
          "choropleth": [
           {
            "colorbar": {
             "outlinewidth": 0,
             "ticks": ""
            },
            "type": "choropleth"
           }
          ],
          "contour": [
           {
            "colorbar": {
             "outlinewidth": 0,
             "ticks": ""
            },
            "colorscale": [
             [
              0,
              "#0d0887"
             ],
             [
              0.1111111111111111,
              "#46039f"
             ],
             [
              0.2222222222222222,
              "#7201a8"
             ],
             [
              0.3333333333333333,
              "#9c179e"
             ],
             [
              0.4444444444444444,
              "#bd3786"
             ],
             [
              0.5555555555555556,
              "#d8576b"
             ],
             [
              0.6666666666666666,
              "#ed7953"
             ],
             [
              0.7777777777777778,
              "#fb9f3a"
             ],
             [
              0.8888888888888888,
              "#fdca26"
             ],
             [
              1,
              "#f0f921"
             ]
            ],
            "type": "contour"
           }
          ],
          "contourcarpet": [
           {
            "colorbar": {
             "outlinewidth": 0,
             "ticks": ""
            },
            "type": "contourcarpet"
           }
          ],
          "heatmap": [
           {
            "colorbar": {
             "outlinewidth": 0,
             "ticks": ""
            },
            "colorscale": [
             [
              0,
              "#0d0887"
             ],
             [
              0.1111111111111111,
              "#46039f"
             ],
             [
              0.2222222222222222,
              "#7201a8"
             ],
             [
              0.3333333333333333,
              "#9c179e"
             ],
             [
              0.4444444444444444,
              "#bd3786"
             ],
             [
              0.5555555555555556,
              "#d8576b"
             ],
             [
              0.6666666666666666,
              "#ed7953"
             ],
             [
              0.7777777777777778,
              "#fb9f3a"
             ],
             [
              0.8888888888888888,
              "#fdca26"
             ],
             [
              1,
              "#f0f921"
             ]
            ],
            "type": "heatmap"
           }
          ],
          "heatmapgl": [
           {
            "colorbar": {
             "outlinewidth": 0,
             "ticks": ""
            },
            "colorscale": [
             [
              0,
              "#0d0887"
             ],
             [
              0.1111111111111111,
              "#46039f"
             ],
             [
              0.2222222222222222,
              "#7201a8"
             ],
             [
              0.3333333333333333,
              "#9c179e"
             ],
             [
              0.4444444444444444,
              "#bd3786"
             ],
             [
              0.5555555555555556,
              "#d8576b"
             ],
             [
              0.6666666666666666,
              "#ed7953"
             ],
             [
              0.7777777777777778,
              "#fb9f3a"
             ],
             [
              0.8888888888888888,
              "#fdca26"
             ],
             [
              1,
              "#f0f921"
             ]
            ],
            "type": "heatmapgl"
           }
          ],
          "histogram": [
           {
            "marker": {
             "pattern": {
              "fillmode": "overlay",
              "size": 10,
              "solidity": 0.2
             }
            },
            "type": "histogram"
           }
          ],
          "histogram2d": [
           {
            "colorbar": {
             "outlinewidth": 0,
             "ticks": ""
            },
            "colorscale": [
             [
              0,
              "#0d0887"
             ],
             [
              0.1111111111111111,
              "#46039f"
             ],
             [
              0.2222222222222222,
              "#7201a8"
             ],
             [
              0.3333333333333333,
              "#9c179e"
             ],
             [
              0.4444444444444444,
              "#bd3786"
             ],
             [
              0.5555555555555556,
              "#d8576b"
             ],
             [
              0.6666666666666666,
              "#ed7953"
             ],
             [
              0.7777777777777778,
              "#fb9f3a"
             ],
             [
              0.8888888888888888,
              "#fdca26"
             ],
             [
              1,
              "#f0f921"
             ]
            ],
            "type": "histogram2d"
           }
          ],
          "histogram2dcontour": [
           {
            "colorbar": {
             "outlinewidth": 0,
             "ticks": ""
            },
            "colorscale": [
             [
              0,
              "#0d0887"
             ],
             [
              0.1111111111111111,
              "#46039f"
             ],
             [
              0.2222222222222222,
              "#7201a8"
             ],
             [
              0.3333333333333333,
              "#9c179e"
             ],
             [
              0.4444444444444444,
              "#bd3786"
             ],
             [
              0.5555555555555556,
              "#d8576b"
             ],
             [
              0.6666666666666666,
              "#ed7953"
             ],
             [
              0.7777777777777778,
              "#fb9f3a"
             ],
             [
              0.8888888888888888,
              "#fdca26"
             ],
             [
              1,
              "#f0f921"
             ]
            ],
            "type": "histogram2dcontour"
           }
          ],
          "mesh3d": [
           {
            "colorbar": {
             "outlinewidth": 0,
             "ticks": ""
            },
            "type": "mesh3d"
           }
          ],
          "parcoords": [
           {
            "line": {
             "colorbar": {
              "outlinewidth": 0,
              "ticks": ""
             }
            },
            "type": "parcoords"
           }
          ],
          "pie": [
           {
            "automargin": true,
            "type": "pie"
           }
          ],
          "scatter": [
           {
            "fillpattern": {
             "fillmode": "overlay",
             "size": 10,
             "solidity": 0.2
            },
            "type": "scatter"
           }
          ],
          "scatter3d": [
           {
            "line": {
             "colorbar": {
              "outlinewidth": 0,
              "ticks": ""
             }
            },
            "marker": {
             "colorbar": {
              "outlinewidth": 0,
              "ticks": ""
             }
            },
            "type": "scatter3d"
           }
          ],
          "scattercarpet": [
           {
            "marker": {
             "colorbar": {
              "outlinewidth": 0,
              "ticks": ""
             }
            },
            "type": "scattercarpet"
           }
          ],
          "scattergeo": [
           {
            "marker": {
             "colorbar": {
              "outlinewidth": 0,
              "ticks": ""
             }
            },
            "type": "scattergeo"
           }
          ],
          "scattergl": [
           {
            "marker": {
             "colorbar": {
              "outlinewidth": 0,
              "ticks": ""
             }
            },
            "type": "scattergl"
           }
          ],
          "scattermapbox": [
           {
            "marker": {
             "colorbar": {
              "outlinewidth": 0,
              "ticks": ""
             }
            },
            "type": "scattermapbox"
           }
          ],
          "scatterpolar": [
           {
            "marker": {
             "colorbar": {
              "outlinewidth": 0,
              "ticks": ""
             }
            },
            "type": "scatterpolar"
           }
          ],
          "scatterpolargl": [
           {
            "marker": {
             "colorbar": {
              "outlinewidth": 0,
              "ticks": ""
             }
            },
            "type": "scatterpolargl"
           }
          ],
          "scatterternary": [
           {
            "marker": {
             "colorbar": {
              "outlinewidth": 0,
              "ticks": ""
             }
            },
            "type": "scatterternary"
           }
          ],
          "surface": [
           {
            "colorbar": {
             "outlinewidth": 0,
             "ticks": ""
            },
            "colorscale": [
             [
              0,
              "#0d0887"
             ],
             [
              0.1111111111111111,
              "#46039f"
             ],
             [
              0.2222222222222222,
              "#7201a8"
             ],
             [
              0.3333333333333333,
              "#9c179e"
             ],
             [
              0.4444444444444444,
              "#bd3786"
             ],
             [
              0.5555555555555556,
              "#d8576b"
             ],
             [
              0.6666666666666666,
              "#ed7953"
             ],
             [
              0.7777777777777778,
              "#fb9f3a"
             ],
             [
              0.8888888888888888,
              "#fdca26"
             ],
             [
              1,
              "#f0f921"
             ]
            ],
            "type": "surface"
           }
          ],
          "table": [
           {
            "cells": {
             "fill": {
              "color": "#EBF0F8"
             },
             "line": {
              "color": "white"
             }
            },
            "header": {
             "fill": {
              "color": "#C8D4E3"
             },
             "line": {
              "color": "white"
             }
            },
            "type": "table"
           }
          ]
         },
         "layout": {
          "annotationdefaults": {
           "arrowcolor": "#2a3f5f",
           "arrowhead": 0,
           "arrowwidth": 1
          },
          "autotypenumbers": "strict",
          "coloraxis": {
           "colorbar": {
            "outlinewidth": 0,
            "ticks": ""
           }
          },
          "colorscale": {
           "diverging": [
            [
             0,
             "#8e0152"
            ],
            [
             0.1,
             "#c51b7d"
            ],
            [
             0.2,
             "#de77ae"
            ],
            [
             0.3,
             "#f1b6da"
            ],
            [
             0.4,
             "#fde0ef"
            ],
            [
             0.5,
             "#f7f7f7"
            ],
            [
             0.6,
             "#e6f5d0"
            ],
            [
             0.7,
             "#b8e186"
            ],
            [
             0.8,
             "#7fbc41"
            ],
            [
             0.9,
             "#4d9221"
            ],
            [
             1,
             "#276419"
            ]
           ],
           "sequential": [
            [
             0,
             "#0d0887"
            ],
            [
             0.1111111111111111,
             "#46039f"
            ],
            [
             0.2222222222222222,
             "#7201a8"
            ],
            [
             0.3333333333333333,
             "#9c179e"
            ],
            [
             0.4444444444444444,
             "#bd3786"
            ],
            [
             0.5555555555555556,
             "#d8576b"
            ],
            [
             0.6666666666666666,
             "#ed7953"
            ],
            [
             0.7777777777777778,
             "#fb9f3a"
            ],
            [
             0.8888888888888888,
             "#fdca26"
            ],
            [
             1,
             "#f0f921"
            ]
           ],
           "sequentialminus": [
            [
             0,
             "#0d0887"
            ],
            [
             0.1111111111111111,
             "#46039f"
            ],
            [
             0.2222222222222222,
             "#7201a8"
            ],
            [
             0.3333333333333333,
             "#9c179e"
            ],
            [
             0.4444444444444444,
             "#bd3786"
            ],
            [
             0.5555555555555556,
             "#d8576b"
            ],
            [
             0.6666666666666666,
             "#ed7953"
            ],
            [
             0.7777777777777778,
             "#fb9f3a"
            ],
            [
             0.8888888888888888,
             "#fdca26"
            ],
            [
             1,
             "#f0f921"
            ]
           ]
          },
          "colorway": [
           "#636efa",
           "#EF553B",
           "#00cc96",
           "#ab63fa",
           "#FFA15A",
           "#19d3f3",
           "#FF6692",
           "#B6E880",
           "#FF97FF",
           "#FECB52"
          ],
          "font": {
           "color": "#2a3f5f"
          },
          "geo": {
           "bgcolor": "white",
           "lakecolor": "white",
           "landcolor": "#E5ECF6",
           "showlakes": true,
           "showland": true,
           "subunitcolor": "white"
          },
          "hoverlabel": {
           "align": "left"
          },
          "hovermode": "closest",
          "mapbox": {
           "style": "light"
          },
          "paper_bgcolor": "white",
          "plot_bgcolor": "#E5ECF6",
          "polar": {
           "angularaxis": {
            "gridcolor": "white",
            "linecolor": "white",
            "ticks": ""
           },
           "bgcolor": "#E5ECF6",
           "radialaxis": {
            "gridcolor": "white",
            "linecolor": "white",
            "ticks": ""
           }
          },
          "scene": {
           "xaxis": {
            "backgroundcolor": "#E5ECF6",
            "gridcolor": "white",
            "gridwidth": 2,
            "linecolor": "white",
            "showbackground": true,
            "ticks": "",
            "zerolinecolor": "white"
           },
           "yaxis": {
            "backgroundcolor": "#E5ECF6",
            "gridcolor": "white",
            "gridwidth": 2,
            "linecolor": "white",
            "showbackground": true,
            "ticks": "",
            "zerolinecolor": "white"
           },
           "zaxis": {
            "backgroundcolor": "#E5ECF6",
            "gridcolor": "white",
            "gridwidth": 2,
            "linecolor": "white",
            "showbackground": true,
            "ticks": "",
            "zerolinecolor": "white"
           }
          },
          "shapedefaults": {
           "line": {
            "color": "#2a3f5f"
           }
          },
          "ternary": {
           "aaxis": {
            "gridcolor": "white",
            "linecolor": "white",
            "ticks": ""
           },
           "baxis": {
            "gridcolor": "white",
            "linecolor": "white",
            "ticks": ""
           },
           "bgcolor": "#E5ECF6",
           "caxis": {
            "gridcolor": "white",
            "linecolor": "white",
            "ticks": ""
           }
          },
          "title": {
           "x": 0.05
          },
          "xaxis": {
           "automargin": true,
           "gridcolor": "white",
           "linecolor": "white",
           "ticks": "",
           "title": {
            "standoff": 15
           },
           "zerolinecolor": "white",
           "zerolinewidth": 2
          },
          "yaxis": {
           "automargin": true,
           "gridcolor": "white",
           "linecolor": "white",
           "ticks": "",
           "title": {
            "standoff": 15
           },
           "zerolinecolor": "white",
           "zerolinewidth": 2
          }
         }
        },
        "width": 1000,
        "yaxis": {
         "range": [
          0,
          null
         ]
        }
       }
      },
      "text/html": [
       "<div>                            <div id=\"e06a45af-95b6-48fc-96f8-ee373deafb2d\" class=\"plotly-graph-div\" style=\"height:500px; width:1000px;\"></div>            <script type=\"text/javascript\">                require([\"plotly\"], function(Plotly) {                    window.PLOTLYENV=window.PLOTLYENV || {};                                    if (document.getElementById(\"e06a45af-95b6-48fc-96f8-ee373deafb2d\")) {                    Plotly.newPlot(                        \"e06a45af-95b6-48fc-96f8-ee373deafb2d\",                        [{\"box\":{\"visible\":false},\"meanline\":{\"visible\":true},\"name\":\"line1\",\"orientation\":\"v\",\"side\":\"positive\",\"x\":[\"line1\",\"line1\",\"line1\",\"line1\",\"line1\",\"line1\",\"line1\",\"line1\",\"line1\",\"line1\",\"line1\",\"line1\",\"line1\",\"line1\",\"line1\",\"line1\",\"line1\",\"line1\",\"line1\",\"line1\",\"line1\",\"line1\",\"line1\",\"line1\",\"line1\",\"line1\",\"line1\",\"line1\",\"line1\",\"line1\",\"line1\",\"line1\",\"line1\",\"line1\",\"line1\",\"line1\",\"line1\",\"line1\",\"line1\",\"line1\",\"line1\",\"line1\",\"line1\",\"line1\",\"line1\",\"line1\",\"line1\",\"line1\",\"line1\",\"line1\",\"line1\",\"line1\",\"line1\",\"line1\",\"line1\",\"line1\",\"line1\",\"line1\",\"line1\",\"line1\",\"line1\",\"line1\",\"line1\",\"line1\",\"line1\",\"line1\",\"line1\",\"line1\",\"line1\",\"line1\",\"line1\",\"line1\",\"line1\",\"line1\",\"line1\",\"line1\",\"line1\",\"line1\",\"line1\",\"line1\",\"line1\",\"line1\",\"line1\",\"line1\",\"line1\",\"line1\",\"line1\",\"line1\",\"line1\",\"line1\",\"line1\",\"line1\",\"line1\",\"line1\",\"line1\",\"line1\",\"line1\",\"line1\",\"line1\",\"line1\",\"line1\",\"line1\",\"line1\",\"line1\",\"line1\",\"line1\",\"line1\",\"line1\",\"line1\",\"line1\",\"line1\",\"line1\",\"line1\",\"line1\",\"line1\",\"line1\",\"line1\",\"line1\",\"line1\",\"line1\",\"line1\",\"line1\",\"line1\",\"line1\",\"line1\",\"line1\",\"line1\",\"line1\",\"line1\",\"line1\",\"line1\",\"line1\",\"line1\",\"line1\",\"line1\",\"line1\",\"line1\",\"line1\",\"line1\",\"line1\",\"line1\",\"line1\",\"line1\",\"line1\",\"line1\",\"line1\",\"line1\",\"line1\",\"line1\",\"line1\",\"line1\",\"line1\",\"line1\",\"line1\",\"line1\",\"line1\",\"line1\",\"line1\",\"line1\",\"line1\"],\"y\":[93.20480190668708,93.20480190668708,93.20480190668708,93.20480190668708,50.93824738930102,50.93824738930102,50.93824738930102,50.93824738930102,16.669889665935305,16.669889665935305,16.669889665935305,16.669889665935305,11.1761719962515,11.1761719962515,11.1761719962515,11.1761719962515,22.47409104615633,22.47409104615633,22.47409104615633,22.47409104615633,85.44698751330245,85.44698751330245,85.44698751330245,85.44698751330245,47.83022180561876,47.83022180561876,47.83022180561876,47.83022180561876,9.509836434522123,9.509836434522123,9.509836434522123,9.509836434522123,97.67599719887694,97.67599719887694,97.67599719887694,97.67599719887694,24.31437067674487,24.31437067674487,24.31437067674487,24.31437067674487,7.700345338349875,7.700345338349875,7.700345338349875,7.700345338349875,50.44116457201248,59.32054295583503,49.62483354694278,49.34278490554446,57.65240325633872,46.71471863202697,66.35222319230846,63.22177429583788,28.115796648208903,24.3827802692146,28.17849898545486,28.11166667054046,100.18397546540838,100.18397546540838,76.04432485477207,100.18397546540842,100.1489967307939,100.17867230572186,100.14901456243427,100.17867228092014,100.1931208433589,100.21454812592104,100.19313492172786,100.1931208433589,21.97316166317628,24.55571255984316,21.975180009422917,21.976042640774438,13.97781319275616,13.971203166163132,13.93696288917074,13.971007539982317,15.097799740462328,11.47934115041008,12.135535786129976,10.288473725473803,83.44488400147885,86.44500857081742,83.44488400160827,61.675050640456334,59.02145327482216,78.82344652803987,78.82344501178181,57.54188221474661,4.183225402235259,4.2420822048099005,4.242082181785508,4.260825158187887,61.53992255699781,67.06207580251402,52.17523701205543,54.12823846261078,70.52038174076853,78.35877106129944,62.287271367912425,62.42981518919004,14.76583912632754,14.72949346192146,14.76583912632754,14.76583912632754,11.396184829995022,11.731224678166267,11.396184829995022,11.396184829995022,97.51723207680904,97.51723207680904,97.51723207680904,97.51723207680904,9.71052427330981,9.71052427330981,9.71052427330981,9.71052427330981,71.98497087020708,71.98497087020708,71.98497087020708,71.98497087020708,55.097968297781264,55.097968297781264,55.097968297781264,55.097968297781264,64.58512390851749,64.58512390851749,64.58512390851749,64.58512390851749,17.077159065514593,17.077159065514593,17.077159065514593,17.077159065514593,80.81463760635587,80.81463760635587,80.81463760635587,80.81463760635587,81.64918894842155,81.64918894842155,81.64918894842155,81.64918894842155,89.99123253075402,89.99123253075402,89.99123253075402,89.99123253075402,86.24311596668569,86.24311596668569,86.24311596668569,86.24311596668569,62.545281982412114,62.545281982412114,62.545281982412114,62.545281982412114,15.659721976983509,15.659721976983509,15.659721976983509,15.659721976983509,40.16357092850564,40.16357092850564,40.16357092850564,40.16357092850564],\"type\":\"violin\"},{\"box\":{\"visible\":false},\"meanline\":{\"visible\":true},\"name\":\"line10\",\"orientation\":\"v\",\"side\":\"positive\",\"x\":[\"line10\",\"line10\",\"line10\",\"line10\",\"line10\",\"line10\",\"line10\",\"line10\",\"line10\",\"line10\",\"line10\",\"line10\",\"line10\",\"line10\",\"line10\",\"line10\",\"line10\",\"line10\",\"line10\",\"line10\",\"line10\",\"line10\",\"line10\",\"line10\",\"line10\",\"line10\",\"line10\",\"line10\",\"line10\",\"line10\",\"line10\",\"line10\",\"line10\",\"line10\",\"line10\",\"line10\",\"line10\",\"line10\",\"line10\",\"line10\",\"line10\",\"line10\",\"line10\",\"line10\",\"line10\",\"line10\",\"line10\",\"line10\",\"line10\",\"line10\",\"line10\",\"line10\",\"line10\",\"line10\",\"line10\",\"line10\",\"line10\",\"line10\",\"line10\",\"line10\",\"line10\",\"line10\",\"line10\",\"line10\",\"line10\",\"line10\",\"line10\",\"line10\",\"line10\",\"line10\",\"line10\",\"line10\",\"line10\",\"line10\",\"line10\",\"line10\",\"line10\",\"line10\",\"line10\",\"line10\",\"line10\",\"line10\",\"line10\",\"line10\",\"line10\",\"line10\",\"line10\",\"line10\",\"line10\",\"line10\",\"line10\",\"line10\",\"line10\",\"line10\",\"line10\",\"line10\",\"line10\",\"line10\",\"line10\",\"line10\",\"line10\",\"line10\",\"line10\",\"line10\",\"line10\",\"line10\",\"line10\",\"line10\",\"line10\",\"line10\",\"line10\",\"line10\",\"line10\",\"line10\",\"line10\",\"line10\",\"line10\",\"line10\",\"line10\",\"line10\",\"line10\",\"line10\",\"line10\",\"line10\",\"line10\",\"line10\",\"line10\",\"line10\",\"line10\",\"line10\",\"line10\",\"line10\",\"line10\",\"line10\",\"line10\",\"line10\",\"line10\",\"line10\",\"line10\",\"line10\",\"line10\",\"line10\",\"line10\",\"line10\",\"line10\",\"line10\",\"line10\",\"line10\",\"line10\",\"line10\",\"line10\",\"line10\",\"line10\",\"line10\",\"line10\",\"line10\",\"line10\",\"line10\",\"line10\",\"line10\"],\"y\":[84.93191047243369,84.93191047243369,84.93191047243369,84.93191047243369,25.098332297740395,25.098332297740395,25.098332297740395,25.098332297740395,3.017960376207111,3.017960376207111,3.017960376207111,3.017960376207111,3.790068467085001,3.790068467085001,3.790068467085001,3.790068467085001,3.919047732750048,3.919047732750048,3.919047732750048,3.919047732750048,71.7875772652062,71.7875772652062,71.7875772652062,71.7875772652062,23.210398098000574,23.210398098000574,23.210398098000574,23.210398098000574,7.113053983743837,7.113053983743837,7.113053983743837,7.113053983743837,97.76589672665683,97.76589672665683,97.76589672665683,97.76589672665683,11.79519608625165,11.79519608625165,11.79519608625165,11.79519608625165,9.488336777671186,9.488336777671186,9.488336777671186,9.488336777671186,23.716052200184915,34.641717677292895,23.125003646131358,23.058280013329256,0.0,25.75741281480691,0.0,36.89722824993568,0.0,0.0,0.0,0.0,0.0,0.0,55.14938769214152,0.0,89.92393245778662,null,89.9320977064728,0.0,75.6432653125761,null,75.65143485736084,75.64326531257618,6.390351941822543,0.0,6.600205410811776,6.392849561850397,3.3971186665859348,3.398433786478931,4.003158136129038,3.398310909948737,9.919869707066454,2.508214856969472,3.1055290729879523,2.0052949337517694,65.22532546731148,61.68971512875997,65.22532546721564,40.06901303634928,34.07149276052906,61.68673058466385,61.6867312247447,37.56863740613091,8.16275500246013,8.273225701438415,8.27322569944237,8.160397713452763,38.9581977556889,46.3734173615745,29.73756187607928,31.41034344945488,41.9918661601352,54.81042513037521,32.07930070729345,32.20117479990927,3.163200409448889,3.217724341586912,3.163200409448889,3.163200409448889,4.145637860712966,4.022965721583759,4.145637860712966,4.145637860712966,96.5874819886534,96.5874819886534,96.5874819886534,96.5874819886534,3.78251459882507,3.78251459882507,3.78251459882507,3.78251459882507,53.51665479560244,53.51665479560244,53.51665479560244,53.51665479560244,22.12390019052835,22.12390019052835,22.12390019052835,22.12390019052835,38.95867978562484,38.95867978562484,38.95867978562484,38.95867978562484,2.86877948811298,2.86877948811298,2.86877948811298,2.86877948811298,58.23837862775718,58.23837862775718,58.23837862775718,58.23837862775718,57.50826920702132,57.50826920702132,57.50826920702132,57.50826920702132,83.34707896692184,83.34707896692184,83.34707896692184,83.34707896692184,74.18150787075203,74.18150787075203,74.18150787075203,74.18150787075203,36.72033716754675,36.72033716754675,36.72033716754675,36.72033716754675,4.455366794638292,4.455366794638292,4.455366794638292,4.455366794638292,13.93508702534566,13.93508702534566,13.93508702534566,13.93508702534566],\"type\":\"violin\"},{\"box\":{\"visible\":false},\"meanline\":{\"visible\":true},\"name\":\"line11\",\"orientation\":\"v\",\"side\":\"positive\",\"x\":[\"line11\",\"line11\",\"line11\",\"line11\",\"line11\",\"line11\",\"line11\",\"line11\",\"line11\",\"line11\",\"line11\",\"line11\",\"line11\",\"line11\",\"line11\",\"line11\",\"line11\",\"line11\",\"line11\",\"line11\",\"line11\",\"line11\",\"line11\",\"line11\",\"line11\",\"line11\",\"line11\",\"line11\",\"line11\",\"line11\",\"line11\",\"line11\",\"line11\",\"line11\",\"line11\",\"line11\",\"line11\",\"line11\",\"line11\",\"line11\",\"line11\",\"line11\",\"line11\",\"line11\",\"line11\",\"line11\",\"line11\",\"line11\",\"line11\",\"line11\",\"line11\",\"line11\",\"line11\",\"line11\",\"line11\",\"line11\",\"line11\",\"line11\",\"line11\",\"line11\",\"line11\",\"line11\",\"line11\",\"line11\",\"line11\",\"line11\",\"line11\",\"line11\",\"line11\",\"line11\",\"line11\",\"line11\",\"line11\",\"line11\",\"line11\",\"line11\",\"line11\",\"line11\",\"line11\",\"line11\",\"line11\",\"line11\",\"line11\",\"line11\",\"line11\",\"line11\",\"line11\",\"line11\",\"line11\",\"line11\",\"line11\",\"line11\",\"line11\",\"line11\",\"line11\",\"line11\",\"line11\",\"line11\",\"line11\",\"line11\",\"line11\",\"line11\",\"line11\",\"line11\",\"line11\",\"line11\",\"line11\",\"line11\",\"line11\",\"line11\",\"line11\",\"line11\",\"line11\",\"line11\",\"line11\",\"line11\",\"line11\",\"line11\",\"line11\",\"line11\",\"line11\",\"line11\",\"line11\",\"line11\",\"line11\",\"line11\",\"line11\",\"line11\",\"line11\",\"line11\",\"line11\",\"line11\",\"line11\",\"line11\",\"line11\",\"line11\",\"line11\",\"line11\",\"line11\",\"line11\",\"line11\",\"line11\",\"line11\",\"line11\",\"line11\",\"line11\",\"line11\",\"line11\",\"line11\",\"line11\",\"line11\",\"line11\",\"line11\",\"line11\",\"line11\",\"line11\",\"line11\",\"line11\",\"line11\",\"line11\"],\"y\":[64.97345967214814,64.97345967214814,64.97345967214814,64.97345967214814,33.13469385829747,33.13469385829747,33.13469385829747,33.13469385829747,8.486742899171414,8.486742899171414,8.486742899171414,8.486742899171414,6.0548539250729005,6.0548539250729005,6.0548539250729005,6.0548539250729005,16.979063613632857,16.979063613632857,16.979063613632857,16.979063613632857,53.65816997639416,53.65816997639416,53.65816997639416,53.65816997639416,26.562829398122062,26.562829398122062,26.562829398122062,26.562829398122062,9.155084973815407,9.155084973815407,9.155084973815407,9.155084973815407,80.03709929794644,80.03709929794644,80.03709929794644,80.03709929794644,15.91731783286126,15.91731783286126,15.91731783286126,15.91731783286126,10.010284340096408,10.010284340096408,10.010284340096408,10.010284340096408,23.762138366782327,28.08462865904047,23.12633594261416,23.01620998543644,2.730396151078828,20.743447582861915,0.8914617044326432,36.84212603566186,1.8015900086518115,4.006124422153875,0.8914617050541682,1.8015900086520624,0.8914617059253067,0.8914617059253067,55.14938769214152,1.8015900207633369,89.89206289817837,null,89.8382733709867,0.891461705337526,75.61510319730047,null,75.56980225388449,75.6151031973005,6.229640756575986,0.8914617039259564,6.261011170693215,6.232212734410436,3.148089571528086,3.1495451160945787,3.319135923527581,3.1494130187671194,14.285114269843485,2.1903196967731886,5.268574502171703,1.6372295453001464,55.5782870733912,61.68971512875997,55.578287073345386,31.079468738684763,35.25787343214708,53.73967061963236,53.73967138616327,29.657058179638803,6.2362131846591575,6.124558053694408,6.124558055262406,6.229676646988783,34.97528272512254,39.92669183214176,27.85404482085235,29.238368604805,44.13962991114922,51.88306692424236,37.19699755722669,37.29998354793546,6.421937666983915,6.4093866673889295,6.421937666983915,6.421937666983915,11.76226733217492,11.73844830707792,11.76226733217492,11.76226733217492,67.25674322987864,67.25674322987864,67.25674322987864,67.25674322987864,7.322478108751524,7.322478108751524,7.322478108751524,7.322478108751524,42.69853389649836,42.69853389649836,42.69853389649836,42.69853389649836,32.767221805205615,32.767221805205615,32.767221805205615,32.767221805205615,43.33239921101238,43.33239921101238,43.33239921101238,43.33239921101238,7.916362873730555,7.916362873730555,7.916362873730555,7.916362873730555,64.53404037007515,64.53404037007515,64.53404037007515,64.53404037007515,54.02618894568102,54.02618894568102,54.02618894568102,54.02618894568102,60.885361123585966,60.885361123585966,60.885361123585966,60.885361123585966,58.26651374693479,58.26651374693479,58.26651374693479,58.26651374693479,32.903047680361816,32.903047680361816,32.903047680361816,32.903047680361816,18.32791406067656,18.32791406067656,18.32791406067656,18.32791406067656,26.79733074059694,26.79733074059694,26.79733074059694,26.79733074059694],\"type\":\"violin\"},{\"box\":{\"visible\":false},\"meanline\":{\"visible\":true},\"name\":\"line12\",\"orientation\":\"v\",\"side\":\"positive\",\"x\":[\"line12\",\"line12\",\"line12\",\"line12\",\"line12\",\"line12\",\"line12\",\"line12\",\"line12\",\"line12\",\"line12\",\"line12\",\"line12\",\"line12\",\"line12\",\"line12\",\"line12\",\"line12\",\"line12\",\"line12\",\"line12\",\"line12\",\"line12\",\"line12\",\"line12\",\"line12\",\"line12\",\"line12\",\"line12\",\"line12\",\"line12\",\"line12\",\"line12\",\"line12\",\"line12\",\"line12\",\"line12\",\"line12\",\"line12\",\"line12\",\"line12\",\"line12\",\"line12\",\"line12\",\"line12\",\"line12\",\"line12\",\"line12\",\"line12\",\"line12\",\"line12\",\"line12\",\"line12\",\"line12\",\"line12\",\"line12\",\"line12\",\"line12\",\"line12\",\"line12\",\"line12\",\"line12\",\"line12\",\"line12\",\"line12\",\"line12\",\"line12\",\"line12\",\"line12\",\"line12\",\"line12\",\"line12\",\"line12\",\"line12\",\"line12\",\"line12\",\"line12\",\"line12\",\"line12\",\"line12\",\"line12\",\"line12\",\"line12\",\"line12\",\"line12\",\"line12\",\"line12\",\"line12\",\"line12\",\"line12\",\"line12\",\"line12\",\"line12\",\"line12\",\"line12\",\"line12\",\"line12\",\"line12\",\"line12\",\"line12\",\"line12\",\"line12\",\"line12\",\"line12\",\"line12\",\"line12\",\"line12\",\"line12\",\"line12\",\"line12\",\"line12\",\"line12\",\"line12\",\"line12\",\"line12\",\"line12\",\"line12\",\"line12\",\"line12\",\"line12\",\"line12\",\"line12\",\"line12\",\"line12\",\"line12\",\"line12\",\"line12\",\"line12\",\"line12\",\"line12\",\"line12\",\"line12\",\"line12\",\"line12\",\"line12\",\"line12\",\"line12\",\"line12\",\"line12\",\"line12\",\"line12\",\"line12\",\"line12\",\"line12\",\"line12\",\"line12\",\"line12\",\"line12\",\"line12\",\"line12\",\"line12\",\"line12\",\"line12\",\"line12\",\"line12\",\"line12\",\"line12\",\"line12\",\"line12\",\"line12\"],\"y\":[20.200233779009785,20.200233779009785,20.200233779009785,20.200233779009785,8.63461974376604,8.63461974376604,8.63461974376604,8.63461974376604,9.92378267323468,9.92378267323468,9.92378267323468,9.92378267323468,8.791662057932326,8.791662057932326,8.791662057932326,8.791662057932326,17.316270930752022,17.316270930752022,17.316270930752022,17.316270930752022,18.17587426957768,18.17587426957768,18.17587426957768,18.17587426957768,4.674164832991262,4.674164832991262,4.674164832991262,4.674164832991262,15.607831859690505,15.607831859690505,15.607831859690505,15.607831859690505,18.126189133468472,18.126189133468472,18.126189133468472,18.126189133468472,4.858080383779482,4.858080383779482,4.858080383779482,4.858080383779482,18.90271473754914,18.90271473754914,18.90271473754914,18.90271473754914,1.8353893027877053,6.720161656933303,0.0,0.9057181487843012,1.8398563589501076,5.230328327915619,0.0,0.90174251192404,0.9103801180158384,3.459325330485464,null,0.910380118015838,null,null,null,0.9103801241359766,null,null,0.8995195818812906,0.0,null,null,0.8937884187721137,0.0,0.0,null,0.9071316913417584,0.0,0.0,null,1.975733831524872,0.0,23.4160301915847,null,6.15166035066195,0.0,9.675056839891392,null,9.6750568398348,9.03414189601915,2.663463981094206,7.982196310556783,7.982196166625139,7.999593109934451,13.824385348814674,13.861087917035142,13.861087916656444,13.82871930366067,4.277085214493894,6.749217357652652,3.285261716204442,3.196172992289972,2.832231040662258,3.506439999852657,6.277464676846646,6.216795505323875,4.318331238338731,4.32753617534683,4.318331238338731,4.318331238338731,15.230539403369518,15.26347091300434,15.230539403369518,15.230539403369518,29.894197006389184,29.894197006389184,29.894197006389184,29.894197006389184,10.088145264906029,10.088145264906029,10.088145264906029,10.088145264906029,10.869091328448368,10.869091328448368,10.869091328448368,10.869091328448368,11.447982949090548,11.447982949090548,11.447982949090548,11.447982949090548,5.68109567392469,5.68109567392469,5.68109567392469,5.68109567392469,7.602505775477721,7.602505775477721,7.602505775477721,7.602505775477721,6.852457929114725,6.852457929114725,6.852457929114725,6.852457929114725,3.5041260546371618,3.5041260546371618,3.5041260546371618,3.5041260546371618,22.59264518997815,22.59264518997815,22.59264518997815,22.59264518997815,16.06038320737294,16.06038320737294,16.06038320737294,16.06038320737294,4.380993649590302,4.380993649590302,4.380993649590302,4.380993649590302,20.02460643153841,20.02460643153841,20.02460643153841,20.02460643153841,13.66046117235618,13.66046117235618,13.66046117235618,13.66046117235618],\"type\":\"violin\"},{\"box\":{\"visible\":false},\"meanline\":{\"visible\":true},\"name\":\"line13\",\"orientation\":\"v\",\"side\":\"positive\",\"x\":[\"line13\",\"line13\",\"line13\",\"line13\",\"line13\",\"line13\",\"line13\",\"line13\",\"line13\",\"line13\",\"line13\",\"line13\",\"line13\",\"line13\",\"line13\",\"line13\",\"line13\",\"line13\",\"line13\",\"line13\",\"line13\",\"line13\",\"line13\",\"line13\",\"line13\",\"line13\",\"line13\",\"line13\",\"line13\",\"line13\",\"line13\",\"line13\",\"line13\",\"line13\",\"line13\",\"line13\",\"line13\",\"line13\",\"line13\",\"line13\",\"line13\",\"line13\",\"line13\",\"line13\",\"line13\",\"line13\",\"line13\",\"line13\",\"line13\",\"line13\",\"line13\",\"line13\",\"line13\",\"line13\",\"line13\",\"line13\",\"line13\",\"line13\",\"line13\",\"line13\",\"line13\",\"line13\",\"line13\",\"line13\",\"line13\",\"line13\",\"line13\",\"line13\",\"line13\",\"line13\",\"line13\",\"line13\",\"line13\",\"line13\",\"line13\",\"line13\",\"line13\",\"line13\",\"line13\",\"line13\",\"line13\",\"line13\",\"line13\",\"line13\",\"line13\",\"line13\",\"line13\",\"line13\",\"line13\",\"line13\",\"line13\",\"line13\",\"line13\",\"line13\",\"line13\",\"line13\",\"line13\",\"line13\",\"line13\",\"line13\",\"line13\",\"line13\",\"line13\",\"line13\",\"line13\",\"line13\",\"line13\",\"line13\",\"line13\",\"line13\",\"line13\",\"line13\",\"line13\",\"line13\",\"line13\",\"line13\",\"line13\",\"line13\",\"line13\",\"line13\",\"line13\",\"line13\",\"line13\",\"line13\",\"line13\",\"line13\",\"line13\",\"line13\",\"line13\",\"line13\",\"line13\",\"line13\",\"line13\",\"line13\",\"line13\",\"line13\",\"line13\",\"line13\",\"line13\",\"line13\",\"line13\",\"line13\",\"line13\",\"line13\",\"line13\",\"line13\",\"line13\",\"line13\",\"line13\",\"line13\",\"line13\",\"line13\",\"line13\",\"line13\",\"line13\",\"line13\",\"line13\",\"line13\",\"line13\",\"line13\"],\"y\":[20.334613995282517,20.334613995282517,20.334613995282517,20.334613995282517,8.394698313396406,8.394698313396406,8.394698313396406,8.394698313396406,9.709134632966924,9.709134632966924,9.709134632966924,9.709134632966924,8.555825436435263,8.555825436435263,8.555825436435263,8.555825436435263,17.183761083056517,17.183761083056517,17.183761083056517,17.183761083056517,18.248919224901737,18.248919224901737,18.248919224901737,18.248919224901737,4.138869460793488,4.138869460793488,4.138869460793488,4.138869460793488,15.47278658090744,15.47278658090744,15.47278658090744,15.47278658090744,18.3091129368592,18.3091129368592,18.3091129368592,18.3091129368592,4.449472717380757,4.449472717380757,4.449472717380757,4.449472717380757,18.76556307410975,18.76556307410975,18.76556307410975,18.76556307410975,0.9272811405220538,6.936627591408222,0.9284092160092704,0.0,0.9295380006477548,4.996469111029063,0.9277016206273436,null,0.0,3.070434310485324,null,null,null,null,null,0.0,null,null,null,0.9297395002435964,null,null,null,0.9297381681602922,0.9246381161429884,null,null,0.9297424043490422,0.9299271866834328,null,1.0729916164822209,0.9297401920135636,23.284570039534294,null,5.78713378989425,0.9297827463507744,9.782742854379434,null,9.78274285431709,8.953917802562605,1.92436527086687,7.995418969789479,7.995418881590603,7.891650610003477,13.634856900354984,13.6769579900838,13.676957989728267,13.64122712809258,4.099363452565116,6.523126391072122,2.568429134475092,2.5983098932086826,2.335961055416703,3.077619033067676,5.85223463071941,5.796182863077662,3.925276767236692,3.9276467352795454,3.925276767236692,3.925276767236692,15.10426029832713,15.149891162033189,15.10426029832713,15.10426029832713,30.03223340638805,30.03223340638805,30.03223340638805,30.03223340638805,9.89085845783742,9.89085845783742,9.89085845783742,9.89085845783742,10.7996759911414,10.7996759911414,10.7996759911414,10.7996759911414,11.217260350631422,11.217260350631422,11.217260350631422,11.217260350631422,5.190812516734639,5.190812516734639,5.190812516734639,5.190812516734639,7.30317676779018,7.30317676779018,7.30317676779018,7.30317676779018,6.566973154263998,6.566973154263998,6.566973154263998,6.566973154263998,3.734014237737273,3.734014237737273,3.734014237737273,3.734014237737273,22.68636191584449,22.68636191584449,22.68636191584449,22.68636191584449,16.195507669888656,16.195507669888656,16.195507669888656,16.195507669888656,3.977286139204519,3.977286139204519,3.977286139204519,3.977286139204519,19.868310217799177,19.868310217799177,19.868310217799177,19.868310217799177,13.462888877291093,13.462888877291093,13.462888877291093,13.462888877291093],\"type\":\"violin\"},{\"box\":{\"visible\":false},\"meanline\":{\"visible\":true},\"name\":\"line14\",\"orientation\":\"v\",\"side\":\"positive\",\"x\":[\"line14\",\"line14\",\"line14\",\"line14\",\"line14\",\"line14\",\"line14\",\"line14\",\"line14\",\"line14\",\"line14\",\"line14\",\"line14\",\"line14\",\"line14\",\"line14\",\"line14\",\"line14\",\"line14\",\"line14\",\"line14\",\"line14\",\"line14\",\"line14\",\"line14\",\"line14\",\"line14\",\"line14\",\"line14\",\"line14\",\"line14\",\"line14\",\"line14\",\"line14\",\"line14\",\"line14\",\"line14\",\"line14\",\"line14\",\"line14\",\"line14\",\"line14\",\"line14\",\"line14\",\"line14\",\"line14\",\"line14\",\"line14\",\"line14\",\"line14\",\"line14\",\"line14\",\"line14\",\"line14\",\"line14\",\"line14\",\"line14\",\"line14\",\"line14\",\"line14\",\"line14\",\"line14\",\"line14\",\"line14\",\"line14\",\"line14\",\"line14\",\"line14\",\"line14\",\"line14\",\"line14\",\"line14\",\"line14\",\"line14\",\"line14\",\"line14\",\"line14\",\"line14\",\"line14\",\"line14\",\"line14\",\"line14\",\"line14\",\"line14\",\"line14\",\"line14\",\"line14\",\"line14\",\"line14\",\"line14\",\"line14\",\"line14\",\"line14\",\"line14\",\"line14\",\"line14\",\"line14\",\"line14\",\"line14\",\"line14\",\"line14\",\"line14\",\"line14\",\"line14\",\"line14\",\"line14\",\"line14\",\"line14\",\"line14\",\"line14\",\"line14\",\"line14\",\"line14\",\"line14\",\"line14\",\"line14\",\"line14\",\"line14\",\"line14\",\"line14\",\"line14\",\"line14\",\"line14\",\"line14\",\"line14\",\"line14\",\"line14\",\"line14\",\"line14\",\"line14\",\"line14\",\"line14\",\"line14\",\"line14\",\"line14\",\"line14\",\"line14\",\"line14\",\"line14\",\"line14\",\"line14\",\"line14\",\"line14\",\"line14\",\"line14\",\"line14\",\"line14\",\"line14\",\"line14\",\"line14\",\"line14\",\"line14\",\"line14\",\"line14\",\"line14\",\"line14\",\"line14\",\"line14\",\"line14\",\"line14\"],\"y\":[20.934466777771597,20.934466777771597,20.934466777771597,20.934466777771597,29.362997822376048,29.362997822376048,29.362997822376048,29.362997822376048,17.080384430099336,17.080384430099336,17.080384430099336,17.080384430099336,15.84984963506518,15.84984963506518,15.84984963506518,15.84984963506518,39.77203038770003,39.77203038770003,39.77203038770003,39.77203038770003,1.7251899096217542,1.7251899096217542,1.7251899096217542,1.7251899096217542,10.59848795754495,10.59848795754495,10.59848795754495,10.59848795754495,33.867537346412185,33.867537346412185,33.867537346412185,33.867537346412185,36.682019809295866,36.682019809295866,36.682019809295866,36.682019809295866,6.856361995662204,6.856361995662204,6.856361995662204,6.856361995662204,34.06556996398828,34.06556996398828,34.06556996398828,34.06556996398828,null,8.654591747671743,8.667518465249579,8.672421801051751,null,null,12.457045071883671,null,null,null,null,null,null,null,null,27.05718876531761,null,null,null,null,3.4596236969477223,null,null,null,28.3588895088054,null,null,null,0.9807294400538452,null,null,null,36.58733336014615,null,null,null,26.871464539040296,26.82732552819712,26.871464539045505,null,21.108464729182145,21.10708008070172,21.107080073763875,null,20.241547108440813,20.23839552211533,20.238395522100287,20.24033360470821,2.118299058603142,2.121105142026811,2.120960473381352,2.120125659323391,18.32136609291573,18.35504574665587,18.355562567177135,18.353668787772456,8.471798743859678,8.472340983580331,8.471798743859678,8.471798743859678,30.29715124675201,30.28446590674477,30.29715124675201,30.29715124675201,17.72748129487618,17.72748129487618,17.72748129487618,17.72748129487618,20.93413465418149,20.93413465418149,20.93413465418149,20.93413465418149,3.797683880325357,3.797683880325357,3.797683880325357,3.797683880325357,26.65510363661855,26.65510363661855,26.65510363661855,26.65510363661855,18.678441764580988,18.678441764580988,18.678441764580988,18.678441764580988,8.535708725019886,8.535708725019886,8.535708725019886,8.535708725019886,35.42944744851307,35.42944744851307,35.42944744851307,35.42944744851307,34.032943784850374,34.032943784850374,34.032943784850374,34.032943784850374,3.385183857398233,3.385183857398233,3.385183857398233,3.385183857398233,19.74282625142133,19.74282625142133,19.74282625142133,19.74282625142133,6.536649228728527,6.536649228728527,6.536649228728527,6.536649228728527,31.334135608701096,31.334135608701096,31.334135608701096,31.334135608701096,25.639114273665943,25.639114273665943,25.639114273665943,25.639114273665943],\"type\":\"violin\"},{\"box\":{\"visible\":false},\"meanline\":{\"visible\":true},\"name\":\"line15\",\"orientation\":\"v\",\"side\":\"positive\",\"x\":[\"line15\",\"line15\",\"line15\",\"line15\",\"line15\",\"line15\",\"line15\",\"line15\",\"line15\",\"line15\",\"line15\",\"line15\",\"line15\",\"line15\",\"line15\",\"line15\",\"line15\",\"line15\",\"line15\",\"line15\",\"line15\",\"line15\",\"line15\",\"line15\",\"line15\",\"line15\",\"line15\",\"line15\",\"line15\",\"line15\",\"line15\",\"line15\",\"line15\",\"line15\",\"line15\",\"line15\",\"line15\",\"line15\",\"line15\",\"line15\",\"line15\",\"line15\",\"line15\",\"line15\",\"line15\",\"line15\",\"line15\",\"line15\",\"line15\",\"line15\",\"line15\",\"line15\",\"line15\",\"line15\",\"line15\",\"line15\",\"line15\",\"line15\",\"line15\",\"line15\",\"line15\",\"line15\",\"line15\",\"line15\",\"line15\",\"line15\",\"line15\",\"line15\",\"line15\",\"line15\",\"line15\",\"line15\",\"line15\",\"line15\",\"line15\",\"line15\",\"line15\",\"line15\",\"line15\",\"line15\",\"line15\",\"line15\",\"line15\",\"line15\",\"line15\",\"line15\",\"line15\",\"line15\",\"line15\",\"line15\",\"line15\",\"line15\",\"line15\",\"line15\",\"line15\",\"line15\",\"line15\",\"line15\",\"line15\",\"line15\",\"line15\",\"line15\",\"line15\",\"line15\",\"line15\",\"line15\",\"line15\",\"line15\",\"line15\",\"line15\",\"line15\",\"line15\",\"line15\",\"line15\",\"line15\",\"line15\",\"line15\",\"line15\",\"line15\",\"line15\",\"line15\",\"line15\",\"line15\",\"line15\",\"line15\",\"line15\",\"line15\",\"line15\",\"line15\",\"line15\",\"line15\",\"line15\",\"line15\",\"line15\",\"line15\",\"line15\",\"line15\",\"line15\",\"line15\",\"line15\",\"line15\",\"line15\",\"line15\",\"line15\",\"line15\",\"line15\",\"line15\",\"line15\",\"line15\",\"line15\",\"line15\",\"line15\",\"line15\",\"line15\",\"line15\",\"line15\",\"line15\",\"line15\",\"line15\",\"line15\"],\"y\":[41.26440631851354,41.26440631851354,41.26440631851354,41.26440631851354,21.19041038161248,21.19041038161248,21.19041038161248,21.19041038161248,7.57856536368834,7.57856536368834,7.57856536368834,7.57856536368834,7.517632219635995,7.517632219635995,7.517632219635995,7.517632219635995,22.818332095181248,22.818332095181248,22.818332095181248,22.818332095181248,19.941469271682173,19.941469271682173,19.941469271682173,19.941469271682173,7.056797958919975,7.056797958919975,7.056797958919975,7.056797958919975,18.57432467979334,18.57432467979334,18.57432467979334,18.57432467979334,54.74827728261626,54.74827728261626,54.74827728261626,54.74827728261626,2.8991550660517422,2.8991550660517422,2.8991550660517422,2.8991550660517422,15.613529298546258,15.613529298546258,15.613529298546258,15.613529298546258,0.0,15.722970353066332,9.056005091881088,8.820090122734383,0.0,5.016287145814244,12.718211525238951,null,0.9662263635504952,3.0701741093790083,0.9662263626883404,null,0.9662401798144914,0.966240179814898,0.9662401829253738,27.07688861677177,0.966216428852422,null,null,1.8959599865634504,3.8346224874835433,null,null,1.895957270128416,28.43133596204258,null,null,1.895965908724431,2.855328284612728,null,0.8529177655616959,1.8959613972466305,13.843200142190817,null,5.541692097358737,1.896048175662103,36.62656497850724,26.847725424307008,36.62656497845491,9.05156559231422,19.8270842335599,29.134905583582928,29.13490548076092,7.9821632451305105,6.93135860531569,6.86078331640169,6.860783316597743,6.91340404020578,6.431447350777619,8.45084412835039,3.790699275317192,4.273578107503845,16.25437372178153,21.249810095858347,13.047567186223116,13.07660316709942,4.947401757196855,4.947678296695154,4.947401757196855,4.947401757196855,15.328001524414647,15.23524710396524,15.328001524414647,15.328001524414647,47.78577608292235,47.78577608292235,47.78577608292235,47.78577608292235,11.216452444768024,11.216452444768024,11.216452444768024,11.216452444768024,14.650158371760662,14.650158371760662,14.650158371760662,14.650158371760662,15.784373458286248,15.784373458286248,15.784373458286248,15.784373458286248,14.161306563266724,14.161306563266724,14.161306563266724,14.161306563266724,1.6454683551618123,1.6454683551618123,1.6454683551618123,1.6454683551618123,29.10223652936274,29.10223652936274,29.10223652936274,29.10223652936274,37.56962564941774,37.56962564941774,37.56962564941774,37.56962564941774,26.167243155241778,26.167243155241778,26.167243155241778,26.167243155241778,35.944658904563674,35.944658904563674,35.944658904563674,35.944658904563674,10.274940232566678,10.274940232566678,10.274940232566678,10.274940232566678,11.992055855448196,11.992055855448196,11.992055855448196,11.992055855448196,12.51860900550825,12.51860900550825,12.51860900550825,12.51860900550825],\"type\":\"violin\"},{\"box\":{\"visible\":false},\"meanline\":{\"visible\":true},\"name\":\"line16\",\"orientation\":\"v\",\"side\":\"positive\",\"x\":[\"line16\",\"line16\",\"line16\",\"line16\",\"line16\",\"line16\",\"line16\",\"line16\",\"line16\",\"line16\",\"line16\",\"line16\",\"line16\",\"line16\",\"line16\",\"line16\",\"line16\",\"line16\",\"line16\",\"line16\",\"line16\",\"line16\",\"line16\",\"line16\",\"line16\",\"line16\",\"line16\",\"line16\",\"line16\",\"line16\",\"line16\",\"line16\",\"line16\",\"line16\",\"line16\",\"line16\",\"line16\",\"line16\",\"line16\",\"line16\",\"line16\",\"line16\",\"line16\",\"line16\",\"line16\",\"line16\",\"line16\",\"line16\",\"line16\",\"line16\",\"line16\",\"line16\",\"line16\",\"line16\",\"line16\",\"line16\",\"line16\",\"line16\",\"line16\",\"line16\",\"line16\",\"line16\",\"line16\",\"line16\",\"line16\",\"line16\",\"line16\",\"line16\",\"line16\",\"line16\",\"line16\",\"line16\",\"line16\",\"line16\",\"line16\",\"line16\",\"line16\",\"line16\",\"line16\",\"line16\",\"line16\",\"line16\",\"line16\",\"line16\",\"line16\",\"line16\",\"line16\",\"line16\",\"line16\",\"line16\",\"line16\",\"line16\",\"line16\",\"line16\",\"line16\",\"line16\",\"line16\",\"line16\",\"line16\",\"line16\",\"line16\",\"line16\",\"line16\",\"line16\",\"line16\",\"line16\",\"line16\",\"line16\",\"line16\",\"line16\",\"line16\",\"line16\",\"line16\",\"line16\",\"line16\",\"line16\",\"line16\",\"line16\",\"line16\",\"line16\",\"line16\",\"line16\",\"line16\",\"line16\",\"line16\",\"line16\",\"line16\",\"line16\",\"line16\",\"line16\",\"line16\",\"line16\",\"line16\",\"line16\",\"line16\",\"line16\",\"line16\",\"line16\",\"line16\",\"line16\",\"line16\",\"line16\",\"line16\",\"line16\",\"line16\",\"line16\",\"line16\",\"line16\",\"line16\",\"line16\",\"line16\",\"line16\",\"line16\",\"line16\",\"line16\",\"line16\",\"line16\",\"line16\",\"line16\",\"line16\"],\"y\":[72.75893206624264,72.75893206624264,72.75893206624264,72.75893206624264,31.43517790299741,31.43517790299741,31.43517790299741,31.43517790299741,25.3203187085356,25.3203187085356,25.3203187085356,25.3203187085356,21.327644795773345,21.327644795773345,21.327644795773345,21.327644795773345,32.17629728668555,32.17629728668555,32.17629728668555,32.17629728668555,52.28010068117159,52.28010068117159,52.28010068117159,52.28010068117159,32.33804287414918,32.33804287414918,32.33804287414918,32.33804287414918,24.11007645262777,24.11007645262777,24.11007645262777,24.11007645262777,62.84773430219383,62.84773430219383,62.84773430219383,62.84773430219383,22.21170122428457,22.21170122428457,22.21170122428457,22.21170122428457,31.782073702687068,31.782073702687068,31.782073702687068,31.782073702687068,2.505192299188859,17.735018822157787,11.197614483740784,10.838982041456044,12.938629917882688,17.947751307201226,25.62119168075869,12.938629902460915,18.20325443798517,15.332029435420475,18.203254452935308,18.086536979046784,24.65478259213774,24.65478259212645,24.654782512468284,51.54201082297054,8.570712675430428,8.294311190830769,8.294311190830776,8.930773538410335,10.078889308276484,6.2943055203981535,6.29430552042411,7.117014672577257,40.66511439382745,12.34270380751682,12.34270380441347,12.771206200113795,10.523792420431615,9.326620797675789,9.7015602593637,9.894697027909258,44.10112287465134,30.4654137114004,25.11176937513944,30.61132632829164,51.35296167699758,41.578379342083785,51.35296167694627,23.873706808446496,29.779326241077825,39.07519616125696,39.07519606625488,18.020260608770187,26.324615752769475,26.267943686763928,26.2679436870466,26.3124443651314,30.198794303114617,32.44156250995858,27.794545146364342,28.20299587475047,49.10433062535236,54.10214737149749,45.94589723343828,45.97714628984299,13.346833532504018,13.3486186762155,13.346833532504018,13.346833532504018,24.660902592739617,24.59542017683642,24.660902592739617,24.660902592739617,78.2201432437194,78.2201432437194,78.2201432437194,78.2201432437194,18.372524143690207,18.372524143690207,18.372524143690207,18.372524143690207,33.50896639127801,33.50896639127801,33.50896639127801,33.50896639127801,45.75645656103995,45.75645656103995,45.75645656103995,45.75645656103995,45.07840978808468,45.07840978808468,45.07840978808468,45.07840978808468,25.094930969905764,25.094930969905764,25.094930969905764,25.094930969905764,61.47558315278341,61.47558315278341,61.47558315278341,61.47558315278341,54.691181970689016,54.691181970689016,54.691181970689016,54.691181970689016,51.42341116853626,51.42341116853626,51.42341116853626,51.42341116853626,46.193071044795744,46.193071044795744,46.193071044795744,46.193071044795744,33.77102686212345,33.77102686212345,33.77102686212345,33.77102686212345,40.12475278733864,40.12475278733864,40.12475278733864,40.12475278733864,38.52440443386058,38.52440443386058,38.52440443386058,38.52440443386058],\"type\":\"violin\"},{\"box\":{\"visible\":false},\"meanline\":{\"visible\":true},\"name\":\"line17\",\"orientation\":\"v\",\"side\":\"positive\",\"x\":[\"line17\",\"line17\",\"line17\",\"line17\",\"line17\",\"line17\",\"line17\",\"line17\",\"line17\",\"line17\",\"line17\",\"line17\",\"line17\",\"line17\",\"line17\",\"line17\",\"line17\",\"line17\",\"line17\",\"line17\",\"line17\",\"line17\",\"line17\",\"line17\",\"line17\",\"line17\",\"line17\",\"line17\",\"line17\",\"line17\",\"line17\",\"line17\",\"line17\",\"line17\",\"line17\",\"line17\",\"line17\",\"line17\",\"line17\",\"line17\",\"line17\",\"line17\",\"line17\",\"line17\",\"line17\",\"line17\",\"line17\",\"line17\",\"line17\",\"line17\",\"line17\",\"line17\",\"line17\",\"line17\",\"line17\",\"line17\",\"line17\",\"line17\",\"line17\",\"line17\",\"line17\",\"line17\",\"line17\",\"line17\",\"line17\",\"line17\",\"line17\",\"line17\",\"line17\",\"line17\",\"line17\",\"line17\",\"line17\",\"line17\",\"line17\",\"line17\",\"line17\",\"line17\",\"line17\",\"line17\",\"line17\",\"line17\",\"line17\",\"line17\",\"line17\",\"line17\",\"line17\",\"line17\",\"line17\",\"line17\",\"line17\",\"line17\",\"line17\",\"line17\",\"line17\",\"line17\",\"line17\",\"line17\",\"line17\",\"line17\",\"line17\",\"line17\",\"line17\",\"line17\",\"line17\",\"line17\",\"line17\",\"line17\",\"line17\",\"line17\",\"line17\",\"line17\",\"line17\",\"line17\",\"line17\",\"line17\",\"line17\",\"line17\",\"line17\",\"line17\",\"line17\",\"line17\",\"line17\",\"line17\",\"line17\",\"line17\",\"line17\",\"line17\",\"line17\",\"line17\",\"line17\",\"line17\",\"line17\",\"line17\",\"line17\",\"line17\",\"line17\",\"line17\",\"line17\",\"line17\",\"line17\",\"line17\",\"line17\",\"line17\",\"line17\",\"line17\",\"line17\",\"line17\",\"line17\",\"line17\",\"line17\",\"line17\",\"line17\",\"line17\",\"line17\",\"line17\",\"line17\",\"line17\",\"line17\",\"line17\"],\"y\":[31.520251704671274,31.520251704671274,31.520251704671274,31.520251704671274,10.264417944886455,10.264417944886455,10.264417944886455,10.264417944886455,17.68427985165499,17.68427985165499,17.68427985165499,17.68427985165499,13.726355267740416,13.726355267740416,13.726355267740416,13.726355267740416,9.499483040502067,9.499483040502067,9.499483040502067,9.499483040502067,32.451803915779216,32.451803915779216,32.451803915779216,32.451803915779216,25.25750395391801,25.25750395391801,25.25750395391801,25.25750395391801,5.633979991755865,5.633979991755865,5.633979991755865,5.633979991755865,8.08339854061272,8.08339854061272,8.08339854061272,8.08339854061272,19.387531540199745,19.387531540199745,19.387531540199745,19.387531540199745,16.313273572140243,16.313273572140243,16.313273572140243,16.313273572140243,1.8274764006894637,1.8246280335830047,1.826905126467168,1.826791296349912,12.84004565778735,12.839962738243376,12.820723520805624,12.840045641890027,18.026544714093696,18.043818075648137,18.02654472963905,18.026909678648305,24.547315123309467,24.547315123298223,24.54731504196131,24.45217074239929,8.12470685237942,8.124885232328495,8.12488523232842,8.127580963868223,6.062573482969798,6.0634068770837874,6.063406877113304,6.065359102251177,12.179912836874797,12.237822395108653,12.237822391907956,12.241985193718936,9.185865853673784,9.178697198485912,9.18185082955964,9.181769774558155,30.526028114533396,30.45396501991461,30.537820304285702,30.46493724827093,14.686446606210538,14.701107865500491,14.686446606212847,14.746270206111245,9.903014917132053,9.878269295827463,9.878269295022724,9.90756980005317,19.459535610717968,19.4581046358492,19.45810463583997,19.458938357743506,23.989818580379875,24.005887700479388,24.034054714503363,24.02243670667601,32.86605548728228,32.85759014414809,32.92986394784184,32.92758520193017,8.240048400048835,8.24032631755264,8.240048400048835,8.240048400048835,9.33795462735438,9.336014972522532,9.33795462735438,9.33795462735438,30.46495149963103,30.46495149963103,30.46495149963103,30.46495149963103,7.071137967151513,7.071137967151513,7.071137967151513,7.071137967151513,18.82226195533585,18.82226195533585,18.82226195533585,18.82226195533585,30.03543575265545,30.03543575265545,30.03543575265545,30.03543575265545,30.95489053603267,30.95489053603267,30.95489053603267,30.95489053603267,23.53068446935069,23.53068446935069,23.53068446935069,23.53068446935069,32.401144562343795,32.401144562343795,32.401144562343795,32.401144562343795,17.09929090496435,17.09929090496435,17.09929090496435,17.09929090496435,25.29220715499063,25.29220715499063,25.29220715499063,25.29220715499063,10.16590865191063,10.16590865191063,10.16590865191063,10.16590865191063,23.479123444178164,23.479123444178164,23.479123444178164,23.479123444178164,28.367819183703595,28.367819183703595,28.367819183703595,28.367819183703595,26.093173203253222,26.093173203253222,26.093173203253222,26.093173203253222],\"type\":\"violin\"},{\"box\":{\"visible\":false},\"meanline\":{\"visible\":true},\"name\":\"line2\",\"orientation\":\"v\",\"side\":\"positive\",\"x\":[\"line2\",\"line2\",\"line2\",\"line2\",\"line2\",\"line2\",\"line2\",\"line2\",\"line2\",\"line2\",\"line2\",\"line2\",\"line2\",\"line2\",\"line2\",\"line2\",\"line2\",\"line2\",\"line2\",\"line2\",\"line2\",\"line2\",\"line2\",\"line2\",\"line2\",\"line2\",\"line2\",\"line2\",\"line2\",\"line2\",\"line2\",\"line2\",\"line2\",\"line2\",\"line2\",\"line2\",\"line2\",\"line2\",\"line2\",\"line2\",\"line2\",\"line2\",\"line2\",\"line2\",\"line2\",\"line2\",\"line2\",\"line2\",\"line2\",\"line2\",\"line2\",\"line2\",\"line2\",\"line2\",\"line2\",\"line2\",\"line2\",\"line2\",\"line2\",\"line2\",\"line2\",\"line2\",\"line2\",\"line2\",\"line2\",\"line2\",\"line2\",\"line2\",\"line2\",\"line2\",\"line2\",\"line2\",\"line2\",\"line2\",\"line2\",\"line2\",\"line2\",\"line2\",\"line2\",\"line2\",\"line2\",\"line2\",\"line2\",\"line2\",\"line2\",\"line2\",\"line2\",\"line2\",\"line2\",\"line2\",\"line2\",\"line2\",\"line2\",\"line2\",\"line2\",\"line2\",\"line2\",\"line2\",\"line2\",\"line2\",\"line2\",\"line2\",\"line2\",\"line2\",\"line2\",\"line2\",\"line2\",\"line2\",\"line2\",\"line2\",\"line2\",\"line2\",\"line2\",\"line2\",\"line2\",\"line2\",\"line2\",\"line2\",\"line2\",\"line2\",\"line2\",\"line2\",\"line2\",\"line2\",\"line2\",\"line2\",\"line2\",\"line2\",\"line2\",\"line2\",\"line2\",\"line2\",\"line2\",\"line2\",\"line2\",\"line2\",\"line2\",\"line2\",\"line2\",\"line2\",\"line2\",\"line2\",\"line2\",\"line2\",\"line2\",\"line2\",\"line2\",\"line2\",\"line2\",\"line2\",\"line2\",\"line2\",\"line2\",\"line2\",\"line2\",\"line2\",\"line2\",\"line2\",\"line2\",\"line2\"],\"y\":[92.9317853216094,92.9317853216094,92.9317853216094,92.9317853216094,45.59054733467187,45.59054733467187,45.59054733467187,45.59054733467187,3.69252065803784,3.69252065803784,3.69252065803784,3.69252065803784,8.166788622726603,8.166788622726603,8.166788622726603,8.166788622726603,8.545392636643081,8.545392636643081,8.545392636643081,8.545392636643081,79.92889798367632,79.92889798367632,79.92889798367632,79.92889798367632,32.92267010285323,32.92267010285323,32.92267010285323,32.92267010285323,3.719997752233115,3.719997752233115,3.719997752233115,3.719997752233115,98.1306068023669,98.1306068023669,98.1306068023669,98.1306068023669,16.113173982934022,16.113173982934022,16.113173982934022,16.113173982934022,2.417870654305609,2.417870654305609,2.417870654305609,2.417870654305609,23.99797993096344,12.529400865915042,25.203612884886077,25.5068153590668,44.33941106490949,34.2808157372252,33.59684192334863,0.0,0.0,8.326288499754256,5.09941524990707,0.0,0.0,0.0,0.0,0.0,0.0,0.0,0.0,null,0.0,0.0,0.0,null,0.0,0.0,0.0,0.0,0.0,0.0,0.0,0.0,0.0,0.0,0.0,5.607226134222512,0.0,0.0,0.0,52.08661930231793,52.80003151782287,0.0,0.0,51.28950652352573,1.9558035794608128,0.0,0.0,1.8023953303327616,16.9632697718208,0.0,37.00414845250331,32.56967876252886,23.91464333781421,0.0,43.30867005859276,42.98932395760339,2.7293093226258165,2.497462031568641,2.7293093226258165,2.7293093226258165,5.026817985095561,5.910831994073427,5.026817985095561,5.026817985095561,97.26267131604584,97.26267131604584,97.26267131604584,97.26267131604584,5.3426331587106,5.3426331587106,5.3426331587106,5.3426331587106,68.49170912775328,68.49170912775328,68.49170912775328,68.49170912775328,43.17464270450152,43.17464270450152,43.17464270450152,43.17464270450152,61.15456309699242,61.15456309699242,61.15456309699242,61.15456309699242,7.9663057973457265,7.9663057973457265,7.9663057973457265,7.9663057973457265,76.09827319602303,76.09827319602303,76.09827319602303,76.09827319602303,74.33369819884769,74.33369819884769,74.33369819884769,74.33369819884769,86.9728800871187,86.9728800871187,86.9728800871187,86.9728800871187,80.4210607626047,80.4210607626047,80.4210607626047,80.4210607626047,49.78076632345931,49.78076632345931,49.78076632345931,49.78076632345931,6.201805661168725,6.201805661168725,6.201805661168725,6.201805661168725,20.25818935114947,20.25818935114947,20.25818935114947,20.25818935114947],\"type\":\"violin\"},{\"box\":{\"visible\":false},\"meanline\":{\"visible\":true},\"name\":\"line4\",\"orientation\":\"v\",\"side\":\"positive\",\"x\":[\"line4\",\"line4\",\"line4\",\"line4\",\"line4\",\"line4\",\"line4\",\"line4\",\"line4\",\"line4\",\"line4\",\"line4\",\"line4\",\"line4\",\"line4\",\"line4\",\"line4\",\"line4\",\"line4\",\"line4\",\"line4\",\"line4\",\"line4\",\"line4\",\"line4\",\"line4\",\"line4\",\"line4\",\"line4\",\"line4\",\"line4\",\"line4\",\"line4\",\"line4\",\"line4\",\"line4\",\"line4\",\"line4\",\"line4\",\"line4\",\"line4\",\"line4\",\"line4\",\"line4\",\"line4\",\"line4\",\"line4\",\"line4\",\"line4\",\"line4\",\"line4\",\"line4\",\"line4\",\"line4\",\"line4\",\"line4\",\"line4\",\"line4\",\"line4\",\"line4\",\"line4\",\"line4\",\"line4\",\"line4\",\"line4\",\"line4\",\"line4\",\"line4\",\"line4\",\"line4\",\"line4\",\"line4\",\"line4\",\"line4\",\"line4\",\"line4\",\"line4\",\"line4\",\"line4\",\"line4\",\"line4\",\"line4\",\"line4\",\"line4\",\"line4\",\"line4\",\"line4\",\"line4\",\"line4\",\"line4\",\"line4\",\"line4\",\"line4\",\"line4\",\"line4\",\"line4\",\"line4\",\"line4\",\"line4\",\"line4\",\"line4\",\"line4\",\"line4\",\"line4\",\"line4\",\"line4\",\"line4\",\"line4\",\"line4\",\"line4\",\"line4\",\"line4\",\"line4\",\"line4\",\"line4\",\"line4\",\"line4\",\"line4\",\"line4\",\"line4\",\"line4\",\"line4\",\"line4\",\"line4\",\"line4\",\"line4\",\"line4\",\"line4\",\"line4\",\"line4\",\"line4\",\"line4\",\"line4\",\"line4\",\"line4\",\"line4\",\"line4\",\"line4\",\"line4\",\"line4\",\"line4\",\"line4\",\"line4\",\"line4\",\"line4\",\"line4\",\"line4\",\"line4\",\"line4\",\"line4\",\"line4\",\"line4\",\"line4\",\"line4\",\"line4\",\"line4\",\"line4\",\"line4\",\"line4\",\"line4\"],\"y\":[9.1427308643948,9.1427308643948,9.1427308643948,9.1427308643948,5.352625680826601,5.352625680826601,5.352625680826601,5.352625680826601,23.07265071540008,23.07265071540008,23.07265071540008,23.07265071540008,17.808183585079526,17.808183585079526,17.808183585079526,17.808183585079526,3.703574200112467,3.703574200112467,3.703574200112467,3.703574200112467,18.245212602037743,18.245212602037743,18.245212602037743,18.245212602037743,3.793615979633552,3.793615979633552,3.793615979633552,3.793615979633552,3.162261145373985,3.162261145373985,3.162261145373985,3.162261145373985,15.577568117140702,15.577568117140702,15.577568117140702,15.577568117140702,18.921113018488853,18.921113018488853,18.921113018488853,18.921113018488853,1.9384745245651585,1.9384745245651585,1.9384745245651585,1.9384745245651585,17.36586347627681,51.40452258760355,13.37114861019588,11.945820299233386,0.0,null,27.856031409942407,10.01609227574391,0.0,null,24.616011202686728,5.765584450715156,0.0,null,null,13.464877913449447,null,0.0,null,null,null,0.8649375168336807,0.0,null,null,0.8159590356624983,0.0,0.0,null,5.250681419868946,0.0,0.0,null,1.62092013082826,0.0,0.0,null,2.6789814461740638,0.0,0.0,0.7610768836206607,1.486911462315811,0.0,0.0,0.7623735058051627,1.9864522962091904,1.9603228151182823,0.0,29.30887712170772,5.583941989426287,13.627306071219952,1.19309856214707,26.060363213943692,5.411956402610645,6.936197789632603,6.057460983412573,8.400772521328017,7.844599637203076,8.400772521328017,8.400772521328017,28.511834712002315,31.137316863904942,28.511834712002315,28.511834712002315,37.90147367881964,37.90147367881964,37.90147367881964,37.90147367881964,5.372128139546657,5.372128139546657,5.372128139546657,5.372128139546657,7.806981893765569,7.806981893765569,7.806981893765569,7.806981893765569,21.232194743504028,21.232194743504028,21.232194743504028,21.232194743504028,6.485563839218505,6.485563839218505,6.485563839218505,6.485563839218505,15.045019206516477,15.045019206516477,15.045019206516477,15.045019206516477,9.624548444604091,9.624548444604091,9.624548444604091,9.624548444604091,6.873359316245688,6.873359316245688,6.873359316245688,6.873359316245688,9.858115409099764,9.858115409099764,9.858115409099764,9.858115409099764,3.901279382272819,3.901279382272819,3.901279382272819,3.901279382272819,5.25112444697962,5.25112444697962,5.25112444697962,5.25112444697962,8.82141300694902,8.82141300694902,8.82141300694902,8.82141300694902,16.834334030107385,16.834334030107385,16.834334030107385,16.834334030107385],\"type\":\"violin\"},{\"box\":{\"visible\":false},\"meanline\":{\"visible\":true},\"name\":\"line5\",\"orientation\":\"v\",\"side\":\"positive\",\"x\":[\"line5\",\"line5\",\"line5\",\"line5\",\"line5\",\"line5\",\"line5\",\"line5\",\"line5\",\"line5\",\"line5\",\"line5\",\"line5\",\"line5\",\"line5\",\"line5\",\"line5\",\"line5\",\"line5\",\"line5\",\"line5\",\"line5\",\"line5\",\"line5\",\"line5\",\"line5\",\"line5\",\"line5\",\"line5\",\"line5\",\"line5\",\"line5\",\"line5\",\"line5\",\"line5\",\"line5\",\"line5\",\"line5\",\"line5\",\"line5\",\"line5\",\"line5\",\"line5\",\"line5\",\"line5\",\"line5\",\"line5\",\"line5\",\"line5\",\"line5\",\"line5\",\"line5\",\"line5\",\"line5\",\"line5\",\"line5\",\"line5\",\"line5\",\"line5\",\"line5\",\"line5\",\"line5\",\"line5\",\"line5\",\"line5\",\"line5\",\"line5\",\"line5\",\"line5\",\"line5\",\"line5\",\"line5\",\"line5\",\"line5\",\"line5\",\"line5\",\"line5\",\"line5\",\"line5\",\"line5\",\"line5\",\"line5\",\"line5\",\"line5\",\"line5\",\"line5\",\"line5\",\"line5\",\"line5\",\"line5\",\"line5\",\"line5\",\"line5\",\"line5\",\"line5\",\"line5\",\"line5\",\"line5\",\"line5\",\"line5\",\"line5\",\"line5\",\"line5\",\"line5\",\"line5\",\"line5\",\"line5\",\"line5\",\"line5\",\"line5\",\"line5\",\"line5\",\"line5\",\"line5\",\"line5\",\"line5\",\"line5\",\"line5\",\"line5\",\"line5\",\"line5\",\"line5\",\"line5\",\"line5\",\"line5\",\"line5\",\"line5\",\"line5\",\"line5\",\"line5\",\"line5\",\"line5\",\"line5\",\"line5\",\"line5\",\"line5\",\"line5\",\"line5\",\"line5\",\"line5\",\"line5\",\"line5\",\"line5\",\"line5\",\"line5\",\"line5\",\"line5\",\"line5\",\"line5\",\"line5\",\"line5\",\"line5\",\"line5\",\"line5\",\"line5\",\"line5\",\"line5\",\"line5\",\"line5\",\"line5\"],\"y\":[23.62569849166793,23.62569849166793,23.62569849166793,23.62569849166793,17.22813073442017,17.22813073442017,17.22813073442017,17.22813073442017,53.272597603751,53.272597603751,53.272597603751,53.272597603751,34.87375487729516,34.87375487729516,34.87375487729516,34.87375487729516,20.34736412078634,20.34736412078634,20.34736412078634,20.34736412078634,23.92968465350045,23.92968465350045,23.92968465350045,23.92968465350045,13.74524378473283,13.74524378473283,13.74524378473283,13.74524378473283,15.400561528711153,15.400561528711153,15.400561528711153,15.400561528711153,16.392672653670015,16.392672653670015,16.392672653670015,16.392672653670015,44.656861618007085,44.656861618007085,44.656861618007085,44.656861618007085,2.6006035729510804,2.6006035729510804,2.6006035729510804,2.6006035729510804,50.49871852680129,51.411739209049934,50.64979486471572,50.73881410520978,27.56043589438774,null,27.845231572583728,27.570596861155,null,null,24.59852135756032,24.44722284542848,null,null,null,29.23657424795172,null,null,null,3.6713999327173834,null,null,null,9.358477322178016,null,null,null,18.580304318201097,null,null,null,23.16560962113742,null,null,null,21.99243546314757,null,null,null,22.53244773459107,null,null,null,6.729950514899735,null,null,null,39.62960309497554,29.30078674698296,null,null,28.984795931383616,26.04622325785791,null,25.76311956620696,25.752945151724603,27.802796473091178,27.812521553336715,27.802796473091178,27.802796473091178,55.66749984291344,55.52018928685772,55.66749984291344,55.66749984291344,36.42776398766125,36.42776398766125,36.42776398766125,36.42776398766125,11.45183456675982,11.45183456675982,11.45183456675982,11.45183456675982,11.068939341795058,11.068939341795058,11.068939341795058,11.068939341795058,56.03849602200077,56.03849602200077,56.03849602200077,56.03849602200077,2.8633830133443965,2.8633830133443965,2.8633830133443965,2.8633830133443965,33.491272299515856,33.491272299515856,33.491272299515856,33.491272299515856,20.12989481076236,20.12989481076236,20.12989481076236,20.12989481076236,56.2437982150606,56.2437982150606,56.2437982150606,56.2437982150606,44.54106558891319,44.54106558891319,44.54106558891319,44.54106558891319,51.785139596000064,51.785139596000064,51.785139596000064,51.785139596000064,20.51464019156817,20.51464019156817,20.51464019156817,20.51464019156817,27.33600182670266,27.33600182670266,27.33600182670266,27.33600182670266,50.94983579628963,50.94983579628963,50.94983579628963,50.94983579628963],\"type\":\"violin\"},{\"box\":{\"visible\":false},\"meanline\":{\"visible\":true},\"name\":\"line6\",\"orientation\":\"v\",\"side\":\"positive\",\"x\":[\"line6\",\"line6\",\"line6\",\"line6\",\"line6\",\"line6\",\"line6\",\"line6\",\"line6\",\"line6\",\"line6\",\"line6\",\"line6\",\"line6\",\"line6\",\"line6\",\"line6\",\"line6\",\"line6\",\"line6\",\"line6\",\"line6\",\"line6\",\"line6\",\"line6\",\"line6\",\"line6\",\"line6\",\"line6\",\"line6\",\"line6\",\"line6\",\"line6\",\"line6\",\"line6\",\"line6\",\"line6\",\"line6\",\"line6\",\"line6\",\"line6\",\"line6\",\"line6\",\"line6\",\"line6\",\"line6\",\"line6\",\"line6\",\"line6\",\"line6\",\"line6\",\"line6\",\"line6\",\"line6\",\"line6\",\"line6\",\"line6\",\"line6\",\"line6\",\"line6\",\"line6\",\"line6\",\"line6\",\"line6\",\"line6\",\"line6\",\"line6\",\"line6\",\"line6\",\"line6\",\"line6\",\"line6\",\"line6\",\"line6\",\"line6\",\"line6\",\"line6\",\"line6\",\"line6\",\"line6\",\"line6\",\"line6\",\"line6\",\"line6\",\"line6\",\"line6\",\"line6\",\"line6\",\"line6\",\"line6\",\"line6\",\"line6\",\"line6\",\"line6\",\"line6\",\"line6\",\"line6\",\"line6\",\"line6\",\"line6\",\"line6\",\"line6\",\"line6\",\"line6\",\"line6\",\"line6\",\"line6\",\"line6\",\"line6\",\"line6\",\"line6\",\"line6\",\"line6\",\"line6\",\"line6\",\"line6\",\"line6\",\"line6\",\"line6\",\"line6\",\"line6\",\"line6\",\"line6\",\"line6\",\"line6\",\"line6\",\"line6\",\"line6\",\"line6\",\"line6\",\"line6\",\"line6\",\"line6\",\"line6\",\"line6\",\"line6\",\"line6\",\"line6\",\"line6\",\"line6\",\"line6\",\"line6\",\"line6\",\"line6\",\"line6\",\"line6\",\"line6\",\"line6\",\"line6\",\"line6\",\"line6\",\"line6\",\"line6\",\"line6\",\"line6\",\"line6\",\"line6\",\"line6\",\"line6\",\"line6\"],\"y\":[32.781794524555174,32.781794524555174,32.781794524555174,32.781794524555174,12.322881131235867,12.322881131235867,12.322881131235867,12.322881131235867,30.19247486426282,30.19247486426282,30.19247486426282,30.19247486426282,17.186090571843174,17.186090571843174,17.186090571843174,17.186090571843174,16.751636895842687,16.751636895842687,16.751636895842687,16.751636895842687,42.18912651553847,42.18912651553847,42.18912651553847,42.18912651553847,17.279860873170946,17.279860873170946,17.279860873170946,17.279860873170946,12.382650568523813,12.382650568523813,12.382650568523813,12.382650568523813,31.89968370805671,31.89968370805671,31.89968370805671,31.89968370805671,25.894831892440877,25.894831892440877,25.894831892440877,25.894831892440877,3.9725140287426415,3.9725140287426415,3.9725140287426415,3.9725140287426415,33.7025082615578,0.0,37.340987040996446,38.827635479915365,27.573191941943318,null,0.0,17.639277322504583,0.7985944328608647,null,0.0,18.800401808019377,0.7985944328608647,null,null,15.82329134546286,null,0.7986013607841411,null,3.9169107991669194,null,0.9127624349589364,0.7985630689028158,9.45137778568134,null,0.8563267937254404,0.7985630689028158,18.61675625314147,null,5.32198940521829,0.7985630689028158,23.188873266851807,null,1.6902781237854776,0.7985630689028158,22.0184504110336,null,2.750578408587739,0.7985630689028158,22.557418616000387,0.0,1.555307521552452,0.7985630689028158,6.863864583200656,0.0,2.05723419660276,2.0605336823375677,39.62727327426015,0.0,5.681146872132054,13.69999086719764,29.630042185469303,0.0,5.509276341506759,32.65679550133245,31.80198325332887,19.501527903707625,20.04072130993192,19.501527903707625,19.501527903707625,27.20372008564744,24.76409188838077,27.20372008564744,27.20372008564744,74.22823066402246,74.22823066402246,74.22823066402246,74.22823066402246,6.359237518098534,6.359237518098534,6.359237518098534,6.359237518098534,18.90877255575452,18.90877255575452,18.90877255575452,18.90877255575452,34.797635124824204,34.797635124824204,34.797635124824204,34.797635124824204,9.478719308151812,9.478719308151812,9.478719308151812,9.478719308151812,18.60335435930924,18.60335435930924,18.60335435930924,18.60335435930924,29.733451110124363,29.733451110124363,29.733451110124363,29.733451110124363,49.87314823352816,49.87314823352816,49.87314823352816,49.87314823352816,54.12676855129593,54.12676855129593,54.12676855129593,54.12676855129593,54.68691296709438,54.68691296709438,54.68691296709438,54.68691296709438,25.72918381273465,25.72918381273465,25.72918381273465,25.72918381273465,18.658702126321305,18.658702126321305,18.658702126321305,18.658702126321305,34.19695918701348,34.19695918701348,34.19695918701348,34.19695918701348],\"type\":\"violin\"},{\"box\":{\"visible\":false},\"meanline\":{\"visible\":true},\"name\":\"line7\",\"orientation\":\"v\",\"side\":\"positive\",\"x\":[\"line7\",\"line7\",\"line7\",\"line7\",\"line7\",\"line7\",\"line7\",\"line7\",\"line7\",\"line7\",\"line7\",\"line7\",\"line7\",\"line7\",\"line7\",\"line7\",\"line7\",\"line7\",\"line7\",\"line7\",\"line7\",\"line7\",\"line7\",\"line7\",\"line7\",\"line7\",\"line7\",\"line7\",\"line7\",\"line7\",\"line7\",\"line7\",\"line7\",\"line7\",\"line7\",\"line7\",\"line7\",\"line7\",\"line7\",\"line7\",\"line7\",\"line7\",\"line7\",\"line7\",\"line7\",\"line7\",\"line7\",\"line7\",\"line7\",\"line7\",\"line7\",\"line7\",\"line7\",\"line7\",\"line7\",\"line7\",\"line7\",\"line7\",\"line7\",\"line7\",\"line7\",\"line7\",\"line7\",\"line7\",\"line7\",\"line7\",\"line7\",\"line7\",\"line7\",\"line7\",\"line7\",\"line7\",\"line7\",\"line7\",\"line7\",\"line7\",\"line7\",\"line7\",\"line7\",\"line7\",\"line7\",\"line7\",\"line7\",\"line7\",\"line7\",\"line7\",\"line7\",\"line7\",\"line7\",\"line7\",\"line7\",\"line7\",\"line7\",\"line7\",\"line7\",\"line7\",\"line7\",\"line7\",\"line7\",\"line7\",\"line7\",\"line7\",\"line7\",\"line7\",\"line7\",\"line7\",\"line7\",\"line7\",\"line7\",\"line7\",\"line7\",\"line7\",\"line7\",\"line7\",\"line7\",\"line7\",\"line7\",\"line7\",\"line7\",\"line7\",\"line7\",\"line7\",\"line7\",\"line7\",\"line7\",\"line7\",\"line7\",\"line7\",\"line7\",\"line7\",\"line7\",\"line7\",\"line7\",\"line7\",\"line7\",\"line7\",\"line7\",\"line7\",\"line7\",\"line7\",\"line7\",\"line7\",\"line7\",\"line7\",\"line7\",\"line7\",\"line7\",\"line7\",\"line7\",\"line7\",\"line7\",\"line7\",\"line7\",\"line7\",\"line7\",\"line7\",\"line7\",\"line7\",\"line7\",\"line7\"],\"y\":[1.697354320609736,1.697354320609736,1.697354320609736,1.697354320609736,24.07296847296566,24.07296847296566,24.07296847296566,24.07296847296566,3.5874433829152474,3.5874433829152474,3.5874433829152474,3.5874433829152474,16.657309020984044,16.657309020984044,16.657309020984044,16.657309020984044,8.954864905350433,8.954864905350433,8.954864905350433,8.954864905350433,18.916535124526085,18.916535124526085,18.916535124526085,18.916535124526085,17.29326415350802,17.29326415350802,17.29326415350802,17.29326415350802,2.962864506458862,2.962864506458862,2.962864506458862,2.962864506458862,13.764987562914405,13.764987562914405,13.764987562914405,13.764987562914405,21.36226418257753,21.36226418257753,21.36226418257753,21.36226418257753,13.77463614652966,13.77463614652966,13.77463614652966,13.77463614652966,44.31680606066707,22.098820905790102,18.232480973850883,3.448717037111738,13.245070071276988,13.290925639671878,6.70956761811954,1.4692831216864657,0.8372639517378528,null,0.8171734369103105,1.5661821306633246,0.8372639517378591,null,0.8171734369103105,6.639777389643929,0.8278046189942307,null,0.817173436910057,3.9964475910223873,0.8278046189939906,null,0.8171393122897602,7.688633533189473,0.8278046189942428,null,0.8171393122897602,23.39736636593305,0.8278046189942483,null,0.8171393122897602,47.32319926835496,0.8278046189942387,null,0.8171393122897602,29.3001249940703,0.8278046189942366,null,0.8171393122897602,49.93074606608958,0.8278046189942372,null,0.8171393122897602,15.32782684434382,0.8278046189942443,null,0.8174720899816152,19.314595376152017,0.827804618994237,0.8180803952568052,0.8195985820734889,15.333334567274854,15.761937576905,0.818051960220965,0.8230371666757352,12.898010940760098,7.403974816085417,0.8197482250326814,7.403974816085417,7.403974816085417,17.337728597416405,39.78445234002738,17.337728597416405,17.337728597416405,12.587623899940551,12.587623899940551,12.587623899940551,12.587623899940551,13.845718703918845,13.845718703918845,13.845718703918845,13.845718703918845,6.688690599288476,6.688690599288476,6.688690599288476,6.688690599288476,16.7937070728849,16.7937070728849,16.7937070728849,16.7937070728849,2.4091037520266827,2.4091037520266827,2.4091037520266827,2.4091037520266827,18.56148954023526,18.56148954023526,18.56148954023526,18.56148954023526,7.838105380955975,7.838105380955975,7.838105380955975,7.838105380955975,5.990287904225835,5.990287904225835,5.990287904225835,5.990287904225835,5.311764568800912,5.311764568800912,5.311764568800912,5.311764568800912,6.510743731998946,6.510743731998946,6.510743731998946,6.510743731998946,0.9351043951011452,0.9351043951011452,0.9351043951011452,0.9351043951011452,0.9571007201487932,0.9571007201487932,0.9571007201487932,0.9571007201487932,2.353764648441439,2.353764648441439,2.353764648441439,2.353764648441439],\"type\":\"violin\"},{\"box\":{\"visible\":false},\"meanline\":{\"visible\":true},\"name\":\"line8\",\"orientation\":\"v\",\"side\":\"positive\",\"x\":[\"line8\",\"line8\",\"line8\",\"line8\",\"line8\",\"line8\",\"line8\",\"line8\",\"line8\",\"line8\",\"line8\",\"line8\",\"line8\",\"line8\",\"line8\",\"line8\",\"line8\",\"line8\",\"line8\",\"line8\",\"line8\",\"line8\",\"line8\",\"line8\",\"line8\",\"line8\",\"line8\",\"line8\",\"line8\",\"line8\",\"line8\",\"line8\",\"line8\",\"line8\",\"line8\",\"line8\",\"line8\",\"line8\",\"line8\",\"line8\",\"line8\",\"line8\",\"line8\",\"line8\",\"line8\",\"line8\",\"line8\",\"line8\",\"line8\",\"line8\",\"line8\",\"line8\",\"line8\",\"line8\",\"line8\",\"line8\",\"line8\",\"line8\",\"line8\",\"line8\",\"line8\",\"line8\",\"line8\",\"line8\",\"line8\",\"line8\",\"line8\",\"line8\",\"line8\",\"line8\",\"line8\",\"line8\",\"line8\",\"line8\",\"line8\",\"line8\",\"line8\",\"line8\",\"line8\",\"line8\",\"line8\",\"line8\",\"line8\",\"line8\",\"line8\",\"line8\",\"line8\",\"line8\",\"line8\",\"line8\",\"line8\",\"line8\",\"line8\",\"line8\",\"line8\",\"line8\",\"line8\",\"line8\",\"line8\",\"line8\",\"line8\",\"line8\",\"line8\",\"line8\",\"line8\",\"line8\",\"line8\",\"line8\",\"line8\",\"line8\",\"line8\",\"line8\",\"line8\",\"line8\",\"line8\",\"line8\",\"line8\",\"line8\",\"line8\",\"line8\",\"line8\",\"line8\",\"line8\",\"line8\",\"line8\",\"line8\",\"line8\",\"line8\",\"line8\",\"line8\",\"line8\",\"line8\",\"line8\",\"line8\",\"line8\",\"line8\",\"line8\",\"line8\",\"line8\",\"line8\",\"line8\",\"line8\",\"line8\",\"line8\",\"line8\",\"line8\",\"line8\",\"line8\",\"line8\",\"line8\",\"line8\",\"line8\",\"line8\",\"line8\",\"line8\",\"line8\",\"line8\",\"line8\",\"line8\",\"line8\"],\"y\":[2.3235097295678084,2.3235097295678084,2.3235097295678084,2.3235097295678084,50.5602264004323,50.5602264004323,50.5602264004323,50.5602264004323,11.821831190718402,11.821831190718402,11.821831190718402,11.821831190718402,36.37088503162985,36.37088503162985,36.37088503162985,36.37088503162985,20.515524334297403,20.515524334297403,20.515524334297403,20.515524334297403,46.67603981465163,46.67603981465163,46.67603981465163,46.67603981465163,37.667513492789226,37.667513492789226,37.667513492789226,37.667513492789226,7.561266790915605,7.561266790915605,7.561266790915605,7.561266790915605,33.602137790325095,33.602137790325095,33.602137790325095,33.602137790325095,47.72432247705532,47.72432247705532,47.72432247705532,47.72432247705532,28.271956291511422,28.271956291511422,28.271956291511422,28.271956291511422,44.321794845424186,44.154736840773005,44.0883447215102,null,13.178609190163955,13.225318595618996,13.225249603885407,null,null,null,null,null,null,null,null,6.489575971622152,null,null,null,3.73643676724962,null,null,null,7.561427759028241,null,null,null,23.37340989710245,null,null,null,47.32952098909372,null,null,null,29.28988101692878,null,null,null,49.938202827994296,null,null,null,15.274285802668985,null,null,null,46.51831007879724,null,null,null,36.13347682834052,31.45336001752213,null,null,31.36509864029972,17.97691257692916,null,17.97691257692916,17.97691257692916,39.61679301997434,39.78724342543183,39.61679301997434,39.61679301997434,49.67603411366888,49.67603411366888,49.67603411366888,49.67603411366888,28.845954644105028,28.845954644105028,28.845954644105028,28.845954644105028,16.320517348986428,16.320517348986428,16.320517348986428,16.320517348986428,40.16067900495027,40.16067900495027,40.16067900495027,40.16067900495027,5.859446276625388,5.859446276625388,5.859446276625388,5.859446276625388,40.52975150062245,40.52975150062245,40.52975150062245,40.52975150062245,20.2171036911512,20.2171036911512,20.2171036911512,20.2171036911512,20.955627512519023,20.955627512519023,20.955627512519023,20.955627512519023,20.82791104501311,20.82791104501311,20.82791104501311,20.82791104501311,23.742321261783573,23.742321261783573,23.742321261783573,23.742321261783573,4.781655499813788,4.781655499813788,4.781655499813788,4.781655499813788,1.2784077189053067,1.2784077189053067,1.2784077189053067,1.2784077189053067,1.3781654490320216,1.3781654490320216,1.3781654490320216,1.3781654490320216],\"type\":\"violin\"},{\"box\":{\"visible\":false},\"meanline\":{\"visible\":true},\"name\":\"line9\",\"orientation\":\"v\",\"side\":\"positive\",\"x\":[\"line9\",\"line9\",\"line9\",\"line9\",\"line9\",\"line9\",\"line9\",\"line9\",\"line9\",\"line9\",\"line9\",\"line9\",\"line9\",\"line9\",\"line9\",\"line9\",\"line9\",\"line9\",\"line9\",\"line9\",\"line9\",\"line9\",\"line9\",\"line9\",\"line9\",\"line9\",\"line9\",\"line9\",\"line9\",\"line9\",\"line9\",\"line9\",\"line9\",\"line9\",\"line9\",\"line9\",\"line9\",\"line9\",\"line9\",\"line9\",\"line9\",\"line9\",\"line9\",\"line9\",\"line9\",\"line9\",\"line9\",\"line9\",\"line9\",\"line9\",\"line9\",\"line9\",\"line9\",\"line9\",\"line9\",\"line9\",\"line9\",\"line9\",\"line9\",\"line9\",\"line9\",\"line9\",\"line9\",\"line9\",\"line9\",\"line9\",\"line9\",\"line9\",\"line9\",\"line9\",\"line9\",\"line9\",\"line9\",\"line9\",\"line9\",\"line9\",\"line9\",\"line9\",\"line9\",\"line9\",\"line9\",\"line9\",\"line9\",\"line9\",\"line9\",\"line9\",\"line9\",\"line9\",\"line9\",\"line9\",\"line9\",\"line9\",\"line9\",\"line9\",\"line9\",\"line9\",\"line9\",\"line9\",\"line9\",\"line9\",\"line9\",\"line9\",\"line9\",\"line9\",\"line9\",\"line9\",\"line9\",\"line9\",\"line9\",\"line9\",\"line9\",\"line9\",\"line9\",\"line9\",\"line9\",\"line9\",\"line9\",\"line9\",\"line9\",\"line9\",\"line9\",\"line9\",\"line9\",\"line9\",\"line9\",\"line9\",\"line9\",\"line9\",\"line9\",\"line9\",\"line9\",\"line9\",\"line9\",\"line9\",\"line9\",\"line9\",\"line9\",\"line9\",\"line9\",\"line9\",\"line9\",\"line9\",\"line9\",\"line9\",\"line9\",\"line9\",\"line9\",\"line9\",\"line9\",\"line9\",\"line9\",\"line9\",\"line9\",\"line9\",\"line9\",\"line9\",\"line9\",\"line9\",\"line9\",\"line9\"],\"y\":[4.438029057146816,4.438029057146816,4.438029057146816,4.438029057146816,26.48673971684851,26.48673971684851,26.48673971684851,26.48673971684851,8.639388951727499,8.639388951727499,8.639388951727499,8.639388951727499,19.737257586415357,19.737257586415357,19.737257586415357,19.737257586415357,11.680807334572997,11.680807334572997,11.680807334572997,11.680807334572997,27.87949907595199,27.87949907595199,27.87949907595199,27.87949907595199,20.392832760961817,20.392832760961817,20.392832760961817,20.392832760961817,4.960381859354147,4.960381859354147,4.960381859354147,4.960381859354147,19.88782634978684,19.88782634978684,19.88782634978684,19.88782634978684,26.35717637813652,26.35717637813652,26.35717637813652,26.35717637813652,14.558858923566948,14.558858923566948,14.558858923566948,14.558858923566948,0.0,22.052986442236804,25.902410869324157,3.901027326668221,0.0,0.0,6.706508270287085,2.068030585139932,0.83425867471586,null,0.0,2.153376181332562,0.8342586747158536,null,0.0,0.0,0.8437653404493755,null,0.0,0.0,0.8437653404491074,null,0.0,0.0,0.8437653404493635,null,0.0,0.0,0.8437653404493581,null,0.0,0.0,0.8437653404493676,null,0.0,0.0,0.8437653404493696,null,0.0,0.0,0.8437653404493692,null,0.0,0.0,0.8437653404493617,null,0.0,27.34326327688112,0.843765340449369,0.0,0.0,20.85588454475263,15.735163095916304,0.0,0.0,18.60384138009457,10.70842739854077,0.0,10.70842739854077,10.70842739854077,22.320282918238703,0.0,22.320282918238703,22.320282918238703,38.158743742689495,38.158743742689495,38.158743742689495,38.158743742689495,15.058940662562978,15.058940662562978,15.058940662562978,15.058940662562978,9.796185462453746,9.796185462453746,9.796185462453746,9.796185462453746,23.46205376549258,23.46205376549258,23.46205376549258,23.46205376549258,3.924793684068914,3.924793684068914,3.924793684068914,3.924793684068914,21.975858605116954,21.975858605116954,21.975858605116954,21.975858605116954,12.69396025411192,12.69396025411192,12.69396025411192,12.69396025411192,15.663557050078111,15.663557050078111,15.663557050078111,15.663557050078111,16.30970231102118,16.30970231102118,16.30970231102118,16.30970231102118,17.9409748562387,17.9409748562387,17.9409748562387,17.9409748562387,4.888961601948467,4.888961601948467,4.888961601948467,4.888961601948467,2.8521361162200964,2.8521361162200964,2.8521361162200964,2.8521361162200964,4.267253673902641,4.267253673902641,4.267253673902641,4.267253673902641],\"type\":\"violin\"}],                        {\"template\":{\"data\":{\"histogram2dcontour\":[{\"type\":\"histogram2dcontour\",\"colorbar\":{\"outlinewidth\":0,\"ticks\":\"\"},\"colorscale\":[[0.0,\"#0d0887\"],[0.1111111111111111,\"#46039f\"],[0.2222222222222222,\"#7201a8\"],[0.3333333333333333,\"#9c179e\"],[0.4444444444444444,\"#bd3786\"],[0.5555555555555556,\"#d8576b\"],[0.6666666666666666,\"#ed7953\"],[0.7777777777777778,\"#fb9f3a\"],[0.8888888888888888,\"#fdca26\"],[1.0,\"#f0f921\"]]}],\"choropleth\":[{\"type\":\"choropleth\",\"colorbar\":{\"outlinewidth\":0,\"ticks\":\"\"}}],\"histogram2d\":[{\"type\":\"histogram2d\",\"colorbar\":{\"outlinewidth\":0,\"ticks\":\"\"},\"colorscale\":[[0.0,\"#0d0887\"],[0.1111111111111111,\"#46039f\"],[0.2222222222222222,\"#7201a8\"],[0.3333333333333333,\"#9c179e\"],[0.4444444444444444,\"#bd3786\"],[0.5555555555555556,\"#d8576b\"],[0.6666666666666666,\"#ed7953\"],[0.7777777777777778,\"#fb9f3a\"],[0.8888888888888888,\"#fdca26\"],[1.0,\"#f0f921\"]]}],\"heatmap\":[{\"type\":\"heatmap\",\"colorbar\":{\"outlinewidth\":0,\"ticks\":\"\"},\"colorscale\":[[0.0,\"#0d0887\"],[0.1111111111111111,\"#46039f\"],[0.2222222222222222,\"#7201a8\"],[0.3333333333333333,\"#9c179e\"],[0.4444444444444444,\"#bd3786\"],[0.5555555555555556,\"#d8576b\"],[0.6666666666666666,\"#ed7953\"],[0.7777777777777778,\"#fb9f3a\"],[0.8888888888888888,\"#fdca26\"],[1.0,\"#f0f921\"]]}],\"heatmapgl\":[{\"type\":\"heatmapgl\",\"colorbar\":{\"outlinewidth\":0,\"ticks\":\"\"},\"colorscale\":[[0.0,\"#0d0887\"],[0.1111111111111111,\"#46039f\"],[0.2222222222222222,\"#7201a8\"],[0.3333333333333333,\"#9c179e\"],[0.4444444444444444,\"#bd3786\"],[0.5555555555555556,\"#d8576b\"],[0.6666666666666666,\"#ed7953\"],[0.7777777777777778,\"#fb9f3a\"],[0.8888888888888888,\"#fdca26\"],[1.0,\"#f0f921\"]]}],\"contourcarpet\":[{\"type\":\"contourcarpet\",\"colorbar\":{\"outlinewidth\":0,\"ticks\":\"\"}}],\"contour\":[{\"type\":\"contour\",\"colorbar\":{\"outlinewidth\":0,\"ticks\":\"\"},\"colorscale\":[[0.0,\"#0d0887\"],[0.1111111111111111,\"#46039f\"],[0.2222222222222222,\"#7201a8\"],[0.3333333333333333,\"#9c179e\"],[0.4444444444444444,\"#bd3786\"],[0.5555555555555556,\"#d8576b\"],[0.6666666666666666,\"#ed7953\"],[0.7777777777777778,\"#fb9f3a\"],[0.8888888888888888,\"#fdca26\"],[1.0,\"#f0f921\"]]}],\"surface\":[{\"type\":\"surface\",\"colorbar\":{\"outlinewidth\":0,\"ticks\":\"\"},\"colorscale\":[[0.0,\"#0d0887\"],[0.1111111111111111,\"#46039f\"],[0.2222222222222222,\"#7201a8\"],[0.3333333333333333,\"#9c179e\"],[0.4444444444444444,\"#bd3786\"],[0.5555555555555556,\"#d8576b\"],[0.6666666666666666,\"#ed7953\"],[0.7777777777777778,\"#fb9f3a\"],[0.8888888888888888,\"#fdca26\"],[1.0,\"#f0f921\"]]}],\"mesh3d\":[{\"type\":\"mesh3d\",\"colorbar\":{\"outlinewidth\":0,\"ticks\":\"\"}}],\"scatter\":[{\"fillpattern\":{\"fillmode\":\"overlay\",\"size\":10,\"solidity\":0.2},\"type\":\"scatter\"}],\"parcoords\":[{\"type\":\"parcoords\",\"line\":{\"colorbar\":{\"outlinewidth\":0,\"ticks\":\"\"}}}],\"scatterpolargl\":[{\"type\":\"scatterpolargl\",\"marker\":{\"colorbar\":{\"outlinewidth\":0,\"ticks\":\"\"}}}],\"bar\":[{\"error_x\":{\"color\":\"#2a3f5f\"},\"error_y\":{\"color\":\"#2a3f5f\"},\"marker\":{\"line\":{\"color\":\"#E5ECF6\",\"width\":0.5},\"pattern\":{\"fillmode\":\"overlay\",\"size\":10,\"solidity\":0.2}},\"type\":\"bar\"}],\"scattergeo\":[{\"type\":\"scattergeo\",\"marker\":{\"colorbar\":{\"outlinewidth\":0,\"ticks\":\"\"}}}],\"scatterpolar\":[{\"type\":\"scatterpolar\",\"marker\":{\"colorbar\":{\"outlinewidth\":0,\"ticks\":\"\"}}}],\"histogram\":[{\"marker\":{\"pattern\":{\"fillmode\":\"overlay\",\"size\":10,\"solidity\":0.2}},\"type\":\"histogram\"}],\"scattergl\":[{\"type\":\"scattergl\",\"marker\":{\"colorbar\":{\"outlinewidth\":0,\"ticks\":\"\"}}}],\"scatter3d\":[{\"type\":\"scatter3d\",\"line\":{\"colorbar\":{\"outlinewidth\":0,\"ticks\":\"\"}},\"marker\":{\"colorbar\":{\"outlinewidth\":0,\"ticks\":\"\"}}}],\"scattermapbox\":[{\"type\":\"scattermapbox\",\"marker\":{\"colorbar\":{\"outlinewidth\":0,\"ticks\":\"\"}}}],\"scatterternary\":[{\"type\":\"scatterternary\",\"marker\":{\"colorbar\":{\"outlinewidth\":0,\"ticks\":\"\"}}}],\"scattercarpet\":[{\"type\":\"scattercarpet\",\"marker\":{\"colorbar\":{\"outlinewidth\":0,\"ticks\":\"\"}}}],\"carpet\":[{\"aaxis\":{\"endlinecolor\":\"#2a3f5f\",\"gridcolor\":\"white\",\"linecolor\":\"white\",\"minorgridcolor\":\"white\",\"startlinecolor\":\"#2a3f5f\"},\"baxis\":{\"endlinecolor\":\"#2a3f5f\",\"gridcolor\":\"white\",\"linecolor\":\"white\",\"minorgridcolor\":\"white\",\"startlinecolor\":\"#2a3f5f\"},\"type\":\"carpet\"}],\"table\":[{\"cells\":{\"fill\":{\"color\":\"#EBF0F8\"},\"line\":{\"color\":\"white\"}},\"header\":{\"fill\":{\"color\":\"#C8D4E3\"},\"line\":{\"color\":\"white\"}},\"type\":\"table\"}],\"barpolar\":[{\"marker\":{\"line\":{\"color\":\"#E5ECF6\",\"width\":0.5},\"pattern\":{\"fillmode\":\"overlay\",\"size\":10,\"solidity\":0.2}},\"type\":\"barpolar\"}],\"pie\":[{\"automargin\":true,\"type\":\"pie\"}]},\"layout\":{\"autotypenumbers\":\"strict\",\"colorway\":[\"#636efa\",\"#EF553B\",\"#00cc96\",\"#ab63fa\",\"#FFA15A\",\"#19d3f3\",\"#FF6692\",\"#B6E880\",\"#FF97FF\",\"#FECB52\"],\"font\":{\"color\":\"#2a3f5f\"},\"hovermode\":\"closest\",\"hoverlabel\":{\"align\":\"left\"},\"paper_bgcolor\":\"white\",\"plot_bgcolor\":\"#E5ECF6\",\"polar\":{\"bgcolor\":\"#E5ECF6\",\"angularaxis\":{\"gridcolor\":\"white\",\"linecolor\":\"white\",\"ticks\":\"\"},\"radialaxis\":{\"gridcolor\":\"white\",\"linecolor\":\"white\",\"ticks\":\"\"}},\"ternary\":{\"bgcolor\":\"#E5ECF6\",\"aaxis\":{\"gridcolor\":\"white\",\"linecolor\":\"white\",\"ticks\":\"\"},\"baxis\":{\"gridcolor\":\"white\",\"linecolor\":\"white\",\"ticks\":\"\"},\"caxis\":{\"gridcolor\":\"white\",\"linecolor\":\"white\",\"ticks\":\"\"}},\"coloraxis\":{\"colorbar\":{\"outlinewidth\":0,\"ticks\":\"\"}},\"colorscale\":{\"sequential\":[[0.0,\"#0d0887\"],[0.1111111111111111,\"#46039f\"],[0.2222222222222222,\"#7201a8\"],[0.3333333333333333,\"#9c179e\"],[0.4444444444444444,\"#bd3786\"],[0.5555555555555556,\"#d8576b\"],[0.6666666666666666,\"#ed7953\"],[0.7777777777777778,\"#fb9f3a\"],[0.8888888888888888,\"#fdca26\"],[1.0,\"#f0f921\"]],\"sequentialminus\":[[0.0,\"#0d0887\"],[0.1111111111111111,\"#46039f\"],[0.2222222222222222,\"#7201a8\"],[0.3333333333333333,\"#9c179e\"],[0.4444444444444444,\"#bd3786\"],[0.5555555555555556,\"#d8576b\"],[0.6666666666666666,\"#ed7953\"],[0.7777777777777778,\"#fb9f3a\"],[0.8888888888888888,\"#fdca26\"],[1.0,\"#f0f921\"]],\"diverging\":[[0,\"#8e0152\"],[0.1,\"#c51b7d\"],[0.2,\"#de77ae\"],[0.3,\"#f1b6da\"],[0.4,\"#fde0ef\"],[0.5,\"#f7f7f7\"],[0.6,\"#e6f5d0\"],[0.7,\"#b8e186\"],[0.8,\"#7fbc41\"],[0.9,\"#4d9221\"],[1,\"#276419\"]]},\"xaxis\":{\"gridcolor\":\"white\",\"linecolor\":\"white\",\"ticks\":\"\",\"title\":{\"standoff\":15},\"zerolinecolor\":\"white\",\"automargin\":true,\"zerolinewidth\":2},\"yaxis\":{\"gridcolor\":\"white\",\"linecolor\":\"white\",\"ticks\":\"\",\"title\":{\"standoff\":15},\"zerolinecolor\":\"white\",\"automargin\":true,\"zerolinewidth\":2},\"scene\":{\"xaxis\":{\"backgroundcolor\":\"#E5ECF6\",\"gridcolor\":\"white\",\"linecolor\":\"white\",\"showbackground\":true,\"ticks\":\"\",\"zerolinecolor\":\"white\",\"gridwidth\":2},\"yaxis\":{\"backgroundcolor\":\"#E5ECF6\",\"gridcolor\":\"white\",\"linecolor\":\"white\",\"showbackground\":true,\"ticks\":\"\",\"zerolinecolor\":\"white\",\"gridwidth\":2},\"zaxis\":{\"backgroundcolor\":\"#E5ECF6\",\"gridcolor\":\"white\",\"linecolor\":\"white\",\"showbackground\":true,\"ticks\":\"\",\"zerolinecolor\":\"white\",\"gridwidth\":2}},\"shapedefaults\":{\"line\":{\"color\":\"#2a3f5f\"}},\"annotationdefaults\":{\"arrowcolor\":\"#2a3f5f\",\"arrowhead\":0,\"arrowwidth\":1},\"geo\":{\"bgcolor\":\"white\",\"landcolor\":\"#E5ECF6\",\"subunitcolor\":\"white\",\"showland\":true,\"showlakes\":true,\"lakecolor\":\"white\"},\"title\":{\"x\":0.05},\"mapbox\":{\"style\":\"light\"}}},\"yaxis\":{\"range\":[0,null]},\"width\":1000,\"height\":500},                        {\"responsive\": true}                    ).then(function(){\n",
       "                            \n",
       "var gd = document.getElementById('e06a45af-95b6-48fc-96f8-ee373deafb2d');\n",
       "var x = new MutationObserver(function (mutations, observer) {{\n",
       "        var display = window.getComputedStyle(gd).display;\n",
       "        if (!display || display === 'none') {{\n",
       "            console.log([gd, 'removed!']);\n",
       "            Plotly.purge(gd);\n",
       "            observer.disconnect();\n",
       "        }}\n",
       "}});\n",
       "\n",
       "// Listen for the removal of the full notebook cells\n",
       "var notebookContainer = gd.closest('#notebook-container');\n",
       "if (notebookContainer) {{\n",
       "    x.observe(notebookContainer, {childList: true});\n",
       "}}\n",
       "\n",
       "// Listen for the clearing of the current output cell\n",
       "var outputEl = gd.closest('.output');\n",
       "if (outputEl) {{\n",
       "    x.observe(outputEl, {childList: true});\n",
       "}}\n",
       "\n",
       "                        })                };                });            </script>        </div>"
      ]
     },
     "metadata": {},
     "output_type": "display_data"
    }
   ],
   "source": [
    "df_line = group_by(filter(df, type = 'line'), 'mean','strata', 'iteration', 'field','id') # mean in this case does not have any effect as the groupying levels are the initial ones\n",
    "df_line = invert(df_line)\n",
    "# df_line = df_line.loc[df_line.index > '2022-01-01 12:00:00']\n",
    "\n",
    "fig = go.Figure() # --> put in a function (?)\n",
    "\n",
    "ids = df_line['id'].drop_duplicates().to_list()\n",
    "\n",
    "for id in ids:\n",
    "    fig.add_trace(go.Violin(x=df_line['id'][df_line['id'] == id],\n",
    "                            y=df_line['loading_percent'][df_line['id'] == id],\n",
    "                            name=id,\n",
    "                            box_visible=False,\n",
    "                            meanline_visible=True,\n",
    "                            side='positive',\n",
    "                            orientation = 'v'\n",
    "                           )\n",
    "                 )\n",
    "fig.update_layout(width=1000, height=500, yaxis=dict(range=[0, None]))\n",
    "fig.show()"
   ]
  },
  {
   "cell_type": "code",
   "execution_count": 48,
   "id": "convertible-creation",
   "metadata": {},
   "outputs": [
    {
     "data": {
      "application/vnd.plotly.v1+json": {
       "config": {
        "plotlyServerURL": "https://plot.ly"
       },
       "data": [
        {
         "meanline": {
          "visible": true
         },
         "name": "bus1",
         "orientation": "v",
         "side": "positive",
         "type": "violin",
         "x": [
          "bus1",
          "bus1",
          "bus1",
          "bus1",
          "bus1",
          "bus1",
          "bus1",
          "bus1",
          "bus1",
          "bus1",
          "bus1",
          "bus1",
          "bus1",
          "bus1",
          "bus1",
          "bus1",
          "bus1",
          "bus1",
          "bus1",
          "bus1",
          "bus1",
          "bus1",
          "bus1",
          "bus1",
          "bus1",
          "bus1",
          "bus1",
          "bus1",
          "bus1",
          "bus1",
          "bus1",
          "bus1",
          "bus1",
          "bus1",
          "bus1",
          "bus1",
          "bus1",
          "bus1",
          "bus1",
          "bus1",
          "bus1",
          "bus1",
          "bus1",
          "bus1",
          "bus1",
          "bus1",
          "bus1",
          "bus1",
          "bus1",
          "bus1",
          "bus1",
          "bus1",
          "bus1",
          "bus1",
          "bus1",
          "bus1",
          "bus1",
          "bus1",
          "bus1",
          "bus1",
          "bus1",
          "bus1",
          "bus1",
          "bus1",
          "bus1",
          "bus1",
          "bus1",
          "bus1",
          "bus1",
          "bus1",
          "bus1",
          "bus1",
          "bus1",
          "bus1",
          "bus1",
          "bus1",
          "bus1",
          "bus1",
          "bus1",
          "bus1",
          "bus1",
          "bus1",
          "bus1",
          "bus1",
          "bus1",
          "bus1",
          "bus1",
          "bus1",
          "bus1",
          "bus1",
          "bus1",
          "bus1",
          "bus1",
          "bus1",
          "bus1",
          "bus1",
          "bus1",
          "bus1",
          "bus1",
          "bus1",
          "bus1",
          "bus1",
          "bus1",
          "bus1",
          "bus1",
          "bus1",
          "bus1",
          "bus1",
          "bus1",
          "bus1",
          "bus1",
          "bus1",
          "bus1",
          "bus1",
          "bus1",
          "bus1",
          "bus1",
          "bus1",
          "bus1",
          "bus1",
          "bus1",
          "bus1",
          "bus1",
          "bus1",
          "bus1",
          "bus1",
          "bus1",
          "bus1",
          "bus1",
          "bus1",
          "bus1",
          "bus1",
          "bus1",
          "bus1",
          "bus1",
          "bus1",
          "bus1",
          "bus1",
          "bus1",
          "bus1",
          "bus1",
          "bus1",
          "bus1",
          "bus1",
          "bus1",
          "bus1",
          "bus1",
          "bus1",
          "bus1",
          "bus1",
          "bus1",
          "bus1",
          "bus1",
          "bus1",
          "bus1",
          "bus1",
          "bus1",
          "bus1",
          "bus1",
          "bus1"
         ],
         "y": [
          1.0000000000000009,
          1.0000000000000009,
          1.0000000000000009,
          1.0000000000000009,
          1.0000000000000002,
          1.0000000000000002,
          1.0000000000000002,
          1.0000000000000002,
          1,
          1,
          1,
          1,
          1,
          1,
          1,
          1,
          1.0000000000000002,
          1.0000000000000002,
          1.0000000000000002,
          1.0000000000000002,
          1.0000000000000004,
          1.0000000000000004,
          1.0000000000000004,
          1.0000000000000004,
          1.0000000000000002,
          1.0000000000000002,
          1.0000000000000002,
          1.0000000000000002,
          1,
          1,
          1,
          1,
          1.0000000000000016,
          1.0000000000000016,
          1.0000000000000016,
          1.0000000000000016,
          1.0000000000000002,
          1.0000000000000002,
          1.0000000000000002,
          1.0000000000000002,
          1,
          1,
          1,
          1,
          1.0000000000000002,
          1.0000000000000004,
          1.0000000000000002,
          1.0000000000000002,
          1.0000000000000002,
          1.0000000000000002,
          1.0000000000000004,
          1.0000000000000002,
          1,
          1,
          1.0000000000000002,
          1,
          1.0000000099741932,
          1.0000000099741932,
          1.0000000000000002,
          1.0000000099741932,
          1.000000009975422,
          1.000000009728711,
          1.0000000099754212,
          1.0000000099741968,
          1.000000009975092,
          1.0000000099741968,
          1.0000000098449575,
          1.000000009975092,
          1,
          1,
          1,
          1,
          1,
          1,
          1,
          1,
          1.0000000000000002,
          1,
          1,
          1,
          1.0000000000000004,
          1.0000000000000009,
          1.0000000000000004,
          1.0000000000000002,
          1.0000000000000002,
          1.0000000000000004,
          1.0000000000000004,
          1.0000000000000002,
          1,
          1,
          1,
          1,
          1.0000000000000004,
          1.0000000000000002,
          1.0000000000000002,
          1.0000000000000002,
          1.0000000000000009,
          1.0000000000000004,
          1.0000000000000004,
          1.0000000000000004,
          1,
          1,
          1,
          1,
          1,
          1,
          1,
          1,
          1.000000000000001,
          1.000000000000001,
          1.000000000000001,
          1.000000000000001,
          1,
          1,
          1,
          1,
          1.0000000000000004,
          1.0000000000000004,
          1.0000000000000004,
          1.0000000000000004,
          1.0000000000000004,
          1.0000000000000004,
          1.0000000000000004,
          1.0000000000000004,
          1.0000000000000004,
          1.0000000000000004,
          1.0000000000000004,
          1.0000000000000004,
          1,
          1,
          1,
          1,
          1.0000000000000004,
          1.0000000000000004,
          1.0000000000000004,
          1.0000000000000004,
          1.0000000000000004,
          1.0000000000000004,
          1.0000000000000004,
          1.0000000000000004,
          1.0000000000000009,
          1.0000000000000009,
          1.0000000000000009,
          1.0000000000000009,
          1.0000000000000004,
          1.0000000000000004,
          1.0000000000000004,
          1.0000000000000004,
          1.0000000000000002,
          1.0000000000000002,
          1.0000000000000002,
          1.0000000000000002,
          1.0000000000000002,
          1.0000000000000002,
          1.0000000000000002,
          1.0000000000000002,
          1.0000000000000002,
          1.0000000000000002,
          1.0000000000000002,
          1.0000000000000002
         ]
        },
        {
         "meanline": {
          "visible": true
         },
         "name": "bus10",
         "orientation": "v",
         "side": "positive",
         "type": "violin",
         "x": [
          "bus10",
          "bus10",
          "bus10",
          "bus10",
          "bus10",
          "bus10",
          "bus10",
          "bus10",
          "bus10",
          "bus10",
          "bus10",
          "bus10",
          "bus10",
          "bus10",
          "bus10",
          "bus10",
          "bus10",
          "bus10",
          "bus10",
          "bus10",
          "bus10",
          "bus10",
          "bus10",
          "bus10",
          "bus10",
          "bus10",
          "bus10",
          "bus10",
          "bus10",
          "bus10",
          "bus10",
          "bus10",
          "bus10",
          "bus10",
          "bus10",
          "bus10",
          "bus10",
          "bus10",
          "bus10",
          "bus10",
          "bus10",
          "bus10",
          "bus10",
          "bus10",
          "bus10",
          "bus10",
          "bus10",
          "bus10",
          "bus10",
          "bus10",
          "bus10",
          "bus10",
          "bus10",
          "bus10",
          "bus10",
          "bus10",
          "bus10",
          "bus10",
          "bus10",
          "bus10",
          "bus10",
          "bus10",
          "bus10",
          "bus10",
          "bus10",
          "bus10",
          "bus10",
          "bus10",
          "bus10",
          "bus10",
          "bus10",
          "bus10",
          "bus10",
          "bus10",
          "bus10",
          "bus10",
          "bus10",
          "bus10",
          "bus10",
          "bus10",
          "bus10",
          "bus10",
          "bus10",
          "bus10",
          "bus10",
          "bus10",
          "bus10",
          "bus10",
          "bus10",
          "bus10",
          "bus10",
          "bus10",
          "bus10",
          "bus10",
          "bus10",
          "bus10",
          "bus10",
          "bus10",
          "bus10",
          "bus10",
          "bus10",
          "bus10",
          "bus10",
          "bus10",
          "bus10",
          "bus10",
          "bus10",
          "bus10",
          "bus10",
          "bus10",
          "bus10",
          "bus10",
          "bus10",
          "bus10",
          "bus10",
          "bus10",
          "bus10",
          "bus10",
          "bus10",
          "bus10",
          "bus10",
          "bus10",
          "bus10",
          "bus10",
          "bus10",
          "bus10",
          "bus10",
          "bus10",
          "bus10",
          "bus10",
          "bus10",
          "bus10",
          "bus10",
          "bus10",
          "bus10",
          "bus10",
          "bus10",
          "bus10",
          "bus10",
          "bus10",
          "bus10",
          "bus10",
          "bus10",
          "bus10",
          "bus10",
          "bus10",
          "bus10",
          "bus10",
          "bus10",
          "bus10",
          "bus10",
          "bus10",
          "bus10",
          "bus10",
          "bus10",
          "bus10",
          "bus10",
          "bus10",
          "bus10",
          "bus10"
         ],
         "y": [
          0.9853057920510876,
          0.9853057920510876,
          0.9853057920510876,
          0.9853057920510876,
          0.9959226594741516,
          0.9959226594741516,
          0.9959226594741516,
          0.9959226594741516,
          1.000900796084789,
          1.000900796084789,
          1.000900796084789,
          1.000900796084789,
          1.0005363499265338,
          1.0005363499265338,
          1.0005363499265338,
          1.0005363499265338,
          0.9998198243448916,
          0.9998198243448916,
          0.9998198243448916,
          0.9998198243448916,
          0.98776898812531,
          0.98776898812531,
          0.98776898812531,
          0.98776898812531,
          0.9958956477890024,
          0.9958956477890024,
          0.9958956477890024,
          0.9958956477890024,
          1.0011822864849889,
          1.0011822864849889,
          1.0011822864849889,
          1.0011822864849889,
          0.9864877045769505,
          0.9864877045769505,
          0.9864877045769505,
          0.9864877045769505,
          0.9995781562622984,
          0.9995781562622984,
          0.9995781562622984,
          0.9995781562622984,
          1.0020131861095136,
          1.0020131861095136,
          1.0020131861095136,
          1.0020131861095136,
          0.9973690229549252,
          0.9981553548237916,
          0.9949570850505148,
          0.9950877839590456,
          0.9997964662412224,
          0.9940453602146812,
          1.0001607615554953,
          0.9907198603636276,
          1.000209762179341,
          1.001483999980139,
          1.0001607622525766,
          1.0002097621793418,
          1.000160763229952,
          1.000160763229952,
          0.9881528904512886,
          1.0002097689030272,
          0.9879745901492666,
          null,
          0.9882775878606168,
          1.0001607625704951,
          0.981676684926342,
          null,
          0.981980915539972,
          0.981676684926342,
          0.9957731423219146,
          1.0001607609871217,
          0.9966408045462424,
          0.9957727621503925,
          0.9974705083370804,
          0.9974706544917266,
          0.9984342127514718,
          0.9974706840097548,
          1.0028161903661292,
          0.9979810680322564,
          1.0001790676725557,
          0.998291739151246,
          0.9871840617714968,
          0.9835617947656804,
          0.9871840617712428,
          0.9914910423462696,
          0.9932282679473616,
          0.9889387847377848,
          0.9889387855105278,
          0.9923808895531022,
          1.0016987228896854,
          1.00200303685563,
          1.0020030368567998,
          1.0018111518499686,
          0.9968896379211972,
          0.9918201109356198,
          0.99426684188973,
          0.9952551560299272,
          0.9956964308565868,
          0.9901053706332638,
          0.993961321428692,
          0.9941263374885544,
          1.0000313304791035,
          0.9999085035553632,
          1.0000313304791035,
          1.0000313304791035,
          1.0026875769964256,
          1.0034562972587937,
          1.0026875769964256,
          1.0026875769964256,
          0.9841496751470916,
          0.9841496751470916,
          0.9841496751470916,
          0.9841496751470916,
          1.000689232076003,
          1.000689232076003,
          1.000689232076003,
          1.000689232076003,
          0.989723163612954,
          0.989723163612954,
          0.989723163612954,
          0.989723163612954,
          0.9965915134288074,
          0.9965915134288074,
          0.9965915134288074,
          0.9965915134288074,
          0.9928671259709736,
          0.9928671259709736,
          0.9928671259709736,
          0.9928671259709736,
          1.0005095360752916,
          1.0005095360752916,
          1.0005095360752916,
          1.0005095360752916,
          0.9914434665584864,
          0.9914434665584864,
          0.9914434665584864,
          0.9914434665584864,
          0.9898467701355792,
          0.9898467701355792,
          0.9898467701355792,
          0.9898467701355792,
          0.9865804007636472,
          0.9865804007636472,
          0.9865804007636472,
          0.9865804007636472,
          0.9880236254875132,
          0.9880236254875132,
          0.9880236254875132,
          0.9880236254875132,
          0.9924464443537676,
          0.9924464443537676,
          0.9924464443537676,
          0.9924464443537676,
          1.0014391218364835,
          1.0014391218364835,
          1.0014391218364835,
          1.0014391218364835,
          0.9991152495850628,
          0.9991152495850628,
          0.9991152495850628,
          0.9991152495850628
         ]
        },
        {
         "meanline": {
          "visible": true
         },
         "name": "bus11",
         "orientation": "v",
         "side": "positive",
         "type": "violin",
         "x": [
          "bus11",
          "bus11",
          "bus11",
          "bus11",
          "bus11",
          "bus11",
          "bus11",
          "bus11",
          "bus11",
          "bus11",
          "bus11",
          "bus11",
          "bus11",
          "bus11",
          "bus11",
          "bus11",
          "bus11",
          "bus11",
          "bus11",
          "bus11",
          "bus11",
          "bus11",
          "bus11",
          "bus11",
          "bus11",
          "bus11",
          "bus11",
          "bus11",
          "bus11",
          "bus11",
          "bus11",
          "bus11",
          "bus11",
          "bus11",
          "bus11",
          "bus11",
          "bus11",
          "bus11",
          "bus11",
          "bus11",
          "bus11",
          "bus11",
          "bus11",
          "bus11",
          "bus11",
          "bus11",
          "bus11",
          "bus11",
          "bus11",
          "bus11",
          "bus11",
          "bus11",
          "bus11",
          "bus11",
          "bus11",
          "bus11",
          "bus11",
          "bus11",
          "bus11",
          "bus11",
          "bus11",
          "bus11",
          "bus11",
          "bus11",
          "bus11",
          "bus11",
          "bus11",
          "bus11",
          "bus11",
          "bus11",
          "bus11",
          "bus11",
          "bus11",
          "bus11",
          "bus11",
          "bus11",
          "bus11",
          "bus11",
          "bus11",
          "bus11",
          "bus11",
          "bus11",
          "bus11",
          "bus11",
          "bus11",
          "bus11",
          "bus11",
          "bus11",
          "bus11",
          "bus11",
          "bus11",
          "bus11",
          "bus11",
          "bus11",
          "bus11",
          "bus11",
          "bus11",
          "bus11",
          "bus11",
          "bus11",
          "bus11",
          "bus11",
          "bus11",
          "bus11",
          "bus11",
          "bus11",
          "bus11",
          "bus11",
          "bus11",
          "bus11",
          "bus11",
          "bus11",
          "bus11",
          "bus11",
          "bus11",
          "bus11",
          "bus11",
          "bus11",
          "bus11",
          "bus11",
          "bus11",
          "bus11",
          "bus11",
          "bus11",
          "bus11",
          "bus11",
          "bus11",
          "bus11",
          "bus11",
          "bus11",
          "bus11",
          "bus11",
          "bus11",
          "bus11",
          "bus11",
          "bus11",
          "bus11",
          "bus11",
          "bus11",
          "bus11",
          "bus11",
          "bus11",
          "bus11",
          "bus11",
          "bus11",
          "bus11",
          "bus11",
          "bus11",
          "bus11",
          "bus11",
          "bus11",
          "bus11",
          "bus11",
          "bus11",
          "bus11",
          "bus11",
          "bus11",
          "bus11",
          "bus11",
          "bus11"
         ],
         "y": [
          1.0098566676902958,
          1.0098566676902958,
          1.0098566676902958,
          1.0098566676902958,
          1.0069974935174584,
          1.0069974935174584,
          1.0069974935174584,
          1.0069974935174584,
          1.0028407776058343,
          1.0028407776058343,
          1.0028407776058343,
          1.0028407776058343,
          1.0016988976610754,
          1.0016988976610754,
          1.0016988976610754,
          1.0016988976610754,
          1.0055582364318243,
          1.0055582364318243,
          1.0055582364318243,
          1.0055582364318243,
          1.007029254207041,
          1.007029254207041,
          1.007029254207041,
          1.007029254207041,
          1.0044424338696292,
          1.0044424338696292,
          1.0044424338696292,
          1.0044424338696292,
          1.0038600962158637,
          1.0038600962158637,
          1.0038600962158637,
          1.0038600962158637,
          1.0174883573784377,
          1.0174883573784377,
          1.0174883573784377,
          1.0174883573784377,
          1.0037672147772758,
          1.0037672147772758,
          1.0037672147772758,
          1.0037672147772758,
          1.0049997129496984,
          1.0049997129496984,
          1.0049997129496984,
          1.0049997129496984,
          1.0044810638293955,
          1.00631555523338,
          1.002735547261857,
          1.0027756350081714,
          0.9981326984755896,
          1.0008606066817225,
          0.9998361318211212,
          1.0038206419722429,
          0.999222284748054,
          1.0008279909525846,
          0.999836132517976,
          0.9992222847480547,
          0.9998361334950344,
          0.9998361334950342,
          1.0075820176924268,
          0.9992222914651016,
          1.0247661835869528,
          null,
          1.0247231195796034,
          0.9998361328357912,
          1.0118154814044082,
          null,
          1.0117792010347004,
          1.0118154814044085,
          0.9981346086465746,
          0.999836131252932,
          0.9987513835771042,
          0.9981350891139512,
          0.9985875761251451,
          0.998588146378359,
          0.9988348435798392,
          0.9985881281318572,
          1.007416609848968,
          0.9987126157131244,
          1.001144929393798,
          0.9987898398300376,
          1.0074096309909937,
          1.0059713164472626,
          1.0074096309907448,
          1.0021504978371885,
          1.0052139969672342,
          1.0079251677630747,
          1.0079251686559063,
          1.0023498592616658,
          1.002989655827731,
          1.0031801926507953,
          1.003180192652128,
          1.003070534835547,
          1.0076284237553172,
          1.0052509882133245,
          1.0033037905076865,
          1.0045048654903428,
          1.0102523798209369,
          1.0083528929094332,
          1.006667934876767,
          1.006828736640237,
          1.0010527559127549,
          1.0009586118059537,
          1.0010527559127549,
          1.0010527559127549,
          1.0056810785632333,
          1.0062468407125125,
          1.0056810785632333,
          1.0056810785632333,
          1.011236646644823,
          1.011236646644823,
          1.011236646644823,
          1.011236646644823,
          1.0023244861881917,
          1.0023244861881917,
          1.0023244861881917,
          1.0023244861881917,
          1.004519673002492,
          1.004519673002492,
          1.004519673002492,
          1.004519673002492,
          1.007629253978217,
          1.007629253978217,
          1.007629253978217,
          1.007629253978217,
          1.0077454928524971,
          1.0077454928524971,
          1.0077454928524971,
          1.0077454928524971,
          1.0021520576150948,
          1.0021520576150948,
          1.0021520576150948,
          1.0021520576150948,
          1.014202726877404,
          1.014202726877404,
          1.014202726877404,
          1.014202726877404,
          1.0092283526768124,
          1.0092283526768124,
          1.0092283526768124,
          1.0092283526768124,
          1.0089771704145751,
          1.0089771704145751,
          1.0089771704145751,
          1.0089771704145751,
          1.0090906871830878,
          1.0090906871830878,
          1.0090906871830878,
          1.0090906871830878,
          1.00357154739815,
          1.00357154739815,
          1.00357154739815,
          1.00357154739815,
          1.0072419136117134,
          1.0072419136117134,
          1.0072419136117134,
          1.0072419136117134,
          1.0076524641686997,
          1.0076524641686997,
          1.0076524641686997,
          1.0076524641686997
         ]
        },
        {
         "meanline": {
          "visible": true
         },
         "name": "bus12",
         "orientation": "v",
         "side": "positive",
         "type": "violin",
         "x": [
          "bus12",
          "bus12",
          "bus12",
          "bus12",
          "bus12",
          "bus12",
          "bus12",
          "bus12",
          "bus12",
          "bus12",
          "bus12",
          "bus12",
          "bus12",
          "bus12",
          "bus12",
          "bus12",
          "bus12",
          "bus12",
          "bus12",
          "bus12",
          "bus12",
          "bus12",
          "bus12",
          "bus12",
          "bus12",
          "bus12",
          "bus12",
          "bus12",
          "bus12",
          "bus12",
          "bus12",
          "bus12",
          "bus12",
          "bus12",
          "bus12",
          "bus12",
          "bus12",
          "bus12",
          "bus12",
          "bus12",
          "bus12",
          "bus12",
          "bus12",
          "bus12",
          "bus12",
          "bus12",
          "bus12",
          "bus12",
          "bus12",
          "bus12",
          "bus12",
          "bus12",
          "bus12",
          "bus12",
          "bus12",
          "bus12",
          "bus12",
          "bus12",
          "bus12",
          "bus12",
          "bus12",
          "bus12",
          "bus12",
          "bus12",
          "bus12",
          "bus12",
          "bus12",
          "bus12",
          "bus12",
          "bus12",
          "bus12",
          "bus12",
          "bus12",
          "bus12",
          "bus12",
          "bus12",
          "bus12",
          "bus12",
          "bus12",
          "bus12",
          "bus12",
          "bus12",
          "bus12",
          "bus12",
          "bus12",
          "bus12",
          "bus12",
          "bus12",
          "bus12",
          "bus12",
          "bus12",
          "bus12",
          "bus12",
          "bus12",
          "bus12",
          "bus12",
          "bus12",
          "bus12",
          "bus12",
          "bus12",
          "bus12",
          "bus12",
          "bus12",
          "bus12",
          "bus12",
          "bus12",
          "bus12",
          "bus12",
          "bus12",
          "bus12",
          "bus12",
          "bus12",
          "bus12",
          "bus12",
          "bus12",
          "bus12",
          "bus12",
          "bus12",
          "bus12",
          "bus12",
          "bus12",
          "bus12",
          "bus12",
          "bus12",
          "bus12",
          "bus12",
          "bus12",
          "bus12",
          "bus12",
          "bus12",
          "bus12",
          "bus12",
          "bus12",
          "bus12",
          "bus12",
          "bus12",
          "bus12",
          "bus12",
          "bus12",
          "bus12",
          "bus12",
          "bus12",
          "bus12",
          "bus12",
          "bus12",
          "bus12",
          "bus12",
          "bus12",
          "bus12",
          "bus12",
          "bus12",
          "bus12",
          "bus12",
          "bus12",
          "bus12",
          "bus12",
          "bus12",
          "bus12",
          "bus12",
          "bus12"
         ],
         "y": [
          0.9905849017084852,
          0.9905849017084852,
          0.9905849017084852,
          0.9905849017084852,
          0.9947145692903862,
          0.9947145692903862,
          0.9947145692903862,
          0.9947145692903862,
          0.9992690801419482,
          0.9992690801419482,
          0.9992690801419482,
          0.9992690801419482,
          0.9992640789744368,
          0.9992640789744368,
          0.9992640789744368,
          0.9992640789744368,
          0.9956889573237488,
          0.9956889573237488,
          0.9956889573237488,
          0.9956889573237488,
          0.9935692429737232,
          0.9935692429737232,
          0.9935692429737232,
          0.9935692429737232,
          0.9965852596545356,
          0.9965852596545356,
          0.9965852596545356,
          0.9965852596545356,
          0.997492882078461,
          0.997492882078461,
          0.997492882078461,
          0.997492882078461,
          0.9905447329853848,
          0.9905447329853848,
          0.9905447329853848,
          0.9905447329853848,
          0.9996762636194336,
          0.9996762636194336,
          0.9996762636194336,
          0.9996762636194336,
          0.99757468489479,
          0.99757468489479,
          0.99757468489479,
          0.99757468489479,
          0.9983959195227016,
          0.999958399231602,
          0.9999626840067896,
          0.9954244783029794,
          1.0008258621178017,
          0.9967582542730044,
          0.9992005535094116,
          0.9910550767925542,
          1.000548189577508,
          1.0014909689064886,
          null,
          1.0005481895775088,
          null,
          null,
          null,
          1.0005481963034693,
          null,
          null,
          0.9886119779309532,
          1.0013954946364223,
          null,
          null,
          0.9823131750907804,
          1.0013940598883142,
          0.995900941534968,
          null,
          0.996978024364668,
          1.0013986225640965,
          1.0015976462659852,
          null,
          0.99962024473482,
          1.0013962397216631,
          0.9971958560526498,
          null,
          1.0000376353880336,
          1.00144207376644,
          0.9903547221825328,
          null,
          0.9903547221823116,
          0.9952529080508488,
          0.9941662447599876,
          0.992014044953852,
          0.9920140455041632,
          0.9958570693900778,
          0.9991012918898858,
          0.999330807084906,
          0.9993308070858596,
          0.999187350291658,
          0.9989634021344064,
          0.9953094623070337,
          0.996610873173038,
          0.997432485933326,
          0.9959994844137388,
          0.9922784330618688,
          0.994202508524033,
          0.9943364349951342,
          1.0000547729151714,
          0.99996042973054,
          1.0000547729151714,
          1.0000547729151714,
          0.9989681683243764,
          0.9995586847014988,
          0.9989681683243764,
          0.9989681683243764,
          0.9913578677450492,
          0.9913578677450492,
          0.9913578677450492,
          0.9913578677450492,
          0.9988719251976024,
          0.9988719251976024,
          0.9988719251976024,
          0.9988719251976024,
          0.9941402564747942,
          0.9941402564747942,
          0.9941402564747942,
          0.9941402564747942,
          0.9948837795157136,
          0.9948837795157136,
          0.9948837795157136,
          0.9948837795157136,
          0.9934582210742076,
          0.9934582210742076,
          0.9934582210742076,
          0.9934582210742076,
          0.9998598492836076,
          0.9998598492836076,
          0.9998598492836076,
          0.9998598492836076,
          0.9907879694077436,
          0.9907879694077436,
          0.9907879694077436,
          0.9907879694077436,
          0.9910675262698936,
          0.9910675262698936,
          0.9910675262698936,
          0.9910675262698936,
          0.9931678453383712,
          0.9931678453383712,
          0.9931678453383712,
          0.9931678453383712,
          0.9923981307542572,
          0.9923981307542572,
          0.9923981307542572,
          0.9923981307542572,
          0.9951415722330248,
          0.9951415722330248,
          0.9951415722330248,
          0.9951415722330248,
          0.9970759446576384,
          0.9970759446576384,
          0.9970759446576384,
          0.9970759446576384,
          0.9966539938265234,
          0.9966539938265234,
          0.9966539938265234,
          0.9966539938265234
         ]
        },
        {
         "meanline": {
          "visible": true
         },
         "name": "bus13",
         "orientation": "v",
         "side": "positive",
         "type": "violin",
         "x": [
          "bus13",
          "bus13",
          "bus13",
          "bus13",
          "bus13",
          "bus13",
          "bus13",
          "bus13",
          "bus13",
          "bus13",
          "bus13",
          "bus13",
          "bus13",
          "bus13",
          "bus13",
          "bus13",
          "bus13",
          "bus13",
          "bus13",
          "bus13",
          "bus13",
          "bus13",
          "bus13",
          "bus13",
          "bus13",
          "bus13",
          "bus13",
          "bus13",
          "bus13",
          "bus13",
          "bus13",
          "bus13",
          "bus13",
          "bus13",
          "bus13",
          "bus13",
          "bus13",
          "bus13",
          "bus13",
          "bus13",
          "bus13",
          "bus13",
          "bus13",
          "bus13",
          "bus13",
          "bus13",
          "bus13",
          "bus13",
          "bus13",
          "bus13",
          "bus13",
          "bus13",
          "bus13",
          "bus13",
          "bus13",
          "bus13",
          "bus13",
          "bus13",
          "bus13",
          "bus13",
          "bus13",
          "bus13",
          "bus13",
          "bus13",
          "bus13",
          "bus13",
          "bus13",
          "bus13",
          "bus13",
          "bus13",
          "bus13",
          "bus13",
          "bus13",
          "bus13",
          "bus13",
          "bus13",
          "bus13",
          "bus13",
          "bus13",
          "bus13",
          "bus13",
          "bus13",
          "bus13",
          "bus13",
          "bus13",
          "bus13",
          "bus13",
          "bus13",
          "bus13",
          "bus13",
          "bus13",
          "bus13",
          "bus13",
          "bus13",
          "bus13",
          "bus13",
          "bus13",
          "bus13",
          "bus13",
          "bus13",
          "bus13",
          "bus13",
          "bus13",
          "bus13",
          "bus13",
          "bus13",
          "bus13",
          "bus13",
          "bus13",
          "bus13",
          "bus13",
          "bus13",
          "bus13",
          "bus13",
          "bus13",
          "bus13",
          "bus13",
          "bus13",
          "bus13",
          "bus13",
          "bus13",
          "bus13",
          "bus13",
          "bus13",
          "bus13",
          "bus13",
          "bus13",
          "bus13",
          "bus13",
          "bus13",
          "bus13",
          "bus13",
          "bus13",
          "bus13",
          "bus13",
          "bus13",
          "bus13",
          "bus13",
          "bus13",
          "bus13",
          "bus13",
          "bus13",
          "bus13",
          "bus13",
          "bus13",
          "bus13",
          "bus13",
          "bus13",
          "bus13",
          "bus13",
          "bus13",
          "bus13",
          "bus13",
          "bus13",
          "bus13",
          "bus13",
          "bus13",
          "bus13",
          "bus13",
          "bus13"
         ],
         "y": [
          0.995541575228997,
          0.995541575228997,
          0.995541575228997,
          0.995541575228997,
          0.9928351422735272,
          0.9928351422735272,
          0.9928351422735272,
          0.9928351422735272,
          0.9969691012170748,
          0.9969691012170748,
          0.9969691012170748,
          0.9969691012170748,
          0.9973174718172636,
          0.9973174718172636,
          0.9973174718172636,
          0.9973174718172636,
          0.9909663698432932,
          0.9909663698432932,
          0.9909663698432932,
          0.9909663698432932,
          0.998994885075954,
          0.998994885075954,
          0.998994885075954,
          0.998994885075954,
          0.9966058259879522,
          0.9966058259879522,
          0.9966058259879522,
          0.9966058259879522,
          0.9931837581588736,
          0.9931837581588736,
          0.9931837581588736,
          0.9931837581588736,
          0.9942099788508828,
          0.9942099788508828,
          0.9942099788508828,
          0.9942099788508828,
          0.9990929974437566,
          0.9990929974437566,
          0.9990929974437566,
          0.9990929974437566,
          0.9925735492337512,
          0.9925735492337512,
          0.9925735492337512,
          0.9925735492337512,
          0.9987476665633872,
          1.001130213621516,
          0.9996105090514222,
          0.9990353197794692,
          1.0011784652568545,
          0.9988430642822772,
          0.9988486469673342,
          null,
          1.0006821110163515,
          1.0008061447040564,
          1.0006821101241483,
          null,
          1.0006964199701938,
          1.0006964199706387,
          1.0006964231924966,
          0.994475838169956,
          1.000671822046456,
          null,
          null,
          1.0010428150622053,
          1.0002833120550627,
          null,
          null,
          1.001041380819398,
          0.9955501970769548,
          null,
          null,
          1.0010459418882598,
          1.00124489549637,
          null,
          1.0001334732113418,
          1.0010435598850358,
          0.9911098539603664,
          null,
          0.9992190564146324,
          1.0010893777876075,
          0.9929569118564732,
          0.9945607305586128,
          0.9929569118562844,
          0.9984414023272096,
          0.9944323101974668,
          0.9944967506310513,
          0.9944967509539556,
          0.9987430890797774,
          0.9958753131060638,
          0.9960286683737328,
          0.996028668374457,
          0.995934356079828,
          1.0003914485731815,
          0.9981954479293776,
          0.9983082247642648,
          0.998959934305398,
          0.9956179864703756,
          0.9938070498587968,
          0.9937793135396358,
          0.9938809552378268,
          0.9993919475419212,
          0.9993267665161214,
          0.9993919475419212,
          0.9993919475419212,
          0.9946190274257436,
          0.9950266674252116,
          0.9946190274257436,
          0.9946190274257436,
          0.9985973549288916,
          0.9985973549288916,
          0.9985973549288916,
          0.9985973549288916,
          0.99638458126816,
          0.99638458126816,
          0.99638458126816,
          0.99638458126816,
          0.9980185791448244,
          0.9980185791448244,
          0.9980185791448244,
          0.9980185791448244,
          0.9925314172474063,
          0.9925314172474063,
          0.9925314172474063,
          0.9925314172474063,
          0.9933874227686608,
          0.9933874227686608,
          0.9933874227686608,
          0.9933874227686608,
          0.9985358619324156,
          0.9985358619324156,
          0.9985358619324156,
          0.9985358619324156,
          0.9894575148710364,
          0.9894575148710364,
          0.9894575148710364,
          0.9894575148710364,
          0.9916299281008198,
          0.9916299281008198,
          0.9916299281008198,
          0.9916299281008198,
          0.9995130610821042,
          0.9995130610821042,
          0.9995130610821042,
          0.9995130610821042,
          0.9963335939828952,
          0.9963335939828952,
          0.9963335939828952,
          0.9963335939828952,
          0.9972030824967854,
          0.9972030824967854,
          0.9972030824967854,
          0.9972030824967854,
          0.9921827870959768,
          0.9921827870959768,
          0.9921827870959768,
          0.9921827870959768,
          0.9935665032418858,
          0.9935665032418858,
          0.9935665032418858,
          0.9935665032418858
         ]
        },
        {
         "meanline": {
          "visible": true
         },
         "name": "bus14",
         "orientation": "v",
         "side": "positive",
         "type": "violin",
         "x": [
          "bus14",
          "bus14",
          "bus14",
          "bus14",
          "bus14",
          "bus14",
          "bus14",
          "bus14",
          "bus14",
          "bus14",
          "bus14",
          "bus14",
          "bus14",
          "bus14",
          "bus14",
          "bus14",
          "bus14",
          "bus14",
          "bus14",
          "bus14",
          "bus14",
          "bus14",
          "bus14",
          "bus14",
          "bus14",
          "bus14",
          "bus14",
          "bus14",
          "bus14",
          "bus14",
          "bus14",
          "bus14",
          "bus14",
          "bus14",
          "bus14",
          "bus14",
          "bus14",
          "bus14",
          "bus14",
          "bus14",
          "bus14",
          "bus14",
          "bus14",
          "bus14",
          "bus14",
          "bus14",
          "bus14",
          "bus14",
          "bus14",
          "bus14",
          "bus14",
          "bus14",
          "bus14",
          "bus14",
          "bus14",
          "bus14",
          "bus14",
          "bus14",
          "bus14",
          "bus14",
          "bus14",
          "bus14",
          "bus14",
          "bus14",
          "bus14",
          "bus14",
          "bus14",
          "bus14",
          "bus14",
          "bus14",
          "bus14",
          "bus14",
          "bus14",
          "bus14",
          "bus14",
          "bus14",
          "bus14",
          "bus14",
          "bus14",
          "bus14",
          "bus14",
          "bus14",
          "bus14",
          "bus14",
          "bus14",
          "bus14",
          "bus14",
          "bus14",
          "bus14",
          "bus14",
          "bus14",
          "bus14",
          "bus14",
          "bus14",
          "bus14",
          "bus14",
          "bus14",
          "bus14",
          "bus14",
          "bus14",
          "bus14",
          "bus14",
          "bus14",
          "bus14",
          "bus14",
          "bus14",
          "bus14",
          "bus14",
          "bus14",
          "bus14",
          "bus14",
          "bus14",
          "bus14",
          "bus14",
          "bus14",
          "bus14",
          "bus14",
          "bus14",
          "bus14",
          "bus14",
          "bus14",
          "bus14",
          "bus14",
          "bus14",
          "bus14",
          "bus14",
          "bus14",
          "bus14",
          "bus14",
          "bus14",
          "bus14",
          "bus14",
          "bus14",
          "bus14",
          "bus14",
          "bus14",
          "bus14",
          "bus14",
          "bus14",
          "bus14",
          "bus14",
          "bus14",
          "bus14",
          "bus14",
          "bus14",
          "bus14",
          "bus14",
          "bus14",
          "bus14",
          "bus14",
          "bus14",
          "bus14",
          "bus14",
          "bus14",
          "bus14",
          "bus14",
          "bus14",
          "bus14",
          "bus14",
          "bus14"
         ],
         "y": [
          0.9881098728057444,
          0.9881098728057444,
          0.9881098728057444,
          0.9881098728057444,
          0.982182725029166,
          0.982182725029166,
          0.982182725029166,
          0.982182725029166,
          0.9909964923019292,
          0.9909964923019292,
          0.9909964923019292,
          0.9909964923019292,
          0.9918089507135338,
          0.9918089507135338,
          0.9918089507135338,
          0.9918089507135338,
          0.9762801122943018,
          0.9762801122943018,
          0.9762801122943018,
          0.9762801122943018,
          0.9988316878225272,
          0.9988316878225272,
          0.9988316878225272,
          0.9988316878225272,
          0.9930685351023536,
          0.9930685351023536,
          0.9930685351023536,
          0.9930685351023536,
          0.9807939231576392,
          0.9807939231576392,
          0.9807939231576392,
          0.9807939231576392,
          0.9807297461982324,
          0.9807297461982324,
          0.9807297461982324,
          0.9807297461982324,
          0.9969564321149788,
          0.9969564321149788,
          0.9969564321149788,
          0.9969564321149788,
          0.9801066008055592,
          0.9801066008055592,
          0.9801066008055592,
          0.9801066008055592,
          null,
          0.99832205268742,
          0.9967968651284445,
          0.9962195965847952,
          null,
          null,
          0.9946159695016594,
          null,
          null,
          null,
          null,
          null,
          null,
          null,
          null,
          0.9847092476261238,
          null,
          null,
          null,
          null,
          0.9994270672821548,
          null,
          null,
          null,
          0.9852851748770916,
          null,
          null,
          null,
          1.0015204471133703,
          null,
          null,
          null,
          0.977664004056816,
          null,
          null,
          null,
          0.9832605424067382,
          0.98488222178002,
          0.9832605424065473,
          null,
          0.9869339960620992,
          0.9869989954337632,
          0.9869989957594684,
          null,
          0.9887065963083772,
          0.9888612240071372,
          0.9888612240078674,
          0.988766129225542,
          1.000062635947206,
          0.9978642933756756,
          0.9979771906473875,
          0.9986295958110958,
          0.9891760354767348,
          0.9873514856051202,
          0.987323540394406,
          0.9874259475324556,
          0.9966513909433644,
          0.9965859793219124,
          0.9966513909433644,
          0.9966513909433644,
          0.983608411184383,
          0.984021201424882,
          0.983608411184383,
          0.983608411184383,
          0.9923812403743938,
          0.9923812403743938,
          0.9923812403743938,
          0.9923812403743938,
          0.9889534388493711,
          0.9889534388493711,
          0.9889534388493711,
          0.9889534388493711,
          0.9970321892999758,
          0.9970321892999758,
          0.9970321892999758,
          0.9970321892999758,
          0.9829176371740124,
          0.9829176371740124,
          0.9829176371740124,
          0.9829176371740124,
          0.986809360532004,
          0.986809360532004,
          0.986809360532004,
          0.986809360532004,
          0.9957710434581712,
          0.9957710434581712,
          0.9957710434581712,
          0.9957710434581712,
          0.9764598455865524,
          0.9764598455865524,
          0.9764598455865524,
          0.9764598455865524,
          0.9791749249634965,
          0.9791749249634965,
          0.9791749249634965,
          0.9791749249634965,
          0.9986849990331962,
          0.9986849990331962,
          0.9986849990331962,
          0.9986849990331962,
          0.9893540967448132,
          0.9893540967448132,
          0.9893540967448132,
          0.9893540967448132,
          0.9951853547680768,
          0.9951853547680768,
          0.9951853547680768,
          0.9951853547680768,
          0.9807710253908384,
          0.9807710253908384,
          0.9807710253908384,
          0.9807710253908384,
          0.9843419752993564,
          0.9843419752993564,
          0.9843419752993564,
          0.9843419752993564
         ]
        },
        {
         "meanline": {
          "visible": true
         },
         "name": "bus15",
         "orientation": "v",
         "side": "positive",
         "type": "violin",
         "x": [
          "bus15",
          "bus15",
          "bus15",
          "bus15",
          "bus15",
          "bus15",
          "bus15",
          "bus15",
          "bus15",
          "bus15",
          "bus15",
          "bus15",
          "bus15",
          "bus15",
          "bus15",
          "bus15",
          "bus15",
          "bus15",
          "bus15",
          "bus15",
          "bus15",
          "bus15",
          "bus15",
          "bus15",
          "bus15",
          "bus15",
          "bus15",
          "bus15",
          "bus15",
          "bus15",
          "bus15",
          "bus15",
          "bus15",
          "bus15",
          "bus15",
          "bus15",
          "bus15",
          "bus15",
          "bus15",
          "bus15",
          "bus15",
          "bus15",
          "bus15",
          "bus15",
          "bus15",
          "bus15",
          "bus15",
          "bus15",
          "bus15",
          "bus15",
          "bus15",
          "bus15",
          "bus15",
          "bus15",
          "bus15",
          "bus15",
          "bus15",
          "bus15",
          "bus15",
          "bus15",
          "bus15",
          "bus15",
          "bus15",
          "bus15",
          "bus15",
          "bus15",
          "bus15",
          "bus15",
          "bus15",
          "bus15",
          "bus15",
          "bus15",
          "bus15",
          "bus15",
          "bus15",
          "bus15",
          "bus15",
          "bus15",
          "bus15",
          "bus15",
          "bus15",
          "bus15",
          "bus15",
          "bus15",
          "bus15",
          "bus15",
          "bus15",
          "bus15",
          "bus15",
          "bus15",
          "bus15",
          "bus15",
          "bus15",
          "bus15",
          "bus15",
          "bus15",
          "bus15",
          "bus15",
          "bus15",
          "bus15",
          "bus15",
          "bus15",
          "bus15",
          "bus15",
          "bus15",
          "bus15",
          "bus15",
          "bus15",
          "bus15",
          "bus15",
          "bus15",
          "bus15",
          "bus15",
          "bus15",
          "bus15",
          "bus15",
          "bus15",
          "bus15",
          "bus15",
          "bus15",
          "bus15",
          "bus15",
          "bus15",
          "bus15",
          "bus15",
          "bus15",
          "bus15",
          "bus15",
          "bus15",
          "bus15",
          "bus15",
          "bus15",
          "bus15",
          "bus15",
          "bus15",
          "bus15",
          "bus15",
          "bus15",
          "bus15",
          "bus15",
          "bus15",
          "bus15",
          "bus15",
          "bus15",
          "bus15",
          "bus15",
          "bus15",
          "bus15",
          "bus15",
          "bus15",
          "bus15",
          "bus15",
          "bus15",
          "bus15",
          "bus15",
          "bus15",
          "bus15",
          "bus15",
          "bus15",
          "bus15"
         ],
         "y": [
          1.0080045603472585,
          1.0080045603472585,
          1.0080045603472585,
          1.0080045603472585,
          1.0010567464622016,
          1.0010567464622016,
          1.0010567464622016,
          1.0010567464622016,
          0.9996896873764144,
          0.9996896873764144,
          0.9996896873764144,
          0.9996896873764144,
          0.9999124833003612,
          0.9999124833003612,
          0.9999124833003612,
          0.9999124833003612,
          1.0006526875316488,
          1.0006526875316488,
          1.0006526875316488,
          1.0006526875316488,
          1.0039295741503496,
          1.0039295741503496,
          1.0039295741503496,
          1.0039295741503496,
          0.9991735565594706,
          0.9991735565594706,
          0.9991735565594706,
          0.9991735565594706,
          1.0007555499637897,
          1.0007555499637897,
          1.0007555499637897,
          1.0007555499637897,
          1.012164934342778,
          1.012164934342778,
          1.012164934342778,
          1.012164934342778,
          0.9995693970257896,
          0.9995693970257896,
          0.9995693970257896,
          0.9995693970257896,
          0.9995129254140884,
          0.9995129254140884,
          0.9995129254140884,
          0.9995129254140884,
          1.0002587959784692,
          1.004217994546159,
          1.0010457743402503,
          1.0012030036362185,
          1.000273388058922,
          1.00027986055816,
          1.0017839701232572,
          1.000273389423217,
          1.0003009257630364,
          0.9993513308387052,
          1.0003009248711732,
          1.0002808427537973,
          1.0003152292662345,
          1.000315229266679,
          1.00031523248731,
          1.0041431771566292,
          1.000290640712471,
          1.0002681361732635,
          1.000268136173267,
          0.999928170981591,
          1.0004104053239324,
          1.0002656495508355,
          1.00026564954571,
          0.9999267383357894,
          1.0050470893046506,
          1.0002726910379816,
          1.0002726913005715,
          0.9999312943259784,
          0.9994755022515484,
          1.0002693148803965,
          0.9999199387567392,
          0.999928914975074,
          0.9980191458136408,
          1.0003267531826143,
          0.997642592775522,
          0.9999746818601942,
          1.0051306692030748,
          1.0041305833660827,
          1.0051306692029198,
          1.0010628007494953,
          1.0015043149012792,
          1.0040459795312529,
          1.004045979614112,
          1.0010379375413088,
          0.9989161699845444,
          0.998988865890585,
          0.9989888658910608,
          0.99894651010169,
          1.0011116620761231,
          1.000452234152441,
          0.9992985138997436,
          0.9997740530790492,
          1.0008665778272523,
          1.001117960224284,
          0.9989759960614109,
          0.9990433844312484,
          1.000412914409394,
          1.000378372210065,
          1.000412914409394,
          1.000412914409394,
          1.0006353739852194,
          1.0008465985751516,
          1.0006353739852194,
          1.0006353739852194,
          1.0125171255739518,
          1.0125171255739518,
          1.0125171255739518,
          1.0125171255739518,
          1.000465528842264,
          1.000465528842264,
          1.000465528842264,
          1.000465528842264,
          1.0020517416927517,
          1.0020517416927517,
          1.0020517416927517,
          1.0020517416927517,
          0.9991108047488154,
          0.9991108047488154,
          0.9991108047488154,
          0.9991108047488154,
          0.9990856699528295,
          0.9990856699528295,
          0.9990856699528295,
          0.9990856699528295,
          0.99890069101533,
          0.99890069101533,
          0.99890069101533,
          0.99890069101533,
          1.0008786274158443,
          1.0008786274158443,
          1.0008786274158443,
          1.0008786274158443,
          1.0046204434966508,
          1.0046204434966508,
          1.0046204434966508,
          1.0046204434966508,
          1.0062434912444804,
          1.0062434912444804,
          1.0062434912444804,
          1.0062434912444804,
          1.0070695429015482,
          1.0070695429015482,
          1.0070695429015482,
          1.0070695429015482,
          1.0003385130447513,
          1.0003385130447513,
          1.0003385130447513,
          1.0003385130447513,
          0.9980890862177872,
          0.9980890862177872,
          0.9980890862177872,
          0.9980890862177872,
          0.9989567401321244,
          0.9989567401321244,
          0.9989567401321244,
          0.9989567401321244
         ]
        },
        {
         "meanline": {
          "visible": true
         },
         "name": "bus16",
         "orientation": "v",
         "side": "positive",
         "type": "violin",
         "x": [
          "bus16",
          "bus16",
          "bus16",
          "bus16",
          "bus16",
          "bus16",
          "bus16",
          "bus16",
          "bus16",
          "bus16",
          "bus16",
          "bus16",
          "bus16",
          "bus16",
          "bus16",
          "bus16",
          "bus16",
          "bus16",
          "bus16",
          "bus16",
          "bus16",
          "bus16",
          "bus16",
          "bus16",
          "bus16",
          "bus16",
          "bus16",
          "bus16",
          "bus16",
          "bus16",
          "bus16",
          "bus16",
          "bus16",
          "bus16",
          "bus16",
          "bus16",
          "bus16",
          "bus16",
          "bus16",
          "bus16",
          "bus16",
          "bus16",
          "bus16",
          "bus16",
          "bus16",
          "bus16",
          "bus16",
          "bus16",
          "bus16",
          "bus16",
          "bus16",
          "bus16",
          "bus16",
          "bus16",
          "bus16",
          "bus16",
          "bus16",
          "bus16",
          "bus16",
          "bus16",
          "bus16",
          "bus16",
          "bus16",
          "bus16",
          "bus16",
          "bus16",
          "bus16",
          "bus16",
          "bus16",
          "bus16",
          "bus16",
          "bus16",
          "bus16",
          "bus16",
          "bus16",
          "bus16",
          "bus16",
          "bus16",
          "bus16",
          "bus16",
          "bus16",
          "bus16",
          "bus16",
          "bus16",
          "bus16",
          "bus16",
          "bus16",
          "bus16",
          "bus16",
          "bus16",
          "bus16",
          "bus16",
          "bus16",
          "bus16",
          "bus16",
          "bus16",
          "bus16",
          "bus16",
          "bus16",
          "bus16",
          "bus16",
          "bus16",
          "bus16",
          "bus16",
          "bus16",
          "bus16",
          "bus16",
          "bus16",
          "bus16",
          "bus16",
          "bus16",
          "bus16",
          "bus16",
          "bus16",
          "bus16",
          "bus16",
          "bus16",
          "bus16",
          "bus16",
          "bus16",
          "bus16",
          "bus16",
          "bus16",
          "bus16",
          "bus16",
          "bus16",
          "bus16",
          "bus16",
          "bus16",
          "bus16",
          "bus16",
          "bus16",
          "bus16",
          "bus16",
          "bus16",
          "bus16",
          "bus16",
          "bus16",
          "bus16",
          "bus16",
          "bus16",
          "bus16",
          "bus16",
          "bus16",
          "bus16",
          "bus16",
          "bus16",
          "bus16",
          "bus16",
          "bus16",
          "bus16",
          "bus16",
          "bus16",
          "bus16",
          "bus16",
          "bus16",
          "bus16",
          "bus16",
          "bus16",
          "bus16"
         ],
         "y": [
          1.034071955745412,
          1.034071955745412,
          1.034071955745412,
          1.034071955745412,
          1.0122728103194465,
          1.0122728103194465,
          1.0122728103194465,
          1.0122728103194465,
          1.008042656598802,
          1.008042656598802,
          1.008042656598802,
          1.008042656598802,
          1.0064833328840406,
          1.0064833328840406,
          1.0064833328840406,
          1.0064833328840406,
          1.013078202948971,
          1.013078202948971,
          1.013078202948971,
          1.013078202948971,
          1.0214735467260718,
          1.0214735467260718,
          1.0214735467260718,
          1.0214735467260718,
          1.01060186995045,
          1.01060186995045,
          1.01060186995045,
          1.01060186995045,
          1.009311471098245,
          1.009311471098245,
          1.009311471098245,
          1.009311471098245,
          1.0342425476765742,
          1.0342425476765742,
          1.0342425476765742,
          1.0342425476765742,
          1.0062649051773704,
          1.0062649051773704,
          1.0062649051773704,
          1.0062649051773704,
          1.0117697090489206,
          1.0117697090489206,
          1.0117697090489206,
          1.0117697090489206,
          0.999641560702162,
          1.006557922418181,
          1.0015772517684534,
          1.0024745676221778,
          1.0041151681897236,
          1.00526191761983,
          1.0084536003542617,
          1.0041151695456656,
          1.00551005524378,
          1.0034443899243553,
          1.0055100543604416,
          1.0062614197190036,
          1.0082853563309877,
          1.0082853563314256,
          1.0082853595088128,
          1.0232017865794671,
          1.0014539545165044,
          1.0022057565945068,
          1.00220575659451,
          1.0003485185817862,
          1.001294408302252,
          1.00137996403803,
          1.0013799640329233,
          0.9995222603390016,
          1.0186741615046286,
          1.003869256092059,
          1.0038692563529852,
          1.0020136323254518,
          0.9996598252194044,
          1.0026295582026528,
          1.001679790745729,
          1.0007726634963023,
          1.0163633577041016,
          1.01163376193066,
          1.006909861966773,
          1.0097814395927458,
          1.0229853502741235,
          1.0188228857290578,
          1.022985350274001,
          1.0081185546889857,
          1.011365616649771,
          1.0167913842913867,
          1.0167913841290637,
          1.0057428330231983,
          1.0083246802541574,
          1.0083138987054527,
          1.0083138987056814,
          1.008325473932782,
          1.010098347801486,
          1.01106288551902,
          1.00851595785857,
          1.0088180776620244,
          1.0187314282965718,
          1.0213000685628435,
          1.0166694103261624,
          1.0167029716748863,
          1.0030974999222246,
          1.0030942852001743,
          1.0030974999222246,
          1.0030974999222246,
          1.0090478104561726,
          1.0090581321303986,
          1.0090478104561726,
          1.0090478104561726,
          1.0400894007437265,
          1.0400894007437265,
          1.0400894007437265,
          1.0400894007437265,
          1.0058917108626866,
          1.0058917108626866,
          1.0058917108626866,
          1.0058917108626866,
          1.0124258806148931,
          1.0124258806148931,
          1.0124258806148931,
          1.0124258806148931,
          1.017001985768233,
          1.017001985768233,
          1.017001985768233,
          1.017001985768233,
          1.0164381070495925,
          1.0164381070495925,
          1.0164381070495925,
          1.0164381070495925,
          1.007221200331068,
          1.007221200331068,
          1.007221200331068,
          1.007221200331068,
          1.0254110163321677,
          1.0254110163321677,
          1.0254110163321677,
          1.0254110163321677,
          1.0244011780925544,
          1.0244011780925544,
          1.0244011780925544,
          1.0244011780925544,
          1.0226943169634823,
          1.0226943169634823,
          1.0226943169634823,
          1.0226943169634823,
          1.021504242888982,
          1.021504242888982,
          1.021504242888982,
          1.021504242888982,
          1.011665678082197,
          1.011665678082197,
          1.011665678082197,
          1.011665678082197,
          1.014395554365438,
          1.014395554365438,
          1.014395554365438,
          1.014395554365438,
          1.013768555869461,
          1.013768555869461,
          1.013768555869461,
          1.013768555869461
         ]
        },
        {
         "meanline": {
          "visible": true
         },
         "name": "bus17",
         "orientation": "v",
         "side": "positive",
         "type": "violin",
         "x": [
          "bus17",
          "bus17",
          "bus17",
          "bus17",
          "bus17",
          "bus17",
          "bus17",
          "bus17",
          "bus17",
          "bus17",
          "bus17",
          "bus17",
          "bus17",
          "bus17",
          "bus17",
          "bus17",
          "bus17",
          "bus17",
          "bus17",
          "bus17",
          "bus17",
          "bus17",
          "bus17",
          "bus17",
          "bus17",
          "bus17",
          "bus17",
          "bus17",
          "bus17",
          "bus17",
          "bus17",
          "bus17",
          "bus17",
          "bus17",
          "bus17",
          "bus17",
          "bus17",
          "bus17",
          "bus17",
          "bus17",
          "bus17",
          "bus17",
          "bus17",
          "bus17",
          "bus17",
          "bus17",
          "bus17",
          "bus17",
          "bus17",
          "bus17",
          "bus17",
          "bus17",
          "bus17",
          "bus17",
          "bus17",
          "bus17",
          "bus17",
          "bus17",
          "bus17",
          "bus17",
          "bus17",
          "bus17",
          "bus17",
          "bus17",
          "bus17",
          "bus17",
          "bus17",
          "bus17",
          "bus17",
          "bus17",
          "bus17",
          "bus17",
          "bus17",
          "bus17",
          "bus17",
          "bus17",
          "bus17",
          "bus17",
          "bus17",
          "bus17",
          "bus17",
          "bus17",
          "bus17",
          "bus17",
          "bus17",
          "bus17",
          "bus17",
          "bus17",
          "bus17",
          "bus17",
          "bus17",
          "bus17",
          "bus17",
          "bus17",
          "bus17",
          "bus17",
          "bus17",
          "bus17",
          "bus17",
          "bus17",
          "bus17",
          "bus17",
          "bus17",
          "bus17",
          "bus17",
          "bus17",
          "bus17",
          "bus17",
          "bus17",
          "bus17",
          "bus17",
          "bus17",
          "bus17",
          "bus17",
          "bus17",
          "bus17",
          "bus17",
          "bus17",
          "bus17",
          "bus17",
          "bus17",
          "bus17",
          "bus17",
          "bus17",
          "bus17",
          "bus17",
          "bus17",
          "bus17",
          "bus17",
          "bus17",
          "bus17",
          "bus17",
          "bus17",
          "bus17",
          "bus17",
          "bus17",
          "bus17",
          "bus17",
          "bus17",
          "bus17",
          "bus17",
          "bus17",
          "bus17",
          "bus17",
          "bus17",
          "bus17",
          "bus17",
          "bus17",
          "bus17",
          "bus17",
          "bus17",
          "bus17",
          "bus17",
          "bus17",
          "bus17",
          "bus17",
          "bus17",
          "bus17",
          "bus17",
          "bus17"
         ],
         "y": [
          0.9958605018885308,
          0.9958605018885308,
          0.9958605018885308,
          0.9958605018885308,
          0.997468282238908,
          0.997468282238908,
          0.997468282238908,
          0.997468282238908,
          0.9931430530758596,
          0.9931430530758596,
          0.9931430530758596,
          0.9931430530758596,
          0.9949470860488504,
          0.9949470860488504,
          0.9949470860488504,
          0.9949470860488504,
          0.9973675359940772,
          0.9973675359940772,
          0.9973675359940772,
          0.9973675359940772,
          0.9914007626916496,
          0.9914007626916496,
          0.9914007626916496,
          0.9914007626916496,
          0.9895746513099776,
          0.9895746513099776,
          0.9895746513099776,
          0.9895746513099776,
          0.9990047141917928,
          0.9990047141917928,
          0.9990047141917928,
          0.9990047141917928,
          1.009446943017417,
          1.009446943017417,
          1.009446943017417,
          1.009446943017417,
          0.9923394358462624,
          0.9923394358462624,
          0.9923394358462624,
          0.9923394358462624,
          0.9935149088252048,
          0.9935149088252048,
          0.9935149088252048,
          0.9935149088252048,
          1.000076149629919,
          1.004039324925351,
          1.0008639199428746,
          1.001021307372865,
          0.9956610624988098,
          0.9956675712119408,
          0.9971800840256212,
          0.9956610638700988,
          0.993617464978474,
          0.9926604312867237,
          0.9936174640799068,
          0.9935972247943388,
          0.9910048001023104,
          0.99100480010276,
          0.9910048033583646,
          0.994873673466936,
          0.9975505458358054,
          0.9975279597134352,
          0.9975279597134388,
          0.9971867616763148,
          0.9984888622805964,
          0.9983437043679456,
          0.9983437043628056,
          0.9980038512420366,
          1.0006997044614665,
          0.9958999252259584,
          0.9958999254899504,
          0.9955567046728176,
          0.9963141805326104,
          0.9971112192992722,
          0.9967604238604508,
          0.9967694365566012,
          0.986274393784888,
          0.9886131639664368,
          0.9858927408617804,
          0.9882563481712396,
          0.9997852031998335,
          0.9987787596481053,
          0.9997852031996776,
          0.9956913964390972,
          0.9980594821403468,
          1.0006121944266448,
          1.0006121945098634,
          0.9975910718949238,
          0.9916569200865896,
          0.9917302314705694,
          0.9917302314710492,
          0.991687517088639,
          0.9920273774503084,
          0.9913610390599984,
          0.9901952054535348,
          0.9906757410465612,
          0.988165450188071,
          0.9884205039018176,
          0.9862471928532124,
          0.9863155696605514,
          0.9976271376077096,
          0.997592468555402,
          0.9976271376077096,
          0.9976271376077096,
          0.9974142872664692,
          0.997626383146932,
          0.9974142872664692,
          0.9974142872664692,
          1.0008079692371956,
          1.0008079692371956,
          1.0008079692371956,
          1.0008079692371956,
          0.9981434384947658,
          0.9981434384947658,
          0.9981434384947658,
          0.9981434384947658,
          0.9950501033560872,
          0.9950501033560872,
          0.9950501033560872,
          0.9950501033560872,
          0.9875673647797394,
          0.9875673647797394,
          0.9875673647797394,
          0.9875673647797394,
          0.987166297687388,
          0.987166297687388,
          0.987166297687388,
          0.987166297687388,
          0.9900007308158204,
          0.9900007308158204,
          0.9900007308158204,
          0.9900007308158204,
          0.9883682243625964,
          0.9883682243625964,
          0.9883682243625964,
          0.9883682243625964,
          0.9983106952357644,
          0.9983106952357644,
          0.9983106952357644,
          0.9983106952357644,
          0.9966350446178098,
          0.9966350446178098,
          0.9966350446178098,
          0.9966350446178098,
          1.0035230861737336,
          1.0035230861737336,
          1.0035230861737336,
          1.0035230861737336,
          0.9914602799503492,
          0.9914602799503492,
          0.9914602799503492,
          0.9914602799503492,
          0.9872253100011242,
          0.9872253100011242,
          0.9872253100011242,
          0.9872253100011242,
          0.9890186739333392,
          0.9890186739333392,
          0.9890186739333392,
          0.9890186739333392
         ]
        },
        {
         "meanline": {
          "visible": true
         },
         "name": "bus18",
         "orientation": "v",
         "side": "positive",
         "type": "violin",
         "x": [
          "bus18",
          "bus18",
          "bus18",
          "bus18",
          "bus18",
          "bus18",
          "bus18",
          "bus18",
          "bus18",
          "bus18",
          "bus18",
          "bus18",
          "bus18",
          "bus18",
          "bus18",
          "bus18",
          "bus18",
          "bus18",
          "bus18",
          "bus18",
          "bus18",
          "bus18",
          "bus18",
          "bus18",
          "bus18",
          "bus18",
          "bus18",
          "bus18",
          "bus18",
          "bus18",
          "bus18",
          "bus18",
          "bus18",
          "bus18",
          "bus18",
          "bus18",
          "bus18",
          "bus18",
          "bus18",
          "bus18",
          "bus18",
          "bus18",
          "bus18",
          "bus18",
          "bus18",
          "bus18",
          "bus18",
          "bus18",
          "bus18",
          "bus18",
          "bus18",
          "bus18",
          "bus18",
          "bus18",
          "bus18",
          "bus18",
          "bus18",
          "bus18",
          "bus18",
          "bus18",
          "bus18",
          "bus18",
          "bus18",
          "bus18",
          "bus18",
          "bus18",
          "bus18",
          "bus18",
          "bus18",
          "bus18",
          "bus18",
          "bus18",
          "bus18",
          "bus18",
          "bus18",
          "bus18",
          "bus18",
          "bus18",
          "bus18",
          "bus18",
          "bus18",
          "bus18",
          "bus18",
          "bus18",
          "bus18",
          "bus18",
          "bus18",
          "bus18",
          "bus18",
          "bus18",
          "bus18",
          "bus18",
          "bus18",
          "bus18",
          "bus18",
          "bus18",
          "bus18",
          "bus18",
          "bus18",
          "bus18",
          "bus18",
          "bus18",
          "bus18",
          "bus18",
          "bus18",
          "bus18",
          "bus18",
          "bus18",
          "bus18",
          "bus18",
          "bus18",
          "bus18",
          "bus18",
          "bus18",
          "bus18",
          "bus18",
          "bus18",
          "bus18",
          "bus18",
          "bus18",
          "bus18",
          "bus18",
          "bus18",
          "bus18",
          "bus18",
          "bus18",
          "bus18",
          "bus18",
          "bus18",
          "bus18",
          "bus18",
          "bus18",
          "bus18",
          "bus18",
          "bus18",
          "bus18",
          "bus18",
          "bus18",
          "bus18",
          "bus18",
          "bus18",
          "bus18",
          "bus18",
          "bus18",
          "bus18",
          "bus18",
          "bus18",
          "bus18",
          "bus18",
          "bus18",
          "bus18",
          "bus18",
          "bus18",
          "bus18",
          "bus18",
          "bus18",
          "bus18",
          "bus18",
          "bus18",
          "bus18"
         ],
         "y": [
          1.0036470364799808,
          1.0036470364799808,
          1.0036470364799808,
          1.0036470364799808,
          1.0079896273379343,
          1.0079896273379343,
          1.0079896273379343,
          1.0079896273379343,
          1.0049390901517974,
          1.0049390901517974,
          1.0049390901517974,
          1.0049390901517974,
          1.0063751024664171,
          1.0063751024664171,
          1.0063751024664171,
          1.0063751024664171,
          1.004538504846791,
          1.004538504846791,
          1.004538504846791,
          1.004538504846791,
          1.011979037197507,
          1.011979037197507,
          1.011979037197507,
          1.011979037197507,
          1.006651936046561,
          1.006651936046561,
          1.006651936046561,
          1.006651936046561,
          1.0022404082298355,
          1.0022404082298355,
          1.0022404082298355,
          1.0022404082298355,
          1.0071378714623178,
          1.0071378714623178,
          1.0071378714623178,
          1.0071378714623178,
          1.0088477090078645,
          1.0088477090078645,
          1.0088477090078645,
          1.0088477090078645,
          1.003977700628796,
          1.003977700628796,
          1.003977700628796,
          1.003977700628796,
          1.0000000005,
          1.0075279393025636,
          1.0098100489037396,
          1.0056923762368444,
          1.0000000005,
          1.0000000005,
          1.0018462130855317,
          1.002953900029274,
          0.9998646054668656,
          1.0000000005,
          1.0000000005,
          1.0031020477452446,
          0.9998646054668656,
          1.0000000005,
          1.0000000005,
          1.0000000005,
          0.9998978041419516,
          1.0000000005,
          1.0000000005,
          1.0000000005,
          0.9998978041419516,
          1.0000000005,
          1.0000000005,
          1.0000000005,
          0.9998978041419516,
          1.0000000005,
          1.0000000005,
          1.0000000005,
          0.9998978041419516,
          1.0000000005,
          1.0000000005,
          1.0000000005,
          0.9998978041419516,
          1.0000000005,
          1.0000000005,
          1.0000000005,
          0.9998978041419516,
          1.0000000005,
          1.0000000005,
          1.0000000005,
          0.9998978041419516,
          1.0000000005,
          1.0000000005,
          1.0000000005,
          0.9998978041419516,
          1.0000000005,
          1.0000000005,
          1.0121970211825209,
          0.9998978041419516,
          1.0000000005,
          1.0000000005,
          1.0078305959930425,
          1.0050981300127944,
          1.0000000005,
          1.0000000005,
          1.0080888248394702,
          1.0039572442206228,
          1.0000000005,
          1.0039572442206228,
          1.0039572442206228,
          1.008323607321949,
          1.0000000005,
          1.008323607321949,
          1.008323607321949,
          1.020897277335758,
          1.020897277335758,
          1.020897277335758,
          1.020897277335758,
          1.0041442603351711,
          1.0041442603351711,
          1.0041442603351711,
          1.0041442603351711,
          1.004016097455621,
          1.004016097455621,
          1.004016097455621,
          1.004016097455621,
          1.0097347203801443,
          1.0097347203801443,
          1.0097347203801443,
          1.0097347203801443,
          1.001998052580246,
          1.001998052580246,
          1.001998052580246,
          1.001998052580246,
          1.0070422896811966,
          1.0070422896811966,
          1.0070422896811966,
          1.0070422896811966,
          1.0068655423769075,
          1.0068655423769075,
          1.0068655423769075,
          1.0068655423769075,
          1.0096513046076738,
          1.0096513046076738,
          1.0096513046076738,
          1.0096513046076738,
          1.0100034216059268,
          1.0100034216059268,
          1.0100034216059268,
          1.0100034216059268,
          1.010663276976889,
          1.010663276976889,
          1.010663276976889,
          1.010663276976889,
          1.003763727969535,
          1.003763727969535,
          1.003763727969535,
          1.003763727969535,
          1.0025045945770572,
          1.0025045945770572,
          1.0025045945770572,
          1.0025045945770572,
          1.0044570896027167,
          1.0044570896027167,
          1.0044570896027167,
          1.0044570896027167
         ]
        },
        {
         "meanline": {
          "visible": true
         },
         "name": "bus2",
         "orientation": "v",
         "side": "positive",
         "type": "violin",
         "x": [
          "bus2",
          "bus2",
          "bus2",
          "bus2",
          "bus2",
          "bus2",
          "bus2",
          "bus2",
          "bus2",
          "bus2",
          "bus2",
          "bus2",
          "bus2",
          "bus2",
          "bus2",
          "bus2",
          "bus2",
          "bus2",
          "bus2",
          "bus2",
          "bus2",
          "bus2",
          "bus2",
          "bus2",
          "bus2",
          "bus2",
          "bus2",
          "bus2",
          "bus2",
          "bus2",
          "bus2",
          "bus2",
          "bus2",
          "bus2",
          "bus2",
          "bus2",
          "bus2",
          "bus2",
          "bus2",
          "bus2",
          "bus2",
          "bus2",
          "bus2",
          "bus2",
          "bus2",
          "bus2",
          "bus2",
          "bus2",
          "bus2",
          "bus2",
          "bus2",
          "bus2",
          "bus2",
          "bus2",
          "bus2",
          "bus2",
          "bus2",
          "bus2",
          "bus2",
          "bus2",
          "bus2",
          "bus2",
          "bus2",
          "bus2",
          "bus2",
          "bus2",
          "bus2",
          "bus2",
          "bus2",
          "bus2",
          "bus2",
          "bus2",
          "bus2",
          "bus2",
          "bus2",
          "bus2",
          "bus2",
          "bus2",
          "bus2",
          "bus2",
          "bus2",
          "bus2",
          "bus2",
          "bus2",
          "bus2",
          "bus2",
          "bus2",
          "bus2",
          "bus2",
          "bus2",
          "bus2",
          "bus2",
          "bus2",
          "bus2",
          "bus2",
          "bus2",
          "bus2",
          "bus2",
          "bus2",
          "bus2",
          "bus2",
          "bus2",
          "bus2",
          "bus2",
          "bus2",
          "bus2",
          "bus2",
          "bus2",
          "bus2",
          "bus2",
          "bus2",
          "bus2",
          "bus2",
          "bus2",
          "bus2",
          "bus2",
          "bus2",
          "bus2",
          "bus2",
          "bus2",
          "bus2",
          "bus2",
          "bus2",
          "bus2",
          "bus2",
          "bus2",
          "bus2",
          "bus2",
          "bus2",
          "bus2",
          "bus2",
          "bus2",
          "bus2",
          "bus2",
          "bus2",
          "bus2",
          "bus2",
          "bus2",
          "bus2",
          "bus2",
          "bus2",
          "bus2",
          "bus2",
          "bus2",
          "bus2",
          "bus2",
          "bus2",
          "bus2",
          "bus2",
          "bus2",
          "bus2",
          "bus2",
          "bus2",
          "bus2",
          "bus2",
          "bus2",
          "bus2",
          "bus2",
          "bus2",
          "bus2"
         ],
         "y": [
          0.9960989523606728,
          0.9960989523606728,
          0.9960989523606728,
          0.9960989523606728,
          0.9997956620846612,
          0.9997956620846612,
          0.9997956620846612,
          0.9997956620846612,
          0.999813949255384,
          0.999813949255384,
          0.999813949255384,
          0.999813949255384,
          0.9981093437818552,
          0.9981093437818552,
          0.9981093437818552,
          0.9981093437818552,
          0.9982335734100234,
          0.9982335734100234,
          0.9982335734100234,
          0.9982335734100234,
          0.9989082211774668,
          0.9989082211774668,
          0.9989082211774668,
          0.9989082211774668,
          0.9994915024849892,
          0.9994915024849892,
          0.9994915024849892,
          0.9994915024849892,
          0.9996709045867508,
          0.9996709045867508,
          0.9996709045867508,
          0.9996709045867508,
          0.996805476274944,
          0.996805476274944,
          0.996805476274944,
          0.996805476274944,
          0.9972470983641932,
          0.9972470983641932,
          0.9972470983641932,
          0.9972470983641932,
          0.9997950868087818,
          0.9997950868087818,
          0.9997950868087818,
          0.9997950868087818,
          1.000515095398458,
          1.0009063121694588,
          1.0001920496089978,
          1.0001078151603744,
          0.998081426655707,
          0.9984832102214484,
          0.99893852570226,
          0.9983044008460435,
          0.998505989937094,
          0.9987281787211502,
          0.9996220036766068,
          0.99850599264559,
          0.998163628787278,
          0.998163628787278,
          0.9995921397242328,
          0.9981636287872772,
          0.9985122543531754,
          0.9982164685883516,
          0.9985120765669884,
          0.9982164688354908,
          0.9980725189029328,
          0.9978591169341604,
          0.9980723786614564,
          0.9980725189029328,
          0.9990102935413748,
          0.9987315892953196,
          0.9990831252108784,
          0.9990102886607056,
          0.999701963715806,
          0.9997014715099912,
          0.9997306382569998,
          0.999701469918608,
          1.0010627416987383,
          0.999890678419036,
          1.0002081037474504,
          0.9998902877059664,
          0.9969512235441352,
          0.9967140230809284,
          0.9969512235440936,
          0.9977735520862988,
          0.9988490661030104,
          0.9979563149054624,
          0.9979563149771388,
          0.998559401526417,
          0.999915104186084,
          0.9999705835098942,
          0.9999705835077444,
          0.9999399990959188,
          1.0007226416978845,
          0.999638554161314,
          0.99994161257366,
          1.0002138091345527,
          1.0002004601014285,
          0.998944548066338,
          0.9997248588398364,
          0.999764835170132,
          1.00014181446674,
          1.000112761407956,
          1.00014181446674,
          1.00014181446674,
          1.00047608383148,
          1.0006512044106692,
          1.00047608383148,
          1.00047608383148,
          0.995970681786629,
          0.995970681786629,
          0.995970681786629,
          0.995970681786629,
          1.0007277657471896,
          1.0007277657471896,
          1.0007277657471896,
          1.0007277657471896,
          0.9964635709059864,
          0.9964635709059864,
          0.9964635709059864,
          0.9964635709059864,
          1.0001051268259844,
          1.0001051268259844,
          1.0001051268259844,
          1.0001051268259844,
          0.9982976618748866,
          0.9982976618748866,
          0.9982976618748866,
          0.9982976618748866,
          0.9998566855982396,
          0.9998566855982396,
          0.9998566855982396,
          0.9998566855982396,
          1.0001169478315175,
          1.0001169478315175,
          1.0001169478315175,
          1.0001169478315175,
          0.99998025922013,
          0.99998025922013,
          0.99998025922013,
          0.99998025922013,
          0.9971007887507968,
          0.9971007887507968,
          0.9971007887507968,
          0.9971007887507968,
          0.9991998512559817,
          0.9991998512559817,
          0.9991998512559817,
          0.9991998512559817,
          0.9998381608072664,
          0.9998381608072664,
          0.9998381608072664,
          0.9998381608072664,
          0.9974703493760788,
          0.9974703493760788,
          0.9974703493760788,
          0.9974703493760788,
          1.0014484203174658,
          1.0014484203174658,
          1.0014484203174658,
          1.0014484203174658
         ]
        },
        {
         "meanline": {
          "visible": true
         },
         "name": "bus3",
         "orientation": "v",
         "side": "positive",
         "type": "violin",
         "x": [
          "bus3",
          "bus3",
          "bus3",
          "bus3",
          "bus3",
          "bus3",
          "bus3",
          "bus3",
          "bus3",
          "bus3",
          "bus3",
          "bus3",
          "bus3",
          "bus3",
          "bus3",
          "bus3",
          "bus3",
          "bus3",
          "bus3",
          "bus3",
          "bus3",
          "bus3",
          "bus3",
          "bus3",
          "bus3",
          "bus3",
          "bus3",
          "bus3",
          "bus3",
          "bus3",
          "bus3",
          "bus3",
          "bus3",
          "bus3",
          "bus3",
          "bus3",
          "bus3",
          "bus3",
          "bus3",
          "bus3",
          "bus3",
          "bus3",
          "bus3",
          "bus3",
          "bus3",
          "bus3",
          "bus3",
          "bus3",
          "bus3",
          "bus3",
          "bus3",
          "bus3",
          "bus3",
          "bus3",
          "bus3",
          "bus3",
          "bus3",
          "bus3",
          "bus3",
          "bus3",
          "bus3",
          "bus3",
          "bus3",
          "bus3",
          "bus3",
          "bus3",
          "bus3",
          "bus3",
          "bus3",
          "bus3",
          "bus3",
          "bus3",
          "bus3",
          "bus3",
          "bus3",
          "bus3",
          "bus3",
          "bus3",
          "bus3",
          "bus3",
          "bus3",
          "bus3",
          "bus3",
          "bus3",
          "bus3",
          "bus3",
          "bus3",
          "bus3",
          "bus3",
          "bus3",
          "bus3",
          "bus3",
          "bus3",
          "bus3",
          "bus3",
          "bus3",
          "bus3",
          "bus3",
          "bus3",
          "bus3",
          "bus3",
          "bus3",
          "bus3",
          "bus3",
          "bus3",
          "bus3",
          "bus3",
          "bus3",
          "bus3",
          "bus3",
          "bus3",
          "bus3",
          "bus3",
          "bus3",
          "bus3",
          "bus3",
          "bus3",
          "bus3",
          "bus3",
          "bus3",
          "bus3",
          "bus3",
          "bus3",
          "bus3",
          "bus3",
          "bus3",
          "bus3",
          "bus3",
          "bus3",
          "bus3",
          "bus3",
          "bus3",
          "bus3",
          "bus3",
          "bus3",
          "bus3",
          "bus3",
          "bus3",
          "bus3",
          "bus3",
          "bus3",
          "bus3",
          "bus3",
          "bus3",
          "bus3",
          "bus3",
          "bus3",
          "bus3",
          "bus3",
          "bus3",
          "bus3",
          "bus3",
          "bus3",
          "bus3",
          "bus3",
          "bus3",
          "bus3",
          "bus3",
          "bus3",
          "bus3"
         ],
         "y": [
          0.958353991382028,
          0.958353991382028,
          0.958353991382028,
          0.958353991382028,
          0.9857446293564264,
          0.9857446293564264,
          0.9857446293564264,
          0.9857446293564264,
          0.9996638947821332,
          0.9996638947821332,
          0.9996638947821332,
          0.9996638947821332,
          0.9997019395832868,
          0.9997019395832868,
          0.9997019395832868,
          0.9997019395832868,
          0.9973744410233152,
          0.9973744410233152,
          0.9973744410233152,
          0.9973744410233152,
          0.9645901896460836,
          0.9645901896460836,
          0.9645901896460836,
          0.9645901896460836,
          0.9862316231703966,
          0.9862316231703966,
          0.9862316231703966,
          0.9862316231703966,
          1.001253904041988,
          1.001253904041988,
          1.001253904041988,
          1.001253904041988,
          0.955514154392846,
          0.955514154392846,
          0.955514154392846,
          0.955514154392846,
          0.9945377091676356,
          0.9945377091676356,
          0.9945377091676356,
          0.9945377091676356,
          1.002550231211583,
          1.002550231211583,
          1.002550231211583,
          1.002550231211583,
          0.988762037311544,
          0.988036951513984,
          0.986991033059054,
          0.9865577225134952,
          0.9777785554552536,
          0.9840989892496852,
          0.9802900682413914,
          0.9773128411938397,
          0.9885445587586648,
          0.9914204023556044,
          0.99569734769798,
          0.9885461931554516,
          0.9533683992175004,
          0.9533683992175004,
          0.9700906377024444,
          0.953368399217496,
          0.955259273087398,
          0.9534228069628796,
          0.955258167443192,
          0.9534228072218108,
          0.9543786612894632,
          0.9530548526698804,
          0.9543777909883268,
          0.9543786612894632,
          0.9928520960753568,
          0.9900433340257988,
          0.993318253573095,
          0.9928508892597188,
          0.9957535455571952,
          0.995753280964697,
          0.9959568425444472,
          0.9957533568411004,
          1.0029911822843072,
          0.9966389626969716,
          0.9984355356315168,
          0.9971770590253164,
          0.9653131974262524,
          0.9629683061491616,
          0.9653131974259558,
          0.9771732340001806,
          0.9802520515714253,
          0.9682009725457968,
          0.9682009734642376,
          0.9789375964127104,
          1.0020596822344408,
          1.0025471930110268,
          1.0025471930122352,
          1.0022281497984873,
          0.9841637365605524,
          0.9753441418193436,
          0.982637577838084,
          0.983631906670426,
          0.981168201712948,
          0.9706631557487378,
          0.9809512930817212,
          0.9811552578157268,
          0.9980734605243228,
          0.9978952710545204,
          0.9980734605243228,
          0.9980734605243228,
          1.0024795170537084,
          1.0036169613779593,
          1.0024795170537084,
          1.0024795170537084,
          0.9536127033070656,
          0.9536127033070656,
          0.9536127033070656,
          0.9536127033070656,
          0.9999265610548174,
          0.9999265610548174,
          0.9999265610548174,
          0.9999265610548174,
          0.9712892824482996,
          0.9712892824482996,
          0.9712892824482996,
          0.9712892824482996,
          0.9868990927131092,
          0.9868990927131092,
          0.9868990927131092,
          0.9868990927131092,
          0.9776446210758426,
          0.9776446210758426,
          0.9776446210758426,
          0.9776446210758426,
          0.998606371480184,
          0.998606371480184,
          0.998606371480184,
          0.998606371480184,
          0.9707844075115232,
          0.9707844075115232,
          0.9707844075115232,
          0.9707844075115232,
          0.9703564885137496,
          0.9703564885137496,
          0.9703564885137496,
          0.9703564885137496,
          0.96032323788268,
          0.96032323788268,
          0.96032323788268,
          0.96032323788268,
          0.9646606679350171,
          0.9646606679350171,
          0.9646606679350171,
          0.9646606679350171,
          0.978635542376222,
          0.978635542376222,
          0.978635542376222,
          0.978635542376222,
          0.9991996612854812,
          0.9991996612854812,
          0.9991996612854812,
          0.9991996612854812,
          0.99245062549517,
          0.99245062549517,
          0.99245062549517,
          0.99245062549517
         ]
        },
        {
         "meanline": {
          "visible": true
         },
         "name": "bus4",
         "orientation": "v",
         "side": "positive",
         "type": "violin",
         "x": [
          "bus4",
          "bus4",
          "bus4",
          "bus4",
          "bus4",
          "bus4",
          "bus4",
          "bus4",
          "bus4",
          "bus4",
          "bus4",
          "bus4",
          "bus4",
          "bus4",
          "bus4",
          "bus4",
          "bus4",
          "bus4",
          "bus4",
          "bus4",
          "bus4",
          "bus4",
          "bus4",
          "bus4",
          "bus4",
          "bus4",
          "bus4",
          "bus4",
          "bus4",
          "bus4",
          "bus4",
          "bus4",
          "bus4",
          "bus4",
          "bus4",
          "bus4",
          "bus4",
          "bus4",
          "bus4",
          "bus4",
          "bus4",
          "bus4",
          "bus4",
          "bus4",
          "bus4",
          "bus4",
          "bus4",
          "bus4",
          "bus4",
          "bus4",
          "bus4",
          "bus4",
          "bus4",
          "bus4",
          "bus4",
          "bus4",
          "bus4",
          "bus4",
          "bus4",
          "bus4",
          "bus4",
          "bus4",
          "bus4",
          "bus4",
          "bus4",
          "bus4",
          "bus4",
          "bus4",
          "bus4",
          "bus4",
          "bus4",
          "bus4",
          "bus4",
          "bus4",
          "bus4",
          "bus4",
          "bus4",
          "bus4",
          "bus4",
          "bus4",
          "bus4",
          "bus4",
          "bus4",
          "bus4",
          "bus4",
          "bus4",
          "bus4",
          "bus4",
          "bus4",
          "bus4",
          "bus4",
          "bus4",
          "bus4",
          "bus4",
          "bus4",
          "bus4",
          "bus4",
          "bus4",
          "bus4",
          "bus4",
          "bus4",
          "bus4",
          "bus4",
          "bus4",
          "bus4",
          "bus4",
          "bus4",
          "bus4",
          "bus4",
          "bus4",
          "bus4",
          "bus4",
          "bus4",
          "bus4",
          "bus4",
          "bus4",
          "bus4",
          "bus4",
          "bus4",
          "bus4",
          "bus4",
          "bus4",
          "bus4",
          "bus4",
          "bus4",
          "bus4",
          "bus4",
          "bus4",
          "bus4",
          "bus4",
          "bus4",
          "bus4",
          "bus4",
          "bus4",
          "bus4",
          "bus4",
          "bus4",
          "bus4",
          "bus4",
          "bus4",
          "bus4",
          "bus4",
          "bus4",
          "bus4",
          "bus4",
          "bus4",
          "bus4",
          "bus4",
          "bus4",
          "bus4",
          "bus4",
          "bus4",
          "bus4",
          "bus4",
          "bus4",
          "bus4",
          "bus4",
          "bus4",
          "bus4",
          "bus4"
         ],
         "y": [
          0.9921188427031922,
          0.9921188427031922,
          0.9921188427031922,
          0.9921188427031922,
          1.002671828232509,
          1.002671828232509,
          1.002671828232509,
          1.002671828232509,
          1.0023223056206203,
          1.0023223056206203,
          1.0023223056206203,
          1.0023223056206203,
          1.0038349797814214,
          1.0038349797814214,
          1.0038349797814214,
          1.0038349797814214,
          1.0005703736062914,
          1.0005703736062914,
          1.0005703736062914,
          1.0005703736062914,
          0.9936803027934914,
          0.9936803027934914,
          0.9936803027934914,
          0.9936803027934914,
          0.998736553416936,
          0.998736553416936,
          0.998736553416936,
          0.998736553416936,
          0.9999939763550916,
          0.9999939763550916,
          0.9999939763550916,
          0.9999939763550916,
          0.9905857691748056,
          0.9905857691748056,
          0.9905857691748056,
          0.9905857691748056,
          1.0026214694552418,
          1.0026214694552418,
          1.0026214694552418,
          1.0026214694552418,
          1.0013979306608078,
          1.0013979306608078,
          1.0013979306608078,
          1.0013979306608078,
          1.0014585243496772,
          0.9972613146969757,
          0.9989603196190427,
          0.9977907658966284,
          0.9944597640888824,
          0.9968627797185654,
          0.9968585198187114,
          1.0016691713952843,
          1.0000000005,
          0.9951002992213082,
          0.9993423371179236,
          1.00037332792585,
          1.0000000005,
          1.0000000005,
          1.0000000005,
          1.003269999699918,
          1.0000000005,
          1.0000000005,
          1.0000000005,
          null,
          1.0000000005,
          0.9998054104502484,
          1.0000000005,
          null,
          1.0000000005,
          0.99983924220516,
          1.0000000005,
          1.0000000005,
          1.0000000005,
          0.99850891495683,
          1.0000000005,
          1.0000000005,
          1.0000000005,
          0.9995258099613974,
          1.0000000005,
          0.9992878395985224,
          1.0000000005,
          0.9992178564367,
          1.0000000005,
          0.9963725900554968,
          0.9993810553642386,
          0.9995675503563696,
          1.0000000005,
          0.9976864561322704,
          1.001083668694676,
          0.99941637972035,
          0.9992766290075806,
          1.001425551289764,
          0.9953698474157356,
          0.9980602779899742,
          0.99580241825826,
          0.996936706501067,
          0.9947553367443756,
          0.9981169233050146,
          0.996663118090404,
          0.9970115965482048,
          0.9992597655721926,
          0.9989458814018084,
          0.9992597655721926,
          0.9992597655721926,
          1.0058415143955686,
          1.0079878359238683,
          1.0058415143955686,
          1.0058415143955686,
          0.988057743476976,
          0.988057743476976,
          0.988057743476976,
          0.988057743476976,
          1.0020837277563832,
          1.0020837277563832,
          1.0020837277563832,
          1.0020837277563832,
          0.9963004059627188,
          0.9963004059627188,
          0.9963004059627188,
          0.9963004059627188,
          1.003800013499607,
          1.003800013499607,
          1.003800013499607,
          1.003800013499607,
          0.9989819191291288,
          0.9989819191291288,
          0.9989819191291288,
          0.9989819191291288,
          1.0028584621960226,
          1.0028584621960226,
          1.0028584621960226,
          1.0028584621960226,
          0.997648084480484,
          0.997648084480484,
          0.997648084480484,
          0.997648084480484,
          0.997856953667153,
          0.997856953667153,
          0.997856953667153,
          0.997856953667153,
          0.9922332703328391,
          0.9922332703328391,
          0.9922332703328391,
          0.9922332703328391,
          0.9944205079012914,
          0.9944205079012914,
          0.9944205079012914,
          0.9944205079012914,
          0.9965962468610532,
          0.9965962468610532,
          0.9965962468610532,
          0.9965962468610532,
          1.0012162031804954,
          1.0012162031804954,
          1.0012162031804954,
          1.0012162031804954,
          1.0007396978687548,
          1.0007396978687548,
          1.0007396978687548,
          1.0007396978687548
         ]
        },
        {
         "meanline": {
          "visible": true
         },
         "name": "bus5",
         "orientation": "v",
         "side": "positive",
         "type": "violin",
         "x": [
          "bus5",
          "bus5",
          "bus5",
          "bus5",
          "bus5",
          "bus5",
          "bus5",
          "bus5",
          "bus5",
          "bus5",
          "bus5",
          "bus5",
          "bus5",
          "bus5",
          "bus5",
          "bus5",
          "bus5",
          "bus5",
          "bus5",
          "bus5",
          "bus5",
          "bus5",
          "bus5",
          "bus5",
          "bus5",
          "bus5",
          "bus5",
          "bus5",
          "bus5",
          "bus5",
          "bus5",
          "bus5",
          "bus5",
          "bus5",
          "bus5",
          "bus5",
          "bus5",
          "bus5",
          "bus5",
          "bus5",
          "bus5",
          "bus5",
          "bus5",
          "bus5",
          "bus5",
          "bus5",
          "bus5",
          "bus5",
          "bus5",
          "bus5",
          "bus5",
          "bus5",
          "bus5",
          "bus5",
          "bus5",
          "bus5",
          "bus5",
          "bus5",
          "bus5",
          "bus5",
          "bus5",
          "bus5",
          "bus5",
          "bus5",
          "bus5",
          "bus5",
          "bus5",
          "bus5",
          "bus5",
          "bus5",
          "bus5",
          "bus5",
          "bus5",
          "bus5",
          "bus5",
          "bus5",
          "bus5",
          "bus5",
          "bus5",
          "bus5",
          "bus5",
          "bus5",
          "bus5",
          "bus5",
          "bus5",
          "bus5",
          "bus5",
          "bus5",
          "bus5",
          "bus5",
          "bus5",
          "bus5",
          "bus5",
          "bus5",
          "bus5",
          "bus5",
          "bus5",
          "bus5",
          "bus5",
          "bus5",
          "bus5",
          "bus5",
          "bus5",
          "bus5",
          "bus5",
          "bus5",
          "bus5",
          "bus5",
          "bus5",
          "bus5",
          "bus5",
          "bus5",
          "bus5",
          "bus5",
          "bus5",
          "bus5",
          "bus5",
          "bus5",
          "bus5",
          "bus5",
          "bus5",
          "bus5",
          "bus5",
          "bus5",
          "bus5",
          "bus5",
          "bus5",
          "bus5",
          "bus5",
          "bus5",
          "bus5",
          "bus5",
          "bus5",
          "bus5",
          "bus5",
          "bus5",
          "bus5",
          "bus5",
          "bus5",
          "bus5",
          "bus5",
          "bus5",
          "bus5",
          "bus5",
          "bus5",
          "bus5",
          "bus5",
          "bus5",
          "bus5",
          "bus5",
          "bus5",
          "bus5",
          "bus5",
          "bus5",
          "bus5",
          "bus5",
          "bus5",
          "bus5",
          "bus5",
          "bus5"
         ],
         "y": [
          0.9944982150065136,
          0.9944982150065136,
          0.9944982150065136,
          0.9944982150065136,
          1.0022954677339724,
          1.0022954677339724,
          1.0022954677339724,
          1.0022954677339724,
          0.9953330662176232,
          0.9953330662176232,
          0.9953330662176232,
          0.9953330662176232,
          0.9994446505340688,
          0.9994446505340688,
          0.9994446505340688,
          0.9994446505340688,
          0.9996728586973752,
          0.9996728586973752,
          0.9996728586973752,
          0.9996728586973752,
          0.9984306916958788,
          0.9984306916958788,
          0.9984306916958788,
          0.9984306916958788,
          1.0003967950614392,
          1.0003967950614392,
          1.0003967950614392,
          1.0003967950614392,
          0.9992319072802592,
          0.9992319072802592,
          0.9992319072802592,
          0.9992319072802592,
          0.995748679484414,
          0.995748679484414,
          0.995748679484414,
          0.995748679484414,
          0.9980382502535392,
          0.9980382502535392,
          0.9980382502535392,
          0.9980382502535392,
          1.002416556823924,
          1.002416556823924,
          1.002416556823924,
          1.002416556823924,
          0.998408141689212,
          0.9812607518699792,
          0.9955272781267328,
          0.993837961846554,
          0.9989643447743018,
          null,
          0.9889089441753464,
          0.9986019656529797,
          1.0001203404997954,
          null,
          0.9924542357034336,
          0.9985138107920728,
          1.0001203404997954,
          null,
          null,
          0.9993785962853932,
          null,
          1.0001290166898746,
          null,
          1.0002646169394054,
          null,
          1.0001622533288066,
          1.0000810618235851,
          1.0002810006783494,
          null,
          1.0001628026867084,
          1.0000810618235851,
          1.0022779999586566,
          null,
          1.000139402704941,
          1.0000810618235851,
          1.007126768705939,
          null,
          1.0001576137336228,
          1.0000810618235851,
          1.0030822785394682,
          null,
          1.000152308541289,
          1.0000810618235851,
          1.007880111686844,
          0.9996177791863792,
          1.000158317386467,
          1.0000810618235851,
          1.002176406259062,
          1.0013207958155712,
          1.0001557511915329,
          0.9999884809889784,
          0.9987268354596404,
          0.9869397712261078,
          0.9997231132099866,
          0.9994406093678933,
          0.9975149552271464,
          0.9873915685032012,
          0.9997355401233922,
          0.9980830225347884,
          0.9984716948731036,
          0.997370887686114,
          0.9970276954055702,
          0.997370887686114,
          0.997370887686114,
          0.9978107419717526,
          1.0003626358496551,
          0.9978107419717526,
          0.9978107419717526,
          0.9963178411710036,
          0.9963178411710036,
          0.9963178411710036,
          0.9963178411710036,
          1.001406055597309,
          1.001406055597309,
          1.001406055597309,
          1.001406055597309,
          0.9986865480729072,
          0.9986865480729072,
          0.9986865480729072,
          0.9986865480729072,
          0.997409878120741,
          0.997409878120741,
          0.997409878120741,
          0.997409878120741,
          1.0006719869810228,
          1.0006719869810228,
          1.0006719869810228,
          1.0006719869810228,
          0.9993931558202006,
          0.9993931558202006,
          0.9993931558202006,
          0.9993931558202006,
          0.9995244872177514,
          0.9995244872177514,
          0.9995244872177514,
          0.9995244872177514,
          0.9946168263246892,
          0.9946168263246892,
          0.9946168263246892,
          0.9946168263246892,
          0.9936969438393588,
          0.9936969438393588,
          0.9936969438393588,
          0.9936969438393588,
          0.9938597315629912,
          0.9938597315629912,
          0.9938597315629912,
          0.9938597315629912,
          0.9975522483729864,
          0.9975522483729864,
          0.9975522483729864,
          0.9975522483729864,
          0.9983021960999836,
          0.9983021960999836,
          0.9983021960999836,
          0.9983021960999836,
          0.995013569285608,
          0.995013569285608,
          0.995013569285608,
          0.995013569285608
         ]
        },
        {
         "meanline": {
          "visible": true
         },
         "name": "bus6",
         "orientation": "v",
         "side": "positive",
         "type": "violin",
         "x": [
          "bus6",
          "bus6",
          "bus6",
          "bus6",
          "bus6",
          "bus6",
          "bus6",
          "bus6",
          "bus6",
          "bus6",
          "bus6",
          "bus6",
          "bus6",
          "bus6",
          "bus6",
          "bus6",
          "bus6",
          "bus6",
          "bus6",
          "bus6",
          "bus6",
          "bus6",
          "bus6",
          "bus6",
          "bus6",
          "bus6",
          "bus6",
          "bus6",
          "bus6",
          "bus6",
          "bus6",
          "bus6",
          "bus6",
          "bus6",
          "bus6",
          "bus6",
          "bus6",
          "bus6",
          "bus6",
          "bus6",
          "bus6",
          "bus6",
          "bus6",
          "bus6",
          "bus6",
          "bus6",
          "bus6",
          "bus6",
          "bus6",
          "bus6",
          "bus6",
          "bus6",
          "bus6",
          "bus6",
          "bus6",
          "bus6",
          "bus6",
          "bus6",
          "bus6",
          "bus6",
          "bus6",
          "bus6",
          "bus6",
          "bus6",
          "bus6",
          "bus6",
          "bus6",
          "bus6",
          "bus6",
          "bus6",
          "bus6",
          "bus6",
          "bus6",
          "bus6",
          "bus6",
          "bus6",
          "bus6",
          "bus6",
          "bus6",
          "bus6",
          "bus6",
          "bus6",
          "bus6",
          "bus6",
          "bus6",
          "bus6",
          "bus6",
          "bus6",
          "bus6",
          "bus6",
          "bus6",
          "bus6",
          "bus6",
          "bus6",
          "bus6",
          "bus6",
          "bus6",
          "bus6",
          "bus6",
          "bus6",
          "bus6",
          "bus6",
          "bus6",
          "bus6",
          "bus6",
          "bus6",
          "bus6",
          "bus6",
          "bus6",
          "bus6",
          "bus6",
          "bus6",
          "bus6",
          "bus6",
          "bus6",
          "bus6",
          "bus6",
          "bus6",
          "bus6",
          "bus6",
          "bus6",
          "bus6",
          "bus6",
          "bus6",
          "bus6",
          "bus6",
          "bus6",
          "bus6",
          "bus6",
          "bus6",
          "bus6",
          "bus6",
          "bus6",
          "bus6",
          "bus6",
          "bus6",
          "bus6",
          "bus6",
          "bus6",
          "bus6",
          "bus6",
          "bus6",
          "bus6",
          "bus6",
          "bus6",
          "bus6",
          "bus6",
          "bus6",
          "bus6",
          "bus6",
          "bus6",
          "bus6",
          "bus6",
          "bus6",
          "bus6",
          "bus6",
          "bus6",
          "bus6",
          "bus6",
          "bus6"
         ],
         "y": [
          0.9875068689824774,
          0.9875068689824774,
          0.9875068689824774,
          0.9875068689824774,
          0.9972917385956366,
          0.9972917385956366,
          0.9972917385956366,
          0.9972917385956366,
          0.9789317461462276,
          0.9789317461462276,
          0.9789317461462276,
          0.9789317461462276,
          0.9889263354561832,
          0.9889263354561832,
          0.9889263354561832,
          0.9889263354561832,
          0.9937025063084576,
          0.9937025063084576,
          0.9937025063084576,
          0.9937025063084576,
          0.9913460922203716,
          0.9913460922203716,
          0.9913460922203716,
          0.9913460922203716,
          0.9964665921308774,
          0.9964665921308774,
          0.9964665921308774,
          0.9964665921308774,
          0.9947913775406924,
          0.9947913775406924,
          0.9947913775406924,
          0.9947913775406924,
          0.9910009356778892,
          0.9910009356778892,
          0.9910009356778892,
          0.9910009356778892,
          0.9844098336513564,
          0.9844098336513564,
          0.9844098336513564,
          0.9844098336513564,
          1.0019160880275095,
          1.0019160880275095,
          1.0019160880275095,
          1.0019160880275095,
          0.9829046782633374,
          0.9654492816216496,
          0.9799729064820766,
          0.9782535828167874,
          0.9907459324304584,
          null,
          0.980597189030748,
          0.9903802237190203,
          null,
          null,
          0.9851588513030984,
          0.9912679132222464,
          null,
          null,
          null,
          0.9906350771311316,
          null,
          null,
          null,
          0.999428154672938,
          null,
          null,
          null,
          0.997698085656699,
          null,
          null,
          null,
          0.9968560771032804,
          null,
          null,
          null,
          1.000283332062195,
          null,
          null,
          null,
          0.9966022856940986,
          null,
          null,
          null,
          1.001233935271374,
          null,
          null,
          null,
          1.0003995744312235,
          null,
          null,
          null,
          0.9867015124870978,
          0.9781707362107188,
          null,
          null,
          0.988849616836274,
          0.9796421572739736,
          null,
          0.9904262835193512,
          0.9908182857892552,
          0.9890759333973244,
          0.9887295536581832,
          0.9890759333973244,
          0.9890759333973244,
          0.9806359353177804,
          0.9832378361177492,
          0.9806359353177804,
          0.9806359353177804,
          0.9853066212670328,
          0.9853066212670328,
          0.9853066212670328,
          0.9853066212670328,
          0.9981812017693228,
          0.9981812017693228,
          0.9981812017693228,
          0.9981812017693228,
          0.9955784624092588,
          0.9955784624092588,
          0.9955784624092588,
          0.9955784624092588,
          0.9801143658887996,
          0.9801143658887996,
          0.9801143658887996,
          0.9801143658887996,
          1.000087915236259,
          1.000087915236259,
          1.000087915236259,
          1.000087915236259,
          0.9893112390858444,
          0.9893112390858444,
          0.9893112390858444,
          0.9893112390858444,
          0.993621537813538,
          0.993621537813538,
          0.993621537813538,
          0.993621537813538,
          0.9772521850103528,
          0.9772521850103528,
          0.9772521850103528,
          0.9772521850103528,
          0.9801027157044748,
          0.9801027157044748,
          0.9801027157044748,
          0.9801027157044748,
          0.9779378193500156,
          0.9779378193500156,
          0.9779378193500156,
          0.9779378193500156,
          0.9915292707423152,
          0.9915292707423152,
          0.9915292707423152,
          0.9915292707423152,
          0.9901537641810032,
          0.9901537641810032,
          0.9901537641810032,
          0.9901537641810032,
          0.9793620688082454,
          0.9793620688082454,
          0.9793620688082454,
          0.9793620688082454
         ]
        },
        {
         "meanline": {
          "visible": true
         },
         "name": "bus7",
         "orientation": "v",
         "side": "positive",
         "type": "violin",
         "x": [
          "bus7",
          "bus7",
          "bus7",
          "bus7",
          "bus7",
          "bus7",
          "bus7",
          "bus7",
          "bus7",
          "bus7",
          "bus7",
          "bus7",
          "bus7",
          "bus7",
          "bus7",
          "bus7",
          "bus7",
          "bus7",
          "bus7",
          "bus7",
          "bus7",
          "bus7",
          "bus7",
          "bus7",
          "bus7",
          "bus7",
          "bus7",
          "bus7",
          "bus7",
          "bus7",
          "bus7",
          "bus7",
          "bus7",
          "bus7",
          "bus7",
          "bus7",
          "bus7",
          "bus7",
          "bus7",
          "bus7",
          "bus7",
          "bus7",
          "bus7",
          "bus7",
          "bus7",
          "bus7",
          "bus7",
          "bus7",
          "bus7",
          "bus7",
          "bus7",
          "bus7",
          "bus7",
          "bus7",
          "bus7",
          "bus7",
          "bus7",
          "bus7",
          "bus7",
          "bus7",
          "bus7",
          "bus7",
          "bus7",
          "bus7",
          "bus7",
          "bus7",
          "bus7",
          "bus7",
          "bus7",
          "bus7",
          "bus7",
          "bus7",
          "bus7",
          "bus7",
          "bus7",
          "bus7",
          "bus7",
          "bus7",
          "bus7",
          "bus7",
          "bus7",
          "bus7",
          "bus7",
          "bus7",
          "bus7",
          "bus7",
          "bus7",
          "bus7",
          "bus7",
          "bus7",
          "bus7",
          "bus7",
          "bus7",
          "bus7",
          "bus7",
          "bus7",
          "bus7",
          "bus7",
          "bus7",
          "bus7",
          "bus7",
          "bus7",
          "bus7",
          "bus7",
          "bus7",
          "bus7",
          "bus7",
          "bus7",
          "bus7",
          "bus7",
          "bus7",
          "bus7",
          "bus7",
          "bus7",
          "bus7",
          "bus7",
          "bus7",
          "bus7",
          "bus7",
          "bus7",
          "bus7",
          "bus7",
          "bus7",
          "bus7",
          "bus7",
          "bus7",
          "bus7",
          "bus7",
          "bus7",
          "bus7",
          "bus7",
          "bus7",
          "bus7",
          "bus7",
          "bus7",
          "bus7",
          "bus7",
          "bus7",
          "bus7",
          "bus7",
          "bus7",
          "bus7",
          "bus7",
          "bus7",
          "bus7",
          "bus7",
          "bus7",
          "bus7",
          "bus7",
          "bus7",
          "bus7",
          "bus7",
          "bus7",
          "bus7",
          "bus7",
          "bus7",
          "bus7",
          "bus7",
          "bus7",
          "bus7"
         ],
         "y": [
          1.003765697387761,
          1.003765697387761,
          1.003765697387761,
          1.003765697387761,
          1.0063587975736468,
          1.0063587975736468,
          1.0063587975736468,
          1.0063587975736468,
          1.0049212351542147,
          1.0049212351542147,
          1.0049212351542147,
          1.0049212351542147,
          1.0052274131768557,
          1.0052274131768557,
          1.0052274131768557,
          1.0052274131768557,
          1.0042334414397895,
          1.0042334414397895,
          1.0042334414397895,
          1.0042334414397895,
          1.0104861089463757,
          1.0104861089463757,
          1.0104861089463757,
          1.0104861089463757,
          1.005504755009999,
          1.005504755009999,
          1.005504755009999,
          1.005504755009999,
          1.002303483755441,
          1.002303483755441,
          1.002303483755441,
          1.002303483755441,
          1.0055850112894575,
          1.0055850112894575,
          1.0055850112894575,
          1.0055850112894575,
          1.007047326731735,
          1.007047326731735,
          1.007047326731735,
          1.007047326731735,
          1.0032373638414225,
          1.0032373638414225,
          1.0032373638414225,
          1.0032373638414225,
          1.0111299930015605,
          1.007290834562216,
          1.0079479891694212,
          1.0057737174622805,
          1.00718711400674,
          1.003663538365288,
          1.0017935806085934,
          1.0032891970396645,
          0.999859828160341,
          1.0000000005,
          0.9998623133026088,
          1.0034312957229854,
          0.999859828160341,
          1.0000000005,
          0.9998623133026088,
          1.003757177079192,
          0.9999083804485732,
          0.9998685020904376,
          0.9998623133026086,
          1.0006125456979504,
          0.9999083804485734,
          1.0000276534021897,
          0.9998205597154796,
          1.002449745731134,
          0.9999083804485732,
          0.999993256757824,
          0.9998205597154796,
          1.0074619089489094,
          0.9999083804485732,
          1.0013523551018022,
          0.9998205597154796,
          1.0138427540774873,
          0.9999083804485732,
          1.000312237560561,
          0.9998205597154796,
          1.009406994120801,
          0.9999083804485732,
          1.0006263536535671,
          0.9998205597154796,
          1.0143815612917702,
          0.9999083804485732,
          1.0002697169297798,
          0.9998205597154796,
          1.0035003698730725,
          0.9999083804485732,
          1.0004237750363172,
          1.0002277338327226,
          1.0111819391088597,
          0.9999083804485732,
          1.0009720330136611,
          1.0028296286157228,
          1.0065952679749013,
          1.0049392027746806,
          1.0009372409867527,
          1.0070369498525145,
          1.007446522073481,
          1.0033795320621524,
          1.003012726044677,
          1.0033795320621524,
          1.0033795320621524,
          1.0071663380405742,
          1.0100896393029442,
          1.0071663380405742,
          1.0071663380405742,
          1.0173104199265963,
          1.0173104199265963,
          1.0173104199265963,
          1.0173104199265963,
          1.0032758302725724,
          1.0032758302725724,
          1.0032758302725724,
          1.0032758302725724,
          1.0037273943438352,
          1.0037273943438352,
          1.0037273943438352,
          1.0037273943438352,
          1.008644898965583,
          1.008644898965583,
          1.008644898965583,
          1.008644898965583,
          1.002310930048084,
          1.002310930048084,
          1.002310930048084,
          1.002310930048084,
          1.005671307230663,
          1.005671307230663,
          1.005671307230663,
          1.005671307230663,
          1.0070803643387511,
          1.0070803643387511,
          1.0070803643387511,
          1.0070803643387511,
          1.0094380254304565,
          1.0094380254304565,
          1.0094380254304565,
          1.0094380254304565,
          1.0094693458527562,
          1.0094693458527562,
          1.0094693458527562,
          1.0094693458527562,
          1.0100251344989446,
          1.0100251344989446,
          1.0100251344989446,
          1.0100251344989446,
          1.0042049059196514,
          1.0042049059196514,
          1.0042049059196514,
          1.0042049059196514,
          1.003076670226011,
          1.003076670226011,
          1.003076670226011,
          1.003076670226011,
          1.0051182730917614,
          1.0051182730917614,
          1.0051182730917614,
          1.0051182730917614
         ]
        },
        {
         "meanline": {
          "visible": true
         },
         "name": "bus8",
         "orientation": "v",
         "side": "positive",
         "type": "violin",
         "x": [
          "bus8",
          "bus8",
          "bus8",
          "bus8",
          "bus8",
          "bus8",
          "bus8",
          "bus8",
          "bus8",
          "bus8",
          "bus8",
          "bus8",
          "bus8",
          "bus8",
          "bus8",
          "bus8",
          "bus8",
          "bus8",
          "bus8",
          "bus8",
          "bus8",
          "bus8",
          "bus8",
          "bus8",
          "bus8",
          "bus8",
          "bus8",
          "bus8",
          "bus8",
          "bus8",
          "bus8",
          "bus8",
          "bus8",
          "bus8",
          "bus8",
          "bus8",
          "bus8",
          "bus8",
          "bus8",
          "bus8",
          "bus8",
          "bus8",
          "bus8",
          "bus8",
          "bus8",
          "bus8",
          "bus8",
          "bus8",
          "bus8",
          "bus8",
          "bus8",
          "bus8",
          "bus8",
          "bus8",
          "bus8",
          "bus8",
          "bus8",
          "bus8",
          "bus8",
          "bus8",
          "bus8",
          "bus8",
          "bus8",
          "bus8",
          "bus8",
          "bus8",
          "bus8",
          "bus8",
          "bus8",
          "bus8",
          "bus8",
          "bus8",
          "bus8",
          "bus8",
          "bus8",
          "bus8",
          "bus8",
          "bus8",
          "bus8",
          "bus8",
          "bus8",
          "bus8",
          "bus8",
          "bus8",
          "bus8",
          "bus8",
          "bus8",
          "bus8",
          "bus8",
          "bus8",
          "bus8",
          "bus8",
          "bus8",
          "bus8",
          "bus8",
          "bus8",
          "bus8",
          "bus8",
          "bus8",
          "bus8",
          "bus8",
          "bus8",
          "bus8",
          "bus8",
          "bus8",
          "bus8",
          "bus8",
          "bus8",
          "bus8",
          "bus8",
          "bus8",
          "bus8",
          "bus8",
          "bus8",
          "bus8",
          "bus8",
          "bus8",
          "bus8",
          "bus8",
          "bus8",
          "bus8",
          "bus8",
          "bus8",
          "bus8",
          "bus8",
          "bus8",
          "bus8",
          "bus8",
          "bus8",
          "bus8",
          "bus8",
          "bus8",
          "bus8",
          "bus8",
          "bus8",
          "bus8",
          "bus8",
          "bus8",
          "bus8",
          "bus8",
          "bus8",
          "bus8",
          "bus8",
          "bus8",
          "bus8",
          "bus8",
          "bus8",
          "bus8",
          "bus8",
          "bus8",
          "bus8",
          "bus8",
          "bus8",
          "bus8",
          "bus8",
          "bus8",
          "bus8",
          "bus8",
          "bus8",
          "bus8"
         ],
         "y": [
          1.003926070935132,
          1.003926070935132,
          1.003926070935132,
          1.003926070935132,
          0.998817112380352,
          0.998817112380352,
          0.998817112380352,
          0.998817112380352,
          1.003552844129755,
          1.003552844129755,
          1.003552844129755,
          1.003552844129755,
          1.0000969221997231,
          1.0000969221997231,
          1.0000969221997231,
          1.0000969221997231,
          1.001516572152416,
          1.001516572152416,
          1.001516572152416,
          1.001516572152416,
          1.0036116003404223,
          1.0036116003404223,
          1.0036116003404223,
          1.0036116003404223,
          1.0001369142528744,
          1.0001369142528744,
          1.0001369142528744,
          1.0001369142528744,
          1.001611839693602,
          1.001611839693602,
          1.001611839693602,
          1.001611839693602,
          1.001154634848957,
          1.001154634848957,
          1.001154634848957,
          1.001154634848957,
          1.000126446210617,
          1.000126446210617,
          1.000126446210617,
          1.000126446210617,
          0.9993682530944316,
          0.9993682530944316,
          0.9993682530944316,
          0.9993682530944316,
          0.9966229558692168,
          1.0002786174829843,
          1.0017392765928037,
          1.006017413491077,
          1.003742113541341,
          1.0001994801504088,
          1.0002046939708555,
          1.003410772049537,
          1.0001473393667073,
          null,
          1.000135087036154,
          1.0035557849871155,
          1.0001473393667073,
          null,
          1.000135087036154,
          1.002525235839577,
          1.0001883971496195,
          null,
          1.000135087036154,
          1.0002818317719746,
          1.0001883971496193,
          null,
          1.0000933220581747,
          1.0008644822498018,
          1.0001883971496195,
          null,
          1.0000933220581747,
          1.0005338434029247,
          1.0001883971496195,
          null,
          1.0000933220581747,
          0.9982056771593062,
          1.0001883971496195,
          null,
          1.0000933220581747,
          1.0003974899082602,
          1.0001883971496195,
          null,
          1.0000933220581747,
          0.9977510094280264,
          1.0001883971496195,
          null,
          1.0000933220581747,
          0.9993465932298902,
          1.0001883971496195,
          null,
          1.0005006072571163,
          1.0041050965581269,
          1.0001883971496195,
          1.001245109491279,
          1.0031032118664045,
          1.001550484653914,
          1.000217298211188,
          1.0012103079727126,
          1.0073116809079556,
          1.002976077981306,
          1.0012346699801495,
          1.003286359246406,
          1.0012346699801495,
          1.0012346699801495,
          1.0014451073378456,
          0.9972710458443016,
          1.0014451073378456,
          1.0014451073378456,
          1.0108539809718406,
          1.0108539809718406,
          1.0108539809718406,
          1.0108539809718406,
          0.9993669647984323,
          0.9993669647984323,
          0.9993669647984323,
          0.9993669647984323,
          1.0017262149676511,
          1.0017262149676511,
          1.0017262149676511,
          1.0017262149676511,
          1.0027899194891994,
          1.0027899194891994,
          1.0027899194891994,
          1.0027899194891994,
          1.0017814438337045,
          1.0017814438337045,
          1.0017814438337045,
          1.0017814438337045,
          0.9998857098107552,
          0.9998857098107552,
          0.9998857098107552,
          0.9998857098107552,
          1.0041612963177786,
          1.0041612963177786,
          1.0041612963177786,
          1.0041612963177786,
          1.0065954138789577,
          1.0065954138789577,
          1.0065954138789577,
          1.0065954138789577,
          1.0068036697584102,
          1.0068036697584102,
          1.0068036697584102,
          1.0068036697584102,
          1.0069007100086007,
          1.0069007100086007,
          1.0069007100086007,
          1.0069007100086007,
          1.003792497019399,
          1.003792497019399,
          1.003792497019399,
          1.003792497019399,
          1.003212048127175,
          1.003212048127175,
          1.003212048127175,
          1.003212048127175,
          1.0051886199934412,
          1.0051886199934412,
          1.0051886199934412,
          1.0051886199934412
         ]
        },
        {
         "meanline": {
          "visible": true
         },
         "name": "bus9",
         "orientation": "v",
         "side": "positive",
         "type": "violin",
         "x": [
          "bus9",
          "bus9",
          "bus9",
          "bus9",
          "bus9",
          "bus9",
          "bus9",
          "bus9",
          "bus9",
          "bus9",
          "bus9",
          "bus9",
          "bus9",
          "bus9",
          "bus9",
          "bus9",
          "bus9",
          "bus9",
          "bus9",
          "bus9",
          "bus9",
          "bus9",
          "bus9",
          "bus9",
          "bus9",
          "bus9",
          "bus9",
          "bus9",
          "bus9",
          "bus9",
          "bus9",
          "bus9",
          "bus9",
          "bus9",
          "bus9",
          "bus9",
          "bus9",
          "bus9",
          "bus9",
          "bus9",
          "bus9",
          "bus9",
          "bus9",
          "bus9",
          "bus9",
          "bus9",
          "bus9",
          "bus9",
          "bus9",
          "bus9",
          "bus9",
          "bus9",
          "bus9",
          "bus9",
          "bus9",
          "bus9",
          "bus9",
          "bus9",
          "bus9",
          "bus9",
          "bus9",
          "bus9",
          "bus9",
          "bus9",
          "bus9",
          "bus9",
          "bus9",
          "bus9",
          "bus9",
          "bus9",
          "bus9",
          "bus9",
          "bus9",
          "bus9",
          "bus9",
          "bus9",
          "bus9",
          "bus9",
          "bus9",
          "bus9",
          "bus9",
          "bus9",
          "bus9",
          "bus9",
          "bus9",
          "bus9",
          "bus9",
          "bus9",
          "bus9",
          "bus9",
          "bus9",
          "bus9",
          "bus9",
          "bus9",
          "bus9",
          "bus9",
          "bus9",
          "bus9",
          "bus9",
          "bus9",
          "bus9",
          "bus9",
          "bus9",
          "bus9",
          "bus9",
          "bus9",
          "bus9",
          "bus9",
          "bus9",
          "bus9",
          "bus9",
          "bus9",
          "bus9",
          "bus9",
          "bus9",
          "bus9",
          "bus9",
          "bus9",
          "bus9",
          "bus9",
          "bus9",
          "bus9",
          "bus9",
          "bus9",
          "bus9",
          "bus9",
          "bus9",
          "bus9",
          "bus9",
          "bus9",
          "bus9",
          "bus9",
          "bus9",
          "bus9",
          "bus9",
          "bus9",
          "bus9",
          "bus9",
          "bus9",
          "bus9",
          "bus9",
          "bus9",
          "bus9",
          "bus9",
          "bus9",
          "bus9",
          "bus9",
          "bus9",
          "bus9",
          "bus9",
          "bus9",
          "bus9",
          "bus9",
          "bus9",
          "bus9",
          "bus9",
          "bus9",
          "bus9",
          "bus9",
          "bus9"
         ],
         "y": [
          1.0035108858123525,
          1.0035108858123525,
          1.0035108858123525,
          1.0035108858123525,
          0.9821633561126264,
          0.9821633561126264,
          0.9821633561126264,
          0.9821633561126264,
          0.999994337646391,
          0.999994337646391,
          0.999994337646391,
          0.999994337646391,
          0.9883181740514388,
          0.9883181740514388,
          0.9883181740514388,
          0.9883181740514388,
          0.9950770644331282,
          0.9950770644331282,
          0.9950770644331282,
          0.9950770644331282,
          0.9883052716683672,
          0.9883052716683672,
          0.9883052716683672,
          0.9883052716683672,
          0.9879167142249256,
          0.9879167142249256,
          0.9879167142249256,
          0.9879167142249256,
          0.9994548345546352,
          0.9994548345546352,
          0.9994548345546352,
          0.9994548345546352,
          0.9903167693262336,
          0.9903167693262336,
          0.9903167693262336,
          0.9903167693262336,
          0.9844554587482214,
          0.9844554587482214,
          0.9844554587482214,
          0.9844554587482214,
          0.99033031992137,
          0.99033031992137,
          0.99033031992137,
          0.99033031992137,
          0.9821221469593724,
          0.9858379740242288,
          0.987322535823014,
          null,
          0.999736132402696,
          0.9961768641531136,
          0.9961821025398396,
          null,
          null,
          null,
          null,
          null,
          null,
          null,
          null,
          1.0007210309839667,
          null,
          null,
          null,
          0.9993867194663226,
          null,
          null,
          null,
          0.998707178402358,
          null,
          null,
          null,
          0.9931400451235356,
          null,
          null,
          null,
          0.982669494238714,
          null,
          null,
          null,
          0.991017142383156,
          null,
          null,
          null,
          0.9813119730579352,
          null,
          null,
          null,
          0.9946464534867762,
          null,
          null,
          null,
          0.988853552786068,
          null,
          null,
          null,
          0.9898533409738935,
          0.9901064695125584,
          null,
          null,
          0.9928965269929428,
          0.9956393581460488,
          null,
          0.9956393581460488,
          0.9956393581460488,
          0.9885605926202568,
          0.9843255529611996,
          0.9885605926202568,
          0.9885605926202568,
          0.994517004726968,
          0.994517004726968,
          0.994517004726968,
          0.994517004726968,
          0.9901357186654834,
          0.9901357186654834,
          0.9901357186654834,
          0.9901357186654834,
          0.9966804870599116,
          0.9966804870599116,
          0.9966804870599116,
          0.9966804870599116,
          0.9897203951438012,
          0.9897203951438012,
          0.9897203951438012,
          0.9897203951438012,
          1.0001844380785767,
          1.0001844380785767,
          1.0001844380785767,
          1.0001844380785767,
          0.9866880310848464,
          0.9866880310848464,
          0.9866880310848464,
          0.9866880310848464,
          0.9978222193328188,
          0.9978222193328188,
          0.9978222193328188,
          0.9978222193328188,
          1.0000112697641943,
          1.0000112697641943,
          1.0000112697641943,
          1.0000112697641943,
          1.0002621704597132,
          1.0002621704597132,
          1.0002621704597132,
          1.0002621704597132,
          0.9993862203778374,
          0.9993862203778374,
          0.9993862203778374,
          0.9993862203778374,
          1.0025517505431485,
          1.0025517505431485,
          1.0025517505431485,
          1.0025517505431485,
          1.003186064091241,
          1.003186064091241,
          1.003186064091241,
          1.003186064091241,
          1.00512192935654,
          1.00512192935654,
          1.00512192935654,
          1.00512192935654
         ]
        }
       ],
       "layout": {
        "height": 500,
        "template": {
         "data": {
          "bar": [
           {
            "error_x": {
             "color": "#2a3f5f"
            },
            "error_y": {
             "color": "#2a3f5f"
            },
            "marker": {
             "line": {
              "color": "#E5ECF6",
              "width": 0.5
             },
             "pattern": {
              "fillmode": "overlay",
              "size": 10,
              "solidity": 0.2
             }
            },
            "type": "bar"
           }
          ],
          "barpolar": [
           {
            "marker": {
             "line": {
              "color": "#E5ECF6",
              "width": 0.5
             },
             "pattern": {
              "fillmode": "overlay",
              "size": 10,
              "solidity": 0.2
             }
            },
            "type": "barpolar"
           }
          ],
          "carpet": [
           {
            "aaxis": {
             "endlinecolor": "#2a3f5f",
             "gridcolor": "white",
             "linecolor": "white",
             "minorgridcolor": "white",
             "startlinecolor": "#2a3f5f"
            },
            "baxis": {
             "endlinecolor": "#2a3f5f",
             "gridcolor": "white",
             "linecolor": "white",
             "minorgridcolor": "white",
             "startlinecolor": "#2a3f5f"
            },
            "type": "carpet"
           }
          ],
          "choropleth": [
           {
            "colorbar": {
             "outlinewidth": 0,
             "ticks": ""
            },
            "type": "choropleth"
           }
          ],
          "contour": [
           {
            "colorbar": {
             "outlinewidth": 0,
             "ticks": ""
            },
            "colorscale": [
             [
              0,
              "#0d0887"
             ],
             [
              0.1111111111111111,
              "#46039f"
             ],
             [
              0.2222222222222222,
              "#7201a8"
             ],
             [
              0.3333333333333333,
              "#9c179e"
             ],
             [
              0.4444444444444444,
              "#bd3786"
             ],
             [
              0.5555555555555556,
              "#d8576b"
             ],
             [
              0.6666666666666666,
              "#ed7953"
             ],
             [
              0.7777777777777778,
              "#fb9f3a"
             ],
             [
              0.8888888888888888,
              "#fdca26"
             ],
             [
              1,
              "#f0f921"
             ]
            ],
            "type": "contour"
           }
          ],
          "contourcarpet": [
           {
            "colorbar": {
             "outlinewidth": 0,
             "ticks": ""
            },
            "type": "contourcarpet"
           }
          ],
          "heatmap": [
           {
            "colorbar": {
             "outlinewidth": 0,
             "ticks": ""
            },
            "colorscale": [
             [
              0,
              "#0d0887"
             ],
             [
              0.1111111111111111,
              "#46039f"
             ],
             [
              0.2222222222222222,
              "#7201a8"
             ],
             [
              0.3333333333333333,
              "#9c179e"
             ],
             [
              0.4444444444444444,
              "#bd3786"
             ],
             [
              0.5555555555555556,
              "#d8576b"
             ],
             [
              0.6666666666666666,
              "#ed7953"
             ],
             [
              0.7777777777777778,
              "#fb9f3a"
             ],
             [
              0.8888888888888888,
              "#fdca26"
             ],
             [
              1,
              "#f0f921"
             ]
            ],
            "type": "heatmap"
           }
          ],
          "heatmapgl": [
           {
            "colorbar": {
             "outlinewidth": 0,
             "ticks": ""
            },
            "colorscale": [
             [
              0,
              "#0d0887"
             ],
             [
              0.1111111111111111,
              "#46039f"
             ],
             [
              0.2222222222222222,
              "#7201a8"
             ],
             [
              0.3333333333333333,
              "#9c179e"
             ],
             [
              0.4444444444444444,
              "#bd3786"
             ],
             [
              0.5555555555555556,
              "#d8576b"
             ],
             [
              0.6666666666666666,
              "#ed7953"
             ],
             [
              0.7777777777777778,
              "#fb9f3a"
             ],
             [
              0.8888888888888888,
              "#fdca26"
             ],
             [
              1,
              "#f0f921"
             ]
            ],
            "type": "heatmapgl"
           }
          ],
          "histogram": [
           {
            "marker": {
             "pattern": {
              "fillmode": "overlay",
              "size": 10,
              "solidity": 0.2
             }
            },
            "type": "histogram"
           }
          ],
          "histogram2d": [
           {
            "colorbar": {
             "outlinewidth": 0,
             "ticks": ""
            },
            "colorscale": [
             [
              0,
              "#0d0887"
             ],
             [
              0.1111111111111111,
              "#46039f"
             ],
             [
              0.2222222222222222,
              "#7201a8"
             ],
             [
              0.3333333333333333,
              "#9c179e"
             ],
             [
              0.4444444444444444,
              "#bd3786"
             ],
             [
              0.5555555555555556,
              "#d8576b"
             ],
             [
              0.6666666666666666,
              "#ed7953"
             ],
             [
              0.7777777777777778,
              "#fb9f3a"
             ],
             [
              0.8888888888888888,
              "#fdca26"
             ],
             [
              1,
              "#f0f921"
             ]
            ],
            "type": "histogram2d"
           }
          ],
          "histogram2dcontour": [
           {
            "colorbar": {
             "outlinewidth": 0,
             "ticks": ""
            },
            "colorscale": [
             [
              0,
              "#0d0887"
             ],
             [
              0.1111111111111111,
              "#46039f"
             ],
             [
              0.2222222222222222,
              "#7201a8"
             ],
             [
              0.3333333333333333,
              "#9c179e"
             ],
             [
              0.4444444444444444,
              "#bd3786"
             ],
             [
              0.5555555555555556,
              "#d8576b"
             ],
             [
              0.6666666666666666,
              "#ed7953"
             ],
             [
              0.7777777777777778,
              "#fb9f3a"
             ],
             [
              0.8888888888888888,
              "#fdca26"
             ],
             [
              1,
              "#f0f921"
             ]
            ],
            "type": "histogram2dcontour"
           }
          ],
          "mesh3d": [
           {
            "colorbar": {
             "outlinewidth": 0,
             "ticks": ""
            },
            "type": "mesh3d"
           }
          ],
          "parcoords": [
           {
            "line": {
             "colorbar": {
              "outlinewidth": 0,
              "ticks": ""
             }
            },
            "type": "parcoords"
           }
          ],
          "pie": [
           {
            "automargin": true,
            "type": "pie"
           }
          ],
          "scatter": [
           {
            "fillpattern": {
             "fillmode": "overlay",
             "size": 10,
             "solidity": 0.2
            },
            "type": "scatter"
           }
          ],
          "scatter3d": [
           {
            "line": {
             "colorbar": {
              "outlinewidth": 0,
              "ticks": ""
             }
            },
            "marker": {
             "colorbar": {
              "outlinewidth": 0,
              "ticks": ""
             }
            },
            "type": "scatter3d"
           }
          ],
          "scattercarpet": [
           {
            "marker": {
             "colorbar": {
              "outlinewidth": 0,
              "ticks": ""
             }
            },
            "type": "scattercarpet"
           }
          ],
          "scattergeo": [
           {
            "marker": {
             "colorbar": {
              "outlinewidth": 0,
              "ticks": ""
             }
            },
            "type": "scattergeo"
           }
          ],
          "scattergl": [
           {
            "marker": {
             "colorbar": {
              "outlinewidth": 0,
              "ticks": ""
             }
            },
            "type": "scattergl"
           }
          ],
          "scattermapbox": [
           {
            "marker": {
             "colorbar": {
              "outlinewidth": 0,
              "ticks": ""
             }
            },
            "type": "scattermapbox"
           }
          ],
          "scatterpolar": [
           {
            "marker": {
             "colorbar": {
              "outlinewidth": 0,
              "ticks": ""
             }
            },
            "type": "scatterpolar"
           }
          ],
          "scatterpolargl": [
           {
            "marker": {
             "colorbar": {
              "outlinewidth": 0,
              "ticks": ""
             }
            },
            "type": "scatterpolargl"
           }
          ],
          "scatterternary": [
           {
            "marker": {
             "colorbar": {
              "outlinewidth": 0,
              "ticks": ""
             }
            },
            "type": "scatterternary"
           }
          ],
          "surface": [
           {
            "colorbar": {
             "outlinewidth": 0,
             "ticks": ""
            },
            "colorscale": [
             [
              0,
              "#0d0887"
             ],
             [
              0.1111111111111111,
              "#46039f"
             ],
             [
              0.2222222222222222,
              "#7201a8"
             ],
             [
              0.3333333333333333,
              "#9c179e"
             ],
             [
              0.4444444444444444,
              "#bd3786"
             ],
             [
              0.5555555555555556,
              "#d8576b"
             ],
             [
              0.6666666666666666,
              "#ed7953"
             ],
             [
              0.7777777777777778,
              "#fb9f3a"
             ],
             [
              0.8888888888888888,
              "#fdca26"
             ],
             [
              1,
              "#f0f921"
             ]
            ],
            "type": "surface"
           }
          ],
          "table": [
           {
            "cells": {
             "fill": {
              "color": "#EBF0F8"
             },
             "line": {
              "color": "white"
             }
            },
            "header": {
             "fill": {
              "color": "#C8D4E3"
             },
             "line": {
              "color": "white"
             }
            },
            "type": "table"
           }
          ]
         },
         "layout": {
          "annotationdefaults": {
           "arrowcolor": "#2a3f5f",
           "arrowhead": 0,
           "arrowwidth": 1
          },
          "autotypenumbers": "strict",
          "coloraxis": {
           "colorbar": {
            "outlinewidth": 0,
            "ticks": ""
           }
          },
          "colorscale": {
           "diverging": [
            [
             0,
             "#8e0152"
            ],
            [
             0.1,
             "#c51b7d"
            ],
            [
             0.2,
             "#de77ae"
            ],
            [
             0.3,
             "#f1b6da"
            ],
            [
             0.4,
             "#fde0ef"
            ],
            [
             0.5,
             "#f7f7f7"
            ],
            [
             0.6,
             "#e6f5d0"
            ],
            [
             0.7,
             "#b8e186"
            ],
            [
             0.8,
             "#7fbc41"
            ],
            [
             0.9,
             "#4d9221"
            ],
            [
             1,
             "#276419"
            ]
           ],
           "sequential": [
            [
             0,
             "#0d0887"
            ],
            [
             0.1111111111111111,
             "#46039f"
            ],
            [
             0.2222222222222222,
             "#7201a8"
            ],
            [
             0.3333333333333333,
             "#9c179e"
            ],
            [
             0.4444444444444444,
             "#bd3786"
            ],
            [
             0.5555555555555556,
             "#d8576b"
            ],
            [
             0.6666666666666666,
             "#ed7953"
            ],
            [
             0.7777777777777778,
             "#fb9f3a"
            ],
            [
             0.8888888888888888,
             "#fdca26"
            ],
            [
             1,
             "#f0f921"
            ]
           ],
           "sequentialminus": [
            [
             0,
             "#0d0887"
            ],
            [
             0.1111111111111111,
             "#46039f"
            ],
            [
             0.2222222222222222,
             "#7201a8"
            ],
            [
             0.3333333333333333,
             "#9c179e"
            ],
            [
             0.4444444444444444,
             "#bd3786"
            ],
            [
             0.5555555555555556,
             "#d8576b"
            ],
            [
             0.6666666666666666,
             "#ed7953"
            ],
            [
             0.7777777777777778,
             "#fb9f3a"
            ],
            [
             0.8888888888888888,
             "#fdca26"
            ],
            [
             1,
             "#f0f921"
            ]
           ]
          },
          "colorway": [
           "#636efa",
           "#EF553B",
           "#00cc96",
           "#ab63fa",
           "#FFA15A",
           "#19d3f3",
           "#FF6692",
           "#B6E880",
           "#FF97FF",
           "#FECB52"
          ],
          "font": {
           "color": "#2a3f5f"
          },
          "geo": {
           "bgcolor": "white",
           "lakecolor": "white",
           "landcolor": "#E5ECF6",
           "showlakes": true,
           "showland": true,
           "subunitcolor": "white"
          },
          "hoverlabel": {
           "align": "left"
          },
          "hovermode": "closest",
          "mapbox": {
           "style": "light"
          },
          "paper_bgcolor": "white",
          "plot_bgcolor": "#E5ECF6",
          "polar": {
           "angularaxis": {
            "gridcolor": "white",
            "linecolor": "white",
            "ticks": ""
           },
           "bgcolor": "#E5ECF6",
           "radialaxis": {
            "gridcolor": "white",
            "linecolor": "white",
            "ticks": ""
           }
          },
          "scene": {
           "xaxis": {
            "backgroundcolor": "#E5ECF6",
            "gridcolor": "white",
            "gridwidth": 2,
            "linecolor": "white",
            "showbackground": true,
            "ticks": "",
            "zerolinecolor": "white"
           },
           "yaxis": {
            "backgroundcolor": "#E5ECF6",
            "gridcolor": "white",
            "gridwidth": 2,
            "linecolor": "white",
            "showbackground": true,
            "ticks": "",
            "zerolinecolor": "white"
           },
           "zaxis": {
            "backgroundcolor": "#E5ECF6",
            "gridcolor": "white",
            "gridwidth": 2,
            "linecolor": "white",
            "showbackground": true,
            "ticks": "",
            "zerolinecolor": "white"
           }
          },
          "shapedefaults": {
           "line": {
            "color": "#2a3f5f"
           }
          },
          "ternary": {
           "aaxis": {
            "gridcolor": "white",
            "linecolor": "white",
            "ticks": ""
           },
           "baxis": {
            "gridcolor": "white",
            "linecolor": "white",
            "ticks": ""
           },
           "bgcolor": "#E5ECF6",
           "caxis": {
            "gridcolor": "white",
            "linecolor": "white",
            "ticks": ""
           }
          },
          "title": {
           "x": 0.05
          },
          "xaxis": {
           "automargin": true,
           "gridcolor": "white",
           "linecolor": "white",
           "ticks": "",
           "title": {
            "standoff": 15
           },
           "zerolinecolor": "white",
           "zerolinewidth": 2
          },
          "yaxis": {
           "automargin": true,
           "gridcolor": "white",
           "linecolor": "white",
           "ticks": "",
           "title": {
            "standoff": 15
           },
           "zerolinecolor": "white",
           "zerolinewidth": 2
          }
         }
        },
        "width": 1000
       }
      },
      "text/html": [
       "<div>                            <div id=\"6c2bc76a-2908-44b7-a5db-7442126bf38f\" class=\"plotly-graph-div\" style=\"height:500px; width:1000px;\"></div>            <script type=\"text/javascript\">                require([\"plotly\"], function(Plotly) {                    window.PLOTLYENV=window.PLOTLYENV || {};                                    if (document.getElementById(\"6c2bc76a-2908-44b7-a5db-7442126bf38f\")) {                    Plotly.newPlot(                        \"6c2bc76a-2908-44b7-a5db-7442126bf38f\",                        [{\"meanline\":{\"visible\":true},\"name\":\"bus1\",\"orientation\":\"v\",\"side\":\"positive\",\"x\":[\"bus1\",\"bus1\",\"bus1\",\"bus1\",\"bus1\",\"bus1\",\"bus1\",\"bus1\",\"bus1\",\"bus1\",\"bus1\",\"bus1\",\"bus1\",\"bus1\",\"bus1\",\"bus1\",\"bus1\",\"bus1\",\"bus1\",\"bus1\",\"bus1\",\"bus1\",\"bus1\",\"bus1\",\"bus1\",\"bus1\",\"bus1\",\"bus1\",\"bus1\",\"bus1\",\"bus1\",\"bus1\",\"bus1\",\"bus1\",\"bus1\",\"bus1\",\"bus1\",\"bus1\",\"bus1\",\"bus1\",\"bus1\",\"bus1\",\"bus1\",\"bus1\",\"bus1\",\"bus1\",\"bus1\",\"bus1\",\"bus1\",\"bus1\",\"bus1\",\"bus1\",\"bus1\",\"bus1\",\"bus1\",\"bus1\",\"bus1\",\"bus1\",\"bus1\",\"bus1\",\"bus1\",\"bus1\",\"bus1\",\"bus1\",\"bus1\",\"bus1\",\"bus1\",\"bus1\",\"bus1\",\"bus1\",\"bus1\",\"bus1\",\"bus1\",\"bus1\",\"bus1\",\"bus1\",\"bus1\",\"bus1\",\"bus1\",\"bus1\",\"bus1\",\"bus1\",\"bus1\",\"bus1\",\"bus1\",\"bus1\",\"bus1\",\"bus1\",\"bus1\",\"bus1\",\"bus1\",\"bus1\",\"bus1\",\"bus1\",\"bus1\",\"bus1\",\"bus1\",\"bus1\",\"bus1\",\"bus1\",\"bus1\",\"bus1\",\"bus1\",\"bus1\",\"bus1\",\"bus1\",\"bus1\",\"bus1\",\"bus1\",\"bus1\",\"bus1\",\"bus1\",\"bus1\",\"bus1\",\"bus1\",\"bus1\",\"bus1\",\"bus1\",\"bus1\",\"bus1\",\"bus1\",\"bus1\",\"bus1\",\"bus1\",\"bus1\",\"bus1\",\"bus1\",\"bus1\",\"bus1\",\"bus1\",\"bus1\",\"bus1\",\"bus1\",\"bus1\",\"bus1\",\"bus1\",\"bus1\",\"bus1\",\"bus1\",\"bus1\",\"bus1\",\"bus1\",\"bus1\",\"bus1\",\"bus1\",\"bus1\",\"bus1\",\"bus1\",\"bus1\",\"bus1\",\"bus1\",\"bus1\",\"bus1\",\"bus1\",\"bus1\",\"bus1\",\"bus1\",\"bus1\",\"bus1\",\"bus1\"],\"y\":[1.0000000000000009,1.0000000000000009,1.0000000000000009,1.0000000000000009,1.0000000000000002,1.0000000000000002,1.0000000000000002,1.0000000000000002,1.0,1.0,1.0,1.0,1.0,1.0,1.0,1.0,1.0000000000000002,1.0000000000000002,1.0000000000000002,1.0000000000000002,1.0000000000000004,1.0000000000000004,1.0000000000000004,1.0000000000000004,1.0000000000000002,1.0000000000000002,1.0000000000000002,1.0000000000000002,1.0,1.0,1.0,1.0,1.0000000000000016,1.0000000000000016,1.0000000000000016,1.0000000000000016,1.0000000000000002,1.0000000000000002,1.0000000000000002,1.0000000000000002,1.0,1.0,1.0,1.0,1.0000000000000002,1.0000000000000004,1.0000000000000002,1.0000000000000002,1.0000000000000002,1.0000000000000002,1.0000000000000004,1.0000000000000002,1.0,1.0,1.0000000000000002,1.0,1.0000000099741932,1.0000000099741932,1.0000000000000002,1.0000000099741932,1.000000009975422,1.000000009728711,1.0000000099754212,1.0000000099741968,1.000000009975092,1.0000000099741968,1.0000000098449575,1.000000009975092,1.0,1.0,1.0,1.0,1.0,1.0,1.0,1.0,1.0000000000000002,1.0,1.0,1.0,1.0000000000000004,1.0000000000000009,1.0000000000000004,1.0000000000000002,1.0000000000000002,1.0000000000000004,1.0000000000000004,1.0000000000000002,1.0,1.0,1.0,1.0,1.0000000000000004,1.0000000000000002,1.0000000000000002,1.0000000000000002,1.0000000000000009,1.0000000000000004,1.0000000000000004,1.0000000000000004,1.0,1.0,1.0,1.0,1.0,1.0,1.0,1.0,1.000000000000001,1.000000000000001,1.000000000000001,1.000000000000001,1.0,1.0,1.0,1.0,1.0000000000000004,1.0000000000000004,1.0000000000000004,1.0000000000000004,1.0000000000000004,1.0000000000000004,1.0000000000000004,1.0000000000000004,1.0000000000000004,1.0000000000000004,1.0000000000000004,1.0000000000000004,1.0,1.0,1.0,1.0,1.0000000000000004,1.0000000000000004,1.0000000000000004,1.0000000000000004,1.0000000000000004,1.0000000000000004,1.0000000000000004,1.0000000000000004,1.0000000000000009,1.0000000000000009,1.0000000000000009,1.0000000000000009,1.0000000000000004,1.0000000000000004,1.0000000000000004,1.0000000000000004,1.0000000000000002,1.0000000000000002,1.0000000000000002,1.0000000000000002,1.0000000000000002,1.0000000000000002,1.0000000000000002,1.0000000000000002,1.0000000000000002,1.0000000000000002,1.0000000000000002,1.0000000000000002],\"type\":\"violin\"},{\"meanline\":{\"visible\":true},\"name\":\"bus10\",\"orientation\":\"v\",\"side\":\"positive\",\"x\":[\"bus10\",\"bus10\",\"bus10\",\"bus10\",\"bus10\",\"bus10\",\"bus10\",\"bus10\",\"bus10\",\"bus10\",\"bus10\",\"bus10\",\"bus10\",\"bus10\",\"bus10\",\"bus10\",\"bus10\",\"bus10\",\"bus10\",\"bus10\",\"bus10\",\"bus10\",\"bus10\",\"bus10\",\"bus10\",\"bus10\",\"bus10\",\"bus10\",\"bus10\",\"bus10\",\"bus10\",\"bus10\",\"bus10\",\"bus10\",\"bus10\",\"bus10\",\"bus10\",\"bus10\",\"bus10\",\"bus10\",\"bus10\",\"bus10\",\"bus10\",\"bus10\",\"bus10\",\"bus10\",\"bus10\",\"bus10\",\"bus10\",\"bus10\",\"bus10\",\"bus10\",\"bus10\",\"bus10\",\"bus10\",\"bus10\",\"bus10\",\"bus10\",\"bus10\",\"bus10\",\"bus10\",\"bus10\",\"bus10\",\"bus10\",\"bus10\",\"bus10\",\"bus10\",\"bus10\",\"bus10\",\"bus10\",\"bus10\",\"bus10\",\"bus10\",\"bus10\",\"bus10\",\"bus10\",\"bus10\",\"bus10\",\"bus10\",\"bus10\",\"bus10\",\"bus10\",\"bus10\",\"bus10\",\"bus10\",\"bus10\",\"bus10\",\"bus10\",\"bus10\",\"bus10\",\"bus10\",\"bus10\",\"bus10\",\"bus10\",\"bus10\",\"bus10\",\"bus10\",\"bus10\",\"bus10\",\"bus10\",\"bus10\",\"bus10\",\"bus10\",\"bus10\",\"bus10\",\"bus10\",\"bus10\",\"bus10\",\"bus10\",\"bus10\",\"bus10\",\"bus10\",\"bus10\",\"bus10\",\"bus10\",\"bus10\",\"bus10\",\"bus10\",\"bus10\",\"bus10\",\"bus10\",\"bus10\",\"bus10\",\"bus10\",\"bus10\",\"bus10\",\"bus10\",\"bus10\",\"bus10\",\"bus10\",\"bus10\",\"bus10\",\"bus10\",\"bus10\",\"bus10\",\"bus10\",\"bus10\",\"bus10\",\"bus10\",\"bus10\",\"bus10\",\"bus10\",\"bus10\",\"bus10\",\"bus10\",\"bus10\",\"bus10\",\"bus10\",\"bus10\",\"bus10\",\"bus10\",\"bus10\",\"bus10\",\"bus10\",\"bus10\",\"bus10\",\"bus10\",\"bus10\",\"bus10\",\"bus10\"],\"y\":[0.9853057920510876,0.9853057920510876,0.9853057920510876,0.9853057920510876,0.9959226594741516,0.9959226594741516,0.9959226594741516,0.9959226594741516,1.000900796084789,1.000900796084789,1.000900796084789,1.000900796084789,1.0005363499265338,1.0005363499265338,1.0005363499265338,1.0005363499265338,0.9998198243448916,0.9998198243448916,0.9998198243448916,0.9998198243448916,0.98776898812531,0.98776898812531,0.98776898812531,0.98776898812531,0.9958956477890024,0.9958956477890024,0.9958956477890024,0.9958956477890024,1.0011822864849889,1.0011822864849889,1.0011822864849889,1.0011822864849889,0.9864877045769505,0.9864877045769505,0.9864877045769505,0.9864877045769505,0.9995781562622984,0.9995781562622984,0.9995781562622984,0.9995781562622984,1.0020131861095136,1.0020131861095136,1.0020131861095136,1.0020131861095136,0.9973690229549252,0.9981553548237916,0.9949570850505148,0.9950877839590456,0.9997964662412224,0.9940453602146812,1.0001607615554953,0.9907198603636276,1.000209762179341,1.001483999980139,1.0001607622525766,1.0002097621793418,1.000160763229952,1.000160763229952,0.9881528904512886,1.0002097689030272,0.9879745901492666,null,0.9882775878606168,1.0001607625704951,0.981676684926342,null,0.981980915539972,0.981676684926342,0.9957731423219146,1.0001607609871217,0.9966408045462424,0.9957727621503925,0.9974705083370804,0.9974706544917266,0.9984342127514718,0.9974706840097548,1.0028161903661292,0.9979810680322564,1.0001790676725557,0.998291739151246,0.9871840617714968,0.9835617947656804,0.9871840617712428,0.9914910423462696,0.9932282679473616,0.9889387847377848,0.9889387855105278,0.9923808895531022,1.0016987228896854,1.00200303685563,1.0020030368567998,1.0018111518499686,0.9968896379211972,0.9918201109356198,0.99426684188973,0.9952551560299272,0.9956964308565868,0.9901053706332638,0.993961321428692,0.9941263374885544,1.0000313304791035,0.9999085035553632,1.0000313304791035,1.0000313304791035,1.0026875769964256,1.0034562972587937,1.0026875769964256,1.0026875769964256,0.9841496751470916,0.9841496751470916,0.9841496751470916,0.9841496751470916,1.000689232076003,1.000689232076003,1.000689232076003,1.000689232076003,0.989723163612954,0.989723163612954,0.989723163612954,0.989723163612954,0.9965915134288074,0.9965915134288074,0.9965915134288074,0.9965915134288074,0.9928671259709736,0.9928671259709736,0.9928671259709736,0.9928671259709736,1.0005095360752916,1.0005095360752916,1.0005095360752916,1.0005095360752916,0.9914434665584864,0.9914434665584864,0.9914434665584864,0.9914434665584864,0.9898467701355792,0.9898467701355792,0.9898467701355792,0.9898467701355792,0.9865804007636472,0.9865804007636472,0.9865804007636472,0.9865804007636472,0.9880236254875132,0.9880236254875132,0.9880236254875132,0.9880236254875132,0.9924464443537676,0.9924464443537676,0.9924464443537676,0.9924464443537676,1.0014391218364835,1.0014391218364835,1.0014391218364835,1.0014391218364835,0.9991152495850628,0.9991152495850628,0.9991152495850628,0.9991152495850628],\"type\":\"violin\"},{\"meanline\":{\"visible\":true},\"name\":\"bus11\",\"orientation\":\"v\",\"side\":\"positive\",\"x\":[\"bus11\",\"bus11\",\"bus11\",\"bus11\",\"bus11\",\"bus11\",\"bus11\",\"bus11\",\"bus11\",\"bus11\",\"bus11\",\"bus11\",\"bus11\",\"bus11\",\"bus11\",\"bus11\",\"bus11\",\"bus11\",\"bus11\",\"bus11\",\"bus11\",\"bus11\",\"bus11\",\"bus11\",\"bus11\",\"bus11\",\"bus11\",\"bus11\",\"bus11\",\"bus11\",\"bus11\",\"bus11\",\"bus11\",\"bus11\",\"bus11\",\"bus11\",\"bus11\",\"bus11\",\"bus11\",\"bus11\",\"bus11\",\"bus11\",\"bus11\",\"bus11\",\"bus11\",\"bus11\",\"bus11\",\"bus11\",\"bus11\",\"bus11\",\"bus11\",\"bus11\",\"bus11\",\"bus11\",\"bus11\",\"bus11\",\"bus11\",\"bus11\",\"bus11\",\"bus11\",\"bus11\",\"bus11\",\"bus11\",\"bus11\",\"bus11\",\"bus11\",\"bus11\",\"bus11\",\"bus11\",\"bus11\",\"bus11\",\"bus11\",\"bus11\",\"bus11\",\"bus11\",\"bus11\",\"bus11\",\"bus11\",\"bus11\",\"bus11\",\"bus11\",\"bus11\",\"bus11\",\"bus11\",\"bus11\",\"bus11\",\"bus11\",\"bus11\",\"bus11\",\"bus11\",\"bus11\",\"bus11\",\"bus11\",\"bus11\",\"bus11\",\"bus11\",\"bus11\",\"bus11\",\"bus11\",\"bus11\",\"bus11\",\"bus11\",\"bus11\",\"bus11\",\"bus11\",\"bus11\",\"bus11\",\"bus11\",\"bus11\",\"bus11\",\"bus11\",\"bus11\",\"bus11\",\"bus11\",\"bus11\",\"bus11\",\"bus11\",\"bus11\",\"bus11\",\"bus11\",\"bus11\",\"bus11\",\"bus11\",\"bus11\",\"bus11\",\"bus11\",\"bus11\",\"bus11\",\"bus11\",\"bus11\",\"bus11\",\"bus11\",\"bus11\",\"bus11\",\"bus11\",\"bus11\",\"bus11\",\"bus11\",\"bus11\",\"bus11\",\"bus11\",\"bus11\",\"bus11\",\"bus11\",\"bus11\",\"bus11\",\"bus11\",\"bus11\",\"bus11\",\"bus11\",\"bus11\",\"bus11\",\"bus11\",\"bus11\",\"bus11\",\"bus11\",\"bus11\",\"bus11\",\"bus11\",\"bus11\"],\"y\":[1.0098566676902958,1.0098566676902958,1.0098566676902958,1.0098566676902958,1.0069974935174584,1.0069974935174584,1.0069974935174584,1.0069974935174584,1.0028407776058343,1.0028407776058343,1.0028407776058343,1.0028407776058343,1.0016988976610754,1.0016988976610754,1.0016988976610754,1.0016988976610754,1.0055582364318243,1.0055582364318243,1.0055582364318243,1.0055582364318243,1.007029254207041,1.007029254207041,1.007029254207041,1.007029254207041,1.0044424338696292,1.0044424338696292,1.0044424338696292,1.0044424338696292,1.0038600962158637,1.0038600962158637,1.0038600962158637,1.0038600962158637,1.0174883573784377,1.0174883573784377,1.0174883573784377,1.0174883573784377,1.0037672147772758,1.0037672147772758,1.0037672147772758,1.0037672147772758,1.0049997129496984,1.0049997129496984,1.0049997129496984,1.0049997129496984,1.0044810638293955,1.00631555523338,1.002735547261857,1.0027756350081714,0.9981326984755896,1.0008606066817225,0.9998361318211212,1.0038206419722429,0.999222284748054,1.0008279909525846,0.999836132517976,0.9992222847480547,0.9998361334950344,0.9998361334950342,1.0075820176924268,0.9992222914651016,1.0247661835869528,null,1.0247231195796034,0.9998361328357912,1.0118154814044082,null,1.0117792010347004,1.0118154814044085,0.9981346086465746,0.999836131252932,0.9987513835771042,0.9981350891139512,0.9985875761251451,0.998588146378359,0.9988348435798392,0.9985881281318572,1.007416609848968,0.9987126157131244,1.001144929393798,0.9987898398300376,1.0074096309909937,1.0059713164472626,1.0074096309907448,1.0021504978371885,1.0052139969672342,1.0079251677630747,1.0079251686559063,1.0023498592616658,1.002989655827731,1.0031801926507953,1.003180192652128,1.003070534835547,1.0076284237553172,1.0052509882133245,1.0033037905076865,1.0045048654903428,1.0102523798209369,1.0083528929094332,1.006667934876767,1.006828736640237,1.0010527559127549,1.0009586118059537,1.0010527559127549,1.0010527559127549,1.0056810785632333,1.0062468407125125,1.0056810785632333,1.0056810785632333,1.011236646644823,1.011236646644823,1.011236646644823,1.011236646644823,1.0023244861881917,1.0023244861881917,1.0023244861881917,1.0023244861881917,1.004519673002492,1.004519673002492,1.004519673002492,1.004519673002492,1.007629253978217,1.007629253978217,1.007629253978217,1.007629253978217,1.0077454928524971,1.0077454928524971,1.0077454928524971,1.0077454928524971,1.0021520576150948,1.0021520576150948,1.0021520576150948,1.0021520576150948,1.014202726877404,1.014202726877404,1.014202726877404,1.014202726877404,1.0092283526768124,1.0092283526768124,1.0092283526768124,1.0092283526768124,1.0089771704145751,1.0089771704145751,1.0089771704145751,1.0089771704145751,1.0090906871830878,1.0090906871830878,1.0090906871830878,1.0090906871830878,1.00357154739815,1.00357154739815,1.00357154739815,1.00357154739815,1.0072419136117134,1.0072419136117134,1.0072419136117134,1.0072419136117134,1.0076524641686997,1.0076524641686997,1.0076524641686997,1.0076524641686997],\"type\":\"violin\"},{\"meanline\":{\"visible\":true},\"name\":\"bus12\",\"orientation\":\"v\",\"side\":\"positive\",\"x\":[\"bus12\",\"bus12\",\"bus12\",\"bus12\",\"bus12\",\"bus12\",\"bus12\",\"bus12\",\"bus12\",\"bus12\",\"bus12\",\"bus12\",\"bus12\",\"bus12\",\"bus12\",\"bus12\",\"bus12\",\"bus12\",\"bus12\",\"bus12\",\"bus12\",\"bus12\",\"bus12\",\"bus12\",\"bus12\",\"bus12\",\"bus12\",\"bus12\",\"bus12\",\"bus12\",\"bus12\",\"bus12\",\"bus12\",\"bus12\",\"bus12\",\"bus12\",\"bus12\",\"bus12\",\"bus12\",\"bus12\",\"bus12\",\"bus12\",\"bus12\",\"bus12\",\"bus12\",\"bus12\",\"bus12\",\"bus12\",\"bus12\",\"bus12\",\"bus12\",\"bus12\",\"bus12\",\"bus12\",\"bus12\",\"bus12\",\"bus12\",\"bus12\",\"bus12\",\"bus12\",\"bus12\",\"bus12\",\"bus12\",\"bus12\",\"bus12\",\"bus12\",\"bus12\",\"bus12\",\"bus12\",\"bus12\",\"bus12\",\"bus12\",\"bus12\",\"bus12\",\"bus12\",\"bus12\",\"bus12\",\"bus12\",\"bus12\",\"bus12\",\"bus12\",\"bus12\",\"bus12\",\"bus12\",\"bus12\",\"bus12\",\"bus12\",\"bus12\",\"bus12\",\"bus12\",\"bus12\",\"bus12\",\"bus12\",\"bus12\",\"bus12\",\"bus12\",\"bus12\",\"bus12\",\"bus12\",\"bus12\",\"bus12\",\"bus12\",\"bus12\",\"bus12\",\"bus12\",\"bus12\",\"bus12\",\"bus12\",\"bus12\",\"bus12\",\"bus12\",\"bus12\",\"bus12\",\"bus12\",\"bus12\",\"bus12\",\"bus12\",\"bus12\",\"bus12\",\"bus12\",\"bus12\",\"bus12\",\"bus12\",\"bus12\",\"bus12\",\"bus12\",\"bus12\",\"bus12\",\"bus12\",\"bus12\",\"bus12\",\"bus12\",\"bus12\",\"bus12\",\"bus12\",\"bus12\",\"bus12\",\"bus12\",\"bus12\",\"bus12\",\"bus12\",\"bus12\",\"bus12\",\"bus12\",\"bus12\",\"bus12\",\"bus12\",\"bus12\",\"bus12\",\"bus12\",\"bus12\",\"bus12\",\"bus12\",\"bus12\",\"bus12\",\"bus12\",\"bus12\",\"bus12\",\"bus12\",\"bus12\"],\"y\":[0.9905849017084852,0.9905849017084852,0.9905849017084852,0.9905849017084852,0.9947145692903862,0.9947145692903862,0.9947145692903862,0.9947145692903862,0.9992690801419482,0.9992690801419482,0.9992690801419482,0.9992690801419482,0.9992640789744368,0.9992640789744368,0.9992640789744368,0.9992640789744368,0.9956889573237488,0.9956889573237488,0.9956889573237488,0.9956889573237488,0.9935692429737232,0.9935692429737232,0.9935692429737232,0.9935692429737232,0.9965852596545356,0.9965852596545356,0.9965852596545356,0.9965852596545356,0.997492882078461,0.997492882078461,0.997492882078461,0.997492882078461,0.9905447329853848,0.9905447329853848,0.9905447329853848,0.9905447329853848,0.9996762636194336,0.9996762636194336,0.9996762636194336,0.9996762636194336,0.99757468489479,0.99757468489479,0.99757468489479,0.99757468489479,0.9983959195227016,0.999958399231602,0.9999626840067896,0.9954244783029794,1.0008258621178017,0.9967582542730044,0.9992005535094116,0.9910550767925542,1.000548189577508,1.0014909689064886,null,1.0005481895775088,null,null,null,1.0005481963034693,null,null,0.9886119779309532,1.0013954946364223,null,null,0.9823131750907804,1.0013940598883142,0.995900941534968,null,0.996978024364668,1.0013986225640965,1.0015976462659852,null,0.99962024473482,1.0013962397216631,0.9971958560526498,null,1.0000376353880336,1.00144207376644,0.9903547221825328,null,0.9903547221823116,0.9952529080508488,0.9941662447599876,0.992014044953852,0.9920140455041632,0.9958570693900778,0.9991012918898858,0.999330807084906,0.9993308070858596,0.999187350291658,0.9989634021344064,0.9953094623070337,0.996610873173038,0.997432485933326,0.9959994844137388,0.9922784330618688,0.994202508524033,0.9943364349951342,1.0000547729151714,0.99996042973054,1.0000547729151714,1.0000547729151714,0.9989681683243764,0.9995586847014988,0.9989681683243764,0.9989681683243764,0.9913578677450492,0.9913578677450492,0.9913578677450492,0.9913578677450492,0.9988719251976024,0.9988719251976024,0.9988719251976024,0.9988719251976024,0.9941402564747942,0.9941402564747942,0.9941402564747942,0.9941402564747942,0.9948837795157136,0.9948837795157136,0.9948837795157136,0.9948837795157136,0.9934582210742076,0.9934582210742076,0.9934582210742076,0.9934582210742076,0.9998598492836076,0.9998598492836076,0.9998598492836076,0.9998598492836076,0.9907879694077436,0.9907879694077436,0.9907879694077436,0.9907879694077436,0.9910675262698936,0.9910675262698936,0.9910675262698936,0.9910675262698936,0.9931678453383712,0.9931678453383712,0.9931678453383712,0.9931678453383712,0.9923981307542572,0.9923981307542572,0.9923981307542572,0.9923981307542572,0.9951415722330248,0.9951415722330248,0.9951415722330248,0.9951415722330248,0.9970759446576384,0.9970759446576384,0.9970759446576384,0.9970759446576384,0.9966539938265234,0.9966539938265234,0.9966539938265234,0.9966539938265234],\"type\":\"violin\"},{\"meanline\":{\"visible\":true},\"name\":\"bus13\",\"orientation\":\"v\",\"side\":\"positive\",\"x\":[\"bus13\",\"bus13\",\"bus13\",\"bus13\",\"bus13\",\"bus13\",\"bus13\",\"bus13\",\"bus13\",\"bus13\",\"bus13\",\"bus13\",\"bus13\",\"bus13\",\"bus13\",\"bus13\",\"bus13\",\"bus13\",\"bus13\",\"bus13\",\"bus13\",\"bus13\",\"bus13\",\"bus13\",\"bus13\",\"bus13\",\"bus13\",\"bus13\",\"bus13\",\"bus13\",\"bus13\",\"bus13\",\"bus13\",\"bus13\",\"bus13\",\"bus13\",\"bus13\",\"bus13\",\"bus13\",\"bus13\",\"bus13\",\"bus13\",\"bus13\",\"bus13\",\"bus13\",\"bus13\",\"bus13\",\"bus13\",\"bus13\",\"bus13\",\"bus13\",\"bus13\",\"bus13\",\"bus13\",\"bus13\",\"bus13\",\"bus13\",\"bus13\",\"bus13\",\"bus13\",\"bus13\",\"bus13\",\"bus13\",\"bus13\",\"bus13\",\"bus13\",\"bus13\",\"bus13\",\"bus13\",\"bus13\",\"bus13\",\"bus13\",\"bus13\",\"bus13\",\"bus13\",\"bus13\",\"bus13\",\"bus13\",\"bus13\",\"bus13\",\"bus13\",\"bus13\",\"bus13\",\"bus13\",\"bus13\",\"bus13\",\"bus13\",\"bus13\",\"bus13\",\"bus13\",\"bus13\",\"bus13\",\"bus13\",\"bus13\",\"bus13\",\"bus13\",\"bus13\",\"bus13\",\"bus13\",\"bus13\",\"bus13\",\"bus13\",\"bus13\",\"bus13\",\"bus13\",\"bus13\",\"bus13\",\"bus13\",\"bus13\",\"bus13\",\"bus13\",\"bus13\",\"bus13\",\"bus13\",\"bus13\",\"bus13\",\"bus13\",\"bus13\",\"bus13\",\"bus13\",\"bus13\",\"bus13\",\"bus13\",\"bus13\",\"bus13\",\"bus13\",\"bus13\",\"bus13\",\"bus13\",\"bus13\",\"bus13\",\"bus13\",\"bus13\",\"bus13\",\"bus13\",\"bus13\",\"bus13\",\"bus13\",\"bus13\",\"bus13\",\"bus13\",\"bus13\",\"bus13\",\"bus13\",\"bus13\",\"bus13\",\"bus13\",\"bus13\",\"bus13\",\"bus13\",\"bus13\",\"bus13\",\"bus13\",\"bus13\",\"bus13\",\"bus13\",\"bus13\",\"bus13\",\"bus13\",\"bus13\"],\"y\":[0.995541575228997,0.995541575228997,0.995541575228997,0.995541575228997,0.9928351422735272,0.9928351422735272,0.9928351422735272,0.9928351422735272,0.9969691012170748,0.9969691012170748,0.9969691012170748,0.9969691012170748,0.9973174718172636,0.9973174718172636,0.9973174718172636,0.9973174718172636,0.9909663698432932,0.9909663698432932,0.9909663698432932,0.9909663698432932,0.998994885075954,0.998994885075954,0.998994885075954,0.998994885075954,0.9966058259879522,0.9966058259879522,0.9966058259879522,0.9966058259879522,0.9931837581588736,0.9931837581588736,0.9931837581588736,0.9931837581588736,0.9942099788508828,0.9942099788508828,0.9942099788508828,0.9942099788508828,0.9990929974437566,0.9990929974437566,0.9990929974437566,0.9990929974437566,0.9925735492337512,0.9925735492337512,0.9925735492337512,0.9925735492337512,0.9987476665633872,1.001130213621516,0.9996105090514222,0.9990353197794692,1.0011784652568545,0.9988430642822772,0.9988486469673342,null,1.0006821110163515,1.0008061447040564,1.0006821101241483,null,1.0006964199701938,1.0006964199706387,1.0006964231924966,0.994475838169956,1.000671822046456,null,null,1.0010428150622053,1.0002833120550627,null,null,1.001041380819398,0.9955501970769548,null,null,1.0010459418882598,1.00124489549637,null,1.0001334732113418,1.0010435598850358,0.9911098539603664,null,0.9992190564146324,1.0010893777876075,0.9929569118564732,0.9945607305586128,0.9929569118562844,0.9984414023272096,0.9944323101974668,0.9944967506310513,0.9944967509539556,0.9987430890797774,0.9958753131060638,0.9960286683737328,0.996028668374457,0.995934356079828,1.0003914485731815,0.9981954479293776,0.9983082247642648,0.998959934305398,0.9956179864703756,0.9938070498587968,0.9937793135396358,0.9938809552378268,0.9993919475419212,0.9993267665161214,0.9993919475419212,0.9993919475419212,0.9946190274257436,0.9950266674252116,0.9946190274257436,0.9946190274257436,0.9985973549288916,0.9985973549288916,0.9985973549288916,0.9985973549288916,0.99638458126816,0.99638458126816,0.99638458126816,0.99638458126816,0.9980185791448244,0.9980185791448244,0.9980185791448244,0.9980185791448244,0.9925314172474063,0.9925314172474063,0.9925314172474063,0.9925314172474063,0.9933874227686608,0.9933874227686608,0.9933874227686608,0.9933874227686608,0.9985358619324156,0.9985358619324156,0.9985358619324156,0.9985358619324156,0.9894575148710364,0.9894575148710364,0.9894575148710364,0.9894575148710364,0.9916299281008198,0.9916299281008198,0.9916299281008198,0.9916299281008198,0.9995130610821042,0.9995130610821042,0.9995130610821042,0.9995130610821042,0.9963335939828952,0.9963335939828952,0.9963335939828952,0.9963335939828952,0.9972030824967854,0.9972030824967854,0.9972030824967854,0.9972030824967854,0.9921827870959768,0.9921827870959768,0.9921827870959768,0.9921827870959768,0.9935665032418858,0.9935665032418858,0.9935665032418858,0.9935665032418858],\"type\":\"violin\"},{\"meanline\":{\"visible\":true},\"name\":\"bus14\",\"orientation\":\"v\",\"side\":\"positive\",\"x\":[\"bus14\",\"bus14\",\"bus14\",\"bus14\",\"bus14\",\"bus14\",\"bus14\",\"bus14\",\"bus14\",\"bus14\",\"bus14\",\"bus14\",\"bus14\",\"bus14\",\"bus14\",\"bus14\",\"bus14\",\"bus14\",\"bus14\",\"bus14\",\"bus14\",\"bus14\",\"bus14\",\"bus14\",\"bus14\",\"bus14\",\"bus14\",\"bus14\",\"bus14\",\"bus14\",\"bus14\",\"bus14\",\"bus14\",\"bus14\",\"bus14\",\"bus14\",\"bus14\",\"bus14\",\"bus14\",\"bus14\",\"bus14\",\"bus14\",\"bus14\",\"bus14\",\"bus14\",\"bus14\",\"bus14\",\"bus14\",\"bus14\",\"bus14\",\"bus14\",\"bus14\",\"bus14\",\"bus14\",\"bus14\",\"bus14\",\"bus14\",\"bus14\",\"bus14\",\"bus14\",\"bus14\",\"bus14\",\"bus14\",\"bus14\",\"bus14\",\"bus14\",\"bus14\",\"bus14\",\"bus14\",\"bus14\",\"bus14\",\"bus14\",\"bus14\",\"bus14\",\"bus14\",\"bus14\",\"bus14\",\"bus14\",\"bus14\",\"bus14\",\"bus14\",\"bus14\",\"bus14\",\"bus14\",\"bus14\",\"bus14\",\"bus14\",\"bus14\",\"bus14\",\"bus14\",\"bus14\",\"bus14\",\"bus14\",\"bus14\",\"bus14\",\"bus14\",\"bus14\",\"bus14\",\"bus14\",\"bus14\",\"bus14\",\"bus14\",\"bus14\",\"bus14\",\"bus14\",\"bus14\",\"bus14\",\"bus14\",\"bus14\",\"bus14\",\"bus14\",\"bus14\",\"bus14\",\"bus14\",\"bus14\",\"bus14\",\"bus14\",\"bus14\",\"bus14\",\"bus14\",\"bus14\",\"bus14\",\"bus14\",\"bus14\",\"bus14\",\"bus14\",\"bus14\",\"bus14\",\"bus14\",\"bus14\",\"bus14\",\"bus14\",\"bus14\",\"bus14\",\"bus14\",\"bus14\",\"bus14\",\"bus14\",\"bus14\",\"bus14\",\"bus14\",\"bus14\",\"bus14\",\"bus14\",\"bus14\",\"bus14\",\"bus14\",\"bus14\",\"bus14\",\"bus14\",\"bus14\",\"bus14\",\"bus14\",\"bus14\",\"bus14\",\"bus14\",\"bus14\",\"bus14\",\"bus14\",\"bus14\"],\"y\":[0.9881098728057444,0.9881098728057444,0.9881098728057444,0.9881098728057444,0.982182725029166,0.982182725029166,0.982182725029166,0.982182725029166,0.9909964923019292,0.9909964923019292,0.9909964923019292,0.9909964923019292,0.9918089507135338,0.9918089507135338,0.9918089507135338,0.9918089507135338,0.9762801122943018,0.9762801122943018,0.9762801122943018,0.9762801122943018,0.9988316878225272,0.9988316878225272,0.9988316878225272,0.9988316878225272,0.9930685351023536,0.9930685351023536,0.9930685351023536,0.9930685351023536,0.9807939231576392,0.9807939231576392,0.9807939231576392,0.9807939231576392,0.9807297461982324,0.9807297461982324,0.9807297461982324,0.9807297461982324,0.9969564321149788,0.9969564321149788,0.9969564321149788,0.9969564321149788,0.9801066008055592,0.9801066008055592,0.9801066008055592,0.9801066008055592,null,0.99832205268742,0.9967968651284445,0.9962195965847952,null,null,0.9946159695016594,null,null,null,null,null,null,null,null,0.9847092476261238,null,null,null,null,0.9994270672821548,null,null,null,0.9852851748770916,null,null,null,1.0015204471133703,null,null,null,0.977664004056816,null,null,null,0.9832605424067382,0.98488222178002,0.9832605424065473,null,0.9869339960620992,0.9869989954337632,0.9869989957594684,null,0.9887065963083772,0.9888612240071372,0.9888612240078674,0.988766129225542,1.000062635947206,0.9978642933756756,0.9979771906473875,0.9986295958110958,0.9891760354767348,0.9873514856051202,0.987323540394406,0.9874259475324556,0.9966513909433644,0.9965859793219124,0.9966513909433644,0.9966513909433644,0.983608411184383,0.984021201424882,0.983608411184383,0.983608411184383,0.9923812403743938,0.9923812403743938,0.9923812403743938,0.9923812403743938,0.9889534388493711,0.9889534388493711,0.9889534388493711,0.9889534388493711,0.9970321892999758,0.9970321892999758,0.9970321892999758,0.9970321892999758,0.9829176371740124,0.9829176371740124,0.9829176371740124,0.9829176371740124,0.986809360532004,0.986809360532004,0.986809360532004,0.986809360532004,0.9957710434581712,0.9957710434581712,0.9957710434581712,0.9957710434581712,0.9764598455865524,0.9764598455865524,0.9764598455865524,0.9764598455865524,0.9791749249634965,0.9791749249634965,0.9791749249634965,0.9791749249634965,0.9986849990331962,0.9986849990331962,0.9986849990331962,0.9986849990331962,0.9893540967448132,0.9893540967448132,0.9893540967448132,0.9893540967448132,0.9951853547680768,0.9951853547680768,0.9951853547680768,0.9951853547680768,0.9807710253908384,0.9807710253908384,0.9807710253908384,0.9807710253908384,0.9843419752993564,0.9843419752993564,0.9843419752993564,0.9843419752993564],\"type\":\"violin\"},{\"meanline\":{\"visible\":true},\"name\":\"bus15\",\"orientation\":\"v\",\"side\":\"positive\",\"x\":[\"bus15\",\"bus15\",\"bus15\",\"bus15\",\"bus15\",\"bus15\",\"bus15\",\"bus15\",\"bus15\",\"bus15\",\"bus15\",\"bus15\",\"bus15\",\"bus15\",\"bus15\",\"bus15\",\"bus15\",\"bus15\",\"bus15\",\"bus15\",\"bus15\",\"bus15\",\"bus15\",\"bus15\",\"bus15\",\"bus15\",\"bus15\",\"bus15\",\"bus15\",\"bus15\",\"bus15\",\"bus15\",\"bus15\",\"bus15\",\"bus15\",\"bus15\",\"bus15\",\"bus15\",\"bus15\",\"bus15\",\"bus15\",\"bus15\",\"bus15\",\"bus15\",\"bus15\",\"bus15\",\"bus15\",\"bus15\",\"bus15\",\"bus15\",\"bus15\",\"bus15\",\"bus15\",\"bus15\",\"bus15\",\"bus15\",\"bus15\",\"bus15\",\"bus15\",\"bus15\",\"bus15\",\"bus15\",\"bus15\",\"bus15\",\"bus15\",\"bus15\",\"bus15\",\"bus15\",\"bus15\",\"bus15\",\"bus15\",\"bus15\",\"bus15\",\"bus15\",\"bus15\",\"bus15\",\"bus15\",\"bus15\",\"bus15\",\"bus15\",\"bus15\",\"bus15\",\"bus15\",\"bus15\",\"bus15\",\"bus15\",\"bus15\",\"bus15\",\"bus15\",\"bus15\",\"bus15\",\"bus15\",\"bus15\",\"bus15\",\"bus15\",\"bus15\",\"bus15\",\"bus15\",\"bus15\",\"bus15\",\"bus15\",\"bus15\",\"bus15\",\"bus15\",\"bus15\",\"bus15\",\"bus15\",\"bus15\",\"bus15\",\"bus15\",\"bus15\",\"bus15\",\"bus15\",\"bus15\",\"bus15\",\"bus15\",\"bus15\",\"bus15\",\"bus15\",\"bus15\",\"bus15\",\"bus15\",\"bus15\",\"bus15\",\"bus15\",\"bus15\",\"bus15\",\"bus15\",\"bus15\",\"bus15\",\"bus15\",\"bus15\",\"bus15\",\"bus15\",\"bus15\",\"bus15\",\"bus15\",\"bus15\",\"bus15\",\"bus15\",\"bus15\",\"bus15\",\"bus15\",\"bus15\",\"bus15\",\"bus15\",\"bus15\",\"bus15\",\"bus15\",\"bus15\",\"bus15\",\"bus15\",\"bus15\",\"bus15\",\"bus15\",\"bus15\",\"bus15\",\"bus15\",\"bus15\",\"bus15\"],\"y\":[1.0080045603472585,1.0080045603472585,1.0080045603472585,1.0080045603472585,1.0010567464622016,1.0010567464622016,1.0010567464622016,1.0010567464622016,0.9996896873764144,0.9996896873764144,0.9996896873764144,0.9996896873764144,0.9999124833003612,0.9999124833003612,0.9999124833003612,0.9999124833003612,1.0006526875316488,1.0006526875316488,1.0006526875316488,1.0006526875316488,1.0039295741503496,1.0039295741503496,1.0039295741503496,1.0039295741503496,0.9991735565594706,0.9991735565594706,0.9991735565594706,0.9991735565594706,1.0007555499637897,1.0007555499637897,1.0007555499637897,1.0007555499637897,1.012164934342778,1.012164934342778,1.012164934342778,1.012164934342778,0.9995693970257896,0.9995693970257896,0.9995693970257896,0.9995693970257896,0.9995129254140884,0.9995129254140884,0.9995129254140884,0.9995129254140884,1.0002587959784692,1.004217994546159,1.0010457743402503,1.0012030036362185,1.000273388058922,1.00027986055816,1.0017839701232572,1.000273389423217,1.0003009257630364,0.9993513308387052,1.0003009248711732,1.0002808427537973,1.0003152292662345,1.000315229266679,1.00031523248731,1.0041431771566292,1.000290640712471,1.0002681361732635,1.000268136173267,0.999928170981591,1.0004104053239324,1.0002656495508355,1.00026564954571,0.9999267383357894,1.0050470893046506,1.0002726910379816,1.0002726913005715,0.9999312943259784,0.9994755022515484,1.0002693148803965,0.9999199387567392,0.999928914975074,0.9980191458136408,1.0003267531826143,0.997642592775522,0.9999746818601942,1.0051306692030748,1.0041305833660827,1.0051306692029198,1.0010628007494953,1.0015043149012792,1.0040459795312529,1.004045979614112,1.0010379375413088,0.9989161699845444,0.998988865890585,0.9989888658910608,0.99894651010169,1.0011116620761231,1.000452234152441,0.9992985138997436,0.9997740530790492,1.0008665778272523,1.001117960224284,0.9989759960614109,0.9990433844312484,1.000412914409394,1.000378372210065,1.000412914409394,1.000412914409394,1.0006353739852194,1.0008465985751516,1.0006353739852194,1.0006353739852194,1.0125171255739518,1.0125171255739518,1.0125171255739518,1.0125171255739518,1.000465528842264,1.000465528842264,1.000465528842264,1.000465528842264,1.0020517416927517,1.0020517416927517,1.0020517416927517,1.0020517416927517,0.9991108047488154,0.9991108047488154,0.9991108047488154,0.9991108047488154,0.9990856699528295,0.9990856699528295,0.9990856699528295,0.9990856699528295,0.99890069101533,0.99890069101533,0.99890069101533,0.99890069101533,1.0008786274158443,1.0008786274158443,1.0008786274158443,1.0008786274158443,1.0046204434966508,1.0046204434966508,1.0046204434966508,1.0046204434966508,1.0062434912444804,1.0062434912444804,1.0062434912444804,1.0062434912444804,1.0070695429015482,1.0070695429015482,1.0070695429015482,1.0070695429015482,1.0003385130447513,1.0003385130447513,1.0003385130447513,1.0003385130447513,0.9980890862177872,0.9980890862177872,0.9980890862177872,0.9980890862177872,0.9989567401321244,0.9989567401321244,0.9989567401321244,0.9989567401321244],\"type\":\"violin\"},{\"meanline\":{\"visible\":true},\"name\":\"bus16\",\"orientation\":\"v\",\"side\":\"positive\",\"x\":[\"bus16\",\"bus16\",\"bus16\",\"bus16\",\"bus16\",\"bus16\",\"bus16\",\"bus16\",\"bus16\",\"bus16\",\"bus16\",\"bus16\",\"bus16\",\"bus16\",\"bus16\",\"bus16\",\"bus16\",\"bus16\",\"bus16\",\"bus16\",\"bus16\",\"bus16\",\"bus16\",\"bus16\",\"bus16\",\"bus16\",\"bus16\",\"bus16\",\"bus16\",\"bus16\",\"bus16\",\"bus16\",\"bus16\",\"bus16\",\"bus16\",\"bus16\",\"bus16\",\"bus16\",\"bus16\",\"bus16\",\"bus16\",\"bus16\",\"bus16\",\"bus16\",\"bus16\",\"bus16\",\"bus16\",\"bus16\",\"bus16\",\"bus16\",\"bus16\",\"bus16\",\"bus16\",\"bus16\",\"bus16\",\"bus16\",\"bus16\",\"bus16\",\"bus16\",\"bus16\",\"bus16\",\"bus16\",\"bus16\",\"bus16\",\"bus16\",\"bus16\",\"bus16\",\"bus16\",\"bus16\",\"bus16\",\"bus16\",\"bus16\",\"bus16\",\"bus16\",\"bus16\",\"bus16\",\"bus16\",\"bus16\",\"bus16\",\"bus16\",\"bus16\",\"bus16\",\"bus16\",\"bus16\",\"bus16\",\"bus16\",\"bus16\",\"bus16\",\"bus16\",\"bus16\",\"bus16\",\"bus16\",\"bus16\",\"bus16\",\"bus16\",\"bus16\",\"bus16\",\"bus16\",\"bus16\",\"bus16\",\"bus16\",\"bus16\",\"bus16\",\"bus16\",\"bus16\",\"bus16\",\"bus16\",\"bus16\",\"bus16\",\"bus16\",\"bus16\",\"bus16\",\"bus16\",\"bus16\",\"bus16\",\"bus16\",\"bus16\",\"bus16\",\"bus16\",\"bus16\",\"bus16\",\"bus16\",\"bus16\",\"bus16\",\"bus16\",\"bus16\",\"bus16\",\"bus16\",\"bus16\",\"bus16\",\"bus16\",\"bus16\",\"bus16\",\"bus16\",\"bus16\",\"bus16\",\"bus16\",\"bus16\",\"bus16\",\"bus16\",\"bus16\",\"bus16\",\"bus16\",\"bus16\",\"bus16\",\"bus16\",\"bus16\",\"bus16\",\"bus16\",\"bus16\",\"bus16\",\"bus16\",\"bus16\",\"bus16\",\"bus16\",\"bus16\",\"bus16\",\"bus16\",\"bus16\",\"bus16\"],\"y\":[1.034071955745412,1.034071955745412,1.034071955745412,1.034071955745412,1.0122728103194465,1.0122728103194465,1.0122728103194465,1.0122728103194465,1.008042656598802,1.008042656598802,1.008042656598802,1.008042656598802,1.0064833328840406,1.0064833328840406,1.0064833328840406,1.0064833328840406,1.013078202948971,1.013078202948971,1.013078202948971,1.013078202948971,1.0214735467260718,1.0214735467260718,1.0214735467260718,1.0214735467260718,1.01060186995045,1.01060186995045,1.01060186995045,1.01060186995045,1.009311471098245,1.009311471098245,1.009311471098245,1.009311471098245,1.0342425476765742,1.0342425476765742,1.0342425476765742,1.0342425476765742,1.0062649051773704,1.0062649051773704,1.0062649051773704,1.0062649051773704,1.0117697090489206,1.0117697090489206,1.0117697090489206,1.0117697090489206,0.999641560702162,1.006557922418181,1.0015772517684534,1.0024745676221778,1.0041151681897236,1.00526191761983,1.0084536003542617,1.0041151695456656,1.00551005524378,1.0034443899243553,1.0055100543604416,1.0062614197190036,1.0082853563309877,1.0082853563314256,1.0082853595088128,1.0232017865794671,1.0014539545165044,1.0022057565945068,1.00220575659451,1.0003485185817862,1.001294408302252,1.00137996403803,1.0013799640329233,0.9995222603390016,1.0186741615046286,1.003869256092059,1.0038692563529852,1.0020136323254518,0.9996598252194044,1.0026295582026528,1.001679790745729,1.0007726634963023,1.0163633577041016,1.01163376193066,1.006909861966773,1.0097814395927458,1.0229853502741235,1.0188228857290578,1.022985350274001,1.0081185546889857,1.011365616649771,1.0167913842913867,1.0167913841290637,1.0057428330231983,1.0083246802541574,1.0083138987054527,1.0083138987056814,1.008325473932782,1.010098347801486,1.01106288551902,1.00851595785857,1.0088180776620244,1.0187314282965718,1.0213000685628435,1.0166694103261624,1.0167029716748863,1.0030974999222246,1.0030942852001743,1.0030974999222246,1.0030974999222246,1.0090478104561726,1.0090581321303986,1.0090478104561726,1.0090478104561726,1.0400894007437265,1.0400894007437265,1.0400894007437265,1.0400894007437265,1.0058917108626866,1.0058917108626866,1.0058917108626866,1.0058917108626866,1.0124258806148931,1.0124258806148931,1.0124258806148931,1.0124258806148931,1.017001985768233,1.017001985768233,1.017001985768233,1.017001985768233,1.0164381070495925,1.0164381070495925,1.0164381070495925,1.0164381070495925,1.007221200331068,1.007221200331068,1.007221200331068,1.007221200331068,1.0254110163321677,1.0254110163321677,1.0254110163321677,1.0254110163321677,1.0244011780925544,1.0244011780925544,1.0244011780925544,1.0244011780925544,1.0226943169634823,1.0226943169634823,1.0226943169634823,1.0226943169634823,1.021504242888982,1.021504242888982,1.021504242888982,1.021504242888982,1.011665678082197,1.011665678082197,1.011665678082197,1.011665678082197,1.014395554365438,1.014395554365438,1.014395554365438,1.014395554365438,1.013768555869461,1.013768555869461,1.013768555869461,1.013768555869461],\"type\":\"violin\"},{\"meanline\":{\"visible\":true},\"name\":\"bus17\",\"orientation\":\"v\",\"side\":\"positive\",\"x\":[\"bus17\",\"bus17\",\"bus17\",\"bus17\",\"bus17\",\"bus17\",\"bus17\",\"bus17\",\"bus17\",\"bus17\",\"bus17\",\"bus17\",\"bus17\",\"bus17\",\"bus17\",\"bus17\",\"bus17\",\"bus17\",\"bus17\",\"bus17\",\"bus17\",\"bus17\",\"bus17\",\"bus17\",\"bus17\",\"bus17\",\"bus17\",\"bus17\",\"bus17\",\"bus17\",\"bus17\",\"bus17\",\"bus17\",\"bus17\",\"bus17\",\"bus17\",\"bus17\",\"bus17\",\"bus17\",\"bus17\",\"bus17\",\"bus17\",\"bus17\",\"bus17\",\"bus17\",\"bus17\",\"bus17\",\"bus17\",\"bus17\",\"bus17\",\"bus17\",\"bus17\",\"bus17\",\"bus17\",\"bus17\",\"bus17\",\"bus17\",\"bus17\",\"bus17\",\"bus17\",\"bus17\",\"bus17\",\"bus17\",\"bus17\",\"bus17\",\"bus17\",\"bus17\",\"bus17\",\"bus17\",\"bus17\",\"bus17\",\"bus17\",\"bus17\",\"bus17\",\"bus17\",\"bus17\",\"bus17\",\"bus17\",\"bus17\",\"bus17\",\"bus17\",\"bus17\",\"bus17\",\"bus17\",\"bus17\",\"bus17\",\"bus17\",\"bus17\",\"bus17\",\"bus17\",\"bus17\",\"bus17\",\"bus17\",\"bus17\",\"bus17\",\"bus17\",\"bus17\",\"bus17\",\"bus17\",\"bus17\",\"bus17\",\"bus17\",\"bus17\",\"bus17\",\"bus17\",\"bus17\",\"bus17\",\"bus17\",\"bus17\",\"bus17\",\"bus17\",\"bus17\",\"bus17\",\"bus17\",\"bus17\",\"bus17\",\"bus17\",\"bus17\",\"bus17\",\"bus17\",\"bus17\",\"bus17\",\"bus17\",\"bus17\",\"bus17\",\"bus17\",\"bus17\",\"bus17\",\"bus17\",\"bus17\",\"bus17\",\"bus17\",\"bus17\",\"bus17\",\"bus17\",\"bus17\",\"bus17\",\"bus17\",\"bus17\",\"bus17\",\"bus17\",\"bus17\",\"bus17\",\"bus17\",\"bus17\",\"bus17\",\"bus17\",\"bus17\",\"bus17\",\"bus17\",\"bus17\",\"bus17\",\"bus17\",\"bus17\",\"bus17\",\"bus17\",\"bus17\",\"bus17\",\"bus17\",\"bus17\"],\"y\":[0.9958605018885308,0.9958605018885308,0.9958605018885308,0.9958605018885308,0.997468282238908,0.997468282238908,0.997468282238908,0.997468282238908,0.9931430530758596,0.9931430530758596,0.9931430530758596,0.9931430530758596,0.9949470860488504,0.9949470860488504,0.9949470860488504,0.9949470860488504,0.9973675359940772,0.9973675359940772,0.9973675359940772,0.9973675359940772,0.9914007626916496,0.9914007626916496,0.9914007626916496,0.9914007626916496,0.9895746513099776,0.9895746513099776,0.9895746513099776,0.9895746513099776,0.9990047141917928,0.9990047141917928,0.9990047141917928,0.9990047141917928,1.009446943017417,1.009446943017417,1.009446943017417,1.009446943017417,0.9923394358462624,0.9923394358462624,0.9923394358462624,0.9923394358462624,0.9935149088252048,0.9935149088252048,0.9935149088252048,0.9935149088252048,1.000076149629919,1.004039324925351,1.0008639199428746,1.001021307372865,0.9956610624988098,0.9956675712119408,0.9971800840256212,0.9956610638700988,0.993617464978474,0.9926604312867237,0.9936174640799068,0.9935972247943388,0.9910048001023104,0.99100480010276,0.9910048033583646,0.994873673466936,0.9975505458358054,0.9975279597134352,0.9975279597134388,0.9971867616763148,0.9984888622805964,0.9983437043679456,0.9983437043628056,0.9980038512420366,1.0006997044614665,0.9958999252259584,0.9958999254899504,0.9955567046728176,0.9963141805326104,0.9971112192992722,0.9967604238604508,0.9967694365566012,0.986274393784888,0.9886131639664368,0.9858927408617804,0.9882563481712396,0.9997852031998335,0.9987787596481053,0.9997852031996776,0.9956913964390972,0.9980594821403468,1.0006121944266448,1.0006121945098634,0.9975910718949238,0.9916569200865896,0.9917302314705694,0.9917302314710492,0.991687517088639,0.9920273774503084,0.9913610390599984,0.9901952054535348,0.9906757410465612,0.988165450188071,0.9884205039018176,0.9862471928532124,0.9863155696605514,0.9976271376077096,0.997592468555402,0.9976271376077096,0.9976271376077096,0.9974142872664692,0.997626383146932,0.9974142872664692,0.9974142872664692,1.0008079692371956,1.0008079692371956,1.0008079692371956,1.0008079692371956,0.9981434384947658,0.9981434384947658,0.9981434384947658,0.9981434384947658,0.9950501033560872,0.9950501033560872,0.9950501033560872,0.9950501033560872,0.9875673647797394,0.9875673647797394,0.9875673647797394,0.9875673647797394,0.987166297687388,0.987166297687388,0.987166297687388,0.987166297687388,0.9900007308158204,0.9900007308158204,0.9900007308158204,0.9900007308158204,0.9883682243625964,0.9883682243625964,0.9883682243625964,0.9883682243625964,0.9983106952357644,0.9983106952357644,0.9983106952357644,0.9983106952357644,0.9966350446178098,0.9966350446178098,0.9966350446178098,0.9966350446178098,1.0035230861737336,1.0035230861737336,1.0035230861737336,1.0035230861737336,0.9914602799503492,0.9914602799503492,0.9914602799503492,0.9914602799503492,0.9872253100011242,0.9872253100011242,0.9872253100011242,0.9872253100011242,0.9890186739333392,0.9890186739333392,0.9890186739333392,0.9890186739333392],\"type\":\"violin\"},{\"meanline\":{\"visible\":true},\"name\":\"bus18\",\"orientation\":\"v\",\"side\":\"positive\",\"x\":[\"bus18\",\"bus18\",\"bus18\",\"bus18\",\"bus18\",\"bus18\",\"bus18\",\"bus18\",\"bus18\",\"bus18\",\"bus18\",\"bus18\",\"bus18\",\"bus18\",\"bus18\",\"bus18\",\"bus18\",\"bus18\",\"bus18\",\"bus18\",\"bus18\",\"bus18\",\"bus18\",\"bus18\",\"bus18\",\"bus18\",\"bus18\",\"bus18\",\"bus18\",\"bus18\",\"bus18\",\"bus18\",\"bus18\",\"bus18\",\"bus18\",\"bus18\",\"bus18\",\"bus18\",\"bus18\",\"bus18\",\"bus18\",\"bus18\",\"bus18\",\"bus18\",\"bus18\",\"bus18\",\"bus18\",\"bus18\",\"bus18\",\"bus18\",\"bus18\",\"bus18\",\"bus18\",\"bus18\",\"bus18\",\"bus18\",\"bus18\",\"bus18\",\"bus18\",\"bus18\",\"bus18\",\"bus18\",\"bus18\",\"bus18\",\"bus18\",\"bus18\",\"bus18\",\"bus18\",\"bus18\",\"bus18\",\"bus18\",\"bus18\",\"bus18\",\"bus18\",\"bus18\",\"bus18\",\"bus18\",\"bus18\",\"bus18\",\"bus18\",\"bus18\",\"bus18\",\"bus18\",\"bus18\",\"bus18\",\"bus18\",\"bus18\",\"bus18\",\"bus18\",\"bus18\",\"bus18\",\"bus18\",\"bus18\",\"bus18\",\"bus18\",\"bus18\",\"bus18\",\"bus18\",\"bus18\",\"bus18\",\"bus18\",\"bus18\",\"bus18\",\"bus18\",\"bus18\",\"bus18\",\"bus18\",\"bus18\",\"bus18\",\"bus18\",\"bus18\",\"bus18\",\"bus18\",\"bus18\",\"bus18\",\"bus18\",\"bus18\",\"bus18\",\"bus18\",\"bus18\",\"bus18\",\"bus18\",\"bus18\",\"bus18\",\"bus18\",\"bus18\",\"bus18\",\"bus18\",\"bus18\",\"bus18\",\"bus18\",\"bus18\",\"bus18\",\"bus18\",\"bus18\",\"bus18\",\"bus18\",\"bus18\",\"bus18\",\"bus18\",\"bus18\",\"bus18\",\"bus18\",\"bus18\",\"bus18\",\"bus18\",\"bus18\",\"bus18\",\"bus18\",\"bus18\",\"bus18\",\"bus18\",\"bus18\",\"bus18\",\"bus18\",\"bus18\",\"bus18\",\"bus18\",\"bus18\",\"bus18\"],\"y\":[1.0036470364799808,1.0036470364799808,1.0036470364799808,1.0036470364799808,1.0079896273379343,1.0079896273379343,1.0079896273379343,1.0079896273379343,1.0049390901517974,1.0049390901517974,1.0049390901517974,1.0049390901517974,1.0063751024664171,1.0063751024664171,1.0063751024664171,1.0063751024664171,1.004538504846791,1.004538504846791,1.004538504846791,1.004538504846791,1.011979037197507,1.011979037197507,1.011979037197507,1.011979037197507,1.006651936046561,1.006651936046561,1.006651936046561,1.006651936046561,1.0022404082298355,1.0022404082298355,1.0022404082298355,1.0022404082298355,1.0071378714623178,1.0071378714623178,1.0071378714623178,1.0071378714623178,1.0088477090078645,1.0088477090078645,1.0088477090078645,1.0088477090078645,1.003977700628796,1.003977700628796,1.003977700628796,1.003977700628796,1.0000000005,1.0075279393025636,1.0098100489037396,1.0056923762368444,1.0000000005,1.0000000005,1.0018462130855317,1.002953900029274,0.9998646054668656,1.0000000005,1.0000000005,1.0031020477452446,0.9998646054668656,1.0000000005,1.0000000005,1.0000000005,0.9998978041419516,1.0000000005,1.0000000005,1.0000000005,0.9998978041419516,1.0000000005,1.0000000005,1.0000000005,0.9998978041419516,1.0000000005,1.0000000005,1.0000000005,0.9998978041419516,1.0000000005,1.0000000005,1.0000000005,0.9998978041419516,1.0000000005,1.0000000005,1.0000000005,0.9998978041419516,1.0000000005,1.0000000005,1.0000000005,0.9998978041419516,1.0000000005,1.0000000005,1.0000000005,0.9998978041419516,1.0000000005,1.0000000005,1.0121970211825209,0.9998978041419516,1.0000000005,1.0000000005,1.0078305959930425,1.0050981300127944,1.0000000005,1.0000000005,1.0080888248394702,1.0039572442206228,1.0000000005,1.0039572442206228,1.0039572442206228,1.008323607321949,1.0000000005,1.008323607321949,1.008323607321949,1.020897277335758,1.020897277335758,1.020897277335758,1.020897277335758,1.0041442603351711,1.0041442603351711,1.0041442603351711,1.0041442603351711,1.004016097455621,1.004016097455621,1.004016097455621,1.004016097455621,1.0097347203801443,1.0097347203801443,1.0097347203801443,1.0097347203801443,1.001998052580246,1.001998052580246,1.001998052580246,1.001998052580246,1.0070422896811966,1.0070422896811966,1.0070422896811966,1.0070422896811966,1.0068655423769075,1.0068655423769075,1.0068655423769075,1.0068655423769075,1.0096513046076738,1.0096513046076738,1.0096513046076738,1.0096513046076738,1.0100034216059268,1.0100034216059268,1.0100034216059268,1.0100034216059268,1.010663276976889,1.010663276976889,1.010663276976889,1.010663276976889,1.003763727969535,1.003763727969535,1.003763727969535,1.003763727969535,1.0025045945770572,1.0025045945770572,1.0025045945770572,1.0025045945770572,1.0044570896027167,1.0044570896027167,1.0044570896027167,1.0044570896027167],\"type\":\"violin\"},{\"meanline\":{\"visible\":true},\"name\":\"bus2\",\"orientation\":\"v\",\"side\":\"positive\",\"x\":[\"bus2\",\"bus2\",\"bus2\",\"bus2\",\"bus2\",\"bus2\",\"bus2\",\"bus2\",\"bus2\",\"bus2\",\"bus2\",\"bus2\",\"bus2\",\"bus2\",\"bus2\",\"bus2\",\"bus2\",\"bus2\",\"bus2\",\"bus2\",\"bus2\",\"bus2\",\"bus2\",\"bus2\",\"bus2\",\"bus2\",\"bus2\",\"bus2\",\"bus2\",\"bus2\",\"bus2\",\"bus2\",\"bus2\",\"bus2\",\"bus2\",\"bus2\",\"bus2\",\"bus2\",\"bus2\",\"bus2\",\"bus2\",\"bus2\",\"bus2\",\"bus2\",\"bus2\",\"bus2\",\"bus2\",\"bus2\",\"bus2\",\"bus2\",\"bus2\",\"bus2\",\"bus2\",\"bus2\",\"bus2\",\"bus2\",\"bus2\",\"bus2\",\"bus2\",\"bus2\",\"bus2\",\"bus2\",\"bus2\",\"bus2\",\"bus2\",\"bus2\",\"bus2\",\"bus2\",\"bus2\",\"bus2\",\"bus2\",\"bus2\",\"bus2\",\"bus2\",\"bus2\",\"bus2\",\"bus2\",\"bus2\",\"bus2\",\"bus2\",\"bus2\",\"bus2\",\"bus2\",\"bus2\",\"bus2\",\"bus2\",\"bus2\",\"bus2\",\"bus2\",\"bus2\",\"bus2\",\"bus2\",\"bus2\",\"bus2\",\"bus2\",\"bus2\",\"bus2\",\"bus2\",\"bus2\",\"bus2\",\"bus2\",\"bus2\",\"bus2\",\"bus2\",\"bus2\",\"bus2\",\"bus2\",\"bus2\",\"bus2\",\"bus2\",\"bus2\",\"bus2\",\"bus2\",\"bus2\",\"bus2\",\"bus2\",\"bus2\",\"bus2\",\"bus2\",\"bus2\",\"bus2\",\"bus2\",\"bus2\",\"bus2\",\"bus2\",\"bus2\",\"bus2\",\"bus2\",\"bus2\",\"bus2\",\"bus2\",\"bus2\",\"bus2\",\"bus2\",\"bus2\",\"bus2\",\"bus2\",\"bus2\",\"bus2\",\"bus2\",\"bus2\",\"bus2\",\"bus2\",\"bus2\",\"bus2\",\"bus2\",\"bus2\",\"bus2\",\"bus2\",\"bus2\",\"bus2\",\"bus2\",\"bus2\",\"bus2\",\"bus2\",\"bus2\",\"bus2\",\"bus2\",\"bus2\",\"bus2\"],\"y\":[0.9960989523606728,0.9960989523606728,0.9960989523606728,0.9960989523606728,0.9997956620846612,0.9997956620846612,0.9997956620846612,0.9997956620846612,0.999813949255384,0.999813949255384,0.999813949255384,0.999813949255384,0.9981093437818552,0.9981093437818552,0.9981093437818552,0.9981093437818552,0.9982335734100234,0.9982335734100234,0.9982335734100234,0.9982335734100234,0.9989082211774668,0.9989082211774668,0.9989082211774668,0.9989082211774668,0.9994915024849892,0.9994915024849892,0.9994915024849892,0.9994915024849892,0.9996709045867508,0.9996709045867508,0.9996709045867508,0.9996709045867508,0.996805476274944,0.996805476274944,0.996805476274944,0.996805476274944,0.9972470983641932,0.9972470983641932,0.9972470983641932,0.9972470983641932,0.9997950868087818,0.9997950868087818,0.9997950868087818,0.9997950868087818,1.000515095398458,1.0009063121694588,1.0001920496089978,1.0001078151603744,0.998081426655707,0.9984832102214484,0.99893852570226,0.9983044008460435,0.998505989937094,0.9987281787211502,0.9996220036766068,0.99850599264559,0.998163628787278,0.998163628787278,0.9995921397242328,0.9981636287872772,0.9985122543531754,0.9982164685883516,0.9985120765669884,0.9982164688354908,0.9980725189029328,0.9978591169341604,0.9980723786614564,0.9980725189029328,0.9990102935413748,0.9987315892953196,0.9990831252108784,0.9990102886607056,0.999701963715806,0.9997014715099912,0.9997306382569998,0.999701469918608,1.0010627416987383,0.999890678419036,1.0002081037474504,0.9998902877059664,0.9969512235441352,0.9967140230809284,0.9969512235440936,0.9977735520862988,0.9988490661030104,0.9979563149054624,0.9979563149771388,0.998559401526417,0.999915104186084,0.9999705835098942,0.9999705835077444,0.9999399990959188,1.0007226416978845,0.999638554161314,0.99994161257366,1.0002138091345527,1.0002004601014285,0.998944548066338,0.9997248588398364,0.999764835170132,1.00014181446674,1.000112761407956,1.00014181446674,1.00014181446674,1.00047608383148,1.0006512044106692,1.00047608383148,1.00047608383148,0.995970681786629,0.995970681786629,0.995970681786629,0.995970681786629,1.0007277657471896,1.0007277657471896,1.0007277657471896,1.0007277657471896,0.9964635709059864,0.9964635709059864,0.9964635709059864,0.9964635709059864,1.0001051268259844,1.0001051268259844,1.0001051268259844,1.0001051268259844,0.9982976618748866,0.9982976618748866,0.9982976618748866,0.9982976618748866,0.9998566855982396,0.9998566855982396,0.9998566855982396,0.9998566855982396,1.0001169478315175,1.0001169478315175,1.0001169478315175,1.0001169478315175,0.99998025922013,0.99998025922013,0.99998025922013,0.99998025922013,0.9971007887507968,0.9971007887507968,0.9971007887507968,0.9971007887507968,0.9991998512559817,0.9991998512559817,0.9991998512559817,0.9991998512559817,0.9998381608072664,0.9998381608072664,0.9998381608072664,0.9998381608072664,0.9974703493760788,0.9974703493760788,0.9974703493760788,0.9974703493760788,1.0014484203174658,1.0014484203174658,1.0014484203174658,1.0014484203174658],\"type\":\"violin\"},{\"meanline\":{\"visible\":true},\"name\":\"bus3\",\"orientation\":\"v\",\"side\":\"positive\",\"x\":[\"bus3\",\"bus3\",\"bus3\",\"bus3\",\"bus3\",\"bus3\",\"bus3\",\"bus3\",\"bus3\",\"bus3\",\"bus3\",\"bus3\",\"bus3\",\"bus3\",\"bus3\",\"bus3\",\"bus3\",\"bus3\",\"bus3\",\"bus3\",\"bus3\",\"bus3\",\"bus3\",\"bus3\",\"bus3\",\"bus3\",\"bus3\",\"bus3\",\"bus3\",\"bus3\",\"bus3\",\"bus3\",\"bus3\",\"bus3\",\"bus3\",\"bus3\",\"bus3\",\"bus3\",\"bus3\",\"bus3\",\"bus3\",\"bus3\",\"bus3\",\"bus3\",\"bus3\",\"bus3\",\"bus3\",\"bus3\",\"bus3\",\"bus3\",\"bus3\",\"bus3\",\"bus3\",\"bus3\",\"bus3\",\"bus3\",\"bus3\",\"bus3\",\"bus3\",\"bus3\",\"bus3\",\"bus3\",\"bus3\",\"bus3\",\"bus3\",\"bus3\",\"bus3\",\"bus3\",\"bus3\",\"bus3\",\"bus3\",\"bus3\",\"bus3\",\"bus3\",\"bus3\",\"bus3\",\"bus3\",\"bus3\",\"bus3\",\"bus3\",\"bus3\",\"bus3\",\"bus3\",\"bus3\",\"bus3\",\"bus3\",\"bus3\",\"bus3\",\"bus3\",\"bus3\",\"bus3\",\"bus3\",\"bus3\",\"bus3\",\"bus3\",\"bus3\",\"bus3\",\"bus3\",\"bus3\",\"bus3\",\"bus3\",\"bus3\",\"bus3\",\"bus3\",\"bus3\",\"bus3\",\"bus3\",\"bus3\",\"bus3\",\"bus3\",\"bus3\",\"bus3\",\"bus3\",\"bus3\",\"bus3\",\"bus3\",\"bus3\",\"bus3\",\"bus3\",\"bus3\",\"bus3\",\"bus3\",\"bus3\",\"bus3\",\"bus3\",\"bus3\",\"bus3\",\"bus3\",\"bus3\",\"bus3\",\"bus3\",\"bus3\",\"bus3\",\"bus3\",\"bus3\",\"bus3\",\"bus3\",\"bus3\",\"bus3\",\"bus3\",\"bus3\",\"bus3\",\"bus3\",\"bus3\",\"bus3\",\"bus3\",\"bus3\",\"bus3\",\"bus3\",\"bus3\",\"bus3\",\"bus3\",\"bus3\",\"bus3\",\"bus3\",\"bus3\",\"bus3\",\"bus3\",\"bus3\",\"bus3\"],\"y\":[0.958353991382028,0.958353991382028,0.958353991382028,0.958353991382028,0.9857446293564264,0.9857446293564264,0.9857446293564264,0.9857446293564264,0.9996638947821332,0.9996638947821332,0.9996638947821332,0.9996638947821332,0.9997019395832868,0.9997019395832868,0.9997019395832868,0.9997019395832868,0.9973744410233152,0.9973744410233152,0.9973744410233152,0.9973744410233152,0.9645901896460836,0.9645901896460836,0.9645901896460836,0.9645901896460836,0.9862316231703966,0.9862316231703966,0.9862316231703966,0.9862316231703966,1.001253904041988,1.001253904041988,1.001253904041988,1.001253904041988,0.955514154392846,0.955514154392846,0.955514154392846,0.955514154392846,0.9945377091676356,0.9945377091676356,0.9945377091676356,0.9945377091676356,1.002550231211583,1.002550231211583,1.002550231211583,1.002550231211583,0.988762037311544,0.988036951513984,0.986991033059054,0.9865577225134952,0.9777785554552536,0.9840989892496852,0.9802900682413914,0.9773128411938397,0.9885445587586648,0.9914204023556044,0.99569734769798,0.9885461931554516,0.9533683992175004,0.9533683992175004,0.9700906377024444,0.953368399217496,0.955259273087398,0.9534228069628796,0.955258167443192,0.9534228072218108,0.9543786612894632,0.9530548526698804,0.9543777909883268,0.9543786612894632,0.9928520960753568,0.9900433340257988,0.993318253573095,0.9928508892597188,0.9957535455571952,0.995753280964697,0.9959568425444472,0.9957533568411004,1.0029911822843072,0.9966389626969716,0.9984355356315168,0.9971770590253164,0.9653131974262524,0.9629683061491616,0.9653131974259558,0.9771732340001806,0.9802520515714253,0.9682009725457968,0.9682009734642376,0.9789375964127104,1.0020596822344408,1.0025471930110268,1.0025471930122352,1.0022281497984873,0.9841637365605524,0.9753441418193436,0.982637577838084,0.983631906670426,0.981168201712948,0.9706631557487378,0.9809512930817212,0.9811552578157268,0.9980734605243228,0.9978952710545204,0.9980734605243228,0.9980734605243228,1.0024795170537084,1.0036169613779593,1.0024795170537084,1.0024795170537084,0.9536127033070656,0.9536127033070656,0.9536127033070656,0.9536127033070656,0.9999265610548174,0.9999265610548174,0.9999265610548174,0.9999265610548174,0.9712892824482996,0.9712892824482996,0.9712892824482996,0.9712892824482996,0.9868990927131092,0.9868990927131092,0.9868990927131092,0.9868990927131092,0.9776446210758426,0.9776446210758426,0.9776446210758426,0.9776446210758426,0.998606371480184,0.998606371480184,0.998606371480184,0.998606371480184,0.9707844075115232,0.9707844075115232,0.9707844075115232,0.9707844075115232,0.9703564885137496,0.9703564885137496,0.9703564885137496,0.9703564885137496,0.96032323788268,0.96032323788268,0.96032323788268,0.96032323788268,0.9646606679350171,0.9646606679350171,0.9646606679350171,0.9646606679350171,0.978635542376222,0.978635542376222,0.978635542376222,0.978635542376222,0.9991996612854812,0.9991996612854812,0.9991996612854812,0.9991996612854812,0.99245062549517,0.99245062549517,0.99245062549517,0.99245062549517],\"type\":\"violin\"},{\"meanline\":{\"visible\":true},\"name\":\"bus4\",\"orientation\":\"v\",\"side\":\"positive\",\"x\":[\"bus4\",\"bus4\",\"bus4\",\"bus4\",\"bus4\",\"bus4\",\"bus4\",\"bus4\",\"bus4\",\"bus4\",\"bus4\",\"bus4\",\"bus4\",\"bus4\",\"bus4\",\"bus4\",\"bus4\",\"bus4\",\"bus4\",\"bus4\",\"bus4\",\"bus4\",\"bus4\",\"bus4\",\"bus4\",\"bus4\",\"bus4\",\"bus4\",\"bus4\",\"bus4\",\"bus4\",\"bus4\",\"bus4\",\"bus4\",\"bus4\",\"bus4\",\"bus4\",\"bus4\",\"bus4\",\"bus4\",\"bus4\",\"bus4\",\"bus4\",\"bus4\",\"bus4\",\"bus4\",\"bus4\",\"bus4\",\"bus4\",\"bus4\",\"bus4\",\"bus4\",\"bus4\",\"bus4\",\"bus4\",\"bus4\",\"bus4\",\"bus4\",\"bus4\",\"bus4\",\"bus4\",\"bus4\",\"bus4\",\"bus4\",\"bus4\",\"bus4\",\"bus4\",\"bus4\",\"bus4\",\"bus4\",\"bus4\",\"bus4\",\"bus4\",\"bus4\",\"bus4\",\"bus4\",\"bus4\",\"bus4\",\"bus4\",\"bus4\",\"bus4\",\"bus4\",\"bus4\",\"bus4\",\"bus4\",\"bus4\",\"bus4\",\"bus4\",\"bus4\",\"bus4\",\"bus4\",\"bus4\",\"bus4\",\"bus4\",\"bus4\",\"bus4\",\"bus4\",\"bus4\",\"bus4\",\"bus4\",\"bus4\",\"bus4\",\"bus4\",\"bus4\",\"bus4\",\"bus4\",\"bus4\",\"bus4\",\"bus4\",\"bus4\",\"bus4\",\"bus4\",\"bus4\",\"bus4\",\"bus4\",\"bus4\",\"bus4\",\"bus4\",\"bus4\",\"bus4\",\"bus4\",\"bus4\",\"bus4\",\"bus4\",\"bus4\",\"bus4\",\"bus4\",\"bus4\",\"bus4\",\"bus4\",\"bus4\",\"bus4\",\"bus4\",\"bus4\",\"bus4\",\"bus4\",\"bus4\",\"bus4\",\"bus4\",\"bus4\",\"bus4\",\"bus4\",\"bus4\",\"bus4\",\"bus4\",\"bus4\",\"bus4\",\"bus4\",\"bus4\",\"bus4\",\"bus4\",\"bus4\",\"bus4\",\"bus4\",\"bus4\",\"bus4\",\"bus4\",\"bus4\",\"bus4\",\"bus4\"],\"y\":[0.9921188427031922,0.9921188427031922,0.9921188427031922,0.9921188427031922,1.002671828232509,1.002671828232509,1.002671828232509,1.002671828232509,1.0023223056206203,1.0023223056206203,1.0023223056206203,1.0023223056206203,1.0038349797814214,1.0038349797814214,1.0038349797814214,1.0038349797814214,1.0005703736062914,1.0005703736062914,1.0005703736062914,1.0005703736062914,0.9936803027934914,0.9936803027934914,0.9936803027934914,0.9936803027934914,0.998736553416936,0.998736553416936,0.998736553416936,0.998736553416936,0.9999939763550916,0.9999939763550916,0.9999939763550916,0.9999939763550916,0.9905857691748056,0.9905857691748056,0.9905857691748056,0.9905857691748056,1.0026214694552418,1.0026214694552418,1.0026214694552418,1.0026214694552418,1.0013979306608078,1.0013979306608078,1.0013979306608078,1.0013979306608078,1.0014585243496772,0.9972613146969757,0.9989603196190427,0.9977907658966284,0.9944597640888824,0.9968627797185654,0.9968585198187114,1.0016691713952843,1.0000000005,0.9951002992213082,0.9993423371179236,1.00037332792585,1.0000000005,1.0000000005,1.0000000005,1.003269999699918,1.0000000005,1.0000000005,1.0000000005,null,1.0000000005,0.9998054104502484,1.0000000005,null,1.0000000005,0.99983924220516,1.0000000005,1.0000000005,1.0000000005,0.99850891495683,1.0000000005,1.0000000005,1.0000000005,0.9995258099613974,1.0000000005,0.9992878395985224,1.0000000005,0.9992178564367,1.0000000005,0.9963725900554968,0.9993810553642386,0.9995675503563696,1.0000000005,0.9976864561322704,1.001083668694676,0.99941637972035,0.9992766290075806,1.001425551289764,0.9953698474157356,0.9980602779899742,0.99580241825826,0.996936706501067,0.9947553367443756,0.9981169233050146,0.996663118090404,0.9970115965482048,0.9992597655721926,0.9989458814018084,0.9992597655721926,0.9992597655721926,1.0058415143955686,1.0079878359238683,1.0058415143955686,1.0058415143955686,0.988057743476976,0.988057743476976,0.988057743476976,0.988057743476976,1.0020837277563832,1.0020837277563832,1.0020837277563832,1.0020837277563832,0.9963004059627188,0.9963004059627188,0.9963004059627188,0.9963004059627188,1.003800013499607,1.003800013499607,1.003800013499607,1.003800013499607,0.9989819191291288,0.9989819191291288,0.9989819191291288,0.9989819191291288,1.0028584621960226,1.0028584621960226,1.0028584621960226,1.0028584621960226,0.997648084480484,0.997648084480484,0.997648084480484,0.997648084480484,0.997856953667153,0.997856953667153,0.997856953667153,0.997856953667153,0.9922332703328391,0.9922332703328391,0.9922332703328391,0.9922332703328391,0.9944205079012914,0.9944205079012914,0.9944205079012914,0.9944205079012914,0.9965962468610532,0.9965962468610532,0.9965962468610532,0.9965962468610532,1.0012162031804954,1.0012162031804954,1.0012162031804954,1.0012162031804954,1.0007396978687548,1.0007396978687548,1.0007396978687548,1.0007396978687548],\"type\":\"violin\"},{\"meanline\":{\"visible\":true},\"name\":\"bus5\",\"orientation\":\"v\",\"side\":\"positive\",\"x\":[\"bus5\",\"bus5\",\"bus5\",\"bus5\",\"bus5\",\"bus5\",\"bus5\",\"bus5\",\"bus5\",\"bus5\",\"bus5\",\"bus5\",\"bus5\",\"bus5\",\"bus5\",\"bus5\",\"bus5\",\"bus5\",\"bus5\",\"bus5\",\"bus5\",\"bus5\",\"bus5\",\"bus5\",\"bus5\",\"bus5\",\"bus5\",\"bus5\",\"bus5\",\"bus5\",\"bus5\",\"bus5\",\"bus5\",\"bus5\",\"bus5\",\"bus5\",\"bus5\",\"bus5\",\"bus5\",\"bus5\",\"bus5\",\"bus5\",\"bus5\",\"bus5\",\"bus5\",\"bus5\",\"bus5\",\"bus5\",\"bus5\",\"bus5\",\"bus5\",\"bus5\",\"bus5\",\"bus5\",\"bus5\",\"bus5\",\"bus5\",\"bus5\",\"bus5\",\"bus5\",\"bus5\",\"bus5\",\"bus5\",\"bus5\",\"bus5\",\"bus5\",\"bus5\",\"bus5\",\"bus5\",\"bus5\",\"bus5\",\"bus5\",\"bus5\",\"bus5\",\"bus5\",\"bus5\",\"bus5\",\"bus5\",\"bus5\",\"bus5\",\"bus5\",\"bus5\",\"bus5\",\"bus5\",\"bus5\",\"bus5\",\"bus5\",\"bus5\",\"bus5\",\"bus5\",\"bus5\",\"bus5\",\"bus5\",\"bus5\",\"bus5\",\"bus5\",\"bus5\",\"bus5\",\"bus5\",\"bus5\",\"bus5\",\"bus5\",\"bus5\",\"bus5\",\"bus5\",\"bus5\",\"bus5\",\"bus5\",\"bus5\",\"bus5\",\"bus5\",\"bus5\",\"bus5\",\"bus5\",\"bus5\",\"bus5\",\"bus5\",\"bus5\",\"bus5\",\"bus5\",\"bus5\",\"bus5\",\"bus5\",\"bus5\",\"bus5\",\"bus5\",\"bus5\",\"bus5\",\"bus5\",\"bus5\",\"bus5\",\"bus5\",\"bus5\",\"bus5\",\"bus5\",\"bus5\",\"bus5\",\"bus5\",\"bus5\",\"bus5\",\"bus5\",\"bus5\",\"bus5\",\"bus5\",\"bus5\",\"bus5\",\"bus5\",\"bus5\",\"bus5\",\"bus5\",\"bus5\",\"bus5\",\"bus5\",\"bus5\",\"bus5\",\"bus5\",\"bus5\",\"bus5\",\"bus5\",\"bus5\"],\"y\":[0.9944982150065136,0.9944982150065136,0.9944982150065136,0.9944982150065136,1.0022954677339724,1.0022954677339724,1.0022954677339724,1.0022954677339724,0.9953330662176232,0.9953330662176232,0.9953330662176232,0.9953330662176232,0.9994446505340688,0.9994446505340688,0.9994446505340688,0.9994446505340688,0.9996728586973752,0.9996728586973752,0.9996728586973752,0.9996728586973752,0.9984306916958788,0.9984306916958788,0.9984306916958788,0.9984306916958788,1.0003967950614392,1.0003967950614392,1.0003967950614392,1.0003967950614392,0.9992319072802592,0.9992319072802592,0.9992319072802592,0.9992319072802592,0.995748679484414,0.995748679484414,0.995748679484414,0.995748679484414,0.9980382502535392,0.9980382502535392,0.9980382502535392,0.9980382502535392,1.002416556823924,1.002416556823924,1.002416556823924,1.002416556823924,0.998408141689212,0.9812607518699792,0.9955272781267328,0.993837961846554,0.9989643447743018,null,0.9889089441753464,0.9986019656529797,1.0001203404997954,null,0.9924542357034336,0.9985138107920728,1.0001203404997954,null,null,0.9993785962853932,null,1.0001290166898746,null,1.0002646169394054,null,1.0001622533288066,1.0000810618235851,1.0002810006783494,null,1.0001628026867084,1.0000810618235851,1.0022779999586566,null,1.000139402704941,1.0000810618235851,1.007126768705939,null,1.0001576137336228,1.0000810618235851,1.0030822785394682,null,1.000152308541289,1.0000810618235851,1.007880111686844,0.9996177791863792,1.000158317386467,1.0000810618235851,1.002176406259062,1.0013207958155712,1.0001557511915329,0.9999884809889784,0.9987268354596404,0.9869397712261078,0.9997231132099866,0.9994406093678933,0.9975149552271464,0.9873915685032012,0.9997355401233922,0.9980830225347884,0.9984716948731036,0.997370887686114,0.9970276954055702,0.997370887686114,0.997370887686114,0.9978107419717526,1.0003626358496551,0.9978107419717526,0.9978107419717526,0.9963178411710036,0.9963178411710036,0.9963178411710036,0.9963178411710036,1.001406055597309,1.001406055597309,1.001406055597309,1.001406055597309,0.9986865480729072,0.9986865480729072,0.9986865480729072,0.9986865480729072,0.997409878120741,0.997409878120741,0.997409878120741,0.997409878120741,1.0006719869810228,1.0006719869810228,1.0006719869810228,1.0006719869810228,0.9993931558202006,0.9993931558202006,0.9993931558202006,0.9993931558202006,0.9995244872177514,0.9995244872177514,0.9995244872177514,0.9995244872177514,0.9946168263246892,0.9946168263246892,0.9946168263246892,0.9946168263246892,0.9936969438393588,0.9936969438393588,0.9936969438393588,0.9936969438393588,0.9938597315629912,0.9938597315629912,0.9938597315629912,0.9938597315629912,0.9975522483729864,0.9975522483729864,0.9975522483729864,0.9975522483729864,0.9983021960999836,0.9983021960999836,0.9983021960999836,0.9983021960999836,0.995013569285608,0.995013569285608,0.995013569285608,0.995013569285608],\"type\":\"violin\"},{\"meanline\":{\"visible\":true},\"name\":\"bus6\",\"orientation\":\"v\",\"side\":\"positive\",\"x\":[\"bus6\",\"bus6\",\"bus6\",\"bus6\",\"bus6\",\"bus6\",\"bus6\",\"bus6\",\"bus6\",\"bus6\",\"bus6\",\"bus6\",\"bus6\",\"bus6\",\"bus6\",\"bus6\",\"bus6\",\"bus6\",\"bus6\",\"bus6\",\"bus6\",\"bus6\",\"bus6\",\"bus6\",\"bus6\",\"bus6\",\"bus6\",\"bus6\",\"bus6\",\"bus6\",\"bus6\",\"bus6\",\"bus6\",\"bus6\",\"bus6\",\"bus6\",\"bus6\",\"bus6\",\"bus6\",\"bus6\",\"bus6\",\"bus6\",\"bus6\",\"bus6\",\"bus6\",\"bus6\",\"bus6\",\"bus6\",\"bus6\",\"bus6\",\"bus6\",\"bus6\",\"bus6\",\"bus6\",\"bus6\",\"bus6\",\"bus6\",\"bus6\",\"bus6\",\"bus6\",\"bus6\",\"bus6\",\"bus6\",\"bus6\",\"bus6\",\"bus6\",\"bus6\",\"bus6\",\"bus6\",\"bus6\",\"bus6\",\"bus6\",\"bus6\",\"bus6\",\"bus6\",\"bus6\",\"bus6\",\"bus6\",\"bus6\",\"bus6\",\"bus6\",\"bus6\",\"bus6\",\"bus6\",\"bus6\",\"bus6\",\"bus6\",\"bus6\",\"bus6\",\"bus6\",\"bus6\",\"bus6\",\"bus6\",\"bus6\",\"bus6\",\"bus6\",\"bus6\",\"bus6\",\"bus6\",\"bus6\",\"bus6\",\"bus6\",\"bus6\",\"bus6\",\"bus6\",\"bus6\",\"bus6\",\"bus6\",\"bus6\",\"bus6\",\"bus6\",\"bus6\",\"bus6\",\"bus6\",\"bus6\",\"bus6\",\"bus6\",\"bus6\",\"bus6\",\"bus6\",\"bus6\",\"bus6\",\"bus6\",\"bus6\",\"bus6\",\"bus6\",\"bus6\",\"bus6\",\"bus6\",\"bus6\",\"bus6\",\"bus6\",\"bus6\",\"bus6\",\"bus6\",\"bus6\",\"bus6\",\"bus6\",\"bus6\",\"bus6\",\"bus6\",\"bus6\",\"bus6\",\"bus6\",\"bus6\",\"bus6\",\"bus6\",\"bus6\",\"bus6\",\"bus6\",\"bus6\",\"bus6\",\"bus6\",\"bus6\",\"bus6\",\"bus6\",\"bus6\",\"bus6\",\"bus6\",\"bus6\"],\"y\":[0.9875068689824774,0.9875068689824774,0.9875068689824774,0.9875068689824774,0.9972917385956366,0.9972917385956366,0.9972917385956366,0.9972917385956366,0.9789317461462276,0.9789317461462276,0.9789317461462276,0.9789317461462276,0.9889263354561832,0.9889263354561832,0.9889263354561832,0.9889263354561832,0.9937025063084576,0.9937025063084576,0.9937025063084576,0.9937025063084576,0.9913460922203716,0.9913460922203716,0.9913460922203716,0.9913460922203716,0.9964665921308774,0.9964665921308774,0.9964665921308774,0.9964665921308774,0.9947913775406924,0.9947913775406924,0.9947913775406924,0.9947913775406924,0.9910009356778892,0.9910009356778892,0.9910009356778892,0.9910009356778892,0.9844098336513564,0.9844098336513564,0.9844098336513564,0.9844098336513564,1.0019160880275095,1.0019160880275095,1.0019160880275095,1.0019160880275095,0.9829046782633374,0.9654492816216496,0.9799729064820766,0.9782535828167874,0.9907459324304584,null,0.980597189030748,0.9903802237190203,null,null,0.9851588513030984,0.9912679132222464,null,null,null,0.9906350771311316,null,null,null,0.999428154672938,null,null,null,0.997698085656699,null,null,null,0.9968560771032804,null,null,null,1.000283332062195,null,null,null,0.9966022856940986,null,null,null,1.001233935271374,null,null,null,1.0003995744312235,null,null,null,0.9867015124870978,0.9781707362107188,null,null,0.988849616836274,0.9796421572739736,null,0.9904262835193512,0.9908182857892552,0.9890759333973244,0.9887295536581832,0.9890759333973244,0.9890759333973244,0.9806359353177804,0.9832378361177492,0.9806359353177804,0.9806359353177804,0.9853066212670328,0.9853066212670328,0.9853066212670328,0.9853066212670328,0.9981812017693228,0.9981812017693228,0.9981812017693228,0.9981812017693228,0.9955784624092588,0.9955784624092588,0.9955784624092588,0.9955784624092588,0.9801143658887996,0.9801143658887996,0.9801143658887996,0.9801143658887996,1.000087915236259,1.000087915236259,1.000087915236259,1.000087915236259,0.9893112390858444,0.9893112390858444,0.9893112390858444,0.9893112390858444,0.993621537813538,0.993621537813538,0.993621537813538,0.993621537813538,0.9772521850103528,0.9772521850103528,0.9772521850103528,0.9772521850103528,0.9801027157044748,0.9801027157044748,0.9801027157044748,0.9801027157044748,0.9779378193500156,0.9779378193500156,0.9779378193500156,0.9779378193500156,0.9915292707423152,0.9915292707423152,0.9915292707423152,0.9915292707423152,0.9901537641810032,0.9901537641810032,0.9901537641810032,0.9901537641810032,0.9793620688082454,0.9793620688082454,0.9793620688082454,0.9793620688082454],\"type\":\"violin\"},{\"meanline\":{\"visible\":true},\"name\":\"bus7\",\"orientation\":\"v\",\"side\":\"positive\",\"x\":[\"bus7\",\"bus7\",\"bus7\",\"bus7\",\"bus7\",\"bus7\",\"bus7\",\"bus7\",\"bus7\",\"bus7\",\"bus7\",\"bus7\",\"bus7\",\"bus7\",\"bus7\",\"bus7\",\"bus7\",\"bus7\",\"bus7\",\"bus7\",\"bus7\",\"bus7\",\"bus7\",\"bus7\",\"bus7\",\"bus7\",\"bus7\",\"bus7\",\"bus7\",\"bus7\",\"bus7\",\"bus7\",\"bus7\",\"bus7\",\"bus7\",\"bus7\",\"bus7\",\"bus7\",\"bus7\",\"bus7\",\"bus7\",\"bus7\",\"bus7\",\"bus7\",\"bus7\",\"bus7\",\"bus7\",\"bus7\",\"bus7\",\"bus7\",\"bus7\",\"bus7\",\"bus7\",\"bus7\",\"bus7\",\"bus7\",\"bus7\",\"bus7\",\"bus7\",\"bus7\",\"bus7\",\"bus7\",\"bus7\",\"bus7\",\"bus7\",\"bus7\",\"bus7\",\"bus7\",\"bus7\",\"bus7\",\"bus7\",\"bus7\",\"bus7\",\"bus7\",\"bus7\",\"bus7\",\"bus7\",\"bus7\",\"bus7\",\"bus7\",\"bus7\",\"bus7\",\"bus7\",\"bus7\",\"bus7\",\"bus7\",\"bus7\",\"bus7\",\"bus7\",\"bus7\",\"bus7\",\"bus7\",\"bus7\",\"bus7\",\"bus7\",\"bus7\",\"bus7\",\"bus7\",\"bus7\",\"bus7\",\"bus7\",\"bus7\",\"bus7\",\"bus7\",\"bus7\",\"bus7\",\"bus7\",\"bus7\",\"bus7\",\"bus7\",\"bus7\",\"bus7\",\"bus7\",\"bus7\",\"bus7\",\"bus7\",\"bus7\",\"bus7\",\"bus7\",\"bus7\",\"bus7\",\"bus7\",\"bus7\",\"bus7\",\"bus7\",\"bus7\",\"bus7\",\"bus7\",\"bus7\",\"bus7\",\"bus7\",\"bus7\",\"bus7\",\"bus7\",\"bus7\",\"bus7\",\"bus7\",\"bus7\",\"bus7\",\"bus7\",\"bus7\",\"bus7\",\"bus7\",\"bus7\",\"bus7\",\"bus7\",\"bus7\",\"bus7\",\"bus7\",\"bus7\",\"bus7\",\"bus7\",\"bus7\",\"bus7\",\"bus7\",\"bus7\",\"bus7\",\"bus7\",\"bus7\",\"bus7\"],\"y\":[1.003765697387761,1.003765697387761,1.003765697387761,1.003765697387761,1.0063587975736468,1.0063587975736468,1.0063587975736468,1.0063587975736468,1.0049212351542147,1.0049212351542147,1.0049212351542147,1.0049212351542147,1.0052274131768557,1.0052274131768557,1.0052274131768557,1.0052274131768557,1.0042334414397895,1.0042334414397895,1.0042334414397895,1.0042334414397895,1.0104861089463757,1.0104861089463757,1.0104861089463757,1.0104861089463757,1.005504755009999,1.005504755009999,1.005504755009999,1.005504755009999,1.002303483755441,1.002303483755441,1.002303483755441,1.002303483755441,1.0055850112894575,1.0055850112894575,1.0055850112894575,1.0055850112894575,1.007047326731735,1.007047326731735,1.007047326731735,1.007047326731735,1.0032373638414225,1.0032373638414225,1.0032373638414225,1.0032373638414225,1.0111299930015605,1.007290834562216,1.0079479891694212,1.0057737174622805,1.00718711400674,1.003663538365288,1.0017935806085934,1.0032891970396645,0.999859828160341,1.0000000005,0.9998623133026088,1.0034312957229854,0.999859828160341,1.0000000005,0.9998623133026088,1.003757177079192,0.9999083804485732,0.9998685020904376,0.9998623133026086,1.0006125456979504,0.9999083804485734,1.0000276534021897,0.9998205597154796,1.002449745731134,0.9999083804485732,0.999993256757824,0.9998205597154796,1.0074619089489094,0.9999083804485732,1.0013523551018022,0.9998205597154796,1.0138427540774873,0.9999083804485732,1.000312237560561,0.9998205597154796,1.009406994120801,0.9999083804485732,1.0006263536535671,0.9998205597154796,1.0143815612917702,0.9999083804485732,1.0002697169297798,0.9998205597154796,1.0035003698730725,0.9999083804485732,1.0004237750363172,1.0002277338327226,1.0111819391088597,0.9999083804485732,1.0009720330136611,1.0028296286157228,1.0065952679749013,1.0049392027746806,1.0009372409867527,1.0070369498525145,1.007446522073481,1.0033795320621524,1.003012726044677,1.0033795320621524,1.0033795320621524,1.0071663380405742,1.0100896393029442,1.0071663380405742,1.0071663380405742,1.0173104199265963,1.0173104199265963,1.0173104199265963,1.0173104199265963,1.0032758302725724,1.0032758302725724,1.0032758302725724,1.0032758302725724,1.0037273943438352,1.0037273943438352,1.0037273943438352,1.0037273943438352,1.008644898965583,1.008644898965583,1.008644898965583,1.008644898965583,1.002310930048084,1.002310930048084,1.002310930048084,1.002310930048084,1.005671307230663,1.005671307230663,1.005671307230663,1.005671307230663,1.0070803643387511,1.0070803643387511,1.0070803643387511,1.0070803643387511,1.0094380254304565,1.0094380254304565,1.0094380254304565,1.0094380254304565,1.0094693458527562,1.0094693458527562,1.0094693458527562,1.0094693458527562,1.0100251344989446,1.0100251344989446,1.0100251344989446,1.0100251344989446,1.0042049059196514,1.0042049059196514,1.0042049059196514,1.0042049059196514,1.003076670226011,1.003076670226011,1.003076670226011,1.003076670226011,1.0051182730917614,1.0051182730917614,1.0051182730917614,1.0051182730917614],\"type\":\"violin\"},{\"meanline\":{\"visible\":true},\"name\":\"bus8\",\"orientation\":\"v\",\"side\":\"positive\",\"x\":[\"bus8\",\"bus8\",\"bus8\",\"bus8\",\"bus8\",\"bus8\",\"bus8\",\"bus8\",\"bus8\",\"bus8\",\"bus8\",\"bus8\",\"bus8\",\"bus8\",\"bus8\",\"bus8\",\"bus8\",\"bus8\",\"bus8\",\"bus8\",\"bus8\",\"bus8\",\"bus8\",\"bus8\",\"bus8\",\"bus8\",\"bus8\",\"bus8\",\"bus8\",\"bus8\",\"bus8\",\"bus8\",\"bus8\",\"bus8\",\"bus8\",\"bus8\",\"bus8\",\"bus8\",\"bus8\",\"bus8\",\"bus8\",\"bus8\",\"bus8\",\"bus8\",\"bus8\",\"bus8\",\"bus8\",\"bus8\",\"bus8\",\"bus8\",\"bus8\",\"bus8\",\"bus8\",\"bus8\",\"bus8\",\"bus8\",\"bus8\",\"bus8\",\"bus8\",\"bus8\",\"bus8\",\"bus8\",\"bus8\",\"bus8\",\"bus8\",\"bus8\",\"bus8\",\"bus8\",\"bus8\",\"bus8\",\"bus8\",\"bus8\",\"bus8\",\"bus8\",\"bus8\",\"bus8\",\"bus8\",\"bus8\",\"bus8\",\"bus8\",\"bus8\",\"bus8\",\"bus8\",\"bus8\",\"bus8\",\"bus8\",\"bus8\",\"bus8\",\"bus8\",\"bus8\",\"bus8\",\"bus8\",\"bus8\",\"bus8\",\"bus8\",\"bus8\",\"bus8\",\"bus8\",\"bus8\",\"bus8\",\"bus8\",\"bus8\",\"bus8\",\"bus8\",\"bus8\",\"bus8\",\"bus8\",\"bus8\",\"bus8\",\"bus8\",\"bus8\",\"bus8\",\"bus8\",\"bus8\",\"bus8\",\"bus8\",\"bus8\",\"bus8\",\"bus8\",\"bus8\",\"bus8\",\"bus8\",\"bus8\",\"bus8\",\"bus8\",\"bus8\",\"bus8\",\"bus8\",\"bus8\",\"bus8\",\"bus8\",\"bus8\",\"bus8\",\"bus8\",\"bus8\",\"bus8\",\"bus8\",\"bus8\",\"bus8\",\"bus8\",\"bus8\",\"bus8\",\"bus8\",\"bus8\",\"bus8\",\"bus8\",\"bus8\",\"bus8\",\"bus8\",\"bus8\",\"bus8\",\"bus8\",\"bus8\",\"bus8\",\"bus8\",\"bus8\",\"bus8\",\"bus8\",\"bus8\",\"bus8\"],\"y\":[1.003926070935132,1.003926070935132,1.003926070935132,1.003926070935132,0.998817112380352,0.998817112380352,0.998817112380352,0.998817112380352,1.003552844129755,1.003552844129755,1.003552844129755,1.003552844129755,1.0000969221997231,1.0000969221997231,1.0000969221997231,1.0000969221997231,1.001516572152416,1.001516572152416,1.001516572152416,1.001516572152416,1.0036116003404223,1.0036116003404223,1.0036116003404223,1.0036116003404223,1.0001369142528744,1.0001369142528744,1.0001369142528744,1.0001369142528744,1.001611839693602,1.001611839693602,1.001611839693602,1.001611839693602,1.001154634848957,1.001154634848957,1.001154634848957,1.001154634848957,1.000126446210617,1.000126446210617,1.000126446210617,1.000126446210617,0.9993682530944316,0.9993682530944316,0.9993682530944316,0.9993682530944316,0.9966229558692168,1.0002786174829843,1.0017392765928037,1.006017413491077,1.003742113541341,1.0001994801504088,1.0002046939708555,1.003410772049537,1.0001473393667073,null,1.000135087036154,1.0035557849871155,1.0001473393667073,null,1.000135087036154,1.002525235839577,1.0001883971496195,null,1.000135087036154,1.0002818317719746,1.0001883971496193,null,1.0000933220581747,1.0008644822498018,1.0001883971496195,null,1.0000933220581747,1.0005338434029247,1.0001883971496195,null,1.0000933220581747,0.9982056771593062,1.0001883971496195,null,1.0000933220581747,1.0003974899082602,1.0001883971496195,null,1.0000933220581747,0.9977510094280264,1.0001883971496195,null,1.0000933220581747,0.9993465932298902,1.0001883971496195,null,1.0005006072571163,1.0041050965581269,1.0001883971496195,1.001245109491279,1.0031032118664045,1.001550484653914,1.000217298211188,1.0012103079727126,1.0073116809079556,1.002976077981306,1.0012346699801495,1.003286359246406,1.0012346699801495,1.0012346699801495,1.0014451073378456,0.9972710458443016,1.0014451073378456,1.0014451073378456,1.0108539809718406,1.0108539809718406,1.0108539809718406,1.0108539809718406,0.9993669647984323,0.9993669647984323,0.9993669647984323,0.9993669647984323,1.0017262149676511,1.0017262149676511,1.0017262149676511,1.0017262149676511,1.0027899194891994,1.0027899194891994,1.0027899194891994,1.0027899194891994,1.0017814438337045,1.0017814438337045,1.0017814438337045,1.0017814438337045,0.9998857098107552,0.9998857098107552,0.9998857098107552,0.9998857098107552,1.0041612963177786,1.0041612963177786,1.0041612963177786,1.0041612963177786,1.0065954138789577,1.0065954138789577,1.0065954138789577,1.0065954138789577,1.0068036697584102,1.0068036697584102,1.0068036697584102,1.0068036697584102,1.0069007100086007,1.0069007100086007,1.0069007100086007,1.0069007100086007,1.003792497019399,1.003792497019399,1.003792497019399,1.003792497019399,1.003212048127175,1.003212048127175,1.003212048127175,1.003212048127175,1.0051886199934412,1.0051886199934412,1.0051886199934412,1.0051886199934412],\"type\":\"violin\"},{\"meanline\":{\"visible\":true},\"name\":\"bus9\",\"orientation\":\"v\",\"side\":\"positive\",\"x\":[\"bus9\",\"bus9\",\"bus9\",\"bus9\",\"bus9\",\"bus9\",\"bus9\",\"bus9\",\"bus9\",\"bus9\",\"bus9\",\"bus9\",\"bus9\",\"bus9\",\"bus9\",\"bus9\",\"bus9\",\"bus9\",\"bus9\",\"bus9\",\"bus9\",\"bus9\",\"bus9\",\"bus9\",\"bus9\",\"bus9\",\"bus9\",\"bus9\",\"bus9\",\"bus9\",\"bus9\",\"bus9\",\"bus9\",\"bus9\",\"bus9\",\"bus9\",\"bus9\",\"bus9\",\"bus9\",\"bus9\",\"bus9\",\"bus9\",\"bus9\",\"bus9\",\"bus9\",\"bus9\",\"bus9\",\"bus9\",\"bus9\",\"bus9\",\"bus9\",\"bus9\",\"bus9\",\"bus9\",\"bus9\",\"bus9\",\"bus9\",\"bus9\",\"bus9\",\"bus9\",\"bus9\",\"bus9\",\"bus9\",\"bus9\",\"bus9\",\"bus9\",\"bus9\",\"bus9\",\"bus9\",\"bus9\",\"bus9\",\"bus9\",\"bus9\",\"bus9\",\"bus9\",\"bus9\",\"bus9\",\"bus9\",\"bus9\",\"bus9\",\"bus9\",\"bus9\",\"bus9\",\"bus9\",\"bus9\",\"bus9\",\"bus9\",\"bus9\",\"bus9\",\"bus9\",\"bus9\",\"bus9\",\"bus9\",\"bus9\",\"bus9\",\"bus9\",\"bus9\",\"bus9\",\"bus9\",\"bus9\",\"bus9\",\"bus9\",\"bus9\",\"bus9\",\"bus9\",\"bus9\",\"bus9\",\"bus9\",\"bus9\",\"bus9\",\"bus9\",\"bus9\",\"bus9\",\"bus9\",\"bus9\",\"bus9\",\"bus9\",\"bus9\",\"bus9\",\"bus9\",\"bus9\",\"bus9\",\"bus9\",\"bus9\",\"bus9\",\"bus9\",\"bus9\",\"bus9\",\"bus9\",\"bus9\",\"bus9\",\"bus9\",\"bus9\",\"bus9\",\"bus9\",\"bus9\",\"bus9\",\"bus9\",\"bus9\",\"bus9\",\"bus9\",\"bus9\",\"bus9\",\"bus9\",\"bus9\",\"bus9\",\"bus9\",\"bus9\",\"bus9\",\"bus9\",\"bus9\",\"bus9\",\"bus9\",\"bus9\",\"bus9\",\"bus9\",\"bus9\",\"bus9\",\"bus9\",\"bus9\"],\"y\":[1.0035108858123525,1.0035108858123525,1.0035108858123525,1.0035108858123525,0.9821633561126264,0.9821633561126264,0.9821633561126264,0.9821633561126264,0.999994337646391,0.999994337646391,0.999994337646391,0.999994337646391,0.9883181740514388,0.9883181740514388,0.9883181740514388,0.9883181740514388,0.9950770644331282,0.9950770644331282,0.9950770644331282,0.9950770644331282,0.9883052716683672,0.9883052716683672,0.9883052716683672,0.9883052716683672,0.9879167142249256,0.9879167142249256,0.9879167142249256,0.9879167142249256,0.9994548345546352,0.9994548345546352,0.9994548345546352,0.9994548345546352,0.9903167693262336,0.9903167693262336,0.9903167693262336,0.9903167693262336,0.9844554587482214,0.9844554587482214,0.9844554587482214,0.9844554587482214,0.99033031992137,0.99033031992137,0.99033031992137,0.99033031992137,0.9821221469593724,0.9858379740242288,0.987322535823014,null,0.999736132402696,0.9961768641531136,0.9961821025398396,null,null,null,null,null,null,null,null,1.0007210309839667,null,null,null,0.9993867194663226,null,null,null,0.998707178402358,null,null,null,0.9931400451235356,null,null,null,0.982669494238714,null,null,null,0.991017142383156,null,null,null,0.9813119730579352,null,null,null,0.9946464534867762,null,null,null,0.988853552786068,null,null,null,0.9898533409738935,0.9901064695125584,null,null,0.9928965269929428,0.9956393581460488,null,0.9956393581460488,0.9956393581460488,0.9885605926202568,0.9843255529611996,0.9885605926202568,0.9885605926202568,0.994517004726968,0.994517004726968,0.994517004726968,0.994517004726968,0.9901357186654834,0.9901357186654834,0.9901357186654834,0.9901357186654834,0.9966804870599116,0.9966804870599116,0.9966804870599116,0.9966804870599116,0.9897203951438012,0.9897203951438012,0.9897203951438012,0.9897203951438012,1.0001844380785767,1.0001844380785767,1.0001844380785767,1.0001844380785767,0.9866880310848464,0.9866880310848464,0.9866880310848464,0.9866880310848464,0.9978222193328188,0.9978222193328188,0.9978222193328188,0.9978222193328188,1.0000112697641943,1.0000112697641943,1.0000112697641943,1.0000112697641943,1.0002621704597132,1.0002621704597132,1.0002621704597132,1.0002621704597132,0.9993862203778374,0.9993862203778374,0.9993862203778374,0.9993862203778374,1.0025517505431485,1.0025517505431485,1.0025517505431485,1.0025517505431485,1.003186064091241,1.003186064091241,1.003186064091241,1.003186064091241,1.00512192935654,1.00512192935654,1.00512192935654,1.00512192935654],\"type\":\"violin\"}],                        {\"template\":{\"data\":{\"histogram2dcontour\":[{\"type\":\"histogram2dcontour\",\"colorbar\":{\"outlinewidth\":0,\"ticks\":\"\"},\"colorscale\":[[0.0,\"#0d0887\"],[0.1111111111111111,\"#46039f\"],[0.2222222222222222,\"#7201a8\"],[0.3333333333333333,\"#9c179e\"],[0.4444444444444444,\"#bd3786\"],[0.5555555555555556,\"#d8576b\"],[0.6666666666666666,\"#ed7953\"],[0.7777777777777778,\"#fb9f3a\"],[0.8888888888888888,\"#fdca26\"],[1.0,\"#f0f921\"]]}],\"choropleth\":[{\"type\":\"choropleth\",\"colorbar\":{\"outlinewidth\":0,\"ticks\":\"\"}}],\"histogram2d\":[{\"type\":\"histogram2d\",\"colorbar\":{\"outlinewidth\":0,\"ticks\":\"\"},\"colorscale\":[[0.0,\"#0d0887\"],[0.1111111111111111,\"#46039f\"],[0.2222222222222222,\"#7201a8\"],[0.3333333333333333,\"#9c179e\"],[0.4444444444444444,\"#bd3786\"],[0.5555555555555556,\"#d8576b\"],[0.6666666666666666,\"#ed7953\"],[0.7777777777777778,\"#fb9f3a\"],[0.8888888888888888,\"#fdca26\"],[1.0,\"#f0f921\"]]}],\"heatmap\":[{\"type\":\"heatmap\",\"colorbar\":{\"outlinewidth\":0,\"ticks\":\"\"},\"colorscale\":[[0.0,\"#0d0887\"],[0.1111111111111111,\"#46039f\"],[0.2222222222222222,\"#7201a8\"],[0.3333333333333333,\"#9c179e\"],[0.4444444444444444,\"#bd3786\"],[0.5555555555555556,\"#d8576b\"],[0.6666666666666666,\"#ed7953\"],[0.7777777777777778,\"#fb9f3a\"],[0.8888888888888888,\"#fdca26\"],[1.0,\"#f0f921\"]]}],\"heatmapgl\":[{\"type\":\"heatmapgl\",\"colorbar\":{\"outlinewidth\":0,\"ticks\":\"\"},\"colorscale\":[[0.0,\"#0d0887\"],[0.1111111111111111,\"#46039f\"],[0.2222222222222222,\"#7201a8\"],[0.3333333333333333,\"#9c179e\"],[0.4444444444444444,\"#bd3786\"],[0.5555555555555556,\"#d8576b\"],[0.6666666666666666,\"#ed7953\"],[0.7777777777777778,\"#fb9f3a\"],[0.8888888888888888,\"#fdca26\"],[1.0,\"#f0f921\"]]}],\"contourcarpet\":[{\"type\":\"contourcarpet\",\"colorbar\":{\"outlinewidth\":0,\"ticks\":\"\"}}],\"contour\":[{\"type\":\"contour\",\"colorbar\":{\"outlinewidth\":0,\"ticks\":\"\"},\"colorscale\":[[0.0,\"#0d0887\"],[0.1111111111111111,\"#46039f\"],[0.2222222222222222,\"#7201a8\"],[0.3333333333333333,\"#9c179e\"],[0.4444444444444444,\"#bd3786\"],[0.5555555555555556,\"#d8576b\"],[0.6666666666666666,\"#ed7953\"],[0.7777777777777778,\"#fb9f3a\"],[0.8888888888888888,\"#fdca26\"],[1.0,\"#f0f921\"]]}],\"surface\":[{\"type\":\"surface\",\"colorbar\":{\"outlinewidth\":0,\"ticks\":\"\"},\"colorscale\":[[0.0,\"#0d0887\"],[0.1111111111111111,\"#46039f\"],[0.2222222222222222,\"#7201a8\"],[0.3333333333333333,\"#9c179e\"],[0.4444444444444444,\"#bd3786\"],[0.5555555555555556,\"#d8576b\"],[0.6666666666666666,\"#ed7953\"],[0.7777777777777778,\"#fb9f3a\"],[0.8888888888888888,\"#fdca26\"],[1.0,\"#f0f921\"]]}],\"mesh3d\":[{\"type\":\"mesh3d\",\"colorbar\":{\"outlinewidth\":0,\"ticks\":\"\"}}],\"scatter\":[{\"fillpattern\":{\"fillmode\":\"overlay\",\"size\":10,\"solidity\":0.2},\"type\":\"scatter\"}],\"parcoords\":[{\"type\":\"parcoords\",\"line\":{\"colorbar\":{\"outlinewidth\":0,\"ticks\":\"\"}}}],\"scatterpolargl\":[{\"type\":\"scatterpolargl\",\"marker\":{\"colorbar\":{\"outlinewidth\":0,\"ticks\":\"\"}}}],\"bar\":[{\"error_x\":{\"color\":\"#2a3f5f\"},\"error_y\":{\"color\":\"#2a3f5f\"},\"marker\":{\"line\":{\"color\":\"#E5ECF6\",\"width\":0.5},\"pattern\":{\"fillmode\":\"overlay\",\"size\":10,\"solidity\":0.2}},\"type\":\"bar\"}],\"scattergeo\":[{\"type\":\"scattergeo\",\"marker\":{\"colorbar\":{\"outlinewidth\":0,\"ticks\":\"\"}}}],\"scatterpolar\":[{\"type\":\"scatterpolar\",\"marker\":{\"colorbar\":{\"outlinewidth\":0,\"ticks\":\"\"}}}],\"histogram\":[{\"marker\":{\"pattern\":{\"fillmode\":\"overlay\",\"size\":10,\"solidity\":0.2}},\"type\":\"histogram\"}],\"scattergl\":[{\"type\":\"scattergl\",\"marker\":{\"colorbar\":{\"outlinewidth\":0,\"ticks\":\"\"}}}],\"scatter3d\":[{\"type\":\"scatter3d\",\"line\":{\"colorbar\":{\"outlinewidth\":0,\"ticks\":\"\"}},\"marker\":{\"colorbar\":{\"outlinewidth\":0,\"ticks\":\"\"}}}],\"scattermapbox\":[{\"type\":\"scattermapbox\",\"marker\":{\"colorbar\":{\"outlinewidth\":0,\"ticks\":\"\"}}}],\"scatterternary\":[{\"type\":\"scatterternary\",\"marker\":{\"colorbar\":{\"outlinewidth\":0,\"ticks\":\"\"}}}],\"scattercarpet\":[{\"type\":\"scattercarpet\",\"marker\":{\"colorbar\":{\"outlinewidth\":0,\"ticks\":\"\"}}}],\"carpet\":[{\"aaxis\":{\"endlinecolor\":\"#2a3f5f\",\"gridcolor\":\"white\",\"linecolor\":\"white\",\"minorgridcolor\":\"white\",\"startlinecolor\":\"#2a3f5f\"},\"baxis\":{\"endlinecolor\":\"#2a3f5f\",\"gridcolor\":\"white\",\"linecolor\":\"white\",\"minorgridcolor\":\"white\",\"startlinecolor\":\"#2a3f5f\"},\"type\":\"carpet\"}],\"table\":[{\"cells\":{\"fill\":{\"color\":\"#EBF0F8\"},\"line\":{\"color\":\"white\"}},\"header\":{\"fill\":{\"color\":\"#C8D4E3\"},\"line\":{\"color\":\"white\"}},\"type\":\"table\"}],\"barpolar\":[{\"marker\":{\"line\":{\"color\":\"#E5ECF6\",\"width\":0.5},\"pattern\":{\"fillmode\":\"overlay\",\"size\":10,\"solidity\":0.2}},\"type\":\"barpolar\"}],\"pie\":[{\"automargin\":true,\"type\":\"pie\"}]},\"layout\":{\"autotypenumbers\":\"strict\",\"colorway\":[\"#636efa\",\"#EF553B\",\"#00cc96\",\"#ab63fa\",\"#FFA15A\",\"#19d3f3\",\"#FF6692\",\"#B6E880\",\"#FF97FF\",\"#FECB52\"],\"font\":{\"color\":\"#2a3f5f\"},\"hovermode\":\"closest\",\"hoverlabel\":{\"align\":\"left\"},\"paper_bgcolor\":\"white\",\"plot_bgcolor\":\"#E5ECF6\",\"polar\":{\"bgcolor\":\"#E5ECF6\",\"angularaxis\":{\"gridcolor\":\"white\",\"linecolor\":\"white\",\"ticks\":\"\"},\"radialaxis\":{\"gridcolor\":\"white\",\"linecolor\":\"white\",\"ticks\":\"\"}},\"ternary\":{\"bgcolor\":\"#E5ECF6\",\"aaxis\":{\"gridcolor\":\"white\",\"linecolor\":\"white\",\"ticks\":\"\"},\"baxis\":{\"gridcolor\":\"white\",\"linecolor\":\"white\",\"ticks\":\"\"},\"caxis\":{\"gridcolor\":\"white\",\"linecolor\":\"white\",\"ticks\":\"\"}},\"coloraxis\":{\"colorbar\":{\"outlinewidth\":0,\"ticks\":\"\"}},\"colorscale\":{\"sequential\":[[0.0,\"#0d0887\"],[0.1111111111111111,\"#46039f\"],[0.2222222222222222,\"#7201a8\"],[0.3333333333333333,\"#9c179e\"],[0.4444444444444444,\"#bd3786\"],[0.5555555555555556,\"#d8576b\"],[0.6666666666666666,\"#ed7953\"],[0.7777777777777778,\"#fb9f3a\"],[0.8888888888888888,\"#fdca26\"],[1.0,\"#f0f921\"]],\"sequentialminus\":[[0.0,\"#0d0887\"],[0.1111111111111111,\"#46039f\"],[0.2222222222222222,\"#7201a8\"],[0.3333333333333333,\"#9c179e\"],[0.4444444444444444,\"#bd3786\"],[0.5555555555555556,\"#d8576b\"],[0.6666666666666666,\"#ed7953\"],[0.7777777777777778,\"#fb9f3a\"],[0.8888888888888888,\"#fdca26\"],[1.0,\"#f0f921\"]],\"diverging\":[[0,\"#8e0152\"],[0.1,\"#c51b7d\"],[0.2,\"#de77ae\"],[0.3,\"#f1b6da\"],[0.4,\"#fde0ef\"],[0.5,\"#f7f7f7\"],[0.6,\"#e6f5d0\"],[0.7,\"#b8e186\"],[0.8,\"#7fbc41\"],[0.9,\"#4d9221\"],[1,\"#276419\"]]},\"xaxis\":{\"gridcolor\":\"white\",\"linecolor\":\"white\",\"ticks\":\"\",\"title\":{\"standoff\":15},\"zerolinecolor\":\"white\",\"automargin\":true,\"zerolinewidth\":2},\"yaxis\":{\"gridcolor\":\"white\",\"linecolor\":\"white\",\"ticks\":\"\",\"title\":{\"standoff\":15},\"zerolinecolor\":\"white\",\"automargin\":true,\"zerolinewidth\":2},\"scene\":{\"xaxis\":{\"backgroundcolor\":\"#E5ECF6\",\"gridcolor\":\"white\",\"linecolor\":\"white\",\"showbackground\":true,\"ticks\":\"\",\"zerolinecolor\":\"white\",\"gridwidth\":2},\"yaxis\":{\"backgroundcolor\":\"#E5ECF6\",\"gridcolor\":\"white\",\"linecolor\":\"white\",\"showbackground\":true,\"ticks\":\"\",\"zerolinecolor\":\"white\",\"gridwidth\":2},\"zaxis\":{\"backgroundcolor\":\"#E5ECF6\",\"gridcolor\":\"white\",\"linecolor\":\"white\",\"showbackground\":true,\"ticks\":\"\",\"zerolinecolor\":\"white\",\"gridwidth\":2}},\"shapedefaults\":{\"line\":{\"color\":\"#2a3f5f\"}},\"annotationdefaults\":{\"arrowcolor\":\"#2a3f5f\",\"arrowhead\":0,\"arrowwidth\":1},\"geo\":{\"bgcolor\":\"white\",\"landcolor\":\"#E5ECF6\",\"subunitcolor\":\"white\",\"showland\":true,\"showlakes\":true,\"lakecolor\":\"white\"},\"title\":{\"x\":0.05},\"mapbox\":{\"style\":\"light\"}}},\"width\":1000,\"height\":500},                        {\"responsive\": true}                    ).then(function(){\n",
       "                            \n",
       "var gd = document.getElementById('6c2bc76a-2908-44b7-a5db-7442126bf38f');\n",
       "var x = new MutationObserver(function (mutations, observer) {{\n",
       "        var display = window.getComputedStyle(gd).display;\n",
       "        if (!display || display === 'none') {{\n",
       "            console.log([gd, 'removed!']);\n",
       "            Plotly.purge(gd);\n",
       "            observer.disconnect();\n",
       "        }}\n",
       "}});\n",
       "\n",
       "// Listen for the removal of the full notebook cells\n",
       "var notebookContainer = gd.closest('#notebook-container');\n",
       "if (notebookContainer) {{\n",
       "    x.observe(notebookContainer, {childList: true});\n",
       "}}\n",
       "\n",
       "// Listen for the clearing of the current output cell\n",
       "var outputEl = gd.closest('.output');\n",
       "if (outputEl) {{\n",
       "    x.observe(outputEl, {childList: true});\n",
       "}}\n",
       "\n",
       "                        })                };                });            </script>        </div>"
      ]
     },
     "metadata": {},
     "output_type": "display_data"
    }
   ],
   "source": [
    "df_bus =invert(filter(df, type = 'bus'))\n",
    "fig = go.Figure()\n",
    "\n",
    "ids = df_bus['id'].drop_duplicates().to_list()\n",
    "\n",
    "for id in ids:\n",
    "    fig.add_trace(go.Violin(x=df_bus['id'][df_bus['id'] == id],\n",
    "                            y=df_bus['vm_pu'][df_bus['id'] == id],\n",
    "                            name=id,\n",
    "                            #box_visible=True,\n",
    "                            meanline_visible=True,\n",
    "                            side='positive',\n",
    "                            orientation = 'v'\n",
    "                           )     \n",
    "                 )\n",
    "fig.update_layout(width=1000, height = 500)\n",
    "fig.show()"
   ]
  }
 ],
 "metadata": {
  "kernelspec": {
   "display_name": "venv",
   "language": "python",
   "name": "python3"
  },
  "language_info": {
   "codemirror_mode": {
    "name": "ipython",
    "version": 3
   },
   "file_extension": ".py",
   "mimetype": "text/x-python",
   "name": "python",
   "nbconvert_exporter": "python",
   "pygments_lexer": "ipython3",
   "version": "3.10.10"
  }
 },
 "nbformat": 4,
 "nbformat_minor": 5
}
