{
 "cells": [
  {
   "cell_type": "code",
   "execution_count": 3,
   "metadata": {},
   "outputs": [
    {
     "name": "stderr",
     "output_type": "stream",
     "text": [
      "c:\\Users\\mn6461\\Documents\\GitHub\\reXplan-repo\\rex_venv\\lib\\site-packages\\pandapower\\file_io.py:96: FutureWarning: save is not part of the public API, usage can give unexpected results and will be removed in a future version\n",
      "  writer.save()\n"
     ]
    },
    {
     "name": "stdout",
     "output_type": "stream",
     "text": [
      "[generators,node]\n",
      "[simulation,cq2_eur_per_mvar2]\n",
      "[network,cq2_eur_per_mvar2]\n",
      "[crews,in_ka]\n",
      "\n",
      "- network.xlsx created successfully! - \n"
     ]
    }
   ],
   "source": [
    "import reXplan as rx\n",
    "import pandapower as pp\n",
    "import pandapower.networks as pn\n",
    "\n",
    "net = pn.mv_oberrhein()\n",
    "#net = pn.case24_ieee_rts()\n",
    "pp.to_excel(net, \"ppnetwork.xlsx\")\n",
    "rx.import_grid.import_grid(net, rename=True)"
   ]
  },
  {
   "cell_type": "code",
   "execution_count": null,
   "metadata": {},
   "outputs": [],
   "source": [
    "import pandas as pd\n",
    "import pandapower.networks as pn\n",
    "\n",
    "net = pn.mv_oberrhein()\n",
    "\n",
    "rename_sheet = {\n",
    "    #reXplan        :#pp-net\n",
    "    'generators'    : 'gen',\n",
    "    'external_gen'  : 'ext_grid',\n",
    "    'transformers'  : 'trafo',\n",
    "    'nodes'         : 'bus',\n",
    "    'switches'      : 'switch',\n",
    "    'loads'         : 'load',\n",
    "    'cost'          : 'poly_cost',\n",
    "    'lines'         : 'line',\n",
    "}\n",
    "rename_column = {\n",
    "    'from_bus'      : 'from_bus',\n",
    "    'to_bus'        : 'to_bus',\n",
    "}\n"
   ]
  },
  {
   "cell_type": "code",
   "execution_count": 2,
   "metadata": {},
   "outputs": [
    {
     "data": {
      "text/html": [
       "<div>\n",
       "<style scoped>\n",
       "    .dataframe tbody tr th:only-of-type {\n",
       "        vertical-align: middle;\n",
       "    }\n",
       "\n",
       "    .dataframe tbody tr th {\n",
       "        vertical-align: top;\n",
       "    }\n",
       "\n",
       "    .dataframe thead th {\n",
       "        text-align: right;\n",
       "    }\n",
       "</style>\n",
       "<table border=\"1\" class=\"dataframe\">\n",
       "  <thead>\n",
       "    <tr style=\"text-align: right;\">\n",
       "      <th></th>\n",
       "      <th>name</th>\n",
       "      <th>std_type</th>\n",
       "      <th>hv_bus</th>\n",
       "      <th>lv_bus</th>\n",
       "      <th>sn_mva</th>\n",
       "      <th>vn_hv_kv</th>\n",
       "      <th>vn_lv_kv</th>\n",
       "      <th>vk_percent</th>\n",
       "      <th>vkr_percent</th>\n",
       "      <th>pfe_kw</th>\n",
       "      <th>i0_percent</th>\n",
       "      <th>shift_degree</th>\n",
       "      <th>tap_side</th>\n",
       "      <th>tap_neutral</th>\n",
       "      <th>tap_min</th>\n",
       "      <th>tap_max</th>\n",
       "      <th>tap_step_percent</th>\n",
       "      <th>tap_step_degree</th>\n",
       "      <th>tap_pos</th>\n",
       "      <th>tap_phase_shifter</th>\n",
       "      <th>parallel</th>\n",
       "      <th>df</th>\n",
       "      <th>in_service</th>\n",
       "    </tr>\n",
       "  </thead>\n",
       "  <tbody>\n",
       "    <tr>\n",
       "      <th>114</th>\n",
       "      <td>HV/MV Transformer 0</td>\n",
       "      <td>25 MVA 110/20 kV</td>\n",
       "      <td>58</td>\n",
       "      <td>39</td>\n",
       "      <td>25.0</td>\n",
       "      <td>110.0</td>\n",
       "      <td>20.0</td>\n",
       "      <td>11.2</td>\n",
       "      <td>0.282</td>\n",
       "      <td>29.0</td>\n",
       "      <td>0.071</td>\n",
       "      <td>150.0</td>\n",
       "      <td>hv</td>\n",
       "      <td>0</td>\n",
       "      <td>-9</td>\n",
       "      <td>9</td>\n",
       "      <td>1.5</td>\n",
       "      <td>NaN</td>\n",
       "      <td>-2</td>\n",
       "      <td>False</td>\n",
       "      <td>1</td>\n",
       "      <td>1.0</td>\n",
       "      <td>True</td>\n",
       "    </tr>\n",
       "    <tr>\n",
       "      <th>142</th>\n",
       "      <td>HV/MV Transformer 1</td>\n",
       "      <td>25 MVA 110/20 kV</td>\n",
       "      <td>318</td>\n",
       "      <td>319</td>\n",
       "      <td>25.0</td>\n",
       "      <td>110.0</td>\n",
       "      <td>20.0</td>\n",
       "      <td>11.2</td>\n",
       "      <td>0.282</td>\n",
       "      <td>29.0</td>\n",
       "      <td>0.071</td>\n",
       "      <td>150.0</td>\n",
       "      <td>hv</td>\n",
       "      <td>0</td>\n",
       "      <td>-9</td>\n",
       "      <td>9</td>\n",
       "      <td>1.5</td>\n",
       "      <td>NaN</td>\n",
       "      <td>-3</td>\n",
       "      <td>False</td>\n",
       "      <td>1</td>\n",
       "      <td>1.0</td>\n",
       "      <td>True</td>\n",
       "    </tr>\n",
       "  </tbody>\n",
       "</table>\n",
       "</div>"
      ],
      "text/plain": [
       "                    name          std_type  hv_bus  lv_bus  sn_mva  vn_hv_kv  \\\n",
       "114  HV/MV Transformer 0  25 MVA 110/20 kV      58      39    25.0     110.0   \n",
       "142  HV/MV Transformer 1  25 MVA 110/20 kV     318     319    25.0     110.0   \n",
       "\n",
       "     vn_lv_kv  vk_percent  vkr_percent  pfe_kw  i0_percent  shift_degree  \\\n",
       "114      20.0        11.2        0.282    29.0       0.071         150.0   \n",
       "142      20.0        11.2        0.282    29.0       0.071         150.0   \n",
       "\n",
       "    tap_side  tap_neutral  tap_min  tap_max  tap_step_percent  \\\n",
       "114       hv            0       -9        9               1.5   \n",
       "142       hv            0       -9        9               1.5   \n",
       "\n",
       "     tap_step_degree  tap_pos  tap_phase_shifter  parallel   df  in_service  \n",
       "114              NaN       -2              False         1  1.0        True  \n",
       "142              NaN       -3              False         1  1.0        True  "
      ]
     },
     "execution_count": 2,
     "metadata": {},
     "output_type": "execute_result"
    }
   ],
   "source": [
    "import pandapower.networks as pn\n",
    "\n",
    "net = pn.mv_oberrhein()\n",
    "#net = pn.case14()\n",
    "net.trafo"
   ]
  },
  {
   "cell_type": "code",
   "execution_count": null,
   "metadata": {},
   "outputs": [],
   "source": [
    "sheet = 'lines'\n",
    "column = 'from_bus'"
   ]
  },
  {
   "cell_type": "code",
   "execution_count": null,
   "metadata": {},
   "outputs": [],
   "source": [
    "bus_column = getattr(net, rename_sheet[sheet])[rename_column[column]]   # renamed column??\n",
    "bus_names = net.bus.loc[bus_column.tolist(), 'name']\n",
    "values = pd.concat([bus_names, bus_names], ignore_index=True)\n",
    "values"
   ]
  },
  {
   "cell_type": "code",
   "execution_count": null,
   "metadata": {},
   "outputs": [],
   "source": [
    "column = 'node_s'\n",
    "if column == ('node' or 'node_p' or 'node_s' or 'from_bus' or 'to_bus'):\n",
    "    print(\"Works!\")\n",
    "else:\n",
    "    print(\"Fails!\")"
   ]
  },
  {
   "cell_type": "code",
   "execution_count": null,
   "metadata": {},
   "outputs": [],
   "source": [
    "values"
   ]
  }
 ],
 "metadata": {
  "kernelspec": {
   "display_name": "rex_venv",
   "language": "python",
   "name": "python3"
  },
  "language_info": {
   "codemirror_mode": {
    "name": "ipython",
    "version": 3
   },
   "file_extension": ".py",
   "mimetype": "text/x-python",
   "name": "python",
   "nbconvert_exporter": "python",
   "pygments_lexer": "ipython3",
   "version": "3.10.10"
  },
  "orig_nbformat": 4
 },
 "nbformat": 4,
 "nbformat_minor": 2
}
