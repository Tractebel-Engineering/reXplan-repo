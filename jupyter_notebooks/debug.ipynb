{
 "cells": [
  {
   "cell_type": "code",
   "execution_count": null,
   "metadata": {},
   "outputs": [],
   "source": [
    "# importing reXplan and dependencies\n",
    "import reXplan as rx\n",
    "import numpy as np\n",
    "import warnings\n",
    "from pandapower.plotting.plotly import pf_res_plotly\n",
    "warnings.simplefilter(\"ignore\") # warning are ignored for now\n",
    "\n",
    "import matplotlib.pyplot as plt\n",
    "import seaborn as sns\n",
    "simulationName = 'strata_example';\n",
    "network = rx.network.Network(simulationName);\n",
    "simulation = rx.simulation.Sim(simulationName);\n",
    "simulation.initialize_model_rp(network=network, ref_return_period=\"rp2\", iterationNumber=3, maxStrata=3)\n",
    "time = rx.simulation.Time(start = 10, duration = 10)\n",
    "simulation.run(network, iterationSet = None, time = None, run_type = 'pm_ac_opf', delta = 1e-16, saveOutput = True)"
   ]
  }
 ],
 "metadata": {
  "kernelspec": {
   "display_name": "rex_venv",
   "language": "python",
   "name": "python3"
  },
  "language_info": {
   "codemirror_mode": {
    "name": "ipython",
    "version": 3
   },
   "file_extension": ".py",
   "mimetype": "text/x-python",
   "name": "python",
   "nbconvert_exporter": "python",
   "pygments_lexer": "ipython3",
   "version": "3.10.10"
  },
  "orig_nbformat": 4
 },
 "nbformat": 4,
 "nbformat_minor": 2
}
