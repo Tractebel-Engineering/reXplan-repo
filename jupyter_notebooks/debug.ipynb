{
 "cells": [
  {
   "cell_type": "code",
   "execution_count": 1,
   "metadata": {},
   "outputs": [
    {
     "name": "stdout",
     "output_type": "stream",
     "text": [
      "[generators,node]\n",
      "[ln_type,cq2_eur_per_mvar2]\n",
      "[tr_type,cq2_eur_per_mvar2]\n",
      "[simulation,cq2_eur_per_mvar2]\n",
      "[network,cq2_eur_per_mvar2]\n",
      "[crews,in_ka]\n",
      "\n",
      "- network.xlsx created successfully! - \n"
     ]
    }
   ],
   "source": [
    "import reXplan as rx\n",
    "import pandapower as pp\n",
    "import pandapower.networks as pn\n",
    "\n",
    "net = pn.mv_oberrhein()\n",
    "#net = pn.case24_ieee_rts()\n",
    "# pp.to_excel(net, \"ppnetwork.xlsx\")\n",
    "rx.import_grid.import_grid(net, rename = True)"
   ]
  },
  {
   "cell_type": "code",
   "execution_count": 2,
   "metadata": {},
   "outputs": [],
   "source": [
    "import pandas as pd\n",
    "import pandapower.networks as pn\n",
    "\n",
    "net = pn.mv_oberrhein()\n",
    "\n",
    "rename_sheet = {\n",
    "    #reXplan        :#pp-net\n",
    "    'generators'    : 'gen',\n",
    "    'external_gen'  : 'ext_grid',\n",
    "    'transformers'  : 'trafo',\n",
    "    'nodes'         : 'bus',\n",
    "    'switches'      : 'switch',\n",
    "    'loads'         : 'load',\n",
    "    'cost'          : 'poly_cost',\n",
    "    'lines'         : 'line',\n",
    "}\n",
    "rename_column = {\n",
    "    'from_bus'      : 'from_bus',\n",
    "    'to_bus'        : 'to_bus',\n",
    "}\n"
   ]
  },
  {
   "cell_type": "code",
   "execution_count": 3,
   "metadata": {},
   "outputs": [
    {
     "data": {
      "text/plain": [
       "''"
      ]
     },
     "execution_count": 3,
     "metadata": {},
     "output_type": "execute_result"
    }
   ],
   "source": [
    "net.name\n"
   ]
  },
  {
   "cell_type": "code",
   "execution_count": null,
   "metadata": {},
   "outputs": [],
   "source": [
    "sheet = 'lines'\n",
    "column = 'from_bus'"
   ]
  },
  {
   "cell_type": "code",
   "execution_count": null,
   "metadata": {},
   "outputs": [],
   "source": [
    "bus_column = getattr(net, rename_sheet[sheet])[rename_column[column]]   # renamed column??\n",
    "bus_names = net.bus.loc[bus_column.tolist(), 'name']\n",
    "values = pd.concat([bus_names, bus_names], ignore_index=True)\n",
    "values"
   ]
  },
  {
   "cell_type": "code",
   "execution_count": null,
   "metadata": {},
   "outputs": [],
   "source": [
    "column = 'node_s'\n",
    "if column == ('node' or 'node_p' or 'node_s' or 'from_bus' or 'to_bus'):\n",
    "    print(\"Works!\")\n",
    "else:\n",
    "    print(\"Fails!\")"
   ]
  },
  {
   "cell_type": "code",
   "execution_count": null,
   "metadata": {},
   "outputs": [],
   "source": [
    "values"
   ]
  }
 ],
 "metadata": {
  "kernelspec": {
   "display_name": "rex_venv",
   "language": "python",
   "name": "python3"
  },
  "language_info": {
   "codemirror_mode": {
    "name": "ipython",
    "version": 3
   },
   "file_extension": ".py",
   "mimetype": "text/x-python",
   "name": "python",
   "nbconvert_exporter": "python",
   "pygments_lexer": "ipython3",
   "version": "3.10.10"
  },
  "orig_nbformat": 4
 },
 "nbformat": 4,
 "nbformat_minor": 2
}
