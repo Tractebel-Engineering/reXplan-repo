{
 "cells": [
  {
   "cell_type": "code",
   "execution_count": 1,
   "metadata": {},
   "outputs": [],
   "source": [
    "import reXplan as rx\n",
    "import pandapower as pp\n",
    "import pandapower.networks as pn\n"
   ]
  },
  {
   "cell_type": "code",
   "execution_count": 2,
   "metadata": {},
   "outputs": [
    {
     "name": "stderr",
     "output_type": "stream",
     "text": [
      "c:\\Users\\mn6461\\Documents\\GitHub\\reXplan-repo\\rex_venv\\lib\\site-packages\\pandapower\\file_io.py:96: FutureWarning: save is not part of the public API, usage can give unexpected results and will be removed in a future version\n",
      "  writer.save()\n"
     ]
    },
    {
     "name": "stdout",
     "output_type": "stream",
     "text": [
      "\n",
      "Sheet: bus; Column: type is NOT used in template sheet\n",
      "ERROR\n",
      "ERROR\n",
      "\n",
      "Sheet: poly_cost; Column: element is NOT used in template sheet\n",
      "\n",
      "Sheet: poly_cost; Column: et is NOT used in template sheet\n",
      "\n",
      "- network.xlsx created successfully! - \n"
     ]
    }
   ],
   "source": [
    "net = pn.mv_oberrhein()\n",
    "net = pn.case118()\n",
    "\n",
    "pp.to_excel(net, \"ppnetwork.xlsx\")\n",
    "\n",
    "rx.import_grid.import_grid(net)\n",
    "\n"
   ]
  }
 ],
 "metadata": {
  "kernelspec": {
   "display_name": "rex_venv",
   "language": "python",
   "name": "python3"
  },
  "language_info": {
   "codemirror_mode": {
    "name": "ipython",
    "version": 3
   },
   "file_extension": ".py",
   "mimetype": "text/x-python",
   "name": "python",
   "nbconvert_exporter": "python",
   "pygments_lexer": "ipython3",
   "version": "3.10.10"
  },
  "orig_nbformat": 4
 },
 "nbformat": 4,
 "nbformat_minor": 2
}
