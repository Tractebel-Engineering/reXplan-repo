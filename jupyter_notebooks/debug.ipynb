{
 "cells": [
  {
   "cell_type": "code",
   "execution_count": null,
   "metadata": {},
   "outputs": [],
   "source": [
    "# importing reXplan and dependencies\n",
    "import reXplan as rx\n",
    "import numpy as np\n",
    "import warnings\n",
    "from pandapower.plotting.plotly import pf_res_plotly\n",
    "warnings.simplefilter(\"ignore\") # warning are ignored for now\n",
    "\n",
    "import matplotlib.pyplot as plt\n",
    "import seaborn as sns\n",
    "simulationName = 'ieee_case14';\n",
    "network = rx.network.Network(simulationName);\n",
    "simulation = rx.simulation.Sim(simulationName);\n",
    "simulation.initialize_model_rp(network=network, ref_return_period=\"rp2\", iterationNumber=3, maxStrata=3)"
   ]
  },
  {
   "cell_type": "code",
   "execution_count": null,
   "metadata": {},
   "outputs": [
    {
     "name": "stderr",
     "output_type": "stream",
     "text": [
      "100%|██████████| 20/20 [00:09<00:00,  2.12it/s]\n"
     ]
    },
    {
     "name": "stdout",
     "output_type": "stream",
     "text": [
      "Strata = 0; Iteration = 3\n"
     ]
    },
    {
     "name": "stderr",
     "output_type": "stream",
     "text": [
      "100%|██████████| 20/20 [00:07<00:00,  2.53it/s]\n"
     ]
    },
    {
     "name": "stdout",
     "output_type": "stream",
     "text": [
      "Strata = 0; Iteration = 4\n"
     ]
    },
    {
     "name": "stderr",
     "output_type": "stream",
     "text": [
      "100%|██████████| 20/20 [00:07<00:00,  2.59it/s]\n"
     ]
    },
    {
     "name": "stdout",
     "output_type": "stream",
     "text": [
      "Strata = 0; Iteration = 5\n"
     ]
    },
    {
     "name": "stderr",
     "output_type": "stream",
     "text": [
      "100%|██████████| 20/20 [00:07<00:00,  2.53it/s]\n"
     ]
    },
    {
     "name": "stdout",
     "output_type": "stream",
     "text": [
      "Strata = 0; Iteration = 6\n"
     ]
    },
    {
     "name": "stderr",
     "output_type": "stream",
     "text": []
    }
   ],
   "source": [
    "time = rx.simulation.Time(start = 10, duration = 20)\n",
    "#iterationSet = [i for i in range(1, 80)]\n",
    "simulation.run(network, iterationSet = None, time = time, run_type = 'pm_ac_opf', delta = 1e-16, saveOutput = True)"
   ]
  },
  {
   "cell_type": "code",
   "execution_count": null,
   "metadata": {},
   "outputs": [],
   "source": [
    "import pandas as pd\n",
    "import plotly.express as px\n",
    "from utils import * # pplotting functions\n",
    "df = pd.read_csv(rx.config.path.engineDatabaseFile(simulationName), index_col = [0, 1, 2, 3, 4]) # read database with results\n",
    "df_line = group_by(df, 'sum', 'iteration', 'field', 'type').loc[:,:,'line']\n",
    "df_line_quantiles = invert(get_quantiles_on_iterations(df_line, [0.05,0.5,0.95]))\n",
    "df_line = invert(df_line)\n",
    "px.line(df_line, x=df_line.index, y = 'in_service', color = 'iteration')"
   ]
  }
 ],
 "metadata": {
  "kernelspec": {
   "display_name": "rex_venv",
   "language": "python",
   "name": "python3"
  },
  "language_info": {
   "codemirror_mode": {
    "name": "ipython",
    "version": 3
   },
   "file_extension": ".py",
   "mimetype": "text/x-python",
   "name": "python",
   "nbconvert_exporter": "python",
   "pygments_lexer": "ipython3",
   "version": "3.10.10"
  },
  "orig_nbformat": 4
 },
 "nbformat": 4,
 "nbformat_minor": 2
}
