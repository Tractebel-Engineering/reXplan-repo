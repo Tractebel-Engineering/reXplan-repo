{
 "cells": [
  {
   "cell_type": "markdown",
   "id": "answering-venice",
   "metadata": {},
   "source": [
    "# Repair priority"
   ]
  },
  {
   "cell_type": "code",
   "execution_count": 1,
   "id": "enormous-average",
   "metadata": {},
   "outputs": [],
   "source": [
    "import reXplan as rx\n",
    "import pandas as pd\n",
    "import plotly.express as px\n",
    "from pandapower.plotting.plotly import pf_res_plotly\n",
    "from utils import * # pplotting functions\n",
    "import pandapower.topology as top\n",
    "# import warnings\n",
    "# warnings.simplefilter(\"ignore\") # warnings are ignored for now"
   ]
  },
  {
   "cell_type": "code",
   "execution_count": 2,
   "id": "intellectual-meaning",
   "metadata": {},
   "outputs": [
    {
     "name": "stderr",
     "output_type": "stream",
     "text": [
      "C:\\Users\\MN6461\\OneDrive - ENGIE\\Dokumente\\GitHub\\reXplan-repo\\reXplan\\network.py:751: UserWarning: Input parameter \"delta y\" is not a valid attribute of the \"Bus\" class.\n",
      "  warnings.warn(f'Input parameter \"{key}\" is not a valid attribute of the \"{self.__class__.__name__}\" class.')\n",
      "C:\\Users\\MN6461\\OneDrive - ENGIE\\Dokumente\\GitHub\\reXplan-repo\\reXplan\\network.py:751: UserWarning: Input parameter \"delta x\" is not a valid attribute of the \"Bus\" class.\n",
      "  warnings.warn(f'Input parameter \"{key}\" is not a valid attribute of the \"{self.__class__.__name__}\" class.')\n",
      "C:\\Users\\MN6461\\OneDrive - ENGIE\\Dokumente\\GitHub\\reXplan-repo\\reXplan\\network.py:757: UserWarning: Forcing \"ignore montecarlo\" to \"True\" for line14.\n",
      "  warnings.warn(f'Forcing \"ignore montecarlo\" to \"True\" for {self.id}.')\n"
     ]
    },
    {
     "name": "stdout",
     "output_type": "stream",
     "text": [
      "\n",
      "Simulation:\tStart =   1; Stop =  41; Duration =  40 timesteps.\n",
      "Hazard:\t\tStart =  12; Stop =  17; Duration =   5 timesteps.\n",
      "\n"
     ]
    }
   ],
   "source": [
    "simulationName = 'repair_priority_v0'\n",
    "network = rx.network.Network(simulationName)\n",
    "simulation = rx.simulation.Sim(simulationName)"
   ]
  },
  {
   "cell_type": "code",
   "execution_count": 3,
   "id": "precise-costs",
   "metadata": {},
   "outputs": [
    {
     "data": {
      "text/html": [
       "<div>\n",
       "<style scoped>\n",
       "    .dataframe tbody tr th:only-of-type {\n",
       "        vertical-align: middle;\n",
       "    }\n",
       "\n",
       "    .dataframe tbody tr th {\n",
       "        vertical-align: top;\n",
       "    }\n",
       "\n",
       "    .dataframe thead th {\n",
       "        text-align: right;\n",
       "    }\n",
       "</style>\n",
       "<table border=\"1\" class=\"dataframe\">\n",
       "  <thead>\n",
       "    <tr style=\"text-align: right;\">\n",
       "      <th></th>\n",
       "      <th>id</th>\n",
       "      <th>in_service</th>\n",
       "      <th>i_montecarlo</th>\n",
       "      <th>priority</th>\n",
       "    </tr>\n",
       "  </thead>\n",
       "  <tbody>\n",
       "    <tr>\n",
       "      <th>12</th>\n",
       "      <td>line14</td>\n",
       "      <td>False</td>\n",
       "      <td>True</td>\n",
       "      <td>0.0</td>\n",
       "    </tr>\n",
       "    <tr>\n",
       "      <th>13</th>\n",
       "      <td>line15</td>\n",
       "      <td>True</td>\n",
       "      <td>True</td>\n",
       "      <td>1.0</td>\n",
       "    </tr>\n",
       "    <tr>\n",
       "      <th>11</th>\n",
       "      <td>line13</td>\n",
       "      <td>True</td>\n",
       "      <td>None</td>\n",
       "      <td>2.0</td>\n",
       "    </tr>\n",
       "    <tr>\n",
       "      <th>10</th>\n",
       "      <td>line12</td>\n",
       "      <td>True</td>\n",
       "      <td>None</td>\n",
       "      <td>3.0</td>\n",
       "    </tr>\n",
       "    <tr>\n",
       "      <th>5</th>\n",
       "      <td>g16</td>\n",
       "      <td>None</td>\n",
       "      <td>None</td>\n",
       "      <td>4.0</td>\n",
       "    </tr>\n",
       "    <tr>\n",
       "      <th>3</th>\n",
       "      <td>load6</td>\n",
       "      <td>None</td>\n",
       "      <td>None</td>\n",
       "      <td>10.0</td>\n",
       "    </tr>\n",
       "  </tbody>\n",
       "</table>\n",
       "</div>"
      ],
      "text/plain": [
       "        id in_service i_montecarlo  priority\n",
       "12  line14      False         True       0.0\n",
       "13  line15       True         True       1.0\n",
       "11  line13       True         None       2.0\n",
       "10  line12       True         None       3.0\n",
       "5      g16       None         None       4.0\n",
       "3    load6       None         None      10.0"
      ]
     },
     "execution_count": 3,
     "metadata": {},
     "output_type": "execute_result"
    }
   ],
   "source": [
    "concat = []\n",
    "for y in [network.lines, network.loads, network.generators]:\n",
    "    aux = [pd.DataFrame.from_dict(x.__dict__ for x in y.values())]\n",
    "    aux = pd.concat(aux,axis = 1)[['id','in_service','i_montecarlo', 'priority']]\n",
    "    concat.append(aux)\n",
    "concat = pd.concat(concat)\n",
    "filter_ = concat['priority'] >= 0\n",
    "concat[filter_].sort_values(by = 'priority')"
   ]
  },
  {
   "cell_type": "code",
   "execution_count": 4,
   "id": "cosmetic-training",
   "metadata": {},
   "outputs": [
    {
     "data": {
      "text/html": [
       "<div>\n",
       "<style scoped>\n",
       "    .dataframe tbody tr th:only-of-type {\n",
       "        vertical-align: middle;\n",
       "    }\n",
       "\n",
       "    .dataframe tbody tr th {\n",
       "        vertical-align: top;\n",
       "    }\n",
       "\n",
       "    .dataframe thead th {\n",
       "        text-align: right;\n",
       "    }\n",
       "</style>\n",
       "<table border=\"1\" class=\"dataframe\">\n",
       "  <thead>\n",
       "    <tr style=\"text-align: right;\">\n",
       "      <th></th>\n",
       "    </tr>\n",
       "  </thead>\n",
       "  <tbody>\n",
       "  </tbody>\n",
       "</table>\n",
       "</div>"
      ],
      "text/plain": [
       "Empty DataFrame\n",
       "Columns: []\n",
       "Index: []"
      ]
     },
     "execution_count": 4,
     "metadata": {},
     "output_type": "execute_result"
    }
   ],
   "source": [
    "simulation.initialize_model_sh(network,1)\n",
    "schedule = network.outagesSchedule.join(network.crewSchedule)\n",
    "filter_ = schedule!=1\n",
    "i = schedule[filter_].dropna(how ='all').index\n",
    "c = schedule[filter_].dropna(axis = 1, how ='all').columns\n",
    "schedule.loc[i,c]"
   ]
  }
 ],
 "metadata": {
  "kernelspec": {
   "display_name": "venv",
   "language": "python",
   "name": "python3"
  },
  "language_info": {
   "codemirror_mode": {
    "name": "ipython",
    "version": 3
   },
   "file_extension": ".py",
   "mimetype": "text/x-python",
   "name": "python",
   "nbconvert_exporter": "python",
   "pygments_lexer": "ipython3",
   "version": "3.10.10"
  }
 },
 "nbformat": 4,
 "nbformat_minor": 5
}
