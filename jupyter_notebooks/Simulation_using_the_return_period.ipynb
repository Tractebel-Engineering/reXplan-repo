{
 "cells": [
  {
   "cell_type": "code",
   "execution_count": null,
   "id": "harmful-reviewer",
   "metadata": {},
   "outputs": [],
   "source": [
    "import resiliencyTool as rt\n",
    "import pandas as pd\n",
    "import numpy as np\n",
    "import warnings\n",
    "import math\n",
    "import matplotlib.pyplot as plt\n",
    "\n",
    "import seaborn as sns\n",
    "\n",
    "warnings.simplefilter(\"ignore\") # warning are ignored for now"
   ]
  },
  {
   "cell_type": "code",
   "execution_count": null,
   "id": "chemical-declaration",
   "metadata": {},
   "outputs": [],
   "source": [
    "simulationName = 'strata_example'\n",
    "network = rt.network.Network(simulationName)\n",
    "simulation = rt.simulation.Sim(simulationName)\n",
    "\n",
    "simulation.initialize_model_rp(network=network,\n",
    "                               filename=\"return_period.csv\",\n",
    "                               iterationNumber=1,\n",
    "                               maxTotalIteration=50,\n",
    "                               cv=0.05)"
   ]
  },
  {
   "cell_type": "code",
   "execution_count": null,
   "id": "portuguese-stupid",
   "metadata": {},
   "outputs": [],
   "source": [
    "sns.set(rc={'figure.figsize':(11.7,8.27)})\n",
    "sns.lineplot(data=network.return_period.df_return_period, x='return_period', y='intensity')"
   ]
  },
  {
   "cell_type": "code",
   "execution_count": null,
   "id": "stunning-dayton",
   "metadata": {},
   "outputs": [],
   "source": [
    "simulation.stratResults"
   ]
  },
  {
   "cell_type": "code",
   "execution_count": null,
   "id": "interpreted-stress",
   "metadata": {},
   "outputs": [],
   "source": [
    "plt.hist(simulation.samples, density=True, bins=20)\n",
    "for b in np.append(simulation.stratResults[\"Upper_X1\"].values, simulation.stratResults[\"Lower_X1\"].values[0]):\n",
    "    plt.axvline(x = b, color = 'r')"
   ]
  },
  {
   "cell_type": "code",
   "execution_count": null,
   "id": "satisfied-covering",
   "metadata": {},
   "outputs": [],
   "source": [
    "df = simulation.failureProbs[simulation.failureProbs['element type']=='Line']\n",
    "sns.lineplot(data=df, x='event intensity', y='failure probability', hue='power element')\n",
    "plt.legend(bbox_to_anchor=(1.02, 1), loc='upper left', borderaxespad=0)"
   ]
  },
  {
   "cell_type": "code",
   "execution_count": null,
   "id": "charming-namibia",
   "metadata": {},
   "outputs": [],
   "source": []
  },
  {
   "cell_type": "code",
   "execution_count": null,
   "id": "sharing-dragon",
   "metadata": {},
   "outputs": [],
   "source": []
  }
 ],
 "metadata": {
  "kernelspec": {
   "display_name": "Python 3",
   "language": "python",
   "name": "python3"
  },
  "language_info": {
   "codemirror_mode": {
    "name": "ipython",
    "version": 3
   },
   "file_extension": ".py",
   "mimetype": "text/x-python",
   "name": "python",
   "nbconvert_exporter": "python",
   "pygments_lexer": "ipython3",
   "version": "3.8.6rc1"
  }
 },
 "nbformat": 4,
 "nbformat_minor": 5
}
