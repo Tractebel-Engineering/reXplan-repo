{
 "cells": [
  {
   "cell_type": "markdown",
   "id": "590c5466",
   "metadata": {},
   "source": [
    "# A basic example - Washington 14-bus grid system"
   ]
  },
  {
   "cell_type": "markdown",
   "id": "ba5b3bad",
   "metadata": {},
   "source": [
    "In the following introductory example, the IEEE 14-bus system busses will be used to display the features and capabilities of reXplan. To fully model and calculate the resiliency of specified power grids, three datasets are needed:"
   ]
  },
  {
   "cell_type": "markdown",
   "id": "79c5c39a",
   "metadata": {},
   "source": [
    "- [Power grid data](../modeling/in_grid_modeling.md)\n",
    "- [Fragility curves](../modeling/in_fragility_curve.md)\n",
    "- [Hazard definition](../modeling/in_hazard_modeling.md)"
   ]
  },
  {
   "cell_type": "markdown",
   "id": "e1b9a7b6",
   "metadata": {},
   "source": [
    "To see a more detailed introduction for the input data, see **(I/0) - Input tab** under the 🌐**MODELING** sidebar. For this example grid, the datasets are already provided and for the hazard modeling the methodology of return periods is used."
   ]
  },
  {
   "cell_type": "markdown",
   "id": "b2252378",
   "metadata": {
    "tags": []
   },
   "source": [
    "## Step 1: Library and Data Import\n",
    "\n",
    "As reXplan utilizes Jupyter Notebook, code sequences can be subdivided into multiple windows.\n",
    "Common practise is to keep the imports and the initialization seperated, which allows the user to make adjustments to python libraries without re-running the full code."
   ]
  },
  {
   "cell_type": "code",
   "execution_count": null,
   "id": "efc13202",
   "metadata": {},
   "outputs": [],
   "source": [
    "# importing reXplan and dependencies\n",
    "import reXplan as rx\n",
    "import numpy as np\n",
    "import warnings\n",
    "from pandapower.plotting.plotly import pf_res_plotly\n",
    "warnings.simplefilter(\"ignore\") # warning are ignored for now\n",
    "\n",
    "import matplotlib.pyplot as plt\n",
    "import seaborn as sns"
   ]
  },
  {
   "cell_type": "code",
   "execution_count": null,
   "id": "81a35894",
   "metadata": {},
   "outputs": [],
   "source": [
    "simulationName = 'ieee_case14';\n",
    "network = rx.network.Network(simulationName);\n",
    "simulation = rx.simulation.Sim(simulationName);"
   ]
  },
  {
   "cell_type": "code",
   "execution_count": null,
   "id": "ea77e46b",
   "metadata": {
    "nbsphinx": "hidden"
   },
   "outputs": [],
   "source": [
    "# TODO EXECUTE THIS, HIDDEN IN DOCS\n",
    "simulationName = 'ieee_case14';\n",
    "network = rx.network.Network(simulationName);\n",
    "simulation = rx.simulation.Sim(simulationName);"
   ]
  },
  {
   "cell_type": "markdown",
   "id": "55ab2840",
   "metadata": {},
   "source": [
    "The classes of network and simulations are shortened to the class [network](../functions/userfunctions.md#network) & [simulation](../functions/userfunctions.md#simulation) for better readability."
   ]
  },
  {
   "cell_type": "markdown",
   "id": "0c2fb34c",
   "metadata": {},
   "source": [
    "### Assess datasets pre-simulation\n",
    "\n",
    "Since the network is now created, different datasets can be printed. As previously described, the user can now assess the power grid data, fragility curves and hazard and thus verify the input data."
   ]
  },
  {
   "cell_type": "markdown",
   "id": "abe2fcb0",
   "metadata": {},
   "source": [
    "#### [Power Grid (pre run)](../modeling/in_grid_modeling.md)"
   ]
  },
  {
   "cell_type": "markdown",
   "id": "978633f7",
   "metadata": {},
   "source": [
    "With the use of the [plotly function of pandapower](https://pandapower.readthedocs.io/en/v2.13.1/plotting/plotly/built-in_plots.html#power-flow-results), the network can be printed."
   ]
  },
  {
   "cell_type": "code",
   "execution_count": null,
   "id": "8a86d4e9",
   "metadata": {},
   "outputs": [],
   "source": [
    "pf_res_plotly(network.pp_network);"
   ]
  },
  {
   "cell_type": "markdown",
   "id": "4d7907cc",
   "metadata": {},
   "source": [
    "The spatial information is displayed as provided in the power grid dataset. Power flow is calculated if load profiles are provided and results can be analyzed by hovering over the relating element with the cursor."
   ]
  },
  {
   "cell_type": "markdown",
   "id": "fabfedd0",
   "metadata": {},
   "source": [
    "#### [Fragility Curve](../modeling/in_fragility_curve.md)"
   ]
  },
  {
   "cell_type": "code",
   "execution_count": null,
   "id": "1c33af8c",
   "metadata": {},
   "outputs": [],
   "source": [
    "sns.set_theme(rc={'figure.figsize':(6,5)})\n",
    "xnew = np.linspace(0, 85, num=100, endpoint=True)\n",
    "fig, ax = rx.fragilitycurve.plotFragilityCurves(network.fragilityCurves, xnew)"
   ]
  },
  {
   "cell_type": "markdown",
   "id": "bb2020f8",
   "metadata": {},
   "source": [
    "As displayed above, the provided datasets include two different fragility curves for different types of towers. On the horizontal axis, the intensity is displayed as a numerical value in an interval from 0 to 85 with the use of [linspace](https://numpy.org/doc/stable/reference/generated/numpy.linspace.html). The intensity translates to windspeed in m/s. On the vertical axis, the probability of failure is shown as a decimal fraction, which translates to the probability of failure in percentage (0.5 = 50%). \n",
    "\n",
    "<div class=\"alert alert-info\">\n",
    "\n",
    "Note\n",
    "\n",
    "The fragility curve has to refer to the same intensity type as the hazard model.\n",
    "</div>\n",
    "\n",
    "For this example, the intensity type is windspeed measured in m/s."
   ]
  },
  {
   "cell_type": "markdown",
   "id": "2e7f9b60",
   "metadata": {},
   "source": [
    "There is also a possibility to print a fragility curve individually. More information provided under [Fragility Curve](../modeling/in_fragility_curve.md). "
   ]
  },
  {
   "cell_type": "markdown",
   "id": "db2e9b34",
   "metadata": {},
   "source": [
    "#### [Printing hazards as a return period](../modeling/in_hazard_modeling.md)\n",
    "\n",
    "The [hazard modeling](../modeling/in_hazard_modeling.md) in this example case uses a [return period](../modeling/in_hazard_modeling.md#method-4-simulate-multiple-events-according-a-given-return-period)."
   ]
  },
  {
   "cell_type": "code",
   "execution_count": null,
   "id": "3669a5d0",
   "metadata": {},
   "outputs": [],
   "source": [
    "# printing return periods\n",
    "sns.set_theme(rc={'figure.figsize':(10,8)})\n",
    "for rp in network.returnPeriods.keys():\n",
    "    sns.lineplot(x=network.returnPeriods[rp].x_data, y=network.returnPeriods[rp].y_data, label=rp)\n",
    "plt.xlabel('Years')\n",
    "plt.ylabel('Intensity')\n",
    "plt.show()"
   ]
  },
  {
   "cell_type": "markdown",
   "id": "88aea452",
   "metadata": {},
   "source": [
    "As displayed above, the provided datasets include six different return periods (rp1 - rp6). The highest value for given return periods is considered the `reference return period`. On the vertical axis, the intensity is displayed as a numerical value in an interval from 0 to 3.2 in m/s. On the horizontal axis, the return period is shown as a numerical value in years, which can be used to calculate the annual exceedance probability. \n",
    "\n",
    "\n",
    "For instance a 200 Years return period has an annual probability of 1/200 = 0.005% [#TODO Terminology](https://hydro-informatics.com/exercises/ex-floods.html?highlight=return#terminology)\n",
    "\n",
    "#TODO Mathematical Equation here? TEST RETURN PERIODS FOR INTENSITY\n",
    "\n",
    "<div class=\"alert alert-info\">\n",
    "\n",
    "Note\n",
    "\n",
    "The hazard model has to refer to the same intensity type as the fragility curve.\n",
    "\n",
    "</div>"
   ]
  },
  {
   "cell_type": "markdown",
   "id": "9e4a1ab2",
   "metadata": {},
   "source": [
    "## Step 2: Running the Simulation"
   ]
  },
  {
   "cell_type": "markdown",
   "id": "2a3719b0",
   "metadata": {},
   "source": [
    "The following command executes the [simulation](../functions/userfunctions.md#simulation) of the return period \"rp6\" on the previously described fragility curves. This creates an outage schedule for grid elements. Data is stored in `montecarlo_database.csv`."
   ]
  },
  {
   "cell_type": "code",
   "execution_count": null,
   "id": "352333fc",
   "metadata": {},
   "outputs": [],
   "source": [
    "simulation.initialize_model_rp(network=network, ref_return_period=\"rp2\", iterationNumber=10, maxStrata=3)"
   ]
  },
  {
   "cell_type": "code",
   "execution_count": null,
   "id": "35ed5cd9",
   "metadata": {
    "nbsphinx": "hidden"
   },
   "outputs": [],
   "source": [
    "# EXECUTE THIS, HIDDEN IN DOCS\n",
    "simulation.initialize_model_rp(network=network, ref_return_period=\"rp2\", iterationNumber=10, maxStrata=3)"
   ]
  },
  {
   "cell_type": "code",
   "execution_count": null,
   "id": "e881361e",
   "metadata": {},
   "outputs": [],
   "source": [
    "plt.hist(simulation.samples, density=True, bins=20)\n",
    "for b in np.append(simulation.stratResults[\"Upper_X1\"].values, simulation.stratResults[\"Lower_X1\"].values[0]):\n",
    "    plt.axvline(x = b, color = 'r')"
   ]
  },
  {
   "cell_type": "markdown",
   "id": "c48466de",
   "metadata": {},
   "source": [
    "## Step 3: Running the Optimum Power Flow\n",
    "\n",
    "Running multiple iterations, to achieve EENS, ELOL\n",
    "[#TODO Write Paragraph, Calculation of interations (based on init?)]\n",
    "Creating the engine_database.csv <br>\n"
   ]
  },
  {
   "cell_type": "code",
   "execution_count": null,
   "id": "07723065",
   "metadata": {},
   "outputs": [],
   "source": [
    "simulation.run(network, iterationSet = None, time = None, run_type = 'pm_ac_opf', delta = 1e-16, saveOutput = True)"
   ]
  },
  {
   "cell_type": "code",
   "execution_count": null,
   "id": "ad6058b0",
   "metadata": {
    "nbsphinx": "hidden"
   },
   "outputs": [],
   "source": [
    "# EXECUTE THIS, HIDDEN IN DOCS\n",
    "simulation.run(network, iterationSet = None, time = None, run_type = 'pm_ac_opf', delta = 1e-16, saveOutput = True)\n",
    "# How are the Steps calculated? 4 stratas in initialize, but why 40 steps? (10 Steps each?)\n",
    "\n",
    "# PUT database in debug!"
   ]
  },
  {
   "cell_type": "markdown",
   "id": "55ae17a0",
   "metadata": {},
   "source": [
    "The network gets updated, printing latest iteration:"
   ]
  },
  {
   "cell_type": "markdown",
   "id": "66d2d7b1",
   "metadata": {},
   "source": [
    "### [Power Grid (post run)](../modeling/in_grid_modeling.md)"
   ]
  },
  {
   "cell_type": "code",
   "execution_count": null,
   "id": "165e464c",
   "metadata": {},
   "outputs": [],
   "source": [
    "pf_res_plotly(network.pp_network);\n",
    "# How can we select a specific iteration?"
   ]
  },
  {
   "cell_type": "code",
   "execution_count": null,
   "id": "e2d4e7a1",
   "metadata": {},
   "outputs": [],
   "source": [
    "sns.set(rc={'figure.figsize':(11.7,8.27)})\n",
    "\n",
    "df = simulation.failureProbs[simulation.failureProbs['element type']=='Line']\n",
    "sns.lineplot(data=df, x='event intensity', y='failure probability', hue='power element')\n",
    "plt.legend(bbox_to_anchor=(1.02, 1), loc='upper left', borderaxespad=0)"
   ]
  },
  {
   "cell_type": "code",
   "execution_count": null,
   "id": "8ea00328",
   "metadata": {},
   "outputs": [],
   "source": [
    "import pandas as pd\n",
    "from utils import * # pplotting functions\n",
    "df = pd.read_csv(rx.config.path.engineDatabaseFile(simulationName), index_col = [0, 1, 2, 3, 4])\n",
    "# -> read database with results, BUT WHAT IS INDEX_COL FOR?\n",
    "\n",
    "df = filter_non_converged_iterations(df) # filterining non-converged iterations"
   ]
  },
  {
   "cell_type": "markdown",
   "id": "2b953e0c",
   "metadata": {},
   "source": [
    "#### Line Data"
   ]
  },
  {
   "cell_type": "code",
   "execution_count": null,
   "id": "28148261",
   "metadata": {},
   "outputs": [],
   "source": [
    "from utils import group_by, invert, get_quantiles_on_iterations\n",
    "df_line = group_by(df.loc[3], 'sum', 'iteration', 'field', 'type').loc[:,:,'line']\n",
    "df_line_quantiles = invert(get_quantiles_on_iterations(df_line, [0.05,0.5,0.95]))\n",
    "df_line = invert(df_line)"
   ]
  },
  {
   "cell_type": "code",
   "execution_count": null,
   "id": "f03167cf",
   "metadata": {},
   "outputs": [],
   "source": [
    "df_montecarlo = pd.read_csv(rx.config.path.engineDatabaseFile(simulationName), index_col = [0, 1, 2, 3, 4])"
   ]
  },
  {
   "cell_type": "code",
   "execution_count": null,
   "id": "058aa9cf",
   "metadata": {},
   "outputs": [],
   "source": [
    "import plotly.express as px\n",
    "px.line(df_line, x=df_line.index, y = 'in_service', color = 'iteration')\n",
    "# Number of lines in Service!"
   ]
  },
  {
   "cell_type": "code",
   "execution_count": null,
   "id": "e677d721",
   "metadata": {},
   "outputs": [],
   "source": [
    "px.line(df_line_quantiles, x=df_line_quantiles.index, y = 'in_service', color = 'quantile')\n",
    "# Quantiles of lines in service"
   ]
  },
  {
   "cell_type": "code",
   "execution_count": null,
   "id": "1a4da774",
   "metadata": {},
   "outputs": [],
   "source": [
    "df_load = group_by(filter(df, type = 'load'), 'sum', 'iteration', 'field', 'type')\n",
    "df_load_quantiles = invert(get_quantiles_on_iterations(df_load, [0.05, 0.25, 0.5, 0.75, 0.95]))\n",
    "# df_load = invert(df_load) \n",
    "# df_load['loss_of_load_p_percentage'] = (df_load['loss_of_load_p_mw'])/df_load['max_p_mw'] *100\n",
    "df_load_quantiles['loss_of_load_p_percentage'] = (df_load_quantiles['loss_of_load_p_mw'])/df_load_quantiles['max_p_mw'] *100"
   ]
  },
  {
   "cell_type": "code",
   "execution_count": null,
   "id": "6f9be98f",
   "metadata": {},
   "outputs": [],
   "source": [
    "px.line(df_load_quantiles, x=df_load_quantiles.index, y = 'loss_of_load_p_percentage', color = 'quantile')"
   ]
  },
  {
   "cell_type": "markdown",
   "id": "6119a40e",
   "metadata": {},
   "source": [
    "### MC METRICS?"
   ]
  },
  {
   "cell_type": "code",
   "execution_count": null,
   "id": "01cf9704",
   "metadata": {},
   "outputs": [],
   "source": [
    "df_network_condensed = filter(df, type = 'network').sum(axis = 1) # sum over timesteps"
   ]
  },
  {
   "cell_type": "code",
   "execution_count": null,
   "id": "d89d6636",
   "metadata": {},
   "outputs": [],
   "source": [
    "df_network_condensed_ = invert(df_network_condensed)\n",
    "px.histogram(df_network_condensed_, x='energy_not_served_mwh', histnorm='probability')"
   ]
  },
  {
   "cell_type": "code",
   "execution_count": null,
   "id": "01e11a7b",
   "metadata": {},
   "outputs": [],
   "source": [
    "statistics= df_network_condensed.groupby('field').mean() # average over iterations\n",
    "EENS = statistics['energy_not_served_mwh']\n",
    "LOLE = statistics['loss_of_load_p_duration_h']\n",
    "print(f'EENS : {EENS.round(2)} MWh, LOLE : {LOLE.round(2)} h')"
   ]
  },
  {
   "cell_type": "code",
   "execution_count": null,
   "id": "6515b401",
   "metadata": {},
   "outputs": [],
   "source": [
    "crt_loss_of_load = 30 \n",
    "df_loss_of_load = df.loc[:,:,\"loss_of_load_p_percentage\",\"network\"]\n",
    "Survivability = pd.DataFrame(1 - (df_loss_of_load > crt_loss_of_load).sum() / df_loss_of_load.index.levels[0].size, columns = ['base case'])"
   ]
  },
  {
   "cell_type": "code",
   "execution_count": null,
   "id": "7e90ccff",
   "metadata": {},
   "outputs": [],
   "source": [
    "df_aux = pd.read_csv(rx.config.path.engineDatabaseFile('basic_example_v1'), index_col = [0, 1, 2, 3])\n",
    "df_loss_of_load_aux = df_aux.loc[:,\"loss_of_load_p_percentage\",\"network\"]\n",
    "Survivability['line 10 reinforced'] = 1 - (df_loss_of_load_aux > crt_loss_of_load).sum() / df_loss_of_load_aux.index.levels[0].size\n",
    "df_aux = pd.read_csv(rx.config.path.engineDatabaseFile('basic_example_v2'), index_col = [0, 1, 2, 3])\n",
    "df_loss_of_load_aux = df_aux.loc[:,\"loss_of_load_p_percentage\",\"network\"]\n",
    "Survivability['line 2 reparing time improved'] = 1 - (df_loss_of_load_aux > crt_loss_of_load).sum() / df_loss_of_load_aux.index.levels[0].size"
   ]
  },
  {
   "cell_type": "code",
   "execution_count": null,
   "id": "2c9fd7c4",
   "metadata": {},
   "outputs": [],
   "source": [
    "px.line(Survivability).update_layout(xaxis_title=\"time\", yaxis_title=\"Survivability\")"
   ]
  },
  {
   "cell_type": "code",
   "execution_count": null,
   "id": "5e6cf870",
   "metadata": {},
   "outputs": [],
   "source": [
    "px.line(df_load_quantiles, x=df_load_quantiles.index, y = 'loss_of_load_p_percentage', color = 'quantile')"
   ]
  },
  {
   "cell_type": "code",
   "execution_count": null,
   "id": "02401f0c",
   "metadata": {},
   "outputs": [],
   "source": [
    "import plotly.graph_objects as go\n",
    "df_line = group_by(filter(df, type = 'line'), 'mean','strata', 'iteration', 'field','id') # mean in this case does not have any effect as the groupying levels are the initial ones\n",
    "df_line = invert(df_line)\n",
    "# df_line = df_line.loc[df_line.index > '2022-01-01 12:00:00']\n",
    "\n",
    "fig = go.Figure() # --> put in a function (?)\n",
    "\n",
    "ids = df_line['id'].drop_duplicates().to_list()\n",
    "\n",
    "for id in ids:\n",
    "    fig.add_trace(go.Violin(x=df_line['id'][df_line['id'] == id],\n",
    "                            y=df_line['loading_percent'][df_line['id'] == id],\n",
    "                            name=id,\n",
    "                            box_visible=False,\n",
    "                            meanline_visible=True,\n",
    "                            side='positive',\n",
    "                            orientation = 'v'\n",
    "                           )\n",
    "                 )\n",
    "fig.update_layout(width=1000, height=500)\n",
    "fig.show()\n"
   ]
  }
 ],
 "metadata": {
  "kernelspec": {
   "display_name": "Python 3 (ipykernel)",
   "language": "python",
   "name": "python3"
  },
  "language_info": {
   "codemirror_mode": {
    "name": "ipython",
    "version": 3
   },
   "file_extension": ".py",
   "mimetype": "text/x-python",
   "name": "python",
   "nbconvert_exporter": "python",
   "pygments_lexer": "ipython3",
   "version": "3.10.10"
  }
 },
 "nbformat": 4,
 "nbformat_minor": 5
}
