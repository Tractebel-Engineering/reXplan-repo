{
 "cells": [
  {
   "cell_type": "code",
   "execution_count": 7,
   "id": "helpful-reflection",
   "metadata": {},
   "outputs": [],
   "source": [
    "import resiliencyTool as rt\n",
    "import pandas as pd\n",
    "# import seaborn as sns\n",
    "import plotly.express as px\n",
    "import plotly.graph_objects as go\n",
    "from plotly.subplots import make_subplots\n",
    "from datetime import date as dt_date\n",
    "\n",
    "from pandapower.plotting.plotly import simple_plotly, vlevel_plotly, pf_res_plotly\n",
    "from utils import * # pplotting functions\n",
    "import warnings\n",
    "warnings.simplefilter(\"ignore\") # warning are ignored for now"
   ]
  },
  {
   "cell_type": "code",
   "execution_count": 8,
   "id": "moral-hurricane",
   "metadata": {},
   "outputs": [
    {
     "name": "stdout",
     "output_type": "stream",
     "text": [
      "start= 1, stop= 41\n",
      "start= 12, stop= 17\n"
     ]
    }
   ],
   "source": [
    "simulationName = 'basic_example';\n",
    "network = rt.network.Network(simulationName);\n",
    "simulation = rt.simulation.Sim(simulationName);"
   ]
  },
  {
   "cell_type": "code",
   "execution_count": 9,
   "id": "instructional-patent",
   "metadata": {},
   "outputs": [],
   "source": [
    "network.event.hazardFromTrajectory(simulationName, 'trajectory.csv', \n",
    "                                   max_intensity=60., max_radius=50., \n",
    "                                   sdate = dt_date(2022,4,1), edate = dt_date(2022,4,3), \n",
    "                                   geodata1 = rt.network.GeoData(47.4,5.8), geodata2 = rt.network.GeoData(54.9,15.0),\n",
    "                                   delta_km=10, frequency='1H')"
   ]
  },
  {
   "cell_type": "code",
   "execution_count": 10,
   "id": "ecological-medicaid",
   "metadata": {},
   "outputs": [],
   "source": [
    "network.update_failure_probability()"
   ]
  },
  {
   "cell_type": "code",
   "execution_count": 11,
   "id": "afraid-electric",
   "metadata": {},
   "outputs": [
    {
     "data": {
      "text/plain": [
       "0.14578748192981655"
      ]
     },
     "execution_count": 11,
     "metadata": {},
     "output_type": "execute_result"
    }
   ],
   "source": [
    "network.lines['line1'].failureProb"
   ]
  },
  {
   "cell_type": "code",
   "execution_count": 12,
   "id": "internal-czech",
   "metadata": {},
   "outputs": [
    {
     "name": "stdout",
     "output_type": "stream",
     "text": [
      "Iteration = 0\n",
      "Iteration = 1\n",
      "Iteration = 2\n",
      "Iteration = 3\n",
      "Iteration = 4\n",
      "Iteration = 5\n",
      "Iteration = 6\n",
      "Iteration = 7\n",
      "Iteration = 8\n",
      "Iteration = 9\n",
      "Iteration = 10\n",
      "Iteration = 11\n",
      "Iteration = 12\n",
      "Iteration = 13\n",
      "Iteration = 14\n",
      "Iteration = 15\n",
      "Iteration = 16\n",
      "Iteration = 17\n",
      "Iteration = 18\n",
      "Iteration = 19\n",
      "Iteration = 20\n",
      "Iteration = 21\n",
      "Iteration = 22\n",
      "Iteration = 23\n",
      "Iteration = 24\n",
      "Iteration = 25\n",
      "Iteration = 26\n",
      "Iteration = 27\n",
      "Iteration = 28\n",
      "Iteration = 29\n",
      "Iteration = 30\n",
      "Iteration = 31\n",
      "Iteration = 32\n",
      "Iteration = 33\n",
      "Iteration = 34\n",
      "Iteration = 35\n",
      "Iteration = 36\n",
      "Iteration = 37\n",
      "Iteration = 38\n",
      "Iteration = 39\n",
      "Iteration = 40\n",
      "Iteration = 41\n",
      "Iteration = 42\n",
      "Iteration = 43\n",
      "Iteration = 44\n",
      "Iteration = 45\n",
      "Iteration = 46\n",
      "Iteration = 47\n",
      "Iteration = 48\n",
      "Iteration = 49\n",
      "Iteration = 50\n",
      "Iteration = 51\n",
      "Iteration = 52\n",
      "Iteration = 53\n",
      "Iteration = 54\n",
      "Iteration = 55\n",
      "Iteration = 56\n",
      "Iteration = 57\n",
      "Iteration = 58\n",
      "Iteration = 59\n",
      "Iteration = 60\n",
      "Iteration = 61\n",
      "Iteration = 62\n",
      "Iteration = 63\n",
      "Iteration = 64\n",
      "Iteration = 65\n",
      "Iteration = 66\n",
      "Iteration = 67\n",
      "Iteration = 68\n",
      "Iteration = 69\n",
      "Iteration = 70\n",
      "Iteration = 71\n",
      "Iteration = 72\n",
      "Iteration = 73\n",
      "Iteration = 74\n",
      "Iteration = 75\n",
      "Iteration = 76\n",
      "Iteration = 77\n",
      "Iteration = 78\n",
      "Iteration = 79\n",
      "Iteration = 80\n",
      "Iteration = 81\n",
      "Iteration = 82\n",
      "Iteration = 83\n",
      "Iteration = 84\n",
      "Iteration = 85\n",
      "Iteration = 86\n",
      "Iteration = 87\n",
      "Iteration = 88\n",
      "Iteration = 89\n",
      "Iteration = 90\n",
      "Iteration = 91\n",
      "Iteration = 92\n",
      "Iteration = 93\n",
      "Iteration = 94\n",
      "Iteration = 95\n",
      "Iteration = 96\n",
      "Iteration = 97\n",
      "Iteration = 98\n",
      "Iteration = 99\n"
     ]
    }
   ],
   "source": [
    "simulation.pre_run(network, iterationNumber=100)"
   ]
  },
  {
   "cell_type": "code",
   "execution_count": 13,
   "id": "straight-finnish",
   "metadata": {},
   "outputs": [
    {
     "name": "stderr",
     "output_type": "stream",
     "text": [
      "\n",
      "  0%|                                                                                           | 0/40 [00:00<?, ?it/s]\u001b[A"
     ]
    },
    {
     "name": "stdout",
     "output_type": "stream",
     "text": [
      "Iteration = 1\n",
      "in_service\n",
      "in_service\n",
      "in_service\n",
      "in_service\n",
      "max_p_mw\n"
     ]
    },
    {
     "ename": "TypingError",
     "evalue": "Failed in nopython mode pipeline (step: nopython frontend)\n\u001b[1m\u001b[1mnon-precise type array(pyobject, 1d, C)\u001b[0m\n\u001b[0m\u001b[1mDuring: typing of argument at c:\\python\\python38\\lib\\site-packages\\pandapower\\auxiliary.py (490)\u001b[0m\n\u001b[1m\nFile \"c:\\python\\python38\\lib\\site-packages\\pandapower\\auxiliary.py\", line 490:\u001b[0m\n\u001b[1mdef _python_set_elements_oos(ti, tis, bis, lis):  # pragma: no cover\n\u001b[1m    for i in range(len(ti)):\n\u001b[0m    \u001b[1m^\u001b[0m\u001b[0m\n",
     "output_type": "error",
     "traceback": [
      "\u001b[1;31m---------------------------------------------------------------------------\u001b[0m",
      "\u001b[1;31mTypingError\u001b[0m                               Traceback (most recent call last)",
      "\u001b[1;32m<ipython-input-13-8bb07eb113ca>\u001b[0m in \u001b[0;36m<module>\u001b[1;34m\u001b[0m\n\u001b[1;32m----> 1\u001b[1;33m \u001b[0msimulation\u001b[0m\u001b[1;33m.\u001b[0m\u001b[0mrun\u001b[0m\u001b[1;33m(\u001b[0m\u001b[0mnetwork\u001b[0m\u001b[1;33m,\u001b[0m \u001b[0miterationSet\u001b[0m \u001b[1;33m=\u001b[0m \u001b[1;33m[\u001b[0m\u001b[1;36m1\u001b[0m\u001b[1;33m]\u001b[0m\u001b[1;33m,\u001b[0m \u001b[0mrun_type\u001b[0m \u001b[1;33m=\u001b[0m \u001b[1;34m'ac_opf'\u001b[0m\u001b[1;33m,\u001b[0m \u001b[0mdelta\u001b[0m \u001b[1;33m=\u001b[0m \u001b[1;36m1e-16\u001b[0m\u001b[1;33m,\u001b[0m \u001b[0msaveOutput\u001b[0m \u001b[1;33m=\u001b[0m \u001b[1;32mFalse\u001b[0m\u001b[1;33m)\u001b[0m\u001b[1;33m\u001b[0m\u001b[1;33m\u001b[0m\u001b[0m\n\u001b[0m",
      "\u001b[1;32md:\\documents\\github\\resiliencytool\\resiliencyTool\\simulation.py\u001b[0m in \u001b[0;36mrun\u001b[1;34m(self, network, iterationSet, saveOutput, time, **kwargs)\u001b[0m\n\u001b[0;32m    214\u001b[0m                         \u001b[0mprint\u001b[0m\u001b[1;33m(\u001b[0m\u001b[1;34mf'Iteration = {i}'\u001b[0m\u001b[1;33m)\u001b[0m\u001b[1;33m\u001b[0m\u001b[1;33m\u001b[0m\u001b[0m\n\u001b[0;32m    215\u001b[0m                         \u001b[0mnetwork\u001b[0m\u001b[1;33m.\u001b[0m\u001b[0mupdateGrid\u001b[0m\u001b[1;33m(\u001b[0m\u001b[0mdf_montecarlo\u001b[0m\u001b[1;33m[\u001b[0m\u001b[0mi\u001b[0m\u001b[1;33m]\u001b[0m\u001b[1;33m)\u001b[0m\u001b[1;33m\u001b[0m\u001b[1;33m\u001b[0m\u001b[0m\n\u001b[1;32m--> 216\u001b[1;33m                         \u001b[0mdatabases\u001b[0m\u001b[1;33m.\u001b[0m\u001b[0mappend\u001b[0m\u001b[1;33m(\u001b[0m\u001b[0mnetwork\u001b[0m\u001b[1;33m.\u001b[0m\u001b[0mrun\u001b[0m\u001b[1;33m(\u001b[0m\u001b[0mtime_\u001b[0m\u001b[1;33m,\u001b[0m\u001b[1;33m**\u001b[0m\u001b[0mkwargs\u001b[0m\u001b[1;33m)\u001b[0m\u001b[1;33m)\u001b[0m\u001b[1;33m\u001b[0m\u001b[1;33m\u001b[0m\u001b[0m\n\u001b[0m\u001b[0;32m    217\u001b[0m                 \u001b[0mself\u001b[0m\u001b[1;33m.\u001b[0m\u001b[0mresults\u001b[0m \u001b[1;33m=\u001b[0m \u001b[0menrich_database\u001b[0m\u001b[1;33m(\u001b[0m\u001b[0mbuild_database\u001b[0m\u001b[1;33m(\u001b[0m\u001b[0miterations\u001b[0m\u001b[1;33m,\u001b[0m \u001b[0mdatabases\u001b[0m\u001b[1;33m,\u001b[0m \u001b[0mself\u001b[0m\u001b[1;33m.\u001b[0m\u001b[0mexternalTimeInterval\u001b[0m\u001b[1;33m)\u001b[0m\u001b[1;33m)\u001b[0m\u001b[1;33m\u001b[0m\u001b[1;33m\u001b[0m\u001b[0m\n\u001b[0;32m    218\u001b[0m                 \u001b[1;32mif\u001b[0m \u001b[0msaveOutput\u001b[0m\u001b[1;33m:\u001b[0m\u001b[1;33m\u001b[0m\u001b[1;33m\u001b[0m\u001b[0m\n",
      "\u001b[1;32md:\\documents\\github\\resiliencytool\\resiliencyTool\\network.py\u001b[0m in \u001b[0;36mrun\u001b[1;34m(self, time, **kwargs)\u001b[0m\n\u001b[0;32m    604\u001b[0m \u001b[1;33m\u001b[0m\u001b[0m\n\u001b[0;32m    605\u001b[0m         \u001b[1;32mdef\u001b[0m \u001b[0mrun\u001b[0m\u001b[1;33m(\u001b[0m\u001b[0mself\u001b[0m\u001b[1;33m,\u001b[0m \u001b[0mtime\u001b[0m\u001b[1;33m,\u001b[0m \u001b[1;33m**\u001b[0m\u001b[0mkwargs\u001b[0m\u001b[1;33m)\u001b[0m\u001b[1;33m:\u001b[0m\u001b[1;33m\u001b[0m\u001b[1;33m\u001b[0m\u001b[0m\n\u001b[1;32m--> 606\u001b[1;33m                 \u001b[1;32mreturn\u001b[0m \u001b[0mself\u001b[0m\u001b[1;33m.\u001b[0m\u001b[0mcalculationEngine\u001b[0m\u001b[1;33m.\u001b[0m\u001b[0mrun\u001b[0m\u001b[1;33m(\u001b[0m\u001b[0mself\u001b[0m\u001b[1;33m.\u001b[0m\u001b[0mbuild_timeseries_database\u001b[0m\u001b[1;33m(\u001b[0m\u001b[0mtime\u001b[0m\u001b[1;33m)\u001b[0m\u001b[1;33m,\u001b[0m \u001b[1;33m**\u001b[0m\u001b[0mkwargs\u001b[0m\u001b[1;33m)\u001b[0m\u001b[1;33m\u001b[0m\u001b[1;33m\u001b[0m\u001b[0m\n\u001b[0m\u001b[0;32m    607\u001b[0m \u001b[1;33m\u001b[0m\u001b[0m\n\u001b[0;32m    608\u001b[0m \u001b[1;33m\u001b[0m\u001b[0m\n",
      "\u001b[1;32md:\\documents\\github\\resiliencytool\\resiliencyTool\\engine.py\u001b[0m in \u001b[0;36mrun\u001b[1;34m(self, df_timeseries, **kwargs)\u001b[0m\n\u001b[0;32m     89\u001b[0m                 \u001b[0mrun_type\u001b[0m \u001b[1;33m=\u001b[0m \u001b[0mpp\u001b[0m\u001b[1;33m.\u001b[0m\u001b[0mrunpm_ac_opf\u001b[0m\u001b[1;33m\u001b[0m\u001b[1;33m\u001b[0m\u001b[0m\n\u001b[0;32m     90\u001b[0m \u001b[1;33m\u001b[0m\u001b[0m\n\u001b[1;32m---> 91\u001b[1;33m         \u001b[0mself\u001b[0m\u001b[1;33m.\u001b[0m\u001b[0mrun_time_series\u001b[0m\u001b[1;33m(\u001b[0m\u001b[0mdf_timeseries\u001b[0m\u001b[1;33m,\u001b[0m \u001b[0mrun\u001b[0m \u001b[1;33m=\u001b[0m \u001b[0mrun_type\u001b[0m\u001b[1;33m,\u001b[0m \u001b[1;33m**\u001b[0m\u001b[0mkwargs\u001b[0m\u001b[1;33m)\u001b[0m\u001b[1;33m\u001b[0m\u001b[1;33m\u001b[0m\u001b[0m\n\u001b[0m\u001b[0;32m     92\u001b[0m         \u001b[1;32mreturn\u001b[0m \u001b[0mself\u001b[0m\u001b[1;33m.\u001b[0m\u001b[0mformat\u001b[0m\u001b[1;33m(\u001b[0m\u001b[0moutput\u001b[0m\u001b[1;33m)\u001b[0m\u001b[1;33m\u001b[0m\u001b[1;33m\u001b[0m\u001b[0m\n\u001b[0;32m     93\u001b[0m \u001b[1;33m\u001b[0m\u001b[0m\n",
      "\u001b[1;32md:\\documents\\github\\resiliencytool\\resiliencyTool\\engine.py\u001b[0m in \u001b[0;36mrun_time_series\u001b[1;34m(self, df_timeseries, **kwargs)\u001b[0m\n\u001b[0;32m     61\u001b[0m \u001b[1;33m\u001b[0m\u001b[0m\n\u001b[0;32m     62\u001b[0m     \u001b[1;32mdef\u001b[0m \u001b[0mrun_time_series\u001b[0m\u001b[1;33m(\u001b[0m\u001b[0mself\u001b[0m\u001b[1;33m,\u001b[0m \u001b[0mdf_timeseries\u001b[0m\u001b[1;33m,\u001b[0m \u001b[1;33m**\u001b[0m\u001b[0mkwargs\u001b[0m\u001b[1;33m)\u001b[0m\u001b[1;33m:\u001b[0m\u001b[1;33m\u001b[0m\u001b[1;33m\u001b[0m\u001b[0m\n\u001b[1;32m---> 63\u001b[1;33m         \u001b[0mrun_timeseries\u001b[0m\u001b[1;33m(\u001b[0m\u001b[0mself\u001b[0m\u001b[1;33m.\u001b[0m\u001b[0mnetwork\u001b[0m\u001b[1;33m,\u001b[0m \u001b[0mdf_timeseries\u001b[0m\u001b[1;33m.\u001b[0m\u001b[0mindex\u001b[0m\u001b[1;33m,\u001b[0m \u001b[0mcontinue_on_divergence\u001b[0m \u001b[1;33m=\u001b[0m \u001b[1;32mTrue\u001b[0m\u001b[1;33m,\u001b[0m \u001b[1;33m**\u001b[0m\u001b[0mkwargs\u001b[0m\u001b[1;33m)\u001b[0m\u001b[1;33m\u001b[0m\u001b[1;33m\u001b[0m\u001b[0m\n\u001b[0m\u001b[0;32m     64\u001b[0m \u001b[1;33m\u001b[0m\u001b[0m\n\u001b[0;32m     65\u001b[0m     \u001b[1;32mdef\u001b[0m \u001b[0mformat\u001b[0m\u001b[1;33m(\u001b[0m\u001b[0mself\u001b[0m\u001b[1;33m,\u001b[0m \u001b[0moutput\u001b[0m\u001b[1;33m)\u001b[0m\u001b[1;33m:\u001b[0m\u001b[1;33m\u001b[0m\u001b[1;33m\u001b[0m\u001b[0m\n",
      "\u001b[1;32mc:\\python\\python38\\lib\\site-packages\\pandapower\\timeseries\\run_time_series.py\u001b[0m in \u001b[0;36mrun_timeseries\u001b[1;34m(net, time_steps, continue_on_divergence, verbose, **kwargs)\u001b[0m\n\u001b[0;32m    351\u001b[0m \u001b[1;33m\u001b[0m\u001b[0m\n\u001b[0;32m    352\u001b[0m     \u001b[0mcontrol_diagnostic\u001b[0m\u001b[1;33m(\u001b[0m\u001b[0mnet\u001b[0m\u001b[1;33m)\u001b[0m\u001b[1;33m\u001b[0m\u001b[1;33m\u001b[0m\u001b[0m\n\u001b[1;32m--> 353\u001b[1;33m     \u001b[0mrun_loop\u001b[0m\u001b[1;33m(\u001b[0m\u001b[0mnet\u001b[0m\u001b[1;33m,\u001b[0m \u001b[0mts_variables\u001b[0m\u001b[1;33m,\u001b[0m \u001b[1;33m**\u001b[0m\u001b[0mkwargs\u001b[0m\u001b[1;33m)\u001b[0m\u001b[1;33m\u001b[0m\u001b[1;33m\u001b[0m\u001b[0m\n\u001b[0m\u001b[0;32m    354\u001b[0m \u001b[1;33m\u001b[0m\u001b[0m\n\u001b[0;32m    355\u001b[0m     \u001b[1;31m# cleanup functions after the last time step was calculated\u001b[0m\u001b[1;33m\u001b[0m\u001b[1;33m\u001b[0m\u001b[1;33m\u001b[0m\u001b[0m\n",
      "\u001b[1;32mc:\\python\\python38\\lib\\site-packages\\pandapower\\timeseries\\run_time_series.py\u001b[0m in \u001b[0;36mrun_loop\u001b[1;34m(net, ts_variables, run_control_fct, output_writer_fct, **kwargs)\u001b[0m\n\u001b[0;32m    320\u001b[0m         print_progress(i, time_step, ts_variables[\"time_steps\"], ts_variables[\"verbose\"], ts_variables=ts_variables,\n\u001b[0;32m    321\u001b[0m                        **kwargs)\n\u001b[1;32m--> 322\u001b[1;33m         \u001b[0mrun_time_step\u001b[0m\u001b[1;33m(\u001b[0m\u001b[0mnet\u001b[0m\u001b[1;33m,\u001b[0m \u001b[0mtime_step\u001b[0m\u001b[1;33m,\u001b[0m \u001b[0mts_variables\u001b[0m\u001b[1;33m,\u001b[0m \u001b[0mrun_control_fct\u001b[0m\u001b[1;33m,\u001b[0m \u001b[0moutput_writer_fct\u001b[0m\u001b[1;33m,\u001b[0m \u001b[1;33m**\u001b[0m\u001b[0mkwargs\u001b[0m\u001b[1;33m)\u001b[0m\u001b[1;33m\u001b[0m\u001b[1;33m\u001b[0m\u001b[0m\n\u001b[0m\u001b[0;32m    323\u001b[0m \u001b[1;33m\u001b[0m\u001b[0m\n\u001b[0;32m    324\u001b[0m \u001b[1;33m\u001b[0m\u001b[0m\n",
      "\u001b[1;32mc:\\python\\python38\\lib\\site-packages\\pandapower\\timeseries\\run_time_series.py\u001b[0m in \u001b[0;36mrun_time_step\u001b[1;34m(net, time_step, ts_variables, run_control_fct, output_writer_fct, **kwargs)\u001b[0m\n\u001b[0;32m    125\u001b[0m     \u001b[1;32mtry\u001b[0m\u001b[1;33m:\u001b[0m\u001b[1;33m\u001b[0m\u001b[1;33m\u001b[0m\u001b[0m\n\u001b[0;32m    126\u001b[0m         \u001b[1;31m# calls controller init, control steps and run function (runpp usually is called in here)\u001b[0m\u001b[1;33m\u001b[0m\u001b[1;33m\u001b[0m\u001b[1;33m\u001b[0m\u001b[0m\n\u001b[1;32m--> 127\u001b[1;33m         \u001b[0mrun_control_fct\u001b[0m\u001b[1;33m(\u001b[0m\u001b[0mnet\u001b[0m\u001b[1;33m,\u001b[0m \u001b[0mctrl_variables\u001b[0m\u001b[1;33m=\u001b[0m\u001b[0mts_variables\u001b[0m\u001b[1;33m,\u001b[0m \u001b[1;33m**\u001b[0m\u001b[0mkwargs\u001b[0m\u001b[1;33m)\u001b[0m\u001b[1;33m\u001b[0m\u001b[1;33m\u001b[0m\u001b[0m\n\u001b[0m\u001b[0;32m    128\u001b[0m     \u001b[1;32mexcept\u001b[0m \u001b[0mControllerNotConverged\u001b[0m\u001b[1;33m:\u001b[0m\u001b[1;33m\u001b[0m\u001b[1;33m\u001b[0m\u001b[0m\n\u001b[0;32m    129\u001b[0m         \u001b[0mctrl_converged\u001b[0m \u001b[1;33m=\u001b[0m \u001b[1;32mFalse\u001b[0m\u001b[1;33m\u001b[0m\u001b[1;33m\u001b[0m\u001b[0m\n",
      "\u001b[1;32mc:\\python\\python38\\lib\\site-packages\\pandapower\\control\\run_control.py\u001b[0m in \u001b[0;36mrun_control\u001b[1;34m(net, ctrl_variables, max_iter, **kwargs)\u001b[0m\n\u001b[0;32m    295\u001b[0m \u001b[1;33m\u001b[0m\u001b[0m\n\u001b[0;32m    296\u001b[0m     \u001b[1;31m# run each controller step in given controller order\u001b[0m\u001b[1;33m\u001b[0m\u001b[1;33m\u001b[0m\u001b[1;33m\u001b[0m\u001b[0m\n\u001b[1;32m--> 297\u001b[1;33m     \u001b[0mcontrol_implementation\u001b[0m\u001b[1;33m(\u001b[0m\u001b[0mnet\u001b[0m\u001b[1;33m,\u001b[0m \u001b[0mcontroller_order\u001b[0m\u001b[1;33m,\u001b[0m \u001b[0mctrl_variables\u001b[0m\u001b[1;33m,\u001b[0m \u001b[0mmax_iter\u001b[0m\u001b[1;33m,\u001b[0m \u001b[1;33m**\u001b[0m\u001b[0mkwargs\u001b[0m\u001b[1;33m)\u001b[0m\u001b[1;33m\u001b[0m\u001b[1;33m\u001b[0m\u001b[0m\n\u001b[0m\u001b[0;32m    298\u001b[0m \u001b[1;33m\u001b[0m\u001b[0m\n\u001b[0;32m    299\u001b[0m     \u001b[1;31m# call finalize function of each controller\u001b[0m\u001b[1;33m\u001b[0m\u001b[1;33m\u001b[0m\u001b[1;33m\u001b[0m\u001b[0m\n",
      "\u001b[1;32mc:\\python\\python38\\lib\\site-packages\\pandapower\\control\\run_control.py\u001b[0m in \u001b[0;36mcontrol_implementation\u001b[1;34m(net, controller_order, ctrl_variables, max_iter, evaluate_net_fct, **kwargs)\u001b[0m\n\u001b[0;32m    215\u001b[0m             \u001b[1;32mif\u001b[0m \u001b[1;32mnot\u001b[0m \u001b[0mctrl_converged\u001b[0m\u001b[1;33m:\u001b[0m\u001b[1;33m\u001b[0m\u001b[1;33m\u001b[0m\u001b[0m\n\u001b[0;32m    216\u001b[0m                 \u001b[0mrun_count\u001b[0m \u001b[1;33m+=\u001b[0m \u001b[1;36m1\u001b[0m\u001b[1;33m\u001b[0m\u001b[1;33m\u001b[0m\u001b[0m\n\u001b[1;32m--> 217\u001b[1;33m                 \u001b[0mctrl_variables\u001b[0m \u001b[1;33m=\u001b[0m \u001b[0mevaluate_net_fct\u001b[0m\u001b[1;33m(\u001b[0m\u001b[0mnet\u001b[0m\u001b[1;33m,\u001b[0m \u001b[0mlevelorder\u001b[0m\u001b[1;33m,\u001b[0m \u001b[0mctrl_variables\u001b[0m\u001b[1;33m,\u001b[0m \u001b[1;33m**\u001b[0m\u001b[0mkwargs\u001b[0m\u001b[1;33m)\u001b[0m\u001b[1;33m\u001b[0m\u001b[1;33m\u001b[0m\u001b[0m\n\u001b[0m\u001b[0;32m    218\u001b[0m         \u001b[1;31m# raises controller not converged\u001b[0m\u001b[1;33m\u001b[0m\u001b[1;33m\u001b[0m\u001b[1;33m\u001b[0m\u001b[0m\n\u001b[0;32m    219\u001b[0m         \u001b[1;32mif\u001b[0m \u001b[0mctrl_variables\u001b[0m\u001b[1;33m[\u001b[0m\u001b[1;34m'check_each_level'\u001b[0m\u001b[1;33m]\u001b[0m\u001b[1;33m:\u001b[0m\u001b[1;33m\u001b[0m\u001b[1;33m\u001b[0m\u001b[0m\n",
      "\u001b[1;32mc:\\python\\python38\\lib\\site-packages\\pandapower\\control\\run_control.py\u001b[0m in \u001b[0;36m_evaluate_net\u001b[1;34m(net, levelorder, ctrl_variables, **kwargs)\u001b[0m\n\u001b[0;32m    177\u001b[0m     \u001b[0merrors\u001b[0m \u001b[1;33m=\u001b[0m \u001b[0mctrl_variables\u001b[0m\u001b[1;33m[\u001b[0m\u001b[1;34m'errors'\u001b[0m\u001b[1;33m]\u001b[0m\u001b[1;33m\u001b[0m\u001b[1;33m\u001b[0m\u001b[0m\n\u001b[0;32m    178\u001b[0m     \u001b[1;32mtry\u001b[0m\u001b[1;33m:\u001b[0m\u001b[1;33m\u001b[0m\u001b[1;33m\u001b[0m\u001b[0m\n\u001b[1;32m--> 179\u001b[1;33m         \u001b[0mrun_funct\u001b[0m\u001b[1;33m(\u001b[0m\u001b[0mnet\u001b[0m\u001b[1;33m,\u001b[0m \u001b[1;33m**\u001b[0m\u001b[0mkwargs\u001b[0m\u001b[1;33m)\u001b[0m  \u001b[1;31m# run can be runpp, runopf or whatever\u001b[0m\u001b[1;33m\u001b[0m\u001b[1;33m\u001b[0m\u001b[0m\n\u001b[0m\u001b[0;32m    180\u001b[0m     \u001b[1;32mexcept\u001b[0m \u001b[0merrors\u001b[0m \u001b[1;32mas\u001b[0m \u001b[0merr\u001b[0m\u001b[1;33m:\u001b[0m\u001b[1;33m\u001b[0m\u001b[1;33m\u001b[0m\u001b[0m\n\u001b[0;32m    181\u001b[0m         \u001b[0mnet\u001b[0m\u001b[1;33m.\u001b[0m\u001b[0m_ppc\u001b[0m \u001b[1;33m=\u001b[0m \u001b[1;32mNone\u001b[0m\u001b[1;33m\u001b[0m\u001b[1;33m\u001b[0m\u001b[0m\n",
      "\u001b[1;32mc:\\python\\python38\\lib\\site-packages\\pandapower\\run.py\u001b[0m in \u001b[0;36mrunopp\u001b[1;34m(net, verbose, calculate_voltage_angles, check_connectivity, suppress_warnings, switch_rx_ratio, delta, init, numba, trafo3w_losses, consider_line_temperature, **kwargs)\u001b[0m\n\u001b[0;32m    364\u001b[0m     \u001b[0m_check_bus_index_and_print_warning_if_high\u001b[0m\u001b[1;33m(\u001b[0m\u001b[0mnet\u001b[0m\u001b[1;33m)\u001b[0m\u001b[1;33m\u001b[0m\u001b[1;33m\u001b[0m\u001b[0m\n\u001b[0;32m    365\u001b[0m     \u001b[0m_check_gen_index_and_print_warning_if_high\u001b[0m\u001b[1;33m(\u001b[0m\u001b[0mnet\u001b[0m\u001b[1;33m)\u001b[0m\u001b[1;33m\u001b[0m\u001b[1;33m\u001b[0m\u001b[0m\n\u001b[1;32m--> 366\u001b[1;33m     \u001b[0m_optimal_powerflow\u001b[0m\u001b[1;33m(\u001b[0m\u001b[0mnet\u001b[0m\u001b[1;33m,\u001b[0m \u001b[0mverbose\u001b[0m\u001b[1;33m,\u001b[0m \u001b[0msuppress_warnings\u001b[0m\u001b[1;33m,\u001b[0m \u001b[1;33m**\u001b[0m\u001b[0mkwargs\u001b[0m\u001b[1;33m)\u001b[0m\u001b[1;33m\u001b[0m\u001b[1;33m\u001b[0m\u001b[0m\n\u001b[0m\u001b[0;32m    367\u001b[0m \u001b[1;33m\u001b[0m\u001b[0m\n\u001b[0;32m    368\u001b[0m \u001b[1;33m\u001b[0m\u001b[0m\n",
      "\u001b[1;32mc:\\python\\python38\\lib\\site-packages\\pandapower\\optimal_powerflow.py\u001b[0m in \u001b[0;36m_optimal_powerflow\u001b[1;34m(net, verbose, suppress_warnings, **kwargs)\u001b[0m\n\u001b[0;32m     59\u001b[0m         \u001b[0minit_results\u001b[0m\u001b[1;33m(\u001b[0m\u001b[0mnet\u001b[0m\u001b[1;33m,\u001b[0m \u001b[1;34m\"opf\"\u001b[0m\u001b[1;33m)\u001b[0m\u001b[1;33m\u001b[0m\u001b[1;33m\u001b[0m\u001b[0m\n\u001b[0;32m     60\u001b[0m \u001b[1;33m\u001b[0m\u001b[0m\n\u001b[1;32m---> 61\u001b[1;33m     \u001b[0mppc\u001b[0m\u001b[1;33m,\u001b[0m \u001b[0mppci\u001b[0m \u001b[1;33m=\u001b[0m \u001b[0m_pd2ppc\u001b[0m\u001b[1;33m(\u001b[0m\u001b[0mnet\u001b[0m\u001b[1;33m)\u001b[0m\u001b[1;33m\u001b[0m\u001b[1;33m\u001b[0m\u001b[0m\n\u001b[0m\u001b[0;32m     62\u001b[0m \u001b[1;33m\u001b[0m\u001b[0m\n\u001b[0;32m     63\u001b[0m     \u001b[1;32mif\u001b[0m \u001b[1;32mnot\u001b[0m \u001b[0mac\u001b[0m\u001b[1;33m:\u001b[0m\u001b[1;33m\u001b[0m\u001b[1;33m\u001b[0m\u001b[0m\n",
      "\u001b[1;32mc:\\python\\python38\\lib\\site-packages\\pandapower\\pd2ppc.py\u001b[0m in \u001b[0;36m_pd2ppc\u001b[1;34m(net, sequence)\u001b[0m\n\u001b[0;32m     94\u001b[0m     \"\"\"\n\u001b[0;32m     95\u001b[0m     \u001b[1;31m# select elements in service (time consuming, so we do it once)\u001b[0m\u001b[1;33m\u001b[0m\u001b[1;33m\u001b[0m\u001b[1;33m\u001b[0m\u001b[0m\n\u001b[1;32m---> 96\u001b[1;33m     \u001b[0mnet\u001b[0m\u001b[1;33m[\u001b[0m\u001b[1;34m\"_is_elements\"\u001b[0m\u001b[1;33m]\u001b[0m \u001b[1;33m=\u001b[0m \u001b[0maux\u001b[0m\u001b[1;33m.\u001b[0m\u001b[0m_select_is_elements_numba\u001b[0m\u001b[1;33m(\u001b[0m\u001b[0mnet\u001b[0m\u001b[1;33m,\u001b[0m \u001b[0msequence\u001b[0m\u001b[1;33m=\u001b[0m\u001b[0msequence\u001b[0m\u001b[1;33m)\u001b[0m\u001b[1;33m\u001b[0m\u001b[1;33m\u001b[0m\u001b[0m\n\u001b[0m\u001b[0;32m     97\u001b[0m \u001b[1;33m\u001b[0m\u001b[0m\n\u001b[0;32m     98\u001b[0m     \u001b[1;31m# Gets network configurations\u001b[0m\u001b[1;33m\u001b[0m\u001b[1;33m\u001b[0m\u001b[1;33m\u001b[0m\u001b[0m\n",
      "\u001b[1;32mc:\\python\\python38\\lib\\site-packages\\pandapower\\auxiliary.py\u001b[0m in \u001b[0;36m_select_is_elements_numba\u001b[1;34m(net, isolated_nodes, sequence)\u001b[0m\n\u001b[0;32m    529\u001b[0m         \u001b[1;32mif\u001b[0m \u001b[0mlen_\u001b[0m \u001b[1;33m>\u001b[0m \u001b[1;36m0\u001b[0m\u001b[1;33m:\u001b[0m\u001b[1;33m\u001b[0m\u001b[1;33m\u001b[0m\u001b[0m\n\u001b[0;32m    530\u001b[0m             \u001b[0melement_df\u001b[0m \u001b[1;33m=\u001b[0m \u001b[0mnet\u001b[0m\u001b[1;33m[\u001b[0m\u001b[0melement\u001b[0m\u001b[1;33m]\u001b[0m\u001b[1;33m\u001b[0m\u001b[1;33m\u001b[0m\u001b[0m\n\u001b[1;32m--> 531\u001b[1;33m             set_elements_oos(element_df[\"bus\"].values, element_df[\"in_service\"].values,\n\u001b[0m\u001b[0;32m    532\u001b[0m                              bus_in_service, element_in_service)\n\u001b[0;32m    533\u001b[0m         \u001b[1;32mif\u001b[0m \u001b[0mnet\u001b[0m\u001b[1;33m[\u001b[0m\u001b[1;34m\"_options\"\u001b[0m\u001b[1;33m]\u001b[0m\u001b[1;33m[\u001b[0m\u001b[1;34m\"mode\"\u001b[0m\u001b[1;33m]\u001b[0m \u001b[1;33m==\u001b[0m \u001b[1;34m\"opf\"\u001b[0m \u001b[1;32mand\u001b[0m \u001b[0melement\u001b[0m \u001b[1;32min\u001b[0m \u001b[1;33m[\u001b[0m\u001b[1;34m\"load\"\u001b[0m\u001b[1;33m,\u001b[0m \u001b[1;34m\"sgen\"\u001b[0m\u001b[1;33m,\u001b[0m \u001b[1;34m\"storage\"\u001b[0m\u001b[1;33m]\u001b[0m\u001b[1;33m:\u001b[0m\u001b[1;33m\u001b[0m\u001b[1;33m\u001b[0m\u001b[0m\n",
      "\u001b[1;32mc:\\python\\python38\\lib\\site-packages\\numba\\core\\dispatcher.py\u001b[0m in \u001b[0;36m_compile_for_args\u001b[1;34m(self, *args, **kws)\u001b[0m\n\u001b[0;32m    466\u001b[0m                 \u001b[0me\u001b[0m\u001b[1;33m.\u001b[0m\u001b[0mpatch_message\u001b[0m\u001b[1;33m(\u001b[0m\u001b[0mmsg\u001b[0m\u001b[1;33m)\u001b[0m\u001b[1;33m\u001b[0m\u001b[1;33m\u001b[0m\u001b[0m\n\u001b[0;32m    467\u001b[0m \u001b[1;33m\u001b[0m\u001b[0m\n\u001b[1;32m--> 468\u001b[1;33m             \u001b[0merror_rewrite\u001b[0m\u001b[1;33m(\u001b[0m\u001b[0me\u001b[0m\u001b[1;33m,\u001b[0m \u001b[1;34m'typing'\u001b[0m\u001b[1;33m)\u001b[0m\u001b[1;33m\u001b[0m\u001b[1;33m\u001b[0m\u001b[0m\n\u001b[0m\u001b[0;32m    469\u001b[0m         \u001b[1;32mexcept\u001b[0m \u001b[0merrors\u001b[0m\u001b[1;33m.\u001b[0m\u001b[0mUnsupportedError\u001b[0m \u001b[1;32mas\u001b[0m \u001b[0me\u001b[0m\u001b[1;33m:\u001b[0m\u001b[1;33m\u001b[0m\u001b[1;33m\u001b[0m\u001b[0m\n\u001b[0;32m    470\u001b[0m             \u001b[1;31m# Something unsupported is present in the user code, add help info\u001b[0m\u001b[1;33m\u001b[0m\u001b[1;33m\u001b[0m\u001b[1;33m\u001b[0m\u001b[0m\n",
      "\u001b[1;32mc:\\python\\python38\\lib\\site-packages\\numba\\core\\dispatcher.py\u001b[0m in \u001b[0;36merror_rewrite\u001b[1;34m(e, issue_type)\u001b[0m\n\u001b[0;32m    407\u001b[0m                 \u001b[1;32mraise\u001b[0m \u001b[0me\u001b[0m\u001b[1;33m\u001b[0m\u001b[1;33m\u001b[0m\u001b[0m\n\u001b[0;32m    408\u001b[0m             \u001b[1;32melse\u001b[0m\u001b[1;33m:\u001b[0m\u001b[1;33m\u001b[0m\u001b[1;33m\u001b[0m\u001b[0m\n\u001b[1;32m--> 409\u001b[1;33m                 \u001b[1;32mraise\u001b[0m \u001b[0me\u001b[0m\u001b[1;33m.\u001b[0m\u001b[0mwith_traceback\u001b[0m\u001b[1;33m(\u001b[0m\u001b[1;32mNone\u001b[0m\u001b[1;33m)\u001b[0m\u001b[1;33m\u001b[0m\u001b[1;33m\u001b[0m\u001b[0m\n\u001b[0m\u001b[0;32m    410\u001b[0m \u001b[1;33m\u001b[0m\u001b[0m\n\u001b[0;32m    411\u001b[0m         \u001b[0margtypes\u001b[0m \u001b[1;33m=\u001b[0m \u001b[1;33m[\u001b[0m\u001b[1;33m]\u001b[0m\u001b[1;33m\u001b[0m\u001b[1;33m\u001b[0m\u001b[0m\n",
      "\u001b[1;31mTypingError\u001b[0m: Failed in nopython mode pipeline (step: nopython frontend)\n\u001b[1m\u001b[1mnon-precise type array(pyobject, 1d, C)\u001b[0m\n\u001b[0m\u001b[1mDuring: typing of argument at c:\\python\\python38\\lib\\site-packages\\pandapower\\auxiliary.py (490)\u001b[0m\n\u001b[1m\nFile \"c:\\python\\python38\\lib\\site-packages\\pandapower\\auxiliary.py\", line 490:\u001b[0m\n\u001b[1mdef _python_set_elements_oos(ti, tis, bis, lis):  # pragma: no cover\n\u001b[1m    for i in range(len(ti)):\n\u001b[0m    \u001b[1m^\u001b[0m\u001b[0m\n"
     ]
    }
   ],
   "source": [
    "simulation.run(network, iterationSet = [1], run_type = 'ac_opf', delta = 1e-16, saveOutput = False)"
   ]
  },
  {
   "cell_type": "code",
   "execution_count": null,
   "id": "coordinate-tunisia",
   "metadata": {},
   "outputs": [],
   "source": [
    "pf_res_plotly(network.pp_network);"
   ]
  },
  {
   "cell_type": "code",
   "execution_count": null,
   "id": "opposed-dakota",
   "metadata": {},
   "outputs": [],
   "source": [
    "simulation.results.loc[:,:,'network',:]"
   ]
  },
  {
   "cell_type": "code",
   "execution_count": null,
   "id": "random-owner",
   "metadata": {},
   "outputs": [],
   "source": []
  },
  {
   "cell_type": "code",
   "execution_count": null,
   "id": "continent-effect",
   "metadata": {},
   "outputs": [],
   "source": []
  }
 ],
 "metadata": {
  "kernelspec": {
   "display_name": "Python 3",
   "language": "python",
   "name": "python3"
  },
  "language_info": {
   "codemirror_mode": {
    "name": "ipython",
    "version": 3
   },
   "file_extension": ".py",
   "mimetype": "text/x-python",
   "name": "python",
   "nbconvert_exporter": "python",
   "pygments_lexer": "ipython3",
   "version": "3.8.6rc1"
  }
 },
 "nbformat": 4,
 "nbformat_minor": 5
}
