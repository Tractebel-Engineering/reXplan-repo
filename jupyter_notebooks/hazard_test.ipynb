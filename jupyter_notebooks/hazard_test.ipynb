{
 "cells": [
  {
   "cell_type": "code",
   "execution_count": 1,
   "id": "viral-chinese",
   "metadata": {},
   "outputs": [],
   "source": [
    "import resiliencyTool as rt\n",
    "import warnings\n",
    "import numpy as np\n",
    "from datetime import date as dt_date\n",
    "\n",
    "warnings.simplefilter(\"ignore\") # warning are ignored for now"
   ]
  },
  {
   "cell_type": "code",
   "execution_count": 2,
   "id": "hollow-fossil",
   "metadata": {},
   "outputs": [],
   "source": [
    "simulationName = 'basic_example';\n",
    "hz = rt.hazard.Hazard()"
   ]
  },
  {
   "cell_type": "code",
   "execution_count": 3,
   "id": "relevant-recall",
   "metadata": {},
   "outputs": [],
   "source": [
    "geodata1 = rt.network.GeoData(47.4,5.8)\n",
    "geodata2 = rt.network.GeoData(54.9,15.0)\n",
    "\n",
    "#hz.geospatial_generator(geodata1,geodata2, 10)\n",
    "\n",
    "sdate = dt_date(2022,4,1)   # start date\n",
    "edate = dt_date(2022,4,3)   # end date\n",
    "#dt = hz.datetime_generator(sdate, edate, '1H')"
   ]
  },
  {
   "cell_type": "code",
   "execution_count": null,
   "id": "hired-grass",
   "metadata": {},
   "outputs": [],
   "source": [
    "#hz.epicenterTrajectory_generator(epicenter_radius=1, epicenter_intensity=1, epicenter_lat=49.4, epicenter_lon=9)\n",
    "\n",
    "filename = 'trajectory.csv';\n",
    "hz.epicenterTrajectory_reader(simulationName, filename).head()"
   ]
  },
  {
   "cell_type": "code",
   "execution_count": null,
   "id": "extreme-intermediate",
   "metadata": {},
   "outputs": [],
   "source": [
    "hazard_grid = hz.grid_generator(max_intensity=60, max_radius=50.,\n",
    "                                sdate=sdate, edate=edate,\n",
    "                                geodata1= geodata1, geodata2= geodata2,\n",
    "                                delta_km=10, frequency='1H')\n",
    "hazard_grid"
   ]
  },
  {
   "cell_type": "code",
   "execution_count": null,
   "id": "meaningful-virtue",
   "metadata": {},
   "outputs": [],
   "source": [
    "hz.to_nc(hazard_grid, simulationName, 'test.nc')"
   ]
  },
  {
   "cell_type": "code",
   "execution_count": null,
   "id": "compliant-application",
   "metadata": {},
   "outputs": [],
   "source": [
    "cols, lon, lat, time, intensity = hz.read_nc(simulationName, 'test.nc')"
   ]
  },
  {
   "cell_type": "code",
   "execution_count": null,
   "id": "delayed-warrior",
   "metadata": {},
   "outputs": [],
   "source": [
    "hz.plot(11,edge_pad=2)"
   ]
  },
  {
   "cell_type": "code",
   "execution_count": null,
   "id": "adjustable-measurement",
   "metadata": {},
   "outputs": [],
   "source": [
    "hz.plot_gif(simulationName,speed=10)"
   ]
  },
  {
   "cell_type": "markdown",
   "id": "conventional-organ",
   "metadata": {},
   "source": [
    "![intensity_gif](file/input/basic_example/hazards/gif/intensity_timelapse.gif \"intensity_gif\")"
   ]
  },
  {
   "cell_type": "markdown",
   "id": "comprehensive-sunglasses",
   "metadata": {},
   "source": []
  },
  {
   "cell_type": "code",
   "execution_count": null,
   "id": "prescription-vienna",
   "metadata": {},
   "outputs": [],
   "source": [
    "import pandas as pd\n",
    "import matplotlib.pyplot as plt\n",
    "time, intensity = hz.get_intensity(8.2, 52.2, pd.to_datetime(sdate), pd.to_datetime(edate))\n",
    "plt.plot(time,intensity)\n",
    "plt.xticks(rotation=90)"
   ]
  },
  {
   "cell_type": "code",
   "execution_count": null,
   "id": "thrown-mountain",
   "metadata": {},
   "outputs": [],
   "source": []
  },
  {
   "cell_type": "code",
   "execution_count": null,
   "id": "tutorial-frame",
   "metadata": {},
   "outputs": [],
   "source": []
  },
  {
   "cell_type": "code",
   "execution_count": null,
   "id": "seventh-henry",
   "metadata": {},
   "outputs": [],
   "source": []
  }
 ],
 "metadata": {
  "kernelspec": {
   "display_name": "Python 3",
   "language": "python",
   "name": "python3"
  },
  "language_info": {
   "codemirror_mode": {
    "name": "ipython",
    "version": 3
   },
   "file_extension": ".py",
   "mimetype": "text/x-python",
   "name": "python",
   "nbconvert_exporter": "python",
   "pygments_lexer": "ipython3",
   "version": "3.8.6rc1"
  }
 },
 "nbformat": 4,
 "nbformat_minor": 5
}
