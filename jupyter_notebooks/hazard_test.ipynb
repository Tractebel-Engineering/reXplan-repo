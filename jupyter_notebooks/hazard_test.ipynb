{
 "cells": [
  {
   "cell_type": "code",
   "execution_count": 1,
   "id": "viral-chinese",
   "metadata": {},
   "outputs": [],
   "source": [
    "import resiliencyTool as rt\n",
    "import warnings\n",
    "import numpy as np\n",
    "from datetime import date as dt_date\n",
    "\n",
    "warnings.simplefilter(\"ignore\") # warning are ignored for now"
   ]
  },
  {
   "cell_type": "code",
   "execution_count": 2,
   "id": "hollow-fossil",
   "metadata": {},
   "outputs": [
    {
     "name": "stdout",
     "output_type": "stream",
     "text": [
      "start= 1, stop= 41\n",
      "start= 12, stop= 17\n"
     ]
    }
   ],
   "source": [
    "simulationName = 'basic_example';\n",
    "network = rt.network.Network(simulationName);\n",
    "simulation = rt.simulation.Sim(simulationName);"
   ]
  },
  {
   "cell_type": "code",
   "execution_count": 3,
   "id": "relevant-recall",
   "metadata": {},
   "outputs": [
    {
     "data": {
      "text/plain": [
       "DatetimeIndex(['2022-04-01 00:00:00', '2022-04-01 01:00:00',\n",
       "               '2022-04-01 02:00:00', '2022-04-01 03:00:00',\n",
       "               '2022-04-01 04:00:00', '2022-04-01 05:00:00',\n",
       "               '2022-04-01 06:00:00', '2022-04-01 07:00:00',\n",
       "               '2022-04-01 08:00:00', '2022-04-01 09:00:00',\n",
       "               '2022-04-01 10:00:00', '2022-04-01 11:00:00',\n",
       "               '2022-04-01 12:00:00', '2022-04-01 13:00:00',\n",
       "               '2022-04-01 14:00:00', '2022-04-01 15:00:00',\n",
       "               '2022-04-01 16:00:00', '2022-04-01 17:00:00',\n",
       "               '2022-04-01 18:00:00', '2022-04-01 19:00:00',\n",
       "               '2022-04-01 20:00:00', '2022-04-01 21:00:00',\n",
       "               '2022-04-01 22:00:00', '2022-04-01 23:00:00',\n",
       "               '2022-04-02 00:00:00', '2022-04-02 01:00:00',\n",
       "               '2022-04-02 02:00:00', '2022-04-02 03:00:00',\n",
       "               '2022-04-02 04:00:00', '2022-04-02 05:00:00',\n",
       "               '2022-04-02 06:00:00', '2022-04-02 07:00:00',\n",
       "               '2022-04-02 08:00:00', '2022-04-02 09:00:00',\n",
       "               '2022-04-02 10:00:00', '2022-04-02 11:00:00',\n",
       "               '2022-04-02 12:00:00', '2022-04-02 13:00:00',\n",
       "               '2022-04-02 14:00:00', '2022-04-02 15:00:00',\n",
       "               '2022-04-02 16:00:00', '2022-04-02 17:00:00',\n",
       "               '2022-04-02 18:00:00', '2022-04-02 19:00:00',\n",
       "               '2022-04-02 20:00:00', '2022-04-02 21:00:00',\n",
       "               '2022-04-02 22:00:00', '2022-04-02 23:00:00',\n",
       "               '2022-04-03 00:00:00'],\n",
       "              dtype='datetime64[ns]', freq='H')"
      ]
     },
     "execution_count": 3,
     "metadata": {},
     "output_type": "execute_result"
    }
   ],
   "source": [
    "geodata1 = rt.network.GeoData(47.4,5.8)\n",
    "geodata2 = rt.network.GeoData(54.9,15.0)\n",
    "hz = rt.hazard.Hazard()\n",
    "hz.geospatial_generator(geodata1,geodata2, 10)\n",
    "\n",
    "sdate = dt_date(2022,4,1)   # start date\n",
    "edate = dt_date(2022,4,3)   # end date\n",
    "\n",
    "hz.datetime_generator(sdate,edate,frequency='1H')"
   ]
  },
  {
   "cell_type": "code",
   "execution_count": 4,
   "id": "hired-grass",
   "metadata": {},
   "outputs": [
    {
     "data": {
      "text/html": [
       "<div>\n",
       "<style scoped>\n",
       "    .dataframe tbody tr th:only-of-type {\n",
       "        vertical-align: middle;\n",
       "    }\n",
       "\n",
       "    .dataframe tbody tr th {\n",
       "        vertical-align: top;\n",
       "    }\n",
       "\n",
       "    .dataframe thead th {\n",
       "        text-align: right;\n",
       "    }\n",
       "</style>\n",
       "<table border=\"1\" class=\"dataframe\">\n",
       "  <thead>\n",
       "    <tr style=\"text-align: right;\">\n",
       "      <th></th>\n",
       "      <th>time</th>\n",
       "      <th>lon</th>\n",
       "      <th>lat</th>\n",
       "      <th>intensity</th>\n",
       "      <th>radius</th>\n",
       "    </tr>\n",
       "  </thead>\n",
       "  <tbody>\n",
       "    <tr>\n",
       "      <th>0</th>\n",
       "      <td>01.04.2022 00:00</td>\n",
       "      <td>6.9</td>\n",
       "      <td>47.9</td>\n",
       "      <td>0.10</td>\n",
       "      <td>1</td>\n",
       "    </tr>\n",
       "    <tr>\n",
       "      <th>1</th>\n",
       "      <td>01.04.2022 01:00</td>\n",
       "      <td>7.1</td>\n",
       "      <td>47.9</td>\n",
       "      <td>0.11</td>\n",
       "      <td>1</td>\n",
       "    </tr>\n",
       "    <tr>\n",
       "      <th>2</th>\n",
       "      <td>01.04.2022 02:00</td>\n",
       "      <td>7.4</td>\n",
       "      <td>48.0</td>\n",
       "      <td>0.13</td>\n",
       "      <td>1</td>\n",
       "    </tr>\n",
       "    <tr>\n",
       "      <th>3</th>\n",
       "      <td>01.04.2022 03:00</td>\n",
       "      <td>7.6</td>\n",
       "      <td>48.1</td>\n",
       "      <td>0.14</td>\n",
       "      <td>1</td>\n",
       "    </tr>\n",
       "    <tr>\n",
       "      <th>4</th>\n",
       "      <td>01.04.2022 04:00</td>\n",
       "      <td>7.7</td>\n",
       "      <td>48.2</td>\n",
       "      <td>0.21</td>\n",
       "      <td>1</td>\n",
       "    </tr>\n",
       "  </tbody>\n",
       "</table>\n",
       "</div>"
      ],
      "text/plain": [
       "               time  lon   lat  intensity  radius\n",
       "0  01.04.2022 00:00  6.9  47.9       0.10       1\n",
       "1  01.04.2022 01:00  7.1  47.9       0.11       1\n",
       "2  01.04.2022 02:00  7.4  48.0       0.13       1\n",
       "3  01.04.2022 03:00  7.6  48.1       0.14       1\n",
       "4  01.04.2022 04:00  7.7  48.2       0.21       1"
      ]
     },
     "execution_count": 4,
     "metadata": {},
     "output_type": "execute_result"
    }
   ],
   "source": [
    "#hz.epicenterTrajectory_generator(epicenter_radius=1, epicenter_intensity=1, epicenter_lat=49.4, epicenter_lon=9)\n",
    "\n",
    "simulationName = 'basic_example';\n",
    "filename = 'trajectory.csv';\n",
    "hz.epicenterTrajectory_reader(simulationName, filename).head()"
   ]
  },
  {
   "cell_type": "code",
   "execution_count": 5,
   "id": "extreme-intermediate",
   "metadata": {},
   "outputs": [
    {
     "data": {
      "text/html": [
       "<div>\n",
       "<style scoped>\n",
       "    .dataframe tbody tr th:only-of-type {\n",
       "        vertical-align: middle;\n",
       "    }\n",
       "\n",
       "    .dataframe tbody tr th {\n",
       "        vertical-align: top;\n",
       "    }\n",
       "\n",
       "    .dataframe thead th {\n",
       "        text-align: right;\n",
       "    }\n",
       "</style>\n",
       "<table border=\"1\" class=\"dataframe\">\n",
       "  <thead>\n",
       "    <tr style=\"text-align: right;\">\n",
       "      <th></th>\n",
       "      <th>DateTime</th>\n",
       "      <th>latitude</th>\n",
       "      <th>longitude</th>\n",
       "      <th>intensity</th>\n",
       "    </tr>\n",
       "  </thead>\n",
       "  <tbody>\n",
       "    <tr>\n",
       "      <th>0</th>\n",
       "      <td>2022-04-01</td>\n",
       "      <td>47.400000</td>\n",
       "      <td>5.800000</td>\n",
       "      <td>0.0</td>\n",
       "    </tr>\n",
       "    <tr>\n",
       "      <th>1</th>\n",
       "      <td>2022-04-01</td>\n",
       "      <td>47.400000</td>\n",
       "      <td>5.890090</td>\n",
       "      <td>0.0</td>\n",
       "    </tr>\n",
       "    <tr>\n",
       "      <th>2</th>\n",
       "      <td>2022-04-01</td>\n",
       "      <td>47.400000</td>\n",
       "      <td>5.980180</td>\n",
       "      <td>0.0</td>\n",
       "    </tr>\n",
       "    <tr>\n",
       "      <th>3</th>\n",
       "      <td>2022-04-01</td>\n",
       "      <td>47.400000</td>\n",
       "      <td>6.070270</td>\n",
       "      <td>0.0</td>\n",
       "    </tr>\n",
       "    <tr>\n",
       "      <th>4</th>\n",
       "      <td>2022-04-01</td>\n",
       "      <td>47.400000</td>\n",
       "      <td>6.160360</td>\n",
       "      <td>0.0</td>\n",
       "    </tr>\n",
       "    <tr>\n",
       "      <th>...</th>\n",
       "      <td>...</td>\n",
       "      <td>...</td>\n",
       "      <td>...</td>\n",
       "      <td>...</td>\n",
       "    </tr>\n",
       "    <tr>\n",
       "      <th>423943</th>\n",
       "      <td>2022-04-03</td>\n",
       "      <td>54.877477</td>\n",
       "      <td>14.628829</td>\n",
       "      <td>0.0</td>\n",
       "    </tr>\n",
       "    <tr>\n",
       "      <th>423944</th>\n",
       "      <td>2022-04-03</td>\n",
       "      <td>54.877477</td>\n",
       "      <td>14.718919</td>\n",
       "      <td>0.0</td>\n",
       "    </tr>\n",
       "    <tr>\n",
       "      <th>423945</th>\n",
       "      <td>2022-04-03</td>\n",
       "      <td>54.877477</td>\n",
       "      <td>14.809009</td>\n",
       "      <td>0.0</td>\n",
       "    </tr>\n",
       "    <tr>\n",
       "      <th>423946</th>\n",
       "      <td>2022-04-03</td>\n",
       "      <td>54.877477</td>\n",
       "      <td>14.899099</td>\n",
       "      <td>0.0</td>\n",
       "    </tr>\n",
       "    <tr>\n",
       "      <th>423947</th>\n",
       "      <td>2022-04-03</td>\n",
       "      <td>54.877477</td>\n",
       "      <td>14.989189</td>\n",
       "      <td>0.0</td>\n",
       "    </tr>\n",
       "  </tbody>\n",
       "</table>\n",
       "<p>423948 rows × 4 columns</p>\n",
       "</div>"
      ],
      "text/plain": [
       "         DateTime   latitude  longitude  intensity\n",
       "0      2022-04-01  47.400000   5.800000        0.0\n",
       "1      2022-04-01  47.400000   5.890090        0.0\n",
       "2      2022-04-01  47.400000   5.980180        0.0\n",
       "3      2022-04-01  47.400000   6.070270        0.0\n",
       "4      2022-04-01  47.400000   6.160360        0.0\n",
       "...           ...        ...        ...        ...\n",
       "423943 2022-04-03  54.877477  14.628829        0.0\n",
       "423944 2022-04-03  54.877477  14.718919        0.0\n",
       "423945 2022-04-03  54.877477  14.809009        0.0\n",
       "423946 2022-04-03  54.877477  14.899099        0.0\n",
       "423947 2022-04-03  54.877477  14.989189        0.0\n",
       "\n",
       "[423948 rows x 4 columns]"
      ]
     },
     "execution_count": 5,
     "metadata": {},
     "output_type": "execute_result"
    }
   ],
   "source": [
    "hazard_grid = hz.grid_generator(max_intensity=60, max_radius=50.)\n",
    "hazard_grid"
   ]
  },
  {
   "cell_type": "code",
   "execution_count": 6,
   "id": "meaningful-virtue",
   "metadata": {},
   "outputs": [],
   "source": [
    "hz.to_nc(hazard_grid, simulationName, 'sythetic_data.nc')"
   ]
  },
  {
   "cell_type": "code",
   "execution_count": 7,
   "id": "compliant-application",
   "metadata": {},
   "outputs": [],
   "source": [
    "cols, lon, lat, time, intensity = hz.read_nc(simulationName, 'sythetic_data.nc')"
   ]
  },
  {
   "cell_type": "code",
   "execution_count": 22,
   "id": "delayed-warrior",
   "metadata": {},
   "outputs": [
    {
     "data": {
      "text/plain": [
       "(<Figure size 432x288 with 2 Axes>,\n",
       " <AxesSubplot:title={'center':'Intensity of hazard event'}>)"
      ]
     },
     "execution_count": 22,
     "metadata": {},
     "output_type": "execute_result"
    },
    {
     "data": {
      "image/png": "[encoded data removed]",
      "text/plain": [
       "<Figure size 432x288 with 2 Axes>"
      ]
     },
     "metadata": {
      "needs_background": "light"
     },
     "output_type": "display_data"
    }
   ],
   "source": [
    "hz.plot(11,edge_pad=2)"
   ]
  },
  {
   "cell_type": "code",
   "execution_count": 23,
   "id": "adjustable-measurement",
   "metadata": {},
   "outputs": [],
   "source": [
    "hz.plot_gif(simulationName,speed=10)"
   ]
  },
  {
   "cell_type": "markdown",
   "id": "conventional-organ",
   "metadata": {},
   "source": [
    "![intensity_gif](file/input/basic_example/hazards/gif/intensity_timelapse.gif \"intensity_gif\")"
   ]
  },
  {
   "cell_type": "markdown",
   "id": "comprehensive-sunglasses",
   "metadata": {},
   "source": []
  },
  {
   "cell_type": "code",
   "execution_count": 20,
   "id": "prescription-vienna",
   "metadata": {},
   "outputs": [
    {
     "data": {
      "text/plain": [
       "(array([19083.  , 19083.25, 19083.5 , 19083.75, 19084.  , 19084.25,\n",
       "        19084.5 , 19084.75, 19085.  ]),\n",
       " [Text(0, 0, ''),\n",
       "  Text(0, 0, ''),\n",
       "  Text(0, 0, ''),\n",
       "  Text(0, 0, ''),\n",
       "  Text(0, 0, ''),\n",
       "  Text(0, 0, ''),\n",
       "  Text(0, 0, ''),\n",
       "  Text(0, 0, ''),\n",
       "  Text(0, 0, '')])"
      ]
     },
     "execution_count": 20,
     "metadata": {},
     "output_type": "execute_result"
    },
    {
     "data": {
      "image/png": "[encoded data removed]",
      "text/plain": [
       "<Figure size 432x288 with 1 Axes>"
      ]
     },
     "metadata": {
      "needs_background": "light"
     },
     "output_type": "display_data"
    }
   ],
   "source": [
    "import pandas as pd\n",
    "import matplotlib.pyplot as plt\n",
    "time, intensity = hz.get_intensity(8.2, 52.2, pd.to_datetime(sdate), pd.to_datetime(edate))\n",
    "plt.plot(time,intensity)\n",
    "plt.xticks(rotation=90)"
   ]
  },
  {
   "cell_type": "code",
   "execution_count": null,
   "id": "thrown-mountain",
   "metadata": {},
   "outputs": [],
   "source": []
  },
  {
   "cell_type": "code",
   "execution_count": null,
   "id": "tutorial-frame",
   "metadata": {},
   "outputs": [],
   "source": []
  },
  {
   "cell_type": "code",
   "execution_count": null,
   "id": "seventh-henry",
   "metadata": {},
   "outputs": [],
   "source": []
  }
 ],
 "metadata": {
  "kernelspec": {
   "display_name": "Python 3",
   "language": "python",
   "name": "python3"
  },
  "language_info": {
   "codemirror_mode": {
    "name": "ipython",
    "version": 3
   },
   "file_extension": ".py",
   "mimetype": "text/x-python",
   "name": "python",
   "nbconvert_exporter": "python",
   "pygments_lexer": "ipython3",
   "version": "3.8.6rc1"
  }
 },
 "nbformat": 4,
 "nbformat_minor": 5
}
