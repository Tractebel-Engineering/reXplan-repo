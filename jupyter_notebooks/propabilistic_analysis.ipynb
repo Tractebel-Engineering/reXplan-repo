{
 "cells": [
  {
   "cell_type": "markdown",
   "id": "valid-preference",
   "metadata": {},
   "source": [
    "# Probabilistic analysis\n",
    "For the probabilistic analysis simulation.initialize_model_rp() function should be used.\n",
    "The reference intensity range can be selected using the min_intensity and max_intensity optional parameters.\n",
    "The maximum number of strata allowed can also be fixed with the option parameter maxStrata (default 10)."
   ]
  },
  {
   "cell_type": "code",
   "execution_count": 5,
   "id": "entire-canyon",
   "metadata": {
    "tags": []
   },
   "outputs": [
    {
     "name": "stdout",
     "output_type": "stream",
     "text": [
      "Warning: tower_type3 - Interpolation method not recognized/not provided. Using linear interpolation instead.\n",
      "Warning: tower_type2 - Interpolation method not recognized/not provided. Using linear interpolation instead.\n",
      "Warning: tower_type1 - Interpolation method not recognized/not provided. Using linear interpolation instead.\n",
      "Network for study case <1-HV-urban--0-sw> initialized.\n",
      "\n",
      "Simulation:\tStart =   1; Stop =  51; Duration =  50 timesteps.\n",
      "Hazard:\t\tStart =   3; Stop =   8; Duration =   5 timesteps.\n",
      "\n",
      "Strata  3\n",
      "Sample size  193\n",
      "Strata  4\n",
      "Sample size  155\n",
      "Strata  5\n",
      "Sample size  30\n",
      "Strata  6\n",
      "Sample size  30\n",
      "Strata  7\n",
      "Sample size  29\n",
      "Strata  8\n",
      "Sample size  20\n",
      "-----------------\n",
      " Kmeans solution \n",
      "-----------------\n",
      " *** Domain:  1  ***\n",
      " Number of strata:  8\n",
      " Sample size     :  20\n",
      "Computations are being done on population data\n",
      "\n",
      "Number of strata:  8\n",
      "... of which with only one unit:  0\n",
      "Input data have been checked and are compliant with requirements\n",
      "\n",
      " *** Domain :  1   1\n",
      " Number of strata :  10000\n",
      " *** Sample cost:  15.83837\n",
      " *** Number of strata:  6\n",
      " *** Sample size :  16\n",
      " *** Number of strata :  6\n",
      "---------------------------------------------------------------------------------------------\n",
      "Strata: 0\n",
      "Number of samples: 4\n",
      "Hazard intensity range: 19.315312186512983 - 50.671999116567505\n",
      "Strata: 1\n",
      "Number of samples: 4\n",
      "Hazard intensity range: 50.67744159274535 - 58.97610620241599\n",
      "Strata: 2\n",
      "Number of samples: 6\n",
      "Hazard intensity range: 58.98188639847041 - 66.56715855482011\n",
      "Strata: 3\n",
      "Number of samples: 6\n",
      "Hazard intensity range: 66.58490065863631 - 71.59183934965196\n",
      "Strata: 4\n",
      "Number of samples: 6\n",
      "Hazard intensity range: 71.63389646640749 - 76.24111040118314\n",
      "Strata: 5\n",
      "Number of samples: 6\n",
      "Hazard intensity range: 76.32977343472575 - 80.23517396506347\n"
     ]
    }
   ],
   "source": [
    "import reXplan as rx\n",
    "\n",
    "rx.config.path.SetWorkspaceFolder('Examples')\n",
    "#simulationName = 'case_0'\n",
    "simulationName = '1-HV-urban--0-sw'\n",
    "network = rx.network.Network(simulationName)\n",
    "simulation = rx.simulation.Sim(simulationName)\n",
    "\n",
    "simulation.initialize_model_rp(network = network, ref_return_period = \"high_risk\", mc_iteration_factor = 2)\n",
    "#simulation.initialize_model_rp(network = network, ref_return_period = \"risk_level_6\", mc_iteration_factor = 2)"
   ]
  },
  {
   "cell_type": "markdown",
   "id": "sweet-special",
   "metadata": {},
   "source": [
    "Optimal power flow (50 steps) over 30 montercalo iterations divided into 7 strata."
   ]
  },
  {
   "cell_type": "code",
   "execution_count": 3,
   "id": "controlling-rebel",
   "metadata": {},
   "outputs": [
    {
     "name": "stdout",
     "output_type": "stream",
     "text": [
      "Strata = 0; Iteration = 0\n"
     ]
    },
    {
     "name": "stderr",
     "output_type": "stream",
     "text": [
      "100%|██████████| 50/50 [01:20<00:00,  1.61s/it]\n"
     ]
    },
    {
     "name": "stdout",
     "output_type": "stream",
     "text": [
      "Strata = 0; Iteration = 1\n"
     ]
    },
    {
     "name": "stderr",
     "output_type": "stream",
     "text": [
      "100%|██████████| 50/50 [00:42<00:00,  1.18it/s]\n"
     ]
    },
    {
     "name": "stdout",
     "output_type": "stream",
     "text": [
      "Strata = 0; Iteration = 2\n"
     ]
    },
    {
     "name": "stderr",
     "output_type": "stream",
     "text": [
      "100%|██████████| 50/50 [00:45<00:00,  1.11it/s]\n"
     ]
    },
    {
     "name": "stdout",
     "output_type": "stream",
     "text": [
      "Strata = 0; Iteration = 3\n"
     ]
    },
    {
     "name": "stderr",
     "output_type": "stream",
     "text": [
      "100%|██████████| 50/50 [00:36<00:00,  1.37it/s]\n"
     ]
    },
    {
     "name": "stdout",
     "output_type": "stream",
     "text": [
      "Strata = 1; Iteration = 4\n"
     ]
    },
    {
     "name": "stderr",
     "output_type": "stream",
     "text": [
      "100%|██████████| 50/50 [00:36<00:00,  1.39it/s]\n"
     ]
    },
    {
     "name": "stdout",
     "output_type": "stream",
     "text": [
      "Strata = 1; Iteration = 5\n"
     ]
    },
    {
     "name": "stderr",
     "output_type": "stream",
     "text": [
      "100%|██████████| 50/50 [00:41<00:00,  1.19it/s]\n"
     ]
    },
    {
     "name": "stdout",
     "output_type": "stream",
     "text": [
      "Strata = 1; Iteration = 6\n"
     ]
    },
    {
     "name": "stderr",
     "output_type": "stream",
     "text": [
      "100%|██████████| 50/50 [01:02<00:00,  1.24s/it]\n"
     ]
    },
    {
     "name": "stdout",
     "output_type": "stream",
     "text": [
      "Strata = 1; Iteration = 7\n"
     ]
    },
    {
     "name": "stderr",
     "output_type": "stream",
     "text": [
      "100%|██████████| 50/50 [00:40<00:00,  1.23it/s]\n"
     ]
    },
    {
     "name": "stdout",
     "output_type": "stream",
     "text": [
      "Strata = 2; Iteration = 8\n"
     ]
    },
    {
     "name": "stderr",
     "output_type": "stream",
     "text": [
      "100%|██████████| 50/50 [01:01<00:00,  1.22s/it]\n"
     ]
    },
    {
     "name": "stdout",
     "output_type": "stream",
     "text": [
      "Strata = 2; Iteration = 9\n"
     ]
    },
    {
     "name": "stderr",
     "output_type": "stream",
     "text": [
      "100%|██████████| 50/50 [00:36<00:00,  1.37it/s]\n"
     ]
    },
    {
     "name": "stdout",
     "output_type": "stream",
     "text": [
      "Strata = 2; Iteration = 10\n"
     ]
    },
    {
     "name": "stderr",
     "output_type": "stream",
     "text": [
      "100%|██████████| 50/50 [00:42<00:00,  1.19it/s]\n"
     ]
    },
    {
     "name": "stdout",
     "output_type": "stream",
     "text": [
      "Strata = 2; Iteration = 11\n"
     ]
    },
    {
     "name": "stderr",
     "output_type": "stream",
     "text": [
      "100%|██████████| 50/50 [00:34<00:00,  1.47it/s]\n"
     ]
    },
    {
     "name": "stdout",
     "output_type": "stream",
     "text": [
      "Strata = 2; Iteration = 12\n"
     ]
    },
    {
     "name": "stderr",
     "output_type": "stream",
     "text": [
      "100%|██████████| 50/50 [00:31<00:00,  1.58it/s]\n"
     ]
    },
    {
     "name": "stdout",
     "output_type": "stream",
     "text": [
      "Strata = 2; Iteration = 13\n"
     ]
    },
    {
     "name": "stderr",
     "output_type": "stream",
     "text": [
      "100%|██████████| 50/50 [00:32<00:00,  1.52it/s]\n"
     ]
    },
    {
     "name": "stdout",
     "output_type": "stream",
     "text": [
      "Strata = 3; Iteration = 14\n"
     ]
    },
    {
     "name": "stderr",
     "output_type": "stream",
     "text": [
      "100%|██████████| 50/50 [00:44<00:00,  1.11it/s]\n"
     ]
    },
    {
     "name": "stdout",
     "output_type": "stream",
     "text": [
      "Strata = 3; Iteration = 15\n"
     ]
    },
    {
     "name": "stderr",
     "output_type": "stream",
     "text": [
      "100%|██████████| 50/50 [01:11<00:00,  1.42s/it]\n"
     ]
    },
    {
     "name": "stdout",
     "output_type": "stream",
     "text": [
      "Strata = 3; Iteration = 16\n"
     ]
    },
    {
     "name": "stderr",
     "output_type": "stream",
     "text": [
      "100%|██████████| 50/50 [00:27<00:00,  1.80it/s]\n"
     ]
    },
    {
     "name": "stdout",
     "output_type": "stream",
     "text": [
      "Strata = 3; Iteration = 17\n"
     ]
    },
    {
     "name": "stderr",
     "output_type": "stream",
     "text": [
      "100%|██████████| 50/50 [00:30<00:00,  1.67it/s]\n"
     ]
    },
    {
     "name": "stdout",
     "output_type": "stream",
     "text": [
      "Strata = 4; Iteration = 18\n"
     ]
    },
    {
     "name": "stderr",
     "output_type": "stream",
     "text": [
      "100%|██████████| 50/50 [00:42<00:00,  1.17it/s]\n"
     ]
    },
    {
     "name": "stdout",
     "output_type": "stream",
     "text": [
      "Strata = 4; Iteration = 19\n"
     ]
    },
    {
     "name": "stderr",
     "output_type": "stream",
     "text": [
      "100%|██████████| 50/50 [00:27<00:00,  1.84it/s]\n"
     ]
    },
    {
     "name": "stdout",
     "output_type": "stream",
     "text": [
      "Strata = 4; Iteration = 20\n"
     ]
    },
    {
     "name": "stderr",
     "output_type": "stream",
     "text": [
      "100%|██████████| 50/50 [00:55<00:00,  1.11s/it]\n"
     ]
    },
    {
     "name": "stdout",
     "output_type": "stream",
     "text": [
      "Strata = 4; Iteration = 21\n"
     ]
    },
    {
     "name": "stderr",
     "output_type": "stream",
     "text": [
      " 26%|██▌       | 13/50 [00:22<00:26,  1.41it/s]OPF did not converge!\n",
      "OPF did not converge!\n",
      "CalculationNotConverged at time step 13\n",
      "100%|██████████| 50/50 [00:50<00:00,  1.00s/it]\n"
     ]
    },
    {
     "name": "stdout",
     "output_type": "stream",
     "text": [
      "Strata = 5; Iteration = 22\n"
     ]
    },
    {
     "name": "stderr",
     "output_type": "stream",
     "text": [
      "100%|██████████| 50/50 [00:24<00:00,  2.02it/s]\n"
     ]
    },
    {
     "name": "stdout",
     "output_type": "stream",
     "text": [
      "Strata = 5; Iteration = 23\n"
     ]
    },
    {
     "name": "stderr",
     "output_type": "stream",
     "text": [
      "100%|██████████| 50/50 [00:28<00:00,  1.73it/s]\n"
     ]
    },
    {
     "name": "stdout",
     "output_type": "stream",
     "text": [
      "Strata = 5; Iteration = 24\n"
     ]
    },
    {
     "name": "stderr",
     "output_type": "stream",
     "text": [
      "100%|██████████| 50/50 [00:28<00:00,  1.75it/s]\n"
     ]
    },
    {
     "name": "stdout",
     "output_type": "stream",
     "text": [
      "Strata = 5; Iteration = 25\n"
     ]
    },
    {
     "name": "stderr",
     "output_type": "stream",
     "text": [
      "100%|██████████| 50/50 [00:42<00:00,  1.17it/s]\n"
     ]
    },
    {
     "name": "stdout",
     "output_type": "stream",
     "text": [
      "Strata = 6; Iteration = 26\n"
     ]
    },
    {
     "name": "stderr",
     "output_type": "stream",
     "text": [
      "100%|██████████| 50/50 [00:28<00:00,  1.75it/s]\n"
     ]
    },
    {
     "name": "stdout",
     "output_type": "stream",
     "text": [
      "Strata = 6; Iteration = 27\n"
     ]
    },
    {
     "name": "stderr",
     "output_type": "stream",
     "text": [
      " 66%|██████▌   | 33/50 [00:19<00:20,  1.18s/it]OPF did not converge!\n",
      "OPF did not converge!\n",
      "CalculationNotConverged at time step 33\n",
      "100%|██████████| 50/50 [00:30<00:00,  1.62it/s]\n"
     ]
    },
    {
     "name": "stdout",
     "output_type": "stream",
     "text": [
      "Strata = 6; Iteration = 28\n"
     ]
    },
    {
     "name": "stderr",
     "output_type": "stream",
     "text": [
      "100%|██████████| 50/50 [00:22<00:00,  2.18it/s]\n"
     ]
    },
    {
     "name": "stdout",
     "output_type": "stream",
     "text": [
      "Strata = 6; Iteration = 29\n"
     ]
    },
    {
     "name": "stderr",
     "output_type": "stream",
     "text": [
      "100%|██████████| 50/50 [00:44<00:00,  1.12it/s]\n"
     ]
    },
    {
     "name": "stdout",
     "output_type": "stream",
     "text": [
      "Saving output database...\n",
      "done!\n"
     ]
    }
   ],
   "source": [
    "simulation.run(network, iterationSet = None, time = None, run_type = 'pm_ac_opf', delta = 1e-16, saveOutput = True)"
   ]
  },
  {
   "cell_type": "markdown",
   "id": "3b96a080",
   "metadata": {},
   "source": [
    "The results of the OPF are stored in simulation.results as a DataFrame"
   ]
  },
  {
   "cell_type": "code",
   "execution_count": 5,
   "id": "flying-commerce",
   "metadata": {},
   "outputs": [
    {
     "data": {
      "text/html": [
       "<div>\n",
       "<style scoped>\n",
       "    .dataframe tbody tr th:only-of-type {\n",
       "        vertical-align: middle;\n",
       "    }\n",
       "\n",
       "    .dataframe tbody tr th {\n",
       "        vertical-align: top;\n",
       "    }\n",
       "\n",
       "    .dataframe thead th {\n",
       "        text-align: right;\n",
       "    }\n",
       "</style>\n",
       "<table border=\"1\" class=\"dataframe\">\n",
       "  <thead>\n",
       "    <tr style=\"text-align: right;\">\n",
       "      <th></th>\n",
       "      <th></th>\n",
       "      <th></th>\n",
       "      <th></th>\n",
       "      <th>2022-01-01 01:00:00</th>\n",
       "      <th>2022-01-01 02:00:00</th>\n",
       "      <th>2022-01-01 03:00:00</th>\n",
       "      <th>2022-01-01 04:00:00</th>\n",
       "      <th>2022-01-01 05:00:00</th>\n",
       "      <th>2022-01-01 06:00:00</th>\n",
       "      <th>2022-01-01 07:00:00</th>\n",
       "      <th>2022-01-01 08:00:00</th>\n",
       "      <th>2022-01-01 09:00:00</th>\n",
       "      <th>2022-01-01 10:00:00</th>\n",
       "      <th>2022-01-01 11:00:00</th>\n",
       "      <th>2022-01-01 12:00:00</th>\n",
       "      <th>2022-01-01 13:00:00</th>\n",
       "      <th>2022-01-01 14:00:00</th>\n",
       "      <th>2022-01-01 15:00:00</th>\n",
       "      <th>2022-01-01 16:00:00</th>\n",
       "      <th>2022-01-01 17:00:00</th>\n",
       "      <th>2022-01-01 18:00:00</th>\n",
       "      <th>2022-01-01 19:00:00</th>\n",
       "      <th>2022-01-01 20:00:00</th>\n",
       "      <th>2022-01-01 21:00:00</th>\n",
       "      <th>2022-01-01 22:00:00</th>\n",
       "      <th>2022-01-01 23:00:00</th>\n",
       "      <th>2022-01-02 00:00:00</th>\n",
       "      <th>2022-01-02 01:00:00</th>\n",
       "      <th>2022-01-02 02:00:00</th>\n",
       "      <th>2022-01-02 03:00:00</th>\n",
       "      <th>2022-01-02 04:00:00</th>\n",
       "      <th>2022-01-02 05:00:00</th>\n",
       "      <th>2022-01-02 06:00:00</th>\n",
       "      <th>2022-01-02 07:00:00</th>\n",
       "      <th>2022-01-02 08:00:00</th>\n",
       "      <th>2022-01-02 09:00:00</th>\n",
       "      <th>2022-01-02 10:00:00</th>\n",
       "      <th>2022-01-02 11:00:00</th>\n",
       "      <th>2022-01-02 12:00:00</th>\n",
       "      <th>2022-01-02 13:00:00</th>\n",
       "      <th>2022-01-02 14:00:00</th>\n",
       "      <th>2022-01-02 15:00:00</th>\n",
       "      <th>2022-01-02 16:00:00</th>\n",
       "      <th>2022-01-02 17:00:00</th>\n",
       "      <th>2022-01-02 18:00:00</th>\n",
       "      <th>2022-01-02 19:00:00</th>\n",
       "      <th>2022-01-02 20:00:00</th>\n",
       "      <th>2022-01-02 21:00:00</th>\n",
       "      <th>2022-01-02 22:00:00</th>\n",
       "      <th>2022-01-02 23:00:00</th>\n",
       "      <th>2022-01-03 00:00:00</th>\n",
       "      <th>2022-01-03 01:00:00</th>\n",
       "      <th>2022-01-03 02:00:00</th>\n",
       "    </tr>\n",
       "    <tr>\n",
       "      <th>strata</th>\n",
       "      <th>iteration</th>\n",
       "      <th>field</th>\n",
       "      <th>id</th>\n",
       "      <th></th>\n",
       "      <th></th>\n",
       "      <th></th>\n",
       "      <th></th>\n",
       "      <th></th>\n",
       "      <th></th>\n",
       "      <th></th>\n",
       "      <th></th>\n",
       "      <th></th>\n",
       "      <th></th>\n",
       "      <th></th>\n",
       "      <th></th>\n",
       "      <th></th>\n",
       "      <th></th>\n",
       "      <th></th>\n",
       "      <th></th>\n",
       "      <th></th>\n",
       "      <th></th>\n",
       "      <th></th>\n",
       "      <th></th>\n",
       "      <th></th>\n",
       "      <th></th>\n",
       "      <th></th>\n",
       "      <th></th>\n",
       "      <th></th>\n",
       "      <th></th>\n",
       "      <th></th>\n",
       "      <th></th>\n",
       "      <th></th>\n",
       "      <th></th>\n",
       "      <th></th>\n",
       "      <th></th>\n",
       "      <th></th>\n",
       "      <th></th>\n",
       "      <th></th>\n",
       "      <th></th>\n",
       "      <th></th>\n",
       "      <th></th>\n",
       "      <th></th>\n",
       "      <th></th>\n",
       "      <th></th>\n",
       "      <th></th>\n",
       "      <th></th>\n",
       "      <th></th>\n",
       "      <th></th>\n",
       "      <th></th>\n",
       "      <th></th>\n",
       "      <th></th>\n",
       "      <th></th>\n",
       "      <th></th>\n",
       "    </tr>\n",
       "  </thead>\n",
       "  <tbody>\n",
       "    <tr>\n",
       "      <th rowspan=\"5\" valign=\"top\">0</th>\n",
       "      <th rowspan=\"4\" valign=\"top\">0</th>\n",
       "      <th>energy_not_served_mwh</th>\n",
       "      <th></th>\n",
       "      <td>0.000000</td>\n",
       "      <td>0.000000</td>\n",
       "      <td>0.000000</td>\n",
       "      <td>0.000000</td>\n",
       "      <td>0.000000e+00</td>\n",
       "      <td>0.000000e+00</td>\n",
       "      <td>0.000000</td>\n",
       "      <td>0.000000</td>\n",
       "      <td>0.000000</td>\n",
       "      <td>0.000000</td>\n",
       "      <td>0.000000</td>\n",
       "      <td>0.000000</td>\n",
       "      <td>0.000000</td>\n",
       "      <td>0.000000</td>\n",
       "      <td>0.000000</td>\n",
       "      <td>0.000000</td>\n",
       "      <td>0.000000</td>\n",
       "      <td>0.000000</td>\n",
       "      <td>0.000000</td>\n",
       "      <td>0.000000</td>\n",
       "      <td>0.000000</td>\n",
       "      <td>0.000000</td>\n",
       "      <td>0.000000</td>\n",
       "      <td>0.000000</td>\n",
       "      <td>0.000000e+00</td>\n",
       "      <td>0.000000e+00</td>\n",
       "      <td>0.000000e+00</td>\n",
       "      <td>0.000000e+00</td>\n",
       "      <td>0.000000e+00</td>\n",
       "      <td>0.000000e+00</td>\n",
       "      <td>0.000000e+00</td>\n",
       "      <td>0.000000</td>\n",
       "      <td>0.000000</td>\n",
       "      <td>0.000000</td>\n",
       "      <td>0.000000</td>\n",
       "      <td>0.000000</td>\n",
       "      <td>0.000000</td>\n",
       "      <td>0.000000</td>\n",
       "      <td>0.000000</td>\n",
       "      <td>0.000000</td>\n",
       "      <td>0.000000</td>\n",
       "      <td>0.000000</td>\n",
       "      <td>0.000000</td>\n",
       "      <td>0.000000</td>\n",
       "      <td>0.000000</td>\n",
       "      <td>0.000000</td>\n",
       "      <td>0.000000</td>\n",
       "      <td>0.000000</td>\n",
       "      <td>0.000000e+00</td>\n",
       "      <td>0.000000e+00</td>\n",
       "    </tr>\n",
       "    <tr>\n",
       "      <th>loss_of_load_p_duration_h</th>\n",
       "      <th></th>\n",
       "      <td>0.000000</td>\n",
       "      <td>0.000000</td>\n",
       "      <td>0.000000</td>\n",
       "      <td>0.000000</td>\n",
       "      <td>0.000000e+00</td>\n",
       "      <td>0.000000e+00</td>\n",
       "      <td>0.000000</td>\n",
       "      <td>0.000000</td>\n",
       "      <td>0.000000</td>\n",
       "      <td>0.000000</td>\n",
       "      <td>0.000000</td>\n",
       "      <td>0.000000</td>\n",
       "      <td>0.000000</td>\n",
       "      <td>0.000000</td>\n",
       "      <td>0.000000</td>\n",
       "      <td>0.000000</td>\n",
       "      <td>0.000000</td>\n",
       "      <td>0.000000</td>\n",
       "      <td>0.000000</td>\n",
       "      <td>0.000000</td>\n",
       "      <td>0.000000</td>\n",
       "      <td>0.000000</td>\n",
       "      <td>0.000000</td>\n",
       "      <td>0.000000</td>\n",
       "      <td>0.000000e+00</td>\n",
       "      <td>0.000000e+00</td>\n",
       "      <td>0.000000e+00</td>\n",
       "      <td>0.000000e+00</td>\n",
       "      <td>0.000000e+00</td>\n",
       "      <td>0.000000e+00</td>\n",
       "      <td>0.000000e+00</td>\n",
       "      <td>0.000000</td>\n",
       "      <td>0.000000</td>\n",
       "      <td>0.000000</td>\n",
       "      <td>0.000000</td>\n",
       "      <td>0.000000</td>\n",
       "      <td>0.000000</td>\n",
       "      <td>0.000000</td>\n",
       "      <td>0.000000</td>\n",
       "      <td>0.000000</td>\n",
       "      <td>0.000000</td>\n",
       "      <td>0.000000</td>\n",
       "      <td>0.000000</td>\n",
       "      <td>0.000000</td>\n",
       "      <td>0.000000</td>\n",
       "      <td>0.000000</td>\n",
       "      <td>0.000000</td>\n",
       "      <td>0.000000</td>\n",
       "      <td>0.000000e+00</td>\n",
       "      <td>0.000000e+00</td>\n",
       "    </tr>\n",
       "    <tr>\n",
       "      <th>loss_of_load_p_mw</th>\n",
       "      <th></th>\n",
       "      <td>-0.000001</td>\n",
       "      <td>-0.000001</td>\n",
       "      <td>-0.000001</td>\n",
       "      <td>-0.000001</td>\n",
       "      <td>-8.995868e-07</td>\n",
       "      <td>-9.155220e-07</td>\n",
       "      <td>-0.000001</td>\n",
       "      <td>-0.000001</td>\n",
       "      <td>-0.000001</td>\n",
       "      <td>-0.000001</td>\n",
       "      <td>-0.000001</td>\n",
       "      <td>-0.000001</td>\n",
       "      <td>-0.000001</td>\n",
       "      <td>-0.000002</td>\n",
       "      <td>-0.000001</td>\n",
       "      <td>-0.000002</td>\n",
       "      <td>-0.000002</td>\n",
       "      <td>-0.000002</td>\n",
       "      <td>-0.000001</td>\n",
       "      <td>-0.000001</td>\n",
       "      <td>-0.000001</td>\n",
       "      <td>-0.000001</td>\n",
       "      <td>-0.000001</td>\n",
       "      <td>-0.000001</td>\n",
       "      <td>-9.355671e-07</td>\n",
       "      <td>-8.934900e-07</td>\n",
       "      <td>-8.435032e-07</td>\n",
       "      <td>-8.533509e-07</td>\n",
       "      <td>-8.655096e-07</td>\n",
       "      <td>-8.781418e-07</td>\n",
       "      <td>-9.818739e-07</td>\n",
       "      <td>-0.000001</td>\n",
       "      <td>-0.000001</td>\n",
       "      <td>-0.000001</td>\n",
       "      <td>-0.000001</td>\n",
       "      <td>-0.000001</td>\n",
       "      <td>-0.000002</td>\n",
       "      <td>-0.000002</td>\n",
       "      <td>-0.000001</td>\n",
       "      <td>-0.000002</td>\n",
       "      <td>-0.000002</td>\n",
       "      <td>-0.000001</td>\n",
       "      <td>-0.000002</td>\n",
       "      <td>-0.000002</td>\n",
       "      <td>-0.000001</td>\n",
       "      <td>-0.000001</td>\n",
       "      <td>-0.000001</td>\n",
       "      <td>-0.000001</td>\n",
       "      <td>-9.438978e-07</td>\n",
       "      <td>-8.845855e-07</td>\n",
       "    </tr>\n",
       "    <tr>\n",
       "      <th>loss_of_load_p_percentage</th>\n",
       "      <th></th>\n",
       "      <td>-0.000001</td>\n",
       "      <td>-0.000001</td>\n",
       "      <td>-0.000001</td>\n",
       "      <td>-0.000001</td>\n",
       "      <td>-1.681235e-06</td>\n",
       "      <td>-1.594724e-06</td>\n",
       "      <td>-0.000001</td>\n",
       "      <td>-0.000001</td>\n",
       "      <td>-0.000001</td>\n",
       "      <td>-0.000001</td>\n",
       "      <td>-0.000001</td>\n",
       "      <td>-0.000001</td>\n",
       "      <td>-0.000001</td>\n",
       "      <td>-0.000001</td>\n",
       "      <td>-0.000001</td>\n",
       "      <td>-0.000001</td>\n",
       "      <td>-0.000001</td>\n",
       "      <td>-0.000001</td>\n",
       "      <td>-0.000001</td>\n",
       "      <td>-0.000001</td>\n",
       "      <td>-0.000001</td>\n",
       "      <td>-0.000001</td>\n",
       "      <td>-0.000001</td>\n",
       "      <td>-0.000001</td>\n",
       "      <td>-1.531493e-06</td>\n",
       "      <td>-1.638156e-06</td>\n",
       "      <td>-1.769467e-06</td>\n",
       "      <td>-1.724770e-06</td>\n",
       "      <td>-1.695491e-06</td>\n",
       "      <td>-1.686001e-06</td>\n",
       "      <td>-1.531184e-06</td>\n",
       "      <td>-0.000001</td>\n",
       "      <td>-0.000001</td>\n",
       "      <td>-0.000001</td>\n",
       "      <td>-0.000001</td>\n",
       "      <td>-0.000001</td>\n",
       "      <td>-0.000001</td>\n",
       "      <td>-0.000001</td>\n",
       "      <td>-0.000001</td>\n",
       "      <td>-0.000001</td>\n",
       "      <td>-0.000001</td>\n",
       "      <td>-0.000001</td>\n",
       "      <td>-0.000001</td>\n",
       "      <td>-0.000001</td>\n",
       "      <td>-0.000001</td>\n",
       "      <td>-0.000001</td>\n",
       "      <td>-0.000001</td>\n",
       "      <td>-0.000001</td>\n",
       "      <td>-1.563091e-06</td>\n",
       "      <td>-1.672411e-06</td>\n",
       "    </tr>\n",
       "    <tr>\n",
       "      <th>1</th>\n",
       "      <th>energy_not_served_mwh</th>\n",
       "      <th></th>\n",
       "      <td>0.000000</td>\n",
       "      <td>0.000000</td>\n",
       "      <td>0.000000</td>\n",
       "      <td>0.000000</td>\n",
       "      <td>0.000000e+00</td>\n",
       "      <td>0.000000e+00</td>\n",
       "      <td>0.000000</td>\n",
       "      <td>0.000000</td>\n",
       "      <td>0.000000</td>\n",
       "      <td>0.000000</td>\n",
       "      <td>0.000000</td>\n",
       "      <td>0.000000</td>\n",
       "      <td>0.000000</td>\n",
       "      <td>0.000000</td>\n",
       "      <td>0.000000</td>\n",
       "      <td>0.000000</td>\n",
       "      <td>0.000000</td>\n",
       "      <td>0.000000</td>\n",
       "      <td>0.000000</td>\n",
       "      <td>0.000000</td>\n",
       "      <td>0.000000</td>\n",
       "      <td>0.000000</td>\n",
       "      <td>0.000000</td>\n",
       "      <td>0.000000</td>\n",
       "      <td>0.000000e+00</td>\n",
       "      <td>0.000000e+00</td>\n",
       "      <td>0.000000e+00</td>\n",
       "      <td>0.000000e+00</td>\n",
       "      <td>0.000000e+00</td>\n",
       "      <td>0.000000e+00</td>\n",
       "      <td>0.000000e+00</td>\n",
       "      <td>0.000000</td>\n",
       "      <td>0.000000</td>\n",
       "      <td>0.000000</td>\n",
       "      <td>0.000000</td>\n",
       "      <td>0.000000</td>\n",
       "      <td>0.000000</td>\n",
       "      <td>0.000000</td>\n",
       "      <td>0.000000</td>\n",
       "      <td>0.000000</td>\n",
       "      <td>0.000000</td>\n",
       "      <td>0.000000</td>\n",
       "      <td>0.000000</td>\n",
       "      <td>0.000000</td>\n",
       "      <td>0.000000</td>\n",
       "      <td>0.000000</td>\n",
       "      <td>0.000000</td>\n",
       "      <td>0.000000</td>\n",
       "      <td>0.000000e+00</td>\n",
       "      <td>0.000000e+00</td>\n",
       "    </tr>\n",
       "  </tbody>\n",
       "</table>\n",
       "</div>"
      ],
      "text/plain": [
       "                                               2022-01-01 01:00:00  \\\n",
       "strata iteration field                     id                        \n",
       "0      0         energy_not_served_mwh                    0.000000   \n",
       "                 loss_of_load_p_duration_h                0.000000   \n",
       "                 loss_of_load_p_mw                       -0.000001   \n",
       "                 loss_of_load_p_percentage               -0.000001   \n",
       "       1         energy_not_served_mwh                    0.000000   \n",
       "\n",
       "                                               2022-01-01 02:00:00  \\\n",
       "strata iteration field                     id                        \n",
       "0      0         energy_not_served_mwh                    0.000000   \n",
       "                 loss_of_load_p_duration_h                0.000000   \n",
       "                 loss_of_load_p_mw                       -0.000001   \n",
       "                 loss_of_load_p_percentage               -0.000001   \n",
       "       1         energy_not_served_mwh                    0.000000   \n",
       "\n",
       "                                               2022-01-01 03:00:00  \\\n",
       "strata iteration field                     id                        \n",
       "0      0         energy_not_served_mwh                    0.000000   \n",
       "                 loss_of_load_p_duration_h                0.000000   \n",
       "                 loss_of_load_p_mw                       -0.000001   \n",
       "                 loss_of_load_p_percentage               -0.000001   \n",
       "       1         energy_not_served_mwh                    0.000000   \n",
       "\n",
       "                                               2022-01-01 04:00:00  \\\n",
       "strata iteration field                     id                        \n",
       "0      0         energy_not_served_mwh                    0.000000   \n",
       "                 loss_of_load_p_duration_h                0.000000   \n",
       "                 loss_of_load_p_mw                       -0.000001   \n",
       "                 loss_of_load_p_percentage               -0.000001   \n",
       "       1         energy_not_served_mwh                    0.000000   \n",
       "\n",
       "                                               2022-01-01 05:00:00  \\\n",
       "strata iteration field                     id                        \n",
       "0      0         energy_not_served_mwh                0.000000e+00   \n",
       "                 loss_of_load_p_duration_h            0.000000e+00   \n",
       "                 loss_of_load_p_mw                   -8.995868e-07   \n",
       "                 loss_of_load_p_percentage           -1.681235e-06   \n",
       "       1         energy_not_served_mwh                0.000000e+00   \n",
       "\n",
       "                                               2022-01-01 06:00:00  \\\n",
       "strata iteration field                     id                        \n",
       "0      0         energy_not_served_mwh                0.000000e+00   \n",
       "                 loss_of_load_p_duration_h            0.000000e+00   \n",
       "                 loss_of_load_p_mw                   -9.155220e-07   \n",
       "                 loss_of_load_p_percentage           -1.594724e-06   \n",
       "       1         energy_not_served_mwh                0.000000e+00   \n",
       "\n",
       "                                               2022-01-01 07:00:00  \\\n",
       "strata iteration field                     id                        \n",
       "0      0         energy_not_served_mwh                    0.000000   \n",
       "                 loss_of_load_p_duration_h                0.000000   \n",
       "                 loss_of_load_p_mw                       -0.000001   \n",
       "                 loss_of_load_p_percentage               -0.000001   \n",
       "       1         energy_not_served_mwh                    0.000000   \n",
       "\n",
       "                                               2022-01-01 08:00:00  \\\n",
       "strata iteration field                     id                        \n",
       "0      0         energy_not_served_mwh                    0.000000   \n",
       "                 loss_of_load_p_duration_h                0.000000   \n",
       "                 loss_of_load_p_mw                       -0.000001   \n",
       "                 loss_of_load_p_percentage               -0.000001   \n",
       "       1         energy_not_served_mwh                    0.000000   \n",
       "\n",
       "                                               2022-01-01 09:00:00  \\\n",
       "strata iteration field                     id                        \n",
       "0      0         energy_not_served_mwh                    0.000000   \n",
       "                 loss_of_load_p_duration_h                0.000000   \n",
       "                 loss_of_load_p_mw                       -0.000001   \n",
       "                 loss_of_load_p_percentage               -0.000001   \n",
       "       1         energy_not_served_mwh                    0.000000   \n",
       "\n",
       "                                               2022-01-01 10:00:00  \\\n",
       "strata iteration field                     id                        \n",
       "0      0         energy_not_served_mwh                    0.000000   \n",
       "                 loss_of_load_p_duration_h                0.000000   \n",
       "                 loss_of_load_p_mw                       -0.000001   \n",
       "                 loss_of_load_p_percentage               -0.000001   \n",
       "       1         energy_not_served_mwh                    0.000000   \n",
       "\n",
       "                                               2022-01-01 11:00:00  \\\n",
       "strata iteration field                     id                        \n",
       "0      0         energy_not_served_mwh                    0.000000   \n",
       "                 loss_of_load_p_duration_h                0.000000   \n",
       "                 loss_of_load_p_mw                       -0.000001   \n",
       "                 loss_of_load_p_percentage               -0.000001   \n",
       "       1         energy_not_served_mwh                    0.000000   \n",
       "\n",
       "                                               2022-01-01 12:00:00  \\\n",
       "strata iteration field                     id                        \n",
       "0      0         energy_not_served_mwh                    0.000000   \n",
       "                 loss_of_load_p_duration_h                0.000000   \n",
       "                 loss_of_load_p_mw                       -0.000001   \n",
       "                 loss_of_load_p_percentage               -0.000001   \n",
       "       1         energy_not_served_mwh                    0.000000   \n",
       "\n",
       "                                               2022-01-01 13:00:00  \\\n",
       "strata iteration field                     id                        \n",
       "0      0         energy_not_served_mwh                    0.000000   \n",
       "                 loss_of_load_p_duration_h                0.000000   \n",
       "                 loss_of_load_p_mw                       -0.000001   \n",
       "                 loss_of_load_p_percentage               -0.000001   \n",
       "       1         energy_not_served_mwh                    0.000000   \n",
       "\n",
       "                                               2022-01-01 14:00:00  \\\n",
       "strata iteration field                     id                        \n",
       "0      0         energy_not_served_mwh                    0.000000   \n",
       "                 loss_of_load_p_duration_h                0.000000   \n",
       "                 loss_of_load_p_mw                       -0.000002   \n",
       "                 loss_of_load_p_percentage               -0.000001   \n",
       "       1         energy_not_served_mwh                    0.000000   \n",
       "\n",
       "                                               2022-01-01 15:00:00  \\\n",
       "strata iteration field                     id                        \n",
       "0      0         energy_not_served_mwh                    0.000000   \n",
       "                 loss_of_load_p_duration_h                0.000000   \n",
       "                 loss_of_load_p_mw                       -0.000001   \n",
       "                 loss_of_load_p_percentage               -0.000001   \n",
       "       1         energy_not_served_mwh                    0.000000   \n",
       "\n",
       "                                               2022-01-01 16:00:00  \\\n",
       "strata iteration field                     id                        \n",
       "0      0         energy_not_served_mwh                    0.000000   \n",
       "                 loss_of_load_p_duration_h                0.000000   \n",
       "                 loss_of_load_p_mw                       -0.000002   \n",
       "                 loss_of_load_p_percentage               -0.000001   \n",
       "       1         energy_not_served_mwh                    0.000000   \n",
       "\n",
       "                                               2022-01-01 17:00:00  \\\n",
       "strata iteration field                     id                        \n",
       "0      0         energy_not_served_mwh                    0.000000   \n",
       "                 loss_of_load_p_duration_h                0.000000   \n",
       "                 loss_of_load_p_mw                       -0.000002   \n",
       "                 loss_of_load_p_percentage               -0.000001   \n",
       "       1         energy_not_served_mwh                    0.000000   \n",
       "\n",
       "                                               2022-01-01 18:00:00  \\\n",
       "strata iteration field                     id                        \n",
       "0      0         energy_not_served_mwh                    0.000000   \n",
       "                 loss_of_load_p_duration_h                0.000000   \n",
       "                 loss_of_load_p_mw                       -0.000002   \n",
       "                 loss_of_load_p_percentage               -0.000001   \n",
       "       1         energy_not_served_mwh                    0.000000   \n",
       "\n",
       "                                               2022-01-01 19:00:00  \\\n",
       "strata iteration field                     id                        \n",
       "0      0         energy_not_served_mwh                    0.000000   \n",
       "                 loss_of_load_p_duration_h                0.000000   \n",
       "                 loss_of_load_p_mw                       -0.000001   \n",
       "                 loss_of_load_p_percentage               -0.000001   \n",
       "       1         energy_not_served_mwh                    0.000000   \n",
       "\n",
       "                                               2022-01-01 20:00:00  \\\n",
       "strata iteration field                     id                        \n",
       "0      0         energy_not_served_mwh                    0.000000   \n",
       "                 loss_of_load_p_duration_h                0.000000   \n",
       "                 loss_of_load_p_mw                       -0.000001   \n",
       "                 loss_of_load_p_percentage               -0.000001   \n",
       "       1         energy_not_served_mwh                    0.000000   \n",
       "\n",
       "                                               2022-01-01 21:00:00  \\\n",
       "strata iteration field                     id                        \n",
       "0      0         energy_not_served_mwh                    0.000000   \n",
       "                 loss_of_load_p_duration_h                0.000000   \n",
       "                 loss_of_load_p_mw                       -0.000001   \n",
       "                 loss_of_load_p_percentage               -0.000001   \n",
       "       1         energy_not_served_mwh                    0.000000   \n",
       "\n",
       "                                               2022-01-01 22:00:00  \\\n",
       "strata iteration field                     id                        \n",
       "0      0         energy_not_served_mwh                    0.000000   \n",
       "                 loss_of_load_p_duration_h                0.000000   \n",
       "                 loss_of_load_p_mw                       -0.000001   \n",
       "                 loss_of_load_p_percentage               -0.000001   \n",
       "       1         energy_not_served_mwh                    0.000000   \n",
       "\n",
       "                                               2022-01-01 23:00:00  \\\n",
       "strata iteration field                     id                        \n",
       "0      0         energy_not_served_mwh                    0.000000   \n",
       "                 loss_of_load_p_duration_h                0.000000   \n",
       "                 loss_of_load_p_mw                       -0.000001   \n",
       "                 loss_of_load_p_percentage               -0.000001   \n",
       "       1         energy_not_served_mwh                    0.000000   \n",
       "\n",
       "                                               2022-01-02 00:00:00  \\\n",
       "strata iteration field                     id                        \n",
       "0      0         energy_not_served_mwh                    0.000000   \n",
       "                 loss_of_load_p_duration_h                0.000000   \n",
       "                 loss_of_load_p_mw                       -0.000001   \n",
       "                 loss_of_load_p_percentage               -0.000001   \n",
       "       1         energy_not_served_mwh                    0.000000   \n",
       "\n",
       "                                               2022-01-02 01:00:00  \\\n",
       "strata iteration field                     id                        \n",
       "0      0         energy_not_served_mwh                0.000000e+00   \n",
       "                 loss_of_load_p_duration_h            0.000000e+00   \n",
       "                 loss_of_load_p_mw                   -9.355671e-07   \n",
       "                 loss_of_load_p_percentage           -1.531493e-06   \n",
       "       1         energy_not_served_mwh                0.000000e+00   \n",
       "\n",
       "                                               2022-01-02 02:00:00  \\\n",
       "strata iteration field                     id                        \n",
       "0      0         energy_not_served_mwh                0.000000e+00   \n",
       "                 loss_of_load_p_duration_h            0.000000e+00   \n",
       "                 loss_of_load_p_mw                   -8.934900e-07   \n",
       "                 loss_of_load_p_percentage           -1.638156e-06   \n",
       "       1         energy_not_served_mwh                0.000000e+00   \n",
       "\n",
       "                                               2022-01-02 03:00:00  \\\n",
       "strata iteration field                     id                        \n",
       "0      0         energy_not_served_mwh                0.000000e+00   \n",
       "                 loss_of_load_p_duration_h            0.000000e+00   \n",
       "                 loss_of_load_p_mw                   -8.435032e-07   \n",
       "                 loss_of_load_p_percentage           -1.769467e-06   \n",
       "       1         energy_not_served_mwh                0.000000e+00   \n",
       "\n",
       "                                               2022-01-02 04:00:00  \\\n",
       "strata iteration field                     id                        \n",
       "0      0         energy_not_served_mwh                0.000000e+00   \n",
       "                 loss_of_load_p_duration_h            0.000000e+00   \n",
       "                 loss_of_load_p_mw                   -8.533509e-07   \n",
       "                 loss_of_load_p_percentage           -1.724770e-06   \n",
       "       1         energy_not_served_mwh                0.000000e+00   \n",
       "\n",
       "                                               2022-01-02 05:00:00  \\\n",
       "strata iteration field                     id                        \n",
       "0      0         energy_not_served_mwh                0.000000e+00   \n",
       "                 loss_of_load_p_duration_h            0.000000e+00   \n",
       "                 loss_of_load_p_mw                   -8.655096e-07   \n",
       "                 loss_of_load_p_percentage           -1.695491e-06   \n",
       "       1         energy_not_served_mwh                0.000000e+00   \n",
       "\n",
       "                                               2022-01-02 06:00:00  \\\n",
       "strata iteration field                     id                        \n",
       "0      0         energy_not_served_mwh                0.000000e+00   \n",
       "                 loss_of_load_p_duration_h            0.000000e+00   \n",
       "                 loss_of_load_p_mw                   -8.781418e-07   \n",
       "                 loss_of_load_p_percentage           -1.686001e-06   \n",
       "       1         energy_not_served_mwh                0.000000e+00   \n",
       "\n",
       "                                               2022-01-02 07:00:00  \\\n",
       "strata iteration field                     id                        \n",
       "0      0         energy_not_served_mwh                0.000000e+00   \n",
       "                 loss_of_load_p_duration_h            0.000000e+00   \n",
       "                 loss_of_load_p_mw                   -9.818739e-07   \n",
       "                 loss_of_load_p_percentage           -1.531184e-06   \n",
       "       1         energy_not_served_mwh                0.000000e+00   \n",
       "\n",
       "                                               2022-01-02 08:00:00  \\\n",
       "strata iteration field                     id                        \n",
       "0      0         energy_not_served_mwh                    0.000000   \n",
       "                 loss_of_load_p_duration_h                0.000000   \n",
       "                 loss_of_load_p_mw                       -0.000001   \n",
       "                 loss_of_load_p_percentage               -0.000001   \n",
       "       1         energy_not_served_mwh                    0.000000   \n",
       "\n",
       "                                               2022-01-02 09:00:00  \\\n",
       "strata iteration field                     id                        \n",
       "0      0         energy_not_served_mwh                    0.000000   \n",
       "                 loss_of_load_p_duration_h                0.000000   \n",
       "                 loss_of_load_p_mw                       -0.000001   \n",
       "                 loss_of_load_p_percentage               -0.000001   \n",
       "       1         energy_not_served_mwh                    0.000000   \n",
       "\n",
       "                                               2022-01-02 10:00:00  \\\n",
       "strata iteration field                     id                        \n",
       "0      0         energy_not_served_mwh                    0.000000   \n",
       "                 loss_of_load_p_duration_h                0.000000   \n",
       "                 loss_of_load_p_mw                       -0.000001   \n",
       "                 loss_of_load_p_percentage               -0.000001   \n",
       "       1         energy_not_served_mwh                    0.000000   \n",
       "\n",
       "                                               2022-01-02 11:00:00  \\\n",
       "strata iteration field                     id                        \n",
       "0      0         energy_not_served_mwh                    0.000000   \n",
       "                 loss_of_load_p_duration_h                0.000000   \n",
       "                 loss_of_load_p_mw                       -0.000001   \n",
       "                 loss_of_load_p_percentage               -0.000001   \n",
       "       1         energy_not_served_mwh                    0.000000   \n",
       "\n",
       "                                               2022-01-02 12:00:00  \\\n",
       "strata iteration field                     id                        \n",
       "0      0         energy_not_served_mwh                    0.000000   \n",
       "                 loss_of_load_p_duration_h                0.000000   \n",
       "                 loss_of_load_p_mw                       -0.000001   \n",
       "                 loss_of_load_p_percentage               -0.000001   \n",
       "       1         energy_not_served_mwh                    0.000000   \n",
       "\n",
       "                                               2022-01-02 13:00:00  \\\n",
       "strata iteration field                     id                        \n",
       "0      0         energy_not_served_mwh                    0.000000   \n",
       "                 loss_of_load_p_duration_h                0.000000   \n",
       "                 loss_of_load_p_mw                       -0.000002   \n",
       "                 loss_of_load_p_percentage               -0.000001   \n",
       "       1         energy_not_served_mwh                    0.000000   \n",
       "\n",
       "                                               2022-01-02 14:00:00  \\\n",
       "strata iteration field                     id                        \n",
       "0      0         energy_not_served_mwh                    0.000000   \n",
       "                 loss_of_load_p_duration_h                0.000000   \n",
       "                 loss_of_load_p_mw                       -0.000002   \n",
       "                 loss_of_load_p_percentage               -0.000001   \n",
       "       1         energy_not_served_mwh                    0.000000   \n",
       "\n",
       "                                               2022-01-02 15:00:00  \\\n",
       "strata iteration field                     id                        \n",
       "0      0         energy_not_served_mwh                    0.000000   \n",
       "                 loss_of_load_p_duration_h                0.000000   \n",
       "                 loss_of_load_p_mw                       -0.000001   \n",
       "                 loss_of_load_p_percentage               -0.000001   \n",
       "       1         energy_not_served_mwh                    0.000000   \n",
       "\n",
       "                                               2022-01-02 16:00:00  \\\n",
       "strata iteration field                     id                        \n",
       "0      0         energy_not_served_mwh                    0.000000   \n",
       "                 loss_of_load_p_duration_h                0.000000   \n",
       "                 loss_of_load_p_mw                       -0.000002   \n",
       "                 loss_of_load_p_percentage               -0.000001   \n",
       "       1         energy_not_served_mwh                    0.000000   \n",
       "\n",
       "                                               2022-01-02 17:00:00  \\\n",
       "strata iteration field                     id                        \n",
       "0      0         energy_not_served_mwh                    0.000000   \n",
       "                 loss_of_load_p_duration_h                0.000000   \n",
       "                 loss_of_load_p_mw                       -0.000002   \n",
       "                 loss_of_load_p_percentage               -0.000001   \n",
       "       1         energy_not_served_mwh                    0.000000   \n",
       "\n",
       "                                               2022-01-02 18:00:00  \\\n",
       "strata iteration field                     id                        \n",
       "0      0         energy_not_served_mwh                    0.000000   \n",
       "                 loss_of_load_p_duration_h                0.000000   \n",
       "                 loss_of_load_p_mw                       -0.000001   \n",
       "                 loss_of_load_p_percentage               -0.000001   \n",
       "       1         energy_not_served_mwh                    0.000000   \n",
       "\n",
       "                                               2022-01-02 19:00:00  \\\n",
       "strata iteration field                     id                        \n",
       "0      0         energy_not_served_mwh                    0.000000   \n",
       "                 loss_of_load_p_duration_h                0.000000   \n",
       "                 loss_of_load_p_mw                       -0.000002   \n",
       "                 loss_of_load_p_percentage               -0.000001   \n",
       "       1         energy_not_served_mwh                    0.000000   \n",
       "\n",
       "                                               2022-01-02 20:00:00  \\\n",
       "strata iteration field                     id                        \n",
       "0      0         energy_not_served_mwh                    0.000000   \n",
       "                 loss_of_load_p_duration_h                0.000000   \n",
       "                 loss_of_load_p_mw                       -0.000002   \n",
       "                 loss_of_load_p_percentage               -0.000001   \n",
       "       1         energy_not_served_mwh                    0.000000   \n",
       "\n",
       "                                               2022-01-02 21:00:00  \\\n",
       "strata iteration field                     id                        \n",
       "0      0         energy_not_served_mwh                    0.000000   \n",
       "                 loss_of_load_p_duration_h                0.000000   \n",
       "                 loss_of_load_p_mw                       -0.000001   \n",
       "                 loss_of_load_p_percentage               -0.000001   \n",
       "       1         energy_not_served_mwh                    0.000000   \n",
       "\n",
       "                                               2022-01-02 22:00:00  \\\n",
       "strata iteration field                     id                        \n",
       "0      0         energy_not_served_mwh                    0.000000   \n",
       "                 loss_of_load_p_duration_h                0.000000   \n",
       "                 loss_of_load_p_mw                       -0.000001   \n",
       "                 loss_of_load_p_percentage               -0.000001   \n",
       "       1         energy_not_served_mwh                    0.000000   \n",
       "\n",
       "                                               2022-01-02 23:00:00  \\\n",
       "strata iteration field                     id                        \n",
       "0      0         energy_not_served_mwh                    0.000000   \n",
       "                 loss_of_load_p_duration_h                0.000000   \n",
       "                 loss_of_load_p_mw                       -0.000001   \n",
       "                 loss_of_load_p_percentage               -0.000001   \n",
       "       1         energy_not_served_mwh                    0.000000   \n",
       "\n",
       "                                               2022-01-03 00:00:00  \\\n",
       "strata iteration field                     id                        \n",
       "0      0         energy_not_served_mwh                    0.000000   \n",
       "                 loss_of_load_p_duration_h                0.000000   \n",
       "                 loss_of_load_p_mw                       -0.000001   \n",
       "                 loss_of_load_p_percentage               -0.000001   \n",
       "       1         energy_not_served_mwh                    0.000000   \n",
       "\n",
       "                                               2022-01-03 01:00:00  \\\n",
       "strata iteration field                     id                        \n",
       "0      0         energy_not_served_mwh                0.000000e+00   \n",
       "                 loss_of_load_p_duration_h            0.000000e+00   \n",
       "                 loss_of_load_p_mw                   -9.438978e-07   \n",
       "                 loss_of_load_p_percentage           -1.563091e-06   \n",
       "       1         energy_not_served_mwh                0.000000e+00   \n",
       "\n",
       "                                               2022-01-03 02:00:00  \n",
       "strata iteration field                     id                       \n",
       "0      0         energy_not_served_mwh                0.000000e+00  \n",
       "                 loss_of_load_p_duration_h            0.000000e+00  \n",
       "                 loss_of_load_p_mw                   -8.845855e-07  \n",
       "                 loss_of_load_p_percentage           -1.672411e-06  \n",
       "       1         energy_not_served_mwh                0.000000e+00  "
      ]
     },
     "execution_count": 5,
     "metadata": {},
     "output_type": "execute_result"
    }
   ],
   "source": [
    "simulation.results.loc[:,:,:,'network',:].head()"
   ]
  }
 ],
 "metadata": {
  "kernelspec": {
   "display_name": "venv",
   "language": "python",
   "name": "python3"
  },
  "language_info": {
   "codemirror_mode": {
    "name": "ipython",
    "version": 3
   },
   "file_extension": ".py",
   "mimetype": "text/x-python",
   "name": "python",
   "nbconvert_exporter": "python",
   "pygments_lexer": "ipython3",
   "version": "3.10.10"
  }
 },
 "nbformat": 4,
 "nbformat_minor": 5
}
