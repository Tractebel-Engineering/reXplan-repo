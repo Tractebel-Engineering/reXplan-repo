{
 "cells": [
  {
   "cell_type": "markdown",
   "id": "valid-preference",
   "metadata": {},
   "source": [
    "# Hazards\n",
    "Hazards are located in the \\input\\*MyProject*\\hazards directory.\n",
    "There are three available methods to define a hazard:\n",
    "\n",
    "    - Through a NetCDF file (.nc) containing the event intensity for each relevent coordinate and timestamp.\n",
    "    - Through a trajectory.csv file containing the trajectory of the event's epicenter.\n",
    "    - Using a static event by defining the event intensity to be considered for all power elements."
   ]
  },
  {
   "cell_type": "code",
   "execution_count": null,
   "id": "entire-canyon",
   "metadata": {
    "tags": []
   },
   "outputs": [
    {
     "name": "stdout",
     "output_type": "stream",
     "text": [
      "Warning: towers_1 - Interpolation method not recognized/not provided. Using linear interpolation instead.\n",
      "Warning: towers_2 - Interpolation method not recognized/not provided. Using linear interpolation instead.\n",
      "Warning: gen_1 - Interpolation method not recognized/not provided. Using linear interpolation instead.\n",
      "Warning: gen_2 - Interpolation method not recognized/not provided. Using linear interpolation instead.\n",
      "Network for study case <case_netcdf_hazard> initialized.\n"
     ]
    }
   ],
   "source": [
    "import reXplan as rx\n",
    "\n",
    "rx.config.path.SetWorkspaceFolder('Examples')\n",
    "simulationName = 'case_single_hazard'\n",
    "network = rx.network.Network(simulationName)"
   ]
  },
  {
   "cell_type": "markdown",
   "id": "60ad61ce",
   "metadata": {},
   "source": [
    "### Method 1: Generate a hazard element by reading a .nc file"
   ]
  },
  {
   "cell_type": "code",
   "execution_count": null,
   "id": "d2d5109b",
   "metadata": {},
   "outputs": [],
   "source": [
    "network.event.hazardFromNC('sythetic_data.nc')\n",
    "#fig, ax = network.event.plot(10, projection='cyl', edge_pad=0)\n",
    "#network.event.plot_gif('sythetic_data.gif', speed=3, projection='cyl', edge_pad=0)"
   ]
  },
  {
   "cell_type": "markdown",
   "id": "22b02d88",
   "metadata": {},
   "source": [
    "![method1](Examples/input/case_netcdf_hazard/hazards/gif/sythetic_data.gif \"method1\")"
   ]
  },
  {
   "cell_type": "markdown",
   "id": "efe02c6e",
   "metadata": {},
   "source": [
    "### Method 2: Generate a hazard element by reading a trajectory csv file"
   ]
  },
  {
   "cell_type": "code",
   "execution_count": null,
   "id": "a06f1fe9",
   "metadata": {},
   "outputs": [],
   "source": [
    "from datetime import date as dt_date\n",
    "\n",
    "network.event.hazardFromTrajectory('trajectory.csv', \n",
    "                                   max_intensity=60., max_radius=50., \n",
    "                                   sdate = dt_date(2022,4,1), edate = dt_date(2022,4,3), \n",
    "                                   geodata1 = rx.network.GeoData(47.4,5.8), geodata2 = rx.network.GeoData(54.9,15.0),\n",
    "                                   delta_km=10, frequency='1H')\n",
    "\n",
    "#fig, ax = network.event.plot(10, projection='cyl', edge_pad=0)\n",
    "#network.event.plot_gif('trajectory.gif', speed=3, projection='cyl', edge_pad=0)"
   ]
  },
  {
   "cell_type": "markdown",
   "id": "69ff8c44",
   "metadata": {},
   "source": [
    "![method2](Examples/input/case_netcdf_hazard/hazards/gif/trajectory.gif \"method2\")"
   ]
  },
  {
   "cell_type": "markdown",
   "id": "68db2f05",
   "metadata": {},
   "source": [
    "### Method 3: Generate a static hazard element by providing the location of the epicenter"
   ]
  },
  {
   "cell_type": "code",
   "execution_count": null,
   "id": "83bc3ba3",
   "metadata": {},
   "outputs": [],
   "source": [
    "network.event.hazardFromStaticInput('static_event.nc',\n",
    "                                    max_intensity=90, max_radius=100,\n",
    "                                    sdate = dt_date(2022,4,1), edate = dt_date(2022,4,3),\n",
    "                                    geodata1 = rx.network.GeoData(47.4,5.8), geodata2 = rx.network.GeoData(54.9,15.0),\n",
    "                                    delta_km=10,\n",
    "                                    epicenter_lat=50, epicenter_lon=9,\n",
    "                                    frequency='1H', epicenter_radius=1, epicenter_intensity=1)\n",
    "\n",
    "#fig, ax = network.event.plot(10, projection='cyl', edge_pad=0)\n",
    "#network.event.plot_gif('static_event.gif', speed=3, projection='cyl', edge_pad=0)"
   ]
  },
  {
   "cell_type": "markdown",
   "id": "a464569d",
   "metadata": {},
   "source": [
    "![method3](Examples/input/case_netcdf_hazard/hazards/gif/static_event.gif \"method3\")"
   ]
  }
 ],
 "metadata": {
  "kernelspec": {
   "display_name": "venv",
   "language": "python",
   "name": "python3"
  },
  "language_info": {
   "codemirror_mode": {
    "name": "ipython",
    "version": 3
   },
   "file_extension": ".py",
   "mimetype": "text/x-python",
   "name": "python",
   "nbconvert_exporter": "python",
   "pygments_lexer": "ipython3",
   "version": "3.10.10"
  }
 },
 "nbformat": 4,
 "nbformat_minor": 5
}
