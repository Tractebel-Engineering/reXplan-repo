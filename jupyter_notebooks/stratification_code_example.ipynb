{
 "cells": [
  {
   "cell_type": "code",
   "execution_count": 1,
   "id": "internal-graph",
   "metadata": {},
   "outputs": [],
   "source": [
    "import numpy as np\n",
    "import math\n",
    "import matplotlib.pyplot as plt"
   ]
  },
  {
   "cell_type": "code",
   "execution_count": 2,
   "id": "beautiful-brave",
   "metadata": {},
   "outputs": [
    {
     "data": {
      "text/plain": [
       "Text(0.5, 1.0, 'Return Period')"
      ]
     },
     "execution_count": 2,
     "metadata": {},
     "output_type": "execute_result"
    },
    {
     "data": {
      "image/png": "[encoded data removed]",
      "text/plain": [
       "<Figure size 432x288 with 1 Axes>"
      ]
     },
     "metadata": {
      "needs_background": "light"
     },
     "output_type": "display_data"
    }
   ],
   "source": [
    "a = 0.145329158\n",
    "b = 0.546101744\n",
    "return_period_f = (lambda x: math.exp((x-b)/a))\n",
    "\n",
    "x_min = 0.722\n",
    "x_max = 1.5\n",
    "N = 10000\n",
    "water_level = np.linspace(x_min,x_max,N)\n",
    "\n",
    "prob_failure_f = (lambda x: 0.9/0.7*x+(0.1-0.9/0.7*0.8))\n",
    "\n",
    "plt.plot([return_period_f(x) for x in water_level],water_level)\n",
    "plt.ylabel('Water Level [m]')\n",
    "plt.xlabel('Time [years]')\n",
    "plt.title('Return Period')"
   ]
  },
  {
   "cell_type": "code",
   "execution_count": 3,
   "id": "rotary-birmingham",
   "metadata": {},
   "outputs": [
    {
     "name": "stderr",
     "output_type": "stream",
     "text": [
      "100% (11 of 11) |########################| Elapsed Time: 0:00:00 Time:  0:00:00\n"
     ]
    },
    {
     "name": "stdout",
     "output_type": "stream",
     "text": [
      "LinearGAM                                                                                                 \n",
      "=============================================== ==========================================================\n",
      "Distribution:                        NormalDist Effective DoF:                                      4.8777\n",
      "Link Function:                     IdentityLink Log Likelihood:                                  -890.1439\n",
      "Number of Samples:                           11 AIC:                                             1792.0432\n",
      "                                                AICc:                                            1811.6563\n",
      "                                                GCV:                                                0.0126\n",
      "                                                Scale:                                              0.0032\n",
      "                                                Pseudo R-Squared:                                   0.9679\n",
      "==========================================================================================================\n",
      "Feature Function                  Lambda               Rank         EDoF         P > x        Sig. Code   \n",
      "================================= ==================== ============ ============ ============ ============\n",
      "s(0)                              [0.0631]             11                        1.95e-04     ***         \n",
      "intercept                                              1                         3.28e-09     ***         \n",
      "==========================================================================================================\n",
      "Significance codes:  0 '***' 0.001 '**' 0.01 '*' 0.05 '.' 0.1 ' ' 1\n",
      "\n",
      "WARNING: Fitting splines and a linear function to a feature introduces a model identifiability problem\n",
      "         which can cause p-values to appear significant when they are not.\n",
      "\n",
      "WARNING: p-values calculated in this manner behave correctly for un-penalized models or models with\n",
      "         known smoothing parameters, but when smoothing parameters have been estimated, the p-values\n",
      "         are typically lower than they should be, meaning that the tests reject the null too readily.\n"
     ]
    },
    {
     "name": "stderr",
     "output_type": "stream",
     "text": [
      "<ipython-input-3-4e55d3968d13>:9: UserWarning: KNOWN BUG: p-values computed in this summary are likely much smaller than they should be. \n",
      " \n",
      "Please do not make inferences based on these values! \n",
      "\n",
      "Collaborate on a solution, and stay up to date at: \n",
      "github.com/dswah/pyGAM/issues/163 \n",
      "\n",
      "  gam.summary()\n"
     ]
    }
   ],
   "source": [
    "import pandas as pd\n",
    "df = pd.read_csv(r'return_period.csv', sep=';',header=0)\n",
    "X = np.array([[i] for i in df['return period'].values])\n",
    "y = df['intensity'].values\n",
    "\n",
    "from pygam import LinearGAM, s, f\n",
    "\n",
    "gam = LinearGAM(s(0, n_splines=len(X))).gridsearch(X, y)\n",
    "gam.summary()"
   ]
  },
  {
   "cell_type": "code",
   "execution_count": 5,
   "id": "noted-brunswick",
   "metadata": {},
   "outputs": [
    {
     "data": {
      "image/png": "[encoded data removed]",
      "text/plain": [
       "<Figure size 432x288 with 1 Axes>"
      ]
     },
     "metadata": {
      "needs_background": "light"
     },
     "output_type": "display_data"
    },
    {
     "data": {
      "image/png": "[encoded data removed]",
      "text/plain": [
       "<Figure size 432x288 with 1 Axes>"
      ]
     },
     "metadata": {
      "needs_background": "light"
     },
     "output_type": "display_data"
    }
   ],
   "source": [
    "XX = np.linspace(3,1000,1000)\n",
    "\n",
    "pdep, confi = gam.partial_dependence(term=0, X=XX, width=0.95)\n",
    "\n",
    "plt.figure()\n",
    "plt.plot(XX, gam.predict(XX))\n",
    "plt.scatter(X, y, facecolor='gray', edgecolors='none')\n",
    "plt.title('GAM fitting')\n",
    "\n",
    "plt.figure()\n",
    "plt.plot(XX, confi, c='b', ls='--')\n",
    "plt.plot(XX, pdep, 'r--')\n",
    "plt.title('95% prediction interval')\n",
    "\n",
    "plt.show()"
   ]
  },
  {
   "cell_type": "code",
   "execution_count": 6,
   "id": "creative-phase",
   "metadata": {},
   "outputs": [
    {
     "data": {
      "text/plain": [
       "Text(0.5, 1.0, 'CDF of Hazard Intensity')"
      ]
     },
     "execution_count": 6,
     "metadata": {},
     "output_type": "execute_result"
    },
    {
     "data": {
      "image/png": "[encoded data removed]",
      "text/plain": [
       "<Figure size 432x288 with 1 Axes>"
      ]
     },
     "metadata": {
      "needs_background": "light"
     },
     "output_type": "display_data"
    }
   ],
   "source": [
    "CDF_water_level_f = (lambda x: 1-1/return_period_f(x))\n",
    "\n",
    "plt.plot(water_level, [CDF_water_level_f(x) for x in water_level])\n",
    "plt.ylabel('CDF')\n",
    "plt.xlabel('Water Level [m]')\n",
    "plt.title('CDF of Hazard Intensity')\n",
    "#plt.show()"
   ]
  },
  {
   "cell_type": "code",
   "execution_count": 7,
   "id": "academic-deputy",
   "metadata": {},
   "outputs": [
    {
     "data": {
      "text/plain": [
       "<matplotlib.legend.Legend at 0x26a6be44820>"
      ]
     },
     "execution_count": 7,
     "metadata": {},
     "output_type": "execute_result"
    },
    {
     "data": {
      "image/png": "[encoded data removed]",
      "text/plain": [
       "<Figure size 432x288 with 1 Axes>"
      ]
     },
     "metadata": {
      "needs_background": "light"
     },
     "output_type": "display_data"
    }
   ],
   "source": [
    "from pynverse import inversefunc\n",
    "inv_CDF_water_level_f = inversefunc(CDF_water_level_f)\n",
    "\n",
    "CDF_samples = np.linspace(CDF_water_level_f(x_min),CDF_water_level_f(x_max),N)\n",
    "water_level_resampled = [inv_CDF_water_level_f(cdf) for cdf in CDF_samples]\n",
    "\n",
    "hist1 = plt.hist(np.hstack(water_level_resampled), bins=20 ,density=True, label='x resampled')\n",
    "\n",
    "plt.ylabel('Density')\n",
    "plt.xlabel('Water Level [m]')\n",
    "plt.title('PDF of Hazard Intensity')\n",
    "plt.legend()\n",
    "\n"
   ]
  },
  {
   "cell_type": "code",
   "execution_count": 8,
   "id": "forty-rouge",
   "metadata": {},
   "outputs": [
    {
     "data": {
      "text/plain": [
       "Text(0.5, 1.0, 'PDF of the Probability of Equipment Failure')"
      ]
     },
     "execution_count": 8,
     "metadata": {},
     "output_type": "execute_result"
    },
    {
     "data": {
      "image/png": "[encoded data removed]",
      "text/plain": [
       "<Figure size 432x288 with 1 Axes>"
      ]
     },
     "metadata": {
      "needs_background": "light"
     },
     "output_type": "display_data"
    }
   ],
   "source": [
    "z = [prob_failure_f(x) for x in water_level_resampled]\n",
    "\n",
    "plt.hist(z, density=True, bins=20)\n",
    "\n",
    "plt.ylabel('Density')\n",
    "plt.xlabel('Probability of Equipment Failure')\n",
    "plt.title('PDF of the Probability of Equipment Failure')"
   ]
  },
  {
   "cell_type": "code",
   "execution_count": 9,
   "id": "thrown-russia",
   "metadata": {},
   "outputs": [
    {
     "data": {
      "text/html": [
       "<div>\n",
       "<style scoped>\n",
       "    .dataframe tbody tr th:only-of-type {\n",
       "        vertical-align: middle;\n",
       "    }\n",
       "\n",
       "    .dataframe tbody tr th {\n",
       "        vertical-align: top;\n",
       "    }\n",
       "\n",
       "    .dataframe thead th {\n",
       "        text-align: right;\n",
       "    }\n",
       "</style>\n",
       "<table border=\"1\" class=\"dataframe\">\n",
       "  <thead>\n",
       "    <tr style=\"text-align: right;\">\n",
       "      <th></th>\n",
       "      <th>cluster label</th>\n",
       "      <th>lower boundary</th>\n",
       "      <th>upper boundary</th>\n",
       "      <th>Nh</th>\n",
       "      <th>var</th>\n",
       "      <th>std</th>\n",
       "      <th>mean</th>\n",
       "    </tr>\n",
       "  </thead>\n",
       "  <tbody>\n",
       "    <tr>\n",
       "      <th>2</th>\n",
       "      <td>2</td>\n",
       "      <td>-0.000286</td>\n",
       "      <td>0.128811</td>\n",
       "      <td>5013</td>\n",
       "      <td>0.001357</td>\n",
       "      <td>0.036836</td>\n",
       "      <td>0.056890</td>\n",
       "    </tr>\n",
       "    <tr>\n",
       "      <th>1</th>\n",
       "      <td>1</td>\n",
       "      <td>0.128848</td>\n",
       "      <td>0.296463</td>\n",
       "      <td>2982</td>\n",
       "      <td>0.002252</td>\n",
       "      <td>0.047451</td>\n",
       "      <td>0.200295</td>\n",
       "    </tr>\n",
       "    <tr>\n",
       "      <th>0</th>\n",
       "      <td>0</td>\n",
       "      <td>0.296554</td>\n",
       "      <td>0.537324</td>\n",
       "      <td>1487</td>\n",
       "      <td>0.004462</td>\n",
       "      <td>0.066798</td>\n",
       "      <td>0.391790</td>\n",
       "    </tr>\n",
       "    <tr>\n",
       "      <th>3</th>\n",
       "      <td>3</td>\n",
       "      <td>0.537655</td>\n",
       "      <td>1.000000</td>\n",
       "      <td>518</td>\n",
       "      <td>0.013541</td>\n",
       "      <td>0.116365</td>\n",
       "      <td>0.682158</td>\n",
       "    </tr>\n",
       "  </tbody>\n",
       "</table>\n",
       "</div>"
      ],
      "text/plain": [
       "   cluster label  lower boundary  upper boundary    Nh       var       std  \\\n",
       "2              2       -0.000286        0.128811  5013  0.001357  0.036836   \n",
       "1              1        0.128848        0.296463  2982  0.002252  0.047451   \n",
       "0              0        0.296554        0.537324  1487  0.004462  0.066798   \n",
       "3              3        0.537655        1.000000   518  0.013541  0.116365   \n",
       "\n",
       "       mean  \n",
       "2  0.056890  \n",
       "1  0.200295  \n",
       "0  0.391790  \n",
       "3  0.682158  "
      ]
     },
     "execution_count": 9,
     "metadata": {},
     "output_type": "execute_result"
    }
   ],
   "source": [
    "from sklearn.cluster import KMeans\n",
    "import pandas as pd\n",
    "\n",
    "data = np.column_stack((np.array(z),np.zeros(len(z))))\n",
    "n_clusters = 4\n",
    "\n",
    "kmeans = KMeans(init=\"random\", n_clusters=n_clusters,\n",
    "                n_init=100, max_iter=300).fit(data)\n",
    "\n",
    "maxs, mins, nh, var, mean, std = [], [], [], [], [], []\n",
    "for cluster in range(n_clusters):\n",
    "    maxs.append(np.array(z)[np.where(kmeans.labels_==cluster)].max())\n",
    "    mins.append(np.array(z)[np.where(kmeans.labels_==cluster)].min())\n",
    "    nh.append(np.count_nonzero(kmeans.labels_==cluster))\n",
    "    var.append(np.var(np.array(z)[np.where(kmeans.labels_==cluster)]))\n",
    "    std.append(np.std(np.array(z)[np.where(kmeans.labels_==cluster)]))\n",
    "    mean.append(np.mean(np.array(z)[np.where(kmeans.labels_==cluster)]))\n",
    "\n",
    "labels = list(range(n_clusters))\n",
    "results = [[i1,i2,i3,i4,i5,i6,i7] for (i1,i2,i3,i4,i5,i6,i7) in zip(labels, mins, maxs, nh, var, std, mean)]\n",
    "\n",
    "df = pd.DataFrame(results, columns=['cluster label', 'lower boundary', 'upper boundary', 'Nh', 'var', 'std', 'mean'])\n",
    "df.sort_values(by=['lower boundary'])"
   ]
  },
  {
   "cell_type": "code",
   "execution_count": 10,
   "id": "alone-girlfriend",
   "metadata": {},
   "outputs": [
    {
     "data": {
      "text/plain": [
       "Text(0.5, 1.0, 'Culuster using kmeans; k=4')"
      ]
     },
     "execution_count": 10,
     "metadata": {},
     "output_type": "execute_result"
    },
    {
     "data": {
      "image/png": "[encoded data removed]",
      "text/plain": [
       "<Figure size 432x288 with 1 Axes>"
      ]
     },
     "metadata": {
      "needs_background": "light"
     },
     "output_type": "display_data"
    }
   ],
   "source": [
    "plt.hist(z, density=True, bins=20)\n",
    "for b in maxs:\n",
    "    plt.axvline(x = b, color = 'r')\n",
    "\n",
    "plt.ylabel('Density')\n",
    "plt.xlabel('Probability of Equipment Failure')\n",
    "plt.title('Culuster using kmeans; k=4')"
   ]
  },
  {
   "cell_type": "code",
   "execution_count": 11,
   "id": "prospective-greensboro",
   "metadata": {},
   "outputs": [
    {
     "data": {
      "text/plain": [
       "Text(0.5, 1.0, 'Culuster using Jenks natural breaks; k=4')"
      ]
     },
     "execution_count": 11,
     "metadata": {},
     "output_type": "execute_result"
    },
    {
     "data": {
      "image/png": "[encoded data removed]",
      "text/plain": [
       "<Figure size 432x288 with 1 Axes>"
      ]
     },
     "metadata": {
      "needs_background": "light"
     },
     "output_type": "display_data"
    }
   ],
   "source": [
    "import jenkspy as jp\n",
    "bins=jp.jenks_breaks(z, n_classes=n_clusters)\n",
    "\n",
    "plt.hist(z, density=True, bins=20)\n",
    "for b in bins:\n",
    "    plt.axvline(x = b, color = 'r')\n",
    "\n",
    "plt.ylabel('Density')\n",
    "plt.xlabel('Probability of Equipment Failure')\n",
    "plt.title('Culuster using Jenks natural breaks; k=4')"
   ]
  },
  {
   "cell_type": "code",
   "execution_count": 12,
   "id": "social-jason",
   "metadata": {},
   "outputs": [
    {
     "data": {
      "text/html": [
       "<div>\n",
       "<style scoped>\n",
       "    .dataframe tbody tr th:only-of-type {\n",
       "        vertical-align: middle;\n",
       "    }\n",
       "\n",
       "    .dataframe tbody tr th {\n",
       "        vertical-align: top;\n",
       "    }\n",
       "\n",
       "    .dataframe thead th {\n",
       "        text-align: right;\n",
       "    }\n",
       "</style>\n",
       "<table border=\"1\" class=\"dataframe\">\n",
       "  <thead>\n",
       "    <tr style=\"text-align: right;\">\n",
       "      <th></th>\n",
       "      <th>cluster label</th>\n",
       "      <th>lower boundary</th>\n",
       "      <th>upper boundary</th>\n",
       "      <th>Nh</th>\n",
       "      <th>var</th>\n",
       "      <th>std</th>\n",
       "      <th>mean</th>\n",
       "    </tr>\n",
       "  </thead>\n",
       "  <tbody>\n",
       "    <tr>\n",
       "      <th>0</th>\n",
       "      <td>0</td>\n",
       "      <td>-0.000286</td>\n",
       "      <td>0.127038</td>\n",
       "      <td>4965</td>\n",
       "      <td>0.001321</td>\n",
       "      <td>0.036342</td>\n",
       "      <td>0.056203</td>\n",
       "    </tr>\n",
       "    <tr>\n",
       "      <th>1</th>\n",
       "      <td>1</td>\n",
       "      <td>0.127075</td>\n",
       "      <td>0.292946</td>\n",
       "      <td>2991</td>\n",
       "      <td>0.002207</td>\n",
       "      <td>0.046976</td>\n",
       "      <td>0.197902</td>\n",
       "    </tr>\n",
       "    <tr>\n",
       "      <th>2</th>\n",
       "      <td>2</td>\n",
       "      <td>0.293035</td>\n",
       "      <td>0.533077</td>\n",
       "      <td>1513</td>\n",
       "      <td>0.004437</td>\n",
       "      <td>0.066611</td>\n",
       "      <td>0.388055</td>\n",
       "    </tr>\n",
       "    <tr>\n",
       "      <th>3</th>\n",
       "      <td>3</td>\n",
       "      <td>0.533401</td>\n",
       "      <td>0.996111</td>\n",
       "      <td>530</td>\n",
       "      <td>0.013555</td>\n",
       "      <td>0.116425</td>\n",
       "      <td>0.677958</td>\n",
       "    </tr>\n",
       "  </tbody>\n",
       "</table>\n",
       "</div>"
      ],
      "text/plain": [
       "   cluster label  lower boundary  upper boundary    Nh       var       std  \\\n",
       "0              0       -0.000286        0.127038  4965  0.001321  0.036342   \n",
       "1              1        0.127075        0.292946  2991  0.002207  0.046976   \n",
       "2              2        0.293035        0.533077  1513  0.004437  0.066611   \n",
       "3              3        0.533401        0.996111   530  0.013555  0.116425   \n",
       "\n",
       "       mean  \n",
       "0  0.056203  \n",
       "1  0.197902  \n",
       "2  0.388055  \n",
       "3  0.677958  "
      ]
     },
     "execution_count": 12,
     "metadata": {},
     "output_type": "execute_result"
    }
   ],
   "source": [
    "maxs, mins, nh, var, mean, std = [], [], [], [], [], []\n",
    "for i in range(n_clusters):\n",
    "    data_i = np.array(z)[np.where((z>= bins[i]) & (z<bins[i+1]))]\n",
    "\n",
    "    maxs.append(data_i.max())\n",
    "    mins.append(data_i.min())\n",
    "    nh.append(np.count_nonzero(data_i))\n",
    "    var.append(np.var(data_i))\n",
    "    std.append(np.std(data_i))\n",
    "    mean.append(np.mean(data_i))\n",
    "\n",
    "labels = list(range(n_clusters))\n",
    "results = [[i1,i2,i3,i4,i5,i6,i7] for (i1,i2,i3,i4,i5,i6,i7) in zip(labels, mins, maxs, nh, var, std, mean)]\n",
    "\n",
    "df = pd.DataFrame(results, columns=['cluster label', 'lower boundary', 'upper boundary', 'Nh', 'var', 'std', 'mean'])\n",
    "df.sort_values(by=['lower boundary'])"
   ]
  },
  {
   "cell_type": "code",
   "execution_count": 13,
   "id": "preceding-newark",
   "metadata": {},
   "outputs": [
    {
     "data": {
      "text/plain": [
       "0.02151917760896271"
      ]
     },
     "execution_count": 13,
     "metadata": {},
     "output_type": "execute_result"
    }
   ],
   "source": [
    "df['var'].sum()"
   ]
  },
  {
   "cell_type": "code",
   "execution_count": 14,
   "id": "greek-necklace",
   "metadata": {},
   "outputs": [],
   "source": [
    "# dictionary of lists  \n",
    "dict = {'z': z}  \n",
    "df = pd.DataFrame(dict) \n",
    "# saving the dataframe \n",
    "df.to_csv('z_data.csv')"
   ]
  },
  {
   "cell_type": "code",
   "execution_count": null,
   "id": "academic-external",
   "metadata": {},
   "outputs": [],
   "source": [
    "bins"
   ]
  },
  {
   "cell_type": "code",
   "execution_count": null,
   "id": "original-little",
   "metadata": {},
   "outputs": [],
   "source": [
    "CDF_samples"
   ]
  },
  {
   "cell_type": "code",
   "execution_count": null,
   "id": "adaptive-store",
   "metadata": {},
   "outputs": [],
   "source": []
  }
 ],
 "metadata": {
  "kernelspec": {
   "display_name": "Python 3",
   "language": "python",
   "name": "python3"
  },
  "language_info": {
   "codemirror_mode": {
    "name": "ipython",
    "version": 3
   },
   "file_extension": ".py",
   "mimetype": "text/x-python",
   "name": "python",
   "nbconvert_exporter": "python",
   "pygments_lexer": "ipython3",
   "version": "3.8.6rc1"
  }
 },
 "nbformat": 4,
 "nbformat_minor": 5
}
