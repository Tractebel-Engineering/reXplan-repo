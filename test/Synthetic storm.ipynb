{
 "cells": [
  {
   "cell_type": "code",
   "execution_count": 1,
   "id": "foster-hunger",
   "metadata": {},
   "outputs": [],
   "source": [
    "import numpy as np\n",
    "import xarray as xr\n",
    "import pandas as pd"
   ]
  },
  {
   "cell_type": "code",
   "execution_count": 2,
   "id": "continuing-marsh",
   "metadata": {},
   "outputs": [],
   "source": [
    "colnames1 = ['DateTime','latitude','longitude', 'wind_speed']\n",
    "\n",
    "latitudes = [i * 0.1 for i in list(range(474, 549, 1))]\n",
    "longitudes = [i * 0.1 for i in list(range(58, 150, 1))]\n",
    "\n",
    "df_latitudes, df_longitudes = [],[]\n",
    "for lat in latitudes:\n",
    "    df_latitudes.append([lat]*len(longitudes))\n",
    "    df_longitudes.append(longitudes)\n",
    "df_latitudes = np.array(df_latitudes).flatten()\n",
    "df_longitudes = np.array(df_longitudes).flatten()\n",
    "\n",
    "dates = pd.read_excel('dates.xlsx', header=None)\n",
    "dtime = pd.to_datetime(dates.values)\n",
    "\n",
    "df_dates = []\n",
    "for date in dtime:\n",
    "    df_dates.append([date[0]]*len(df_longitudes))\n",
    "    \n",
    "df_dates = np.array(df_dates).flatten()\n",
    "df_latitudes = np.array([df_latitudes]*len(dtime)).flatten()\n",
    "df_longitudes = np.array([df_longitudes]*len(dtime)).flatten()\n",
    "\n",
    "df_trajectory=pd.read_excel('trajectory.xlsx', header=0)\n",
    "df_trajectory['time'].apply(pd.to_datetime)\n",
    "\n",
    "max_speed = 60\n",
    "max_radius = 2\n",
    "df_wspeed = []\n",
    "for time in dtime:\n",
    "    t_lon = df_trajectory.loc[df_trajectory['time'] == time[0], 'lon'].iloc[0]\n",
    "    t_lat = df_trajectory.loc[df_trajectory['time'] == time[0], 'lat'].iloc[0]\n",
    "    intensity = max_speed*df_trajectory.loc[df_trajectory['time'] == time[0], 'intensity'].iloc[0]\n",
    "    radius = max_radius*df_trajectory.loc[df_trajectory['time'] == time[0], 'radius'].iloc[0]\n",
    "    for lat in latitudes:\n",
    "        for lon in longitudes:\n",
    "            dist = (lon - t_lon)**2 + (lat - t_lat)**2\n",
    "            if dist == 0:\n",
    "                df_wspeed.append(intensity)\n",
    "            elif dist <= radius**2:\n",
    "                df_wspeed.append(intensity*(1-(dist/radius**2)))\n",
    "            else:\n",
    "                df_wspeed.append(0)\n",
    "\n",
    "df = pd.DataFrame(list(zip(df_dates, df_latitudes, df_longitudes, df_wspeed)),\n",
    "                  columns  =colnames1)"
   ]
  },
  {
   "cell_type": "code",
   "execution_count": 3,
   "id": "completed-globe",
   "metadata": {},
   "outputs": [
    {
     "data": {
      "text/html": [
       "<div>\n",
       "<style scoped>\n",
       "    .dataframe tbody tr th:only-of-type {\n",
       "        vertical-align: middle;\n",
       "    }\n",
       "\n",
       "    .dataframe tbody tr th {\n",
       "        vertical-align: top;\n",
       "    }\n",
       "\n",
       "    .dataframe thead th {\n",
       "        text-align: right;\n",
       "    }\n",
       "</style>\n",
       "<table border=\"1\" class=\"dataframe\">\n",
       "  <thead>\n",
       "    <tr style=\"text-align: right;\">\n",
       "      <th></th>\n",
       "      <th>DateTime</th>\n",
       "      <th>latitude</th>\n",
       "      <th>longitude</th>\n",
       "      <th>wind_speed</th>\n",
       "    </tr>\n",
       "  </thead>\n",
       "  <tbody>\n",
       "    <tr>\n",
       "      <th>0</th>\n",
       "      <td>2022-04-01 01:00:00.000</td>\n",
       "      <td>47.4</td>\n",
       "      <td>5.8</td>\n",
       "      <td>3.810</td>\n",
       "    </tr>\n",
       "    <tr>\n",
       "      <th>1</th>\n",
       "      <td>2022-04-01 01:00:00.000</td>\n",
       "      <td>47.4</td>\n",
       "      <td>5.9</td>\n",
       "      <td>4.125</td>\n",
       "    </tr>\n",
       "    <tr>\n",
       "      <th>2</th>\n",
       "      <td>2022-04-01 01:00:00.000</td>\n",
       "      <td>47.4</td>\n",
       "      <td>6.0</td>\n",
       "      <td>4.410</td>\n",
       "    </tr>\n",
       "    <tr>\n",
       "      <th>3</th>\n",
       "      <td>2022-04-01 01:00:00.000</td>\n",
       "      <td>47.4</td>\n",
       "      <td>6.1</td>\n",
       "      <td>4.665</td>\n",
       "    </tr>\n",
       "    <tr>\n",
       "      <th>4</th>\n",
       "      <td>2022-04-01 01:00:00.000</td>\n",
       "      <td>47.4</td>\n",
       "      <td>6.2</td>\n",
       "      <td>4.890</td>\n",
       "    </tr>\n",
       "    <tr>\n",
       "      <th>...</th>\n",
       "      <td>...</td>\n",
       "      <td>...</td>\n",
       "      <td>...</td>\n",
       "      <td>...</td>\n",
       "    </tr>\n",
       "    <tr>\n",
       "      <th>331195</th>\n",
       "      <td>2022-04-02 23:59:59.910</td>\n",
       "      <td>54.8</td>\n",
       "      <td>14.5</td>\n",
       "      <td>0.000</td>\n",
       "    </tr>\n",
       "    <tr>\n",
       "      <th>331196</th>\n",
       "      <td>2022-04-02 23:59:59.910</td>\n",
       "      <td>54.8</td>\n",
       "      <td>14.6</td>\n",
       "      <td>0.000</td>\n",
       "    </tr>\n",
       "    <tr>\n",
       "      <th>331197</th>\n",
       "      <td>2022-04-02 23:59:59.910</td>\n",
       "      <td>54.8</td>\n",
       "      <td>14.7</td>\n",
       "      <td>0.000</td>\n",
       "    </tr>\n",
       "    <tr>\n",
       "      <th>331198</th>\n",
       "      <td>2022-04-02 23:59:59.910</td>\n",
       "      <td>54.8</td>\n",
       "      <td>14.8</td>\n",
       "      <td>0.000</td>\n",
       "    </tr>\n",
       "    <tr>\n",
       "      <th>331199</th>\n",
       "      <td>2022-04-02 23:59:59.910</td>\n",
       "      <td>54.8</td>\n",
       "      <td>14.9</td>\n",
       "      <td>0.000</td>\n",
       "    </tr>\n",
       "  </tbody>\n",
       "</table>\n",
       "<p>331200 rows × 4 columns</p>\n",
       "</div>"
      ],
      "text/plain": [
       "                      DateTime  latitude  longitude  wind_speed\n",
       "0      2022-04-01 01:00:00.000      47.4        5.8       3.810\n",
       "1      2022-04-01 01:00:00.000      47.4        5.9       4.125\n",
       "2      2022-04-01 01:00:00.000      47.4        6.0       4.410\n",
       "3      2022-04-01 01:00:00.000      47.4        6.1       4.665\n",
       "4      2022-04-01 01:00:00.000      47.4        6.2       4.890\n",
       "...                        ...       ...        ...         ...\n",
       "331195 2022-04-02 23:59:59.910      54.8       14.5       0.000\n",
       "331196 2022-04-02 23:59:59.910      54.8       14.6       0.000\n",
       "331197 2022-04-02 23:59:59.910      54.8       14.7       0.000\n",
       "331198 2022-04-02 23:59:59.910      54.8       14.8       0.000\n",
       "331199 2022-04-02 23:59:59.910      54.8       14.9       0.000\n",
       "\n",
       "[331200 rows x 4 columns]"
      ]
     },
     "execution_count": 3,
     "metadata": {},
     "output_type": "execute_result"
    }
   ],
   "source": [
    "df"
   ]
  },
  {
   "cell_type": "code",
   "execution_count": 4,
   "id": "perceived-radical",
   "metadata": {},
   "outputs": [],
   "source": [
    "# create xray Dataset from Pandas DataFrame\n",
    "xr1 = df.set_index(['DateTime', 'latitude', 'longitude']).to_xarray()\n",
    "xr1['latitude'].attrs={'units':'degrees', 'long_name':'Latitude'}\n",
    "xr1['longitude'].attrs={'units':'degrees', 'long_name':'Longitude'}\n",
    "xr1['wind_speed'].attrs={'units':'m/s', 'long_name':'wind speed'}\n",
    "xr1.attrs={'Conventions':'CF-1.6', 'title':'Sythetic storm', 'summary':'Wind speed data'}\n",
    "\n",
    "# save to netCDF\n",
    "fn = 'sythetic_data.nc'\n",
    "xr1.to_netcdf(fn)"
   ]
  },
  {
   "cell_type": "code",
   "execution_count": 5,
   "id": "israeli-package",
   "metadata": {},
   "outputs": [],
   "source": [
    "import netCDF4 as nc\n",
    "import matplotlib.pyplot as plt"
   ]
  },
  {
   "cell_type": "code",
   "execution_count": 6,
   "id": "ordered-stylus",
   "metadata": {},
   "outputs": [],
   "source": [
    "ds = nc.Dataset(fn)"
   ]
  },
  {
   "cell_type": "code",
   "execution_count": 7,
   "id": "white-manual",
   "metadata": {},
   "outputs": [
    {
     "data": {
      "text/plain": [
       "<class 'netCDF4._netCDF4.Dataset'>\n",
       "root group (NETCDF4 data model, file format HDF5):\n",
       "    Conventions: CF-1.6\n",
       "    title: Sythetic storm\n",
       "    summary: Wind speed data\n",
       "    dimensions(sizes): DateTime(48), latitude(75), longitude(92)\n",
       "    variables(dimensions): int64 DateTime(DateTime), float64 latitude(latitude), float64 longitude(longitude), float64 wind_speed(DateTime, latitude, longitude)\n",
       "    groups: "
      ]
     },
     "execution_count": 7,
     "metadata": {},
     "output_type": "execute_result"
    }
   ],
   "source": [
    "ds"
   ]
  },
  {
   "cell_type": "code",
   "execution_count": null,
   "id": "blind-boxing",
   "metadata": {},
   "outputs": [],
   "source": []
  },
  {
   "cell_type": "code",
   "execution_count": 9,
   "id": "primary-mountain",
   "metadata": {
    "scrolled": false
   },
   "outputs": [
    {
     "name": "stderr",
     "output_type": "stream",
     "text": [
      "<ipython-input-9-bd77bdc26a1e>:19: MatplotlibDeprecationWarning: shading='flat' when X and Y have the same dimensions as C is deprecated since 3.3.  Either specify the corners of the quadrilaterals with X and Y, or pass shading='auto', 'nearest' or 'gouraud', or set rcParams['pcolor.shading'].  This will become an error two minor releases later.\n",
      "  c_scheme = mp.pcolor(x,y,np.squeeze(ws[20,:,:]),cmap = 'jet') # [0,:,:] is for the first day of the year\n"
     ]
    },
    {
     "data": {
      "image/png": "[encoded data removed]",
      "text/plain": [
       "<Figure size 432x576 with 2 Axes>"
      ]
     },
     "metadata": {
      "needs_background": "light"
     },
     "output_type": "display_data"
    }
   ],
   "source": [
    "ws = ds['wind_speed'][:]\n",
    "lon = ds['longitude'][:]\n",
    "lat = ds['latitude'][:]\n",
    "time = ds['DateTime'][:]\n",
    "\n",
    "time_var = ds.variables['DateTime']\n",
    "dtime = nc.num2date(time_var[:],time_var.units)\n",
    "\n",
    "from mpl_toolkits.basemap import Basemap\n",
    "mp = Basemap(llcrnrlon=5.8,   # lower longitude\n",
    "             llcrnrlat=47.4,    # lower latitude\n",
    "             urcrnrlon=15.0,   # uppper longitude\n",
    "             urcrnrlat=54.9)\n",
    "\n",
    "# Here you can plot the intensity over the map for a specific time\n",
    "long, lats = np.meshgrid(lon,lat)  #this converts coordinates into 2D arrray\n",
    "x,y = mp(long, lats) #mapping them together \n",
    "plt.figure(figsize=(6,8)) #figure size \n",
    "c_scheme = mp.pcolor(x,y,np.squeeze(ws[20,:,:]),cmap = 'jet') # [0,:,:] is for the first day of the year\n",
    "\n",
    "# consider this as the outline for the map that is to be created \n",
    "mp.drawcoastlines()\n",
    "mp.drawstates()\n",
    "mp.drawcountries()\n",
    "\n",
    "cbar = mp.colorbar(c_scheme,location='right',pad = '10%') # map information\n",
    "plt.title('Wind speed')\n",
    "plt.show()\n",
    "\n",
    "#plt.savefig('tave.jpg',dpi=300) #saves the image generated"
   ]
  },
  {
   "cell_type": "code",
   "execution_count": null,
   "id": "permanent-package",
   "metadata": {},
   "outputs": [],
   "source": []
  }
 ],
 "metadata": {
  "kernelspec": {
   "display_name": "Python 3",
   "language": "python",
   "name": "python3"
  },
  "language_info": {
   "codemirror_mode": {
    "name": "ipython",
    "version": 3
   },
   "file_extension": ".py",
   "mimetype": "text/x-python",
   "name": "python",
   "nbconvert_exporter": "python",
   "pygments_lexer": "ipython3",
   "version": "3.8.6rc1"
  }
 },
 "nbformat": 4,
 "nbformat_minor": 5
}
